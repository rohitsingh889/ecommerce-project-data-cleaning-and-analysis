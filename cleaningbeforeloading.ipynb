{
 "cells": [
  {
   "cell_type": "code",
   "execution_count": 7,
   "id": "ca987065",
   "metadata": {},
   "outputs": [],
   "source": [
    "import pandas as pd"
   ]
  },
  {
   "cell_type": "code",
   "execution_count": 8,
   "id": "cfb44aaf",
   "metadata": {},
   "outputs": [],
   "source": [
    "payments=pd.read_csv(r'C:\\DE\\csv files data\\Brazilian E-Commerce\\Cleanedolist_order_payments_dataset.csv')\n",
    "products=pd.read_csv(r'C:\\DE\\csv files data\\Brazilian E-Commerce\\Cleanedolist_products_dataset_cleaned.csv')\n",
    "reviews=pd.read_csv(r'C:\\DE\\csv files data\\Brazilian E-Commerce\\Cleanedolist_order_reviews_dataset.csv')\n",
    "orders_dataset=pd.read_csv(r'C:\\DE\\csv files data\\Brazilian E-Commerce\\Cleanedolist_orders_dataset.csv')\n",
    "order_items=pd.read_csv(r'C:\\DE\\csv files data\\Brazilian E-Commerce\\Cleanedolist_order_items_dataset.csv')\n",
    "sellers=pd.read_csv(r'C:\\DE\\csv files data\\Brazilian E-Commerce\\Cleaned_olist_sellers_dataset.csv')\n",
    "customers=pd.read_csv(r'C:\\DE\\csv files data\\Brazilian E-Commerce\\cleaned_olist_customers_dataset.csv')\n",
    "geolocation = pd.read_csv(r'C:\\DE\\csv files data\\Brazilian E-Commerce\\Cleanedolist_geolocation_dataset.csv')\n",
    "product_category_name=pd.read_csv(r'C:\\DE\\csv files data\\Brazilian E-Commerce\\cleaned_olist_customers_dataset.csv')"
   ]
  },
  {
   "cell_type": "code",
   "execution_count": null,
   "id": "52cc508e",
   "metadata": {},
   "outputs": [],
   "source": [
    "customers = customers.drop(columns=['Unnamed: 0'])\n"
   ]
  },
  {
   "cell_type": "code",
   "execution_count": null,
   "id": "c7324a06",
   "metadata": {},
   "outputs": [],
   "source": [
    "product_category_name.rename(columns={'ï»¿product_category_name': 'product_category_name'}, inplace=True)\n"
   ]
  },
  {
   "cell_type": "code",
   "execution_count": null,
   "id": "b3b316b5",
   "metadata": {},
   "outputs": [],
   "source": [
    "customers.to_csv(r'C:\\DE\\csv files data\\Brazilian E-Commerce\\cleaned_olist_customers_dataset.csv', index=False)"
   ]
  },
  {
   "cell_type": "code",
   "execution_count": null,
   "id": "c17b22f8",
   "metadata": {},
   "outputs": [],
   "source": [
    "product_category_name.to_csv(r'C:\\DE\\csv files data\\Brazilian E-Commerce\\cleaned_olist_customers_dataset.csv', index=False)"
   ]
  }
 ],
 "metadata": {
  "kernelspec": {
   "display_name": "base",
   "language": "python",
   "name": "python3"
  },
  "language_info": {
   "codemirror_mode": {
    "name": "ipython",
    "version": 3
   },
   "file_extension": ".py",
   "mimetype": "text/x-python",
   "name": "python",
   "nbconvert_exporter": "python",
   "pygments_lexer": "ipython3",
   "version": "3.13.5"
  }
 },
 "nbformat": 4,
 "nbformat_minor": 5
}
