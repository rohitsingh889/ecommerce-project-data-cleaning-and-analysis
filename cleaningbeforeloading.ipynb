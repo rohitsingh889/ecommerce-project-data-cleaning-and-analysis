{
 "cells": [
  {
   "cell_type": "code",
   "execution_count": 31,
   "id": "ca987065",
   "metadata": {},
   "outputs": [],
   "source": [
    "import pandas as pd"
   ]
  },
  {
   "cell_type": "code",
   "execution_count": 32,
   "id": "cfb44aaf",
   "metadata": {},
   "outputs": [],
   "source": [
    "payments=pd.read_csv(r'C:\\DE\\csv files data\\Brazilian E-Commerce\\Cleanedolist_order_payments_dataset.csv')\n",
    "products=pd.read_csv(r'C:\\DE\\csv files data\\Brazilian E-Commerce\\Cleanedolist_products_dataset_cleaned.csv')\n",
    "reviews=pd.read_csv(r'C:\\DE\\csv files data\\Brazilian E-Commerce\\Cleanedolist_order_reviews_dataset.csv')\n",
    "orders_dataset=pd.read_csv(r'C:\\DE\\csv files data\\Brazilian E-Commerce\\Cleanedolist_orders_dataset.csv')\n",
    "order_items=pd.read_csv(r'C:\\DE\\csv files data\\Brazilian E-Commerce\\Cleanedolist_order_items_dataset.csv')\n",
    "sellers=pd.read_csv(r'C:\\DE\\csv files data\\Brazilian E-Commerce\\Cleaned_olist_sellers_dataset.csv')\n",
    "customers=pd.read_csv(r'C:\\DE\\csv files data\\Brazilian E-Commerce\\cleaned_olist_customers_dataset.csv')\n",
    "geolocation = pd.read_csv(r'C:\\DE\\csv files data\\Brazilian E-Commerce\\Cleanedolist_geolocation_dataset.csv')\n",
    "product_category_name=pd.read_csv(r'C:\\DE\\csv files data\\Brazilian E-Commerce\\Cleaned_product_category_name_translation.csv')"
   ]
  },
  {
   "cell_type": "code",
   "execution_count": 33,
   "id": "d0795a69",
   "metadata": {},
   "outputs": [
    {
     "name": "stdout",
     "output_type": "stream",
     "text": [
      "\n",
      "Columns in payments:\n",
      "['order_id', 'payment_sequential', 'payment_type', 'payment_installments', 'payment_value']\n",
      "\n",
      "Columns in products:\n",
      "['product_id', 'product_category_name', 'product_name_lenght', 'product_description_lenght', 'product_photos_qty', 'product_weight_g', 'product_length_cm', 'product_height_cm', 'product_width_cm']\n",
      "\n",
      "Columns in reviews:\n",
      "['review_id', 'order_id', 'review_score', 'review_comment_title', 'review_comment_message', 'review_creation_date', 'review_answer_timestamp']\n",
      "\n",
      "Columns in orders_dataset:\n",
      "['order_id', 'customer_id', 'order_status', 'order_purchase_timestamp', 'order_approved_at', 'order_delivered_carrier_date', 'order_delivered_customer_date', 'order_estimated_delivery_date', 'approval_time_hours', 'carrier_delivery_time_hours', 'customer_delivery_time_hours']\n",
      "\n",
      "Columns in order_items:\n",
      "['order_id', 'order_item_id', 'product_id', 'seller_id', 'shipping_limit_date', 'price', 'freight_value', 'total_item_value']\n",
      "\n",
      "Columns in sellers:\n",
      "['seller_id', 'seller_zip_code_prefix', 'seller_city', 'seller_state']\n",
      "\n",
      "Columns in customers:\n",
      "['Unnamed: 0', 'customer_id', 'customer_unique_id', 'customer_zip_code_prefix', 'customer_city', 'customer_state']\n",
      "\n",
      "Columns in geolocation:\n",
      "['zip_code', 'latitude', 'longitude', 'geolocation_city', 'geolocation_state']\n",
      "\n",
      "Columns in product_category_name:\n",
      "['product_category_name', 'product_category_name_english']\n"
     ]
    }
   ],
   "source": [
    "def print_columns(df, name):\n",
    "    print(f\"\\nColumns in {name}:\")\n",
    "    print(df.columns.tolist())\n",
    "\n",
    "# Call for each dataset\n",
    "print_columns(payments, \"payments\")\n",
    "print_columns(products, \"products\")\n",
    "print_columns(reviews, \"reviews\")\n",
    "print_columns(orders_dataset, \"orders_dataset\")\n",
    "print_columns(order_items, \"order_items\")\n",
    "print_columns(sellers, \"sellers\")\n",
    "print_columns(customers, \"customers\")\n",
    "print_columns(geolocation, \"geolocation\")\n",
    "print_columns(product_category_name, \"product_category_name\")"
   ]
  },
  {
   "cell_type": "code",
   "execution_count": 34,
   "id": "b142f817",
   "metadata": {},
   "outputs": [],
   "source": [
    "if 'Unnamed: 0' in customers.columns:\n",
    "    customers.drop(columns=['Unnamed: 0'], inplace=True)"
   ]
  },
  {
   "cell_type": "code",
   "execution_count": 35,
   "id": "c7324a06",
   "metadata": {},
   "outputs": [],
   "source": [
    "product_category_name.rename(columns={'ï»¿product_category_name': 'product_category_name'}, inplace=True)\n"
   ]
  },
  {
   "cell_type": "code",
   "execution_count": 36,
   "id": "b3b316b5",
   "metadata": {},
   "outputs": [],
   "source": [
    "customers.to_csv(r'C:\\DE\\csv files data\\Brazilian E-Commerce\\cleaned_olist_customers_dataset.csv', index=False)"
   ]
  },
  {
   "cell_type": "code",
   "execution_count": 37,
   "id": "c17b22f8",
   "metadata": {},
   "outputs": [],
   "source": [
    "product_category_name.to_csv(r'C:\\DE\\csv files data\\Brazilian E-Commerce\\Cleaned_product_category_name_translation.csv', index=False)"
   ]
  },
  {
   "cell_type": "code",
   "execution_count": 38,
   "id": "e835dabd",
   "metadata": {},
   "outputs": [
    {
     "data": {
      "application/vnd.microsoft.datawrangler.viewer.v0+json": {
       "columns": [
        {
         "name": "index",
         "rawType": "int64",
         "type": "integer"
        },
        {
         "name": "customer_id",
         "rawType": "object",
         "type": "string"
        },
        {
         "name": "customer_unique_id",
         "rawType": "object",
         "type": "string"
        },
        {
         "name": "customer_zip_code_prefix",
         "rawType": "int64",
         "type": "integer"
        },
        {
         "name": "customer_city",
         "rawType": "object",
         "type": "string"
        },
        {
         "name": "customer_state",
         "rawType": "object",
         "type": "string"
        }
       ],
       "ref": "923afd59-5e3c-475b-9aa4-6ee7e039a5ec",
       "rows": [
        [
         "0",
         "06b8999e2fba1a1fbc88172c00ba8bc7",
         "861eff4711a542e4b93843c6dd7febb0",
         "14409",
         "Franca",
         "SP"
        ],
        [
         "1",
         "18955e83d337fd6b2def6b18a428ac77",
         "290c77bc529b7ac935b93aa66c333dc3",
         "9790",
         "Sao Bernardo Do Campo",
         "SP"
        ],
        [
         "2",
         "4e7b3e00288586ebd08712fdd0374a03",
         "060e732b5b29e8181a18229c7b0b2b5e",
         "1151",
         "Sao Paulo",
         "SP"
        ],
        [
         "3",
         "b2b6027bc5c5109e529d4dc6358b12c3",
         "259dac757896d24d7702b9acbbff3f3c",
         "8775",
         "Mogi Das Cruzes",
         "SP"
        ],
        [
         "4",
         "4f2d8ab171c80ec8364f7c12e35b23ad",
         "345ecd01c38d18a9036ed96c73b8d066",
         "13056",
         "Campinas",
         "SP"
        ]
       ],
       "shape": {
        "columns": 5,
        "rows": 5
       }
      },
      "text/html": [
       "<div>\n",
       "<style scoped>\n",
       "    .dataframe tbody tr th:only-of-type {\n",
       "        vertical-align: middle;\n",
       "    }\n",
       "\n",
       "    .dataframe tbody tr th {\n",
       "        vertical-align: top;\n",
       "    }\n",
       "\n",
       "    .dataframe thead th {\n",
       "        text-align: right;\n",
       "    }\n",
       "</style>\n",
       "<table border=\"1\" class=\"dataframe\">\n",
       "  <thead>\n",
       "    <tr style=\"text-align: right;\">\n",
       "      <th></th>\n",
       "      <th>customer_id</th>\n",
       "      <th>customer_unique_id</th>\n",
       "      <th>customer_zip_code_prefix</th>\n",
       "      <th>customer_city</th>\n",
       "      <th>customer_state</th>\n",
       "    </tr>\n",
       "  </thead>\n",
       "  <tbody>\n",
       "    <tr>\n",
       "      <th>0</th>\n",
       "      <td>06b8999e2fba1a1fbc88172c00ba8bc7</td>\n",
       "      <td>861eff4711a542e4b93843c6dd7febb0</td>\n",
       "      <td>14409</td>\n",
       "      <td>Franca</td>\n",
       "      <td>SP</td>\n",
       "    </tr>\n",
       "    <tr>\n",
       "      <th>1</th>\n",
       "      <td>18955e83d337fd6b2def6b18a428ac77</td>\n",
       "      <td>290c77bc529b7ac935b93aa66c333dc3</td>\n",
       "      <td>9790</td>\n",
       "      <td>Sao Bernardo Do Campo</td>\n",
       "      <td>SP</td>\n",
       "    </tr>\n",
       "    <tr>\n",
       "      <th>2</th>\n",
       "      <td>4e7b3e00288586ebd08712fdd0374a03</td>\n",
       "      <td>060e732b5b29e8181a18229c7b0b2b5e</td>\n",
       "      <td>1151</td>\n",
       "      <td>Sao Paulo</td>\n",
       "      <td>SP</td>\n",
       "    </tr>\n",
       "    <tr>\n",
       "      <th>3</th>\n",
       "      <td>b2b6027bc5c5109e529d4dc6358b12c3</td>\n",
       "      <td>259dac757896d24d7702b9acbbff3f3c</td>\n",
       "      <td>8775</td>\n",
       "      <td>Mogi Das Cruzes</td>\n",
       "      <td>SP</td>\n",
       "    </tr>\n",
       "    <tr>\n",
       "      <th>4</th>\n",
       "      <td>4f2d8ab171c80ec8364f7c12e35b23ad</td>\n",
       "      <td>345ecd01c38d18a9036ed96c73b8d066</td>\n",
       "      <td>13056</td>\n",
       "      <td>Campinas</td>\n",
       "      <td>SP</td>\n",
       "    </tr>\n",
       "  </tbody>\n",
       "</table>\n",
       "</div>"
      ],
      "text/plain": [
       "                        customer_id                customer_unique_id  \\\n",
       "0  06b8999e2fba1a1fbc88172c00ba8bc7  861eff4711a542e4b93843c6dd7febb0   \n",
       "1  18955e83d337fd6b2def6b18a428ac77  290c77bc529b7ac935b93aa66c333dc3   \n",
       "2  4e7b3e00288586ebd08712fdd0374a03  060e732b5b29e8181a18229c7b0b2b5e   \n",
       "3  b2b6027bc5c5109e529d4dc6358b12c3  259dac757896d24d7702b9acbbff3f3c   \n",
       "4  4f2d8ab171c80ec8364f7c12e35b23ad  345ecd01c38d18a9036ed96c73b8d066   \n",
       "\n",
       "   customer_zip_code_prefix          customer_city customer_state  \n",
       "0                     14409                 Franca             SP  \n",
       "1                      9790  Sao Bernardo Do Campo             SP  \n",
       "2                      1151              Sao Paulo             SP  \n",
       "3                      8775        Mogi Das Cruzes             SP  \n",
       "4                     13056               Campinas             SP  "
      ]
     },
     "execution_count": 38,
     "metadata": {},
     "output_type": "execute_result"
    }
   ],
   "source": [
    "customers.head()"
   ]
  },
  {
   "cell_type": "code",
   "execution_count": 39,
   "id": "2d375b44",
   "metadata": {},
   "outputs": [
    {
     "name": "stdout",
     "output_type": "stream",
     "text": [
      "\n",
      "Columns in payments:\n",
      "['order_id', 'payment_sequential', 'payment_type', 'payment_installments', 'payment_value']\n",
      "\n",
      "Columns in products:\n",
      "['product_id', 'product_category_name', 'product_name_lenght', 'product_description_lenght', 'product_photos_qty', 'product_weight_g', 'product_length_cm', 'product_height_cm', 'product_width_cm']\n",
      "\n",
      "Columns in reviews:\n",
      "['review_id', 'order_id', 'review_score', 'review_comment_title', 'review_comment_message', 'review_creation_date', 'review_answer_timestamp']\n",
      "\n",
      "Columns in orders_dataset:\n",
      "['order_id', 'customer_id', 'order_status', 'order_purchase_timestamp', 'order_approved_at', 'order_delivered_carrier_date', 'order_delivered_customer_date', 'order_estimated_delivery_date', 'approval_time_hours', 'carrier_delivery_time_hours', 'customer_delivery_time_hours']\n",
      "\n",
      "Columns in order_items:\n",
      "['order_id', 'order_item_id', 'product_id', 'seller_id', 'shipping_limit_date', 'price', 'freight_value', 'total_item_value']\n",
      "\n",
      "Columns in sellers:\n",
      "['seller_id', 'seller_zip_code_prefix', 'seller_city', 'seller_state']\n",
      "\n",
      "Columns in customers:\n",
      "['customer_id', 'customer_unique_id', 'customer_zip_code_prefix', 'customer_city', 'customer_state']\n",
      "\n",
      "Columns in geolocation:\n",
      "['zip_code', 'latitude', 'longitude', 'geolocation_city', 'geolocation_state']\n",
      "\n",
      "Columns in product_category_name:\n",
      "['product_category_name', 'product_category_name_english']\n"
     ]
    }
   ],
   "source": [
    "def print_columns(df, name):\n",
    "    print(f\"\\nColumns in {name}:\")\n",
    "    print(df.columns.tolist())\n",
    "\n",
    "# Call for each dataset\n",
    "print_columns(payments, \"payments\")\n",
    "print_columns(products, \"products\")\n",
    "print_columns(reviews, \"reviews\")\n",
    "print_columns(orders_dataset, \"orders_dataset\")\n",
    "print_columns(order_items, \"order_items\")\n",
    "print_columns(sellers, \"sellers\")\n",
    "print_columns(customers, \"customers\")\n",
    "print_columns(geolocation, \"geolocation\")\n",
    "print_columns(product_category_name, \"product_category_name\")"
   ]
  }
 ],
 "metadata": {
  "kernelspec": {
   "display_name": "base",
   "language": "python",
   "name": "python3"
  },
  "language_info": {
   "codemirror_mode": {
    "name": "ipython",
    "version": 3
   },
   "file_extension": ".py",
   "mimetype": "text/x-python",
   "name": "python",
   "nbconvert_exporter": "python",
   "pygments_lexer": "ipython3",
   "version": "3.13.5"
  }
 },
 "nbformat": 4,
 "nbformat_minor": 5
}
