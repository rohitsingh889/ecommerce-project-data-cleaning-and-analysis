{
 "cells": [
  {
   "cell_type": "code",
   "execution_count": 1,
   "id": "487733fd",
   "metadata": {},
   "outputs": [],
   "source": [
    "import pandas as pd"
   ]
  },
  {
   "cell_type": "code",
   "execution_count": 2,
   "id": "776b218f",
   "metadata": {},
   "outputs": [],
   "source": [
    "df= pd.read_csv(r'C:\\DE\\csv files data\\Brazilian E-Commerce\\olist_customers_dataset.csv')"
   ]
  },
  {
   "cell_type": "code",
   "execution_count": 3,
   "id": "3723e2d2",
   "metadata": {},
   "outputs": [
    {
     "data": {
      "application/vnd.microsoft.datawrangler.viewer.v0+json": {
       "columns": [
        {
         "name": "index",
         "rawType": "int64",
         "type": "integer"
        },
        {
         "name": "customer_id",
         "rawType": "object",
         "type": "string"
        },
        {
         "name": "customer_unique_id",
         "rawType": "object",
         "type": "string"
        },
        {
         "name": "customer_zip_code_prefix",
         "rawType": "int64",
         "type": "integer"
        },
        {
         "name": "customer_city",
         "rawType": "object",
         "type": "string"
        },
        {
         "name": "customer_state",
         "rawType": "object",
         "type": "string"
        }
       ],
       "ref": "2afaef97-6eb0-4d75-b6f1-d1218cdd7ba3",
       "rows": [
        [
         "0",
         "06b8999e2fba1a1fbc88172c00ba8bc7",
         "861eff4711a542e4b93843c6dd7febb0",
         "14409",
         "franca",
         "SP"
        ],
        [
         "1",
         "18955e83d337fd6b2def6b18a428ac77",
         "290c77bc529b7ac935b93aa66c333dc3",
         "9790",
         "sao bernardo do campo",
         "SP"
        ],
        [
         "2",
         "4e7b3e00288586ebd08712fdd0374a03",
         "060e732b5b29e8181a18229c7b0b2b5e",
         "1151",
         "sao paulo",
         "SP"
        ],
        [
         "3",
         "b2b6027bc5c5109e529d4dc6358b12c3",
         "259dac757896d24d7702b9acbbff3f3c",
         "8775",
         "mogi das cruzes",
         "SP"
        ],
        [
         "4",
         "4f2d8ab171c80ec8364f7c12e35b23ad",
         "345ecd01c38d18a9036ed96c73b8d066",
         "13056",
         "campinas",
         "SP"
        ],
        [
         "5",
         "879864dab9bc3047522c92c82e1212b8",
         "4c93744516667ad3b8f1fb645a3116a4",
         "89254",
         "jaragua do sul",
         "SC"
        ],
        [
         "6",
         "fd826e7cf63160e536e0908c76c3f441",
         "addec96d2e059c80c30fe6871d30d177",
         "4534",
         "sao paulo",
         "SP"
        ],
        [
         "7",
         "5e274e7a0c3809e14aba7ad5aae0d407",
         "57b2a98a409812fe9618067b6b8ebe4f",
         "35182",
         "timoteo",
         "MG"
        ],
        [
         "8",
         "5adf08e34b2e993982a47070956c5c65",
         "1175e95fb47ddff9de6b2b06188f7e0d",
         "81560",
         "curitiba",
         "PR"
        ],
        [
         "9",
         "4b7139f34592b3a31687243a302fa75b",
         "9afe194fb833f79e300e37e580171f22",
         "30575",
         "belo horizonte",
         "MG"
        ],
        [
         "10",
         "9fb35e4ed6f0a14a4977cd9aea4042bb",
         "2a7745e1ed516b289ed9b29c7d0539a5",
         "39400",
         "montes claros",
         "MG"
        ],
        [
         "11",
         "5aa9e4fdd4dfd20959cad2d772509598",
         "2a46fb94aef5cbeeb850418118cee090",
         "20231",
         "rio de janeiro",
         "RJ"
        ],
        [
         "12",
         "b2d1536598b73a9abd18e0d75d92f0a3",
         "918dc87cd72cd9f6ed4bd442ed785235",
         "18682",
         "lencois paulista",
         "SP"
        ],
        [
         "13",
         "eabebad39a88bb6f5b52376faec28612",
         "295c05e81917928d76245e842748184d",
         "5704",
         "sao paulo",
         "SP"
        ],
        [
         "14",
         "1f1c7bf1c9b041b292af6c1c4470b753",
         "3151a81801c8386361b62277d7fa5ecf",
         "95110",
         "caxias do sul",
         "RS"
        ],
        [
         "15",
         "206f3129c0e4d7d0b9550426023f0a08",
         "21f748a16f4e1688a9014eb3ee6fa325",
         "13412",
         "piracicaba",
         "SP"
        ],
        [
         "16",
         "a7c125a0a07b75146167b7f04a7f8e98",
         "5c2991dbd08bbf3cf410713c4de5a0b5",
         "22750",
         "rio de janeiro",
         "RJ"
        ],
        [
         "17",
         "c5c61596a3b6bd0cee5766992c48a9a1",
         "b6e99561fe6f34a55b0b7da92f8ed775",
         "7124",
         "guarulhos",
         "SP"
        ],
        [
         "18",
         "9b8ce803689b3562defaad4613ef426f",
         "7f3a72e8f988c6e735ba118d54f47458",
         "5416",
         "sao paulo",
         "SP"
        ],
        [
         "19",
         "49d0ea0986edde72da777f15456a0ee0",
         "3e6fd6b2f0d499456a6a6820a40f2d79",
         "68485",
         "pacaja",
         "PA"
        ],
        [
         "20",
         "154c4ded6991bdfa3cd249d11abf4130",
         "e607ede0e63436308660236f5a52da5e",
         "88034",
         "florianopolis",
         "SC"
        ],
        [
         "21",
         "690172ab319622688d3b4df42f676898",
         "a96d5cfa0d3181817e2b946f921ea021",
         "74914",
         "aparecida de goiania",
         "GO"
        ],
        [
         "22",
         "2938121a40a20953c43caa8c98787fcb",
         "482441ea6a06b1f72fe9784756c0ea75",
         "5713",
         "sao paulo",
         "SP"
        ],
        [
         "23",
         "237098a64674ae89babdc426746260fc",
         "4390ddbb6276a66ff1736a6710205dca",
         "82820",
         "curitiba",
         "PR"
        ],
        [
         "24",
         "cb721d7b4f271fd87011c4c83462c076",
         "a5844ba4bfc8d0cc61d13027c7e63bcc",
         "8225",
         "sao paulo",
         "SP"
        ],
        [
         "25",
         "f681356046d9fde60e70c73a18d65ea2",
         "5f102dd37243f152aec3607970aad100",
         "9121",
         "santo andre",
         "SP"
        ],
        [
         "26",
         "167bd30a409e3e4127df5a9408ebd394",
         "9c0096673baf55453a50073f12d1a37f",
         "74310",
         "goiania",
         "GO"
        ],
        [
         "27",
         "6e359a57a91f84095cc64e1b351aef8c",
         "2e6a42a9b5cbb0da62988694f18ee295",
         "4571",
         "sao paulo",
         "SP"
        ],
        [
         "28",
         "e0eea8f69a457b3f1fa246e44c9ebefd",
         "4d221875624017bc47b4d1ce7314a5b7",
         "29311",
         "cachoeiro de itapemirim",
         "ES"
        ],
        [
         "29",
         "e3109970a3fe8021d5ff82c577ce5606",
         "a8654e2af5da6bb72f52c22b164855e1",
         "5528",
         "sao paulo",
         "SP"
        ],
        [
         "30",
         "261cb4f92498ca05d5bd1a327a261d9c",
         "424aca6872c5bab80780a8dec03b7516",
         "12235",
         "sao jose dos campos",
         "SP"
        ],
        [
         "31",
         "6f92779347724b67e44e3224f3b4cffd",
         "bf4862777db128507e9efcc789215e9b",
         "18130",
         "sao roque",
         "SP"
        ],
        [
         "32",
         "2d5831cb2dff7cdefba62e950ae3dc7b",
         "e9dd12dca17352644a959d9dea133935",
         "42800",
         "camacari",
         "BA"
        ],
        [
         "33",
         "b2bed119388167a954382cca36c4777f",
         "e079b18794454de9d2be5c12b4392294",
         "27525",
         "resende",
         "RJ"
        ],
        [
         "34",
         "469634941c27cd844170935a3cf60b95",
         "ef07ba9aa5226f77264ffa5762b2280b",
         "81750",
         "curitiba",
         "PR"
        ],
        [
         "35",
         "df0aa5b8586495e0ddf6b601122e43a1",
         "85d234692f7bee8d6fea586e237334b6",
         "13175",
         "sumare",
         "SP"
        ],
        [
         "36",
         "41c8f4b570869791379a925899a6af8a",
         "fe3634ccefbcdb0537b45fd589e32e8e",
         "7170",
         "guarulhos",
         "SP"
        ],
        [
         "37",
         "54f755c3fd2709231f9964a1430c5218",
         "40febde16f4718a5def537786473b0be",
         "93415",
         "novo hamburgo",
         "RS"
        ],
        [
         "38",
         "4c06b42fbf7b97ab10779cda5549cd1c",
         "07d190f123147d9e89d4b922543d7948",
         "65075",
         "sao luis",
         "MA"
        ],
        [
         "39",
         "b6368ca0f56d4632f44d58ca431487b2",
         "dd992305cba295d997f263dbdf4e8c2e",
         "88104",
         "sao jose",
         "SC"
        ],
        [
         "40",
         "4a0e66fd30684aa1409cd1b66fec77cc",
         "86085586aaa8c5f47ed0b400da64c59d",
         "7176",
         "guarulhos",
         "SP"
        ],
        [
         "41",
         "c168abb9077b7821adae01dc1f0886c5",
         "5ad58a4e6a1a656b6bed070cadbaa003",
         "35960",
         "santa barbara",
         "MG"
        ],
        [
         "42",
         "a3b0fda37bae14cf754877bed475e80c",
         "c9158d089637ab443c78984d20da7fc0",
         "5727",
         "sao paulo",
         "SP"
        ],
        [
         "43",
         "0ccd415657ae8a6cd1c71b00155a019e",
         "66cc90195ca44cc7ac6a1cd0e1e1e7b2",
         "7053",
         "guarulhos",
         "SP"
        ],
        [
         "44",
         "c532a74a3ebf1bacce2e2bcce3783317",
         "91ec50a00ae74d0a229d2efdf4344e1e",
         "14026",
         "ribeirao preto",
         "SP"
        ],
        [
         "45",
         "19cecb194f54e614b70d971306a9931b",
         "d251c190ca75786e9ab937982d60d1d4",
         "30320",
         "belo horizonte",
         "MG"
        ],
        [
         "46",
         "f34a6e874087ec1f0e3dab9fdf659c5d",
         "233896de79986082f1f479f1f85281cb",
         "38300",
         "ituiutaba",
         "MG"
        ],
        [
         "47",
         "c132855c926907970dcf6f2bf0b33a24",
         "a8ae36a2bb6c2bbc3b5d62ede131c9ef",
         "18740",
         "taquarituba",
         "SP"
        ],
        [
         "48",
         "df85b96ba2ce3e49bde101b1614f52ac",
         "8d46223c91cbeb93e0930ca8bd8ffca2",
         "83085",
         "sao jose dos pinhais",
         "PR"
        ],
        [
         "49",
         "4d27341acd30a36bca39008ee9bb9050",
         "e021e698833bdeb89dfef3acb2e91f37",
         "89254",
         "jaragua do sul",
         "SC"
        ]
       ],
       "shape": {
        "columns": 5,
        "rows": 99441
       }
      },
      "text/html": [
       "<div>\n",
       "<style scoped>\n",
       "    .dataframe tbody tr th:only-of-type {\n",
       "        vertical-align: middle;\n",
       "    }\n",
       "\n",
       "    .dataframe tbody tr th {\n",
       "        vertical-align: top;\n",
       "    }\n",
       "\n",
       "    .dataframe thead th {\n",
       "        text-align: right;\n",
       "    }\n",
       "</style>\n",
       "<table border=\"1\" class=\"dataframe\">\n",
       "  <thead>\n",
       "    <tr style=\"text-align: right;\">\n",
       "      <th></th>\n",
       "      <th>customer_id</th>\n",
       "      <th>customer_unique_id</th>\n",
       "      <th>customer_zip_code_prefix</th>\n",
       "      <th>customer_city</th>\n",
       "      <th>customer_state</th>\n",
       "    </tr>\n",
       "  </thead>\n",
       "  <tbody>\n",
       "    <tr>\n",
       "      <th>0</th>\n",
       "      <td>06b8999e2fba1a1fbc88172c00ba8bc7</td>\n",
       "      <td>861eff4711a542e4b93843c6dd7febb0</td>\n",
       "      <td>14409</td>\n",
       "      <td>franca</td>\n",
       "      <td>SP</td>\n",
       "    </tr>\n",
       "    <tr>\n",
       "      <th>1</th>\n",
       "      <td>18955e83d337fd6b2def6b18a428ac77</td>\n",
       "      <td>290c77bc529b7ac935b93aa66c333dc3</td>\n",
       "      <td>9790</td>\n",
       "      <td>sao bernardo do campo</td>\n",
       "      <td>SP</td>\n",
       "    </tr>\n",
       "    <tr>\n",
       "      <th>2</th>\n",
       "      <td>4e7b3e00288586ebd08712fdd0374a03</td>\n",
       "      <td>060e732b5b29e8181a18229c7b0b2b5e</td>\n",
       "      <td>1151</td>\n",
       "      <td>sao paulo</td>\n",
       "      <td>SP</td>\n",
       "    </tr>\n",
       "    <tr>\n",
       "      <th>3</th>\n",
       "      <td>b2b6027bc5c5109e529d4dc6358b12c3</td>\n",
       "      <td>259dac757896d24d7702b9acbbff3f3c</td>\n",
       "      <td>8775</td>\n",
       "      <td>mogi das cruzes</td>\n",
       "      <td>SP</td>\n",
       "    </tr>\n",
       "    <tr>\n",
       "      <th>4</th>\n",
       "      <td>4f2d8ab171c80ec8364f7c12e35b23ad</td>\n",
       "      <td>345ecd01c38d18a9036ed96c73b8d066</td>\n",
       "      <td>13056</td>\n",
       "      <td>campinas</td>\n",
       "      <td>SP</td>\n",
       "    </tr>\n",
       "    <tr>\n",
       "      <th>...</th>\n",
       "      <td>...</td>\n",
       "      <td>...</td>\n",
       "      <td>...</td>\n",
       "      <td>...</td>\n",
       "      <td>...</td>\n",
       "    </tr>\n",
       "    <tr>\n",
       "      <th>99436</th>\n",
       "      <td>17ddf5dd5d51696bb3d7c6291687be6f</td>\n",
       "      <td>1a29b476fee25c95fbafc67c5ac95cf8</td>\n",
       "      <td>3937</td>\n",
       "      <td>sao paulo</td>\n",
       "      <td>SP</td>\n",
       "    </tr>\n",
       "    <tr>\n",
       "      <th>99437</th>\n",
       "      <td>e7b71a9017aa05c9a7fd292d714858e8</td>\n",
       "      <td>d52a67c98be1cf6a5c84435bd38d095d</td>\n",
       "      <td>6764</td>\n",
       "      <td>taboao da serra</td>\n",
       "      <td>SP</td>\n",
       "    </tr>\n",
       "    <tr>\n",
       "      <th>99438</th>\n",
       "      <td>5e28dfe12db7fb50a4b2f691faecea5e</td>\n",
       "      <td>e9f50caf99f032f0bf3c55141f019d99</td>\n",
       "      <td>60115</td>\n",
       "      <td>fortaleza</td>\n",
       "      <td>CE</td>\n",
       "    </tr>\n",
       "    <tr>\n",
       "      <th>99439</th>\n",
       "      <td>56b18e2166679b8a959d72dd06da27f9</td>\n",
       "      <td>73c2643a0a458b49f58cea58833b192e</td>\n",
       "      <td>92120</td>\n",
       "      <td>canoas</td>\n",
       "      <td>RS</td>\n",
       "    </tr>\n",
       "    <tr>\n",
       "      <th>99440</th>\n",
       "      <td>274fa6071e5e17fe303b9748641082c8</td>\n",
       "      <td>84732c5050c01db9b23e19ba39899398</td>\n",
       "      <td>6703</td>\n",
       "      <td>cotia</td>\n",
       "      <td>SP</td>\n",
       "    </tr>\n",
       "  </tbody>\n",
       "</table>\n",
       "<p>99441 rows × 5 columns</p>\n",
       "</div>"
      ],
      "text/plain": [
       "                            customer_id                customer_unique_id  \\\n",
       "0      06b8999e2fba1a1fbc88172c00ba8bc7  861eff4711a542e4b93843c6dd7febb0   \n",
       "1      18955e83d337fd6b2def6b18a428ac77  290c77bc529b7ac935b93aa66c333dc3   \n",
       "2      4e7b3e00288586ebd08712fdd0374a03  060e732b5b29e8181a18229c7b0b2b5e   \n",
       "3      b2b6027bc5c5109e529d4dc6358b12c3  259dac757896d24d7702b9acbbff3f3c   \n",
       "4      4f2d8ab171c80ec8364f7c12e35b23ad  345ecd01c38d18a9036ed96c73b8d066   \n",
       "...                                 ...                               ...   \n",
       "99436  17ddf5dd5d51696bb3d7c6291687be6f  1a29b476fee25c95fbafc67c5ac95cf8   \n",
       "99437  e7b71a9017aa05c9a7fd292d714858e8  d52a67c98be1cf6a5c84435bd38d095d   \n",
       "99438  5e28dfe12db7fb50a4b2f691faecea5e  e9f50caf99f032f0bf3c55141f019d99   \n",
       "99439  56b18e2166679b8a959d72dd06da27f9  73c2643a0a458b49f58cea58833b192e   \n",
       "99440  274fa6071e5e17fe303b9748641082c8  84732c5050c01db9b23e19ba39899398   \n",
       "\n",
       "       customer_zip_code_prefix          customer_city customer_state  \n",
       "0                         14409                 franca             SP  \n",
       "1                          9790  sao bernardo do campo             SP  \n",
       "2                          1151              sao paulo             SP  \n",
       "3                          8775        mogi das cruzes             SP  \n",
       "4                         13056               campinas             SP  \n",
       "...                         ...                    ...            ...  \n",
       "99436                      3937              sao paulo             SP  \n",
       "99437                      6764        taboao da serra             SP  \n",
       "99438                     60115              fortaleza             CE  \n",
       "99439                     92120                 canoas             RS  \n",
       "99440                      6703                  cotia             SP  \n",
       "\n",
       "[99441 rows x 5 columns]"
      ]
     },
     "execution_count": 3,
     "metadata": {},
     "output_type": "execute_result"
    }
   ],
   "source": [
    "df"
   ]
  },
  {
   "cell_type": "code",
   "execution_count": 4,
   "id": "bbf453ac",
   "metadata": {},
   "outputs": [
    {
     "data": {
      "application/vnd.microsoft.datawrangler.viewer.v0+json": {
       "columns": [
        {
         "name": "index",
         "rawType": "int64",
         "type": "integer"
        },
        {
         "name": "customer_id",
         "rawType": "object",
         "type": "string"
        },
        {
         "name": "customer_unique_id",
         "rawType": "object",
         "type": "string"
        },
        {
         "name": "customer_zip_code_prefix",
         "rawType": "int64",
         "type": "integer"
        },
        {
         "name": "customer_city",
         "rawType": "object",
         "type": "string"
        },
        {
         "name": "customer_state",
         "rawType": "object",
         "type": "string"
        }
       ],
       "ref": "43102fcd-759a-41a3-b19f-6c1885e43dee",
       "rows": [
        [
         "0",
         "06b8999e2fba1a1fbc88172c00ba8bc7",
         "861eff4711a542e4b93843c6dd7febb0",
         "14409",
         "franca",
         "SP"
        ],
        [
         "1",
         "18955e83d337fd6b2def6b18a428ac77",
         "290c77bc529b7ac935b93aa66c333dc3",
         "9790",
         "sao bernardo do campo",
         "SP"
        ],
        [
         "2",
         "4e7b3e00288586ebd08712fdd0374a03",
         "060e732b5b29e8181a18229c7b0b2b5e",
         "1151",
         "sao paulo",
         "SP"
        ],
        [
         "3",
         "b2b6027bc5c5109e529d4dc6358b12c3",
         "259dac757896d24d7702b9acbbff3f3c",
         "8775",
         "mogi das cruzes",
         "SP"
        ],
        [
         "4",
         "4f2d8ab171c80ec8364f7c12e35b23ad",
         "345ecd01c38d18a9036ed96c73b8d066",
         "13056",
         "campinas",
         "SP"
        ]
       ],
       "shape": {
        "columns": 5,
        "rows": 5
       }
      },
      "text/html": [
       "<div>\n",
       "<style scoped>\n",
       "    .dataframe tbody tr th:only-of-type {\n",
       "        vertical-align: middle;\n",
       "    }\n",
       "\n",
       "    .dataframe tbody tr th {\n",
       "        vertical-align: top;\n",
       "    }\n",
       "\n",
       "    .dataframe thead th {\n",
       "        text-align: right;\n",
       "    }\n",
       "</style>\n",
       "<table border=\"1\" class=\"dataframe\">\n",
       "  <thead>\n",
       "    <tr style=\"text-align: right;\">\n",
       "      <th></th>\n",
       "      <th>customer_id</th>\n",
       "      <th>customer_unique_id</th>\n",
       "      <th>customer_zip_code_prefix</th>\n",
       "      <th>customer_city</th>\n",
       "      <th>customer_state</th>\n",
       "    </tr>\n",
       "  </thead>\n",
       "  <tbody>\n",
       "    <tr>\n",
       "      <th>0</th>\n",
       "      <td>06b8999e2fba1a1fbc88172c00ba8bc7</td>\n",
       "      <td>861eff4711a542e4b93843c6dd7febb0</td>\n",
       "      <td>14409</td>\n",
       "      <td>franca</td>\n",
       "      <td>SP</td>\n",
       "    </tr>\n",
       "    <tr>\n",
       "      <th>1</th>\n",
       "      <td>18955e83d337fd6b2def6b18a428ac77</td>\n",
       "      <td>290c77bc529b7ac935b93aa66c333dc3</td>\n",
       "      <td>9790</td>\n",
       "      <td>sao bernardo do campo</td>\n",
       "      <td>SP</td>\n",
       "    </tr>\n",
       "    <tr>\n",
       "      <th>2</th>\n",
       "      <td>4e7b3e00288586ebd08712fdd0374a03</td>\n",
       "      <td>060e732b5b29e8181a18229c7b0b2b5e</td>\n",
       "      <td>1151</td>\n",
       "      <td>sao paulo</td>\n",
       "      <td>SP</td>\n",
       "    </tr>\n",
       "    <tr>\n",
       "      <th>3</th>\n",
       "      <td>b2b6027bc5c5109e529d4dc6358b12c3</td>\n",
       "      <td>259dac757896d24d7702b9acbbff3f3c</td>\n",
       "      <td>8775</td>\n",
       "      <td>mogi das cruzes</td>\n",
       "      <td>SP</td>\n",
       "    </tr>\n",
       "    <tr>\n",
       "      <th>4</th>\n",
       "      <td>4f2d8ab171c80ec8364f7c12e35b23ad</td>\n",
       "      <td>345ecd01c38d18a9036ed96c73b8d066</td>\n",
       "      <td>13056</td>\n",
       "      <td>campinas</td>\n",
       "      <td>SP</td>\n",
       "    </tr>\n",
       "  </tbody>\n",
       "</table>\n",
       "</div>"
      ],
      "text/plain": [
       "                        customer_id                customer_unique_id  \\\n",
       "0  06b8999e2fba1a1fbc88172c00ba8bc7  861eff4711a542e4b93843c6dd7febb0   \n",
       "1  18955e83d337fd6b2def6b18a428ac77  290c77bc529b7ac935b93aa66c333dc3   \n",
       "2  4e7b3e00288586ebd08712fdd0374a03  060e732b5b29e8181a18229c7b0b2b5e   \n",
       "3  b2b6027bc5c5109e529d4dc6358b12c3  259dac757896d24d7702b9acbbff3f3c   \n",
       "4  4f2d8ab171c80ec8364f7c12e35b23ad  345ecd01c38d18a9036ed96c73b8d066   \n",
       "\n",
       "   customer_zip_code_prefix          customer_city customer_state  \n",
       "0                     14409                 franca             SP  \n",
       "1                      9790  sao bernardo do campo             SP  \n",
       "2                      1151              sao paulo             SP  \n",
       "3                      8775        mogi das cruzes             SP  \n",
       "4                     13056               campinas             SP  "
      ]
     },
     "execution_count": 4,
     "metadata": {},
     "output_type": "execute_result"
    }
   ],
   "source": [
    "df.head()"
   ]
  },
  {
   "cell_type": "code",
   "execution_count": 5,
   "id": "6408ba50",
   "metadata": {},
   "outputs": [
    {
     "data": {
      "application/vnd.microsoft.datawrangler.viewer.v0+json": {
       "columns": [
        {
         "name": "index",
         "rawType": "int64",
         "type": "integer"
        },
        {
         "name": "customer_id",
         "rawType": "object",
         "type": "string"
        },
        {
         "name": "customer_unique_id",
         "rawType": "object",
         "type": "string"
        },
        {
         "name": "customer_zip_code_prefix",
         "rawType": "int64",
         "type": "integer"
        },
        {
         "name": "customer_city",
         "rawType": "object",
         "type": "string"
        },
        {
         "name": "customer_state",
         "rawType": "object",
         "type": "string"
        }
       ],
       "ref": "3f57f88d-5883-47ec-a6bb-48c3c7133734",
       "rows": [
        [
         "99436",
         "17ddf5dd5d51696bb3d7c6291687be6f",
         "1a29b476fee25c95fbafc67c5ac95cf8",
         "3937",
         "sao paulo",
         "SP"
        ],
        [
         "99437",
         "e7b71a9017aa05c9a7fd292d714858e8",
         "d52a67c98be1cf6a5c84435bd38d095d",
         "6764",
         "taboao da serra",
         "SP"
        ],
        [
         "99438",
         "5e28dfe12db7fb50a4b2f691faecea5e",
         "e9f50caf99f032f0bf3c55141f019d99",
         "60115",
         "fortaleza",
         "CE"
        ],
        [
         "99439",
         "56b18e2166679b8a959d72dd06da27f9",
         "73c2643a0a458b49f58cea58833b192e",
         "92120",
         "canoas",
         "RS"
        ],
        [
         "99440",
         "274fa6071e5e17fe303b9748641082c8",
         "84732c5050c01db9b23e19ba39899398",
         "6703",
         "cotia",
         "SP"
        ]
       ],
       "shape": {
        "columns": 5,
        "rows": 5
       }
      },
      "text/html": [
       "<div>\n",
       "<style scoped>\n",
       "    .dataframe tbody tr th:only-of-type {\n",
       "        vertical-align: middle;\n",
       "    }\n",
       "\n",
       "    .dataframe tbody tr th {\n",
       "        vertical-align: top;\n",
       "    }\n",
       "\n",
       "    .dataframe thead th {\n",
       "        text-align: right;\n",
       "    }\n",
       "</style>\n",
       "<table border=\"1\" class=\"dataframe\">\n",
       "  <thead>\n",
       "    <tr style=\"text-align: right;\">\n",
       "      <th></th>\n",
       "      <th>customer_id</th>\n",
       "      <th>customer_unique_id</th>\n",
       "      <th>customer_zip_code_prefix</th>\n",
       "      <th>customer_city</th>\n",
       "      <th>customer_state</th>\n",
       "    </tr>\n",
       "  </thead>\n",
       "  <tbody>\n",
       "    <tr>\n",
       "      <th>99436</th>\n",
       "      <td>17ddf5dd5d51696bb3d7c6291687be6f</td>\n",
       "      <td>1a29b476fee25c95fbafc67c5ac95cf8</td>\n",
       "      <td>3937</td>\n",
       "      <td>sao paulo</td>\n",
       "      <td>SP</td>\n",
       "    </tr>\n",
       "    <tr>\n",
       "      <th>99437</th>\n",
       "      <td>e7b71a9017aa05c9a7fd292d714858e8</td>\n",
       "      <td>d52a67c98be1cf6a5c84435bd38d095d</td>\n",
       "      <td>6764</td>\n",
       "      <td>taboao da serra</td>\n",
       "      <td>SP</td>\n",
       "    </tr>\n",
       "    <tr>\n",
       "      <th>99438</th>\n",
       "      <td>5e28dfe12db7fb50a4b2f691faecea5e</td>\n",
       "      <td>e9f50caf99f032f0bf3c55141f019d99</td>\n",
       "      <td>60115</td>\n",
       "      <td>fortaleza</td>\n",
       "      <td>CE</td>\n",
       "    </tr>\n",
       "    <tr>\n",
       "      <th>99439</th>\n",
       "      <td>56b18e2166679b8a959d72dd06da27f9</td>\n",
       "      <td>73c2643a0a458b49f58cea58833b192e</td>\n",
       "      <td>92120</td>\n",
       "      <td>canoas</td>\n",
       "      <td>RS</td>\n",
       "    </tr>\n",
       "    <tr>\n",
       "      <th>99440</th>\n",
       "      <td>274fa6071e5e17fe303b9748641082c8</td>\n",
       "      <td>84732c5050c01db9b23e19ba39899398</td>\n",
       "      <td>6703</td>\n",
       "      <td>cotia</td>\n",
       "      <td>SP</td>\n",
       "    </tr>\n",
       "  </tbody>\n",
       "</table>\n",
       "</div>"
      ],
      "text/plain": [
       "                            customer_id                customer_unique_id  \\\n",
       "99436  17ddf5dd5d51696bb3d7c6291687be6f  1a29b476fee25c95fbafc67c5ac95cf8   \n",
       "99437  e7b71a9017aa05c9a7fd292d714858e8  d52a67c98be1cf6a5c84435bd38d095d   \n",
       "99438  5e28dfe12db7fb50a4b2f691faecea5e  e9f50caf99f032f0bf3c55141f019d99   \n",
       "99439  56b18e2166679b8a959d72dd06da27f9  73c2643a0a458b49f58cea58833b192e   \n",
       "99440  274fa6071e5e17fe303b9748641082c8  84732c5050c01db9b23e19ba39899398   \n",
       "\n",
       "       customer_zip_code_prefix    customer_city customer_state  \n",
       "99436                      3937        sao paulo             SP  \n",
       "99437                      6764  taboao da serra             SP  \n",
       "99438                     60115        fortaleza             CE  \n",
       "99439                     92120           canoas             RS  \n",
       "99440                      6703            cotia             SP  "
      ]
     },
     "execution_count": 5,
     "metadata": {},
     "output_type": "execute_result"
    }
   ],
   "source": [
    "df.tail()"
   ]
  },
  {
   "cell_type": "code",
   "execution_count": 6,
   "id": "b13ba790",
   "metadata": {},
   "outputs": [
    {
     "name": "stdout",
     "output_type": "stream",
     "text": [
      "<class 'pandas.core.frame.DataFrame'>\n",
      "RangeIndex: 99441 entries, 0 to 99440\n",
      "Data columns (total 5 columns):\n",
      " #   Column                    Non-Null Count  Dtype \n",
      "---  ------                    --------------  ----- \n",
      " 0   customer_id               99441 non-null  object\n",
      " 1   customer_unique_id        99441 non-null  object\n",
      " 2   customer_zip_code_prefix  99441 non-null  int64 \n",
      " 3   customer_city             99441 non-null  object\n",
      " 4   customer_state            99441 non-null  object\n",
      "dtypes: int64(1), object(4)\n",
      "memory usage: 3.8+ MB\n"
     ]
    }
   ],
   "source": [
    "df.info()"
   ]
  },
  {
   "cell_type": "code",
   "execution_count": 7,
   "id": "ad21b472",
   "metadata": {},
   "outputs": [
    {
     "data": {
      "application/vnd.microsoft.datawrangler.viewer.v0+json": {
       "columns": [
        {
         "name": "index",
         "rawType": "object",
         "type": "string"
        },
        {
         "name": "customer_zip_code_prefix",
         "rawType": "float64",
         "type": "float"
        }
       ],
       "ref": "79605027-1feb-4708-aaf3-cfffa959f750",
       "rows": [
        [
         "count",
         "99441.0"
        ],
        [
         "mean",
         "35137.47458291851"
        ],
        [
         "std",
         "29797.93899620654"
        ],
        [
         "min",
         "1003.0"
        ],
        [
         "25%",
         "11347.0"
        ],
        [
         "50%",
         "24416.0"
        ],
        [
         "75%",
         "58900.0"
        ],
        [
         "max",
         "99990.0"
        ]
       ],
       "shape": {
        "columns": 1,
        "rows": 8
       }
      },
      "text/html": [
       "<div>\n",
       "<style scoped>\n",
       "    .dataframe tbody tr th:only-of-type {\n",
       "        vertical-align: middle;\n",
       "    }\n",
       "\n",
       "    .dataframe tbody tr th {\n",
       "        vertical-align: top;\n",
       "    }\n",
       "\n",
       "    .dataframe thead th {\n",
       "        text-align: right;\n",
       "    }\n",
       "</style>\n",
       "<table border=\"1\" class=\"dataframe\">\n",
       "  <thead>\n",
       "    <tr style=\"text-align: right;\">\n",
       "      <th></th>\n",
       "      <th>customer_zip_code_prefix</th>\n",
       "    </tr>\n",
       "  </thead>\n",
       "  <tbody>\n",
       "    <tr>\n",
       "      <th>count</th>\n",
       "      <td>99441.000000</td>\n",
       "    </tr>\n",
       "    <tr>\n",
       "      <th>mean</th>\n",
       "      <td>35137.474583</td>\n",
       "    </tr>\n",
       "    <tr>\n",
       "      <th>std</th>\n",
       "      <td>29797.938996</td>\n",
       "    </tr>\n",
       "    <tr>\n",
       "      <th>min</th>\n",
       "      <td>1003.000000</td>\n",
       "    </tr>\n",
       "    <tr>\n",
       "      <th>25%</th>\n",
       "      <td>11347.000000</td>\n",
       "    </tr>\n",
       "    <tr>\n",
       "      <th>50%</th>\n",
       "      <td>24416.000000</td>\n",
       "    </tr>\n",
       "    <tr>\n",
       "      <th>75%</th>\n",
       "      <td>58900.000000</td>\n",
       "    </tr>\n",
       "    <tr>\n",
       "      <th>max</th>\n",
       "      <td>99990.000000</td>\n",
       "    </tr>\n",
       "  </tbody>\n",
       "</table>\n",
       "</div>"
      ],
      "text/plain": [
       "       customer_zip_code_prefix\n",
       "count              99441.000000\n",
       "mean               35137.474583\n",
       "std                29797.938996\n",
       "min                 1003.000000\n",
       "25%                11347.000000\n",
       "50%                24416.000000\n",
       "75%                58900.000000\n",
       "max                99990.000000"
      ]
     },
     "execution_count": 7,
     "metadata": {},
     "output_type": "execute_result"
    }
   ],
   "source": [
    "df.describe()"
   ]
  },
  {
   "cell_type": "code",
   "execution_count": 8,
   "id": "01abd4c2",
   "metadata": {},
   "outputs": [
    {
     "data": {
      "application/vnd.microsoft.datawrangler.viewer.v0+json": {
       "columns": [
        {
         "name": "index",
         "rawType": "object",
         "type": "string"
        },
        {
         "name": "0",
         "rawType": "int64",
         "type": "integer"
        }
       ],
       "ref": "7779d583-ebeb-4446-b0b4-11a1e2d3b203",
       "rows": [
        [
         "customer_id",
         "0"
        ],
        [
         "customer_unique_id",
         "0"
        ],
        [
         "customer_zip_code_prefix",
         "0"
        ],
        [
         "customer_city",
         "0"
        ],
        [
         "customer_state",
         "0"
        ]
       ],
       "shape": {
        "columns": 1,
        "rows": 5
       }
      },
      "text/plain": [
       "customer_id                 0\n",
       "customer_unique_id          0\n",
       "customer_zip_code_prefix    0\n",
       "customer_city               0\n",
       "customer_state              0\n",
       "dtype: int64"
      ]
     },
     "execution_count": 8,
     "metadata": {},
     "output_type": "execute_result"
    }
   ],
   "source": [
    "df.isnull().sum() #no null values\n"
   ]
  },
  {
   "cell_type": "code",
   "execution_count": 9,
   "id": "413dcc1e",
   "metadata": {},
   "outputs": [
    {
     "data": {
      "application/vnd.microsoft.datawrangler.viewer.v0+json": {
       "columns": [
        {
         "name": "index",
         "rawType": "int64",
         "type": "integer"
        },
        {
         "name": "customer_id",
         "rawType": "bool",
         "type": "boolean"
        },
        {
         "name": "customer_unique_id",
         "rawType": "bool",
         "type": "boolean"
        },
        {
         "name": "customer_zip_code_prefix",
         "rawType": "bool",
         "type": "boolean"
        },
        {
         "name": "customer_city",
         "rawType": "bool",
         "type": "boolean"
        },
        {
         "name": "customer_state",
         "rawType": "bool",
         "type": "boolean"
        }
       ],
       "ref": "3bbf14d4-27fc-43f7-a2d6-91028be05f3e",
       "rows": [
        [
         "0",
         "False",
         "False",
         "False",
         "False",
         "False"
        ],
        [
         "1",
         "False",
         "False",
         "False",
         "False",
         "False"
        ],
        [
         "2",
         "False",
         "False",
         "False",
         "False",
         "False"
        ],
        [
         "3",
         "False",
         "False",
         "False",
         "False",
         "False"
        ],
        [
         "4",
         "False",
         "False",
         "False",
         "False",
         "False"
        ],
        [
         "5",
         "False",
         "False",
         "False",
         "False",
         "False"
        ],
        [
         "6",
         "False",
         "False",
         "False",
         "False",
         "False"
        ],
        [
         "7",
         "False",
         "False",
         "False",
         "False",
         "False"
        ],
        [
         "8",
         "False",
         "False",
         "False",
         "False",
         "False"
        ],
        [
         "9",
         "False",
         "False",
         "False",
         "False",
         "False"
        ],
        [
         "10",
         "False",
         "False",
         "False",
         "False",
         "False"
        ],
        [
         "11",
         "False",
         "False",
         "False",
         "False",
         "False"
        ],
        [
         "12",
         "False",
         "False",
         "False",
         "False",
         "False"
        ],
        [
         "13",
         "False",
         "False",
         "False",
         "False",
         "False"
        ],
        [
         "14",
         "False",
         "False",
         "False",
         "False",
         "False"
        ],
        [
         "15",
         "False",
         "False",
         "False",
         "False",
         "False"
        ],
        [
         "16",
         "False",
         "False",
         "False",
         "False",
         "False"
        ],
        [
         "17",
         "False",
         "False",
         "False",
         "False",
         "False"
        ],
        [
         "18",
         "False",
         "False",
         "False",
         "False",
         "False"
        ],
        [
         "19",
         "False",
         "False",
         "False",
         "False",
         "False"
        ],
        [
         "20",
         "False",
         "False",
         "False",
         "False",
         "False"
        ],
        [
         "21",
         "False",
         "False",
         "False",
         "False",
         "False"
        ],
        [
         "22",
         "False",
         "False",
         "False",
         "False",
         "False"
        ],
        [
         "23",
         "False",
         "False",
         "False",
         "False",
         "False"
        ],
        [
         "24",
         "False",
         "False",
         "False",
         "False",
         "False"
        ],
        [
         "25",
         "False",
         "False",
         "False",
         "False",
         "False"
        ],
        [
         "26",
         "False",
         "False",
         "False",
         "False",
         "False"
        ],
        [
         "27",
         "False",
         "False",
         "False",
         "False",
         "False"
        ],
        [
         "28",
         "False",
         "False",
         "False",
         "False",
         "False"
        ],
        [
         "29",
         "False",
         "False",
         "False",
         "False",
         "False"
        ],
        [
         "30",
         "False",
         "False",
         "False",
         "False",
         "False"
        ],
        [
         "31",
         "False",
         "False",
         "False",
         "False",
         "False"
        ],
        [
         "32",
         "False",
         "False",
         "False",
         "False",
         "False"
        ],
        [
         "33",
         "False",
         "False",
         "False",
         "False",
         "False"
        ],
        [
         "34",
         "False",
         "False",
         "False",
         "False",
         "False"
        ],
        [
         "35",
         "False",
         "False",
         "False",
         "False",
         "False"
        ],
        [
         "36",
         "False",
         "False",
         "False",
         "False",
         "False"
        ],
        [
         "37",
         "False",
         "False",
         "False",
         "False",
         "False"
        ],
        [
         "38",
         "False",
         "False",
         "False",
         "False",
         "False"
        ],
        [
         "39",
         "False",
         "False",
         "False",
         "False",
         "False"
        ],
        [
         "40",
         "False",
         "False",
         "False",
         "False",
         "False"
        ],
        [
         "41",
         "False",
         "False",
         "False",
         "False",
         "False"
        ],
        [
         "42",
         "False",
         "False",
         "False",
         "False",
         "False"
        ],
        [
         "43",
         "False",
         "False",
         "False",
         "False",
         "False"
        ],
        [
         "44",
         "False",
         "False",
         "False",
         "False",
         "False"
        ],
        [
         "45",
         "False",
         "False",
         "False",
         "False",
         "False"
        ],
        [
         "46",
         "False",
         "False",
         "False",
         "False",
         "False"
        ],
        [
         "47",
         "False",
         "False",
         "False",
         "False",
         "False"
        ],
        [
         "48",
         "False",
         "False",
         "False",
         "False",
         "False"
        ],
        [
         "49",
         "False",
         "False",
         "False",
         "False",
         "False"
        ]
       ],
       "shape": {
        "columns": 5,
        "rows": 99441
       }
      },
      "text/html": [
       "<div>\n",
       "<style scoped>\n",
       "    .dataframe tbody tr th:only-of-type {\n",
       "        vertical-align: middle;\n",
       "    }\n",
       "\n",
       "    .dataframe tbody tr th {\n",
       "        vertical-align: top;\n",
       "    }\n",
       "\n",
       "    .dataframe thead th {\n",
       "        text-align: right;\n",
       "    }\n",
       "</style>\n",
       "<table border=\"1\" class=\"dataframe\">\n",
       "  <thead>\n",
       "    <tr style=\"text-align: right;\">\n",
       "      <th></th>\n",
       "      <th>customer_id</th>\n",
       "      <th>customer_unique_id</th>\n",
       "      <th>customer_zip_code_prefix</th>\n",
       "      <th>customer_city</th>\n",
       "      <th>customer_state</th>\n",
       "    </tr>\n",
       "  </thead>\n",
       "  <tbody>\n",
       "    <tr>\n",
       "      <th>0</th>\n",
       "      <td>False</td>\n",
       "      <td>False</td>\n",
       "      <td>False</td>\n",
       "      <td>False</td>\n",
       "      <td>False</td>\n",
       "    </tr>\n",
       "    <tr>\n",
       "      <th>1</th>\n",
       "      <td>False</td>\n",
       "      <td>False</td>\n",
       "      <td>False</td>\n",
       "      <td>False</td>\n",
       "      <td>False</td>\n",
       "    </tr>\n",
       "    <tr>\n",
       "      <th>2</th>\n",
       "      <td>False</td>\n",
       "      <td>False</td>\n",
       "      <td>False</td>\n",
       "      <td>False</td>\n",
       "      <td>False</td>\n",
       "    </tr>\n",
       "    <tr>\n",
       "      <th>3</th>\n",
       "      <td>False</td>\n",
       "      <td>False</td>\n",
       "      <td>False</td>\n",
       "      <td>False</td>\n",
       "      <td>False</td>\n",
       "    </tr>\n",
       "    <tr>\n",
       "      <th>4</th>\n",
       "      <td>False</td>\n",
       "      <td>False</td>\n",
       "      <td>False</td>\n",
       "      <td>False</td>\n",
       "      <td>False</td>\n",
       "    </tr>\n",
       "    <tr>\n",
       "      <th>...</th>\n",
       "      <td>...</td>\n",
       "      <td>...</td>\n",
       "      <td>...</td>\n",
       "      <td>...</td>\n",
       "      <td>...</td>\n",
       "    </tr>\n",
       "    <tr>\n",
       "      <th>99436</th>\n",
       "      <td>False</td>\n",
       "      <td>False</td>\n",
       "      <td>False</td>\n",
       "      <td>False</td>\n",
       "      <td>False</td>\n",
       "    </tr>\n",
       "    <tr>\n",
       "      <th>99437</th>\n",
       "      <td>False</td>\n",
       "      <td>False</td>\n",
       "      <td>False</td>\n",
       "      <td>False</td>\n",
       "      <td>False</td>\n",
       "    </tr>\n",
       "    <tr>\n",
       "      <th>99438</th>\n",
       "      <td>False</td>\n",
       "      <td>False</td>\n",
       "      <td>False</td>\n",
       "      <td>False</td>\n",
       "      <td>False</td>\n",
       "    </tr>\n",
       "    <tr>\n",
       "      <th>99439</th>\n",
       "      <td>False</td>\n",
       "      <td>False</td>\n",
       "      <td>False</td>\n",
       "      <td>False</td>\n",
       "      <td>False</td>\n",
       "    </tr>\n",
       "    <tr>\n",
       "      <th>99440</th>\n",
       "      <td>False</td>\n",
       "      <td>False</td>\n",
       "      <td>False</td>\n",
       "      <td>False</td>\n",
       "      <td>False</td>\n",
       "    </tr>\n",
       "  </tbody>\n",
       "</table>\n",
       "<p>99441 rows × 5 columns</p>\n",
       "</div>"
      ],
      "text/plain": [
       "       customer_id  customer_unique_id  customer_zip_code_prefix  \\\n",
       "0            False               False                     False   \n",
       "1            False               False                     False   \n",
       "2            False               False                     False   \n",
       "3            False               False                     False   \n",
       "4            False               False                     False   \n",
       "...            ...                 ...                       ...   \n",
       "99436        False               False                     False   \n",
       "99437        False               False                     False   \n",
       "99438        False               False                     False   \n",
       "99439        False               False                     False   \n",
       "99440        False               False                     False   \n",
       "\n",
       "       customer_city  customer_state  \n",
       "0              False           False  \n",
       "1              False           False  \n",
       "2              False           False  \n",
       "3              False           False  \n",
       "4              False           False  \n",
       "...              ...             ...  \n",
       "99436          False           False  \n",
       "99437          False           False  \n",
       "99438          False           False  \n",
       "99439          False           False  \n",
       "99440          False           False  \n",
       "\n",
       "[99441 rows x 5 columns]"
      ]
     },
     "execution_count": 9,
     "metadata": {},
     "output_type": "execute_result"
    }
   ],
   "source": [
    "#handling missing \n",
    "df.isna()"
   ]
  },
  {
   "cell_type": "code",
   "execution_count": 10,
   "id": "a6423301",
   "metadata": {},
   "outputs": [
    {
     "data": {
      "application/vnd.microsoft.datawrangler.viewer.v0+json": {
       "columns": [
        {
         "name": "index",
         "rawType": "object",
         "type": "string"
        },
        {
         "name": "0",
         "rawType": "int64",
         "type": "integer"
        }
       ],
       "ref": "3003bf78-77dc-4642-b6c8-e6eb1ee32d3d",
       "rows": [
        [
         "customer_id",
         "0"
        ],
        [
         "customer_unique_id",
         "0"
        ],
        [
         "customer_zip_code_prefix",
         "0"
        ],
        [
         "customer_city",
         "0"
        ],
        [
         "customer_state",
         "0"
        ]
       ],
       "shape": {
        "columns": 1,
        "rows": 5
       }
      },
      "text/plain": [
       "customer_id                 0\n",
       "customer_unique_id          0\n",
       "customer_zip_code_prefix    0\n",
       "customer_city               0\n",
       "customer_state              0\n",
       "dtype: int64"
      ]
     },
     "execution_count": 10,
     "metadata": {},
     "output_type": "execute_result"
    }
   ],
   "source": [
    "df.isna().sum()"
   ]
  },
  {
   "cell_type": "code",
   "execution_count": 11,
   "id": "6328dff6",
   "metadata": {},
   "outputs": [],
   "source": [
    "#no missing values...."
   ]
  },
  {
   "cell_type": "code",
   "execution_count": 12,
   "id": "e8b8afdb",
   "metadata": {},
   "outputs": [],
   "source": [
    "df.drop_duplicates(inplace=True)"
   ]
  },
  {
   "cell_type": "code",
   "execution_count": 13,
   "id": "f24475ff",
   "metadata": {},
   "outputs": [
    {
     "data": {
      "text/plain": [
       "np.int64(0)"
      ]
     },
     "execution_count": 13,
     "metadata": {},
     "output_type": "execute_result"
    }
   ],
   "source": [
    "df.duplicated().sum()"
   ]
  },
  {
   "cell_type": "code",
   "execution_count": 14,
   "id": "cec953da",
   "metadata": {},
   "outputs": [
    {
     "data": {
      "application/vnd.microsoft.datawrangler.viewer.v0+json": {
       "columns": [
        {
         "name": "index",
         "rawType": "int64",
         "type": "integer"
        },
        {
         "name": "customer_id",
         "rawType": "object",
         "type": "string"
        },
        {
         "name": "customer_unique_id",
         "rawType": "object",
         "type": "string"
        },
        {
         "name": "customer_zip_code_prefix",
         "rawType": "int64",
         "type": "integer"
        },
        {
         "name": "customer_city",
         "rawType": "object",
         "type": "string"
        },
        {
         "name": "customer_state",
         "rawType": "object",
         "type": "string"
        }
       ],
       "ref": "a3550550-cb1e-4931-9cd5-463eb2587866",
       "rows": [
        [
         "0",
         "06b8999e2fba1a1fbc88172c00ba8bc7",
         "861eff4711a542e4b93843c6dd7febb0",
         "14409",
         "franca",
         "SP"
        ],
        [
         "1",
         "18955e83d337fd6b2def6b18a428ac77",
         "290c77bc529b7ac935b93aa66c333dc3",
         "9790",
         "sao bernardo do campo",
         "SP"
        ],
        [
         "2",
         "4e7b3e00288586ebd08712fdd0374a03",
         "060e732b5b29e8181a18229c7b0b2b5e",
         "1151",
         "sao paulo",
         "SP"
        ],
        [
         "3",
         "b2b6027bc5c5109e529d4dc6358b12c3",
         "259dac757896d24d7702b9acbbff3f3c",
         "8775",
         "mogi das cruzes",
         "SP"
        ],
        [
         "4",
         "4f2d8ab171c80ec8364f7c12e35b23ad",
         "345ecd01c38d18a9036ed96c73b8d066",
         "13056",
         "campinas",
         "SP"
        ],
        [
         "5",
         "879864dab9bc3047522c92c82e1212b8",
         "4c93744516667ad3b8f1fb645a3116a4",
         "89254",
         "jaragua do sul",
         "SC"
        ],
        [
         "6",
         "fd826e7cf63160e536e0908c76c3f441",
         "addec96d2e059c80c30fe6871d30d177",
         "4534",
         "sao paulo",
         "SP"
        ],
        [
         "7",
         "5e274e7a0c3809e14aba7ad5aae0d407",
         "57b2a98a409812fe9618067b6b8ebe4f",
         "35182",
         "timoteo",
         "MG"
        ],
        [
         "8",
         "5adf08e34b2e993982a47070956c5c65",
         "1175e95fb47ddff9de6b2b06188f7e0d",
         "81560",
         "curitiba",
         "PR"
        ],
        [
         "9",
         "4b7139f34592b3a31687243a302fa75b",
         "9afe194fb833f79e300e37e580171f22",
         "30575",
         "belo horizonte",
         "MG"
        ],
        [
         "10",
         "9fb35e4ed6f0a14a4977cd9aea4042bb",
         "2a7745e1ed516b289ed9b29c7d0539a5",
         "39400",
         "montes claros",
         "MG"
        ],
        [
         "11",
         "5aa9e4fdd4dfd20959cad2d772509598",
         "2a46fb94aef5cbeeb850418118cee090",
         "20231",
         "rio de janeiro",
         "RJ"
        ],
        [
         "12",
         "b2d1536598b73a9abd18e0d75d92f0a3",
         "918dc87cd72cd9f6ed4bd442ed785235",
         "18682",
         "lencois paulista",
         "SP"
        ],
        [
         "13",
         "eabebad39a88bb6f5b52376faec28612",
         "295c05e81917928d76245e842748184d",
         "5704",
         "sao paulo",
         "SP"
        ],
        [
         "14",
         "1f1c7bf1c9b041b292af6c1c4470b753",
         "3151a81801c8386361b62277d7fa5ecf",
         "95110",
         "caxias do sul",
         "RS"
        ],
        [
         "15",
         "206f3129c0e4d7d0b9550426023f0a08",
         "21f748a16f4e1688a9014eb3ee6fa325",
         "13412",
         "piracicaba",
         "SP"
        ],
        [
         "16",
         "a7c125a0a07b75146167b7f04a7f8e98",
         "5c2991dbd08bbf3cf410713c4de5a0b5",
         "22750",
         "rio de janeiro",
         "RJ"
        ],
        [
         "17",
         "c5c61596a3b6bd0cee5766992c48a9a1",
         "b6e99561fe6f34a55b0b7da92f8ed775",
         "7124",
         "guarulhos",
         "SP"
        ],
        [
         "18",
         "9b8ce803689b3562defaad4613ef426f",
         "7f3a72e8f988c6e735ba118d54f47458",
         "5416",
         "sao paulo",
         "SP"
        ],
        [
         "19",
         "49d0ea0986edde72da777f15456a0ee0",
         "3e6fd6b2f0d499456a6a6820a40f2d79",
         "68485",
         "pacaja",
         "PA"
        ],
        [
         "20",
         "154c4ded6991bdfa3cd249d11abf4130",
         "e607ede0e63436308660236f5a52da5e",
         "88034",
         "florianopolis",
         "SC"
        ],
        [
         "21",
         "690172ab319622688d3b4df42f676898",
         "a96d5cfa0d3181817e2b946f921ea021",
         "74914",
         "aparecida de goiania",
         "GO"
        ],
        [
         "22",
         "2938121a40a20953c43caa8c98787fcb",
         "482441ea6a06b1f72fe9784756c0ea75",
         "5713",
         "sao paulo",
         "SP"
        ],
        [
         "23",
         "237098a64674ae89babdc426746260fc",
         "4390ddbb6276a66ff1736a6710205dca",
         "82820",
         "curitiba",
         "PR"
        ],
        [
         "24",
         "cb721d7b4f271fd87011c4c83462c076",
         "a5844ba4bfc8d0cc61d13027c7e63bcc",
         "8225",
         "sao paulo",
         "SP"
        ],
        [
         "25",
         "f681356046d9fde60e70c73a18d65ea2",
         "5f102dd37243f152aec3607970aad100",
         "9121",
         "santo andre",
         "SP"
        ],
        [
         "26",
         "167bd30a409e3e4127df5a9408ebd394",
         "9c0096673baf55453a50073f12d1a37f",
         "74310",
         "goiania",
         "GO"
        ],
        [
         "27",
         "6e359a57a91f84095cc64e1b351aef8c",
         "2e6a42a9b5cbb0da62988694f18ee295",
         "4571",
         "sao paulo",
         "SP"
        ],
        [
         "28",
         "e0eea8f69a457b3f1fa246e44c9ebefd",
         "4d221875624017bc47b4d1ce7314a5b7",
         "29311",
         "cachoeiro de itapemirim",
         "ES"
        ],
        [
         "29",
         "e3109970a3fe8021d5ff82c577ce5606",
         "a8654e2af5da6bb72f52c22b164855e1",
         "5528",
         "sao paulo",
         "SP"
        ],
        [
         "30",
         "261cb4f92498ca05d5bd1a327a261d9c",
         "424aca6872c5bab80780a8dec03b7516",
         "12235",
         "sao jose dos campos",
         "SP"
        ],
        [
         "31",
         "6f92779347724b67e44e3224f3b4cffd",
         "bf4862777db128507e9efcc789215e9b",
         "18130",
         "sao roque",
         "SP"
        ],
        [
         "32",
         "2d5831cb2dff7cdefba62e950ae3dc7b",
         "e9dd12dca17352644a959d9dea133935",
         "42800",
         "camacari",
         "BA"
        ],
        [
         "33",
         "b2bed119388167a954382cca36c4777f",
         "e079b18794454de9d2be5c12b4392294",
         "27525",
         "resende",
         "RJ"
        ],
        [
         "34",
         "469634941c27cd844170935a3cf60b95",
         "ef07ba9aa5226f77264ffa5762b2280b",
         "81750",
         "curitiba",
         "PR"
        ],
        [
         "35",
         "df0aa5b8586495e0ddf6b601122e43a1",
         "85d234692f7bee8d6fea586e237334b6",
         "13175",
         "sumare",
         "SP"
        ],
        [
         "36",
         "41c8f4b570869791379a925899a6af8a",
         "fe3634ccefbcdb0537b45fd589e32e8e",
         "7170",
         "guarulhos",
         "SP"
        ],
        [
         "37",
         "54f755c3fd2709231f9964a1430c5218",
         "40febde16f4718a5def537786473b0be",
         "93415",
         "novo hamburgo",
         "RS"
        ],
        [
         "38",
         "4c06b42fbf7b97ab10779cda5549cd1c",
         "07d190f123147d9e89d4b922543d7948",
         "65075",
         "sao luis",
         "MA"
        ],
        [
         "39",
         "b6368ca0f56d4632f44d58ca431487b2",
         "dd992305cba295d997f263dbdf4e8c2e",
         "88104",
         "sao jose",
         "SC"
        ],
        [
         "40",
         "4a0e66fd30684aa1409cd1b66fec77cc",
         "86085586aaa8c5f47ed0b400da64c59d",
         "7176",
         "guarulhos",
         "SP"
        ],
        [
         "41",
         "c168abb9077b7821adae01dc1f0886c5",
         "5ad58a4e6a1a656b6bed070cadbaa003",
         "35960",
         "santa barbara",
         "MG"
        ],
        [
         "42",
         "a3b0fda37bae14cf754877bed475e80c",
         "c9158d089637ab443c78984d20da7fc0",
         "5727",
         "sao paulo",
         "SP"
        ],
        [
         "43",
         "0ccd415657ae8a6cd1c71b00155a019e",
         "66cc90195ca44cc7ac6a1cd0e1e1e7b2",
         "7053",
         "guarulhos",
         "SP"
        ],
        [
         "44",
         "c532a74a3ebf1bacce2e2bcce3783317",
         "91ec50a00ae74d0a229d2efdf4344e1e",
         "14026",
         "ribeirao preto",
         "SP"
        ],
        [
         "45",
         "19cecb194f54e614b70d971306a9931b",
         "d251c190ca75786e9ab937982d60d1d4",
         "30320",
         "belo horizonte",
         "MG"
        ],
        [
         "46",
         "f34a6e874087ec1f0e3dab9fdf659c5d",
         "233896de79986082f1f479f1f85281cb",
         "38300",
         "ituiutaba",
         "MG"
        ],
        [
         "47",
         "c132855c926907970dcf6f2bf0b33a24",
         "a8ae36a2bb6c2bbc3b5d62ede131c9ef",
         "18740",
         "taquarituba",
         "SP"
        ],
        [
         "48",
         "df85b96ba2ce3e49bde101b1614f52ac",
         "8d46223c91cbeb93e0930ca8bd8ffca2",
         "83085",
         "sao jose dos pinhais",
         "PR"
        ],
        [
         "49",
         "4d27341acd30a36bca39008ee9bb9050",
         "e021e698833bdeb89dfef3acb2e91f37",
         "89254",
         "jaragua do sul",
         "SC"
        ]
       ],
       "shape": {
        "columns": 5,
        "rows": 99441
       }
      },
      "text/html": [
       "<div>\n",
       "<style scoped>\n",
       "    .dataframe tbody tr th:only-of-type {\n",
       "        vertical-align: middle;\n",
       "    }\n",
       "\n",
       "    .dataframe tbody tr th {\n",
       "        vertical-align: top;\n",
       "    }\n",
       "\n",
       "    .dataframe thead th {\n",
       "        text-align: right;\n",
       "    }\n",
       "</style>\n",
       "<table border=\"1\" class=\"dataframe\">\n",
       "  <thead>\n",
       "    <tr style=\"text-align: right;\">\n",
       "      <th></th>\n",
       "      <th>customer_id</th>\n",
       "      <th>customer_unique_id</th>\n",
       "      <th>customer_zip_code_prefix</th>\n",
       "      <th>customer_city</th>\n",
       "      <th>customer_state</th>\n",
       "    </tr>\n",
       "  </thead>\n",
       "  <tbody>\n",
       "    <tr>\n",
       "      <th>0</th>\n",
       "      <td>06b8999e2fba1a1fbc88172c00ba8bc7</td>\n",
       "      <td>861eff4711a542e4b93843c6dd7febb0</td>\n",
       "      <td>14409</td>\n",
       "      <td>franca</td>\n",
       "      <td>SP</td>\n",
       "    </tr>\n",
       "    <tr>\n",
       "      <th>1</th>\n",
       "      <td>18955e83d337fd6b2def6b18a428ac77</td>\n",
       "      <td>290c77bc529b7ac935b93aa66c333dc3</td>\n",
       "      <td>9790</td>\n",
       "      <td>sao bernardo do campo</td>\n",
       "      <td>SP</td>\n",
       "    </tr>\n",
       "    <tr>\n",
       "      <th>2</th>\n",
       "      <td>4e7b3e00288586ebd08712fdd0374a03</td>\n",
       "      <td>060e732b5b29e8181a18229c7b0b2b5e</td>\n",
       "      <td>1151</td>\n",
       "      <td>sao paulo</td>\n",
       "      <td>SP</td>\n",
       "    </tr>\n",
       "    <tr>\n",
       "      <th>3</th>\n",
       "      <td>b2b6027bc5c5109e529d4dc6358b12c3</td>\n",
       "      <td>259dac757896d24d7702b9acbbff3f3c</td>\n",
       "      <td>8775</td>\n",
       "      <td>mogi das cruzes</td>\n",
       "      <td>SP</td>\n",
       "    </tr>\n",
       "    <tr>\n",
       "      <th>4</th>\n",
       "      <td>4f2d8ab171c80ec8364f7c12e35b23ad</td>\n",
       "      <td>345ecd01c38d18a9036ed96c73b8d066</td>\n",
       "      <td>13056</td>\n",
       "      <td>campinas</td>\n",
       "      <td>SP</td>\n",
       "    </tr>\n",
       "    <tr>\n",
       "      <th>...</th>\n",
       "      <td>...</td>\n",
       "      <td>...</td>\n",
       "      <td>...</td>\n",
       "      <td>...</td>\n",
       "      <td>...</td>\n",
       "    </tr>\n",
       "    <tr>\n",
       "      <th>99436</th>\n",
       "      <td>17ddf5dd5d51696bb3d7c6291687be6f</td>\n",
       "      <td>1a29b476fee25c95fbafc67c5ac95cf8</td>\n",
       "      <td>3937</td>\n",
       "      <td>sao paulo</td>\n",
       "      <td>SP</td>\n",
       "    </tr>\n",
       "    <tr>\n",
       "      <th>99437</th>\n",
       "      <td>e7b71a9017aa05c9a7fd292d714858e8</td>\n",
       "      <td>d52a67c98be1cf6a5c84435bd38d095d</td>\n",
       "      <td>6764</td>\n",
       "      <td>taboao da serra</td>\n",
       "      <td>SP</td>\n",
       "    </tr>\n",
       "    <tr>\n",
       "      <th>99438</th>\n",
       "      <td>5e28dfe12db7fb50a4b2f691faecea5e</td>\n",
       "      <td>e9f50caf99f032f0bf3c55141f019d99</td>\n",
       "      <td>60115</td>\n",
       "      <td>fortaleza</td>\n",
       "      <td>CE</td>\n",
       "    </tr>\n",
       "    <tr>\n",
       "      <th>99439</th>\n",
       "      <td>56b18e2166679b8a959d72dd06da27f9</td>\n",
       "      <td>73c2643a0a458b49f58cea58833b192e</td>\n",
       "      <td>92120</td>\n",
       "      <td>canoas</td>\n",
       "      <td>RS</td>\n",
       "    </tr>\n",
       "    <tr>\n",
       "      <th>99440</th>\n",
       "      <td>274fa6071e5e17fe303b9748641082c8</td>\n",
       "      <td>84732c5050c01db9b23e19ba39899398</td>\n",
       "      <td>6703</td>\n",
       "      <td>cotia</td>\n",
       "      <td>SP</td>\n",
       "    </tr>\n",
       "  </tbody>\n",
       "</table>\n",
       "<p>99441 rows × 5 columns</p>\n",
       "</div>"
      ],
      "text/plain": [
       "                            customer_id                customer_unique_id  \\\n",
       "0      06b8999e2fba1a1fbc88172c00ba8bc7  861eff4711a542e4b93843c6dd7febb0   \n",
       "1      18955e83d337fd6b2def6b18a428ac77  290c77bc529b7ac935b93aa66c333dc3   \n",
       "2      4e7b3e00288586ebd08712fdd0374a03  060e732b5b29e8181a18229c7b0b2b5e   \n",
       "3      b2b6027bc5c5109e529d4dc6358b12c3  259dac757896d24d7702b9acbbff3f3c   \n",
       "4      4f2d8ab171c80ec8364f7c12e35b23ad  345ecd01c38d18a9036ed96c73b8d066   \n",
       "...                                 ...                               ...   \n",
       "99436  17ddf5dd5d51696bb3d7c6291687be6f  1a29b476fee25c95fbafc67c5ac95cf8   \n",
       "99437  e7b71a9017aa05c9a7fd292d714858e8  d52a67c98be1cf6a5c84435bd38d095d   \n",
       "99438  5e28dfe12db7fb50a4b2f691faecea5e  e9f50caf99f032f0bf3c55141f019d99   \n",
       "99439  56b18e2166679b8a959d72dd06da27f9  73c2643a0a458b49f58cea58833b192e   \n",
       "99440  274fa6071e5e17fe303b9748641082c8  84732c5050c01db9b23e19ba39899398   \n",
       "\n",
       "       customer_zip_code_prefix          customer_city customer_state  \n",
       "0                         14409                 franca             SP  \n",
       "1                          9790  sao bernardo do campo             SP  \n",
       "2                          1151              sao paulo             SP  \n",
       "3                          8775        mogi das cruzes             SP  \n",
       "4                         13056               campinas             SP  \n",
       "...                         ...                    ...            ...  \n",
       "99436                      3937              sao paulo             SP  \n",
       "99437                      6764        taboao da serra             SP  \n",
       "99438                     60115              fortaleza             CE  \n",
       "99439                     92120                 canoas             RS  \n",
       "99440                      6703                  cotia             SP  \n",
       "\n",
       "[99441 rows x 5 columns]"
      ]
     },
     "execution_count": 14,
     "metadata": {},
     "output_type": "execute_result"
    }
   ],
   "source": [
    "df"
   ]
  },
  {
   "cell_type": "code",
   "execution_count": 15,
   "id": "bec03485",
   "metadata": {},
   "outputs": [
    {
     "data": {
      "text/plain": [
       "Index(['customer_id', 'customer_unique_id', 'customer_zip_code_prefix',\n",
       "       'customer_city', 'customer_state'],\n",
       "      dtype='object')"
      ]
     },
     "execution_count": 15,
     "metadata": {},
     "output_type": "execute_result"
    }
   ],
   "source": [
    "df.columns"
   ]
  },
  {
   "cell_type": "code",
   "execution_count": 16,
   "id": "220e47bd",
   "metadata": {},
   "outputs": [
    {
     "data": {
      "application/vnd.microsoft.datawrangler.viewer.v0+json": {
       "columns": [
        {
         "name": "index",
         "rawType": "int64",
         "type": "integer"
        },
        {
         "name": "customer_id",
         "rawType": "object",
         "type": "string"
        },
        {
         "name": "customer_unique_id",
         "rawType": "object",
         "type": "string"
        },
        {
         "name": "customer_zip_code_prefix",
         "rawType": "int64",
         "type": "integer"
        },
        {
         "name": "customer_city",
         "rawType": "object",
         "type": "string"
        },
        {
         "name": "customer_state",
         "rawType": "object",
         "type": "string"
        }
       ],
       "ref": "7054c085-89eb-4228-a891-98a0291b5a69",
       "rows": [
        [
         "0",
         "06b8999e2fba1a1fbc88172c00ba8bc7",
         "861eff4711a542e4b93843c6dd7febb0",
         "14409",
         "franca",
         "SP"
        ],
        [
         "1",
         "18955e83d337fd6b2def6b18a428ac77",
         "290c77bc529b7ac935b93aa66c333dc3",
         "9790",
         "sao bernardo do campo",
         "SP"
        ],
        [
         "2",
         "4e7b3e00288586ebd08712fdd0374a03",
         "060e732b5b29e8181a18229c7b0b2b5e",
         "1151",
         "sao paulo",
         "SP"
        ],
        [
         "3",
         "b2b6027bc5c5109e529d4dc6358b12c3",
         "259dac757896d24d7702b9acbbff3f3c",
         "8775",
         "mogi das cruzes",
         "SP"
        ],
        [
         "4",
         "4f2d8ab171c80ec8364f7c12e35b23ad",
         "345ecd01c38d18a9036ed96c73b8d066",
         "13056",
         "campinas",
         "SP"
        ],
        [
         "5",
         "879864dab9bc3047522c92c82e1212b8",
         "4c93744516667ad3b8f1fb645a3116a4",
         "89254",
         "jaragua do sul",
         "SC"
        ],
        [
         "6",
         "fd826e7cf63160e536e0908c76c3f441",
         "addec96d2e059c80c30fe6871d30d177",
         "4534",
         "sao paulo",
         "SP"
        ],
        [
         "7",
         "5e274e7a0c3809e14aba7ad5aae0d407",
         "57b2a98a409812fe9618067b6b8ebe4f",
         "35182",
         "timoteo",
         "MG"
        ],
        [
         "8",
         "5adf08e34b2e993982a47070956c5c65",
         "1175e95fb47ddff9de6b2b06188f7e0d",
         "81560",
         "curitiba",
         "PR"
        ],
        [
         "9",
         "4b7139f34592b3a31687243a302fa75b",
         "9afe194fb833f79e300e37e580171f22",
         "30575",
         "belo horizonte",
         "MG"
        ],
        [
         "10",
         "9fb35e4ed6f0a14a4977cd9aea4042bb",
         "2a7745e1ed516b289ed9b29c7d0539a5",
         "39400",
         "montes claros",
         "MG"
        ],
        [
         "11",
         "5aa9e4fdd4dfd20959cad2d772509598",
         "2a46fb94aef5cbeeb850418118cee090",
         "20231",
         "rio de janeiro",
         "RJ"
        ],
        [
         "12",
         "b2d1536598b73a9abd18e0d75d92f0a3",
         "918dc87cd72cd9f6ed4bd442ed785235",
         "18682",
         "lencois paulista",
         "SP"
        ],
        [
         "13",
         "eabebad39a88bb6f5b52376faec28612",
         "295c05e81917928d76245e842748184d",
         "5704",
         "sao paulo",
         "SP"
        ],
        [
         "14",
         "1f1c7bf1c9b041b292af6c1c4470b753",
         "3151a81801c8386361b62277d7fa5ecf",
         "95110",
         "caxias do sul",
         "RS"
        ],
        [
         "15",
         "206f3129c0e4d7d0b9550426023f0a08",
         "21f748a16f4e1688a9014eb3ee6fa325",
         "13412",
         "piracicaba",
         "SP"
        ],
        [
         "16",
         "a7c125a0a07b75146167b7f04a7f8e98",
         "5c2991dbd08bbf3cf410713c4de5a0b5",
         "22750",
         "rio de janeiro",
         "RJ"
        ],
        [
         "17",
         "c5c61596a3b6bd0cee5766992c48a9a1",
         "b6e99561fe6f34a55b0b7da92f8ed775",
         "7124",
         "guarulhos",
         "SP"
        ],
        [
         "18",
         "9b8ce803689b3562defaad4613ef426f",
         "7f3a72e8f988c6e735ba118d54f47458",
         "5416",
         "sao paulo",
         "SP"
        ],
        [
         "19",
         "49d0ea0986edde72da777f15456a0ee0",
         "3e6fd6b2f0d499456a6a6820a40f2d79",
         "68485",
         "pacaja",
         "PA"
        ],
        [
         "20",
         "154c4ded6991bdfa3cd249d11abf4130",
         "e607ede0e63436308660236f5a52da5e",
         "88034",
         "florianopolis",
         "SC"
        ],
        [
         "21",
         "690172ab319622688d3b4df42f676898",
         "a96d5cfa0d3181817e2b946f921ea021",
         "74914",
         "aparecida de goiania",
         "GO"
        ],
        [
         "22",
         "2938121a40a20953c43caa8c98787fcb",
         "482441ea6a06b1f72fe9784756c0ea75",
         "5713",
         "sao paulo",
         "SP"
        ],
        [
         "23",
         "237098a64674ae89babdc426746260fc",
         "4390ddbb6276a66ff1736a6710205dca",
         "82820",
         "curitiba",
         "PR"
        ],
        [
         "24",
         "cb721d7b4f271fd87011c4c83462c076",
         "a5844ba4bfc8d0cc61d13027c7e63bcc",
         "8225",
         "sao paulo",
         "SP"
        ],
        [
         "25",
         "f681356046d9fde60e70c73a18d65ea2",
         "5f102dd37243f152aec3607970aad100",
         "9121",
         "santo andre",
         "SP"
        ],
        [
         "26",
         "167bd30a409e3e4127df5a9408ebd394",
         "9c0096673baf55453a50073f12d1a37f",
         "74310",
         "goiania",
         "GO"
        ],
        [
         "27",
         "6e359a57a91f84095cc64e1b351aef8c",
         "2e6a42a9b5cbb0da62988694f18ee295",
         "4571",
         "sao paulo",
         "SP"
        ],
        [
         "28",
         "e0eea8f69a457b3f1fa246e44c9ebefd",
         "4d221875624017bc47b4d1ce7314a5b7",
         "29311",
         "cachoeiro de itapemirim",
         "ES"
        ],
        [
         "29",
         "e3109970a3fe8021d5ff82c577ce5606",
         "a8654e2af5da6bb72f52c22b164855e1",
         "5528",
         "sao paulo",
         "SP"
        ],
        [
         "30",
         "261cb4f92498ca05d5bd1a327a261d9c",
         "424aca6872c5bab80780a8dec03b7516",
         "12235",
         "sao jose dos campos",
         "SP"
        ],
        [
         "31",
         "6f92779347724b67e44e3224f3b4cffd",
         "bf4862777db128507e9efcc789215e9b",
         "18130",
         "sao roque",
         "SP"
        ],
        [
         "32",
         "2d5831cb2dff7cdefba62e950ae3dc7b",
         "e9dd12dca17352644a959d9dea133935",
         "42800",
         "camacari",
         "BA"
        ],
        [
         "33",
         "b2bed119388167a954382cca36c4777f",
         "e079b18794454de9d2be5c12b4392294",
         "27525",
         "resende",
         "RJ"
        ],
        [
         "34",
         "469634941c27cd844170935a3cf60b95",
         "ef07ba9aa5226f77264ffa5762b2280b",
         "81750",
         "curitiba",
         "PR"
        ],
        [
         "35",
         "df0aa5b8586495e0ddf6b601122e43a1",
         "85d234692f7bee8d6fea586e237334b6",
         "13175",
         "sumare",
         "SP"
        ],
        [
         "36",
         "41c8f4b570869791379a925899a6af8a",
         "fe3634ccefbcdb0537b45fd589e32e8e",
         "7170",
         "guarulhos",
         "SP"
        ],
        [
         "37",
         "54f755c3fd2709231f9964a1430c5218",
         "40febde16f4718a5def537786473b0be",
         "93415",
         "novo hamburgo",
         "RS"
        ],
        [
         "38",
         "4c06b42fbf7b97ab10779cda5549cd1c",
         "07d190f123147d9e89d4b922543d7948",
         "65075",
         "sao luis",
         "MA"
        ],
        [
         "39",
         "b6368ca0f56d4632f44d58ca431487b2",
         "dd992305cba295d997f263dbdf4e8c2e",
         "88104",
         "sao jose",
         "SC"
        ],
        [
         "40",
         "4a0e66fd30684aa1409cd1b66fec77cc",
         "86085586aaa8c5f47ed0b400da64c59d",
         "7176",
         "guarulhos",
         "SP"
        ],
        [
         "41",
         "c168abb9077b7821adae01dc1f0886c5",
         "5ad58a4e6a1a656b6bed070cadbaa003",
         "35960",
         "santa barbara",
         "MG"
        ],
        [
         "42",
         "a3b0fda37bae14cf754877bed475e80c",
         "c9158d089637ab443c78984d20da7fc0",
         "5727",
         "sao paulo",
         "SP"
        ],
        [
         "43",
         "0ccd415657ae8a6cd1c71b00155a019e",
         "66cc90195ca44cc7ac6a1cd0e1e1e7b2",
         "7053",
         "guarulhos",
         "SP"
        ],
        [
         "44",
         "c532a74a3ebf1bacce2e2bcce3783317",
         "91ec50a00ae74d0a229d2efdf4344e1e",
         "14026",
         "ribeirao preto",
         "SP"
        ],
        [
         "45",
         "19cecb194f54e614b70d971306a9931b",
         "d251c190ca75786e9ab937982d60d1d4",
         "30320",
         "belo horizonte",
         "MG"
        ],
        [
         "46",
         "f34a6e874087ec1f0e3dab9fdf659c5d",
         "233896de79986082f1f479f1f85281cb",
         "38300",
         "ituiutaba",
         "MG"
        ],
        [
         "47",
         "c132855c926907970dcf6f2bf0b33a24",
         "a8ae36a2bb6c2bbc3b5d62ede131c9ef",
         "18740",
         "taquarituba",
         "SP"
        ],
        [
         "48",
         "df85b96ba2ce3e49bde101b1614f52ac",
         "8d46223c91cbeb93e0930ca8bd8ffca2",
         "83085",
         "sao jose dos pinhais",
         "PR"
        ],
        [
         "49",
         "4d27341acd30a36bca39008ee9bb9050",
         "e021e698833bdeb89dfef3acb2e91f37",
         "89254",
         "jaragua do sul",
         "SC"
        ]
       ],
       "shape": {
        "columns": 5,
        "rows": 99441
       }
      },
      "text/html": [
       "<div>\n",
       "<style scoped>\n",
       "    .dataframe tbody tr th:only-of-type {\n",
       "        vertical-align: middle;\n",
       "    }\n",
       "\n",
       "    .dataframe tbody tr th {\n",
       "        vertical-align: top;\n",
       "    }\n",
       "\n",
       "    .dataframe thead th {\n",
       "        text-align: right;\n",
       "    }\n",
       "</style>\n",
       "<table border=\"1\" class=\"dataframe\">\n",
       "  <thead>\n",
       "    <tr style=\"text-align: right;\">\n",
       "      <th></th>\n",
       "      <th>customer_id</th>\n",
       "      <th>customer_unique_id</th>\n",
       "      <th>customer_zip_code_prefix</th>\n",
       "      <th>customer_city</th>\n",
       "      <th>customer_state</th>\n",
       "    </tr>\n",
       "  </thead>\n",
       "  <tbody>\n",
       "    <tr>\n",
       "      <th>0</th>\n",
       "      <td>06b8999e2fba1a1fbc88172c00ba8bc7</td>\n",
       "      <td>861eff4711a542e4b93843c6dd7febb0</td>\n",
       "      <td>14409</td>\n",
       "      <td>franca</td>\n",
       "      <td>SP</td>\n",
       "    </tr>\n",
       "    <tr>\n",
       "      <th>1</th>\n",
       "      <td>18955e83d337fd6b2def6b18a428ac77</td>\n",
       "      <td>290c77bc529b7ac935b93aa66c333dc3</td>\n",
       "      <td>9790</td>\n",
       "      <td>sao bernardo do campo</td>\n",
       "      <td>SP</td>\n",
       "    </tr>\n",
       "    <tr>\n",
       "      <th>2</th>\n",
       "      <td>4e7b3e00288586ebd08712fdd0374a03</td>\n",
       "      <td>060e732b5b29e8181a18229c7b0b2b5e</td>\n",
       "      <td>1151</td>\n",
       "      <td>sao paulo</td>\n",
       "      <td>SP</td>\n",
       "    </tr>\n",
       "    <tr>\n",
       "      <th>3</th>\n",
       "      <td>b2b6027bc5c5109e529d4dc6358b12c3</td>\n",
       "      <td>259dac757896d24d7702b9acbbff3f3c</td>\n",
       "      <td>8775</td>\n",
       "      <td>mogi das cruzes</td>\n",
       "      <td>SP</td>\n",
       "    </tr>\n",
       "    <tr>\n",
       "      <th>4</th>\n",
       "      <td>4f2d8ab171c80ec8364f7c12e35b23ad</td>\n",
       "      <td>345ecd01c38d18a9036ed96c73b8d066</td>\n",
       "      <td>13056</td>\n",
       "      <td>campinas</td>\n",
       "      <td>SP</td>\n",
       "    </tr>\n",
       "    <tr>\n",
       "      <th>...</th>\n",
       "      <td>...</td>\n",
       "      <td>...</td>\n",
       "      <td>...</td>\n",
       "      <td>...</td>\n",
       "      <td>...</td>\n",
       "    </tr>\n",
       "    <tr>\n",
       "      <th>99436</th>\n",
       "      <td>17ddf5dd5d51696bb3d7c6291687be6f</td>\n",
       "      <td>1a29b476fee25c95fbafc67c5ac95cf8</td>\n",
       "      <td>3937</td>\n",
       "      <td>sao paulo</td>\n",
       "      <td>SP</td>\n",
       "    </tr>\n",
       "    <tr>\n",
       "      <th>99437</th>\n",
       "      <td>e7b71a9017aa05c9a7fd292d714858e8</td>\n",
       "      <td>d52a67c98be1cf6a5c84435bd38d095d</td>\n",
       "      <td>6764</td>\n",
       "      <td>taboao da serra</td>\n",
       "      <td>SP</td>\n",
       "    </tr>\n",
       "    <tr>\n",
       "      <th>99438</th>\n",
       "      <td>5e28dfe12db7fb50a4b2f691faecea5e</td>\n",
       "      <td>e9f50caf99f032f0bf3c55141f019d99</td>\n",
       "      <td>60115</td>\n",
       "      <td>fortaleza</td>\n",
       "      <td>CE</td>\n",
       "    </tr>\n",
       "    <tr>\n",
       "      <th>99439</th>\n",
       "      <td>56b18e2166679b8a959d72dd06da27f9</td>\n",
       "      <td>73c2643a0a458b49f58cea58833b192e</td>\n",
       "      <td>92120</td>\n",
       "      <td>canoas</td>\n",
       "      <td>RS</td>\n",
       "    </tr>\n",
       "    <tr>\n",
       "      <th>99440</th>\n",
       "      <td>274fa6071e5e17fe303b9748641082c8</td>\n",
       "      <td>84732c5050c01db9b23e19ba39899398</td>\n",
       "      <td>6703</td>\n",
       "      <td>cotia</td>\n",
       "      <td>SP</td>\n",
       "    </tr>\n",
       "  </tbody>\n",
       "</table>\n",
       "<p>99441 rows × 5 columns</p>\n",
       "</div>"
      ],
      "text/plain": [
       "                            customer_id                customer_unique_id  \\\n",
       "0      06b8999e2fba1a1fbc88172c00ba8bc7  861eff4711a542e4b93843c6dd7febb0   \n",
       "1      18955e83d337fd6b2def6b18a428ac77  290c77bc529b7ac935b93aa66c333dc3   \n",
       "2      4e7b3e00288586ebd08712fdd0374a03  060e732b5b29e8181a18229c7b0b2b5e   \n",
       "3      b2b6027bc5c5109e529d4dc6358b12c3  259dac757896d24d7702b9acbbff3f3c   \n",
       "4      4f2d8ab171c80ec8364f7c12e35b23ad  345ecd01c38d18a9036ed96c73b8d066   \n",
       "...                                 ...                               ...   \n",
       "99436  17ddf5dd5d51696bb3d7c6291687be6f  1a29b476fee25c95fbafc67c5ac95cf8   \n",
       "99437  e7b71a9017aa05c9a7fd292d714858e8  d52a67c98be1cf6a5c84435bd38d095d   \n",
       "99438  5e28dfe12db7fb50a4b2f691faecea5e  e9f50caf99f032f0bf3c55141f019d99   \n",
       "99439  56b18e2166679b8a959d72dd06da27f9  73c2643a0a458b49f58cea58833b192e   \n",
       "99440  274fa6071e5e17fe303b9748641082c8  84732c5050c01db9b23e19ba39899398   \n",
       "\n",
       "       customer_zip_code_prefix          customer_city customer_state  \n",
       "0                         14409                 franca             SP  \n",
       "1                          9790  sao bernardo do campo             SP  \n",
       "2                          1151              sao paulo             SP  \n",
       "3                          8775        mogi das cruzes             SP  \n",
       "4                         13056               campinas             SP  \n",
       "...                         ...                    ...            ...  \n",
       "99436                      3937              sao paulo             SP  \n",
       "99437                      6764        taboao da serra             SP  \n",
       "99438                     60115              fortaleza             CE  \n",
       "99439                     92120                 canoas             RS  \n",
       "99440                      6703                  cotia             SP  \n",
       "\n",
       "[99441 rows x 5 columns]"
      ]
     },
     "execution_count": 16,
     "metadata": {},
     "output_type": "execute_result"
    }
   ],
   "source": [
    "\n",
    "df"
   ]
  },
  {
   "cell_type": "code",
   "execution_count": 17,
   "id": "498f868b",
   "metadata": {},
   "outputs": [],
   "source": [
    "df['customer_city'] = df['customer_city'].str.lower().str.strip()\n",
    "\n"
   ]
  },
  {
   "cell_type": "code",
   "execution_count": 18,
   "id": "9cdd45e5",
   "metadata": {},
   "outputs": [
    {
     "data": {
      "text/plain": [
       "array(['SP', 'SC', 'MG', 'PR', 'RJ', 'RS', 'PA', 'GO', 'ES', 'BA', 'MA',\n",
       "       'MS', 'CE', 'DF', 'RN', 'PE', 'MT', 'AM', 'AP', 'AL', 'RO', 'PB',\n",
       "       'TO', 'PI', 'AC', 'SE', 'RR'], dtype=object)"
      ]
     },
     "execution_count": 18,
     "metadata": {},
     "output_type": "execute_result"
    }
   ],
   "source": [
    "df[\"customer_state\"].unique()\n"
   ]
  },
  {
   "cell_type": "code",
   "execution_count": 19,
   "id": "8d9e8a8e",
   "metadata": {},
   "outputs": [
    {
     "data": {
      "text/plain": [
       "(99441, 99441)"
      ]
     },
     "execution_count": 19,
     "metadata": {},
     "output_type": "execute_result"
    }
   ],
   "source": [
    "df[\"customer_id\"].nunique(), df.shape[0]\n"
   ]
  },
  {
   "cell_type": "code",
   "execution_count": 20,
   "id": "4e0059dd",
   "metadata": {},
   "outputs": [
    {
     "data": {
      "application/vnd.microsoft.datawrangler.viewer.v0+json": {
       "columns": [
        {
         "name": "index",
         "rawType": "int64",
         "type": "integer"
        },
        {
         "name": "customer_id",
         "rawType": "object",
         "type": "string"
        },
        {
         "name": "customer_unique_id",
         "rawType": "object",
         "type": "string"
        },
        {
         "name": "customer_zip_code_prefix",
         "rawType": "int64",
         "type": "integer"
        },
        {
         "name": "customer_city",
         "rawType": "object",
         "type": "string"
        },
        {
         "name": "customer_state",
         "rawType": "object",
         "type": "string"
        }
       ],
       "ref": "6bb37517-b6b2-42be-a1d7-9d46f5a82fff",
       "rows": [
        [
         "0",
         "06b8999e2fba1a1fbc88172c00ba8bc7",
         "861eff4711a542e4b93843c6dd7febb0",
         "14409",
         "franca",
         "SP"
        ],
        [
         "1",
         "18955e83d337fd6b2def6b18a428ac77",
         "290c77bc529b7ac935b93aa66c333dc3",
         "9790",
         "sao bernardo do campo",
         "SP"
        ],
        [
         "2",
         "4e7b3e00288586ebd08712fdd0374a03",
         "060e732b5b29e8181a18229c7b0b2b5e",
         "1151",
         "sao paulo",
         "SP"
        ],
        [
         "3",
         "b2b6027bc5c5109e529d4dc6358b12c3",
         "259dac757896d24d7702b9acbbff3f3c",
         "8775",
         "mogi das cruzes",
         "SP"
        ],
        [
         "4",
         "4f2d8ab171c80ec8364f7c12e35b23ad",
         "345ecd01c38d18a9036ed96c73b8d066",
         "13056",
         "campinas",
         "SP"
        ],
        [
         "5",
         "879864dab9bc3047522c92c82e1212b8",
         "4c93744516667ad3b8f1fb645a3116a4",
         "89254",
         "jaragua do sul",
         "SC"
        ],
        [
         "6",
         "fd826e7cf63160e536e0908c76c3f441",
         "addec96d2e059c80c30fe6871d30d177",
         "4534",
         "sao paulo",
         "SP"
        ],
        [
         "7",
         "5e274e7a0c3809e14aba7ad5aae0d407",
         "57b2a98a409812fe9618067b6b8ebe4f",
         "35182",
         "timoteo",
         "MG"
        ],
        [
         "8",
         "5adf08e34b2e993982a47070956c5c65",
         "1175e95fb47ddff9de6b2b06188f7e0d",
         "81560",
         "curitiba",
         "PR"
        ],
        [
         "9",
         "4b7139f34592b3a31687243a302fa75b",
         "9afe194fb833f79e300e37e580171f22",
         "30575",
         "belo horizonte",
         "MG"
        ],
        [
         "10",
         "9fb35e4ed6f0a14a4977cd9aea4042bb",
         "2a7745e1ed516b289ed9b29c7d0539a5",
         "39400",
         "montes claros",
         "MG"
        ],
        [
         "11",
         "5aa9e4fdd4dfd20959cad2d772509598",
         "2a46fb94aef5cbeeb850418118cee090",
         "20231",
         "rio de janeiro",
         "RJ"
        ],
        [
         "12",
         "b2d1536598b73a9abd18e0d75d92f0a3",
         "918dc87cd72cd9f6ed4bd442ed785235",
         "18682",
         "lencois paulista",
         "SP"
        ],
        [
         "13",
         "eabebad39a88bb6f5b52376faec28612",
         "295c05e81917928d76245e842748184d",
         "5704",
         "sao paulo",
         "SP"
        ],
        [
         "14",
         "1f1c7bf1c9b041b292af6c1c4470b753",
         "3151a81801c8386361b62277d7fa5ecf",
         "95110",
         "caxias do sul",
         "RS"
        ],
        [
         "15",
         "206f3129c0e4d7d0b9550426023f0a08",
         "21f748a16f4e1688a9014eb3ee6fa325",
         "13412",
         "piracicaba",
         "SP"
        ],
        [
         "16",
         "a7c125a0a07b75146167b7f04a7f8e98",
         "5c2991dbd08bbf3cf410713c4de5a0b5",
         "22750",
         "rio de janeiro",
         "RJ"
        ],
        [
         "17",
         "c5c61596a3b6bd0cee5766992c48a9a1",
         "b6e99561fe6f34a55b0b7da92f8ed775",
         "7124",
         "guarulhos",
         "SP"
        ],
        [
         "18",
         "9b8ce803689b3562defaad4613ef426f",
         "7f3a72e8f988c6e735ba118d54f47458",
         "5416",
         "sao paulo",
         "SP"
        ],
        [
         "19",
         "49d0ea0986edde72da777f15456a0ee0",
         "3e6fd6b2f0d499456a6a6820a40f2d79",
         "68485",
         "pacaja",
         "PA"
        ],
        [
         "20",
         "154c4ded6991bdfa3cd249d11abf4130",
         "e607ede0e63436308660236f5a52da5e",
         "88034",
         "florianopolis",
         "SC"
        ],
        [
         "21",
         "690172ab319622688d3b4df42f676898",
         "a96d5cfa0d3181817e2b946f921ea021",
         "74914",
         "aparecida de goiania",
         "GO"
        ],
        [
         "22",
         "2938121a40a20953c43caa8c98787fcb",
         "482441ea6a06b1f72fe9784756c0ea75",
         "5713",
         "sao paulo",
         "SP"
        ],
        [
         "23",
         "237098a64674ae89babdc426746260fc",
         "4390ddbb6276a66ff1736a6710205dca",
         "82820",
         "curitiba",
         "PR"
        ],
        [
         "24",
         "cb721d7b4f271fd87011c4c83462c076",
         "a5844ba4bfc8d0cc61d13027c7e63bcc",
         "8225",
         "sao paulo",
         "SP"
        ],
        [
         "25",
         "f681356046d9fde60e70c73a18d65ea2",
         "5f102dd37243f152aec3607970aad100",
         "9121",
         "santo andre",
         "SP"
        ],
        [
         "26",
         "167bd30a409e3e4127df5a9408ebd394",
         "9c0096673baf55453a50073f12d1a37f",
         "74310",
         "goiania",
         "GO"
        ],
        [
         "27",
         "6e359a57a91f84095cc64e1b351aef8c",
         "2e6a42a9b5cbb0da62988694f18ee295",
         "4571",
         "sao paulo",
         "SP"
        ],
        [
         "28",
         "e0eea8f69a457b3f1fa246e44c9ebefd",
         "4d221875624017bc47b4d1ce7314a5b7",
         "29311",
         "cachoeiro de itapemirim",
         "ES"
        ],
        [
         "29",
         "e3109970a3fe8021d5ff82c577ce5606",
         "a8654e2af5da6bb72f52c22b164855e1",
         "5528",
         "sao paulo",
         "SP"
        ],
        [
         "30",
         "261cb4f92498ca05d5bd1a327a261d9c",
         "424aca6872c5bab80780a8dec03b7516",
         "12235",
         "sao jose dos campos",
         "SP"
        ],
        [
         "31",
         "6f92779347724b67e44e3224f3b4cffd",
         "bf4862777db128507e9efcc789215e9b",
         "18130",
         "sao roque",
         "SP"
        ],
        [
         "32",
         "2d5831cb2dff7cdefba62e950ae3dc7b",
         "e9dd12dca17352644a959d9dea133935",
         "42800",
         "camacari",
         "BA"
        ],
        [
         "33",
         "b2bed119388167a954382cca36c4777f",
         "e079b18794454de9d2be5c12b4392294",
         "27525",
         "resende",
         "RJ"
        ],
        [
         "34",
         "469634941c27cd844170935a3cf60b95",
         "ef07ba9aa5226f77264ffa5762b2280b",
         "81750",
         "curitiba",
         "PR"
        ],
        [
         "35",
         "df0aa5b8586495e0ddf6b601122e43a1",
         "85d234692f7bee8d6fea586e237334b6",
         "13175",
         "sumare",
         "SP"
        ],
        [
         "36",
         "41c8f4b570869791379a925899a6af8a",
         "fe3634ccefbcdb0537b45fd589e32e8e",
         "7170",
         "guarulhos",
         "SP"
        ],
        [
         "37",
         "54f755c3fd2709231f9964a1430c5218",
         "40febde16f4718a5def537786473b0be",
         "93415",
         "novo hamburgo",
         "RS"
        ],
        [
         "38",
         "4c06b42fbf7b97ab10779cda5549cd1c",
         "07d190f123147d9e89d4b922543d7948",
         "65075",
         "sao luis",
         "MA"
        ],
        [
         "39",
         "b6368ca0f56d4632f44d58ca431487b2",
         "dd992305cba295d997f263dbdf4e8c2e",
         "88104",
         "sao jose",
         "SC"
        ],
        [
         "40",
         "4a0e66fd30684aa1409cd1b66fec77cc",
         "86085586aaa8c5f47ed0b400da64c59d",
         "7176",
         "guarulhos",
         "SP"
        ],
        [
         "41",
         "c168abb9077b7821adae01dc1f0886c5",
         "5ad58a4e6a1a656b6bed070cadbaa003",
         "35960",
         "santa barbara",
         "MG"
        ],
        [
         "42",
         "a3b0fda37bae14cf754877bed475e80c",
         "c9158d089637ab443c78984d20da7fc0",
         "5727",
         "sao paulo",
         "SP"
        ],
        [
         "43",
         "0ccd415657ae8a6cd1c71b00155a019e",
         "66cc90195ca44cc7ac6a1cd0e1e1e7b2",
         "7053",
         "guarulhos",
         "SP"
        ],
        [
         "44",
         "c532a74a3ebf1bacce2e2bcce3783317",
         "91ec50a00ae74d0a229d2efdf4344e1e",
         "14026",
         "ribeirao preto",
         "SP"
        ],
        [
         "45",
         "19cecb194f54e614b70d971306a9931b",
         "d251c190ca75786e9ab937982d60d1d4",
         "30320",
         "belo horizonte",
         "MG"
        ],
        [
         "46",
         "f34a6e874087ec1f0e3dab9fdf659c5d",
         "233896de79986082f1f479f1f85281cb",
         "38300",
         "ituiutaba",
         "MG"
        ],
        [
         "47",
         "c132855c926907970dcf6f2bf0b33a24",
         "a8ae36a2bb6c2bbc3b5d62ede131c9ef",
         "18740",
         "taquarituba",
         "SP"
        ],
        [
         "48",
         "df85b96ba2ce3e49bde101b1614f52ac",
         "8d46223c91cbeb93e0930ca8bd8ffca2",
         "83085",
         "sao jose dos pinhais",
         "PR"
        ],
        [
         "49",
         "4d27341acd30a36bca39008ee9bb9050",
         "e021e698833bdeb89dfef3acb2e91f37",
         "89254",
         "jaragua do sul",
         "SC"
        ]
       ],
       "shape": {
        "columns": 5,
        "rows": 99441
       }
      },
      "text/html": [
       "<div>\n",
       "<style scoped>\n",
       "    .dataframe tbody tr th:only-of-type {\n",
       "        vertical-align: middle;\n",
       "    }\n",
       "\n",
       "    .dataframe tbody tr th {\n",
       "        vertical-align: top;\n",
       "    }\n",
       "\n",
       "    .dataframe thead th {\n",
       "        text-align: right;\n",
       "    }\n",
       "</style>\n",
       "<table border=\"1\" class=\"dataframe\">\n",
       "  <thead>\n",
       "    <tr style=\"text-align: right;\">\n",
       "      <th></th>\n",
       "      <th>customer_id</th>\n",
       "      <th>customer_unique_id</th>\n",
       "      <th>customer_zip_code_prefix</th>\n",
       "      <th>customer_city</th>\n",
       "      <th>customer_state</th>\n",
       "    </tr>\n",
       "  </thead>\n",
       "  <tbody>\n",
       "    <tr>\n",
       "      <th>0</th>\n",
       "      <td>06b8999e2fba1a1fbc88172c00ba8bc7</td>\n",
       "      <td>861eff4711a542e4b93843c6dd7febb0</td>\n",
       "      <td>14409</td>\n",
       "      <td>franca</td>\n",
       "      <td>SP</td>\n",
       "    </tr>\n",
       "    <tr>\n",
       "      <th>1</th>\n",
       "      <td>18955e83d337fd6b2def6b18a428ac77</td>\n",
       "      <td>290c77bc529b7ac935b93aa66c333dc3</td>\n",
       "      <td>9790</td>\n",
       "      <td>sao bernardo do campo</td>\n",
       "      <td>SP</td>\n",
       "    </tr>\n",
       "    <tr>\n",
       "      <th>2</th>\n",
       "      <td>4e7b3e00288586ebd08712fdd0374a03</td>\n",
       "      <td>060e732b5b29e8181a18229c7b0b2b5e</td>\n",
       "      <td>1151</td>\n",
       "      <td>sao paulo</td>\n",
       "      <td>SP</td>\n",
       "    </tr>\n",
       "    <tr>\n",
       "      <th>3</th>\n",
       "      <td>b2b6027bc5c5109e529d4dc6358b12c3</td>\n",
       "      <td>259dac757896d24d7702b9acbbff3f3c</td>\n",
       "      <td>8775</td>\n",
       "      <td>mogi das cruzes</td>\n",
       "      <td>SP</td>\n",
       "    </tr>\n",
       "    <tr>\n",
       "      <th>4</th>\n",
       "      <td>4f2d8ab171c80ec8364f7c12e35b23ad</td>\n",
       "      <td>345ecd01c38d18a9036ed96c73b8d066</td>\n",
       "      <td>13056</td>\n",
       "      <td>campinas</td>\n",
       "      <td>SP</td>\n",
       "    </tr>\n",
       "    <tr>\n",
       "      <th>...</th>\n",
       "      <td>...</td>\n",
       "      <td>...</td>\n",
       "      <td>...</td>\n",
       "      <td>...</td>\n",
       "      <td>...</td>\n",
       "    </tr>\n",
       "    <tr>\n",
       "      <th>99436</th>\n",
       "      <td>17ddf5dd5d51696bb3d7c6291687be6f</td>\n",
       "      <td>1a29b476fee25c95fbafc67c5ac95cf8</td>\n",
       "      <td>3937</td>\n",
       "      <td>sao paulo</td>\n",
       "      <td>SP</td>\n",
       "    </tr>\n",
       "    <tr>\n",
       "      <th>99437</th>\n",
       "      <td>e7b71a9017aa05c9a7fd292d714858e8</td>\n",
       "      <td>d52a67c98be1cf6a5c84435bd38d095d</td>\n",
       "      <td>6764</td>\n",
       "      <td>taboao da serra</td>\n",
       "      <td>SP</td>\n",
       "    </tr>\n",
       "    <tr>\n",
       "      <th>99438</th>\n",
       "      <td>5e28dfe12db7fb50a4b2f691faecea5e</td>\n",
       "      <td>e9f50caf99f032f0bf3c55141f019d99</td>\n",
       "      <td>60115</td>\n",
       "      <td>fortaleza</td>\n",
       "      <td>CE</td>\n",
       "    </tr>\n",
       "    <tr>\n",
       "      <th>99439</th>\n",
       "      <td>56b18e2166679b8a959d72dd06da27f9</td>\n",
       "      <td>73c2643a0a458b49f58cea58833b192e</td>\n",
       "      <td>92120</td>\n",
       "      <td>canoas</td>\n",
       "      <td>RS</td>\n",
       "    </tr>\n",
       "    <tr>\n",
       "      <th>99440</th>\n",
       "      <td>274fa6071e5e17fe303b9748641082c8</td>\n",
       "      <td>84732c5050c01db9b23e19ba39899398</td>\n",
       "      <td>6703</td>\n",
       "      <td>cotia</td>\n",
       "      <td>SP</td>\n",
       "    </tr>\n",
       "  </tbody>\n",
       "</table>\n",
       "<p>99441 rows × 5 columns</p>\n",
       "</div>"
      ],
      "text/plain": [
       "                            customer_id                customer_unique_id  \\\n",
       "0      06b8999e2fba1a1fbc88172c00ba8bc7  861eff4711a542e4b93843c6dd7febb0   \n",
       "1      18955e83d337fd6b2def6b18a428ac77  290c77bc529b7ac935b93aa66c333dc3   \n",
       "2      4e7b3e00288586ebd08712fdd0374a03  060e732b5b29e8181a18229c7b0b2b5e   \n",
       "3      b2b6027bc5c5109e529d4dc6358b12c3  259dac757896d24d7702b9acbbff3f3c   \n",
       "4      4f2d8ab171c80ec8364f7c12e35b23ad  345ecd01c38d18a9036ed96c73b8d066   \n",
       "...                                 ...                               ...   \n",
       "99436  17ddf5dd5d51696bb3d7c6291687be6f  1a29b476fee25c95fbafc67c5ac95cf8   \n",
       "99437  e7b71a9017aa05c9a7fd292d714858e8  d52a67c98be1cf6a5c84435bd38d095d   \n",
       "99438  5e28dfe12db7fb50a4b2f691faecea5e  e9f50caf99f032f0bf3c55141f019d99   \n",
       "99439  56b18e2166679b8a959d72dd06da27f9  73c2643a0a458b49f58cea58833b192e   \n",
       "99440  274fa6071e5e17fe303b9748641082c8  84732c5050c01db9b23e19ba39899398   \n",
       "\n",
       "       customer_zip_code_prefix          customer_city customer_state  \n",
       "0                         14409                 franca             SP  \n",
       "1                          9790  sao bernardo do campo             SP  \n",
       "2                          1151              sao paulo             SP  \n",
       "3                          8775        mogi das cruzes             SP  \n",
       "4                         13056               campinas             SP  \n",
       "...                         ...                    ...            ...  \n",
       "99436                      3937              sao paulo             SP  \n",
       "99437                      6764        taboao da serra             SP  \n",
       "99438                     60115              fortaleza             CE  \n",
       "99439                     92120                 canoas             RS  \n",
       "99440                      6703                  cotia             SP  \n",
       "\n",
       "[99441 rows x 5 columns]"
      ]
     },
     "execution_count": 20,
     "metadata": {},
     "output_type": "execute_result"
    }
   ],
   "source": [
    "df"
   ]
  },
  {
   "cell_type": "code",
   "execution_count": 21,
   "id": "eab60ab3",
   "metadata": {},
   "outputs": [],
   "source": [
    "df['customer_zip_code_prefix'] = df['customer_zip_code_prefix'].astype(str).str.zfill(5) #Zip code appearence clean\n"
   ]
  },
  {
   "cell_type": "code",
   "execution_count": 22,
   "id": "f3798c5b",
   "metadata": {},
   "outputs": [
    {
     "data": {
      "application/vnd.microsoft.datawrangler.viewer.v0+json": {
       "columns": [
        {
         "name": "index",
         "rawType": "int64",
         "type": "integer"
        },
        {
         "name": "customer_id",
         "rawType": "object",
         "type": "string"
        },
        {
         "name": "customer_unique_id",
         "rawType": "object",
         "type": "string"
        },
        {
         "name": "customer_zip_code_prefix",
         "rawType": "object",
         "type": "string"
        },
        {
         "name": "customer_city",
         "rawType": "object",
         "type": "string"
        },
        {
         "name": "customer_state",
         "rawType": "object",
         "type": "string"
        }
       ],
       "ref": "92a236c1-1863-4be4-a730-2189229b1b92",
       "rows": [
        [
         "0",
         "06b8999e2fba1a1fbc88172c00ba8bc7",
         "861eff4711a542e4b93843c6dd7febb0",
         "14409",
         "franca",
         "SP"
        ],
        [
         "1",
         "18955e83d337fd6b2def6b18a428ac77",
         "290c77bc529b7ac935b93aa66c333dc3",
         "09790",
         "sao bernardo do campo",
         "SP"
        ],
        [
         "2",
         "4e7b3e00288586ebd08712fdd0374a03",
         "060e732b5b29e8181a18229c7b0b2b5e",
         "01151",
         "sao paulo",
         "SP"
        ],
        [
         "3",
         "b2b6027bc5c5109e529d4dc6358b12c3",
         "259dac757896d24d7702b9acbbff3f3c",
         "08775",
         "mogi das cruzes",
         "SP"
        ],
        [
         "4",
         "4f2d8ab171c80ec8364f7c12e35b23ad",
         "345ecd01c38d18a9036ed96c73b8d066",
         "13056",
         "campinas",
         "SP"
        ],
        [
         "5",
         "879864dab9bc3047522c92c82e1212b8",
         "4c93744516667ad3b8f1fb645a3116a4",
         "89254",
         "jaragua do sul",
         "SC"
        ],
        [
         "6",
         "fd826e7cf63160e536e0908c76c3f441",
         "addec96d2e059c80c30fe6871d30d177",
         "04534",
         "sao paulo",
         "SP"
        ],
        [
         "7",
         "5e274e7a0c3809e14aba7ad5aae0d407",
         "57b2a98a409812fe9618067b6b8ebe4f",
         "35182",
         "timoteo",
         "MG"
        ],
        [
         "8",
         "5adf08e34b2e993982a47070956c5c65",
         "1175e95fb47ddff9de6b2b06188f7e0d",
         "81560",
         "curitiba",
         "PR"
        ],
        [
         "9",
         "4b7139f34592b3a31687243a302fa75b",
         "9afe194fb833f79e300e37e580171f22",
         "30575",
         "belo horizonte",
         "MG"
        ],
        [
         "10",
         "9fb35e4ed6f0a14a4977cd9aea4042bb",
         "2a7745e1ed516b289ed9b29c7d0539a5",
         "39400",
         "montes claros",
         "MG"
        ],
        [
         "11",
         "5aa9e4fdd4dfd20959cad2d772509598",
         "2a46fb94aef5cbeeb850418118cee090",
         "20231",
         "rio de janeiro",
         "RJ"
        ],
        [
         "12",
         "b2d1536598b73a9abd18e0d75d92f0a3",
         "918dc87cd72cd9f6ed4bd442ed785235",
         "18682",
         "lencois paulista",
         "SP"
        ],
        [
         "13",
         "eabebad39a88bb6f5b52376faec28612",
         "295c05e81917928d76245e842748184d",
         "05704",
         "sao paulo",
         "SP"
        ],
        [
         "14",
         "1f1c7bf1c9b041b292af6c1c4470b753",
         "3151a81801c8386361b62277d7fa5ecf",
         "95110",
         "caxias do sul",
         "RS"
        ],
        [
         "15",
         "206f3129c0e4d7d0b9550426023f0a08",
         "21f748a16f4e1688a9014eb3ee6fa325",
         "13412",
         "piracicaba",
         "SP"
        ],
        [
         "16",
         "a7c125a0a07b75146167b7f04a7f8e98",
         "5c2991dbd08bbf3cf410713c4de5a0b5",
         "22750",
         "rio de janeiro",
         "RJ"
        ],
        [
         "17",
         "c5c61596a3b6bd0cee5766992c48a9a1",
         "b6e99561fe6f34a55b0b7da92f8ed775",
         "07124",
         "guarulhos",
         "SP"
        ],
        [
         "18",
         "9b8ce803689b3562defaad4613ef426f",
         "7f3a72e8f988c6e735ba118d54f47458",
         "05416",
         "sao paulo",
         "SP"
        ],
        [
         "19",
         "49d0ea0986edde72da777f15456a0ee0",
         "3e6fd6b2f0d499456a6a6820a40f2d79",
         "68485",
         "pacaja",
         "PA"
        ],
        [
         "20",
         "154c4ded6991bdfa3cd249d11abf4130",
         "e607ede0e63436308660236f5a52da5e",
         "88034",
         "florianopolis",
         "SC"
        ],
        [
         "21",
         "690172ab319622688d3b4df42f676898",
         "a96d5cfa0d3181817e2b946f921ea021",
         "74914",
         "aparecida de goiania",
         "GO"
        ],
        [
         "22",
         "2938121a40a20953c43caa8c98787fcb",
         "482441ea6a06b1f72fe9784756c0ea75",
         "05713",
         "sao paulo",
         "SP"
        ],
        [
         "23",
         "237098a64674ae89babdc426746260fc",
         "4390ddbb6276a66ff1736a6710205dca",
         "82820",
         "curitiba",
         "PR"
        ],
        [
         "24",
         "cb721d7b4f271fd87011c4c83462c076",
         "a5844ba4bfc8d0cc61d13027c7e63bcc",
         "08225",
         "sao paulo",
         "SP"
        ],
        [
         "25",
         "f681356046d9fde60e70c73a18d65ea2",
         "5f102dd37243f152aec3607970aad100",
         "09121",
         "santo andre",
         "SP"
        ],
        [
         "26",
         "167bd30a409e3e4127df5a9408ebd394",
         "9c0096673baf55453a50073f12d1a37f",
         "74310",
         "goiania",
         "GO"
        ],
        [
         "27",
         "6e359a57a91f84095cc64e1b351aef8c",
         "2e6a42a9b5cbb0da62988694f18ee295",
         "04571",
         "sao paulo",
         "SP"
        ],
        [
         "28",
         "e0eea8f69a457b3f1fa246e44c9ebefd",
         "4d221875624017bc47b4d1ce7314a5b7",
         "29311",
         "cachoeiro de itapemirim",
         "ES"
        ],
        [
         "29",
         "e3109970a3fe8021d5ff82c577ce5606",
         "a8654e2af5da6bb72f52c22b164855e1",
         "05528",
         "sao paulo",
         "SP"
        ],
        [
         "30",
         "261cb4f92498ca05d5bd1a327a261d9c",
         "424aca6872c5bab80780a8dec03b7516",
         "12235",
         "sao jose dos campos",
         "SP"
        ],
        [
         "31",
         "6f92779347724b67e44e3224f3b4cffd",
         "bf4862777db128507e9efcc789215e9b",
         "18130",
         "sao roque",
         "SP"
        ],
        [
         "32",
         "2d5831cb2dff7cdefba62e950ae3dc7b",
         "e9dd12dca17352644a959d9dea133935",
         "42800",
         "camacari",
         "BA"
        ],
        [
         "33",
         "b2bed119388167a954382cca36c4777f",
         "e079b18794454de9d2be5c12b4392294",
         "27525",
         "resende",
         "RJ"
        ],
        [
         "34",
         "469634941c27cd844170935a3cf60b95",
         "ef07ba9aa5226f77264ffa5762b2280b",
         "81750",
         "curitiba",
         "PR"
        ],
        [
         "35",
         "df0aa5b8586495e0ddf6b601122e43a1",
         "85d234692f7bee8d6fea586e237334b6",
         "13175",
         "sumare",
         "SP"
        ],
        [
         "36",
         "41c8f4b570869791379a925899a6af8a",
         "fe3634ccefbcdb0537b45fd589e32e8e",
         "07170",
         "guarulhos",
         "SP"
        ],
        [
         "37",
         "54f755c3fd2709231f9964a1430c5218",
         "40febde16f4718a5def537786473b0be",
         "93415",
         "novo hamburgo",
         "RS"
        ],
        [
         "38",
         "4c06b42fbf7b97ab10779cda5549cd1c",
         "07d190f123147d9e89d4b922543d7948",
         "65075",
         "sao luis",
         "MA"
        ],
        [
         "39",
         "b6368ca0f56d4632f44d58ca431487b2",
         "dd992305cba295d997f263dbdf4e8c2e",
         "88104",
         "sao jose",
         "SC"
        ],
        [
         "40",
         "4a0e66fd30684aa1409cd1b66fec77cc",
         "86085586aaa8c5f47ed0b400da64c59d",
         "07176",
         "guarulhos",
         "SP"
        ],
        [
         "41",
         "c168abb9077b7821adae01dc1f0886c5",
         "5ad58a4e6a1a656b6bed070cadbaa003",
         "35960",
         "santa barbara",
         "MG"
        ],
        [
         "42",
         "a3b0fda37bae14cf754877bed475e80c",
         "c9158d089637ab443c78984d20da7fc0",
         "05727",
         "sao paulo",
         "SP"
        ],
        [
         "43",
         "0ccd415657ae8a6cd1c71b00155a019e",
         "66cc90195ca44cc7ac6a1cd0e1e1e7b2",
         "07053",
         "guarulhos",
         "SP"
        ],
        [
         "44",
         "c532a74a3ebf1bacce2e2bcce3783317",
         "91ec50a00ae74d0a229d2efdf4344e1e",
         "14026",
         "ribeirao preto",
         "SP"
        ],
        [
         "45",
         "19cecb194f54e614b70d971306a9931b",
         "d251c190ca75786e9ab937982d60d1d4",
         "30320",
         "belo horizonte",
         "MG"
        ],
        [
         "46",
         "f34a6e874087ec1f0e3dab9fdf659c5d",
         "233896de79986082f1f479f1f85281cb",
         "38300",
         "ituiutaba",
         "MG"
        ],
        [
         "47",
         "c132855c926907970dcf6f2bf0b33a24",
         "a8ae36a2bb6c2bbc3b5d62ede131c9ef",
         "18740",
         "taquarituba",
         "SP"
        ],
        [
         "48",
         "df85b96ba2ce3e49bde101b1614f52ac",
         "8d46223c91cbeb93e0930ca8bd8ffca2",
         "83085",
         "sao jose dos pinhais",
         "PR"
        ],
        [
         "49",
         "4d27341acd30a36bca39008ee9bb9050",
         "e021e698833bdeb89dfef3acb2e91f37",
         "89254",
         "jaragua do sul",
         "SC"
        ]
       ],
       "shape": {
        "columns": 5,
        "rows": 99441
       }
      },
      "text/html": [
       "<div>\n",
       "<style scoped>\n",
       "    .dataframe tbody tr th:only-of-type {\n",
       "        vertical-align: middle;\n",
       "    }\n",
       "\n",
       "    .dataframe tbody tr th {\n",
       "        vertical-align: top;\n",
       "    }\n",
       "\n",
       "    .dataframe thead th {\n",
       "        text-align: right;\n",
       "    }\n",
       "</style>\n",
       "<table border=\"1\" class=\"dataframe\">\n",
       "  <thead>\n",
       "    <tr style=\"text-align: right;\">\n",
       "      <th></th>\n",
       "      <th>customer_id</th>\n",
       "      <th>customer_unique_id</th>\n",
       "      <th>customer_zip_code_prefix</th>\n",
       "      <th>customer_city</th>\n",
       "      <th>customer_state</th>\n",
       "    </tr>\n",
       "  </thead>\n",
       "  <tbody>\n",
       "    <tr>\n",
       "      <th>0</th>\n",
       "      <td>06b8999e2fba1a1fbc88172c00ba8bc7</td>\n",
       "      <td>861eff4711a542e4b93843c6dd7febb0</td>\n",
       "      <td>14409</td>\n",
       "      <td>franca</td>\n",
       "      <td>SP</td>\n",
       "    </tr>\n",
       "    <tr>\n",
       "      <th>1</th>\n",
       "      <td>18955e83d337fd6b2def6b18a428ac77</td>\n",
       "      <td>290c77bc529b7ac935b93aa66c333dc3</td>\n",
       "      <td>09790</td>\n",
       "      <td>sao bernardo do campo</td>\n",
       "      <td>SP</td>\n",
       "    </tr>\n",
       "    <tr>\n",
       "      <th>2</th>\n",
       "      <td>4e7b3e00288586ebd08712fdd0374a03</td>\n",
       "      <td>060e732b5b29e8181a18229c7b0b2b5e</td>\n",
       "      <td>01151</td>\n",
       "      <td>sao paulo</td>\n",
       "      <td>SP</td>\n",
       "    </tr>\n",
       "    <tr>\n",
       "      <th>3</th>\n",
       "      <td>b2b6027bc5c5109e529d4dc6358b12c3</td>\n",
       "      <td>259dac757896d24d7702b9acbbff3f3c</td>\n",
       "      <td>08775</td>\n",
       "      <td>mogi das cruzes</td>\n",
       "      <td>SP</td>\n",
       "    </tr>\n",
       "    <tr>\n",
       "      <th>4</th>\n",
       "      <td>4f2d8ab171c80ec8364f7c12e35b23ad</td>\n",
       "      <td>345ecd01c38d18a9036ed96c73b8d066</td>\n",
       "      <td>13056</td>\n",
       "      <td>campinas</td>\n",
       "      <td>SP</td>\n",
       "    </tr>\n",
       "    <tr>\n",
       "      <th>...</th>\n",
       "      <td>...</td>\n",
       "      <td>...</td>\n",
       "      <td>...</td>\n",
       "      <td>...</td>\n",
       "      <td>...</td>\n",
       "    </tr>\n",
       "    <tr>\n",
       "      <th>99436</th>\n",
       "      <td>17ddf5dd5d51696bb3d7c6291687be6f</td>\n",
       "      <td>1a29b476fee25c95fbafc67c5ac95cf8</td>\n",
       "      <td>03937</td>\n",
       "      <td>sao paulo</td>\n",
       "      <td>SP</td>\n",
       "    </tr>\n",
       "    <tr>\n",
       "      <th>99437</th>\n",
       "      <td>e7b71a9017aa05c9a7fd292d714858e8</td>\n",
       "      <td>d52a67c98be1cf6a5c84435bd38d095d</td>\n",
       "      <td>06764</td>\n",
       "      <td>taboao da serra</td>\n",
       "      <td>SP</td>\n",
       "    </tr>\n",
       "    <tr>\n",
       "      <th>99438</th>\n",
       "      <td>5e28dfe12db7fb50a4b2f691faecea5e</td>\n",
       "      <td>e9f50caf99f032f0bf3c55141f019d99</td>\n",
       "      <td>60115</td>\n",
       "      <td>fortaleza</td>\n",
       "      <td>CE</td>\n",
       "    </tr>\n",
       "    <tr>\n",
       "      <th>99439</th>\n",
       "      <td>56b18e2166679b8a959d72dd06da27f9</td>\n",
       "      <td>73c2643a0a458b49f58cea58833b192e</td>\n",
       "      <td>92120</td>\n",
       "      <td>canoas</td>\n",
       "      <td>RS</td>\n",
       "    </tr>\n",
       "    <tr>\n",
       "      <th>99440</th>\n",
       "      <td>274fa6071e5e17fe303b9748641082c8</td>\n",
       "      <td>84732c5050c01db9b23e19ba39899398</td>\n",
       "      <td>06703</td>\n",
       "      <td>cotia</td>\n",
       "      <td>SP</td>\n",
       "    </tr>\n",
       "  </tbody>\n",
       "</table>\n",
       "<p>99441 rows × 5 columns</p>\n",
       "</div>"
      ],
      "text/plain": [
       "                            customer_id                customer_unique_id  \\\n",
       "0      06b8999e2fba1a1fbc88172c00ba8bc7  861eff4711a542e4b93843c6dd7febb0   \n",
       "1      18955e83d337fd6b2def6b18a428ac77  290c77bc529b7ac935b93aa66c333dc3   \n",
       "2      4e7b3e00288586ebd08712fdd0374a03  060e732b5b29e8181a18229c7b0b2b5e   \n",
       "3      b2b6027bc5c5109e529d4dc6358b12c3  259dac757896d24d7702b9acbbff3f3c   \n",
       "4      4f2d8ab171c80ec8364f7c12e35b23ad  345ecd01c38d18a9036ed96c73b8d066   \n",
       "...                                 ...                               ...   \n",
       "99436  17ddf5dd5d51696bb3d7c6291687be6f  1a29b476fee25c95fbafc67c5ac95cf8   \n",
       "99437  e7b71a9017aa05c9a7fd292d714858e8  d52a67c98be1cf6a5c84435bd38d095d   \n",
       "99438  5e28dfe12db7fb50a4b2f691faecea5e  e9f50caf99f032f0bf3c55141f019d99   \n",
       "99439  56b18e2166679b8a959d72dd06da27f9  73c2643a0a458b49f58cea58833b192e   \n",
       "99440  274fa6071e5e17fe303b9748641082c8  84732c5050c01db9b23e19ba39899398   \n",
       "\n",
       "      customer_zip_code_prefix          customer_city customer_state  \n",
       "0                        14409                 franca             SP  \n",
       "1                        09790  sao bernardo do campo             SP  \n",
       "2                        01151              sao paulo             SP  \n",
       "3                        08775        mogi das cruzes             SP  \n",
       "4                        13056               campinas             SP  \n",
       "...                        ...                    ...            ...  \n",
       "99436                    03937              sao paulo             SP  \n",
       "99437                    06764        taboao da serra             SP  \n",
       "99438                    60115              fortaleza             CE  \n",
       "99439                    92120                 canoas             RS  \n",
       "99440                    06703                  cotia             SP  \n",
       "\n",
       "[99441 rows x 5 columns]"
      ]
     },
     "execution_count": 22,
     "metadata": {},
     "output_type": "execute_result"
    }
   ],
   "source": [
    "df"
   ]
  },
  {
   "cell_type": "code",
   "execution_count": 23,
   "id": "f4c6222f",
   "metadata": {},
   "outputs": [],
   "source": [
    "#Ensuring all values in customer_state are valid Brazilian state codes:\n",
    "valid_states = ['SP', 'RJ', 'MG', 'RS', 'SC', 'PR', 'BA', 'PE', 'CE', 'DF', 'GO', 'ES', 'PA', 'MT', 'MS', 'PB', 'RN', 'MA', 'PI', 'RO', 'TO', 'SE', 'AL', 'AM', 'RR', 'AC', 'AP']\n"
   ]
  },
  {
   "cell_type": "code",
   "execution_count": 24,
   "id": "858adfbf",
   "metadata": {},
   "outputs": [],
   "source": [
    "df = df[df['customer_state'].isin(valid_states)]"
   ]
  },
  {
   "cell_type": "code",
   "execution_count": 25,
   "id": "3a8195d6",
   "metadata": {},
   "outputs": [
    {
     "data": {
      "application/vnd.microsoft.datawrangler.viewer.v0+json": {
       "columns": [
        {
         "name": "index",
         "rawType": "int64",
         "type": "integer"
        },
        {
         "name": "customer_id",
         "rawType": "object",
         "type": "string"
        },
        {
         "name": "customer_unique_id",
         "rawType": "object",
         "type": "string"
        },
        {
         "name": "customer_zip_code_prefix",
         "rawType": "object",
         "type": "string"
        },
        {
         "name": "customer_city",
         "rawType": "object",
         "type": "string"
        },
        {
         "name": "customer_state",
         "rawType": "object",
         "type": "string"
        }
       ],
       "ref": "1af3a68c-9f0c-4aec-8718-550c261668ee",
       "rows": [
        [
         "0",
         "06b8999e2fba1a1fbc88172c00ba8bc7",
         "861eff4711a542e4b93843c6dd7febb0",
         "14409",
         "franca",
         "SP"
        ],
        [
         "1",
         "18955e83d337fd6b2def6b18a428ac77",
         "290c77bc529b7ac935b93aa66c333dc3",
         "09790",
         "sao bernardo do campo",
         "SP"
        ],
        [
         "2",
         "4e7b3e00288586ebd08712fdd0374a03",
         "060e732b5b29e8181a18229c7b0b2b5e",
         "01151",
         "sao paulo",
         "SP"
        ],
        [
         "3",
         "b2b6027bc5c5109e529d4dc6358b12c3",
         "259dac757896d24d7702b9acbbff3f3c",
         "08775",
         "mogi das cruzes",
         "SP"
        ],
        [
         "4",
         "4f2d8ab171c80ec8364f7c12e35b23ad",
         "345ecd01c38d18a9036ed96c73b8d066",
         "13056",
         "campinas",
         "SP"
        ],
        [
         "5",
         "879864dab9bc3047522c92c82e1212b8",
         "4c93744516667ad3b8f1fb645a3116a4",
         "89254",
         "jaragua do sul",
         "SC"
        ],
        [
         "6",
         "fd826e7cf63160e536e0908c76c3f441",
         "addec96d2e059c80c30fe6871d30d177",
         "04534",
         "sao paulo",
         "SP"
        ],
        [
         "7",
         "5e274e7a0c3809e14aba7ad5aae0d407",
         "57b2a98a409812fe9618067b6b8ebe4f",
         "35182",
         "timoteo",
         "MG"
        ],
        [
         "8",
         "5adf08e34b2e993982a47070956c5c65",
         "1175e95fb47ddff9de6b2b06188f7e0d",
         "81560",
         "curitiba",
         "PR"
        ],
        [
         "9",
         "4b7139f34592b3a31687243a302fa75b",
         "9afe194fb833f79e300e37e580171f22",
         "30575",
         "belo horizonte",
         "MG"
        ],
        [
         "10",
         "9fb35e4ed6f0a14a4977cd9aea4042bb",
         "2a7745e1ed516b289ed9b29c7d0539a5",
         "39400",
         "montes claros",
         "MG"
        ],
        [
         "11",
         "5aa9e4fdd4dfd20959cad2d772509598",
         "2a46fb94aef5cbeeb850418118cee090",
         "20231",
         "rio de janeiro",
         "RJ"
        ],
        [
         "12",
         "b2d1536598b73a9abd18e0d75d92f0a3",
         "918dc87cd72cd9f6ed4bd442ed785235",
         "18682",
         "lencois paulista",
         "SP"
        ],
        [
         "13",
         "eabebad39a88bb6f5b52376faec28612",
         "295c05e81917928d76245e842748184d",
         "05704",
         "sao paulo",
         "SP"
        ],
        [
         "14",
         "1f1c7bf1c9b041b292af6c1c4470b753",
         "3151a81801c8386361b62277d7fa5ecf",
         "95110",
         "caxias do sul",
         "RS"
        ],
        [
         "15",
         "206f3129c0e4d7d0b9550426023f0a08",
         "21f748a16f4e1688a9014eb3ee6fa325",
         "13412",
         "piracicaba",
         "SP"
        ],
        [
         "16",
         "a7c125a0a07b75146167b7f04a7f8e98",
         "5c2991dbd08bbf3cf410713c4de5a0b5",
         "22750",
         "rio de janeiro",
         "RJ"
        ],
        [
         "17",
         "c5c61596a3b6bd0cee5766992c48a9a1",
         "b6e99561fe6f34a55b0b7da92f8ed775",
         "07124",
         "guarulhos",
         "SP"
        ],
        [
         "18",
         "9b8ce803689b3562defaad4613ef426f",
         "7f3a72e8f988c6e735ba118d54f47458",
         "05416",
         "sao paulo",
         "SP"
        ],
        [
         "19",
         "49d0ea0986edde72da777f15456a0ee0",
         "3e6fd6b2f0d499456a6a6820a40f2d79",
         "68485",
         "pacaja",
         "PA"
        ],
        [
         "20",
         "154c4ded6991bdfa3cd249d11abf4130",
         "e607ede0e63436308660236f5a52da5e",
         "88034",
         "florianopolis",
         "SC"
        ],
        [
         "21",
         "690172ab319622688d3b4df42f676898",
         "a96d5cfa0d3181817e2b946f921ea021",
         "74914",
         "aparecida de goiania",
         "GO"
        ],
        [
         "22",
         "2938121a40a20953c43caa8c98787fcb",
         "482441ea6a06b1f72fe9784756c0ea75",
         "05713",
         "sao paulo",
         "SP"
        ],
        [
         "23",
         "237098a64674ae89babdc426746260fc",
         "4390ddbb6276a66ff1736a6710205dca",
         "82820",
         "curitiba",
         "PR"
        ],
        [
         "24",
         "cb721d7b4f271fd87011c4c83462c076",
         "a5844ba4bfc8d0cc61d13027c7e63bcc",
         "08225",
         "sao paulo",
         "SP"
        ],
        [
         "25",
         "f681356046d9fde60e70c73a18d65ea2",
         "5f102dd37243f152aec3607970aad100",
         "09121",
         "santo andre",
         "SP"
        ],
        [
         "26",
         "167bd30a409e3e4127df5a9408ebd394",
         "9c0096673baf55453a50073f12d1a37f",
         "74310",
         "goiania",
         "GO"
        ],
        [
         "27",
         "6e359a57a91f84095cc64e1b351aef8c",
         "2e6a42a9b5cbb0da62988694f18ee295",
         "04571",
         "sao paulo",
         "SP"
        ],
        [
         "28",
         "e0eea8f69a457b3f1fa246e44c9ebefd",
         "4d221875624017bc47b4d1ce7314a5b7",
         "29311",
         "cachoeiro de itapemirim",
         "ES"
        ],
        [
         "29",
         "e3109970a3fe8021d5ff82c577ce5606",
         "a8654e2af5da6bb72f52c22b164855e1",
         "05528",
         "sao paulo",
         "SP"
        ],
        [
         "30",
         "261cb4f92498ca05d5bd1a327a261d9c",
         "424aca6872c5bab80780a8dec03b7516",
         "12235",
         "sao jose dos campos",
         "SP"
        ],
        [
         "31",
         "6f92779347724b67e44e3224f3b4cffd",
         "bf4862777db128507e9efcc789215e9b",
         "18130",
         "sao roque",
         "SP"
        ],
        [
         "32",
         "2d5831cb2dff7cdefba62e950ae3dc7b",
         "e9dd12dca17352644a959d9dea133935",
         "42800",
         "camacari",
         "BA"
        ],
        [
         "33",
         "b2bed119388167a954382cca36c4777f",
         "e079b18794454de9d2be5c12b4392294",
         "27525",
         "resende",
         "RJ"
        ],
        [
         "34",
         "469634941c27cd844170935a3cf60b95",
         "ef07ba9aa5226f77264ffa5762b2280b",
         "81750",
         "curitiba",
         "PR"
        ],
        [
         "35",
         "df0aa5b8586495e0ddf6b601122e43a1",
         "85d234692f7bee8d6fea586e237334b6",
         "13175",
         "sumare",
         "SP"
        ],
        [
         "36",
         "41c8f4b570869791379a925899a6af8a",
         "fe3634ccefbcdb0537b45fd589e32e8e",
         "07170",
         "guarulhos",
         "SP"
        ],
        [
         "37",
         "54f755c3fd2709231f9964a1430c5218",
         "40febde16f4718a5def537786473b0be",
         "93415",
         "novo hamburgo",
         "RS"
        ],
        [
         "38",
         "4c06b42fbf7b97ab10779cda5549cd1c",
         "07d190f123147d9e89d4b922543d7948",
         "65075",
         "sao luis",
         "MA"
        ],
        [
         "39",
         "b6368ca0f56d4632f44d58ca431487b2",
         "dd992305cba295d997f263dbdf4e8c2e",
         "88104",
         "sao jose",
         "SC"
        ],
        [
         "40",
         "4a0e66fd30684aa1409cd1b66fec77cc",
         "86085586aaa8c5f47ed0b400da64c59d",
         "07176",
         "guarulhos",
         "SP"
        ],
        [
         "41",
         "c168abb9077b7821adae01dc1f0886c5",
         "5ad58a4e6a1a656b6bed070cadbaa003",
         "35960",
         "santa barbara",
         "MG"
        ],
        [
         "42",
         "a3b0fda37bae14cf754877bed475e80c",
         "c9158d089637ab443c78984d20da7fc0",
         "05727",
         "sao paulo",
         "SP"
        ],
        [
         "43",
         "0ccd415657ae8a6cd1c71b00155a019e",
         "66cc90195ca44cc7ac6a1cd0e1e1e7b2",
         "07053",
         "guarulhos",
         "SP"
        ],
        [
         "44",
         "c532a74a3ebf1bacce2e2bcce3783317",
         "91ec50a00ae74d0a229d2efdf4344e1e",
         "14026",
         "ribeirao preto",
         "SP"
        ],
        [
         "45",
         "19cecb194f54e614b70d971306a9931b",
         "d251c190ca75786e9ab937982d60d1d4",
         "30320",
         "belo horizonte",
         "MG"
        ],
        [
         "46",
         "f34a6e874087ec1f0e3dab9fdf659c5d",
         "233896de79986082f1f479f1f85281cb",
         "38300",
         "ituiutaba",
         "MG"
        ],
        [
         "47",
         "c132855c926907970dcf6f2bf0b33a24",
         "a8ae36a2bb6c2bbc3b5d62ede131c9ef",
         "18740",
         "taquarituba",
         "SP"
        ],
        [
         "48",
         "df85b96ba2ce3e49bde101b1614f52ac",
         "8d46223c91cbeb93e0930ca8bd8ffca2",
         "83085",
         "sao jose dos pinhais",
         "PR"
        ],
        [
         "49",
         "4d27341acd30a36bca39008ee9bb9050",
         "e021e698833bdeb89dfef3acb2e91f37",
         "89254",
         "jaragua do sul",
         "SC"
        ]
       ],
       "shape": {
        "columns": 5,
        "rows": 99441
       }
      },
      "text/html": [
       "<div>\n",
       "<style scoped>\n",
       "    .dataframe tbody tr th:only-of-type {\n",
       "        vertical-align: middle;\n",
       "    }\n",
       "\n",
       "    .dataframe tbody tr th {\n",
       "        vertical-align: top;\n",
       "    }\n",
       "\n",
       "    .dataframe thead th {\n",
       "        text-align: right;\n",
       "    }\n",
       "</style>\n",
       "<table border=\"1\" class=\"dataframe\">\n",
       "  <thead>\n",
       "    <tr style=\"text-align: right;\">\n",
       "      <th></th>\n",
       "      <th>customer_id</th>\n",
       "      <th>customer_unique_id</th>\n",
       "      <th>customer_zip_code_prefix</th>\n",
       "      <th>customer_city</th>\n",
       "      <th>customer_state</th>\n",
       "    </tr>\n",
       "  </thead>\n",
       "  <tbody>\n",
       "    <tr>\n",
       "      <th>0</th>\n",
       "      <td>06b8999e2fba1a1fbc88172c00ba8bc7</td>\n",
       "      <td>861eff4711a542e4b93843c6dd7febb0</td>\n",
       "      <td>14409</td>\n",
       "      <td>franca</td>\n",
       "      <td>SP</td>\n",
       "    </tr>\n",
       "    <tr>\n",
       "      <th>1</th>\n",
       "      <td>18955e83d337fd6b2def6b18a428ac77</td>\n",
       "      <td>290c77bc529b7ac935b93aa66c333dc3</td>\n",
       "      <td>09790</td>\n",
       "      <td>sao bernardo do campo</td>\n",
       "      <td>SP</td>\n",
       "    </tr>\n",
       "    <tr>\n",
       "      <th>2</th>\n",
       "      <td>4e7b3e00288586ebd08712fdd0374a03</td>\n",
       "      <td>060e732b5b29e8181a18229c7b0b2b5e</td>\n",
       "      <td>01151</td>\n",
       "      <td>sao paulo</td>\n",
       "      <td>SP</td>\n",
       "    </tr>\n",
       "    <tr>\n",
       "      <th>3</th>\n",
       "      <td>b2b6027bc5c5109e529d4dc6358b12c3</td>\n",
       "      <td>259dac757896d24d7702b9acbbff3f3c</td>\n",
       "      <td>08775</td>\n",
       "      <td>mogi das cruzes</td>\n",
       "      <td>SP</td>\n",
       "    </tr>\n",
       "    <tr>\n",
       "      <th>4</th>\n",
       "      <td>4f2d8ab171c80ec8364f7c12e35b23ad</td>\n",
       "      <td>345ecd01c38d18a9036ed96c73b8d066</td>\n",
       "      <td>13056</td>\n",
       "      <td>campinas</td>\n",
       "      <td>SP</td>\n",
       "    </tr>\n",
       "    <tr>\n",
       "      <th>...</th>\n",
       "      <td>...</td>\n",
       "      <td>...</td>\n",
       "      <td>...</td>\n",
       "      <td>...</td>\n",
       "      <td>...</td>\n",
       "    </tr>\n",
       "    <tr>\n",
       "      <th>99436</th>\n",
       "      <td>17ddf5dd5d51696bb3d7c6291687be6f</td>\n",
       "      <td>1a29b476fee25c95fbafc67c5ac95cf8</td>\n",
       "      <td>03937</td>\n",
       "      <td>sao paulo</td>\n",
       "      <td>SP</td>\n",
       "    </tr>\n",
       "    <tr>\n",
       "      <th>99437</th>\n",
       "      <td>e7b71a9017aa05c9a7fd292d714858e8</td>\n",
       "      <td>d52a67c98be1cf6a5c84435bd38d095d</td>\n",
       "      <td>06764</td>\n",
       "      <td>taboao da serra</td>\n",
       "      <td>SP</td>\n",
       "    </tr>\n",
       "    <tr>\n",
       "      <th>99438</th>\n",
       "      <td>5e28dfe12db7fb50a4b2f691faecea5e</td>\n",
       "      <td>e9f50caf99f032f0bf3c55141f019d99</td>\n",
       "      <td>60115</td>\n",
       "      <td>fortaleza</td>\n",
       "      <td>CE</td>\n",
       "    </tr>\n",
       "    <tr>\n",
       "      <th>99439</th>\n",
       "      <td>56b18e2166679b8a959d72dd06da27f9</td>\n",
       "      <td>73c2643a0a458b49f58cea58833b192e</td>\n",
       "      <td>92120</td>\n",
       "      <td>canoas</td>\n",
       "      <td>RS</td>\n",
       "    </tr>\n",
       "    <tr>\n",
       "      <th>99440</th>\n",
       "      <td>274fa6071e5e17fe303b9748641082c8</td>\n",
       "      <td>84732c5050c01db9b23e19ba39899398</td>\n",
       "      <td>06703</td>\n",
       "      <td>cotia</td>\n",
       "      <td>SP</td>\n",
       "    </tr>\n",
       "  </tbody>\n",
       "</table>\n",
       "<p>99441 rows × 5 columns</p>\n",
       "</div>"
      ],
      "text/plain": [
       "                            customer_id                customer_unique_id  \\\n",
       "0      06b8999e2fba1a1fbc88172c00ba8bc7  861eff4711a542e4b93843c6dd7febb0   \n",
       "1      18955e83d337fd6b2def6b18a428ac77  290c77bc529b7ac935b93aa66c333dc3   \n",
       "2      4e7b3e00288586ebd08712fdd0374a03  060e732b5b29e8181a18229c7b0b2b5e   \n",
       "3      b2b6027bc5c5109e529d4dc6358b12c3  259dac757896d24d7702b9acbbff3f3c   \n",
       "4      4f2d8ab171c80ec8364f7c12e35b23ad  345ecd01c38d18a9036ed96c73b8d066   \n",
       "...                                 ...                               ...   \n",
       "99436  17ddf5dd5d51696bb3d7c6291687be6f  1a29b476fee25c95fbafc67c5ac95cf8   \n",
       "99437  e7b71a9017aa05c9a7fd292d714858e8  d52a67c98be1cf6a5c84435bd38d095d   \n",
       "99438  5e28dfe12db7fb50a4b2f691faecea5e  e9f50caf99f032f0bf3c55141f019d99   \n",
       "99439  56b18e2166679b8a959d72dd06da27f9  73c2643a0a458b49f58cea58833b192e   \n",
       "99440  274fa6071e5e17fe303b9748641082c8  84732c5050c01db9b23e19ba39899398   \n",
       "\n",
       "      customer_zip_code_prefix          customer_city customer_state  \n",
       "0                        14409                 franca             SP  \n",
       "1                        09790  sao bernardo do campo             SP  \n",
       "2                        01151              sao paulo             SP  \n",
       "3                        08775        mogi das cruzes             SP  \n",
       "4                        13056               campinas             SP  \n",
       "...                        ...                    ...            ...  \n",
       "99436                    03937              sao paulo             SP  \n",
       "99437                    06764        taboao da serra             SP  \n",
       "99438                    60115              fortaleza             CE  \n",
       "99439                    92120                 canoas             RS  \n",
       "99440                    06703                  cotia             SP  \n",
       "\n",
       "[99441 rows x 5 columns]"
      ]
     },
     "execution_count": 25,
     "metadata": {},
     "output_type": "execute_result"
    }
   ],
   "source": [
    "df"
   ]
  },
  {
   "cell_type": "code",
   "execution_count": 26,
   "id": "a3b68f82",
   "metadata": {},
   "outputs": [
    {
     "data": {
      "application/vnd.microsoft.datawrangler.viewer.v0+json": {
       "columns": [
        {
         "name": "index",
         "rawType": "object",
         "type": "string"
        },
        {
         "name": "0",
         "rawType": "int64",
         "type": "integer"
        }
       ],
       "ref": "d89ec97b-e425-4f14-8f8c-1d894f4860cd",
       "rows": [
        [
         "customer_id",
         "0"
        ],
        [
         "customer_unique_id",
         "0"
        ],
        [
         "customer_zip_code_prefix",
         "0"
        ],
        [
         "customer_city",
         "0"
        ],
        [
         "customer_state",
         "0"
        ]
       ],
       "shape": {
        "columns": 1,
        "rows": 5
       }
      },
      "text/plain": [
       "customer_id                 0\n",
       "customer_unique_id          0\n",
       "customer_zip_code_prefix    0\n",
       "customer_city               0\n",
       "customer_state              0\n",
       "dtype: int64"
      ]
     },
     "execution_count": 26,
     "metadata": {},
     "output_type": "execute_result"
    }
   ],
   "source": [
    "df.isna().sum()"
   ]
  },
  {
   "cell_type": "code",
   "execution_count": 27,
   "id": "08138422",
   "metadata": {},
   "outputs": [],
   "source": [
    "df['customer_city'] = df['customer_city'].str.title() #keeps first letter in uppercase"
   ]
  },
  {
   "cell_type": "code",
   "execution_count": 28,
   "id": "cce13121",
   "metadata": {},
   "outputs": [
    {
     "data": {
      "application/vnd.microsoft.datawrangler.viewer.v0+json": {
       "columns": [
        {
         "name": "index",
         "rawType": "int64",
         "type": "integer"
        },
        {
         "name": "customer_id",
         "rawType": "object",
         "type": "string"
        },
        {
         "name": "customer_unique_id",
         "rawType": "object",
         "type": "string"
        },
        {
         "name": "customer_zip_code_prefix",
         "rawType": "object",
         "type": "string"
        },
        {
         "name": "customer_city",
         "rawType": "object",
         "type": "string"
        },
        {
         "name": "customer_state",
         "rawType": "object",
         "type": "string"
        }
       ],
       "ref": "8db778db-6430-451d-96dd-184df9454ae1",
       "rows": [
        [
         "0",
         "06b8999e2fba1a1fbc88172c00ba8bc7",
         "861eff4711a542e4b93843c6dd7febb0",
         "14409",
         "Franca",
         "SP"
        ],
        [
         "1",
         "18955e83d337fd6b2def6b18a428ac77",
         "290c77bc529b7ac935b93aa66c333dc3",
         "09790",
         "Sao Bernardo Do Campo",
         "SP"
        ],
        [
         "2",
         "4e7b3e00288586ebd08712fdd0374a03",
         "060e732b5b29e8181a18229c7b0b2b5e",
         "01151",
         "Sao Paulo",
         "SP"
        ],
        [
         "3",
         "b2b6027bc5c5109e529d4dc6358b12c3",
         "259dac757896d24d7702b9acbbff3f3c",
         "08775",
         "Mogi Das Cruzes",
         "SP"
        ],
        [
         "4",
         "4f2d8ab171c80ec8364f7c12e35b23ad",
         "345ecd01c38d18a9036ed96c73b8d066",
         "13056",
         "Campinas",
         "SP"
        ],
        [
         "5",
         "879864dab9bc3047522c92c82e1212b8",
         "4c93744516667ad3b8f1fb645a3116a4",
         "89254",
         "Jaragua Do Sul",
         "SC"
        ],
        [
         "6",
         "fd826e7cf63160e536e0908c76c3f441",
         "addec96d2e059c80c30fe6871d30d177",
         "04534",
         "Sao Paulo",
         "SP"
        ],
        [
         "7",
         "5e274e7a0c3809e14aba7ad5aae0d407",
         "57b2a98a409812fe9618067b6b8ebe4f",
         "35182",
         "Timoteo",
         "MG"
        ],
        [
         "8",
         "5adf08e34b2e993982a47070956c5c65",
         "1175e95fb47ddff9de6b2b06188f7e0d",
         "81560",
         "Curitiba",
         "PR"
        ],
        [
         "9",
         "4b7139f34592b3a31687243a302fa75b",
         "9afe194fb833f79e300e37e580171f22",
         "30575",
         "Belo Horizonte",
         "MG"
        ],
        [
         "10",
         "9fb35e4ed6f0a14a4977cd9aea4042bb",
         "2a7745e1ed516b289ed9b29c7d0539a5",
         "39400",
         "Montes Claros",
         "MG"
        ],
        [
         "11",
         "5aa9e4fdd4dfd20959cad2d772509598",
         "2a46fb94aef5cbeeb850418118cee090",
         "20231",
         "Rio De Janeiro",
         "RJ"
        ],
        [
         "12",
         "b2d1536598b73a9abd18e0d75d92f0a3",
         "918dc87cd72cd9f6ed4bd442ed785235",
         "18682",
         "Lencois Paulista",
         "SP"
        ],
        [
         "13",
         "eabebad39a88bb6f5b52376faec28612",
         "295c05e81917928d76245e842748184d",
         "05704",
         "Sao Paulo",
         "SP"
        ],
        [
         "14",
         "1f1c7bf1c9b041b292af6c1c4470b753",
         "3151a81801c8386361b62277d7fa5ecf",
         "95110",
         "Caxias Do Sul",
         "RS"
        ],
        [
         "15",
         "206f3129c0e4d7d0b9550426023f0a08",
         "21f748a16f4e1688a9014eb3ee6fa325",
         "13412",
         "Piracicaba",
         "SP"
        ],
        [
         "16",
         "a7c125a0a07b75146167b7f04a7f8e98",
         "5c2991dbd08bbf3cf410713c4de5a0b5",
         "22750",
         "Rio De Janeiro",
         "RJ"
        ],
        [
         "17",
         "c5c61596a3b6bd0cee5766992c48a9a1",
         "b6e99561fe6f34a55b0b7da92f8ed775",
         "07124",
         "Guarulhos",
         "SP"
        ],
        [
         "18",
         "9b8ce803689b3562defaad4613ef426f",
         "7f3a72e8f988c6e735ba118d54f47458",
         "05416",
         "Sao Paulo",
         "SP"
        ],
        [
         "19",
         "49d0ea0986edde72da777f15456a0ee0",
         "3e6fd6b2f0d499456a6a6820a40f2d79",
         "68485",
         "Pacaja",
         "PA"
        ],
        [
         "20",
         "154c4ded6991bdfa3cd249d11abf4130",
         "e607ede0e63436308660236f5a52da5e",
         "88034",
         "Florianopolis",
         "SC"
        ],
        [
         "21",
         "690172ab319622688d3b4df42f676898",
         "a96d5cfa0d3181817e2b946f921ea021",
         "74914",
         "Aparecida De Goiania",
         "GO"
        ],
        [
         "22",
         "2938121a40a20953c43caa8c98787fcb",
         "482441ea6a06b1f72fe9784756c0ea75",
         "05713",
         "Sao Paulo",
         "SP"
        ],
        [
         "23",
         "237098a64674ae89babdc426746260fc",
         "4390ddbb6276a66ff1736a6710205dca",
         "82820",
         "Curitiba",
         "PR"
        ],
        [
         "24",
         "cb721d7b4f271fd87011c4c83462c076",
         "a5844ba4bfc8d0cc61d13027c7e63bcc",
         "08225",
         "Sao Paulo",
         "SP"
        ],
        [
         "25",
         "f681356046d9fde60e70c73a18d65ea2",
         "5f102dd37243f152aec3607970aad100",
         "09121",
         "Santo Andre",
         "SP"
        ],
        [
         "26",
         "167bd30a409e3e4127df5a9408ebd394",
         "9c0096673baf55453a50073f12d1a37f",
         "74310",
         "Goiania",
         "GO"
        ],
        [
         "27",
         "6e359a57a91f84095cc64e1b351aef8c",
         "2e6a42a9b5cbb0da62988694f18ee295",
         "04571",
         "Sao Paulo",
         "SP"
        ],
        [
         "28",
         "e0eea8f69a457b3f1fa246e44c9ebefd",
         "4d221875624017bc47b4d1ce7314a5b7",
         "29311",
         "Cachoeiro De Itapemirim",
         "ES"
        ],
        [
         "29",
         "e3109970a3fe8021d5ff82c577ce5606",
         "a8654e2af5da6bb72f52c22b164855e1",
         "05528",
         "Sao Paulo",
         "SP"
        ],
        [
         "30",
         "261cb4f92498ca05d5bd1a327a261d9c",
         "424aca6872c5bab80780a8dec03b7516",
         "12235",
         "Sao Jose Dos Campos",
         "SP"
        ],
        [
         "31",
         "6f92779347724b67e44e3224f3b4cffd",
         "bf4862777db128507e9efcc789215e9b",
         "18130",
         "Sao Roque",
         "SP"
        ],
        [
         "32",
         "2d5831cb2dff7cdefba62e950ae3dc7b",
         "e9dd12dca17352644a959d9dea133935",
         "42800",
         "Camacari",
         "BA"
        ],
        [
         "33",
         "b2bed119388167a954382cca36c4777f",
         "e079b18794454de9d2be5c12b4392294",
         "27525",
         "Resende",
         "RJ"
        ],
        [
         "34",
         "469634941c27cd844170935a3cf60b95",
         "ef07ba9aa5226f77264ffa5762b2280b",
         "81750",
         "Curitiba",
         "PR"
        ],
        [
         "35",
         "df0aa5b8586495e0ddf6b601122e43a1",
         "85d234692f7bee8d6fea586e237334b6",
         "13175",
         "Sumare",
         "SP"
        ],
        [
         "36",
         "41c8f4b570869791379a925899a6af8a",
         "fe3634ccefbcdb0537b45fd589e32e8e",
         "07170",
         "Guarulhos",
         "SP"
        ],
        [
         "37",
         "54f755c3fd2709231f9964a1430c5218",
         "40febde16f4718a5def537786473b0be",
         "93415",
         "Novo Hamburgo",
         "RS"
        ],
        [
         "38",
         "4c06b42fbf7b97ab10779cda5549cd1c",
         "07d190f123147d9e89d4b922543d7948",
         "65075",
         "Sao Luis",
         "MA"
        ],
        [
         "39",
         "b6368ca0f56d4632f44d58ca431487b2",
         "dd992305cba295d997f263dbdf4e8c2e",
         "88104",
         "Sao Jose",
         "SC"
        ],
        [
         "40",
         "4a0e66fd30684aa1409cd1b66fec77cc",
         "86085586aaa8c5f47ed0b400da64c59d",
         "07176",
         "Guarulhos",
         "SP"
        ],
        [
         "41",
         "c168abb9077b7821adae01dc1f0886c5",
         "5ad58a4e6a1a656b6bed070cadbaa003",
         "35960",
         "Santa Barbara",
         "MG"
        ],
        [
         "42",
         "a3b0fda37bae14cf754877bed475e80c",
         "c9158d089637ab443c78984d20da7fc0",
         "05727",
         "Sao Paulo",
         "SP"
        ],
        [
         "43",
         "0ccd415657ae8a6cd1c71b00155a019e",
         "66cc90195ca44cc7ac6a1cd0e1e1e7b2",
         "07053",
         "Guarulhos",
         "SP"
        ],
        [
         "44",
         "c532a74a3ebf1bacce2e2bcce3783317",
         "91ec50a00ae74d0a229d2efdf4344e1e",
         "14026",
         "Ribeirao Preto",
         "SP"
        ],
        [
         "45",
         "19cecb194f54e614b70d971306a9931b",
         "d251c190ca75786e9ab937982d60d1d4",
         "30320",
         "Belo Horizonte",
         "MG"
        ],
        [
         "46",
         "f34a6e874087ec1f0e3dab9fdf659c5d",
         "233896de79986082f1f479f1f85281cb",
         "38300",
         "Ituiutaba",
         "MG"
        ],
        [
         "47",
         "c132855c926907970dcf6f2bf0b33a24",
         "a8ae36a2bb6c2bbc3b5d62ede131c9ef",
         "18740",
         "Taquarituba",
         "SP"
        ],
        [
         "48",
         "df85b96ba2ce3e49bde101b1614f52ac",
         "8d46223c91cbeb93e0930ca8bd8ffca2",
         "83085",
         "Sao Jose Dos Pinhais",
         "PR"
        ],
        [
         "49",
         "4d27341acd30a36bca39008ee9bb9050",
         "e021e698833bdeb89dfef3acb2e91f37",
         "89254",
         "Jaragua Do Sul",
         "SC"
        ]
       ],
       "shape": {
        "columns": 5,
        "rows": 99441
       }
      },
      "text/html": [
       "<div>\n",
       "<style scoped>\n",
       "    .dataframe tbody tr th:only-of-type {\n",
       "        vertical-align: middle;\n",
       "    }\n",
       "\n",
       "    .dataframe tbody tr th {\n",
       "        vertical-align: top;\n",
       "    }\n",
       "\n",
       "    .dataframe thead th {\n",
       "        text-align: right;\n",
       "    }\n",
       "</style>\n",
       "<table border=\"1\" class=\"dataframe\">\n",
       "  <thead>\n",
       "    <tr style=\"text-align: right;\">\n",
       "      <th></th>\n",
       "      <th>customer_id</th>\n",
       "      <th>customer_unique_id</th>\n",
       "      <th>customer_zip_code_prefix</th>\n",
       "      <th>customer_city</th>\n",
       "      <th>customer_state</th>\n",
       "    </tr>\n",
       "  </thead>\n",
       "  <tbody>\n",
       "    <tr>\n",
       "      <th>0</th>\n",
       "      <td>06b8999e2fba1a1fbc88172c00ba8bc7</td>\n",
       "      <td>861eff4711a542e4b93843c6dd7febb0</td>\n",
       "      <td>14409</td>\n",
       "      <td>Franca</td>\n",
       "      <td>SP</td>\n",
       "    </tr>\n",
       "    <tr>\n",
       "      <th>1</th>\n",
       "      <td>18955e83d337fd6b2def6b18a428ac77</td>\n",
       "      <td>290c77bc529b7ac935b93aa66c333dc3</td>\n",
       "      <td>09790</td>\n",
       "      <td>Sao Bernardo Do Campo</td>\n",
       "      <td>SP</td>\n",
       "    </tr>\n",
       "    <tr>\n",
       "      <th>2</th>\n",
       "      <td>4e7b3e00288586ebd08712fdd0374a03</td>\n",
       "      <td>060e732b5b29e8181a18229c7b0b2b5e</td>\n",
       "      <td>01151</td>\n",
       "      <td>Sao Paulo</td>\n",
       "      <td>SP</td>\n",
       "    </tr>\n",
       "    <tr>\n",
       "      <th>3</th>\n",
       "      <td>b2b6027bc5c5109e529d4dc6358b12c3</td>\n",
       "      <td>259dac757896d24d7702b9acbbff3f3c</td>\n",
       "      <td>08775</td>\n",
       "      <td>Mogi Das Cruzes</td>\n",
       "      <td>SP</td>\n",
       "    </tr>\n",
       "    <tr>\n",
       "      <th>4</th>\n",
       "      <td>4f2d8ab171c80ec8364f7c12e35b23ad</td>\n",
       "      <td>345ecd01c38d18a9036ed96c73b8d066</td>\n",
       "      <td>13056</td>\n",
       "      <td>Campinas</td>\n",
       "      <td>SP</td>\n",
       "    </tr>\n",
       "    <tr>\n",
       "      <th>...</th>\n",
       "      <td>...</td>\n",
       "      <td>...</td>\n",
       "      <td>...</td>\n",
       "      <td>...</td>\n",
       "      <td>...</td>\n",
       "    </tr>\n",
       "    <tr>\n",
       "      <th>99436</th>\n",
       "      <td>17ddf5dd5d51696bb3d7c6291687be6f</td>\n",
       "      <td>1a29b476fee25c95fbafc67c5ac95cf8</td>\n",
       "      <td>03937</td>\n",
       "      <td>Sao Paulo</td>\n",
       "      <td>SP</td>\n",
       "    </tr>\n",
       "    <tr>\n",
       "      <th>99437</th>\n",
       "      <td>e7b71a9017aa05c9a7fd292d714858e8</td>\n",
       "      <td>d52a67c98be1cf6a5c84435bd38d095d</td>\n",
       "      <td>06764</td>\n",
       "      <td>Taboao Da Serra</td>\n",
       "      <td>SP</td>\n",
       "    </tr>\n",
       "    <tr>\n",
       "      <th>99438</th>\n",
       "      <td>5e28dfe12db7fb50a4b2f691faecea5e</td>\n",
       "      <td>e9f50caf99f032f0bf3c55141f019d99</td>\n",
       "      <td>60115</td>\n",
       "      <td>Fortaleza</td>\n",
       "      <td>CE</td>\n",
       "    </tr>\n",
       "    <tr>\n",
       "      <th>99439</th>\n",
       "      <td>56b18e2166679b8a959d72dd06da27f9</td>\n",
       "      <td>73c2643a0a458b49f58cea58833b192e</td>\n",
       "      <td>92120</td>\n",
       "      <td>Canoas</td>\n",
       "      <td>RS</td>\n",
       "    </tr>\n",
       "    <tr>\n",
       "      <th>99440</th>\n",
       "      <td>274fa6071e5e17fe303b9748641082c8</td>\n",
       "      <td>84732c5050c01db9b23e19ba39899398</td>\n",
       "      <td>06703</td>\n",
       "      <td>Cotia</td>\n",
       "      <td>SP</td>\n",
       "    </tr>\n",
       "  </tbody>\n",
       "</table>\n",
       "<p>99441 rows × 5 columns</p>\n",
       "</div>"
      ],
      "text/plain": [
       "                            customer_id                customer_unique_id  \\\n",
       "0      06b8999e2fba1a1fbc88172c00ba8bc7  861eff4711a542e4b93843c6dd7febb0   \n",
       "1      18955e83d337fd6b2def6b18a428ac77  290c77bc529b7ac935b93aa66c333dc3   \n",
       "2      4e7b3e00288586ebd08712fdd0374a03  060e732b5b29e8181a18229c7b0b2b5e   \n",
       "3      b2b6027bc5c5109e529d4dc6358b12c3  259dac757896d24d7702b9acbbff3f3c   \n",
       "4      4f2d8ab171c80ec8364f7c12e35b23ad  345ecd01c38d18a9036ed96c73b8d066   \n",
       "...                                 ...                               ...   \n",
       "99436  17ddf5dd5d51696bb3d7c6291687be6f  1a29b476fee25c95fbafc67c5ac95cf8   \n",
       "99437  e7b71a9017aa05c9a7fd292d714858e8  d52a67c98be1cf6a5c84435bd38d095d   \n",
       "99438  5e28dfe12db7fb50a4b2f691faecea5e  e9f50caf99f032f0bf3c55141f019d99   \n",
       "99439  56b18e2166679b8a959d72dd06da27f9  73c2643a0a458b49f58cea58833b192e   \n",
       "99440  274fa6071e5e17fe303b9748641082c8  84732c5050c01db9b23e19ba39899398   \n",
       "\n",
       "      customer_zip_code_prefix          customer_city customer_state  \n",
       "0                        14409                 Franca             SP  \n",
       "1                        09790  Sao Bernardo Do Campo             SP  \n",
       "2                        01151              Sao Paulo             SP  \n",
       "3                        08775        Mogi Das Cruzes             SP  \n",
       "4                        13056               Campinas             SP  \n",
       "...                        ...                    ...            ...  \n",
       "99436                    03937              Sao Paulo             SP  \n",
       "99437                    06764        Taboao Da Serra             SP  \n",
       "99438                    60115              Fortaleza             CE  \n",
       "99439                    92120                 Canoas             RS  \n",
       "99440                    06703                  Cotia             SP  \n",
       "\n",
       "[99441 rows x 5 columns]"
      ]
     },
     "execution_count": 28,
     "metadata": {},
     "output_type": "execute_result"
    }
   ],
   "source": [
    "df"
   ]
  },
  {
   "cell_type": "code",
   "execution_count": 29,
   "id": "87981f5e",
   "metadata": {},
   "outputs": [
    {
     "name": "stdout",
     "output_type": "stream",
     "text": [
      "<class 'pandas.core.frame.DataFrame'>\n",
      "RangeIndex: 99441 entries, 0 to 99440\n",
      "Data columns (total 5 columns):\n",
      " #   Column                    Non-Null Count  Dtype \n",
      "---  ------                    --------------  ----- \n",
      " 0   customer_id               99441 non-null  object\n",
      " 1   customer_unique_id        99441 non-null  object\n",
      " 2   customer_zip_code_prefix  99441 non-null  object\n",
      " 3   customer_city             99441 non-null  object\n",
      " 4   customer_state            99441 non-null  object\n",
      "dtypes: object(5)\n",
      "memory usage: 3.8+ MB\n"
     ]
    }
   ],
   "source": [
    "df.info()"
   ]
  },
  {
   "cell_type": "code",
   "execution_count": 30,
   "id": "19d3964c",
   "metadata": {},
   "outputs": [
    {
     "data": {
      "application/vnd.microsoft.datawrangler.viewer.v0+json": {
       "columns": [
        {
         "name": "index",
         "rawType": "object",
         "type": "string"
        },
        {
         "name": "customer_id",
         "rawType": "object",
         "type": "unknown"
        },
        {
         "name": "customer_unique_id",
         "rawType": "object",
         "type": "unknown"
        },
        {
         "name": "customer_zip_code_prefix",
         "rawType": "object",
         "type": "unknown"
        },
        {
         "name": "customer_city",
         "rawType": "object",
         "type": "unknown"
        },
        {
         "name": "customer_state",
         "rawType": "object",
         "type": "unknown"
        }
       ],
       "ref": "34930ac0-cb32-4d26-8648-12fc890e66e8",
       "rows": [
        [
         "count",
         "99441",
         "99441",
         "99441",
         "99441",
         "99441"
        ],
        [
         "unique",
         "99441",
         "96096",
         "14994",
         "4119",
         "27"
        ],
        [
         "top",
         "274fa6071e5e17fe303b9748641082c8",
         "8d50f5eadf50201ccdcedfb9e2ac8455",
         "22790",
         "Sao Paulo",
         "SP"
        ],
        [
         "freq",
         "1",
         "17",
         "142",
         "15540",
         "41746"
        ]
       ],
       "shape": {
        "columns": 5,
        "rows": 4
       }
      },
      "text/html": [
       "<div>\n",
       "<style scoped>\n",
       "    .dataframe tbody tr th:only-of-type {\n",
       "        vertical-align: middle;\n",
       "    }\n",
       "\n",
       "    .dataframe tbody tr th {\n",
       "        vertical-align: top;\n",
       "    }\n",
       "\n",
       "    .dataframe thead th {\n",
       "        text-align: right;\n",
       "    }\n",
       "</style>\n",
       "<table border=\"1\" class=\"dataframe\">\n",
       "  <thead>\n",
       "    <tr style=\"text-align: right;\">\n",
       "      <th></th>\n",
       "      <th>customer_id</th>\n",
       "      <th>customer_unique_id</th>\n",
       "      <th>customer_zip_code_prefix</th>\n",
       "      <th>customer_city</th>\n",
       "      <th>customer_state</th>\n",
       "    </tr>\n",
       "  </thead>\n",
       "  <tbody>\n",
       "    <tr>\n",
       "      <th>count</th>\n",
       "      <td>99441</td>\n",
       "      <td>99441</td>\n",
       "      <td>99441</td>\n",
       "      <td>99441</td>\n",
       "      <td>99441</td>\n",
       "    </tr>\n",
       "    <tr>\n",
       "      <th>unique</th>\n",
       "      <td>99441</td>\n",
       "      <td>96096</td>\n",
       "      <td>14994</td>\n",
       "      <td>4119</td>\n",
       "      <td>27</td>\n",
       "    </tr>\n",
       "    <tr>\n",
       "      <th>top</th>\n",
       "      <td>274fa6071e5e17fe303b9748641082c8</td>\n",
       "      <td>8d50f5eadf50201ccdcedfb9e2ac8455</td>\n",
       "      <td>22790</td>\n",
       "      <td>Sao Paulo</td>\n",
       "      <td>SP</td>\n",
       "    </tr>\n",
       "    <tr>\n",
       "      <th>freq</th>\n",
       "      <td>1</td>\n",
       "      <td>17</td>\n",
       "      <td>142</td>\n",
       "      <td>15540</td>\n",
       "      <td>41746</td>\n",
       "    </tr>\n",
       "  </tbody>\n",
       "</table>\n",
       "</div>"
      ],
      "text/plain": [
       "                             customer_id                customer_unique_id  \\\n",
       "count                              99441                             99441   \n",
       "unique                             99441                             96096   \n",
       "top     274fa6071e5e17fe303b9748641082c8  8d50f5eadf50201ccdcedfb9e2ac8455   \n",
       "freq                                   1                                17   \n",
       "\n",
       "       customer_zip_code_prefix customer_city customer_state  \n",
       "count                     99441         99441          99441  \n",
       "unique                    14994          4119             27  \n",
       "top                       22790     Sao Paulo             SP  \n",
       "freq                        142         15540          41746  "
      ]
     },
     "execution_count": 30,
     "metadata": {},
     "output_type": "execute_result"
    }
   ],
   "source": [
    "df.describe()"
   ]
  },
  {
   "cell_type": "code",
   "execution_count": 31,
   "id": "1c2ed8c9",
   "metadata": {},
   "outputs": [],
   "source": [
    "#looking fine.....>\n",
    "\n",
    "#now saving the clean data"
   ]
  },
  {
   "cell_type": "code",
   "execution_count": 32,
   "id": "d6a9bfef",
   "metadata": {},
   "outputs": [],
   "source": [
    "df.to_csv(r\"C:\\DE\\csv files data\\Brazilian E-Commerce\\cleaned_olist_customers_dataset.csv\")"
   ]
  },
  {
   "cell_type": "code",
   "execution_count": 33,
   "id": "a2481495",
   "metadata": {},
   "outputs": [],
   "source": [
    "df2=pd.read_csv(r\"C:\\DE\\csv files data\\Brazilian E-Commerce\\cleaned_olist_customers_dataset.csv\",index_col=False)"
   ]
  },
  {
   "cell_type": "code",
   "execution_count": 34,
   "id": "3706376a",
   "metadata": {},
   "outputs": [
    {
     "data": {
      "application/vnd.microsoft.datawrangler.viewer.v0+json": {
       "columns": [
        {
         "name": "index",
         "rawType": "int64",
         "type": "integer"
        },
        {
         "name": "Unnamed: 0",
         "rawType": "int64",
         "type": "integer"
        },
        {
         "name": "customer_id",
         "rawType": "object",
         "type": "string"
        },
        {
         "name": "customer_unique_id",
         "rawType": "object",
         "type": "string"
        },
        {
         "name": "customer_zip_code_prefix",
         "rawType": "int64",
         "type": "integer"
        },
        {
         "name": "customer_city",
         "rawType": "object",
         "type": "string"
        },
        {
         "name": "customer_state",
         "rawType": "object",
         "type": "string"
        }
       ],
       "ref": "084b5b31-30ec-4346-bfac-8413ae45c630",
       "rows": [
        [
         "0",
         "0",
         "06b8999e2fba1a1fbc88172c00ba8bc7",
         "861eff4711a542e4b93843c6dd7febb0",
         "14409",
         "Franca",
         "SP"
        ],
        [
         "1",
         "1",
         "18955e83d337fd6b2def6b18a428ac77",
         "290c77bc529b7ac935b93aa66c333dc3",
         "9790",
         "Sao Bernardo Do Campo",
         "SP"
        ],
        [
         "2",
         "2",
         "4e7b3e00288586ebd08712fdd0374a03",
         "060e732b5b29e8181a18229c7b0b2b5e",
         "1151",
         "Sao Paulo",
         "SP"
        ],
        [
         "3",
         "3",
         "b2b6027bc5c5109e529d4dc6358b12c3",
         "259dac757896d24d7702b9acbbff3f3c",
         "8775",
         "Mogi Das Cruzes",
         "SP"
        ],
        [
         "4",
         "4",
         "4f2d8ab171c80ec8364f7c12e35b23ad",
         "345ecd01c38d18a9036ed96c73b8d066",
         "13056",
         "Campinas",
         "SP"
        ],
        [
         "5",
         "5",
         "879864dab9bc3047522c92c82e1212b8",
         "4c93744516667ad3b8f1fb645a3116a4",
         "89254",
         "Jaragua Do Sul",
         "SC"
        ],
        [
         "6",
         "6",
         "fd826e7cf63160e536e0908c76c3f441",
         "addec96d2e059c80c30fe6871d30d177",
         "4534",
         "Sao Paulo",
         "SP"
        ],
        [
         "7",
         "7",
         "5e274e7a0c3809e14aba7ad5aae0d407",
         "57b2a98a409812fe9618067b6b8ebe4f",
         "35182",
         "Timoteo",
         "MG"
        ],
        [
         "8",
         "8",
         "5adf08e34b2e993982a47070956c5c65",
         "1175e95fb47ddff9de6b2b06188f7e0d",
         "81560",
         "Curitiba",
         "PR"
        ],
        [
         "9",
         "9",
         "4b7139f34592b3a31687243a302fa75b",
         "9afe194fb833f79e300e37e580171f22",
         "30575",
         "Belo Horizonte",
         "MG"
        ],
        [
         "10",
         "10",
         "9fb35e4ed6f0a14a4977cd9aea4042bb",
         "2a7745e1ed516b289ed9b29c7d0539a5",
         "39400",
         "Montes Claros",
         "MG"
        ],
        [
         "11",
         "11",
         "5aa9e4fdd4dfd20959cad2d772509598",
         "2a46fb94aef5cbeeb850418118cee090",
         "20231",
         "Rio De Janeiro",
         "RJ"
        ],
        [
         "12",
         "12",
         "b2d1536598b73a9abd18e0d75d92f0a3",
         "918dc87cd72cd9f6ed4bd442ed785235",
         "18682",
         "Lencois Paulista",
         "SP"
        ],
        [
         "13",
         "13",
         "eabebad39a88bb6f5b52376faec28612",
         "295c05e81917928d76245e842748184d",
         "5704",
         "Sao Paulo",
         "SP"
        ],
        [
         "14",
         "14",
         "1f1c7bf1c9b041b292af6c1c4470b753",
         "3151a81801c8386361b62277d7fa5ecf",
         "95110",
         "Caxias Do Sul",
         "RS"
        ],
        [
         "15",
         "15",
         "206f3129c0e4d7d0b9550426023f0a08",
         "21f748a16f4e1688a9014eb3ee6fa325",
         "13412",
         "Piracicaba",
         "SP"
        ],
        [
         "16",
         "16",
         "a7c125a0a07b75146167b7f04a7f8e98",
         "5c2991dbd08bbf3cf410713c4de5a0b5",
         "22750",
         "Rio De Janeiro",
         "RJ"
        ],
        [
         "17",
         "17",
         "c5c61596a3b6bd0cee5766992c48a9a1",
         "b6e99561fe6f34a55b0b7da92f8ed775",
         "7124",
         "Guarulhos",
         "SP"
        ],
        [
         "18",
         "18",
         "9b8ce803689b3562defaad4613ef426f",
         "7f3a72e8f988c6e735ba118d54f47458",
         "5416",
         "Sao Paulo",
         "SP"
        ],
        [
         "19",
         "19",
         "49d0ea0986edde72da777f15456a0ee0",
         "3e6fd6b2f0d499456a6a6820a40f2d79",
         "68485",
         "Pacaja",
         "PA"
        ],
        [
         "20",
         "20",
         "154c4ded6991bdfa3cd249d11abf4130",
         "e607ede0e63436308660236f5a52da5e",
         "88034",
         "Florianopolis",
         "SC"
        ],
        [
         "21",
         "21",
         "690172ab319622688d3b4df42f676898",
         "a96d5cfa0d3181817e2b946f921ea021",
         "74914",
         "Aparecida De Goiania",
         "GO"
        ],
        [
         "22",
         "22",
         "2938121a40a20953c43caa8c98787fcb",
         "482441ea6a06b1f72fe9784756c0ea75",
         "5713",
         "Sao Paulo",
         "SP"
        ],
        [
         "23",
         "23",
         "237098a64674ae89babdc426746260fc",
         "4390ddbb6276a66ff1736a6710205dca",
         "82820",
         "Curitiba",
         "PR"
        ],
        [
         "24",
         "24",
         "cb721d7b4f271fd87011c4c83462c076",
         "a5844ba4bfc8d0cc61d13027c7e63bcc",
         "8225",
         "Sao Paulo",
         "SP"
        ],
        [
         "25",
         "25",
         "f681356046d9fde60e70c73a18d65ea2",
         "5f102dd37243f152aec3607970aad100",
         "9121",
         "Santo Andre",
         "SP"
        ],
        [
         "26",
         "26",
         "167bd30a409e3e4127df5a9408ebd394",
         "9c0096673baf55453a50073f12d1a37f",
         "74310",
         "Goiania",
         "GO"
        ],
        [
         "27",
         "27",
         "6e359a57a91f84095cc64e1b351aef8c",
         "2e6a42a9b5cbb0da62988694f18ee295",
         "4571",
         "Sao Paulo",
         "SP"
        ],
        [
         "28",
         "28",
         "e0eea8f69a457b3f1fa246e44c9ebefd",
         "4d221875624017bc47b4d1ce7314a5b7",
         "29311",
         "Cachoeiro De Itapemirim",
         "ES"
        ],
        [
         "29",
         "29",
         "e3109970a3fe8021d5ff82c577ce5606",
         "a8654e2af5da6bb72f52c22b164855e1",
         "5528",
         "Sao Paulo",
         "SP"
        ],
        [
         "30",
         "30",
         "261cb4f92498ca05d5bd1a327a261d9c",
         "424aca6872c5bab80780a8dec03b7516",
         "12235",
         "Sao Jose Dos Campos",
         "SP"
        ],
        [
         "31",
         "31",
         "6f92779347724b67e44e3224f3b4cffd",
         "bf4862777db128507e9efcc789215e9b",
         "18130",
         "Sao Roque",
         "SP"
        ],
        [
         "32",
         "32",
         "2d5831cb2dff7cdefba62e950ae3dc7b",
         "e9dd12dca17352644a959d9dea133935",
         "42800",
         "Camacari",
         "BA"
        ],
        [
         "33",
         "33",
         "b2bed119388167a954382cca36c4777f",
         "e079b18794454de9d2be5c12b4392294",
         "27525",
         "Resende",
         "RJ"
        ],
        [
         "34",
         "34",
         "469634941c27cd844170935a3cf60b95",
         "ef07ba9aa5226f77264ffa5762b2280b",
         "81750",
         "Curitiba",
         "PR"
        ],
        [
         "35",
         "35",
         "df0aa5b8586495e0ddf6b601122e43a1",
         "85d234692f7bee8d6fea586e237334b6",
         "13175",
         "Sumare",
         "SP"
        ],
        [
         "36",
         "36",
         "41c8f4b570869791379a925899a6af8a",
         "fe3634ccefbcdb0537b45fd589e32e8e",
         "7170",
         "Guarulhos",
         "SP"
        ],
        [
         "37",
         "37",
         "54f755c3fd2709231f9964a1430c5218",
         "40febde16f4718a5def537786473b0be",
         "93415",
         "Novo Hamburgo",
         "RS"
        ],
        [
         "38",
         "38",
         "4c06b42fbf7b97ab10779cda5549cd1c",
         "07d190f123147d9e89d4b922543d7948",
         "65075",
         "Sao Luis",
         "MA"
        ],
        [
         "39",
         "39",
         "b6368ca0f56d4632f44d58ca431487b2",
         "dd992305cba295d997f263dbdf4e8c2e",
         "88104",
         "Sao Jose",
         "SC"
        ],
        [
         "40",
         "40",
         "4a0e66fd30684aa1409cd1b66fec77cc",
         "86085586aaa8c5f47ed0b400da64c59d",
         "7176",
         "Guarulhos",
         "SP"
        ],
        [
         "41",
         "41",
         "c168abb9077b7821adae01dc1f0886c5",
         "5ad58a4e6a1a656b6bed070cadbaa003",
         "35960",
         "Santa Barbara",
         "MG"
        ],
        [
         "42",
         "42",
         "a3b0fda37bae14cf754877bed475e80c",
         "c9158d089637ab443c78984d20da7fc0",
         "5727",
         "Sao Paulo",
         "SP"
        ],
        [
         "43",
         "43",
         "0ccd415657ae8a6cd1c71b00155a019e",
         "66cc90195ca44cc7ac6a1cd0e1e1e7b2",
         "7053",
         "Guarulhos",
         "SP"
        ],
        [
         "44",
         "44",
         "c532a74a3ebf1bacce2e2bcce3783317",
         "91ec50a00ae74d0a229d2efdf4344e1e",
         "14026",
         "Ribeirao Preto",
         "SP"
        ],
        [
         "45",
         "45",
         "19cecb194f54e614b70d971306a9931b",
         "d251c190ca75786e9ab937982d60d1d4",
         "30320",
         "Belo Horizonte",
         "MG"
        ],
        [
         "46",
         "46",
         "f34a6e874087ec1f0e3dab9fdf659c5d",
         "233896de79986082f1f479f1f85281cb",
         "38300",
         "Ituiutaba",
         "MG"
        ],
        [
         "47",
         "47",
         "c132855c926907970dcf6f2bf0b33a24",
         "a8ae36a2bb6c2bbc3b5d62ede131c9ef",
         "18740",
         "Taquarituba",
         "SP"
        ],
        [
         "48",
         "48",
         "df85b96ba2ce3e49bde101b1614f52ac",
         "8d46223c91cbeb93e0930ca8bd8ffca2",
         "83085",
         "Sao Jose Dos Pinhais",
         "PR"
        ],
        [
         "49",
         "49",
         "4d27341acd30a36bca39008ee9bb9050",
         "e021e698833bdeb89dfef3acb2e91f37",
         "89254",
         "Jaragua Do Sul",
         "SC"
        ]
       ],
       "shape": {
        "columns": 6,
        "rows": 99441
       }
      },
      "text/html": [
       "<div>\n",
       "<style scoped>\n",
       "    .dataframe tbody tr th:only-of-type {\n",
       "        vertical-align: middle;\n",
       "    }\n",
       "\n",
       "    .dataframe tbody tr th {\n",
       "        vertical-align: top;\n",
       "    }\n",
       "\n",
       "    .dataframe thead th {\n",
       "        text-align: right;\n",
       "    }\n",
       "</style>\n",
       "<table border=\"1\" class=\"dataframe\">\n",
       "  <thead>\n",
       "    <tr style=\"text-align: right;\">\n",
       "      <th></th>\n",
       "      <th>Unnamed: 0</th>\n",
       "      <th>customer_id</th>\n",
       "      <th>customer_unique_id</th>\n",
       "      <th>customer_zip_code_prefix</th>\n",
       "      <th>customer_city</th>\n",
       "      <th>customer_state</th>\n",
       "    </tr>\n",
       "  </thead>\n",
       "  <tbody>\n",
       "    <tr>\n",
       "      <th>0</th>\n",
       "      <td>0</td>\n",
       "      <td>06b8999e2fba1a1fbc88172c00ba8bc7</td>\n",
       "      <td>861eff4711a542e4b93843c6dd7febb0</td>\n",
       "      <td>14409</td>\n",
       "      <td>Franca</td>\n",
       "      <td>SP</td>\n",
       "    </tr>\n",
       "    <tr>\n",
       "      <th>1</th>\n",
       "      <td>1</td>\n",
       "      <td>18955e83d337fd6b2def6b18a428ac77</td>\n",
       "      <td>290c77bc529b7ac935b93aa66c333dc3</td>\n",
       "      <td>9790</td>\n",
       "      <td>Sao Bernardo Do Campo</td>\n",
       "      <td>SP</td>\n",
       "    </tr>\n",
       "    <tr>\n",
       "      <th>2</th>\n",
       "      <td>2</td>\n",
       "      <td>4e7b3e00288586ebd08712fdd0374a03</td>\n",
       "      <td>060e732b5b29e8181a18229c7b0b2b5e</td>\n",
       "      <td>1151</td>\n",
       "      <td>Sao Paulo</td>\n",
       "      <td>SP</td>\n",
       "    </tr>\n",
       "    <tr>\n",
       "      <th>3</th>\n",
       "      <td>3</td>\n",
       "      <td>b2b6027bc5c5109e529d4dc6358b12c3</td>\n",
       "      <td>259dac757896d24d7702b9acbbff3f3c</td>\n",
       "      <td>8775</td>\n",
       "      <td>Mogi Das Cruzes</td>\n",
       "      <td>SP</td>\n",
       "    </tr>\n",
       "    <tr>\n",
       "      <th>4</th>\n",
       "      <td>4</td>\n",
       "      <td>4f2d8ab171c80ec8364f7c12e35b23ad</td>\n",
       "      <td>345ecd01c38d18a9036ed96c73b8d066</td>\n",
       "      <td>13056</td>\n",
       "      <td>Campinas</td>\n",
       "      <td>SP</td>\n",
       "    </tr>\n",
       "    <tr>\n",
       "      <th>...</th>\n",
       "      <td>...</td>\n",
       "      <td>...</td>\n",
       "      <td>...</td>\n",
       "      <td>...</td>\n",
       "      <td>...</td>\n",
       "      <td>...</td>\n",
       "    </tr>\n",
       "    <tr>\n",
       "      <th>99436</th>\n",
       "      <td>99436</td>\n",
       "      <td>17ddf5dd5d51696bb3d7c6291687be6f</td>\n",
       "      <td>1a29b476fee25c95fbafc67c5ac95cf8</td>\n",
       "      <td>3937</td>\n",
       "      <td>Sao Paulo</td>\n",
       "      <td>SP</td>\n",
       "    </tr>\n",
       "    <tr>\n",
       "      <th>99437</th>\n",
       "      <td>99437</td>\n",
       "      <td>e7b71a9017aa05c9a7fd292d714858e8</td>\n",
       "      <td>d52a67c98be1cf6a5c84435bd38d095d</td>\n",
       "      <td>6764</td>\n",
       "      <td>Taboao Da Serra</td>\n",
       "      <td>SP</td>\n",
       "    </tr>\n",
       "    <tr>\n",
       "      <th>99438</th>\n",
       "      <td>99438</td>\n",
       "      <td>5e28dfe12db7fb50a4b2f691faecea5e</td>\n",
       "      <td>e9f50caf99f032f0bf3c55141f019d99</td>\n",
       "      <td>60115</td>\n",
       "      <td>Fortaleza</td>\n",
       "      <td>CE</td>\n",
       "    </tr>\n",
       "    <tr>\n",
       "      <th>99439</th>\n",
       "      <td>99439</td>\n",
       "      <td>56b18e2166679b8a959d72dd06da27f9</td>\n",
       "      <td>73c2643a0a458b49f58cea58833b192e</td>\n",
       "      <td>92120</td>\n",
       "      <td>Canoas</td>\n",
       "      <td>RS</td>\n",
       "    </tr>\n",
       "    <tr>\n",
       "      <th>99440</th>\n",
       "      <td>99440</td>\n",
       "      <td>274fa6071e5e17fe303b9748641082c8</td>\n",
       "      <td>84732c5050c01db9b23e19ba39899398</td>\n",
       "      <td>6703</td>\n",
       "      <td>Cotia</td>\n",
       "      <td>SP</td>\n",
       "    </tr>\n",
       "  </tbody>\n",
       "</table>\n",
       "<p>99441 rows × 6 columns</p>\n",
       "</div>"
      ],
      "text/plain": [
       "       Unnamed: 0                       customer_id  \\\n",
       "0               0  06b8999e2fba1a1fbc88172c00ba8bc7   \n",
       "1               1  18955e83d337fd6b2def6b18a428ac77   \n",
       "2               2  4e7b3e00288586ebd08712fdd0374a03   \n",
       "3               3  b2b6027bc5c5109e529d4dc6358b12c3   \n",
       "4               4  4f2d8ab171c80ec8364f7c12e35b23ad   \n",
       "...           ...                               ...   \n",
       "99436       99436  17ddf5dd5d51696bb3d7c6291687be6f   \n",
       "99437       99437  e7b71a9017aa05c9a7fd292d714858e8   \n",
       "99438       99438  5e28dfe12db7fb50a4b2f691faecea5e   \n",
       "99439       99439  56b18e2166679b8a959d72dd06da27f9   \n",
       "99440       99440  274fa6071e5e17fe303b9748641082c8   \n",
       "\n",
       "                     customer_unique_id  customer_zip_code_prefix  \\\n",
       "0      861eff4711a542e4b93843c6dd7febb0                     14409   \n",
       "1      290c77bc529b7ac935b93aa66c333dc3                      9790   \n",
       "2      060e732b5b29e8181a18229c7b0b2b5e                      1151   \n",
       "3      259dac757896d24d7702b9acbbff3f3c                      8775   \n",
       "4      345ecd01c38d18a9036ed96c73b8d066                     13056   \n",
       "...                                 ...                       ...   \n",
       "99436  1a29b476fee25c95fbafc67c5ac95cf8                      3937   \n",
       "99437  d52a67c98be1cf6a5c84435bd38d095d                      6764   \n",
       "99438  e9f50caf99f032f0bf3c55141f019d99                     60115   \n",
       "99439  73c2643a0a458b49f58cea58833b192e                     92120   \n",
       "99440  84732c5050c01db9b23e19ba39899398                      6703   \n",
       "\n",
       "               customer_city customer_state  \n",
       "0                     Franca             SP  \n",
       "1      Sao Bernardo Do Campo             SP  \n",
       "2                  Sao Paulo             SP  \n",
       "3            Mogi Das Cruzes             SP  \n",
       "4                   Campinas             SP  \n",
       "...                      ...            ...  \n",
       "99436              Sao Paulo             SP  \n",
       "99437        Taboao Da Serra             SP  \n",
       "99438              Fortaleza             CE  \n",
       "99439                 Canoas             RS  \n",
       "99440                  Cotia             SP  \n",
       "\n",
       "[99441 rows x 6 columns]"
      ]
     },
     "execution_count": 34,
     "metadata": {},
     "output_type": "execute_result"
    }
   ],
   "source": [
    "df2"
   ]
  },
  {
   "cell_type": "code",
   "execution_count": 35,
   "id": "2f0245f0",
   "metadata": {},
   "outputs": [],
   "source": [
    "df2.drop(columns=['Unnamed: 0'], inplace=True)"
   ]
  },
  {
   "cell_type": "code",
   "execution_count": 36,
   "id": "1e49860f",
   "metadata": {},
   "outputs": [
    {
     "data": {
      "application/vnd.microsoft.datawrangler.viewer.v0+json": {
       "columns": [
        {
         "name": "index",
         "rawType": "int64",
         "type": "integer"
        },
        {
         "name": "customer_id",
         "rawType": "object",
         "type": "string"
        },
        {
         "name": "customer_unique_id",
         "rawType": "object",
         "type": "string"
        },
        {
         "name": "customer_zip_code_prefix",
         "rawType": "object",
         "type": "string"
        },
        {
         "name": "customer_city",
         "rawType": "object",
         "type": "string"
        },
        {
         "name": "customer_state",
         "rawType": "object",
         "type": "string"
        }
       ],
       "ref": "44e024a2-8834-4f76-bbe5-8309da9a844c",
       "rows": [
        [
         "0",
         "06b8999e2fba1a1fbc88172c00ba8bc7",
         "861eff4711a542e4b93843c6dd7febb0",
         "14409",
         "Franca",
         "SP"
        ],
        [
         "1",
         "18955e83d337fd6b2def6b18a428ac77",
         "290c77bc529b7ac935b93aa66c333dc3",
         "09790",
         "Sao Bernardo Do Campo",
         "SP"
        ],
        [
         "2",
         "4e7b3e00288586ebd08712fdd0374a03",
         "060e732b5b29e8181a18229c7b0b2b5e",
         "01151",
         "Sao Paulo",
         "SP"
        ],
        [
         "3",
         "b2b6027bc5c5109e529d4dc6358b12c3",
         "259dac757896d24d7702b9acbbff3f3c",
         "08775",
         "Mogi Das Cruzes",
         "SP"
        ],
        [
         "4",
         "4f2d8ab171c80ec8364f7c12e35b23ad",
         "345ecd01c38d18a9036ed96c73b8d066",
         "13056",
         "Campinas",
         "SP"
        ],
        [
         "5",
         "879864dab9bc3047522c92c82e1212b8",
         "4c93744516667ad3b8f1fb645a3116a4",
         "89254",
         "Jaragua Do Sul",
         "SC"
        ],
        [
         "6",
         "fd826e7cf63160e536e0908c76c3f441",
         "addec96d2e059c80c30fe6871d30d177",
         "04534",
         "Sao Paulo",
         "SP"
        ],
        [
         "7",
         "5e274e7a0c3809e14aba7ad5aae0d407",
         "57b2a98a409812fe9618067b6b8ebe4f",
         "35182",
         "Timoteo",
         "MG"
        ],
        [
         "8",
         "5adf08e34b2e993982a47070956c5c65",
         "1175e95fb47ddff9de6b2b06188f7e0d",
         "81560",
         "Curitiba",
         "PR"
        ],
        [
         "9",
         "4b7139f34592b3a31687243a302fa75b",
         "9afe194fb833f79e300e37e580171f22",
         "30575",
         "Belo Horizonte",
         "MG"
        ],
        [
         "10",
         "9fb35e4ed6f0a14a4977cd9aea4042bb",
         "2a7745e1ed516b289ed9b29c7d0539a5",
         "39400",
         "Montes Claros",
         "MG"
        ],
        [
         "11",
         "5aa9e4fdd4dfd20959cad2d772509598",
         "2a46fb94aef5cbeeb850418118cee090",
         "20231",
         "Rio De Janeiro",
         "RJ"
        ],
        [
         "12",
         "b2d1536598b73a9abd18e0d75d92f0a3",
         "918dc87cd72cd9f6ed4bd442ed785235",
         "18682",
         "Lencois Paulista",
         "SP"
        ],
        [
         "13",
         "eabebad39a88bb6f5b52376faec28612",
         "295c05e81917928d76245e842748184d",
         "05704",
         "Sao Paulo",
         "SP"
        ],
        [
         "14",
         "1f1c7bf1c9b041b292af6c1c4470b753",
         "3151a81801c8386361b62277d7fa5ecf",
         "95110",
         "Caxias Do Sul",
         "RS"
        ],
        [
         "15",
         "206f3129c0e4d7d0b9550426023f0a08",
         "21f748a16f4e1688a9014eb3ee6fa325",
         "13412",
         "Piracicaba",
         "SP"
        ],
        [
         "16",
         "a7c125a0a07b75146167b7f04a7f8e98",
         "5c2991dbd08bbf3cf410713c4de5a0b5",
         "22750",
         "Rio De Janeiro",
         "RJ"
        ],
        [
         "17",
         "c5c61596a3b6bd0cee5766992c48a9a1",
         "b6e99561fe6f34a55b0b7da92f8ed775",
         "07124",
         "Guarulhos",
         "SP"
        ],
        [
         "18",
         "9b8ce803689b3562defaad4613ef426f",
         "7f3a72e8f988c6e735ba118d54f47458",
         "05416",
         "Sao Paulo",
         "SP"
        ],
        [
         "19",
         "49d0ea0986edde72da777f15456a0ee0",
         "3e6fd6b2f0d499456a6a6820a40f2d79",
         "68485",
         "Pacaja",
         "PA"
        ],
        [
         "20",
         "154c4ded6991bdfa3cd249d11abf4130",
         "e607ede0e63436308660236f5a52da5e",
         "88034",
         "Florianopolis",
         "SC"
        ],
        [
         "21",
         "690172ab319622688d3b4df42f676898",
         "a96d5cfa0d3181817e2b946f921ea021",
         "74914",
         "Aparecida De Goiania",
         "GO"
        ],
        [
         "22",
         "2938121a40a20953c43caa8c98787fcb",
         "482441ea6a06b1f72fe9784756c0ea75",
         "05713",
         "Sao Paulo",
         "SP"
        ],
        [
         "23",
         "237098a64674ae89babdc426746260fc",
         "4390ddbb6276a66ff1736a6710205dca",
         "82820",
         "Curitiba",
         "PR"
        ],
        [
         "24",
         "cb721d7b4f271fd87011c4c83462c076",
         "a5844ba4bfc8d0cc61d13027c7e63bcc",
         "08225",
         "Sao Paulo",
         "SP"
        ],
        [
         "25",
         "f681356046d9fde60e70c73a18d65ea2",
         "5f102dd37243f152aec3607970aad100",
         "09121",
         "Santo Andre",
         "SP"
        ],
        [
         "26",
         "167bd30a409e3e4127df5a9408ebd394",
         "9c0096673baf55453a50073f12d1a37f",
         "74310",
         "Goiania",
         "GO"
        ],
        [
         "27",
         "6e359a57a91f84095cc64e1b351aef8c",
         "2e6a42a9b5cbb0da62988694f18ee295",
         "04571",
         "Sao Paulo",
         "SP"
        ],
        [
         "28",
         "e0eea8f69a457b3f1fa246e44c9ebefd",
         "4d221875624017bc47b4d1ce7314a5b7",
         "29311",
         "Cachoeiro De Itapemirim",
         "ES"
        ],
        [
         "29",
         "e3109970a3fe8021d5ff82c577ce5606",
         "a8654e2af5da6bb72f52c22b164855e1",
         "05528",
         "Sao Paulo",
         "SP"
        ],
        [
         "30",
         "261cb4f92498ca05d5bd1a327a261d9c",
         "424aca6872c5bab80780a8dec03b7516",
         "12235",
         "Sao Jose Dos Campos",
         "SP"
        ],
        [
         "31",
         "6f92779347724b67e44e3224f3b4cffd",
         "bf4862777db128507e9efcc789215e9b",
         "18130",
         "Sao Roque",
         "SP"
        ],
        [
         "32",
         "2d5831cb2dff7cdefba62e950ae3dc7b",
         "e9dd12dca17352644a959d9dea133935",
         "42800",
         "Camacari",
         "BA"
        ],
        [
         "33",
         "b2bed119388167a954382cca36c4777f",
         "e079b18794454de9d2be5c12b4392294",
         "27525",
         "Resende",
         "RJ"
        ],
        [
         "34",
         "469634941c27cd844170935a3cf60b95",
         "ef07ba9aa5226f77264ffa5762b2280b",
         "81750",
         "Curitiba",
         "PR"
        ],
        [
         "35",
         "df0aa5b8586495e0ddf6b601122e43a1",
         "85d234692f7bee8d6fea586e237334b6",
         "13175",
         "Sumare",
         "SP"
        ],
        [
         "36",
         "41c8f4b570869791379a925899a6af8a",
         "fe3634ccefbcdb0537b45fd589e32e8e",
         "07170",
         "Guarulhos",
         "SP"
        ],
        [
         "37",
         "54f755c3fd2709231f9964a1430c5218",
         "40febde16f4718a5def537786473b0be",
         "93415",
         "Novo Hamburgo",
         "RS"
        ],
        [
         "38",
         "4c06b42fbf7b97ab10779cda5549cd1c",
         "07d190f123147d9e89d4b922543d7948",
         "65075",
         "Sao Luis",
         "MA"
        ],
        [
         "39",
         "b6368ca0f56d4632f44d58ca431487b2",
         "dd992305cba295d997f263dbdf4e8c2e",
         "88104",
         "Sao Jose",
         "SC"
        ],
        [
         "40",
         "4a0e66fd30684aa1409cd1b66fec77cc",
         "86085586aaa8c5f47ed0b400da64c59d",
         "07176",
         "Guarulhos",
         "SP"
        ],
        [
         "41",
         "c168abb9077b7821adae01dc1f0886c5",
         "5ad58a4e6a1a656b6bed070cadbaa003",
         "35960",
         "Santa Barbara",
         "MG"
        ],
        [
         "42",
         "a3b0fda37bae14cf754877bed475e80c",
         "c9158d089637ab443c78984d20da7fc0",
         "05727",
         "Sao Paulo",
         "SP"
        ],
        [
         "43",
         "0ccd415657ae8a6cd1c71b00155a019e",
         "66cc90195ca44cc7ac6a1cd0e1e1e7b2",
         "07053",
         "Guarulhos",
         "SP"
        ],
        [
         "44",
         "c532a74a3ebf1bacce2e2bcce3783317",
         "91ec50a00ae74d0a229d2efdf4344e1e",
         "14026",
         "Ribeirao Preto",
         "SP"
        ],
        [
         "45",
         "19cecb194f54e614b70d971306a9931b",
         "d251c190ca75786e9ab937982d60d1d4",
         "30320",
         "Belo Horizonte",
         "MG"
        ],
        [
         "46",
         "f34a6e874087ec1f0e3dab9fdf659c5d",
         "233896de79986082f1f479f1f85281cb",
         "38300",
         "Ituiutaba",
         "MG"
        ],
        [
         "47",
         "c132855c926907970dcf6f2bf0b33a24",
         "a8ae36a2bb6c2bbc3b5d62ede131c9ef",
         "18740",
         "Taquarituba",
         "SP"
        ],
        [
         "48",
         "df85b96ba2ce3e49bde101b1614f52ac",
         "8d46223c91cbeb93e0930ca8bd8ffca2",
         "83085",
         "Sao Jose Dos Pinhais",
         "PR"
        ],
        [
         "49",
         "4d27341acd30a36bca39008ee9bb9050",
         "e021e698833bdeb89dfef3acb2e91f37",
         "89254",
         "Jaragua Do Sul",
         "SC"
        ]
       ],
       "shape": {
        "columns": 5,
        "rows": 99441
       }
      },
      "text/html": [
       "<div>\n",
       "<style scoped>\n",
       "    .dataframe tbody tr th:only-of-type {\n",
       "        vertical-align: middle;\n",
       "    }\n",
       "\n",
       "    .dataframe tbody tr th {\n",
       "        vertical-align: top;\n",
       "    }\n",
       "\n",
       "    .dataframe thead th {\n",
       "        text-align: right;\n",
       "    }\n",
       "</style>\n",
       "<table border=\"1\" class=\"dataframe\">\n",
       "  <thead>\n",
       "    <tr style=\"text-align: right;\">\n",
       "      <th></th>\n",
       "      <th>customer_id</th>\n",
       "      <th>customer_unique_id</th>\n",
       "      <th>customer_zip_code_prefix</th>\n",
       "      <th>customer_city</th>\n",
       "      <th>customer_state</th>\n",
       "    </tr>\n",
       "  </thead>\n",
       "  <tbody>\n",
       "    <tr>\n",
       "      <th>0</th>\n",
       "      <td>06b8999e2fba1a1fbc88172c00ba8bc7</td>\n",
       "      <td>861eff4711a542e4b93843c6dd7febb0</td>\n",
       "      <td>14409</td>\n",
       "      <td>Franca</td>\n",
       "      <td>SP</td>\n",
       "    </tr>\n",
       "    <tr>\n",
       "      <th>1</th>\n",
       "      <td>18955e83d337fd6b2def6b18a428ac77</td>\n",
       "      <td>290c77bc529b7ac935b93aa66c333dc3</td>\n",
       "      <td>09790</td>\n",
       "      <td>Sao Bernardo Do Campo</td>\n",
       "      <td>SP</td>\n",
       "    </tr>\n",
       "    <tr>\n",
       "      <th>2</th>\n",
       "      <td>4e7b3e00288586ebd08712fdd0374a03</td>\n",
       "      <td>060e732b5b29e8181a18229c7b0b2b5e</td>\n",
       "      <td>01151</td>\n",
       "      <td>Sao Paulo</td>\n",
       "      <td>SP</td>\n",
       "    </tr>\n",
       "    <tr>\n",
       "      <th>3</th>\n",
       "      <td>b2b6027bc5c5109e529d4dc6358b12c3</td>\n",
       "      <td>259dac757896d24d7702b9acbbff3f3c</td>\n",
       "      <td>08775</td>\n",
       "      <td>Mogi Das Cruzes</td>\n",
       "      <td>SP</td>\n",
       "    </tr>\n",
       "    <tr>\n",
       "      <th>4</th>\n",
       "      <td>4f2d8ab171c80ec8364f7c12e35b23ad</td>\n",
       "      <td>345ecd01c38d18a9036ed96c73b8d066</td>\n",
       "      <td>13056</td>\n",
       "      <td>Campinas</td>\n",
       "      <td>SP</td>\n",
       "    </tr>\n",
       "    <tr>\n",
       "      <th>...</th>\n",
       "      <td>...</td>\n",
       "      <td>...</td>\n",
       "      <td>...</td>\n",
       "      <td>...</td>\n",
       "      <td>...</td>\n",
       "    </tr>\n",
       "    <tr>\n",
       "      <th>99436</th>\n",
       "      <td>17ddf5dd5d51696bb3d7c6291687be6f</td>\n",
       "      <td>1a29b476fee25c95fbafc67c5ac95cf8</td>\n",
       "      <td>03937</td>\n",
       "      <td>Sao Paulo</td>\n",
       "      <td>SP</td>\n",
       "    </tr>\n",
       "    <tr>\n",
       "      <th>99437</th>\n",
       "      <td>e7b71a9017aa05c9a7fd292d714858e8</td>\n",
       "      <td>d52a67c98be1cf6a5c84435bd38d095d</td>\n",
       "      <td>06764</td>\n",
       "      <td>Taboao Da Serra</td>\n",
       "      <td>SP</td>\n",
       "    </tr>\n",
       "    <tr>\n",
       "      <th>99438</th>\n",
       "      <td>5e28dfe12db7fb50a4b2f691faecea5e</td>\n",
       "      <td>e9f50caf99f032f0bf3c55141f019d99</td>\n",
       "      <td>60115</td>\n",
       "      <td>Fortaleza</td>\n",
       "      <td>CE</td>\n",
       "    </tr>\n",
       "    <tr>\n",
       "      <th>99439</th>\n",
       "      <td>56b18e2166679b8a959d72dd06da27f9</td>\n",
       "      <td>73c2643a0a458b49f58cea58833b192e</td>\n",
       "      <td>92120</td>\n",
       "      <td>Canoas</td>\n",
       "      <td>RS</td>\n",
       "    </tr>\n",
       "    <tr>\n",
       "      <th>99440</th>\n",
       "      <td>274fa6071e5e17fe303b9748641082c8</td>\n",
       "      <td>84732c5050c01db9b23e19ba39899398</td>\n",
       "      <td>06703</td>\n",
       "      <td>Cotia</td>\n",
       "      <td>SP</td>\n",
       "    </tr>\n",
       "  </tbody>\n",
       "</table>\n",
       "<p>99441 rows × 5 columns</p>\n",
       "</div>"
      ],
      "text/plain": [
       "                            customer_id                customer_unique_id  \\\n",
       "0      06b8999e2fba1a1fbc88172c00ba8bc7  861eff4711a542e4b93843c6dd7febb0   \n",
       "1      18955e83d337fd6b2def6b18a428ac77  290c77bc529b7ac935b93aa66c333dc3   \n",
       "2      4e7b3e00288586ebd08712fdd0374a03  060e732b5b29e8181a18229c7b0b2b5e   \n",
       "3      b2b6027bc5c5109e529d4dc6358b12c3  259dac757896d24d7702b9acbbff3f3c   \n",
       "4      4f2d8ab171c80ec8364f7c12e35b23ad  345ecd01c38d18a9036ed96c73b8d066   \n",
       "...                                 ...                               ...   \n",
       "99436  17ddf5dd5d51696bb3d7c6291687be6f  1a29b476fee25c95fbafc67c5ac95cf8   \n",
       "99437  e7b71a9017aa05c9a7fd292d714858e8  d52a67c98be1cf6a5c84435bd38d095d   \n",
       "99438  5e28dfe12db7fb50a4b2f691faecea5e  e9f50caf99f032f0bf3c55141f019d99   \n",
       "99439  56b18e2166679b8a959d72dd06da27f9  73c2643a0a458b49f58cea58833b192e   \n",
       "99440  274fa6071e5e17fe303b9748641082c8  84732c5050c01db9b23e19ba39899398   \n",
       "\n",
       "      customer_zip_code_prefix          customer_city customer_state  \n",
       "0                        14409                 Franca             SP  \n",
       "1                        09790  Sao Bernardo Do Campo             SP  \n",
       "2                        01151              Sao Paulo             SP  \n",
       "3                        08775        Mogi Das Cruzes             SP  \n",
       "4                        13056               Campinas             SP  \n",
       "...                        ...                    ...            ...  \n",
       "99436                    03937              Sao Paulo             SP  \n",
       "99437                    06764        Taboao Da Serra             SP  \n",
       "99438                    60115              Fortaleza             CE  \n",
       "99439                    92120                 Canoas             RS  \n",
       "99440                    06703                  Cotia             SP  \n",
       "\n",
       "[99441 rows x 5 columns]"
      ]
     },
     "execution_count": 36,
     "metadata": {},
     "output_type": "execute_result"
    }
   ],
   "source": [
    "df"
   ]
  }
 ],
 "metadata": {
  "kernelspec": {
   "display_name": "base",
   "language": "python",
   "name": "python3"
  },
  "language_info": {
   "codemirror_mode": {
    "name": "ipython",
    "version": 3
   },
   "file_extension": ".py",
   "mimetype": "text/x-python",
   "name": "python",
   "nbconvert_exporter": "python",
   "pygments_lexer": "ipython3",
   "version": "3.13.5"
  }
 },
 "nbformat": 4,
 "nbformat_minor": 5
}
