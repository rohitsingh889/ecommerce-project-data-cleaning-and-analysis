{
 "cells": [
  {
   "cell_type": "code",
   "execution_count": 119,
   "id": "553e3c27",
   "metadata": {},
   "outputs": [],
   "source": [
    "import pandas as pd\n",
    "import numpy as np"
   ]
  },
  {
   "cell_type": "code",
   "execution_count": 120,
   "id": "622183eb",
   "metadata": {},
   "outputs": [],
   "source": [
    "df=pd.read_csv(r'C:\\DE\\csv files data\\Brazilian E-Commerce\\olist_order_reviews_dataset.csv')\n"
   ]
  },
  {
   "cell_type": "code",
   "execution_count": 121,
   "id": "5ac3904d",
   "metadata": {},
   "outputs": [
    {
     "data": {
      "application/vnd.microsoft.datawrangler.viewer.v0+json": {
       "columns": [
        {
         "name": "index",
         "rawType": "int64",
         "type": "integer"
        },
        {
         "name": "review_id",
         "rawType": "object",
         "type": "string"
        },
        {
         "name": "order_id",
         "rawType": "object",
         "type": "string"
        },
        {
         "name": "review_score",
         "rawType": "int64",
         "type": "integer"
        },
        {
         "name": "review_comment_title",
         "rawType": "object",
         "type": "unknown"
        },
        {
         "name": "review_comment_message",
         "rawType": "object",
         "type": "unknown"
        },
        {
         "name": "review_creation_date",
         "rawType": "object",
         "type": "string"
        },
        {
         "name": "review_answer_timestamp",
         "rawType": "object",
         "type": "string"
        }
       ],
       "ref": "d339f697-2ca7-4c01-aaa5-64fb8e0fccbf",
       "rows": [
        [
         "0",
         "7bc2406110b926393aa56f80a40eba40",
         "73fc7af87114b39712e6da79b0a377eb",
         "4",
         null,
         null,
         "2018-01-18 00:00:00",
         "2018-01-18 21:46:59"
        ],
        [
         "1",
         "80e641a11e56f04c1ad469d5645fdfde",
         "a548910a1c6147796b98fdf73dbeba33",
         "5",
         null,
         null,
         "2018-03-10 00:00:00",
         "2018-03-11 03:05:13"
        ],
        [
         "2",
         "228ce5500dc1d8e020d8d1322874b6f0",
         "f9e4b658b201a9f2ecdecbb34bed034b",
         "5",
         null,
         null,
         "2018-02-17 00:00:00",
         "2018-02-18 14:36:24"
        ],
        [
         "3",
         "e64fb393e7b32834bb789ff8bb30750e",
         "658677c97b385a9be170737859d3511b",
         "5",
         null,
         "Recebi bem antes do prazo estipulado.",
         "2017-04-21 00:00:00",
         "2017-04-21 22:02:06"
        ],
        [
         "4",
         "f7c4243c7fe1938f181bec41a392bdeb",
         "8e6bfb81e283fa7e4f11123a3fb894f1",
         "5",
         null,
         "Parabéns lojas lannister adorei comprar pela Internet seguro e prático Parabéns a todos feliz Páscoa",
         "2018-03-01 00:00:00",
         "2018-03-02 10:26:53"
        ],
        [
         "5",
         "15197aa66ff4d0650b5434f1b46cda19",
         "b18dcdf73be66366873cd26c5724d1dc",
         "1",
         null,
         null,
         "2018-04-13 00:00:00",
         "2018-04-16 00:39:37"
        ],
        [
         "6",
         "07f9bee5d1b850860defd761afa7ff16",
         "e48aa0d2dcec3a2e87348811bcfdf22b",
         "5",
         null,
         null,
         "2017-07-16 00:00:00",
         "2017-07-18 19:30:34"
        ],
        [
         "7",
         "7c6400515c67679fbee952a7525281ef",
         "c31a859e34e3adac22f376954e19b39d",
         "5",
         null,
         null,
         "2018-08-14 00:00:00",
         "2018-08-14 21:36:06"
        ],
        [
         "8",
         "a3f6f7f6f433de0aefbb97da197c554c",
         "9c214ac970e84273583ab523dfafd09b",
         "5",
         null,
         null,
         "2017-05-17 00:00:00",
         "2017-05-18 12:05:37"
        ],
        [
         "9",
         "8670d52e15e00043ae7de4c01cc2fe06",
         "b9bf720beb4ab3728760088589c62129",
         "4",
         "recomendo",
         "aparelho eficiente. no site a marca do aparelho esta impresso como 3desinfector e ao chegar esta com outro nome...atualizar com a marca correta uma vez que é o mesmo aparelho",
         "2018-05-22 00:00:00",
         "2018-05-23 16:45:47"
        ],
        [
         "10",
         "c9cfd2d5ab5911836ababae136c3a10c",
         "cdf9aa68e72324eeb25c7de974696ee2",
         "5",
         null,
         null,
         "2017-12-23 00:00:00",
         "2017-12-26 14:36:03"
        ],
        [
         "11",
         "96052551d87e5f62e6c9f6974ec392e9",
         "3d374c9e46530bb5ed4a7648915306a6",
         "5",
         null,
         null,
         "2017-12-19 00:00:00",
         "2017-12-20 10:25:22"
        ],
        [
         "12",
         "4b49719c8a200003f700d3d986ea1a19",
         "9d6f15f95d01e79bd1349cc208361f09",
         "4",
         null,
         "Mas um pouco ,travando...pelo valor ta Boa.\r\n",
         "2018-02-16 00:00:00",
         "2018-02-20 10:52:22"
        ],
        [
         "13",
         "23f75a37effc35d9a915b4e1ad483793",
         "2eaf8e099d871cd5c22b83b5ea8f6e0e",
         "4",
         null,
         null,
         "2018-03-28 00:00:00",
         "2018-03-30 15:10:55"
        ],
        [
         "14",
         "9a0abbb668bafb95a6d2b05db43284c4",
         "d7bd0e4afdf94846eb73642b4e3e75c3",
         "3",
         null,
         null,
         "2017-04-30 00:00:00",
         "2017-05-03 00:02:22"
        ],
        [
         "15",
         "3948b09f7c818e2d86c9a546758b2335",
         "e51478e7e277a83743b6f9991dbfa3fb",
         "5",
         "Super recomendo",
         "Vendedor confiável, produto ok e entrega antes do prazo.",
         "2018-05-23 00:00:00",
         "2018-05-24 03:00:01"
        ],
        [
         "16",
         "9314d6f9799f5bfba510cc7bcd468c01",
         "0dacf04c5ad59fd5a0cc1faa07c34e39",
         "2",
         null,
         "GOSTARIA DE SABER O QUE HOUVE, SEMPRE RECEBI E ESSA COMPRA AGORA ME DECPCIONOU",
         "2018-01-18 00:00:00",
         "2018-01-20 21:25:45"
        ],
        [
         "17",
         "8e15a274d95600fa14f8be64e37a0e67",
         "ff1581e08b3011021e7c7de592ddc81e",
         "5",
         null,
         null,
         "2018-03-24 00:00:00",
         "2018-03-26 15:58:32"
        ],
        [
         "18",
         "fdbdb2629a7cde0f66657acc92084e7f",
         "70a752414a13d09cc1f2b437b914b28e",
         "3",
         null,
         null,
         "2017-09-29 00:00:00",
         "2017-10-02 01:12:49"
        ],
        [
         "19",
         "373cbeecea8286a2b66c97b1b157ec46",
         "583174fbe37d3d5f0d6661be3aad1786",
         "1",
         "Não chegou meu produto ",
         "Péssimo",
         "2018-08-15 00:00:00",
         "2018-08-15 04:10:37"
        ],
        [
         "20",
         "a2ff510ca4e059c3fefc7a7866571f6f",
         "a9953b2f0b1665ac7586cc5a6ac8f58c",
         "4",
         null,
         null,
         "2017-10-06 00:00:00",
         "2017-10-08 22:36:05"
        ],
        [
         "21",
         "80c70bc263881ba6525f6cee1d94ac87",
         "ae168dfba236919411fe08f336fefa44",
         "5",
         null,
         null,
         "2018-03-17 00:00:00",
         "2018-04-04 19:41:11"
        ],
        [
         "22",
         "d21bbc789670eab777d27372ab9094cc",
         "4fc44d78867142c627497b60a7e0228a",
         "5",
         "Ótimo",
         "Loja nota 10",
         "2018-07-10 00:00:00",
         "2018-07-11 14:10:25"
        ],
        [
         "23",
         "7bcb3c758c67f23638262c731493e848",
         "7c9956750739a47dba7a6928ba2f0245",
         "5",
         null,
         null,
         "2017-09-09 00:00:00",
         "2017-10-17 02:25:47"
        ],
        [
         "24",
         "0e0190b9db53b689b285d3f3916f8441",
         "79832b7cb59ac6f887088ffd686e1d5e",
         "5",
         null,
         "obrigado pela atençao amim dispensada",
         "2017-12-01 00:00:00",
         "2017-12-09 22:58:58"
        ],
        [
         "25",
         "66e4430c5bc6b7e3773886bf1c14d912",
         "84cec4f65c7a4f2f54c294a30224a594",
         "5",
         null,
         null,
         "2017-06-23 00:00:00",
         "2017-06-27 00:52:02"
        ],
        [
         "26",
         "bf566b3910c328733baf7fca7d2be041",
         "a59a15e4b6085c752d338431dc68d464",
         "4",
         null,
         null,
         "2017-11-01 00:00:00",
         "2017-11-01 20:25:30"
        ],
        [
         "27",
         "fe3db7c069d694bab50cc43463f91608",
         "2ca73e2ff9e3a186ad1e1ffb9b1d9c10",
         "5",
         null,
         "A compra foi realizada facilmente.\r\nA entrega foi efetuada muito antes do prazo dado.\r\nO produto já começou a ser usado e até o presente,\r\nsem problemas.",
         "2018-03-23 00:00:00",
         "2018-04-01 00:27:51"
        ],
        [
         "28",
         "e07eee7ad7666276bd8b27fbd83fd1ff",
         "68b3cbc68e4cd1fe19bec35f1d3bb7ee",
         "5",
         null,
         "relógio muito bonito e barato.",
         "2018-03-29 00:00:00",
         "2018-04-02 14:19:31"
        ],
        [
         "29",
         "2c5e27fc178bde7ac173c9c62c31b070",
         "0ce9a24111d850192a933fcaab6fbad3",
         "1",
         null,
         "Não gostei ! Comprei gato por lebre",
         "2017-12-13 00:00:00",
         "2017-12-16 07:14:07"
        ],
        [
         "30",
         "540e7bbb2d06cfb7f85f3a88ba7ac97f",
         "cf73e2cb1f4a9480ed70c154da3d954a",
         "5",
         null,
         null,
         "2018-01-18 00:00:00",
         "2018-01-18 19:12:30"
        ],
        [
         "31",
         "6a18a4001ae7fd911b3b9fb13686d105",
         "8ba3f3a9292fbc22a8b7dff752bbcd37",
         "5",
         null,
         null,
         "2017-07-19 00:00:00",
         "2017-07-20 10:38:48"
        ],
        [
         "32",
         "58044bca115705a48fe0e00a21390c54",
         "68e55ca79d04a79f20d4bfc0146f4b66",
         "1",
         null,
         "Sempre compro pela Internet e a entrega ocorre antes do prazo combinado, que acredito ser o prazo máximo. No stark o prazo máximo já se esgotou e ainda não recebi o produto.",
         "2018-04-08 00:00:00",
         "2018-04-09 12:22:39"
        ],
        [
         "33",
         "19a52a2297e5289ab4187d238d335982",
         "677c865b89aa97e7dbeb4bfbb50bbcfd",
         "5",
         null,
         null,
         "2018-08-25 00:00:00",
         "2018-08-26 22:02:59"
        ],
        [
         "34",
         "c92cdd7dd544a01aa35137f901669cdf",
         "37e7875cdce5a9e5b3a692971f370151",
         "4",
         "Muito bom.",
         "Recebi exatamente o que esperava. As demais encomendas de outros vendedores atrasaram, mas esta chegou no prazo.",
         "2018-06-07 00:00:00",
         "2018-06-09 18:44:02"
        ],
        [
         "35",
         "c0f4c8301f8c29d6f53d239e194bb4c2",
         "04db86e3493b3724ac4bd3c9a397e23c",
         "5",
         null,
         null,
         "2017-09-12 00:00:00",
         "2017-09-13 14:33:49"
        ],
        [
         "36",
         "08c9d79ec0eba1d252e3f52f14b8e6a9",
         "e029f708df3cc108b3264558771605c6",
         "5",
         "Bom",
         "Recomendo ,",
         "2018-06-13 00:00:00",
         "2018-06-13 22:54:44"
        ],
        [
         "37",
         "2170c9452c2216457b36003fe2969fbb",
         "af32671d0b8ce510a94d9111d97371d3",
         "5",
         null,
         "muito boa ",
         "2018-03-22 00:00:00",
         "2018-03-30 23:37:25"
        ],
        [
         "38",
         "b193ff3c9f32a01f3a0d9ae26b94d244",
         "e2e6ee1ed2d7f2f36b05d234983bd7a0",
         "5",
         "Maravilhoso!",
         "Tô completamente apaixonada, loja super responsável e confiável!",
         "2018-08-10 00:00:00",
         "2018-08-11 00:22:13"
        ],
        [
         "39",
         "9fd59cd04b42f600df9f25e54082a8d1",
         "3c314f50bc654f3c4e317b055681dff9",
         "1",
         null,
         "Nada de chegar o meu pedido.",
         "2017-04-21 00:00:00",
         "2017-04-23 05:37:03"
        ],
        [
         "40",
         "ab3056e4fb5a36df4b58c1746e4a6b8f",
         "aad1dcbe4c9fe2e3486e5e04c6649097",
         "2",
         null,
         null,
         "2018-05-13 00:00:00",
         "2018-05-14 16:29:15"
        ],
        [
         "41",
         "eb26c2bfb5030f57dcef30d3f111eb1e",
         "88096595631e8d26b658306256e3ce34",
         "1",
         null,
         null,
         "2018-02-08 00:00:00",
         "2018-02-10 04:28:43"
        ],
        [
         "42",
         "caf7d6d68090fedf0f47b27aff4b4eaf",
         "c186ebe3937470a2f562a2dc0bc74dd7",
         "5",
         null,
         null,
         "2017-12-05 00:00:00",
         "2017-12-07 23:34:56"
        ],
        [
         "43",
         "86c5cfa7fcbde303f704b60a78ced7d6",
         "a6456e781cb962cc3f412b04de4fed7b",
         "5",
         "Entrega perfeita",
         "Muito bom. muito cheiroso.",
         "2018-06-13 00:00:00",
         "2018-06-14 17:29:03"
        ],
        [
         "44",
         "6f3eb43ec2f5092cf04c8d705864a8ac",
         "f3a9c397a2fa5a2366b4b96bc15737f6",
         "5",
         null,
         null,
         "2018-03-11 00:00:00",
         "2018-03-14 00:38:50"
        ],
        [
         "45",
         "3dc0777d97733a1d066f5b781e91577f",
         "44a9994228432b835c3a4e720b6a41ab",
         "4",
         null,
         null,
         "2018-03-29 00:00:00",
         "2018-03-31 00:13:07"
        ],
        [
         "46",
         "e363a3c172db72d6a8b82d0726cd2ddb",
         "1a36784e5c696071dad8a242f26b230f",
         "5",
         null,
         null,
         "2018-01-25 00:00:00",
         "2018-02-18 23:03:20"
        ],
        [
         "47",
         "890ec1767be8eb104877db6d68eaade5",
         "b3271f5ebce80cbecb67c5b88487a44a",
         "5",
         null,
         "otimo vendedor chegou ate antes do prazo , adorei o produto",
         "2017-05-13 00:00:00",
         "2017-05-14 02:57:19"
        ],
        [
         "48",
         "23f570a1b0db9566bee04521a0410c54",
         "82c5edeff15e09a0460d292874766132",
         "5",
         null,
         null,
         "2017-09-22 00:00:00",
         "2017-09-23 13:57:39"
        ],
        [
         "49",
         "7d9ac3e98adc0c8ad579e6a2257d79f9",
         "dfa48852c93427261c98fb2e01f33bea",
         "5",
         null,
         "Processo de compra tranquilo e eficiente.",
         "2018-04-24 00:00:00",
         "2018-04-25 16:01:03"
        ]
       ],
       "shape": {
        "columns": 7,
        "rows": 99224
       }
      },
      "text/html": [
       "<div>\n",
       "<style scoped>\n",
       "    .dataframe tbody tr th:only-of-type {\n",
       "        vertical-align: middle;\n",
       "    }\n",
       "\n",
       "    .dataframe tbody tr th {\n",
       "        vertical-align: top;\n",
       "    }\n",
       "\n",
       "    .dataframe thead th {\n",
       "        text-align: right;\n",
       "    }\n",
       "</style>\n",
       "<table border=\"1\" class=\"dataframe\">\n",
       "  <thead>\n",
       "    <tr style=\"text-align: right;\">\n",
       "      <th></th>\n",
       "      <th>review_id</th>\n",
       "      <th>order_id</th>\n",
       "      <th>review_score</th>\n",
       "      <th>review_comment_title</th>\n",
       "      <th>review_comment_message</th>\n",
       "      <th>review_creation_date</th>\n",
       "      <th>review_answer_timestamp</th>\n",
       "    </tr>\n",
       "  </thead>\n",
       "  <tbody>\n",
       "    <tr>\n",
       "      <th>0</th>\n",
       "      <td>7bc2406110b926393aa56f80a40eba40</td>\n",
       "      <td>73fc7af87114b39712e6da79b0a377eb</td>\n",
       "      <td>4</td>\n",
       "      <td>NaN</td>\n",
       "      <td>NaN</td>\n",
       "      <td>2018-01-18 00:00:00</td>\n",
       "      <td>2018-01-18 21:46:59</td>\n",
       "    </tr>\n",
       "    <tr>\n",
       "      <th>1</th>\n",
       "      <td>80e641a11e56f04c1ad469d5645fdfde</td>\n",
       "      <td>a548910a1c6147796b98fdf73dbeba33</td>\n",
       "      <td>5</td>\n",
       "      <td>NaN</td>\n",
       "      <td>NaN</td>\n",
       "      <td>2018-03-10 00:00:00</td>\n",
       "      <td>2018-03-11 03:05:13</td>\n",
       "    </tr>\n",
       "    <tr>\n",
       "      <th>2</th>\n",
       "      <td>228ce5500dc1d8e020d8d1322874b6f0</td>\n",
       "      <td>f9e4b658b201a9f2ecdecbb34bed034b</td>\n",
       "      <td>5</td>\n",
       "      <td>NaN</td>\n",
       "      <td>NaN</td>\n",
       "      <td>2018-02-17 00:00:00</td>\n",
       "      <td>2018-02-18 14:36:24</td>\n",
       "    </tr>\n",
       "    <tr>\n",
       "      <th>3</th>\n",
       "      <td>e64fb393e7b32834bb789ff8bb30750e</td>\n",
       "      <td>658677c97b385a9be170737859d3511b</td>\n",
       "      <td>5</td>\n",
       "      <td>NaN</td>\n",
       "      <td>Recebi bem antes do prazo estipulado.</td>\n",
       "      <td>2017-04-21 00:00:00</td>\n",
       "      <td>2017-04-21 22:02:06</td>\n",
       "    </tr>\n",
       "    <tr>\n",
       "      <th>4</th>\n",
       "      <td>f7c4243c7fe1938f181bec41a392bdeb</td>\n",
       "      <td>8e6bfb81e283fa7e4f11123a3fb894f1</td>\n",
       "      <td>5</td>\n",
       "      <td>NaN</td>\n",
       "      <td>Parabéns lojas lannister adorei comprar pela I...</td>\n",
       "      <td>2018-03-01 00:00:00</td>\n",
       "      <td>2018-03-02 10:26:53</td>\n",
       "    </tr>\n",
       "    <tr>\n",
       "      <th>...</th>\n",
       "      <td>...</td>\n",
       "      <td>...</td>\n",
       "      <td>...</td>\n",
       "      <td>...</td>\n",
       "      <td>...</td>\n",
       "      <td>...</td>\n",
       "      <td>...</td>\n",
       "    </tr>\n",
       "    <tr>\n",
       "      <th>99219</th>\n",
       "      <td>574ed12dd733e5fa530cfd4bbf39d7c9</td>\n",
       "      <td>2a8c23fee101d4d5662fa670396eb8da</td>\n",
       "      <td>5</td>\n",
       "      <td>NaN</td>\n",
       "      <td>NaN</td>\n",
       "      <td>2018-07-07 00:00:00</td>\n",
       "      <td>2018-07-14 17:18:30</td>\n",
       "    </tr>\n",
       "    <tr>\n",
       "      <th>99220</th>\n",
       "      <td>f3897127253a9592a73be9bdfdf4ed7a</td>\n",
       "      <td>22ec9f0669f784db00fa86d035cf8602</td>\n",
       "      <td>5</td>\n",
       "      <td>NaN</td>\n",
       "      <td>NaN</td>\n",
       "      <td>2017-12-09 00:00:00</td>\n",
       "      <td>2017-12-11 20:06:42</td>\n",
       "    </tr>\n",
       "    <tr>\n",
       "      <th>99221</th>\n",
       "      <td>b3de70c89b1510c4cd3d0649fd302472</td>\n",
       "      <td>55d4004744368f5571d1f590031933e4</td>\n",
       "      <td>5</td>\n",
       "      <td>NaN</td>\n",
       "      <td>Excelente mochila, entrega super rápida. Super...</td>\n",
       "      <td>2018-03-22 00:00:00</td>\n",
       "      <td>2018-03-23 09:10:43</td>\n",
       "    </tr>\n",
       "    <tr>\n",
       "      <th>99222</th>\n",
       "      <td>1adeb9d84d72fe4e337617733eb85149</td>\n",
       "      <td>7725825d039fc1f0ceb7635e3f7d9206</td>\n",
       "      <td>4</td>\n",
       "      <td>NaN</td>\n",
       "      <td>NaN</td>\n",
       "      <td>2018-07-01 00:00:00</td>\n",
       "      <td>2018-07-02 12:59:13</td>\n",
       "    </tr>\n",
       "    <tr>\n",
       "      <th>99223</th>\n",
       "      <td>efe49f1d6f951dd88b51e6ccd4cc548f</td>\n",
       "      <td>90531360ecb1eec2a1fbb265a0db0508</td>\n",
       "      <td>1</td>\n",
       "      <td>NaN</td>\n",
       "      <td>meu produto chegou e ja tenho que devolver, po...</td>\n",
       "      <td>2017-07-03 00:00:00</td>\n",
       "      <td>2017-07-03 21:01:49</td>\n",
       "    </tr>\n",
       "  </tbody>\n",
       "</table>\n",
       "<p>99224 rows × 7 columns</p>\n",
       "</div>"
      ],
      "text/plain": [
       "                              review_id                          order_id  \\\n",
       "0      7bc2406110b926393aa56f80a40eba40  73fc7af87114b39712e6da79b0a377eb   \n",
       "1      80e641a11e56f04c1ad469d5645fdfde  a548910a1c6147796b98fdf73dbeba33   \n",
       "2      228ce5500dc1d8e020d8d1322874b6f0  f9e4b658b201a9f2ecdecbb34bed034b   \n",
       "3      e64fb393e7b32834bb789ff8bb30750e  658677c97b385a9be170737859d3511b   \n",
       "4      f7c4243c7fe1938f181bec41a392bdeb  8e6bfb81e283fa7e4f11123a3fb894f1   \n",
       "...                                 ...                               ...   \n",
       "99219  574ed12dd733e5fa530cfd4bbf39d7c9  2a8c23fee101d4d5662fa670396eb8da   \n",
       "99220  f3897127253a9592a73be9bdfdf4ed7a  22ec9f0669f784db00fa86d035cf8602   \n",
       "99221  b3de70c89b1510c4cd3d0649fd302472  55d4004744368f5571d1f590031933e4   \n",
       "99222  1adeb9d84d72fe4e337617733eb85149  7725825d039fc1f0ceb7635e3f7d9206   \n",
       "99223  efe49f1d6f951dd88b51e6ccd4cc548f  90531360ecb1eec2a1fbb265a0db0508   \n",
       "\n",
       "       review_score review_comment_title  \\\n",
       "0                 4                  NaN   \n",
       "1                 5                  NaN   \n",
       "2                 5                  NaN   \n",
       "3                 5                  NaN   \n",
       "4                 5                  NaN   \n",
       "...             ...                  ...   \n",
       "99219             5                  NaN   \n",
       "99220             5                  NaN   \n",
       "99221             5                  NaN   \n",
       "99222             4                  NaN   \n",
       "99223             1                  NaN   \n",
       "\n",
       "                                  review_comment_message review_creation_date  \\\n",
       "0                                                    NaN  2018-01-18 00:00:00   \n",
       "1                                                    NaN  2018-03-10 00:00:00   \n",
       "2                                                    NaN  2018-02-17 00:00:00   \n",
       "3                  Recebi bem antes do prazo estipulado.  2017-04-21 00:00:00   \n",
       "4      Parabéns lojas lannister adorei comprar pela I...  2018-03-01 00:00:00   \n",
       "...                                                  ...                  ...   \n",
       "99219                                                NaN  2018-07-07 00:00:00   \n",
       "99220                                                NaN  2017-12-09 00:00:00   \n",
       "99221  Excelente mochila, entrega super rápida. Super...  2018-03-22 00:00:00   \n",
       "99222                                                NaN  2018-07-01 00:00:00   \n",
       "99223  meu produto chegou e ja tenho que devolver, po...  2017-07-03 00:00:00   \n",
       "\n",
       "      review_answer_timestamp  \n",
       "0         2018-01-18 21:46:59  \n",
       "1         2018-03-11 03:05:13  \n",
       "2         2018-02-18 14:36:24  \n",
       "3         2017-04-21 22:02:06  \n",
       "4         2018-03-02 10:26:53  \n",
       "...                       ...  \n",
       "99219     2018-07-14 17:18:30  \n",
       "99220     2017-12-11 20:06:42  \n",
       "99221     2018-03-23 09:10:43  \n",
       "99222     2018-07-02 12:59:13  \n",
       "99223     2017-07-03 21:01:49  \n",
       "\n",
       "[99224 rows x 7 columns]"
      ]
     },
     "execution_count": 121,
     "metadata": {},
     "output_type": "execute_result"
    }
   ],
   "source": [
    "df"
   ]
  },
  {
   "cell_type": "markdown",
   "id": "f965c376",
   "metadata": {},
   "source": [
    "LOOKING THE DATASET CAREFULLY...."
   ]
  },
  {
   "cell_type": "code",
   "execution_count": 122,
   "id": "85b42b62",
   "metadata": {},
   "outputs": [
    {
     "data": {
      "application/vnd.microsoft.datawrangler.viewer.v0+json": {
       "columns": [
        {
         "name": "index",
         "rawType": "int64",
         "type": "integer"
        },
        {
         "name": "review_id",
         "rawType": "object",
         "type": "string"
        },
        {
         "name": "order_id",
         "rawType": "object",
         "type": "string"
        },
        {
         "name": "review_score",
         "rawType": "int64",
         "type": "integer"
        },
        {
         "name": "review_comment_title",
         "rawType": "object",
         "type": "unknown"
        },
        {
         "name": "review_comment_message",
         "rawType": "object",
         "type": "unknown"
        },
        {
         "name": "review_creation_date",
         "rawType": "object",
         "type": "string"
        },
        {
         "name": "review_answer_timestamp",
         "rawType": "object",
         "type": "string"
        }
       ],
       "ref": "f957eb79-babc-4766-bdaa-a393885f5d2f",
       "rows": [
        [
         "0",
         "7bc2406110b926393aa56f80a40eba40",
         "73fc7af87114b39712e6da79b0a377eb",
         "4",
         null,
         null,
         "2018-01-18 00:00:00",
         "2018-01-18 21:46:59"
        ],
        [
         "1",
         "80e641a11e56f04c1ad469d5645fdfde",
         "a548910a1c6147796b98fdf73dbeba33",
         "5",
         null,
         null,
         "2018-03-10 00:00:00",
         "2018-03-11 03:05:13"
        ],
        [
         "2",
         "228ce5500dc1d8e020d8d1322874b6f0",
         "f9e4b658b201a9f2ecdecbb34bed034b",
         "5",
         null,
         null,
         "2018-02-17 00:00:00",
         "2018-02-18 14:36:24"
        ],
        [
         "3",
         "e64fb393e7b32834bb789ff8bb30750e",
         "658677c97b385a9be170737859d3511b",
         "5",
         null,
         "Recebi bem antes do prazo estipulado.",
         "2017-04-21 00:00:00",
         "2017-04-21 22:02:06"
        ],
        [
         "4",
         "f7c4243c7fe1938f181bec41a392bdeb",
         "8e6bfb81e283fa7e4f11123a3fb894f1",
         "5",
         null,
         "Parabéns lojas lannister adorei comprar pela Internet seguro e prático Parabéns a todos feliz Páscoa",
         "2018-03-01 00:00:00",
         "2018-03-02 10:26:53"
        ]
       ],
       "shape": {
        "columns": 7,
        "rows": 5
       }
      },
      "text/html": [
       "<div>\n",
       "<style scoped>\n",
       "    .dataframe tbody tr th:only-of-type {\n",
       "        vertical-align: middle;\n",
       "    }\n",
       "\n",
       "    .dataframe tbody tr th {\n",
       "        vertical-align: top;\n",
       "    }\n",
       "\n",
       "    .dataframe thead th {\n",
       "        text-align: right;\n",
       "    }\n",
       "</style>\n",
       "<table border=\"1\" class=\"dataframe\">\n",
       "  <thead>\n",
       "    <tr style=\"text-align: right;\">\n",
       "      <th></th>\n",
       "      <th>review_id</th>\n",
       "      <th>order_id</th>\n",
       "      <th>review_score</th>\n",
       "      <th>review_comment_title</th>\n",
       "      <th>review_comment_message</th>\n",
       "      <th>review_creation_date</th>\n",
       "      <th>review_answer_timestamp</th>\n",
       "    </tr>\n",
       "  </thead>\n",
       "  <tbody>\n",
       "    <tr>\n",
       "      <th>0</th>\n",
       "      <td>7bc2406110b926393aa56f80a40eba40</td>\n",
       "      <td>73fc7af87114b39712e6da79b0a377eb</td>\n",
       "      <td>4</td>\n",
       "      <td>NaN</td>\n",
       "      <td>NaN</td>\n",
       "      <td>2018-01-18 00:00:00</td>\n",
       "      <td>2018-01-18 21:46:59</td>\n",
       "    </tr>\n",
       "    <tr>\n",
       "      <th>1</th>\n",
       "      <td>80e641a11e56f04c1ad469d5645fdfde</td>\n",
       "      <td>a548910a1c6147796b98fdf73dbeba33</td>\n",
       "      <td>5</td>\n",
       "      <td>NaN</td>\n",
       "      <td>NaN</td>\n",
       "      <td>2018-03-10 00:00:00</td>\n",
       "      <td>2018-03-11 03:05:13</td>\n",
       "    </tr>\n",
       "    <tr>\n",
       "      <th>2</th>\n",
       "      <td>228ce5500dc1d8e020d8d1322874b6f0</td>\n",
       "      <td>f9e4b658b201a9f2ecdecbb34bed034b</td>\n",
       "      <td>5</td>\n",
       "      <td>NaN</td>\n",
       "      <td>NaN</td>\n",
       "      <td>2018-02-17 00:00:00</td>\n",
       "      <td>2018-02-18 14:36:24</td>\n",
       "    </tr>\n",
       "    <tr>\n",
       "      <th>3</th>\n",
       "      <td>e64fb393e7b32834bb789ff8bb30750e</td>\n",
       "      <td>658677c97b385a9be170737859d3511b</td>\n",
       "      <td>5</td>\n",
       "      <td>NaN</td>\n",
       "      <td>Recebi bem antes do prazo estipulado.</td>\n",
       "      <td>2017-04-21 00:00:00</td>\n",
       "      <td>2017-04-21 22:02:06</td>\n",
       "    </tr>\n",
       "    <tr>\n",
       "      <th>4</th>\n",
       "      <td>f7c4243c7fe1938f181bec41a392bdeb</td>\n",
       "      <td>8e6bfb81e283fa7e4f11123a3fb894f1</td>\n",
       "      <td>5</td>\n",
       "      <td>NaN</td>\n",
       "      <td>Parabéns lojas lannister adorei comprar pela I...</td>\n",
       "      <td>2018-03-01 00:00:00</td>\n",
       "      <td>2018-03-02 10:26:53</td>\n",
       "    </tr>\n",
       "  </tbody>\n",
       "</table>\n",
       "</div>"
      ],
      "text/plain": [
       "                          review_id                          order_id  \\\n",
       "0  7bc2406110b926393aa56f80a40eba40  73fc7af87114b39712e6da79b0a377eb   \n",
       "1  80e641a11e56f04c1ad469d5645fdfde  a548910a1c6147796b98fdf73dbeba33   \n",
       "2  228ce5500dc1d8e020d8d1322874b6f0  f9e4b658b201a9f2ecdecbb34bed034b   \n",
       "3  e64fb393e7b32834bb789ff8bb30750e  658677c97b385a9be170737859d3511b   \n",
       "4  f7c4243c7fe1938f181bec41a392bdeb  8e6bfb81e283fa7e4f11123a3fb894f1   \n",
       "\n",
       "   review_score review_comment_title  \\\n",
       "0             4                  NaN   \n",
       "1             5                  NaN   \n",
       "2             5                  NaN   \n",
       "3             5                  NaN   \n",
       "4             5                  NaN   \n",
       "\n",
       "                              review_comment_message review_creation_date  \\\n",
       "0                                                NaN  2018-01-18 00:00:00   \n",
       "1                                                NaN  2018-03-10 00:00:00   \n",
       "2                                                NaN  2018-02-17 00:00:00   \n",
       "3              Recebi bem antes do prazo estipulado.  2017-04-21 00:00:00   \n",
       "4  Parabéns lojas lannister adorei comprar pela I...  2018-03-01 00:00:00   \n",
       "\n",
       "  review_answer_timestamp  \n",
       "0     2018-01-18 21:46:59  \n",
       "1     2018-03-11 03:05:13  \n",
       "2     2018-02-18 14:36:24  \n",
       "3     2017-04-21 22:02:06  \n",
       "4     2018-03-02 10:26:53  "
      ]
     },
     "execution_count": 122,
     "metadata": {},
     "output_type": "execute_result"
    }
   ],
   "source": [
    "df.head()"
   ]
  },
  {
   "cell_type": "code",
   "execution_count": 123,
   "id": "c716d28c",
   "metadata": {},
   "outputs": [
    {
     "data": {
      "application/vnd.microsoft.datawrangler.viewer.v0+json": {
       "columns": [
        {
         "name": "index",
         "rawType": "int64",
         "type": "integer"
        },
        {
         "name": "review_id",
         "rawType": "object",
         "type": "string"
        },
        {
         "name": "order_id",
         "rawType": "object",
         "type": "string"
        },
        {
         "name": "review_score",
         "rawType": "int64",
         "type": "integer"
        },
        {
         "name": "review_comment_title",
         "rawType": "object",
         "type": "unknown"
        },
        {
         "name": "review_comment_message",
         "rawType": "object",
         "type": "unknown"
        },
        {
         "name": "review_creation_date",
         "rawType": "object",
         "type": "string"
        },
        {
         "name": "review_answer_timestamp",
         "rawType": "object",
         "type": "string"
        }
       ],
       "ref": "4930b014-750b-49f1-b302-89f76f11c5ec",
       "rows": [
        [
         "99219",
         "574ed12dd733e5fa530cfd4bbf39d7c9",
         "2a8c23fee101d4d5662fa670396eb8da",
         "5",
         null,
         null,
         "2018-07-07 00:00:00",
         "2018-07-14 17:18:30"
        ],
        [
         "99220",
         "f3897127253a9592a73be9bdfdf4ed7a",
         "22ec9f0669f784db00fa86d035cf8602",
         "5",
         null,
         null,
         "2017-12-09 00:00:00",
         "2017-12-11 20:06:42"
        ],
        [
         "99221",
         "b3de70c89b1510c4cd3d0649fd302472",
         "55d4004744368f5571d1f590031933e4",
         "5",
         null,
         "Excelente mochila, entrega super rápida. Super recomendo essa loja!",
         "2018-03-22 00:00:00",
         "2018-03-23 09:10:43"
        ],
        [
         "99222",
         "1adeb9d84d72fe4e337617733eb85149",
         "7725825d039fc1f0ceb7635e3f7d9206",
         "4",
         null,
         null,
         "2018-07-01 00:00:00",
         "2018-07-02 12:59:13"
        ],
        [
         "99223",
         "efe49f1d6f951dd88b51e6ccd4cc548f",
         "90531360ecb1eec2a1fbb265a0db0508",
         "1",
         null,
         "meu produto chegou e ja tenho que devolver, pois está com defeito , não segurar carga",
         "2017-07-03 00:00:00",
         "2017-07-03 21:01:49"
        ]
       ],
       "shape": {
        "columns": 7,
        "rows": 5
       }
      },
      "text/html": [
       "<div>\n",
       "<style scoped>\n",
       "    .dataframe tbody tr th:only-of-type {\n",
       "        vertical-align: middle;\n",
       "    }\n",
       "\n",
       "    .dataframe tbody tr th {\n",
       "        vertical-align: top;\n",
       "    }\n",
       "\n",
       "    .dataframe thead th {\n",
       "        text-align: right;\n",
       "    }\n",
       "</style>\n",
       "<table border=\"1\" class=\"dataframe\">\n",
       "  <thead>\n",
       "    <tr style=\"text-align: right;\">\n",
       "      <th></th>\n",
       "      <th>review_id</th>\n",
       "      <th>order_id</th>\n",
       "      <th>review_score</th>\n",
       "      <th>review_comment_title</th>\n",
       "      <th>review_comment_message</th>\n",
       "      <th>review_creation_date</th>\n",
       "      <th>review_answer_timestamp</th>\n",
       "    </tr>\n",
       "  </thead>\n",
       "  <tbody>\n",
       "    <tr>\n",
       "      <th>99219</th>\n",
       "      <td>574ed12dd733e5fa530cfd4bbf39d7c9</td>\n",
       "      <td>2a8c23fee101d4d5662fa670396eb8da</td>\n",
       "      <td>5</td>\n",
       "      <td>NaN</td>\n",
       "      <td>NaN</td>\n",
       "      <td>2018-07-07 00:00:00</td>\n",
       "      <td>2018-07-14 17:18:30</td>\n",
       "    </tr>\n",
       "    <tr>\n",
       "      <th>99220</th>\n",
       "      <td>f3897127253a9592a73be9bdfdf4ed7a</td>\n",
       "      <td>22ec9f0669f784db00fa86d035cf8602</td>\n",
       "      <td>5</td>\n",
       "      <td>NaN</td>\n",
       "      <td>NaN</td>\n",
       "      <td>2017-12-09 00:00:00</td>\n",
       "      <td>2017-12-11 20:06:42</td>\n",
       "    </tr>\n",
       "    <tr>\n",
       "      <th>99221</th>\n",
       "      <td>b3de70c89b1510c4cd3d0649fd302472</td>\n",
       "      <td>55d4004744368f5571d1f590031933e4</td>\n",
       "      <td>5</td>\n",
       "      <td>NaN</td>\n",
       "      <td>Excelente mochila, entrega super rápida. Super...</td>\n",
       "      <td>2018-03-22 00:00:00</td>\n",
       "      <td>2018-03-23 09:10:43</td>\n",
       "    </tr>\n",
       "    <tr>\n",
       "      <th>99222</th>\n",
       "      <td>1adeb9d84d72fe4e337617733eb85149</td>\n",
       "      <td>7725825d039fc1f0ceb7635e3f7d9206</td>\n",
       "      <td>4</td>\n",
       "      <td>NaN</td>\n",
       "      <td>NaN</td>\n",
       "      <td>2018-07-01 00:00:00</td>\n",
       "      <td>2018-07-02 12:59:13</td>\n",
       "    </tr>\n",
       "    <tr>\n",
       "      <th>99223</th>\n",
       "      <td>efe49f1d6f951dd88b51e6ccd4cc548f</td>\n",
       "      <td>90531360ecb1eec2a1fbb265a0db0508</td>\n",
       "      <td>1</td>\n",
       "      <td>NaN</td>\n",
       "      <td>meu produto chegou e ja tenho que devolver, po...</td>\n",
       "      <td>2017-07-03 00:00:00</td>\n",
       "      <td>2017-07-03 21:01:49</td>\n",
       "    </tr>\n",
       "  </tbody>\n",
       "</table>\n",
       "</div>"
      ],
      "text/plain": [
       "                              review_id                          order_id  \\\n",
       "99219  574ed12dd733e5fa530cfd4bbf39d7c9  2a8c23fee101d4d5662fa670396eb8da   \n",
       "99220  f3897127253a9592a73be9bdfdf4ed7a  22ec9f0669f784db00fa86d035cf8602   \n",
       "99221  b3de70c89b1510c4cd3d0649fd302472  55d4004744368f5571d1f590031933e4   \n",
       "99222  1adeb9d84d72fe4e337617733eb85149  7725825d039fc1f0ceb7635e3f7d9206   \n",
       "99223  efe49f1d6f951dd88b51e6ccd4cc548f  90531360ecb1eec2a1fbb265a0db0508   \n",
       "\n",
       "       review_score review_comment_title  \\\n",
       "99219             5                  NaN   \n",
       "99220             5                  NaN   \n",
       "99221             5                  NaN   \n",
       "99222             4                  NaN   \n",
       "99223             1                  NaN   \n",
       "\n",
       "                                  review_comment_message review_creation_date  \\\n",
       "99219                                                NaN  2018-07-07 00:00:00   \n",
       "99220                                                NaN  2017-12-09 00:00:00   \n",
       "99221  Excelente mochila, entrega super rápida. Super...  2018-03-22 00:00:00   \n",
       "99222                                                NaN  2018-07-01 00:00:00   \n",
       "99223  meu produto chegou e ja tenho que devolver, po...  2017-07-03 00:00:00   \n",
       "\n",
       "      review_answer_timestamp  \n",
       "99219     2018-07-14 17:18:30  \n",
       "99220     2017-12-11 20:06:42  \n",
       "99221     2018-03-23 09:10:43  \n",
       "99222     2018-07-02 12:59:13  \n",
       "99223     2017-07-03 21:01:49  "
      ]
     },
     "execution_count": 123,
     "metadata": {},
     "output_type": "execute_result"
    }
   ],
   "source": [
    "df.tail()"
   ]
  },
  {
   "cell_type": "code",
   "execution_count": 124,
   "id": "1ecc8174",
   "metadata": {},
   "outputs": [
    {
     "data": {
      "text/plain": [
       "Index(['review_id', 'order_id', 'review_score', 'review_comment_title',\n",
       "       'review_comment_message', 'review_creation_date',\n",
       "       'review_answer_timestamp'],\n",
       "      dtype='object')"
      ]
     },
     "execution_count": 124,
     "metadata": {},
     "output_type": "execute_result"
    }
   ],
   "source": [
    "df.columns"
   ]
  },
  {
   "cell_type": "code",
   "execution_count": 125,
   "id": "08286ead",
   "metadata": {},
   "outputs": [
    {
     "data": {
      "application/vnd.microsoft.datawrangler.viewer.v0+json": {
       "columns": [
        {
         "name": "index",
         "rawType": "object",
         "type": "string"
        },
        {
         "name": "review_score",
         "rawType": "float64",
         "type": "float"
        }
       ],
       "ref": "b65958fc-92b0-4e42-bfe5-bc3946c0548c",
       "rows": [
        [
         "count",
         "99224.0"
        ],
        [
         "mean",
         "4.08642062404257"
        ],
        [
         "std",
         "1.3475791311148884"
        ],
        [
         "min",
         "1.0"
        ],
        [
         "25%",
         "4.0"
        ],
        [
         "50%",
         "5.0"
        ],
        [
         "75%",
         "5.0"
        ],
        [
         "max",
         "5.0"
        ]
       ],
       "shape": {
        "columns": 1,
        "rows": 8
       }
      },
      "text/html": [
       "<div>\n",
       "<style scoped>\n",
       "    .dataframe tbody tr th:only-of-type {\n",
       "        vertical-align: middle;\n",
       "    }\n",
       "\n",
       "    .dataframe tbody tr th {\n",
       "        vertical-align: top;\n",
       "    }\n",
       "\n",
       "    .dataframe thead th {\n",
       "        text-align: right;\n",
       "    }\n",
       "</style>\n",
       "<table border=\"1\" class=\"dataframe\">\n",
       "  <thead>\n",
       "    <tr style=\"text-align: right;\">\n",
       "      <th></th>\n",
       "      <th>review_score</th>\n",
       "    </tr>\n",
       "  </thead>\n",
       "  <tbody>\n",
       "    <tr>\n",
       "      <th>count</th>\n",
       "      <td>99224.000000</td>\n",
       "    </tr>\n",
       "    <tr>\n",
       "      <th>mean</th>\n",
       "      <td>4.086421</td>\n",
       "    </tr>\n",
       "    <tr>\n",
       "      <th>std</th>\n",
       "      <td>1.347579</td>\n",
       "    </tr>\n",
       "    <tr>\n",
       "      <th>min</th>\n",
       "      <td>1.000000</td>\n",
       "    </tr>\n",
       "    <tr>\n",
       "      <th>25%</th>\n",
       "      <td>4.000000</td>\n",
       "    </tr>\n",
       "    <tr>\n",
       "      <th>50%</th>\n",
       "      <td>5.000000</td>\n",
       "    </tr>\n",
       "    <tr>\n",
       "      <th>75%</th>\n",
       "      <td>5.000000</td>\n",
       "    </tr>\n",
       "    <tr>\n",
       "      <th>max</th>\n",
       "      <td>5.000000</td>\n",
       "    </tr>\n",
       "  </tbody>\n",
       "</table>\n",
       "</div>"
      ],
      "text/plain": [
       "       review_score\n",
       "count  99224.000000\n",
       "mean       4.086421\n",
       "std        1.347579\n",
       "min        1.000000\n",
       "25%        4.000000\n",
       "50%        5.000000\n",
       "75%        5.000000\n",
       "max        5.000000"
      ]
     },
     "execution_count": 125,
     "metadata": {},
     "output_type": "execute_result"
    }
   ],
   "source": [
    "df.describe()"
   ]
  },
  {
   "cell_type": "code",
   "execution_count": 126,
   "id": "b0d0f943",
   "metadata": {},
   "outputs": [
    {
     "name": "stdout",
     "output_type": "stream",
     "text": [
      "<class 'pandas.core.frame.DataFrame'>\n",
      "RangeIndex: 99224 entries, 0 to 99223\n",
      "Data columns (total 7 columns):\n",
      " #   Column                   Non-Null Count  Dtype \n",
      "---  ------                   --------------  ----- \n",
      " 0   review_id                99224 non-null  object\n",
      " 1   order_id                 99224 non-null  object\n",
      " 2   review_score             99224 non-null  int64 \n",
      " 3   review_comment_title     11568 non-null  object\n",
      " 4   review_comment_message   40977 non-null  object\n",
      " 5   review_creation_date     99224 non-null  object\n",
      " 6   review_answer_timestamp  99224 non-null  object\n",
      "dtypes: int64(1), object(6)\n",
      "memory usage: 5.3+ MB\n"
     ]
    }
   ],
   "source": [
    "df.info()"
   ]
  },
  {
   "cell_type": "code",
   "execution_count": 127,
   "id": "c764c1c0",
   "metadata": {},
   "outputs": [
    {
     "data": {
      "text/plain": [
       "(99224, 7)"
      ]
     },
     "execution_count": 127,
     "metadata": {},
     "output_type": "execute_result"
    }
   ],
   "source": [
    "df.shape"
   ]
  },
  {
   "cell_type": "markdown",
   "id": "eaae3347",
   "metadata": {},
   "source": [
    "CHECKING FOR DUPLICATES VALUES...."
   ]
  },
  {
   "cell_type": "code",
   "execution_count": 128,
   "id": "339b6dfe",
   "metadata": {},
   "outputs": [
    {
     "data": {
      "application/vnd.microsoft.datawrangler.viewer.v0+json": {
       "columns": [
        {
         "name": "index",
         "rawType": "int64",
         "type": "integer"
        },
        {
         "name": "0",
         "rawType": "bool",
         "type": "boolean"
        }
       ],
       "ref": "2bd04402-3c8a-4345-a75e-a7b7f6b71aa6",
       "rows": [
        [
         "0",
         "False"
        ],
        [
         "1",
         "False"
        ],
        [
         "2",
         "False"
        ],
        [
         "3",
         "False"
        ],
        [
         "4",
         "False"
        ],
        [
         "5",
         "False"
        ],
        [
         "6",
         "False"
        ],
        [
         "7",
         "False"
        ],
        [
         "8",
         "False"
        ],
        [
         "9",
         "False"
        ],
        [
         "10",
         "False"
        ],
        [
         "11",
         "False"
        ],
        [
         "12",
         "False"
        ],
        [
         "13",
         "False"
        ],
        [
         "14",
         "False"
        ],
        [
         "15",
         "False"
        ],
        [
         "16",
         "False"
        ],
        [
         "17",
         "False"
        ],
        [
         "18",
         "False"
        ],
        [
         "19",
         "False"
        ],
        [
         "20",
         "False"
        ],
        [
         "21",
         "False"
        ],
        [
         "22",
         "False"
        ],
        [
         "23",
         "False"
        ],
        [
         "24",
         "False"
        ],
        [
         "25",
         "False"
        ],
        [
         "26",
         "False"
        ],
        [
         "27",
         "False"
        ],
        [
         "28",
         "False"
        ],
        [
         "29",
         "False"
        ],
        [
         "30",
         "False"
        ],
        [
         "31",
         "False"
        ],
        [
         "32",
         "False"
        ],
        [
         "33",
         "False"
        ],
        [
         "34",
         "False"
        ],
        [
         "35",
         "False"
        ],
        [
         "36",
         "False"
        ],
        [
         "37",
         "False"
        ],
        [
         "38",
         "False"
        ],
        [
         "39",
         "False"
        ],
        [
         "40",
         "False"
        ],
        [
         "41",
         "False"
        ],
        [
         "42",
         "False"
        ],
        [
         "43",
         "False"
        ],
        [
         "44",
         "False"
        ],
        [
         "45",
         "False"
        ],
        [
         "46",
         "False"
        ],
        [
         "47",
         "False"
        ],
        [
         "48",
         "False"
        ],
        [
         "49",
         "False"
        ]
       ],
       "shape": {
        "columns": 1,
        "rows": 99224
       }
      },
      "text/plain": [
       "0        False\n",
       "1        False\n",
       "2        False\n",
       "3        False\n",
       "4        False\n",
       "         ...  \n",
       "99219    False\n",
       "99220    False\n",
       "99221    False\n",
       "99222    False\n",
       "99223    False\n",
       "Length: 99224, dtype: bool"
      ]
     },
     "execution_count": 128,
     "metadata": {},
     "output_type": "execute_result"
    }
   ],
   "source": [
    "df.duplicated()"
   ]
  },
  {
   "cell_type": "code",
   "execution_count": 129,
   "id": "02f21817",
   "metadata": {},
   "outputs": [
    {
     "data": {
      "text/plain": [
       "np.int64(0)"
      ]
     },
     "execution_count": 129,
     "metadata": {},
     "output_type": "execute_result"
    }
   ],
   "source": [
    "df.duplicated().sum()  # no duplicate values"
   ]
  },
  {
   "cell_type": "code",
   "execution_count": 130,
   "id": "ff37ab98",
   "metadata": {},
   "outputs": [],
   "source": [
    "#normalizing the column names\n",
    "df.columns = [c.strip().lower().replace(\" \", \"_\") for c in df.columns]\n"
   ]
  },
  {
   "cell_type": "code",
   "execution_count": 131,
   "id": "d9cf3a2f",
   "metadata": {},
   "outputs": [
    {
     "data": {
      "text/plain": [
       "Index(['review_id', 'order_id', 'review_score', 'review_comment_title',\n",
       "       'review_comment_message', 'review_creation_date',\n",
       "       'review_answer_timestamp'],\n",
       "      dtype='object')"
      ]
     },
     "execution_count": 131,
     "metadata": {},
     "output_type": "execute_result"
    }
   ],
   "source": [
    "df.columns"
   ]
  },
  {
   "cell_type": "markdown",
   "id": "0301e1a8",
   "metadata": {},
   "source": [
    "CONVERTING DATETIME SAFELY....."
   ]
  },
  {
   "cell_type": "code",
   "execution_count": 132,
   "id": "8f9b28e8",
   "metadata": {},
   "outputs": [],
   "source": [
    "dt_cols = ['review_creation_date', 'review_answer_timestamp']\n",
    "for c in dt_cols:\n",
    "    df[c] = pd.to_datetime(df[c], errors='coerce')   # coerces bad values to NaT"
   ]
  },
  {
   "cell_type": "code",
   "execution_count": 133,
   "id": "d28ea505",
   "metadata": {},
   "outputs": [
    {
     "data": {
      "application/vnd.microsoft.datawrangler.viewer.v0+json": {
       "columns": [
        {
         "name": "index",
         "rawType": "object",
         "type": "string"
        },
        {
         "name": "review_creation_date",
         "rawType": "object",
         "type": "unknown"
        },
        {
         "name": "review_answer_timestamp",
         "rawType": "object",
         "type": "unknown"
        }
       ],
       "ref": "3f40da55-3815-4a15-8a2d-32eae6ded7c4",
       "rows": [
        [
         "count",
         "99224",
         "99224"
        ],
        [
         "mean",
         "2018-01-12 20:49:23.948238336",
         "2018-01-16 00:23:56.977938688"
        ],
        [
         "min",
         "2016-10-02 00:00:00",
         "2016-10-07 18:32:28"
        ],
        [
         "25%",
         "2017-09-23 00:00:00",
         "2017-09-27 01:53:27.249999872"
        ],
        [
         "50%",
         "2018-02-02 00:00:00",
         "2018-02-04 22:41:47.500000"
        ],
        [
         "75%",
         "2018-05-16 00:00:00",
         "2018-05-20 12:11:21.500000"
        ],
        [
         "max",
         "2018-08-31 00:00:00",
         "2018-10-29 12:27:35"
        ]
       ],
       "shape": {
        "columns": 2,
        "rows": 7
       }
      },
      "text/html": [
       "<div>\n",
       "<style scoped>\n",
       "    .dataframe tbody tr th:only-of-type {\n",
       "        vertical-align: middle;\n",
       "    }\n",
       "\n",
       "    .dataframe tbody tr th {\n",
       "        vertical-align: top;\n",
       "    }\n",
       "\n",
       "    .dataframe thead th {\n",
       "        text-align: right;\n",
       "    }\n",
       "</style>\n",
       "<table border=\"1\" class=\"dataframe\">\n",
       "  <thead>\n",
       "    <tr style=\"text-align: right;\">\n",
       "      <th></th>\n",
       "      <th>review_creation_date</th>\n",
       "      <th>review_answer_timestamp</th>\n",
       "    </tr>\n",
       "  </thead>\n",
       "  <tbody>\n",
       "    <tr>\n",
       "      <th>count</th>\n",
       "      <td>99224</td>\n",
       "      <td>99224</td>\n",
       "    </tr>\n",
       "    <tr>\n",
       "      <th>mean</th>\n",
       "      <td>2018-01-12 20:49:23.948238336</td>\n",
       "      <td>2018-01-16 00:23:56.977938688</td>\n",
       "    </tr>\n",
       "    <tr>\n",
       "      <th>min</th>\n",
       "      <td>2016-10-02 00:00:00</td>\n",
       "      <td>2016-10-07 18:32:28</td>\n",
       "    </tr>\n",
       "    <tr>\n",
       "      <th>25%</th>\n",
       "      <td>2017-09-23 00:00:00</td>\n",
       "      <td>2017-09-27 01:53:27.249999872</td>\n",
       "    </tr>\n",
       "    <tr>\n",
       "      <th>50%</th>\n",
       "      <td>2018-02-02 00:00:00</td>\n",
       "      <td>2018-02-04 22:41:47.500000</td>\n",
       "    </tr>\n",
       "    <tr>\n",
       "      <th>75%</th>\n",
       "      <td>2018-05-16 00:00:00</td>\n",
       "      <td>2018-05-20 12:11:21.500000</td>\n",
       "    </tr>\n",
       "    <tr>\n",
       "      <th>max</th>\n",
       "      <td>2018-08-31 00:00:00</td>\n",
       "      <td>2018-10-29 12:27:35</td>\n",
       "    </tr>\n",
       "  </tbody>\n",
       "</table>\n",
       "</div>"
      ],
      "text/plain": [
       "                review_creation_date        review_answer_timestamp\n",
       "count                          99224                          99224\n",
       "mean   2018-01-12 20:49:23.948238336  2018-01-16 00:23:56.977938688\n",
       "min              2016-10-02 00:00:00            2016-10-07 18:32:28\n",
       "25%              2017-09-23 00:00:00  2017-09-27 01:53:27.249999872\n",
       "50%              2018-02-02 00:00:00     2018-02-04 22:41:47.500000\n",
       "75%              2018-05-16 00:00:00     2018-05-20 12:11:21.500000\n",
       "max              2018-08-31 00:00:00            2018-10-29 12:27:35"
      ]
     },
     "execution_count": 133,
     "metadata": {},
     "output_type": "execute_result"
    }
   ],
   "source": [
    "df[dt_cols].describe()"
   ]
  },
  {
   "cell_type": "code",
   "execution_count": 134,
   "id": "6c1b04c3",
   "metadata": {},
   "outputs": [
    {
     "name": "stdout",
     "output_type": "stream",
     "text": [
      "Column: review_creation_date\n",
      "Non-missing count: 99224\n",
      "Missing count: 0\n",
      "Earliest date: 2016-10-02 00:00:00\n",
      "Latest date: 2018-08-31 00:00:00\n",
      "----------------------------------------\n",
      "Column: review_answer_timestamp\n",
      "Non-missing count: 99224\n",
      "Missing count: 0\n",
      "Earliest date: 2016-10-07 18:32:28\n",
      "Latest date: 2018-10-29 12:27:35\n",
      "----------------------------------------\n"
     ]
    }
   ],
   "source": [
    "for c in dt_cols:\n",
    "    print(f\"Column: {c}\")\n",
    "    print(\"Non-missing count:\", df[c].notnull().sum())\n",
    "    print(\"Missing count:\", df[c].isnull().sum())\n",
    "    print(\"Earliest date:\", df[c].min())\n",
    "    print(\"Latest date:\", df[c].max())\n",
    "    print(\"-\"*40)\n"
   ]
  },
  {
   "cell_type": "code",
   "execution_count": 135,
   "id": "9543bbe7",
   "metadata": {},
   "outputs": [
    {
     "data": {
      "application/vnd.microsoft.datawrangler.viewer.v0+json": {
       "columns": [
        {
         "name": "index",
         "rawType": "int64",
         "type": "integer"
        },
        {
         "name": "review_id",
         "rawType": "object",
         "type": "string"
        },
        {
         "name": "order_id",
         "rawType": "object",
         "type": "string"
        },
        {
         "name": "review_score",
         "rawType": "int64",
         "type": "integer"
        },
        {
         "name": "review_comment_title",
         "rawType": "object",
         "type": "unknown"
        },
        {
         "name": "review_comment_message",
         "rawType": "object",
         "type": "unknown"
        },
        {
         "name": "review_creation_date",
         "rawType": "datetime64[ns]",
         "type": "datetime"
        },
        {
         "name": "review_answer_timestamp",
         "rawType": "datetime64[ns]",
         "type": "datetime"
        }
       ],
       "ref": "deb1e236-8a22-4bd1-90c2-1485aea2038e",
       "rows": [
        [
         "0",
         "7bc2406110b926393aa56f80a40eba40",
         "73fc7af87114b39712e6da79b0a377eb",
         "4",
         null,
         null,
         "2018-01-18 00:00:00",
         "2018-01-18 21:46:59"
        ],
        [
         "1",
         "80e641a11e56f04c1ad469d5645fdfde",
         "a548910a1c6147796b98fdf73dbeba33",
         "5",
         null,
         null,
         "2018-03-10 00:00:00",
         "2018-03-11 03:05:13"
        ],
        [
         "2",
         "228ce5500dc1d8e020d8d1322874b6f0",
         "f9e4b658b201a9f2ecdecbb34bed034b",
         "5",
         null,
         null,
         "2018-02-17 00:00:00",
         "2018-02-18 14:36:24"
        ],
        [
         "3",
         "e64fb393e7b32834bb789ff8bb30750e",
         "658677c97b385a9be170737859d3511b",
         "5",
         null,
         "Recebi bem antes do prazo estipulado.",
         "2017-04-21 00:00:00",
         "2017-04-21 22:02:06"
        ],
        [
         "4",
         "f7c4243c7fe1938f181bec41a392bdeb",
         "8e6bfb81e283fa7e4f11123a3fb894f1",
         "5",
         null,
         "Parabéns lojas lannister adorei comprar pela Internet seguro e prático Parabéns a todos feliz Páscoa",
         "2018-03-01 00:00:00",
         "2018-03-02 10:26:53"
        ],
        [
         "5",
         "15197aa66ff4d0650b5434f1b46cda19",
         "b18dcdf73be66366873cd26c5724d1dc",
         "1",
         null,
         null,
         "2018-04-13 00:00:00",
         "2018-04-16 00:39:37"
        ],
        [
         "6",
         "07f9bee5d1b850860defd761afa7ff16",
         "e48aa0d2dcec3a2e87348811bcfdf22b",
         "5",
         null,
         null,
         "2017-07-16 00:00:00",
         "2017-07-18 19:30:34"
        ],
        [
         "7",
         "7c6400515c67679fbee952a7525281ef",
         "c31a859e34e3adac22f376954e19b39d",
         "5",
         null,
         null,
         "2018-08-14 00:00:00",
         "2018-08-14 21:36:06"
        ],
        [
         "8",
         "a3f6f7f6f433de0aefbb97da197c554c",
         "9c214ac970e84273583ab523dfafd09b",
         "5",
         null,
         null,
         "2017-05-17 00:00:00",
         "2017-05-18 12:05:37"
        ],
        [
         "9",
         "8670d52e15e00043ae7de4c01cc2fe06",
         "b9bf720beb4ab3728760088589c62129",
         "4",
         "recomendo",
         "aparelho eficiente. no site a marca do aparelho esta impresso como 3desinfector e ao chegar esta com outro nome...atualizar com a marca correta uma vez que é o mesmo aparelho",
         "2018-05-22 00:00:00",
         "2018-05-23 16:45:47"
        ],
        [
         "10",
         "c9cfd2d5ab5911836ababae136c3a10c",
         "cdf9aa68e72324eeb25c7de974696ee2",
         "5",
         null,
         null,
         "2017-12-23 00:00:00",
         "2017-12-26 14:36:03"
        ],
        [
         "11",
         "96052551d87e5f62e6c9f6974ec392e9",
         "3d374c9e46530bb5ed4a7648915306a6",
         "5",
         null,
         null,
         "2017-12-19 00:00:00",
         "2017-12-20 10:25:22"
        ],
        [
         "12",
         "4b49719c8a200003f700d3d986ea1a19",
         "9d6f15f95d01e79bd1349cc208361f09",
         "4",
         null,
         "Mas um pouco ,travando...pelo valor ta Boa.\r\n",
         "2018-02-16 00:00:00",
         "2018-02-20 10:52:22"
        ],
        [
         "13",
         "23f75a37effc35d9a915b4e1ad483793",
         "2eaf8e099d871cd5c22b83b5ea8f6e0e",
         "4",
         null,
         null,
         "2018-03-28 00:00:00",
         "2018-03-30 15:10:55"
        ],
        [
         "14",
         "9a0abbb668bafb95a6d2b05db43284c4",
         "d7bd0e4afdf94846eb73642b4e3e75c3",
         "3",
         null,
         null,
         "2017-04-30 00:00:00",
         "2017-05-03 00:02:22"
        ],
        [
         "15",
         "3948b09f7c818e2d86c9a546758b2335",
         "e51478e7e277a83743b6f9991dbfa3fb",
         "5",
         "Super recomendo",
         "Vendedor confiável, produto ok e entrega antes do prazo.",
         "2018-05-23 00:00:00",
         "2018-05-24 03:00:01"
        ],
        [
         "16",
         "9314d6f9799f5bfba510cc7bcd468c01",
         "0dacf04c5ad59fd5a0cc1faa07c34e39",
         "2",
         null,
         "GOSTARIA DE SABER O QUE HOUVE, SEMPRE RECEBI E ESSA COMPRA AGORA ME DECPCIONOU",
         "2018-01-18 00:00:00",
         "2018-01-20 21:25:45"
        ],
        [
         "17",
         "8e15a274d95600fa14f8be64e37a0e67",
         "ff1581e08b3011021e7c7de592ddc81e",
         "5",
         null,
         null,
         "2018-03-24 00:00:00",
         "2018-03-26 15:58:32"
        ],
        [
         "18",
         "fdbdb2629a7cde0f66657acc92084e7f",
         "70a752414a13d09cc1f2b437b914b28e",
         "3",
         null,
         null,
         "2017-09-29 00:00:00",
         "2017-10-02 01:12:49"
        ],
        [
         "19",
         "373cbeecea8286a2b66c97b1b157ec46",
         "583174fbe37d3d5f0d6661be3aad1786",
         "1",
         "Não chegou meu produto ",
         "Péssimo",
         "2018-08-15 00:00:00",
         "2018-08-15 04:10:37"
        ],
        [
         "20",
         "a2ff510ca4e059c3fefc7a7866571f6f",
         "a9953b2f0b1665ac7586cc5a6ac8f58c",
         "4",
         null,
         null,
         "2017-10-06 00:00:00",
         "2017-10-08 22:36:05"
        ],
        [
         "21",
         "80c70bc263881ba6525f6cee1d94ac87",
         "ae168dfba236919411fe08f336fefa44",
         "5",
         null,
         null,
         "2018-03-17 00:00:00",
         "2018-04-04 19:41:11"
        ],
        [
         "22",
         "d21bbc789670eab777d27372ab9094cc",
         "4fc44d78867142c627497b60a7e0228a",
         "5",
         "Ótimo",
         "Loja nota 10",
         "2018-07-10 00:00:00",
         "2018-07-11 14:10:25"
        ],
        [
         "23",
         "7bcb3c758c67f23638262c731493e848",
         "7c9956750739a47dba7a6928ba2f0245",
         "5",
         null,
         null,
         "2017-09-09 00:00:00",
         "2017-10-17 02:25:47"
        ],
        [
         "24",
         "0e0190b9db53b689b285d3f3916f8441",
         "79832b7cb59ac6f887088ffd686e1d5e",
         "5",
         null,
         "obrigado pela atençao amim dispensada",
         "2017-12-01 00:00:00",
         "2017-12-09 22:58:58"
        ],
        [
         "25",
         "66e4430c5bc6b7e3773886bf1c14d912",
         "84cec4f65c7a4f2f54c294a30224a594",
         "5",
         null,
         null,
         "2017-06-23 00:00:00",
         "2017-06-27 00:52:02"
        ],
        [
         "26",
         "bf566b3910c328733baf7fca7d2be041",
         "a59a15e4b6085c752d338431dc68d464",
         "4",
         null,
         null,
         "2017-11-01 00:00:00",
         "2017-11-01 20:25:30"
        ],
        [
         "27",
         "fe3db7c069d694bab50cc43463f91608",
         "2ca73e2ff9e3a186ad1e1ffb9b1d9c10",
         "5",
         null,
         "A compra foi realizada facilmente.\r\nA entrega foi efetuada muito antes do prazo dado.\r\nO produto já começou a ser usado e até o presente,\r\nsem problemas.",
         "2018-03-23 00:00:00",
         "2018-04-01 00:27:51"
        ],
        [
         "28",
         "e07eee7ad7666276bd8b27fbd83fd1ff",
         "68b3cbc68e4cd1fe19bec35f1d3bb7ee",
         "5",
         null,
         "relógio muito bonito e barato.",
         "2018-03-29 00:00:00",
         "2018-04-02 14:19:31"
        ],
        [
         "29",
         "2c5e27fc178bde7ac173c9c62c31b070",
         "0ce9a24111d850192a933fcaab6fbad3",
         "1",
         null,
         "Não gostei ! Comprei gato por lebre",
         "2017-12-13 00:00:00",
         "2017-12-16 07:14:07"
        ],
        [
         "30",
         "540e7bbb2d06cfb7f85f3a88ba7ac97f",
         "cf73e2cb1f4a9480ed70c154da3d954a",
         "5",
         null,
         null,
         "2018-01-18 00:00:00",
         "2018-01-18 19:12:30"
        ],
        [
         "31",
         "6a18a4001ae7fd911b3b9fb13686d105",
         "8ba3f3a9292fbc22a8b7dff752bbcd37",
         "5",
         null,
         null,
         "2017-07-19 00:00:00",
         "2017-07-20 10:38:48"
        ],
        [
         "32",
         "58044bca115705a48fe0e00a21390c54",
         "68e55ca79d04a79f20d4bfc0146f4b66",
         "1",
         null,
         "Sempre compro pela Internet e a entrega ocorre antes do prazo combinado, que acredito ser o prazo máximo. No stark o prazo máximo já se esgotou e ainda não recebi o produto.",
         "2018-04-08 00:00:00",
         "2018-04-09 12:22:39"
        ],
        [
         "33",
         "19a52a2297e5289ab4187d238d335982",
         "677c865b89aa97e7dbeb4bfbb50bbcfd",
         "5",
         null,
         null,
         "2018-08-25 00:00:00",
         "2018-08-26 22:02:59"
        ],
        [
         "34",
         "c92cdd7dd544a01aa35137f901669cdf",
         "37e7875cdce5a9e5b3a692971f370151",
         "4",
         "Muito bom.",
         "Recebi exatamente o que esperava. As demais encomendas de outros vendedores atrasaram, mas esta chegou no prazo.",
         "2018-06-07 00:00:00",
         "2018-06-09 18:44:02"
        ],
        [
         "35",
         "c0f4c8301f8c29d6f53d239e194bb4c2",
         "04db86e3493b3724ac4bd3c9a397e23c",
         "5",
         null,
         null,
         "2017-09-12 00:00:00",
         "2017-09-13 14:33:49"
        ],
        [
         "36",
         "08c9d79ec0eba1d252e3f52f14b8e6a9",
         "e029f708df3cc108b3264558771605c6",
         "5",
         "Bom",
         "Recomendo ,",
         "2018-06-13 00:00:00",
         "2018-06-13 22:54:44"
        ],
        [
         "37",
         "2170c9452c2216457b36003fe2969fbb",
         "af32671d0b8ce510a94d9111d97371d3",
         "5",
         null,
         "muito boa ",
         "2018-03-22 00:00:00",
         "2018-03-30 23:37:25"
        ],
        [
         "38",
         "b193ff3c9f32a01f3a0d9ae26b94d244",
         "e2e6ee1ed2d7f2f36b05d234983bd7a0",
         "5",
         "Maravilhoso!",
         "Tô completamente apaixonada, loja super responsável e confiável!",
         "2018-08-10 00:00:00",
         "2018-08-11 00:22:13"
        ],
        [
         "39",
         "9fd59cd04b42f600df9f25e54082a8d1",
         "3c314f50bc654f3c4e317b055681dff9",
         "1",
         null,
         "Nada de chegar o meu pedido.",
         "2017-04-21 00:00:00",
         "2017-04-23 05:37:03"
        ],
        [
         "40",
         "ab3056e4fb5a36df4b58c1746e4a6b8f",
         "aad1dcbe4c9fe2e3486e5e04c6649097",
         "2",
         null,
         null,
         "2018-05-13 00:00:00",
         "2018-05-14 16:29:15"
        ],
        [
         "41",
         "eb26c2bfb5030f57dcef30d3f111eb1e",
         "88096595631e8d26b658306256e3ce34",
         "1",
         null,
         null,
         "2018-02-08 00:00:00",
         "2018-02-10 04:28:43"
        ],
        [
         "42",
         "caf7d6d68090fedf0f47b27aff4b4eaf",
         "c186ebe3937470a2f562a2dc0bc74dd7",
         "5",
         null,
         null,
         "2017-12-05 00:00:00",
         "2017-12-07 23:34:56"
        ],
        [
         "43",
         "86c5cfa7fcbde303f704b60a78ced7d6",
         "a6456e781cb962cc3f412b04de4fed7b",
         "5",
         "Entrega perfeita",
         "Muito bom. muito cheiroso.",
         "2018-06-13 00:00:00",
         "2018-06-14 17:29:03"
        ],
        [
         "44",
         "6f3eb43ec2f5092cf04c8d705864a8ac",
         "f3a9c397a2fa5a2366b4b96bc15737f6",
         "5",
         null,
         null,
         "2018-03-11 00:00:00",
         "2018-03-14 00:38:50"
        ],
        [
         "45",
         "3dc0777d97733a1d066f5b781e91577f",
         "44a9994228432b835c3a4e720b6a41ab",
         "4",
         null,
         null,
         "2018-03-29 00:00:00",
         "2018-03-31 00:13:07"
        ],
        [
         "46",
         "e363a3c172db72d6a8b82d0726cd2ddb",
         "1a36784e5c696071dad8a242f26b230f",
         "5",
         null,
         null,
         "2018-01-25 00:00:00",
         "2018-02-18 23:03:20"
        ],
        [
         "47",
         "890ec1767be8eb104877db6d68eaade5",
         "b3271f5ebce80cbecb67c5b88487a44a",
         "5",
         null,
         "otimo vendedor chegou ate antes do prazo , adorei o produto",
         "2017-05-13 00:00:00",
         "2017-05-14 02:57:19"
        ],
        [
         "48",
         "23f570a1b0db9566bee04521a0410c54",
         "82c5edeff15e09a0460d292874766132",
         "5",
         null,
         null,
         "2017-09-22 00:00:00",
         "2017-09-23 13:57:39"
        ],
        [
         "49",
         "7d9ac3e98adc0c8ad579e6a2257d79f9",
         "dfa48852c93427261c98fb2e01f33bea",
         "5",
         null,
         "Processo de compra tranquilo e eficiente.",
         "2018-04-24 00:00:00",
         "2018-04-25 16:01:03"
        ]
       ],
       "shape": {
        "columns": 7,
        "rows": 99224
       }
      },
      "text/html": [
       "<div>\n",
       "<style scoped>\n",
       "    .dataframe tbody tr th:only-of-type {\n",
       "        vertical-align: middle;\n",
       "    }\n",
       "\n",
       "    .dataframe tbody tr th {\n",
       "        vertical-align: top;\n",
       "    }\n",
       "\n",
       "    .dataframe thead th {\n",
       "        text-align: right;\n",
       "    }\n",
       "</style>\n",
       "<table border=\"1\" class=\"dataframe\">\n",
       "  <thead>\n",
       "    <tr style=\"text-align: right;\">\n",
       "      <th></th>\n",
       "      <th>review_id</th>\n",
       "      <th>order_id</th>\n",
       "      <th>review_score</th>\n",
       "      <th>review_comment_title</th>\n",
       "      <th>review_comment_message</th>\n",
       "      <th>review_creation_date</th>\n",
       "      <th>review_answer_timestamp</th>\n",
       "    </tr>\n",
       "  </thead>\n",
       "  <tbody>\n",
       "    <tr>\n",
       "      <th>0</th>\n",
       "      <td>7bc2406110b926393aa56f80a40eba40</td>\n",
       "      <td>73fc7af87114b39712e6da79b0a377eb</td>\n",
       "      <td>4</td>\n",
       "      <td>NaN</td>\n",
       "      <td>NaN</td>\n",
       "      <td>2018-01-18</td>\n",
       "      <td>2018-01-18 21:46:59</td>\n",
       "    </tr>\n",
       "    <tr>\n",
       "      <th>1</th>\n",
       "      <td>80e641a11e56f04c1ad469d5645fdfde</td>\n",
       "      <td>a548910a1c6147796b98fdf73dbeba33</td>\n",
       "      <td>5</td>\n",
       "      <td>NaN</td>\n",
       "      <td>NaN</td>\n",
       "      <td>2018-03-10</td>\n",
       "      <td>2018-03-11 03:05:13</td>\n",
       "    </tr>\n",
       "    <tr>\n",
       "      <th>2</th>\n",
       "      <td>228ce5500dc1d8e020d8d1322874b6f0</td>\n",
       "      <td>f9e4b658b201a9f2ecdecbb34bed034b</td>\n",
       "      <td>5</td>\n",
       "      <td>NaN</td>\n",
       "      <td>NaN</td>\n",
       "      <td>2018-02-17</td>\n",
       "      <td>2018-02-18 14:36:24</td>\n",
       "    </tr>\n",
       "    <tr>\n",
       "      <th>3</th>\n",
       "      <td>e64fb393e7b32834bb789ff8bb30750e</td>\n",
       "      <td>658677c97b385a9be170737859d3511b</td>\n",
       "      <td>5</td>\n",
       "      <td>NaN</td>\n",
       "      <td>Recebi bem antes do prazo estipulado.</td>\n",
       "      <td>2017-04-21</td>\n",
       "      <td>2017-04-21 22:02:06</td>\n",
       "    </tr>\n",
       "    <tr>\n",
       "      <th>4</th>\n",
       "      <td>f7c4243c7fe1938f181bec41a392bdeb</td>\n",
       "      <td>8e6bfb81e283fa7e4f11123a3fb894f1</td>\n",
       "      <td>5</td>\n",
       "      <td>NaN</td>\n",
       "      <td>Parabéns lojas lannister adorei comprar pela I...</td>\n",
       "      <td>2018-03-01</td>\n",
       "      <td>2018-03-02 10:26:53</td>\n",
       "    </tr>\n",
       "    <tr>\n",
       "      <th>...</th>\n",
       "      <td>...</td>\n",
       "      <td>...</td>\n",
       "      <td>...</td>\n",
       "      <td>...</td>\n",
       "      <td>...</td>\n",
       "      <td>...</td>\n",
       "      <td>...</td>\n",
       "    </tr>\n",
       "    <tr>\n",
       "      <th>99219</th>\n",
       "      <td>574ed12dd733e5fa530cfd4bbf39d7c9</td>\n",
       "      <td>2a8c23fee101d4d5662fa670396eb8da</td>\n",
       "      <td>5</td>\n",
       "      <td>NaN</td>\n",
       "      <td>NaN</td>\n",
       "      <td>2018-07-07</td>\n",
       "      <td>2018-07-14 17:18:30</td>\n",
       "    </tr>\n",
       "    <tr>\n",
       "      <th>99220</th>\n",
       "      <td>f3897127253a9592a73be9bdfdf4ed7a</td>\n",
       "      <td>22ec9f0669f784db00fa86d035cf8602</td>\n",
       "      <td>5</td>\n",
       "      <td>NaN</td>\n",
       "      <td>NaN</td>\n",
       "      <td>2017-12-09</td>\n",
       "      <td>2017-12-11 20:06:42</td>\n",
       "    </tr>\n",
       "    <tr>\n",
       "      <th>99221</th>\n",
       "      <td>b3de70c89b1510c4cd3d0649fd302472</td>\n",
       "      <td>55d4004744368f5571d1f590031933e4</td>\n",
       "      <td>5</td>\n",
       "      <td>NaN</td>\n",
       "      <td>Excelente mochila, entrega super rápida. Super...</td>\n",
       "      <td>2018-03-22</td>\n",
       "      <td>2018-03-23 09:10:43</td>\n",
       "    </tr>\n",
       "    <tr>\n",
       "      <th>99222</th>\n",
       "      <td>1adeb9d84d72fe4e337617733eb85149</td>\n",
       "      <td>7725825d039fc1f0ceb7635e3f7d9206</td>\n",
       "      <td>4</td>\n",
       "      <td>NaN</td>\n",
       "      <td>NaN</td>\n",
       "      <td>2018-07-01</td>\n",
       "      <td>2018-07-02 12:59:13</td>\n",
       "    </tr>\n",
       "    <tr>\n",
       "      <th>99223</th>\n",
       "      <td>efe49f1d6f951dd88b51e6ccd4cc548f</td>\n",
       "      <td>90531360ecb1eec2a1fbb265a0db0508</td>\n",
       "      <td>1</td>\n",
       "      <td>NaN</td>\n",
       "      <td>meu produto chegou e ja tenho que devolver, po...</td>\n",
       "      <td>2017-07-03</td>\n",
       "      <td>2017-07-03 21:01:49</td>\n",
       "    </tr>\n",
       "  </tbody>\n",
       "</table>\n",
       "<p>99224 rows × 7 columns</p>\n",
       "</div>"
      ],
      "text/plain": [
       "                              review_id                          order_id  \\\n",
       "0      7bc2406110b926393aa56f80a40eba40  73fc7af87114b39712e6da79b0a377eb   \n",
       "1      80e641a11e56f04c1ad469d5645fdfde  a548910a1c6147796b98fdf73dbeba33   \n",
       "2      228ce5500dc1d8e020d8d1322874b6f0  f9e4b658b201a9f2ecdecbb34bed034b   \n",
       "3      e64fb393e7b32834bb789ff8bb30750e  658677c97b385a9be170737859d3511b   \n",
       "4      f7c4243c7fe1938f181bec41a392bdeb  8e6bfb81e283fa7e4f11123a3fb894f1   \n",
       "...                                 ...                               ...   \n",
       "99219  574ed12dd733e5fa530cfd4bbf39d7c9  2a8c23fee101d4d5662fa670396eb8da   \n",
       "99220  f3897127253a9592a73be9bdfdf4ed7a  22ec9f0669f784db00fa86d035cf8602   \n",
       "99221  b3de70c89b1510c4cd3d0649fd302472  55d4004744368f5571d1f590031933e4   \n",
       "99222  1adeb9d84d72fe4e337617733eb85149  7725825d039fc1f0ceb7635e3f7d9206   \n",
       "99223  efe49f1d6f951dd88b51e6ccd4cc548f  90531360ecb1eec2a1fbb265a0db0508   \n",
       "\n",
       "       review_score review_comment_title  \\\n",
       "0                 4                  NaN   \n",
       "1                 5                  NaN   \n",
       "2                 5                  NaN   \n",
       "3                 5                  NaN   \n",
       "4                 5                  NaN   \n",
       "...             ...                  ...   \n",
       "99219             5                  NaN   \n",
       "99220             5                  NaN   \n",
       "99221             5                  NaN   \n",
       "99222             4                  NaN   \n",
       "99223             1                  NaN   \n",
       "\n",
       "                                  review_comment_message review_creation_date  \\\n",
       "0                                                    NaN           2018-01-18   \n",
       "1                                                    NaN           2018-03-10   \n",
       "2                                                    NaN           2018-02-17   \n",
       "3                  Recebi bem antes do prazo estipulado.           2017-04-21   \n",
       "4      Parabéns lojas lannister adorei comprar pela I...           2018-03-01   \n",
       "...                                                  ...                  ...   \n",
       "99219                                                NaN           2018-07-07   \n",
       "99220                                                NaN           2017-12-09   \n",
       "99221  Excelente mochila, entrega super rápida. Super...           2018-03-22   \n",
       "99222                                                NaN           2018-07-01   \n",
       "99223  meu produto chegou e ja tenho que devolver, po...           2017-07-03   \n",
       "\n",
       "      review_answer_timestamp  \n",
       "0         2018-01-18 21:46:59  \n",
       "1         2018-03-11 03:05:13  \n",
       "2         2018-02-18 14:36:24  \n",
       "3         2017-04-21 22:02:06  \n",
       "4         2018-03-02 10:26:53  \n",
       "...                       ...  \n",
       "99219     2018-07-14 17:18:30  \n",
       "99220     2017-12-11 20:06:42  \n",
       "99221     2018-03-23 09:10:43  \n",
       "99222     2018-07-02 12:59:13  \n",
       "99223     2017-07-03 21:01:49  \n",
       "\n",
       "[99224 rows x 7 columns]"
      ]
     },
     "execution_count": 135,
     "metadata": {},
     "output_type": "execute_result"
    }
   ],
   "source": [
    "df"
   ]
  },
  {
   "cell_type": "markdown",
   "id": "02fdeec1",
   "metadata": {},
   "source": [
    "Handling missing values of the review_comment_title and review_comment_message......"
   ]
  },
  {
   "cell_type": "code",
   "execution_count": 136,
   "id": "8b8b5074",
   "metadata": {},
   "outputs": [
    {
     "data": {
      "application/vnd.microsoft.datawrangler.viewer.v0+json": {
       "columns": [
        {
         "name": "index",
         "rawType": "object",
         "type": "string"
        },
        {
         "name": "0",
         "rawType": "int64",
         "type": "integer"
        }
       ],
       "ref": "034d35d1-cf21-4614-bb3f-ba5e6536d6b4",
       "rows": [
        [
         "review_comment_title",
         "87656"
        ],
        [
         "review_comment_message",
         "58247"
        ]
       ],
       "shape": {
        "columns": 1,
        "rows": 2
       }
      },
      "text/plain": [
       "review_comment_title      87656\n",
       "review_comment_message    58247\n",
       "dtype: int64"
      ]
     },
     "execution_count": 136,
     "metadata": {},
     "output_type": "execute_result"
    }
   ],
   "source": [
    "text_cols = ['review_comment_title','review_comment_message'] #checking for the missing values\n",
    "df[text_cols].isna().sum()  # counts actual NaNs\n",
    "\n"
   ]
  },
  {
   "cell_type": "code",
   "execution_count": 137,
   "id": "af4ee901",
   "metadata": {},
   "outputs": [
    {
     "data": {
      "application/vnd.microsoft.datawrangler.viewer.v0+json": {
       "columns": [
        {
         "name": "index",
         "rawType": "object",
         "type": "string"
        },
        {
         "name": "0",
         "rawType": "int64",
         "type": "integer"
        }
       ],
       "ref": "1cf9e07a-1180-487c-8a5e-9e0b751b3ba9",
       "rows": [
        [
         "review_comment_title",
         "0"
        ],
        [
         "review_comment_message",
         "0"
        ]
       ],
       "shape": {
        "columns": 1,
        "rows": 2
       }
      },
      "text/plain": [
       "review_comment_title      0\n",
       "review_comment_message    0\n",
       "dtype: int64"
      ]
     },
     "execution_count": 137,
     "metadata": {},
     "output_type": "execute_result"
    }
   ],
   "source": [
    "df[text_cols].eq('').sum()   # counts blank strings"
   ]
  },
  {
   "cell_type": "code",
   "execution_count": 138,
   "id": "cfd6ee52",
   "metadata": {},
   "outputs": [
    {
     "data": {
      "text/plain": [
       "np.int64(40977)"
      ]
     },
     "execution_count": 138,
     "metadata": {},
     "output_type": "execute_result"
    }
   ],
   "source": [
    "df['review_comment_message'].notna().sum()\n"
   ]
  },
  {
   "cell_type": "code",
   "execution_count": 139,
   "id": "96be46a0",
   "metadata": {},
   "outputs": [
    {
     "data": {
      "text/plain": [
       "np.int64(11568)"
      ]
     },
     "execution_count": 139,
     "metadata": {},
     "output_type": "execute_result"
    }
   ],
   "source": [
    "df['review_comment_title'].notna().sum()"
   ]
  },
  {
   "cell_type": "code",
   "execution_count": 140,
   "id": "8c14c599",
   "metadata": {},
   "outputs": [
    {
     "name": "stderr",
     "output_type": "stream",
     "text": [
      "C:\\Users\\rs573\\AppData\\Local\\Temp\\ipykernel_3304\\2949117223.py:2: FutureWarning: A value is trying to be set on a copy of a DataFrame or Series through chained assignment using an inplace method.\n",
      "The behavior will change in pandas 3.0. This inplace method will never work because the intermediate object on which we are setting values always behaves as a copy.\n",
      "\n",
      "For example, when doing 'df[col].method(value, inplace=True)', try using 'df.method({col: value}, inplace=True)' or df[col] = df[col].method(value) instead, to perform the operation inplace on the original object.\n",
      "\n",
      "\n",
      "  df['review_comment_title'].replace('', np.nan, inplace=True)\n"
     ]
    }
   ],
   "source": [
    "# Replace empty strings with NaN\n",
    "df['review_comment_title'].replace('', np.nan, inplace=True)\n",
    "\n"
   ]
  },
  {
   "cell_type": "code",
   "execution_count": 141,
   "id": "524f957d",
   "metadata": {},
   "outputs": [
    {
     "name": "stderr",
     "output_type": "stream",
     "text": [
      "C:\\Users\\rs573\\AppData\\Local\\Temp\\ipykernel_3304\\1337066155.py:1: FutureWarning: A value is trying to be set on a copy of a DataFrame or Series through chained assignment using an inplace method.\n",
      "The behavior will change in pandas 3.0. This inplace method will never work because the intermediate object on which we are setting values always behaves as a copy.\n",
      "\n",
      "For example, when doing 'df[col].method(value, inplace=True)', try using 'df.method({col: value}, inplace=True)' or df[col] = df[col].method(value) instead, to perform the operation inplace on the original object.\n",
      "\n",
      "\n",
      "  df['review_comment_message'].replace('', np.nan, inplace=True)\n"
     ]
    }
   ],
   "source": [
    "df['review_comment_message'].replace('', np.nan, inplace=True)"
   ]
  },
  {
   "cell_type": "code",
   "execution_count": 142,
   "id": "897850e9",
   "metadata": {},
   "outputs": [
    {
     "data": {
      "application/vnd.microsoft.datawrangler.viewer.v0+json": {
       "columns": [
        {
         "name": "index",
         "rawType": "object",
         "type": "string"
        },
        {
         "name": "0",
         "rawType": "int64",
         "type": "integer"
        }
       ],
       "ref": "bcc17571-a421-458b-94cb-36e3614e6024",
       "rows": [
        [
         "review_id",
         "0"
        ],
        [
         "order_id",
         "0"
        ],
        [
         "review_score",
         "0"
        ],
        [
         "review_comment_title",
         "87656"
        ],
        [
         "review_comment_message",
         "58247"
        ],
        [
         "review_creation_date",
         "0"
        ],
        [
         "review_answer_timestamp",
         "0"
        ]
       ],
       "shape": {
        "columns": 1,
        "rows": 7
       }
      },
      "text/plain": [
       "review_id                      0\n",
       "order_id                       0\n",
       "review_score                   0\n",
       "review_comment_title       87656\n",
       "review_comment_message     58247\n",
       "review_creation_date           0\n",
       "review_answer_timestamp        0\n",
       "dtype: int64"
      ]
     },
     "execution_count": 142,
     "metadata": {},
     "output_type": "execute_result"
    }
   ],
   "source": [
    "df.isna().sum()"
   ]
  },
  {
   "cell_type": "code",
   "execution_count": 143,
   "id": "4e1fa561",
   "metadata": {},
   "outputs": [
    {
     "name": "stdout",
     "output_type": "stream",
     "text": [
      "review_score\n",
      "5    57328\n",
      "4    19142\n",
      "1    11424\n",
      "3     8179\n",
      "2     3151\n",
      "Name: count, dtype: int64\n",
      "40977\n"
     ]
    }
   ],
   "source": [
    "# Scores distribution\n",
    "print(df['review_score'].value_counts())\n",
    "\n",
    "# Count of reviews with messages\n",
    "print(df['review_comment_message'].notna().sum())\n"
   ]
  },
  {
   "cell_type": "code",
   "execution_count": 144,
   "id": "7b047b03",
   "metadata": {},
   "outputs": [
    {
     "data": {
      "application/vnd.microsoft.datawrangler.viewer.v0+json": {
       "columns": [
        {
         "name": "index",
         "rawType": "int64",
         "type": "integer"
        },
        {
         "name": "review_id",
         "rawType": "object",
         "type": "string"
        },
        {
         "name": "order_id",
         "rawType": "object",
         "type": "string"
        },
        {
         "name": "review_score",
         "rawType": "int64",
         "type": "integer"
        },
        {
         "name": "review_comment_title",
         "rawType": "object",
         "type": "unknown"
        },
        {
         "name": "review_comment_message",
         "rawType": "object",
         "type": "unknown"
        },
        {
         "name": "review_creation_date",
         "rawType": "datetime64[ns]",
         "type": "datetime"
        },
        {
         "name": "review_answer_timestamp",
         "rawType": "datetime64[ns]",
         "type": "datetime"
        }
       ],
       "ref": "1d9f046c-a101-4249-9b71-38d4035e1665",
       "rows": [
        [
         "0",
         "7bc2406110b926393aa56f80a40eba40",
         "73fc7af87114b39712e6da79b0a377eb",
         "4",
         null,
         null,
         "2018-01-18 00:00:00",
         "2018-01-18 21:46:59"
        ],
        [
         "1",
         "80e641a11e56f04c1ad469d5645fdfde",
         "a548910a1c6147796b98fdf73dbeba33",
         "5",
         null,
         null,
         "2018-03-10 00:00:00",
         "2018-03-11 03:05:13"
        ],
        [
         "2",
         "228ce5500dc1d8e020d8d1322874b6f0",
         "f9e4b658b201a9f2ecdecbb34bed034b",
         "5",
         null,
         null,
         "2018-02-17 00:00:00",
         "2018-02-18 14:36:24"
        ],
        [
         "3",
         "e64fb393e7b32834bb789ff8bb30750e",
         "658677c97b385a9be170737859d3511b",
         "5",
         null,
         "Recebi bem antes do prazo estipulado.",
         "2017-04-21 00:00:00",
         "2017-04-21 22:02:06"
        ],
        [
         "4",
         "f7c4243c7fe1938f181bec41a392bdeb",
         "8e6bfb81e283fa7e4f11123a3fb894f1",
         "5",
         null,
         "Parabéns lojas lannister adorei comprar pela Internet seguro e prático Parabéns a todos feliz Páscoa",
         "2018-03-01 00:00:00",
         "2018-03-02 10:26:53"
        ],
        [
         "5",
         "15197aa66ff4d0650b5434f1b46cda19",
         "b18dcdf73be66366873cd26c5724d1dc",
         "1",
         null,
         null,
         "2018-04-13 00:00:00",
         "2018-04-16 00:39:37"
        ],
        [
         "6",
         "07f9bee5d1b850860defd761afa7ff16",
         "e48aa0d2dcec3a2e87348811bcfdf22b",
         "5",
         null,
         null,
         "2017-07-16 00:00:00",
         "2017-07-18 19:30:34"
        ],
        [
         "7",
         "7c6400515c67679fbee952a7525281ef",
         "c31a859e34e3adac22f376954e19b39d",
         "5",
         null,
         null,
         "2018-08-14 00:00:00",
         "2018-08-14 21:36:06"
        ],
        [
         "8",
         "a3f6f7f6f433de0aefbb97da197c554c",
         "9c214ac970e84273583ab523dfafd09b",
         "5",
         null,
         null,
         "2017-05-17 00:00:00",
         "2017-05-18 12:05:37"
        ],
        [
         "9",
         "8670d52e15e00043ae7de4c01cc2fe06",
         "b9bf720beb4ab3728760088589c62129",
         "4",
         "recomendo",
         "aparelho eficiente. no site a marca do aparelho esta impresso como 3desinfector e ao chegar esta com outro nome...atualizar com a marca correta uma vez que é o mesmo aparelho",
         "2018-05-22 00:00:00",
         "2018-05-23 16:45:47"
        ],
        [
         "10",
         "c9cfd2d5ab5911836ababae136c3a10c",
         "cdf9aa68e72324eeb25c7de974696ee2",
         "5",
         null,
         null,
         "2017-12-23 00:00:00",
         "2017-12-26 14:36:03"
        ],
        [
         "11",
         "96052551d87e5f62e6c9f6974ec392e9",
         "3d374c9e46530bb5ed4a7648915306a6",
         "5",
         null,
         null,
         "2017-12-19 00:00:00",
         "2017-12-20 10:25:22"
        ],
        [
         "12",
         "4b49719c8a200003f700d3d986ea1a19",
         "9d6f15f95d01e79bd1349cc208361f09",
         "4",
         null,
         "Mas um pouco ,travando...pelo valor ta Boa.\r\n",
         "2018-02-16 00:00:00",
         "2018-02-20 10:52:22"
        ],
        [
         "13",
         "23f75a37effc35d9a915b4e1ad483793",
         "2eaf8e099d871cd5c22b83b5ea8f6e0e",
         "4",
         null,
         null,
         "2018-03-28 00:00:00",
         "2018-03-30 15:10:55"
        ],
        [
         "14",
         "9a0abbb668bafb95a6d2b05db43284c4",
         "d7bd0e4afdf94846eb73642b4e3e75c3",
         "3",
         null,
         null,
         "2017-04-30 00:00:00",
         "2017-05-03 00:02:22"
        ],
        [
         "15",
         "3948b09f7c818e2d86c9a546758b2335",
         "e51478e7e277a83743b6f9991dbfa3fb",
         "5",
         "Super recomendo",
         "Vendedor confiável, produto ok e entrega antes do prazo.",
         "2018-05-23 00:00:00",
         "2018-05-24 03:00:01"
        ],
        [
         "16",
         "9314d6f9799f5bfba510cc7bcd468c01",
         "0dacf04c5ad59fd5a0cc1faa07c34e39",
         "2",
         null,
         "GOSTARIA DE SABER O QUE HOUVE, SEMPRE RECEBI E ESSA COMPRA AGORA ME DECPCIONOU",
         "2018-01-18 00:00:00",
         "2018-01-20 21:25:45"
        ],
        [
         "17",
         "8e15a274d95600fa14f8be64e37a0e67",
         "ff1581e08b3011021e7c7de592ddc81e",
         "5",
         null,
         null,
         "2018-03-24 00:00:00",
         "2018-03-26 15:58:32"
        ],
        [
         "18",
         "fdbdb2629a7cde0f66657acc92084e7f",
         "70a752414a13d09cc1f2b437b914b28e",
         "3",
         null,
         null,
         "2017-09-29 00:00:00",
         "2017-10-02 01:12:49"
        ],
        [
         "19",
         "373cbeecea8286a2b66c97b1b157ec46",
         "583174fbe37d3d5f0d6661be3aad1786",
         "1",
         "Não chegou meu produto ",
         "Péssimo",
         "2018-08-15 00:00:00",
         "2018-08-15 04:10:37"
        ],
        [
         "20",
         "a2ff510ca4e059c3fefc7a7866571f6f",
         "a9953b2f0b1665ac7586cc5a6ac8f58c",
         "4",
         null,
         null,
         "2017-10-06 00:00:00",
         "2017-10-08 22:36:05"
        ],
        [
         "21",
         "80c70bc263881ba6525f6cee1d94ac87",
         "ae168dfba236919411fe08f336fefa44",
         "5",
         null,
         null,
         "2018-03-17 00:00:00",
         "2018-04-04 19:41:11"
        ],
        [
         "22",
         "d21bbc789670eab777d27372ab9094cc",
         "4fc44d78867142c627497b60a7e0228a",
         "5",
         "Ótimo",
         "Loja nota 10",
         "2018-07-10 00:00:00",
         "2018-07-11 14:10:25"
        ],
        [
         "23",
         "7bcb3c758c67f23638262c731493e848",
         "7c9956750739a47dba7a6928ba2f0245",
         "5",
         null,
         null,
         "2017-09-09 00:00:00",
         "2017-10-17 02:25:47"
        ],
        [
         "24",
         "0e0190b9db53b689b285d3f3916f8441",
         "79832b7cb59ac6f887088ffd686e1d5e",
         "5",
         null,
         "obrigado pela atençao amim dispensada",
         "2017-12-01 00:00:00",
         "2017-12-09 22:58:58"
        ],
        [
         "25",
         "66e4430c5bc6b7e3773886bf1c14d912",
         "84cec4f65c7a4f2f54c294a30224a594",
         "5",
         null,
         null,
         "2017-06-23 00:00:00",
         "2017-06-27 00:52:02"
        ],
        [
         "26",
         "bf566b3910c328733baf7fca7d2be041",
         "a59a15e4b6085c752d338431dc68d464",
         "4",
         null,
         null,
         "2017-11-01 00:00:00",
         "2017-11-01 20:25:30"
        ],
        [
         "27",
         "fe3db7c069d694bab50cc43463f91608",
         "2ca73e2ff9e3a186ad1e1ffb9b1d9c10",
         "5",
         null,
         "A compra foi realizada facilmente.\r\nA entrega foi efetuada muito antes do prazo dado.\r\nO produto já começou a ser usado e até o presente,\r\nsem problemas.",
         "2018-03-23 00:00:00",
         "2018-04-01 00:27:51"
        ],
        [
         "28",
         "e07eee7ad7666276bd8b27fbd83fd1ff",
         "68b3cbc68e4cd1fe19bec35f1d3bb7ee",
         "5",
         null,
         "relógio muito bonito e barato.",
         "2018-03-29 00:00:00",
         "2018-04-02 14:19:31"
        ],
        [
         "29",
         "2c5e27fc178bde7ac173c9c62c31b070",
         "0ce9a24111d850192a933fcaab6fbad3",
         "1",
         null,
         "Não gostei ! Comprei gato por lebre",
         "2017-12-13 00:00:00",
         "2017-12-16 07:14:07"
        ],
        [
         "30",
         "540e7bbb2d06cfb7f85f3a88ba7ac97f",
         "cf73e2cb1f4a9480ed70c154da3d954a",
         "5",
         null,
         null,
         "2018-01-18 00:00:00",
         "2018-01-18 19:12:30"
        ],
        [
         "31",
         "6a18a4001ae7fd911b3b9fb13686d105",
         "8ba3f3a9292fbc22a8b7dff752bbcd37",
         "5",
         null,
         null,
         "2017-07-19 00:00:00",
         "2017-07-20 10:38:48"
        ],
        [
         "32",
         "58044bca115705a48fe0e00a21390c54",
         "68e55ca79d04a79f20d4bfc0146f4b66",
         "1",
         null,
         "Sempre compro pela Internet e a entrega ocorre antes do prazo combinado, que acredito ser o prazo máximo. No stark o prazo máximo já se esgotou e ainda não recebi o produto.",
         "2018-04-08 00:00:00",
         "2018-04-09 12:22:39"
        ],
        [
         "33",
         "19a52a2297e5289ab4187d238d335982",
         "677c865b89aa97e7dbeb4bfbb50bbcfd",
         "5",
         null,
         null,
         "2018-08-25 00:00:00",
         "2018-08-26 22:02:59"
        ],
        [
         "34",
         "c92cdd7dd544a01aa35137f901669cdf",
         "37e7875cdce5a9e5b3a692971f370151",
         "4",
         "Muito bom.",
         "Recebi exatamente o que esperava. As demais encomendas de outros vendedores atrasaram, mas esta chegou no prazo.",
         "2018-06-07 00:00:00",
         "2018-06-09 18:44:02"
        ],
        [
         "35",
         "c0f4c8301f8c29d6f53d239e194bb4c2",
         "04db86e3493b3724ac4bd3c9a397e23c",
         "5",
         null,
         null,
         "2017-09-12 00:00:00",
         "2017-09-13 14:33:49"
        ],
        [
         "36",
         "08c9d79ec0eba1d252e3f52f14b8e6a9",
         "e029f708df3cc108b3264558771605c6",
         "5",
         "Bom",
         "Recomendo ,",
         "2018-06-13 00:00:00",
         "2018-06-13 22:54:44"
        ],
        [
         "37",
         "2170c9452c2216457b36003fe2969fbb",
         "af32671d0b8ce510a94d9111d97371d3",
         "5",
         null,
         "muito boa ",
         "2018-03-22 00:00:00",
         "2018-03-30 23:37:25"
        ],
        [
         "38",
         "b193ff3c9f32a01f3a0d9ae26b94d244",
         "e2e6ee1ed2d7f2f36b05d234983bd7a0",
         "5",
         "Maravilhoso!",
         "Tô completamente apaixonada, loja super responsável e confiável!",
         "2018-08-10 00:00:00",
         "2018-08-11 00:22:13"
        ],
        [
         "39",
         "9fd59cd04b42f600df9f25e54082a8d1",
         "3c314f50bc654f3c4e317b055681dff9",
         "1",
         null,
         "Nada de chegar o meu pedido.",
         "2017-04-21 00:00:00",
         "2017-04-23 05:37:03"
        ],
        [
         "40",
         "ab3056e4fb5a36df4b58c1746e4a6b8f",
         "aad1dcbe4c9fe2e3486e5e04c6649097",
         "2",
         null,
         null,
         "2018-05-13 00:00:00",
         "2018-05-14 16:29:15"
        ],
        [
         "41",
         "eb26c2bfb5030f57dcef30d3f111eb1e",
         "88096595631e8d26b658306256e3ce34",
         "1",
         null,
         null,
         "2018-02-08 00:00:00",
         "2018-02-10 04:28:43"
        ],
        [
         "42",
         "caf7d6d68090fedf0f47b27aff4b4eaf",
         "c186ebe3937470a2f562a2dc0bc74dd7",
         "5",
         null,
         null,
         "2017-12-05 00:00:00",
         "2017-12-07 23:34:56"
        ],
        [
         "43",
         "86c5cfa7fcbde303f704b60a78ced7d6",
         "a6456e781cb962cc3f412b04de4fed7b",
         "5",
         "Entrega perfeita",
         "Muito bom. muito cheiroso.",
         "2018-06-13 00:00:00",
         "2018-06-14 17:29:03"
        ],
        [
         "44",
         "6f3eb43ec2f5092cf04c8d705864a8ac",
         "f3a9c397a2fa5a2366b4b96bc15737f6",
         "5",
         null,
         null,
         "2018-03-11 00:00:00",
         "2018-03-14 00:38:50"
        ],
        [
         "45",
         "3dc0777d97733a1d066f5b781e91577f",
         "44a9994228432b835c3a4e720b6a41ab",
         "4",
         null,
         null,
         "2018-03-29 00:00:00",
         "2018-03-31 00:13:07"
        ],
        [
         "46",
         "e363a3c172db72d6a8b82d0726cd2ddb",
         "1a36784e5c696071dad8a242f26b230f",
         "5",
         null,
         null,
         "2018-01-25 00:00:00",
         "2018-02-18 23:03:20"
        ],
        [
         "47",
         "890ec1767be8eb104877db6d68eaade5",
         "b3271f5ebce80cbecb67c5b88487a44a",
         "5",
         null,
         "otimo vendedor chegou ate antes do prazo , adorei o produto",
         "2017-05-13 00:00:00",
         "2017-05-14 02:57:19"
        ],
        [
         "48",
         "23f570a1b0db9566bee04521a0410c54",
         "82c5edeff15e09a0460d292874766132",
         "5",
         null,
         null,
         "2017-09-22 00:00:00",
         "2017-09-23 13:57:39"
        ],
        [
         "49",
         "7d9ac3e98adc0c8ad579e6a2257d79f9",
         "dfa48852c93427261c98fb2e01f33bea",
         "5",
         null,
         "Processo de compra tranquilo e eficiente.",
         "2018-04-24 00:00:00",
         "2018-04-25 16:01:03"
        ]
       ],
       "shape": {
        "columns": 7,
        "rows": 99224
       }
      },
      "text/html": [
       "<div>\n",
       "<style scoped>\n",
       "    .dataframe tbody tr th:only-of-type {\n",
       "        vertical-align: middle;\n",
       "    }\n",
       "\n",
       "    .dataframe tbody tr th {\n",
       "        vertical-align: top;\n",
       "    }\n",
       "\n",
       "    .dataframe thead th {\n",
       "        text-align: right;\n",
       "    }\n",
       "</style>\n",
       "<table border=\"1\" class=\"dataframe\">\n",
       "  <thead>\n",
       "    <tr style=\"text-align: right;\">\n",
       "      <th></th>\n",
       "      <th>review_id</th>\n",
       "      <th>order_id</th>\n",
       "      <th>review_score</th>\n",
       "      <th>review_comment_title</th>\n",
       "      <th>review_comment_message</th>\n",
       "      <th>review_creation_date</th>\n",
       "      <th>review_answer_timestamp</th>\n",
       "    </tr>\n",
       "  </thead>\n",
       "  <tbody>\n",
       "    <tr>\n",
       "      <th>0</th>\n",
       "      <td>7bc2406110b926393aa56f80a40eba40</td>\n",
       "      <td>73fc7af87114b39712e6da79b0a377eb</td>\n",
       "      <td>4</td>\n",
       "      <td>NaN</td>\n",
       "      <td>NaN</td>\n",
       "      <td>2018-01-18</td>\n",
       "      <td>2018-01-18 21:46:59</td>\n",
       "    </tr>\n",
       "    <tr>\n",
       "      <th>1</th>\n",
       "      <td>80e641a11e56f04c1ad469d5645fdfde</td>\n",
       "      <td>a548910a1c6147796b98fdf73dbeba33</td>\n",
       "      <td>5</td>\n",
       "      <td>NaN</td>\n",
       "      <td>NaN</td>\n",
       "      <td>2018-03-10</td>\n",
       "      <td>2018-03-11 03:05:13</td>\n",
       "    </tr>\n",
       "    <tr>\n",
       "      <th>2</th>\n",
       "      <td>228ce5500dc1d8e020d8d1322874b6f0</td>\n",
       "      <td>f9e4b658b201a9f2ecdecbb34bed034b</td>\n",
       "      <td>5</td>\n",
       "      <td>NaN</td>\n",
       "      <td>NaN</td>\n",
       "      <td>2018-02-17</td>\n",
       "      <td>2018-02-18 14:36:24</td>\n",
       "    </tr>\n",
       "    <tr>\n",
       "      <th>3</th>\n",
       "      <td>e64fb393e7b32834bb789ff8bb30750e</td>\n",
       "      <td>658677c97b385a9be170737859d3511b</td>\n",
       "      <td>5</td>\n",
       "      <td>NaN</td>\n",
       "      <td>Recebi bem antes do prazo estipulado.</td>\n",
       "      <td>2017-04-21</td>\n",
       "      <td>2017-04-21 22:02:06</td>\n",
       "    </tr>\n",
       "    <tr>\n",
       "      <th>4</th>\n",
       "      <td>f7c4243c7fe1938f181bec41a392bdeb</td>\n",
       "      <td>8e6bfb81e283fa7e4f11123a3fb894f1</td>\n",
       "      <td>5</td>\n",
       "      <td>NaN</td>\n",
       "      <td>Parabéns lojas lannister adorei comprar pela I...</td>\n",
       "      <td>2018-03-01</td>\n",
       "      <td>2018-03-02 10:26:53</td>\n",
       "    </tr>\n",
       "    <tr>\n",
       "      <th>...</th>\n",
       "      <td>...</td>\n",
       "      <td>...</td>\n",
       "      <td>...</td>\n",
       "      <td>...</td>\n",
       "      <td>...</td>\n",
       "      <td>...</td>\n",
       "      <td>...</td>\n",
       "    </tr>\n",
       "    <tr>\n",
       "      <th>99219</th>\n",
       "      <td>574ed12dd733e5fa530cfd4bbf39d7c9</td>\n",
       "      <td>2a8c23fee101d4d5662fa670396eb8da</td>\n",
       "      <td>5</td>\n",
       "      <td>NaN</td>\n",
       "      <td>NaN</td>\n",
       "      <td>2018-07-07</td>\n",
       "      <td>2018-07-14 17:18:30</td>\n",
       "    </tr>\n",
       "    <tr>\n",
       "      <th>99220</th>\n",
       "      <td>f3897127253a9592a73be9bdfdf4ed7a</td>\n",
       "      <td>22ec9f0669f784db00fa86d035cf8602</td>\n",
       "      <td>5</td>\n",
       "      <td>NaN</td>\n",
       "      <td>NaN</td>\n",
       "      <td>2017-12-09</td>\n",
       "      <td>2017-12-11 20:06:42</td>\n",
       "    </tr>\n",
       "    <tr>\n",
       "      <th>99221</th>\n",
       "      <td>b3de70c89b1510c4cd3d0649fd302472</td>\n",
       "      <td>55d4004744368f5571d1f590031933e4</td>\n",
       "      <td>5</td>\n",
       "      <td>NaN</td>\n",
       "      <td>Excelente mochila, entrega super rápida. Super...</td>\n",
       "      <td>2018-03-22</td>\n",
       "      <td>2018-03-23 09:10:43</td>\n",
       "    </tr>\n",
       "    <tr>\n",
       "      <th>99222</th>\n",
       "      <td>1adeb9d84d72fe4e337617733eb85149</td>\n",
       "      <td>7725825d039fc1f0ceb7635e3f7d9206</td>\n",
       "      <td>4</td>\n",
       "      <td>NaN</td>\n",
       "      <td>NaN</td>\n",
       "      <td>2018-07-01</td>\n",
       "      <td>2018-07-02 12:59:13</td>\n",
       "    </tr>\n",
       "    <tr>\n",
       "      <th>99223</th>\n",
       "      <td>efe49f1d6f951dd88b51e6ccd4cc548f</td>\n",
       "      <td>90531360ecb1eec2a1fbb265a0db0508</td>\n",
       "      <td>1</td>\n",
       "      <td>NaN</td>\n",
       "      <td>meu produto chegou e ja tenho que devolver, po...</td>\n",
       "      <td>2017-07-03</td>\n",
       "      <td>2017-07-03 21:01:49</td>\n",
       "    </tr>\n",
       "  </tbody>\n",
       "</table>\n",
       "<p>99224 rows × 7 columns</p>\n",
       "</div>"
      ],
      "text/plain": [
       "                              review_id                          order_id  \\\n",
       "0      7bc2406110b926393aa56f80a40eba40  73fc7af87114b39712e6da79b0a377eb   \n",
       "1      80e641a11e56f04c1ad469d5645fdfde  a548910a1c6147796b98fdf73dbeba33   \n",
       "2      228ce5500dc1d8e020d8d1322874b6f0  f9e4b658b201a9f2ecdecbb34bed034b   \n",
       "3      e64fb393e7b32834bb789ff8bb30750e  658677c97b385a9be170737859d3511b   \n",
       "4      f7c4243c7fe1938f181bec41a392bdeb  8e6bfb81e283fa7e4f11123a3fb894f1   \n",
       "...                                 ...                               ...   \n",
       "99219  574ed12dd733e5fa530cfd4bbf39d7c9  2a8c23fee101d4d5662fa670396eb8da   \n",
       "99220  f3897127253a9592a73be9bdfdf4ed7a  22ec9f0669f784db00fa86d035cf8602   \n",
       "99221  b3de70c89b1510c4cd3d0649fd302472  55d4004744368f5571d1f590031933e4   \n",
       "99222  1adeb9d84d72fe4e337617733eb85149  7725825d039fc1f0ceb7635e3f7d9206   \n",
       "99223  efe49f1d6f951dd88b51e6ccd4cc548f  90531360ecb1eec2a1fbb265a0db0508   \n",
       "\n",
       "       review_score review_comment_title  \\\n",
       "0                 4                  NaN   \n",
       "1                 5                  NaN   \n",
       "2                 5                  NaN   \n",
       "3                 5                  NaN   \n",
       "4                 5                  NaN   \n",
       "...             ...                  ...   \n",
       "99219             5                  NaN   \n",
       "99220             5                  NaN   \n",
       "99221             5                  NaN   \n",
       "99222             4                  NaN   \n",
       "99223             1                  NaN   \n",
       "\n",
       "                                  review_comment_message review_creation_date  \\\n",
       "0                                                    NaN           2018-01-18   \n",
       "1                                                    NaN           2018-03-10   \n",
       "2                                                    NaN           2018-02-17   \n",
       "3                  Recebi bem antes do prazo estipulado.           2017-04-21   \n",
       "4      Parabéns lojas lannister adorei comprar pela I...           2018-03-01   \n",
       "...                                                  ...                  ...   \n",
       "99219                                                NaN           2018-07-07   \n",
       "99220                                                NaN           2017-12-09   \n",
       "99221  Excelente mochila, entrega super rápida. Super...           2018-03-22   \n",
       "99222                                                NaN           2018-07-01   \n",
       "99223  meu produto chegou e ja tenho que devolver, po...           2017-07-03   \n",
       "\n",
       "      review_answer_timestamp  \n",
       "0         2018-01-18 21:46:59  \n",
       "1         2018-03-11 03:05:13  \n",
       "2         2018-02-18 14:36:24  \n",
       "3         2017-04-21 22:02:06  \n",
       "4         2018-03-02 10:26:53  \n",
       "...                       ...  \n",
       "99219     2018-07-14 17:18:30  \n",
       "99220     2017-12-11 20:06:42  \n",
       "99221     2018-03-23 09:10:43  \n",
       "99222     2018-07-02 12:59:13  \n",
       "99223     2017-07-03 21:01:49  \n",
       "\n",
       "[99224 rows x 7 columns]"
      ]
     },
     "execution_count": 144,
     "metadata": {},
     "output_type": "execute_result"
    }
   ],
   "source": [
    "df"
   ]
  },
  {
   "cell_type": "markdown",
   "id": "cab63af6",
   "metadata": {},
   "source": [
    "i can do one thing that.....> instead of keeping nan values i can just write no review ...that will be good"
   ]
  },
  {
   "cell_type": "code",
   "execution_count": 145,
   "id": "23797d7d",
   "metadata": {},
   "outputs": [
    {
     "name": "stderr",
     "output_type": "stream",
     "text": [
      "C:\\Users\\rs573\\AppData\\Local\\Temp\\ipykernel_3304\\601104996.py:1: FutureWarning: A value is trying to be set on a copy of a DataFrame or Series through chained assignment using an inplace method.\n",
      "The behavior will change in pandas 3.0. This inplace method will never work because the intermediate object on which we are setting values always behaves as a copy.\n",
      "\n",
      "For example, when doing 'df[col].method(value, inplace=True)', try using 'df.method({col: value}, inplace=True)' or df[col] = df[col].method(value) instead, to perform the operation inplace on the original object.\n",
      "\n",
      "\n",
      "  df['review_comment_title'].fillna('No Review', inplace=True)\n",
      "C:\\Users\\rs573\\AppData\\Local\\Temp\\ipykernel_3304\\601104996.py:2: FutureWarning: A value is trying to be set on a copy of a DataFrame or Series through chained assignment using an inplace method.\n",
      "The behavior will change in pandas 3.0. This inplace method will never work because the intermediate object on which we are setting values always behaves as a copy.\n",
      "\n",
      "For example, when doing 'df[col].method(value, inplace=True)', try using 'df.method({col: value}, inplace=True)' or df[col] = df[col].method(value) instead, to perform the operation inplace on the original object.\n",
      "\n",
      "\n",
      "  df['review_comment_message'].fillna('No Review', inplace=True)\n"
     ]
    }
   ],
   "source": [
    "df['review_comment_title'].fillna('No Review', inplace=True)\n",
    "df['review_comment_message'].fillna('No Review', inplace=True)\n"
   ]
  },
  {
   "cell_type": "code",
   "execution_count": 146,
   "id": "0d52922a",
   "metadata": {},
   "outputs": [
    {
     "data": {
      "application/vnd.microsoft.datawrangler.viewer.v0+json": {
       "columns": [
        {
         "name": "index",
         "rawType": "int64",
         "type": "integer"
        },
        {
         "name": "review_id",
         "rawType": "object",
         "type": "string"
        },
        {
         "name": "order_id",
         "rawType": "object",
         "type": "string"
        },
        {
         "name": "review_score",
         "rawType": "int64",
         "type": "integer"
        },
        {
         "name": "review_comment_title",
         "rawType": "object",
         "type": "string"
        },
        {
         "name": "review_comment_message",
         "rawType": "object",
         "type": "string"
        },
        {
         "name": "review_creation_date",
         "rawType": "datetime64[ns]",
         "type": "datetime"
        },
        {
         "name": "review_answer_timestamp",
         "rawType": "datetime64[ns]",
         "type": "datetime"
        }
       ],
       "ref": "56af9999-1072-4407-a769-795a28e79673",
       "rows": [
        [
         "0",
         "7bc2406110b926393aa56f80a40eba40",
         "73fc7af87114b39712e6da79b0a377eb",
         "4",
         "No Review",
         "No Review",
         "2018-01-18 00:00:00",
         "2018-01-18 21:46:59"
        ],
        [
         "1",
         "80e641a11e56f04c1ad469d5645fdfde",
         "a548910a1c6147796b98fdf73dbeba33",
         "5",
         "No Review",
         "No Review",
         "2018-03-10 00:00:00",
         "2018-03-11 03:05:13"
        ],
        [
         "2",
         "228ce5500dc1d8e020d8d1322874b6f0",
         "f9e4b658b201a9f2ecdecbb34bed034b",
         "5",
         "No Review",
         "No Review",
         "2018-02-17 00:00:00",
         "2018-02-18 14:36:24"
        ],
        [
         "3",
         "e64fb393e7b32834bb789ff8bb30750e",
         "658677c97b385a9be170737859d3511b",
         "5",
         "No Review",
         "Recebi bem antes do prazo estipulado.",
         "2017-04-21 00:00:00",
         "2017-04-21 22:02:06"
        ],
        [
         "4",
         "f7c4243c7fe1938f181bec41a392bdeb",
         "8e6bfb81e283fa7e4f11123a3fb894f1",
         "5",
         "No Review",
         "Parabéns lojas lannister adorei comprar pela Internet seguro e prático Parabéns a todos feliz Páscoa",
         "2018-03-01 00:00:00",
         "2018-03-02 10:26:53"
        ],
        [
         "5",
         "15197aa66ff4d0650b5434f1b46cda19",
         "b18dcdf73be66366873cd26c5724d1dc",
         "1",
         "No Review",
         "No Review",
         "2018-04-13 00:00:00",
         "2018-04-16 00:39:37"
        ],
        [
         "6",
         "07f9bee5d1b850860defd761afa7ff16",
         "e48aa0d2dcec3a2e87348811bcfdf22b",
         "5",
         "No Review",
         "No Review",
         "2017-07-16 00:00:00",
         "2017-07-18 19:30:34"
        ],
        [
         "7",
         "7c6400515c67679fbee952a7525281ef",
         "c31a859e34e3adac22f376954e19b39d",
         "5",
         "No Review",
         "No Review",
         "2018-08-14 00:00:00",
         "2018-08-14 21:36:06"
        ],
        [
         "8",
         "a3f6f7f6f433de0aefbb97da197c554c",
         "9c214ac970e84273583ab523dfafd09b",
         "5",
         "No Review",
         "No Review",
         "2017-05-17 00:00:00",
         "2017-05-18 12:05:37"
        ],
        [
         "9",
         "8670d52e15e00043ae7de4c01cc2fe06",
         "b9bf720beb4ab3728760088589c62129",
         "4",
         "recomendo",
         "aparelho eficiente. no site a marca do aparelho esta impresso como 3desinfector e ao chegar esta com outro nome...atualizar com a marca correta uma vez que é o mesmo aparelho",
         "2018-05-22 00:00:00",
         "2018-05-23 16:45:47"
        ],
        [
         "10",
         "c9cfd2d5ab5911836ababae136c3a10c",
         "cdf9aa68e72324eeb25c7de974696ee2",
         "5",
         "No Review",
         "No Review",
         "2017-12-23 00:00:00",
         "2017-12-26 14:36:03"
        ],
        [
         "11",
         "96052551d87e5f62e6c9f6974ec392e9",
         "3d374c9e46530bb5ed4a7648915306a6",
         "5",
         "No Review",
         "No Review",
         "2017-12-19 00:00:00",
         "2017-12-20 10:25:22"
        ],
        [
         "12",
         "4b49719c8a200003f700d3d986ea1a19",
         "9d6f15f95d01e79bd1349cc208361f09",
         "4",
         "No Review",
         "Mas um pouco ,travando...pelo valor ta Boa.\r\n",
         "2018-02-16 00:00:00",
         "2018-02-20 10:52:22"
        ],
        [
         "13",
         "23f75a37effc35d9a915b4e1ad483793",
         "2eaf8e099d871cd5c22b83b5ea8f6e0e",
         "4",
         "No Review",
         "No Review",
         "2018-03-28 00:00:00",
         "2018-03-30 15:10:55"
        ],
        [
         "14",
         "9a0abbb668bafb95a6d2b05db43284c4",
         "d7bd0e4afdf94846eb73642b4e3e75c3",
         "3",
         "No Review",
         "No Review",
         "2017-04-30 00:00:00",
         "2017-05-03 00:02:22"
        ],
        [
         "15",
         "3948b09f7c818e2d86c9a546758b2335",
         "e51478e7e277a83743b6f9991dbfa3fb",
         "5",
         "Super recomendo",
         "Vendedor confiável, produto ok e entrega antes do prazo.",
         "2018-05-23 00:00:00",
         "2018-05-24 03:00:01"
        ],
        [
         "16",
         "9314d6f9799f5bfba510cc7bcd468c01",
         "0dacf04c5ad59fd5a0cc1faa07c34e39",
         "2",
         "No Review",
         "GOSTARIA DE SABER O QUE HOUVE, SEMPRE RECEBI E ESSA COMPRA AGORA ME DECPCIONOU",
         "2018-01-18 00:00:00",
         "2018-01-20 21:25:45"
        ],
        [
         "17",
         "8e15a274d95600fa14f8be64e37a0e67",
         "ff1581e08b3011021e7c7de592ddc81e",
         "5",
         "No Review",
         "No Review",
         "2018-03-24 00:00:00",
         "2018-03-26 15:58:32"
        ],
        [
         "18",
         "fdbdb2629a7cde0f66657acc92084e7f",
         "70a752414a13d09cc1f2b437b914b28e",
         "3",
         "No Review",
         "No Review",
         "2017-09-29 00:00:00",
         "2017-10-02 01:12:49"
        ],
        [
         "19",
         "373cbeecea8286a2b66c97b1b157ec46",
         "583174fbe37d3d5f0d6661be3aad1786",
         "1",
         "Não chegou meu produto ",
         "Péssimo",
         "2018-08-15 00:00:00",
         "2018-08-15 04:10:37"
        ],
        [
         "20",
         "a2ff510ca4e059c3fefc7a7866571f6f",
         "a9953b2f0b1665ac7586cc5a6ac8f58c",
         "4",
         "No Review",
         "No Review",
         "2017-10-06 00:00:00",
         "2017-10-08 22:36:05"
        ],
        [
         "21",
         "80c70bc263881ba6525f6cee1d94ac87",
         "ae168dfba236919411fe08f336fefa44",
         "5",
         "No Review",
         "No Review",
         "2018-03-17 00:00:00",
         "2018-04-04 19:41:11"
        ],
        [
         "22",
         "d21bbc789670eab777d27372ab9094cc",
         "4fc44d78867142c627497b60a7e0228a",
         "5",
         "Ótimo",
         "Loja nota 10",
         "2018-07-10 00:00:00",
         "2018-07-11 14:10:25"
        ],
        [
         "23",
         "7bcb3c758c67f23638262c731493e848",
         "7c9956750739a47dba7a6928ba2f0245",
         "5",
         "No Review",
         "No Review",
         "2017-09-09 00:00:00",
         "2017-10-17 02:25:47"
        ],
        [
         "24",
         "0e0190b9db53b689b285d3f3916f8441",
         "79832b7cb59ac6f887088ffd686e1d5e",
         "5",
         "No Review",
         "obrigado pela atençao amim dispensada",
         "2017-12-01 00:00:00",
         "2017-12-09 22:58:58"
        ],
        [
         "25",
         "66e4430c5bc6b7e3773886bf1c14d912",
         "84cec4f65c7a4f2f54c294a30224a594",
         "5",
         "No Review",
         "No Review",
         "2017-06-23 00:00:00",
         "2017-06-27 00:52:02"
        ],
        [
         "26",
         "bf566b3910c328733baf7fca7d2be041",
         "a59a15e4b6085c752d338431dc68d464",
         "4",
         "No Review",
         "No Review",
         "2017-11-01 00:00:00",
         "2017-11-01 20:25:30"
        ],
        [
         "27",
         "fe3db7c069d694bab50cc43463f91608",
         "2ca73e2ff9e3a186ad1e1ffb9b1d9c10",
         "5",
         "No Review",
         "A compra foi realizada facilmente.\r\nA entrega foi efetuada muito antes do prazo dado.\r\nO produto já começou a ser usado e até o presente,\r\nsem problemas.",
         "2018-03-23 00:00:00",
         "2018-04-01 00:27:51"
        ],
        [
         "28",
         "e07eee7ad7666276bd8b27fbd83fd1ff",
         "68b3cbc68e4cd1fe19bec35f1d3bb7ee",
         "5",
         "No Review",
         "relógio muito bonito e barato.",
         "2018-03-29 00:00:00",
         "2018-04-02 14:19:31"
        ],
        [
         "29",
         "2c5e27fc178bde7ac173c9c62c31b070",
         "0ce9a24111d850192a933fcaab6fbad3",
         "1",
         "No Review",
         "Não gostei ! Comprei gato por lebre",
         "2017-12-13 00:00:00",
         "2017-12-16 07:14:07"
        ],
        [
         "30",
         "540e7bbb2d06cfb7f85f3a88ba7ac97f",
         "cf73e2cb1f4a9480ed70c154da3d954a",
         "5",
         "No Review",
         "No Review",
         "2018-01-18 00:00:00",
         "2018-01-18 19:12:30"
        ],
        [
         "31",
         "6a18a4001ae7fd911b3b9fb13686d105",
         "8ba3f3a9292fbc22a8b7dff752bbcd37",
         "5",
         "No Review",
         "No Review",
         "2017-07-19 00:00:00",
         "2017-07-20 10:38:48"
        ],
        [
         "32",
         "58044bca115705a48fe0e00a21390c54",
         "68e55ca79d04a79f20d4bfc0146f4b66",
         "1",
         "No Review",
         "Sempre compro pela Internet e a entrega ocorre antes do prazo combinado, que acredito ser o prazo máximo. No stark o prazo máximo já se esgotou e ainda não recebi o produto.",
         "2018-04-08 00:00:00",
         "2018-04-09 12:22:39"
        ],
        [
         "33",
         "19a52a2297e5289ab4187d238d335982",
         "677c865b89aa97e7dbeb4bfbb50bbcfd",
         "5",
         "No Review",
         "No Review",
         "2018-08-25 00:00:00",
         "2018-08-26 22:02:59"
        ],
        [
         "34",
         "c92cdd7dd544a01aa35137f901669cdf",
         "37e7875cdce5a9e5b3a692971f370151",
         "4",
         "Muito bom.",
         "Recebi exatamente o que esperava. As demais encomendas de outros vendedores atrasaram, mas esta chegou no prazo.",
         "2018-06-07 00:00:00",
         "2018-06-09 18:44:02"
        ],
        [
         "35",
         "c0f4c8301f8c29d6f53d239e194bb4c2",
         "04db86e3493b3724ac4bd3c9a397e23c",
         "5",
         "No Review",
         "No Review",
         "2017-09-12 00:00:00",
         "2017-09-13 14:33:49"
        ],
        [
         "36",
         "08c9d79ec0eba1d252e3f52f14b8e6a9",
         "e029f708df3cc108b3264558771605c6",
         "5",
         "Bom",
         "Recomendo ,",
         "2018-06-13 00:00:00",
         "2018-06-13 22:54:44"
        ],
        [
         "37",
         "2170c9452c2216457b36003fe2969fbb",
         "af32671d0b8ce510a94d9111d97371d3",
         "5",
         "No Review",
         "muito boa ",
         "2018-03-22 00:00:00",
         "2018-03-30 23:37:25"
        ],
        [
         "38",
         "b193ff3c9f32a01f3a0d9ae26b94d244",
         "e2e6ee1ed2d7f2f36b05d234983bd7a0",
         "5",
         "Maravilhoso!",
         "Tô completamente apaixonada, loja super responsável e confiável!",
         "2018-08-10 00:00:00",
         "2018-08-11 00:22:13"
        ],
        [
         "39",
         "9fd59cd04b42f600df9f25e54082a8d1",
         "3c314f50bc654f3c4e317b055681dff9",
         "1",
         "No Review",
         "Nada de chegar o meu pedido.",
         "2017-04-21 00:00:00",
         "2017-04-23 05:37:03"
        ],
        [
         "40",
         "ab3056e4fb5a36df4b58c1746e4a6b8f",
         "aad1dcbe4c9fe2e3486e5e04c6649097",
         "2",
         "No Review",
         "No Review",
         "2018-05-13 00:00:00",
         "2018-05-14 16:29:15"
        ],
        [
         "41",
         "eb26c2bfb5030f57dcef30d3f111eb1e",
         "88096595631e8d26b658306256e3ce34",
         "1",
         "No Review",
         "No Review",
         "2018-02-08 00:00:00",
         "2018-02-10 04:28:43"
        ],
        [
         "42",
         "caf7d6d68090fedf0f47b27aff4b4eaf",
         "c186ebe3937470a2f562a2dc0bc74dd7",
         "5",
         "No Review",
         "No Review",
         "2017-12-05 00:00:00",
         "2017-12-07 23:34:56"
        ],
        [
         "43",
         "86c5cfa7fcbde303f704b60a78ced7d6",
         "a6456e781cb962cc3f412b04de4fed7b",
         "5",
         "Entrega perfeita",
         "Muito bom. muito cheiroso.",
         "2018-06-13 00:00:00",
         "2018-06-14 17:29:03"
        ],
        [
         "44",
         "6f3eb43ec2f5092cf04c8d705864a8ac",
         "f3a9c397a2fa5a2366b4b96bc15737f6",
         "5",
         "No Review",
         "No Review",
         "2018-03-11 00:00:00",
         "2018-03-14 00:38:50"
        ],
        [
         "45",
         "3dc0777d97733a1d066f5b781e91577f",
         "44a9994228432b835c3a4e720b6a41ab",
         "4",
         "No Review",
         "No Review",
         "2018-03-29 00:00:00",
         "2018-03-31 00:13:07"
        ],
        [
         "46",
         "e363a3c172db72d6a8b82d0726cd2ddb",
         "1a36784e5c696071dad8a242f26b230f",
         "5",
         "No Review",
         "No Review",
         "2018-01-25 00:00:00",
         "2018-02-18 23:03:20"
        ],
        [
         "47",
         "890ec1767be8eb104877db6d68eaade5",
         "b3271f5ebce80cbecb67c5b88487a44a",
         "5",
         "No Review",
         "otimo vendedor chegou ate antes do prazo , adorei o produto",
         "2017-05-13 00:00:00",
         "2017-05-14 02:57:19"
        ],
        [
         "48",
         "23f570a1b0db9566bee04521a0410c54",
         "82c5edeff15e09a0460d292874766132",
         "5",
         "No Review",
         "No Review",
         "2017-09-22 00:00:00",
         "2017-09-23 13:57:39"
        ],
        [
         "49",
         "7d9ac3e98adc0c8ad579e6a2257d79f9",
         "dfa48852c93427261c98fb2e01f33bea",
         "5",
         "No Review",
         "Processo de compra tranquilo e eficiente.",
         "2018-04-24 00:00:00",
         "2018-04-25 16:01:03"
        ]
       ],
       "shape": {
        "columns": 7,
        "rows": 99224
       }
      },
      "text/html": [
       "<div>\n",
       "<style scoped>\n",
       "    .dataframe tbody tr th:only-of-type {\n",
       "        vertical-align: middle;\n",
       "    }\n",
       "\n",
       "    .dataframe tbody tr th {\n",
       "        vertical-align: top;\n",
       "    }\n",
       "\n",
       "    .dataframe thead th {\n",
       "        text-align: right;\n",
       "    }\n",
       "</style>\n",
       "<table border=\"1\" class=\"dataframe\">\n",
       "  <thead>\n",
       "    <tr style=\"text-align: right;\">\n",
       "      <th></th>\n",
       "      <th>review_id</th>\n",
       "      <th>order_id</th>\n",
       "      <th>review_score</th>\n",
       "      <th>review_comment_title</th>\n",
       "      <th>review_comment_message</th>\n",
       "      <th>review_creation_date</th>\n",
       "      <th>review_answer_timestamp</th>\n",
       "    </tr>\n",
       "  </thead>\n",
       "  <tbody>\n",
       "    <tr>\n",
       "      <th>0</th>\n",
       "      <td>7bc2406110b926393aa56f80a40eba40</td>\n",
       "      <td>73fc7af87114b39712e6da79b0a377eb</td>\n",
       "      <td>4</td>\n",
       "      <td>No Review</td>\n",
       "      <td>No Review</td>\n",
       "      <td>2018-01-18</td>\n",
       "      <td>2018-01-18 21:46:59</td>\n",
       "    </tr>\n",
       "    <tr>\n",
       "      <th>1</th>\n",
       "      <td>80e641a11e56f04c1ad469d5645fdfde</td>\n",
       "      <td>a548910a1c6147796b98fdf73dbeba33</td>\n",
       "      <td>5</td>\n",
       "      <td>No Review</td>\n",
       "      <td>No Review</td>\n",
       "      <td>2018-03-10</td>\n",
       "      <td>2018-03-11 03:05:13</td>\n",
       "    </tr>\n",
       "    <tr>\n",
       "      <th>2</th>\n",
       "      <td>228ce5500dc1d8e020d8d1322874b6f0</td>\n",
       "      <td>f9e4b658b201a9f2ecdecbb34bed034b</td>\n",
       "      <td>5</td>\n",
       "      <td>No Review</td>\n",
       "      <td>No Review</td>\n",
       "      <td>2018-02-17</td>\n",
       "      <td>2018-02-18 14:36:24</td>\n",
       "    </tr>\n",
       "    <tr>\n",
       "      <th>3</th>\n",
       "      <td>e64fb393e7b32834bb789ff8bb30750e</td>\n",
       "      <td>658677c97b385a9be170737859d3511b</td>\n",
       "      <td>5</td>\n",
       "      <td>No Review</td>\n",
       "      <td>Recebi bem antes do prazo estipulado.</td>\n",
       "      <td>2017-04-21</td>\n",
       "      <td>2017-04-21 22:02:06</td>\n",
       "    </tr>\n",
       "    <tr>\n",
       "      <th>4</th>\n",
       "      <td>f7c4243c7fe1938f181bec41a392bdeb</td>\n",
       "      <td>8e6bfb81e283fa7e4f11123a3fb894f1</td>\n",
       "      <td>5</td>\n",
       "      <td>No Review</td>\n",
       "      <td>Parabéns lojas lannister adorei comprar pela I...</td>\n",
       "      <td>2018-03-01</td>\n",
       "      <td>2018-03-02 10:26:53</td>\n",
       "    </tr>\n",
       "    <tr>\n",
       "      <th>...</th>\n",
       "      <td>...</td>\n",
       "      <td>...</td>\n",
       "      <td>...</td>\n",
       "      <td>...</td>\n",
       "      <td>...</td>\n",
       "      <td>...</td>\n",
       "      <td>...</td>\n",
       "    </tr>\n",
       "    <tr>\n",
       "      <th>99219</th>\n",
       "      <td>574ed12dd733e5fa530cfd4bbf39d7c9</td>\n",
       "      <td>2a8c23fee101d4d5662fa670396eb8da</td>\n",
       "      <td>5</td>\n",
       "      <td>No Review</td>\n",
       "      <td>No Review</td>\n",
       "      <td>2018-07-07</td>\n",
       "      <td>2018-07-14 17:18:30</td>\n",
       "    </tr>\n",
       "    <tr>\n",
       "      <th>99220</th>\n",
       "      <td>f3897127253a9592a73be9bdfdf4ed7a</td>\n",
       "      <td>22ec9f0669f784db00fa86d035cf8602</td>\n",
       "      <td>5</td>\n",
       "      <td>No Review</td>\n",
       "      <td>No Review</td>\n",
       "      <td>2017-12-09</td>\n",
       "      <td>2017-12-11 20:06:42</td>\n",
       "    </tr>\n",
       "    <tr>\n",
       "      <th>99221</th>\n",
       "      <td>b3de70c89b1510c4cd3d0649fd302472</td>\n",
       "      <td>55d4004744368f5571d1f590031933e4</td>\n",
       "      <td>5</td>\n",
       "      <td>No Review</td>\n",
       "      <td>Excelente mochila, entrega super rápida. Super...</td>\n",
       "      <td>2018-03-22</td>\n",
       "      <td>2018-03-23 09:10:43</td>\n",
       "    </tr>\n",
       "    <tr>\n",
       "      <th>99222</th>\n",
       "      <td>1adeb9d84d72fe4e337617733eb85149</td>\n",
       "      <td>7725825d039fc1f0ceb7635e3f7d9206</td>\n",
       "      <td>4</td>\n",
       "      <td>No Review</td>\n",
       "      <td>No Review</td>\n",
       "      <td>2018-07-01</td>\n",
       "      <td>2018-07-02 12:59:13</td>\n",
       "    </tr>\n",
       "    <tr>\n",
       "      <th>99223</th>\n",
       "      <td>efe49f1d6f951dd88b51e6ccd4cc548f</td>\n",
       "      <td>90531360ecb1eec2a1fbb265a0db0508</td>\n",
       "      <td>1</td>\n",
       "      <td>No Review</td>\n",
       "      <td>meu produto chegou e ja tenho que devolver, po...</td>\n",
       "      <td>2017-07-03</td>\n",
       "      <td>2017-07-03 21:01:49</td>\n",
       "    </tr>\n",
       "  </tbody>\n",
       "</table>\n",
       "<p>99224 rows × 7 columns</p>\n",
       "</div>"
      ],
      "text/plain": [
       "                              review_id                          order_id  \\\n",
       "0      7bc2406110b926393aa56f80a40eba40  73fc7af87114b39712e6da79b0a377eb   \n",
       "1      80e641a11e56f04c1ad469d5645fdfde  a548910a1c6147796b98fdf73dbeba33   \n",
       "2      228ce5500dc1d8e020d8d1322874b6f0  f9e4b658b201a9f2ecdecbb34bed034b   \n",
       "3      e64fb393e7b32834bb789ff8bb30750e  658677c97b385a9be170737859d3511b   \n",
       "4      f7c4243c7fe1938f181bec41a392bdeb  8e6bfb81e283fa7e4f11123a3fb894f1   \n",
       "...                                 ...                               ...   \n",
       "99219  574ed12dd733e5fa530cfd4bbf39d7c9  2a8c23fee101d4d5662fa670396eb8da   \n",
       "99220  f3897127253a9592a73be9bdfdf4ed7a  22ec9f0669f784db00fa86d035cf8602   \n",
       "99221  b3de70c89b1510c4cd3d0649fd302472  55d4004744368f5571d1f590031933e4   \n",
       "99222  1adeb9d84d72fe4e337617733eb85149  7725825d039fc1f0ceb7635e3f7d9206   \n",
       "99223  efe49f1d6f951dd88b51e6ccd4cc548f  90531360ecb1eec2a1fbb265a0db0508   \n",
       "\n",
       "       review_score review_comment_title  \\\n",
       "0                 4            No Review   \n",
       "1                 5            No Review   \n",
       "2                 5            No Review   \n",
       "3                 5            No Review   \n",
       "4                 5            No Review   \n",
       "...             ...                  ...   \n",
       "99219             5            No Review   \n",
       "99220             5            No Review   \n",
       "99221             5            No Review   \n",
       "99222             4            No Review   \n",
       "99223             1            No Review   \n",
       "\n",
       "                                  review_comment_message review_creation_date  \\\n",
       "0                                              No Review           2018-01-18   \n",
       "1                                              No Review           2018-03-10   \n",
       "2                                              No Review           2018-02-17   \n",
       "3                  Recebi bem antes do prazo estipulado.           2017-04-21   \n",
       "4      Parabéns lojas lannister adorei comprar pela I...           2018-03-01   \n",
       "...                                                  ...                  ...   \n",
       "99219                                          No Review           2018-07-07   \n",
       "99220                                          No Review           2017-12-09   \n",
       "99221  Excelente mochila, entrega super rápida. Super...           2018-03-22   \n",
       "99222                                          No Review           2018-07-01   \n",
       "99223  meu produto chegou e ja tenho que devolver, po...           2017-07-03   \n",
       "\n",
       "      review_answer_timestamp  \n",
       "0         2018-01-18 21:46:59  \n",
       "1         2018-03-11 03:05:13  \n",
       "2         2018-02-18 14:36:24  \n",
       "3         2017-04-21 22:02:06  \n",
       "4         2018-03-02 10:26:53  \n",
       "...                       ...  \n",
       "99219     2018-07-14 17:18:30  \n",
       "99220     2017-12-11 20:06:42  \n",
       "99221     2018-03-23 09:10:43  \n",
       "99222     2018-07-02 12:59:13  \n",
       "99223     2017-07-03 21:01:49  \n",
       "\n",
       "[99224 rows x 7 columns]"
      ]
     },
     "execution_count": 146,
     "metadata": {},
     "output_type": "execute_result"
    }
   ],
   "source": [
    "df"
   ]
  },
  {
   "cell_type": "code",
   "execution_count": 147,
   "id": "030e3490",
   "metadata": {},
   "outputs": [
    {
     "data": {
      "text/plain": [
       "dtype('int64')"
      ]
     },
     "execution_count": 147,
     "metadata": {},
     "output_type": "execute_result"
    }
   ],
   "source": [
    "#checking review_score column datatype\n",
    "df['review_score'].dtype"
   ]
  },
  {
   "cell_type": "markdown",
   "id": "b73542f9",
   "metadata": {},
   "source": [
    "SAVING THE FILE FINNALY"
   ]
  },
  {
   "cell_type": "code",
   "execution_count": 148,
   "id": "ef9835bd",
   "metadata": {},
   "outputs": [],
   "source": [
    "df.to_csv(r'C:\\DE\\csv files data\\Brazilian E-Commerce\\Cleanedolist_order_reviews_dataset.csv', index=False)"
   ]
  },
  {
   "cell_type": "code",
   "execution_count": 149,
   "id": "254fa653",
   "metadata": {},
   "outputs": [],
   "source": [
    "df2=pd.read_csv(r'C:\\DE\\csv files data\\Brazilian E-Commerce\\Cleanedolist_order_reviews_dataset.csv')"
   ]
  },
  {
   "cell_type": "code",
   "execution_count": 150,
   "id": "cf9abd56",
   "metadata": {},
   "outputs": [
    {
     "data": {
      "application/vnd.microsoft.datawrangler.viewer.v0+json": {
       "columns": [
        {
         "name": "index",
         "rawType": "int64",
         "type": "integer"
        },
        {
         "name": "review_id",
         "rawType": "object",
         "type": "string"
        },
        {
         "name": "order_id",
         "rawType": "object",
         "type": "string"
        },
        {
         "name": "review_score",
         "rawType": "int64",
         "type": "integer"
        },
        {
         "name": "review_comment_title",
         "rawType": "object",
         "type": "string"
        },
        {
         "name": "review_comment_message",
         "rawType": "object",
         "type": "string"
        },
        {
         "name": "review_creation_date",
         "rawType": "object",
         "type": "string"
        },
        {
         "name": "review_answer_timestamp",
         "rawType": "object",
         "type": "string"
        }
       ],
       "ref": "70dfb5ef-ff3e-4405-98b3-8d79d72e1e15",
       "rows": [
        [
         "0",
         "7bc2406110b926393aa56f80a40eba40",
         "73fc7af87114b39712e6da79b0a377eb",
         "4",
         "No Review",
         "No Review",
         "2018-01-18 00:00:00",
         "2018-01-18 21:46:59"
        ],
        [
         "1",
         "80e641a11e56f04c1ad469d5645fdfde",
         "a548910a1c6147796b98fdf73dbeba33",
         "5",
         "No Review",
         "No Review",
         "2018-03-10 00:00:00",
         "2018-03-11 03:05:13"
        ],
        [
         "2",
         "228ce5500dc1d8e020d8d1322874b6f0",
         "f9e4b658b201a9f2ecdecbb34bed034b",
         "5",
         "No Review",
         "No Review",
         "2018-02-17 00:00:00",
         "2018-02-18 14:36:24"
        ],
        [
         "3",
         "e64fb393e7b32834bb789ff8bb30750e",
         "658677c97b385a9be170737859d3511b",
         "5",
         "No Review",
         "Recebi bem antes do prazo estipulado.",
         "2017-04-21 00:00:00",
         "2017-04-21 22:02:06"
        ],
        [
         "4",
         "f7c4243c7fe1938f181bec41a392bdeb",
         "8e6bfb81e283fa7e4f11123a3fb894f1",
         "5",
         "No Review",
         "Parabéns lojas lannister adorei comprar pela Internet seguro e prático Parabéns a todos feliz Páscoa",
         "2018-03-01 00:00:00",
         "2018-03-02 10:26:53"
        ],
        [
         "5",
         "15197aa66ff4d0650b5434f1b46cda19",
         "b18dcdf73be66366873cd26c5724d1dc",
         "1",
         "No Review",
         "No Review",
         "2018-04-13 00:00:00",
         "2018-04-16 00:39:37"
        ],
        [
         "6",
         "07f9bee5d1b850860defd761afa7ff16",
         "e48aa0d2dcec3a2e87348811bcfdf22b",
         "5",
         "No Review",
         "No Review",
         "2017-07-16 00:00:00",
         "2017-07-18 19:30:34"
        ],
        [
         "7",
         "7c6400515c67679fbee952a7525281ef",
         "c31a859e34e3adac22f376954e19b39d",
         "5",
         "No Review",
         "No Review",
         "2018-08-14 00:00:00",
         "2018-08-14 21:36:06"
        ],
        [
         "8",
         "a3f6f7f6f433de0aefbb97da197c554c",
         "9c214ac970e84273583ab523dfafd09b",
         "5",
         "No Review",
         "No Review",
         "2017-05-17 00:00:00",
         "2017-05-18 12:05:37"
        ],
        [
         "9",
         "8670d52e15e00043ae7de4c01cc2fe06",
         "b9bf720beb4ab3728760088589c62129",
         "4",
         "recomendo",
         "aparelho eficiente. no site a marca do aparelho esta impresso como 3desinfector e ao chegar esta com outro nome...atualizar com a marca correta uma vez que é o mesmo aparelho",
         "2018-05-22 00:00:00",
         "2018-05-23 16:45:47"
        ],
        [
         "10",
         "c9cfd2d5ab5911836ababae136c3a10c",
         "cdf9aa68e72324eeb25c7de974696ee2",
         "5",
         "No Review",
         "No Review",
         "2017-12-23 00:00:00",
         "2017-12-26 14:36:03"
        ],
        [
         "11",
         "96052551d87e5f62e6c9f6974ec392e9",
         "3d374c9e46530bb5ed4a7648915306a6",
         "5",
         "No Review",
         "No Review",
         "2017-12-19 00:00:00",
         "2017-12-20 10:25:22"
        ],
        [
         "12",
         "4b49719c8a200003f700d3d986ea1a19",
         "9d6f15f95d01e79bd1349cc208361f09",
         "4",
         "No Review",
         "Mas um pouco ,travando...pelo valor ta Boa.\r\n",
         "2018-02-16 00:00:00",
         "2018-02-20 10:52:22"
        ],
        [
         "13",
         "23f75a37effc35d9a915b4e1ad483793",
         "2eaf8e099d871cd5c22b83b5ea8f6e0e",
         "4",
         "No Review",
         "No Review",
         "2018-03-28 00:00:00",
         "2018-03-30 15:10:55"
        ],
        [
         "14",
         "9a0abbb668bafb95a6d2b05db43284c4",
         "d7bd0e4afdf94846eb73642b4e3e75c3",
         "3",
         "No Review",
         "No Review",
         "2017-04-30 00:00:00",
         "2017-05-03 00:02:22"
        ],
        [
         "15",
         "3948b09f7c818e2d86c9a546758b2335",
         "e51478e7e277a83743b6f9991dbfa3fb",
         "5",
         "Super recomendo",
         "Vendedor confiável, produto ok e entrega antes do prazo.",
         "2018-05-23 00:00:00",
         "2018-05-24 03:00:01"
        ],
        [
         "16",
         "9314d6f9799f5bfba510cc7bcd468c01",
         "0dacf04c5ad59fd5a0cc1faa07c34e39",
         "2",
         "No Review",
         "GOSTARIA DE SABER O QUE HOUVE, SEMPRE RECEBI E ESSA COMPRA AGORA ME DECPCIONOU",
         "2018-01-18 00:00:00",
         "2018-01-20 21:25:45"
        ],
        [
         "17",
         "8e15a274d95600fa14f8be64e37a0e67",
         "ff1581e08b3011021e7c7de592ddc81e",
         "5",
         "No Review",
         "No Review",
         "2018-03-24 00:00:00",
         "2018-03-26 15:58:32"
        ],
        [
         "18",
         "fdbdb2629a7cde0f66657acc92084e7f",
         "70a752414a13d09cc1f2b437b914b28e",
         "3",
         "No Review",
         "No Review",
         "2017-09-29 00:00:00",
         "2017-10-02 01:12:49"
        ],
        [
         "19",
         "373cbeecea8286a2b66c97b1b157ec46",
         "583174fbe37d3d5f0d6661be3aad1786",
         "1",
         "Não chegou meu produto ",
         "Péssimo",
         "2018-08-15 00:00:00",
         "2018-08-15 04:10:37"
        ],
        [
         "20",
         "a2ff510ca4e059c3fefc7a7866571f6f",
         "a9953b2f0b1665ac7586cc5a6ac8f58c",
         "4",
         "No Review",
         "No Review",
         "2017-10-06 00:00:00",
         "2017-10-08 22:36:05"
        ],
        [
         "21",
         "80c70bc263881ba6525f6cee1d94ac87",
         "ae168dfba236919411fe08f336fefa44",
         "5",
         "No Review",
         "No Review",
         "2018-03-17 00:00:00",
         "2018-04-04 19:41:11"
        ],
        [
         "22",
         "d21bbc789670eab777d27372ab9094cc",
         "4fc44d78867142c627497b60a7e0228a",
         "5",
         "Ótimo",
         "Loja nota 10",
         "2018-07-10 00:00:00",
         "2018-07-11 14:10:25"
        ],
        [
         "23",
         "7bcb3c758c67f23638262c731493e848",
         "7c9956750739a47dba7a6928ba2f0245",
         "5",
         "No Review",
         "No Review",
         "2017-09-09 00:00:00",
         "2017-10-17 02:25:47"
        ],
        [
         "24",
         "0e0190b9db53b689b285d3f3916f8441",
         "79832b7cb59ac6f887088ffd686e1d5e",
         "5",
         "No Review",
         "obrigado pela atençao amim dispensada",
         "2017-12-01 00:00:00",
         "2017-12-09 22:58:58"
        ],
        [
         "25",
         "66e4430c5bc6b7e3773886bf1c14d912",
         "84cec4f65c7a4f2f54c294a30224a594",
         "5",
         "No Review",
         "No Review",
         "2017-06-23 00:00:00",
         "2017-06-27 00:52:02"
        ],
        [
         "26",
         "bf566b3910c328733baf7fca7d2be041",
         "a59a15e4b6085c752d338431dc68d464",
         "4",
         "No Review",
         "No Review",
         "2017-11-01 00:00:00",
         "2017-11-01 20:25:30"
        ],
        [
         "27",
         "fe3db7c069d694bab50cc43463f91608",
         "2ca73e2ff9e3a186ad1e1ffb9b1d9c10",
         "5",
         "No Review",
         "A compra foi realizada facilmente.\r\nA entrega foi efetuada muito antes do prazo dado.\r\nO produto já começou a ser usado e até o presente,\r\nsem problemas.",
         "2018-03-23 00:00:00",
         "2018-04-01 00:27:51"
        ],
        [
         "28",
         "e07eee7ad7666276bd8b27fbd83fd1ff",
         "68b3cbc68e4cd1fe19bec35f1d3bb7ee",
         "5",
         "No Review",
         "relógio muito bonito e barato.",
         "2018-03-29 00:00:00",
         "2018-04-02 14:19:31"
        ],
        [
         "29",
         "2c5e27fc178bde7ac173c9c62c31b070",
         "0ce9a24111d850192a933fcaab6fbad3",
         "1",
         "No Review",
         "Não gostei ! Comprei gato por lebre",
         "2017-12-13 00:00:00",
         "2017-12-16 07:14:07"
        ],
        [
         "30",
         "540e7bbb2d06cfb7f85f3a88ba7ac97f",
         "cf73e2cb1f4a9480ed70c154da3d954a",
         "5",
         "No Review",
         "No Review",
         "2018-01-18 00:00:00",
         "2018-01-18 19:12:30"
        ],
        [
         "31",
         "6a18a4001ae7fd911b3b9fb13686d105",
         "8ba3f3a9292fbc22a8b7dff752bbcd37",
         "5",
         "No Review",
         "No Review",
         "2017-07-19 00:00:00",
         "2017-07-20 10:38:48"
        ],
        [
         "32",
         "58044bca115705a48fe0e00a21390c54",
         "68e55ca79d04a79f20d4bfc0146f4b66",
         "1",
         "No Review",
         "Sempre compro pela Internet e a entrega ocorre antes do prazo combinado, que acredito ser o prazo máximo. No stark o prazo máximo já se esgotou e ainda não recebi o produto.",
         "2018-04-08 00:00:00",
         "2018-04-09 12:22:39"
        ],
        [
         "33",
         "19a52a2297e5289ab4187d238d335982",
         "677c865b89aa97e7dbeb4bfbb50bbcfd",
         "5",
         "No Review",
         "No Review",
         "2018-08-25 00:00:00",
         "2018-08-26 22:02:59"
        ],
        [
         "34",
         "c92cdd7dd544a01aa35137f901669cdf",
         "37e7875cdce5a9e5b3a692971f370151",
         "4",
         "Muito bom.",
         "Recebi exatamente o que esperava. As demais encomendas de outros vendedores atrasaram, mas esta chegou no prazo.",
         "2018-06-07 00:00:00",
         "2018-06-09 18:44:02"
        ],
        [
         "35",
         "c0f4c8301f8c29d6f53d239e194bb4c2",
         "04db86e3493b3724ac4bd3c9a397e23c",
         "5",
         "No Review",
         "No Review",
         "2017-09-12 00:00:00",
         "2017-09-13 14:33:49"
        ],
        [
         "36",
         "08c9d79ec0eba1d252e3f52f14b8e6a9",
         "e029f708df3cc108b3264558771605c6",
         "5",
         "Bom",
         "Recomendo ,",
         "2018-06-13 00:00:00",
         "2018-06-13 22:54:44"
        ],
        [
         "37",
         "2170c9452c2216457b36003fe2969fbb",
         "af32671d0b8ce510a94d9111d97371d3",
         "5",
         "No Review",
         "muito boa ",
         "2018-03-22 00:00:00",
         "2018-03-30 23:37:25"
        ],
        [
         "38",
         "b193ff3c9f32a01f3a0d9ae26b94d244",
         "e2e6ee1ed2d7f2f36b05d234983bd7a0",
         "5",
         "Maravilhoso!",
         "Tô completamente apaixonada, loja super responsável e confiável!",
         "2018-08-10 00:00:00",
         "2018-08-11 00:22:13"
        ],
        [
         "39",
         "9fd59cd04b42f600df9f25e54082a8d1",
         "3c314f50bc654f3c4e317b055681dff9",
         "1",
         "No Review",
         "Nada de chegar o meu pedido.",
         "2017-04-21 00:00:00",
         "2017-04-23 05:37:03"
        ],
        [
         "40",
         "ab3056e4fb5a36df4b58c1746e4a6b8f",
         "aad1dcbe4c9fe2e3486e5e04c6649097",
         "2",
         "No Review",
         "No Review",
         "2018-05-13 00:00:00",
         "2018-05-14 16:29:15"
        ],
        [
         "41",
         "eb26c2bfb5030f57dcef30d3f111eb1e",
         "88096595631e8d26b658306256e3ce34",
         "1",
         "No Review",
         "No Review",
         "2018-02-08 00:00:00",
         "2018-02-10 04:28:43"
        ],
        [
         "42",
         "caf7d6d68090fedf0f47b27aff4b4eaf",
         "c186ebe3937470a2f562a2dc0bc74dd7",
         "5",
         "No Review",
         "No Review",
         "2017-12-05 00:00:00",
         "2017-12-07 23:34:56"
        ],
        [
         "43",
         "86c5cfa7fcbde303f704b60a78ced7d6",
         "a6456e781cb962cc3f412b04de4fed7b",
         "5",
         "Entrega perfeita",
         "Muito bom. muito cheiroso.",
         "2018-06-13 00:00:00",
         "2018-06-14 17:29:03"
        ],
        [
         "44",
         "6f3eb43ec2f5092cf04c8d705864a8ac",
         "f3a9c397a2fa5a2366b4b96bc15737f6",
         "5",
         "No Review",
         "No Review",
         "2018-03-11 00:00:00",
         "2018-03-14 00:38:50"
        ],
        [
         "45",
         "3dc0777d97733a1d066f5b781e91577f",
         "44a9994228432b835c3a4e720b6a41ab",
         "4",
         "No Review",
         "No Review",
         "2018-03-29 00:00:00",
         "2018-03-31 00:13:07"
        ],
        [
         "46",
         "e363a3c172db72d6a8b82d0726cd2ddb",
         "1a36784e5c696071dad8a242f26b230f",
         "5",
         "No Review",
         "No Review",
         "2018-01-25 00:00:00",
         "2018-02-18 23:03:20"
        ],
        [
         "47",
         "890ec1767be8eb104877db6d68eaade5",
         "b3271f5ebce80cbecb67c5b88487a44a",
         "5",
         "No Review",
         "otimo vendedor chegou ate antes do prazo , adorei o produto",
         "2017-05-13 00:00:00",
         "2017-05-14 02:57:19"
        ],
        [
         "48",
         "23f570a1b0db9566bee04521a0410c54",
         "82c5edeff15e09a0460d292874766132",
         "5",
         "No Review",
         "No Review",
         "2017-09-22 00:00:00",
         "2017-09-23 13:57:39"
        ],
        [
         "49",
         "7d9ac3e98adc0c8ad579e6a2257d79f9",
         "dfa48852c93427261c98fb2e01f33bea",
         "5",
         "No Review",
         "Processo de compra tranquilo e eficiente.",
         "2018-04-24 00:00:00",
         "2018-04-25 16:01:03"
        ]
       ],
       "shape": {
        "columns": 7,
        "rows": 99224
       }
      },
      "text/html": [
       "<div>\n",
       "<style scoped>\n",
       "    .dataframe tbody tr th:only-of-type {\n",
       "        vertical-align: middle;\n",
       "    }\n",
       "\n",
       "    .dataframe tbody tr th {\n",
       "        vertical-align: top;\n",
       "    }\n",
       "\n",
       "    .dataframe thead th {\n",
       "        text-align: right;\n",
       "    }\n",
       "</style>\n",
       "<table border=\"1\" class=\"dataframe\">\n",
       "  <thead>\n",
       "    <tr style=\"text-align: right;\">\n",
       "      <th></th>\n",
       "      <th>review_id</th>\n",
       "      <th>order_id</th>\n",
       "      <th>review_score</th>\n",
       "      <th>review_comment_title</th>\n",
       "      <th>review_comment_message</th>\n",
       "      <th>review_creation_date</th>\n",
       "      <th>review_answer_timestamp</th>\n",
       "    </tr>\n",
       "  </thead>\n",
       "  <tbody>\n",
       "    <tr>\n",
       "      <th>0</th>\n",
       "      <td>7bc2406110b926393aa56f80a40eba40</td>\n",
       "      <td>73fc7af87114b39712e6da79b0a377eb</td>\n",
       "      <td>4</td>\n",
       "      <td>No Review</td>\n",
       "      <td>No Review</td>\n",
       "      <td>2018-01-18 00:00:00</td>\n",
       "      <td>2018-01-18 21:46:59</td>\n",
       "    </tr>\n",
       "    <tr>\n",
       "      <th>1</th>\n",
       "      <td>80e641a11e56f04c1ad469d5645fdfde</td>\n",
       "      <td>a548910a1c6147796b98fdf73dbeba33</td>\n",
       "      <td>5</td>\n",
       "      <td>No Review</td>\n",
       "      <td>No Review</td>\n",
       "      <td>2018-03-10 00:00:00</td>\n",
       "      <td>2018-03-11 03:05:13</td>\n",
       "    </tr>\n",
       "    <tr>\n",
       "      <th>2</th>\n",
       "      <td>228ce5500dc1d8e020d8d1322874b6f0</td>\n",
       "      <td>f9e4b658b201a9f2ecdecbb34bed034b</td>\n",
       "      <td>5</td>\n",
       "      <td>No Review</td>\n",
       "      <td>No Review</td>\n",
       "      <td>2018-02-17 00:00:00</td>\n",
       "      <td>2018-02-18 14:36:24</td>\n",
       "    </tr>\n",
       "    <tr>\n",
       "      <th>3</th>\n",
       "      <td>e64fb393e7b32834bb789ff8bb30750e</td>\n",
       "      <td>658677c97b385a9be170737859d3511b</td>\n",
       "      <td>5</td>\n",
       "      <td>No Review</td>\n",
       "      <td>Recebi bem antes do prazo estipulado.</td>\n",
       "      <td>2017-04-21 00:00:00</td>\n",
       "      <td>2017-04-21 22:02:06</td>\n",
       "    </tr>\n",
       "    <tr>\n",
       "      <th>4</th>\n",
       "      <td>f7c4243c7fe1938f181bec41a392bdeb</td>\n",
       "      <td>8e6bfb81e283fa7e4f11123a3fb894f1</td>\n",
       "      <td>5</td>\n",
       "      <td>No Review</td>\n",
       "      <td>Parabéns lojas lannister adorei comprar pela I...</td>\n",
       "      <td>2018-03-01 00:00:00</td>\n",
       "      <td>2018-03-02 10:26:53</td>\n",
       "    </tr>\n",
       "    <tr>\n",
       "      <th>...</th>\n",
       "      <td>...</td>\n",
       "      <td>...</td>\n",
       "      <td>...</td>\n",
       "      <td>...</td>\n",
       "      <td>...</td>\n",
       "      <td>...</td>\n",
       "      <td>...</td>\n",
       "    </tr>\n",
       "    <tr>\n",
       "      <th>99219</th>\n",
       "      <td>574ed12dd733e5fa530cfd4bbf39d7c9</td>\n",
       "      <td>2a8c23fee101d4d5662fa670396eb8da</td>\n",
       "      <td>5</td>\n",
       "      <td>No Review</td>\n",
       "      <td>No Review</td>\n",
       "      <td>2018-07-07 00:00:00</td>\n",
       "      <td>2018-07-14 17:18:30</td>\n",
       "    </tr>\n",
       "    <tr>\n",
       "      <th>99220</th>\n",
       "      <td>f3897127253a9592a73be9bdfdf4ed7a</td>\n",
       "      <td>22ec9f0669f784db00fa86d035cf8602</td>\n",
       "      <td>5</td>\n",
       "      <td>No Review</td>\n",
       "      <td>No Review</td>\n",
       "      <td>2017-12-09 00:00:00</td>\n",
       "      <td>2017-12-11 20:06:42</td>\n",
       "    </tr>\n",
       "    <tr>\n",
       "      <th>99221</th>\n",
       "      <td>b3de70c89b1510c4cd3d0649fd302472</td>\n",
       "      <td>55d4004744368f5571d1f590031933e4</td>\n",
       "      <td>5</td>\n",
       "      <td>No Review</td>\n",
       "      <td>Excelente mochila, entrega super rápida. Super...</td>\n",
       "      <td>2018-03-22 00:00:00</td>\n",
       "      <td>2018-03-23 09:10:43</td>\n",
       "    </tr>\n",
       "    <tr>\n",
       "      <th>99222</th>\n",
       "      <td>1adeb9d84d72fe4e337617733eb85149</td>\n",
       "      <td>7725825d039fc1f0ceb7635e3f7d9206</td>\n",
       "      <td>4</td>\n",
       "      <td>No Review</td>\n",
       "      <td>No Review</td>\n",
       "      <td>2018-07-01 00:00:00</td>\n",
       "      <td>2018-07-02 12:59:13</td>\n",
       "    </tr>\n",
       "    <tr>\n",
       "      <th>99223</th>\n",
       "      <td>efe49f1d6f951dd88b51e6ccd4cc548f</td>\n",
       "      <td>90531360ecb1eec2a1fbb265a0db0508</td>\n",
       "      <td>1</td>\n",
       "      <td>No Review</td>\n",
       "      <td>meu produto chegou e ja tenho que devolver, po...</td>\n",
       "      <td>2017-07-03 00:00:00</td>\n",
       "      <td>2017-07-03 21:01:49</td>\n",
       "    </tr>\n",
       "  </tbody>\n",
       "</table>\n",
       "<p>99224 rows × 7 columns</p>\n",
       "</div>"
      ],
      "text/plain": [
       "                              review_id                          order_id  \\\n",
       "0      7bc2406110b926393aa56f80a40eba40  73fc7af87114b39712e6da79b0a377eb   \n",
       "1      80e641a11e56f04c1ad469d5645fdfde  a548910a1c6147796b98fdf73dbeba33   \n",
       "2      228ce5500dc1d8e020d8d1322874b6f0  f9e4b658b201a9f2ecdecbb34bed034b   \n",
       "3      e64fb393e7b32834bb789ff8bb30750e  658677c97b385a9be170737859d3511b   \n",
       "4      f7c4243c7fe1938f181bec41a392bdeb  8e6bfb81e283fa7e4f11123a3fb894f1   \n",
       "...                                 ...                               ...   \n",
       "99219  574ed12dd733e5fa530cfd4bbf39d7c9  2a8c23fee101d4d5662fa670396eb8da   \n",
       "99220  f3897127253a9592a73be9bdfdf4ed7a  22ec9f0669f784db00fa86d035cf8602   \n",
       "99221  b3de70c89b1510c4cd3d0649fd302472  55d4004744368f5571d1f590031933e4   \n",
       "99222  1adeb9d84d72fe4e337617733eb85149  7725825d039fc1f0ceb7635e3f7d9206   \n",
       "99223  efe49f1d6f951dd88b51e6ccd4cc548f  90531360ecb1eec2a1fbb265a0db0508   \n",
       "\n",
       "       review_score review_comment_title  \\\n",
       "0                 4            No Review   \n",
       "1                 5            No Review   \n",
       "2                 5            No Review   \n",
       "3                 5            No Review   \n",
       "4                 5            No Review   \n",
       "...             ...                  ...   \n",
       "99219             5            No Review   \n",
       "99220             5            No Review   \n",
       "99221             5            No Review   \n",
       "99222             4            No Review   \n",
       "99223             1            No Review   \n",
       "\n",
       "                                  review_comment_message review_creation_date  \\\n",
       "0                                              No Review  2018-01-18 00:00:00   \n",
       "1                                              No Review  2018-03-10 00:00:00   \n",
       "2                                              No Review  2018-02-17 00:00:00   \n",
       "3                  Recebi bem antes do prazo estipulado.  2017-04-21 00:00:00   \n",
       "4      Parabéns lojas lannister adorei comprar pela I...  2018-03-01 00:00:00   \n",
       "...                                                  ...                  ...   \n",
       "99219                                          No Review  2018-07-07 00:00:00   \n",
       "99220                                          No Review  2017-12-09 00:00:00   \n",
       "99221  Excelente mochila, entrega super rápida. Super...  2018-03-22 00:00:00   \n",
       "99222                                          No Review  2018-07-01 00:00:00   \n",
       "99223  meu produto chegou e ja tenho que devolver, po...  2017-07-03 00:00:00   \n",
       "\n",
       "      review_answer_timestamp  \n",
       "0         2018-01-18 21:46:59  \n",
       "1         2018-03-11 03:05:13  \n",
       "2         2018-02-18 14:36:24  \n",
       "3         2017-04-21 22:02:06  \n",
       "4         2018-03-02 10:26:53  \n",
       "...                       ...  \n",
       "99219     2018-07-14 17:18:30  \n",
       "99220     2017-12-11 20:06:42  \n",
       "99221     2018-03-23 09:10:43  \n",
       "99222     2018-07-02 12:59:13  \n",
       "99223     2017-07-03 21:01:49  \n",
       "\n",
       "[99224 rows x 7 columns]"
      ]
     },
     "execution_count": 150,
     "metadata": {},
     "output_type": "execute_result"
    }
   ],
   "source": [
    "df2"
   ]
  }
 ],
 "metadata": {
  "kernelspec": {
   "display_name": "base",
   "language": "python",
   "name": "python3"
  },
  "language_info": {
   "codemirror_mode": {
    "name": "ipython",
    "version": 3
   },
   "file_extension": ".py",
   "mimetype": "text/x-python",
   "name": "python",
   "nbconvert_exporter": "python",
   "pygments_lexer": "ipython3",
   "version": "3.13.5"
  }
 },
 "nbformat": 4,
 "nbformat_minor": 5
}
