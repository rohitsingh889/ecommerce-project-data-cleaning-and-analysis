{
 "cells": [
  {
   "cell_type": "code",
   "execution_count": 1,
   "id": "855fc5a3",
   "metadata": {},
   "outputs": [],
   "source": [
    "import pandas as pd"
   ]
  },
  {
   "cell_type": "code",
   "execution_count": 2,
   "id": "e4498f9a",
   "metadata": {},
   "outputs": [],
   "source": [
    "df = pd.read_csv(r\"C:\\DE\\csv files data\\Brazilian E-Commerce\\olist_geolocation_dataset.csv\")"
   ]
  },
  {
   "cell_type": "code",
   "execution_count": 3,
   "id": "e56bc35a",
   "metadata": {},
   "outputs": [
    {
     "data": {
      "application/vnd.microsoft.datawrangler.viewer.v0+json": {
       "columns": [
        {
         "name": "index",
         "rawType": "int64",
         "type": "integer"
        },
        {
         "name": "geolocation_zip_code_prefix",
         "rawType": "int64",
         "type": "integer"
        },
        {
         "name": "geolocation_lat",
         "rawType": "float64",
         "type": "float"
        },
        {
         "name": "geolocation_lng",
         "rawType": "float64",
         "type": "float"
        },
        {
         "name": "geolocation_city",
         "rawType": "object",
         "type": "string"
        },
        {
         "name": "geolocation_state",
         "rawType": "object",
         "type": "string"
        }
       ],
       "ref": "a867a0a6-a524-43fd-a6e8-9689f76144c7",
       "rows": [
        [
         "0",
         "1037",
         "-23.54562128115268",
         "-46.63929204800168",
         "sao paulo",
         "SP"
        ],
        [
         "1",
         "1046",
         "-23.54608112703553",
         "-46.64482029837157",
         "sao paulo",
         "SP"
        ],
        [
         "2",
         "1046",
         "-23.54612896641469",
         "-46.64295148361138",
         "sao paulo",
         "SP"
        ],
        [
         "3",
         "1041",
         "-23.5443921648681",
         "-46.63949930627844",
         "sao paulo",
         "SP"
        ],
        [
         "4",
         "1035",
         "-23.541577961711493",
         "-46.64160722329613",
         "sao paulo",
         "SP"
        ],
        [
         "5",
         "1012",
         "-23.547762303364262",
         "-46.63536053788448",
         "são paulo",
         "SP"
        ],
        [
         "6",
         "1047",
         "-23.54627311241268",
         "-46.64122516971552",
         "sao paulo",
         "SP"
        ],
        [
         "7",
         "1013",
         "-23.546923208436723",
         "-46.6342636964915",
         "sao paulo",
         "SP"
        ],
        [
         "8",
         "1029",
         "-23.543769055769133",
         "-46.63427784085132",
         "sao paulo",
         "SP"
        ],
        [
         "9",
         "1011",
         "-23.547639550320632",
         "-46.63603162315495",
         "sao paulo",
         "SP"
        ],
        [
         "10",
         "1013",
         "-23.547325128224376",
         "-46.63418378613892",
         "sao paulo",
         "SP"
        ],
        [
         "11",
         "1032",
         "-23.53841810407414",
         "-46.634778375266734",
         "sao paulo",
         "SP"
        ],
        [
         "12",
         "1014",
         "-23.546435343326205",
         "-46.63383023397196",
         "sao paulo",
         "SP"
        ],
        [
         "13",
         "1012",
         "-23.548945985189437",
         "-46.63467113292871",
         "sao paulo",
         "SP"
        ],
        [
         "14",
         "1037",
         "-23.54518734081604",
         "-46.63785524104107",
         "são paulo",
         "SP"
        ],
        [
         "15",
         "1046",
         "-23.54608112703553",
         "-46.64482029837157",
         "sao paulo",
         "SP"
        ],
        [
         "16",
         "1039",
         "-23.54188300998332",
         "-46.63991946670314",
         "sao paulo",
         "SP"
        ],
        [
         "17",
         "1024",
         "-23.541389521053937",
         "-46.62989908781218",
         "são paulo",
         "SP"
        ],
        [
         "18",
         "1009",
         "-23.54693540437998",
         "-46.63658792659698",
         "sao paulo",
         "SP"
        ],
        [
         "19",
         "1046",
         "-23.54588427921401",
         "-46.64316319124004",
         "sao paulo",
         "SP"
        ],
        [
         "20",
         "1046",
         "-23.545165891770928",
         "-46.643785796266464",
         "sao paulo",
         "SP"
        ],
        [
         "21",
         "1020",
         "-23.55223547100232",
         "-46.6284406588955",
         "são paulo",
         "SP"
        ],
        [
         "22",
         "1011",
         "-23.546690486964888",
         "-46.6354469588072",
         "são paulo",
         "SP"
        ],
        [
         "23",
         "1043",
         "-23.546656718016017",
         "-46.64078762115524",
         "são paulo",
         "SP"
        ],
        [
         "24",
         "1050",
         "-23.549773516504185",
         "-46.64559900666509",
         "sao paulo",
         "SP"
        ],
        [
         "25",
         "1045",
         "-23.541593762969622",
         "-46.64189378810082",
         "sao paulo",
         "SP"
        ],
        [
         "26",
         "1009",
         "-23.545429533441077",
         "-46.63571531432852",
         "sao paulo",
         "SP"
        ],
        [
         "27",
         "1007",
         "-23.550392524842728",
         "-46.63730164071784",
         "sao paulo",
         "SP"
        ],
        [
         "28",
         "1032",
         "-23.5398418758395",
         "-46.63514797691531",
         "são paulo",
         "SP"
        ],
        [
         "29",
         "1041",
         "-23.543539449073783",
         "-46.64057731057763",
         "sao paulo",
         "SP"
        ],
        [
         "30",
         "1005",
         "-23.549819091869107",
         "-46.63560588995324",
         "sao paulo",
         "SP"
        ],
        [
         "31",
         "1037",
         "-23.54670459977496",
         "-46.64033633250615",
         "são paulo",
         "SP"
        ],
        [
         "32",
         "1017",
         "-23.55001091199737",
         "-46.63116636914989",
         "são paulo",
         "SP"
        ],
        [
         "33",
         "1046",
         "-23.54532011933758",
         "-46.64406863434122",
         "sao paulo",
         "SP"
        ],
        [
         "34",
         "1019",
         "-23.552151883432384",
         "-46.63080224715792",
         "sao paulo",
         "SP"
        ],
        [
         "35",
         "1032",
         "-23.540774688874112",
         "-46.63551484303775",
         "sao paulo",
         "SP"
        ],
        [
         "36",
         "1017",
         "-23.5492954052167",
         "-46.63207469510652",
         "sao paulo",
         "SP"
        ],
        [
         "37",
         "1050",
         "-23.549009406053425",
         "-46.64281228183975",
         "sao paulo",
         "SP"
        ],
        [
         "38",
         "1050",
         "-23.548755593946588",
         "-46.642789203733535",
         "sao paulo",
         "SP"
        ],
        [
         "39",
         "1027",
         "-23.538301166801343",
         "-46.63076391104508",
         "sao paulo",
         "SP"
        ],
        [
         "40",
         "1050",
         "-23.54985418067981",
         "-46.643139396906825",
         "sao paulo",
         "SP"
        ],
        [
         "41",
         "1013",
         "-23.5471192492354",
         "-46.634232699405686",
         "sao paulo",
         "SP"
        ],
        [
         "42",
         "1033",
         "-23.54032130474925",
         "-46.636394815973325",
         "sao paulo",
         "SP"
        ],
        [
         "43",
         "1009",
         "-23.54569153926945",
         "-46.635866061486446",
         "sao paulo",
         "SP"
        ],
        [
         "44",
         "1046",
         "-23.54608112703553",
         "-46.64482029837157",
         "sao paulo",
         "SP"
        ],
        [
         "45",
         "1050",
         "-23.54874766250217",
         "-46.64239136704376",
         "sao paulo",
         "SP"
        ],
        [
         "46",
         "1032",
         "-23.54119147654225",
         "-46.63499346058632",
         "sao paulo",
         "SP"
        ],
        [
         "47",
         "1020",
         "-23.552549496537548",
         "-46.63163152553523",
         "sao paulo",
         "SP"
        ],
        [
         "48",
         "1006",
         "-23.55052430835593",
         "-46.63669363835193",
         "sao paulo",
         "SP"
        ],
        [
         "49",
         "1034",
         "-23.54239162719593",
         "-46.63770927785183",
         "sao paulo",
         "SP"
        ]
       ],
       "shape": {
        "columns": 5,
        "rows": 1000163
       }
      },
      "text/html": [
       "<div>\n",
       "<style scoped>\n",
       "    .dataframe tbody tr th:only-of-type {\n",
       "        vertical-align: middle;\n",
       "    }\n",
       "\n",
       "    .dataframe tbody tr th {\n",
       "        vertical-align: top;\n",
       "    }\n",
       "\n",
       "    .dataframe thead th {\n",
       "        text-align: right;\n",
       "    }\n",
       "</style>\n",
       "<table border=\"1\" class=\"dataframe\">\n",
       "  <thead>\n",
       "    <tr style=\"text-align: right;\">\n",
       "      <th></th>\n",
       "      <th>geolocation_zip_code_prefix</th>\n",
       "      <th>geolocation_lat</th>\n",
       "      <th>geolocation_lng</th>\n",
       "      <th>geolocation_city</th>\n",
       "      <th>geolocation_state</th>\n",
       "    </tr>\n",
       "  </thead>\n",
       "  <tbody>\n",
       "    <tr>\n",
       "      <th>0</th>\n",
       "      <td>1037</td>\n",
       "      <td>-23.545621</td>\n",
       "      <td>-46.639292</td>\n",
       "      <td>sao paulo</td>\n",
       "      <td>SP</td>\n",
       "    </tr>\n",
       "    <tr>\n",
       "      <th>1</th>\n",
       "      <td>1046</td>\n",
       "      <td>-23.546081</td>\n",
       "      <td>-46.644820</td>\n",
       "      <td>sao paulo</td>\n",
       "      <td>SP</td>\n",
       "    </tr>\n",
       "    <tr>\n",
       "      <th>2</th>\n",
       "      <td>1046</td>\n",
       "      <td>-23.546129</td>\n",
       "      <td>-46.642951</td>\n",
       "      <td>sao paulo</td>\n",
       "      <td>SP</td>\n",
       "    </tr>\n",
       "    <tr>\n",
       "      <th>3</th>\n",
       "      <td>1041</td>\n",
       "      <td>-23.544392</td>\n",
       "      <td>-46.639499</td>\n",
       "      <td>sao paulo</td>\n",
       "      <td>SP</td>\n",
       "    </tr>\n",
       "    <tr>\n",
       "      <th>4</th>\n",
       "      <td>1035</td>\n",
       "      <td>-23.541578</td>\n",
       "      <td>-46.641607</td>\n",
       "      <td>sao paulo</td>\n",
       "      <td>SP</td>\n",
       "    </tr>\n",
       "    <tr>\n",
       "      <th>...</th>\n",
       "      <td>...</td>\n",
       "      <td>...</td>\n",
       "      <td>...</td>\n",
       "      <td>...</td>\n",
       "      <td>...</td>\n",
       "    </tr>\n",
       "    <tr>\n",
       "      <th>1000158</th>\n",
       "      <td>99950</td>\n",
       "      <td>-28.068639</td>\n",
       "      <td>-52.010705</td>\n",
       "      <td>tapejara</td>\n",
       "      <td>RS</td>\n",
       "    </tr>\n",
       "    <tr>\n",
       "      <th>1000159</th>\n",
       "      <td>99900</td>\n",
       "      <td>-27.877125</td>\n",
       "      <td>-52.224882</td>\n",
       "      <td>getulio vargas</td>\n",
       "      <td>RS</td>\n",
       "    </tr>\n",
       "    <tr>\n",
       "      <th>1000160</th>\n",
       "      <td>99950</td>\n",
       "      <td>-28.071855</td>\n",
       "      <td>-52.014716</td>\n",
       "      <td>tapejara</td>\n",
       "      <td>RS</td>\n",
       "    </tr>\n",
       "    <tr>\n",
       "      <th>1000161</th>\n",
       "      <td>99980</td>\n",
       "      <td>-28.388932</td>\n",
       "      <td>-51.846871</td>\n",
       "      <td>david canabarro</td>\n",
       "      <td>RS</td>\n",
       "    </tr>\n",
       "    <tr>\n",
       "      <th>1000162</th>\n",
       "      <td>99950</td>\n",
       "      <td>-28.070104</td>\n",
       "      <td>-52.018658</td>\n",
       "      <td>tapejara</td>\n",
       "      <td>RS</td>\n",
       "    </tr>\n",
       "  </tbody>\n",
       "</table>\n",
       "<p>1000163 rows × 5 columns</p>\n",
       "</div>"
      ],
      "text/plain": [
       "         geolocation_zip_code_prefix  geolocation_lat  geolocation_lng  \\\n",
       "0                               1037       -23.545621       -46.639292   \n",
       "1                               1046       -23.546081       -46.644820   \n",
       "2                               1046       -23.546129       -46.642951   \n",
       "3                               1041       -23.544392       -46.639499   \n",
       "4                               1035       -23.541578       -46.641607   \n",
       "...                              ...              ...              ...   \n",
       "1000158                        99950       -28.068639       -52.010705   \n",
       "1000159                        99900       -27.877125       -52.224882   \n",
       "1000160                        99950       -28.071855       -52.014716   \n",
       "1000161                        99980       -28.388932       -51.846871   \n",
       "1000162                        99950       -28.070104       -52.018658   \n",
       "\n",
       "        geolocation_city geolocation_state  \n",
       "0              sao paulo                SP  \n",
       "1              sao paulo                SP  \n",
       "2              sao paulo                SP  \n",
       "3              sao paulo                SP  \n",
       "4              sao paulo                SP  \n",
       "...                  ...               ...  \n",
       "1000158         tapejara                RS  \n",
       "1000159   getulio vargas                RS  \n",
       "1000160         tapejara                RS  \n",
       "1000161  david canabarro                RS  \n",
       "1000162         tapejara                RS  \n",
       "\n",
       "[1000163 rows x 5 columns]"
      ]
     },
     "execution_count": 3,
     "metadata": {},
     "output_type": "execute_result"
    }
   ],
   "source": [
    "df"
   ]
  },
  {
   "cell_type": "code",
   "execution_count": 4,
   "id": "6fba8dca",
   "metadata": {},
   "outputs": [
    {
     "data": {
      "application/vnd.microsoft.datawrangler.viewer.v0+json": {
       "columns": [
        {
         "name": "index",
         "rawType": "int64",
         "type": "integer"
        },
        {
         "name": "geolocation_zip_code_prefix",
         "rawType": "int64",
         "type": "integer"
        },
        {
         "name": "geolocation_lat",
         "rawType": "float64",
         "type": "float"
        },
        {
         "name": "geolocation_lng",
         "rawType": "float64",
         "type": "float"
        },
        {
         "name": "geolocation_city",
         "rawType": "object",
         "type": "string"
        },
        {
         "name": "geolocation_state",
         "rawType": "object",
         "type": "string"
        }
       ],
       "ref": "e1f5017d-6d6e-4d1b-b790-4fd3b3bde500",
       "rows": [
        [
         "0",
         "1037",
         "-23.54562128115268",
         "-46.63929204800168",
         "sao paulo",
         "SP"
        ],
        [
         "1",
         "1046",
         "-23.54608112703553",
         "-46.64482029837157",
         "sao paulo",
         "SP"
        ],
        [
         "2",
         "1046",
         "-23.54612896641469",
         "-46.64295148361138",
         "sao paulo",
         "SP"
        ],
        [
         "3",
         "1041",
         "-23.5443921648681",
         "-46.63949930627844",
         "sao paulo",
         "SP"
        ],
        [
         "4",
         "1035",
         "-23.541577961711493",
         "-46.64160722329613",
         "sao paulo",
         "SP"
        ]
       ],
       "shape": {
        "columns": 5,
        "rows": 5
       }
      },
      "text/html": [
       "<div>\n",
       "<style scoped>\n",
       "    .dataframe tbody tr th:only-of-type {\n",
       "        vertical-align: middle;\n",
       "    }\n",
       "\n",
       "    .dataframe tbody tr th {\n",
       "        vertical-align: top;\n",
       "    }\n",
       "\n",
       "    .dataframe thead th {\n",
       "        text-align: right;\n",
       "    }\n",
       "</style>\n",
       "<table border=\"1\" class=\"dataframe\">\n",
       "  <thead>\n",
       "    <tr style=\"text-align: right;\">\n",
       "      <th></th>\n",
       "      <th>geolocation_zip_code_prefix</th>\n",
       "      <th>geolocation_lat</th>\n",
       "      <th>geolocation_lng</th>\n",
       "      <th>geolocation_city</th>\n",
       "      <th>geolocation_state</th>\n",
       "    </tr>\n",
       "  </thead>\n",
       "  <tbody>\n",
       "    <tr>\n",
       "      <th>0</th>\n",
       "      <td>1037</td>\n",
       "      <td>-23.545621</td>\n",
       "      <td>-46.639292</td>\n",
       "      <td>sao paulo</td>\n",
       "      <td>SP</td>\n",
       "    </tr>\n",
       "    <tr>\n",
       "      <th>1</th>\n",
       "      <td>1046</td>\n",
       "      <td>-23.546081</td>\n",
       "      <td>-46.644820</td>\n",
       "      <td>sao paulo</td>\n",
       "      <td>SP</td>\n",
       "    </tr>\n",
       "    <tr>\n",
       "      <th>2</th>\n",
       "      <td>1046</td>\n",
       "      <td>-23.546129</td>\n",
       "      <td>-46.642951</td>\n",
       "      <td>sao paulo</td>\n",
       "      <td>SP</td>\n",
       "    </tr>\n",
       "    <tr>\n",
       "      <th>3</th>\n",
       "      <td>1041</td>\n",
       "      <td>-23.544392</td>\n",
       "      <td>-46.639499</td>\n",
       "      <td>sao paulo</td>\n",
       "      <td>SP</td>\n",
       "    </tr>\n",
       "    <tr>\n",
       "      <th>4</th>\n",
       "      <td>1035</td>\n",
       "      <td>-23.541578</td>\n",
       "      <td>-46.641607</td>\n",
       "      <td>sao paulo</td>\n",
       "      <td>SP</td>\n",
       "    </tr>\n",
       "  </tbody>\n",
       "</table>\n",
       "</div>"
      ],
      "text/plain": [
       "   geolocation_zip_code_prefix  geolocation_lat  geolocation_lng  \\\n",
       "0                         1037       -23.545621       -46.639292   \n",
       "1                         1046       -23.546081       -46.644820   \n",
       "2                         1046       -23.546129       -46.642951   \n",
       "3                         1041       -23.544392       -46.639499   \n",
       "4                         1035       -23.541578       -46.641607   \n",
       "\n",
       "  geolocation_city geolocation_state  \n",
       "0        sao paulo                SP  \n",
       "1        sao paulo                SP  \n",
       "2        sao paulo                SP  \n",
       "3        sao paulo                SP  \n",
       "4        sao paulo                SP  "
      ]
     },
     "execution_count": 4,
     "metadata": {},
     "output_type": "execute_result"
    }
   ],
   "source": [
    "df.head()"
   ]
  },
  {
   "cell_type": "code",
   "execution_count": 5,
   "id": "cbaac1f1",
   "metadata": {},
   "outputs": [
    {
     "data": {
      "application/vnd.microsoft.datawrangler.viewer.v0+json": {
       "columns": [
        {
         "name": "index",
         "rawType": "int64",
         "type": "integer"
        },
        {
         "name": "geolocation_zip_code_prefix",
         "rawType": "int64",
         "type": "integer"
        },
        {
         "name": "geolocation_lat",
         "rawType": "float64",
         "type": "float"
        },
        {
         "name": "geolocation_lng",
         "rawType": "float64",
         "type": "float"
        },
        {
         "name": "geolocation_city",
         "rawType": "object",
         "type": "string"
        },
        {
         "name": "geolocation_state",
         "rawType": "object",
         "type": "string"
        }
       ],
       "ref": "b5bd29fd-930c-4638-a445-681d41e2e80d",
       "rows": [
        [
         "1000158",
         "99950",
         "-28.06863887662893",
         "-52.01070524698279",
         "tapejara",
         "RS"
        ],
        [
         "1000159",
         "99900",
         "-27.87712511771236",
         "-52.22488216264145",
         "getulio vargas",
         "RS"
        ],
        [
         "1000160",
         "99950",
         "-28.07185541645192",
         "-52.01471586864233",
         "tapejara",
         "RS"
        ],
        [
         "1000161",
         "99980",
         "-28.38893187660049",
         "-51.84687132274168",
         "david canabarro",
         "RS"
        ],
        [
         "1000162",
         "99950",
         "-28.07010363149126",
         "-52.01865772856674",
         "tapejara",
         "RS"
        ]
       ],
       "shape": {
        "columns": 5,
        "rows": 5
       }
      },
      "text/html": [
       "<div>\n",
       "<style scoped>\n",
       "    .dataframe tbody tr th:only-of-type {\n",
       "        vertical-align: middle;\n",
       "    }\n",
       "\n",
       "    .dataframe tbody tr th {\n",
       "        vertical-align: top;\n",
       "    }\n",
       "\n",
       "    .dataframe thead th {\n",
       "        text-align: right;\n",
       "    }\n",
       "</style>\n",
       "<table border=\"1\" class=\"dataframe\">\n",
       "  <thead>\n",
       "    <tr style=\"text-align: right;\">\n",
       "      <th></th>\n",
       "      <th>geolocation_zip_code_prefix</th>\n",
       "      <th>geolocation_lat</th>\n",
       "      <th>geolocation_lng</th>\n",
       "      <th>geolocation_city</th>\n",
       "      <th>geolocation_state</th>\n",
       "    </tr>\n",
       "  </thead>\n",
       "  <tbody>\n",
       "    <tr>\n",
       "      <th>1000158</th>\n",
       "      <td>99950</td>\n",
       "      <td>-28.068639</td>\n",
       "      <td>-52.010705</td>\n",
       "      <td>tapejara</td>\n",
       "      <td>RS</td>\n",
       "    </tr>\n",
       "    <tr>\n",
       "      <th>1000159</th>\n",
       "      <td>99900</td>\n",
       "      <td>-27.877125</td>\n",
       "      <td>-52.224882</td>\n",
       "      <td>getulio vargas</td>\n",
       "      <td>RS</td>\n",
       "    </tr>\n",
       "    <tr>\n",
       "      <th>1000160</th>\n",
       "      <td>99950</td>\n",
       "      <td>-28.071855</td>\n",
       "      <td>-52.014716</td>\n",
       "      <td>tapejara</td>\n",
       "      <td>RS</td>\n",
       "    </tr>\n",
       "    <tr>\n",
       "      <th>1000161</th>\n",
       "      <td>99980</td>\n",
       "      <td>-28.388932</td>\n",
       "      <td>-51.846871</td>\n",
       "      <td>david canabarro</td>\n",
       "      <td>RS</td>\n",
       "    </tr>\n",
       "    <tr>\n",
       "      <th>1000162</th>\n",
       "      <td>99950</td>\n",
       "      <td>-28.070104</td>\n",
       "      <td>-52.018658</td>\n",
       "      <td>tapejara</td>\n",
       "      <td>RS</td>\n",
       "    </tr>\n",
       "  </tbody>\n",
       "</table>\n",
       "</div>"
      ],
      "text/plain": [
       "         geolocation_zip_code_prefix  geolocation_lat  geolocation_lng  \\\n",
       "1000158                        99950       -28.068639       -52.010705   \n",
       "1000159                        99900       -27.877125       -52.224882   \n",
       "1000160                        99950       -28.071855       -52.014716   \n",
       "1000161                        99980       -28.388932       -51.846871   \n",
       "1000162                        99950       -28.070104       -52.018658   \n",
       "\n",
       "        geolocation_city geolocation_state  \n",
       "1000158         tapejara                RS  \n",
       "1000159   getulio vargas                RS  \n",
       "1000160         tapejara                RS  \n",
       "1000161  david canabarro                RS  \n",
       "1000162         tapejara                RS  "
      ]
     },
     "execution_count": 5,
     "metadata": {},
     "output_type": "execute_result"
    }
   ],
   "source": [
    "df.tail()"
   ]
  },
  {
   "cell_type": "code",
   "execution_count": 6,
   "id": "64533368",
   "metadata": {},
   "outputs": [
    {
     "name": "stdout",
     "output_type": "stream",
     "text": [
      "<class 'pandas.core.frame.DataFrame'>\n",
      "RangeIndex: 1000163 entries, 0 to 1000162\n",
      "Data columns (total 5 columns):\n",
      " #   Column                       Non-Null Count    Dtype  \n",
      "---  ------                       --------------    -----  \n",
      " 0   geolocation_zip_code_prefix  1000163 non-null  int64  \n",
      " 1   geolocation_lat              1000163 non-null  float64\n",
      " 2   geolocation_lng              1000163 non-null  float64\n",
      " 3   geolocation_city             1000163 non-null  object \n",
      " 4   geolocation_state            1000163 non-null  object \n",
      "dtypes: float64(2), int64(1), object(2)\n",
      "memory usage: 38.2+ MB\n"
     ]
    }
   ],
   "source": [
    "df.info()"
   ]
  },
  {
   "cell_type": "code",
   "execution_count": 7,
   "id": "1499ad08",
   "metadata": {},
   "outputs": [
    {
     "data": {
      "application/vnd.microsoft.datawrangler.viewer.v0+json": {
       "columns": [
        {
         "name": "index",
         "rawType": "object",
         "type": "string"
        },
        {
         "name": "geolocation_zip_code_prefix",
         "rawType": "float64",
         "type": "float"
        },
        {
         "name": "geolocation_lat",
         "rawType": "float64",
         "type": "float"
        },
        {
         "name": "geolocation_lng",
         "rawType": "float64",
         "type": "float"
        }
       ],
       "ref": "a53535b2-015c-48b7-a889-e6fe456f326f",
       "rows": [
        [
         "count",
         "1000163.0",
         "1000163.0",
         "1000163.0"
        ],
        [
         "mean",
         "36574.16646586607",
         "-21.176152910383966",
         "-46.39054132093579"
        ],
        [
         "std",
         "30549.33571032424",
         "5.715866308822977",
         "4.26974830661962"
        ],
        [
         "min",
         "1001.0",
         "-36.6053744107061",
         "-101.46676644931476"
        ],
        [
         "25%",
         "11075.0",
         "-23.60354554038031",
         "-48.573172180526896"
        ],
        [
         "50%",
         "26530.0",
         "-22.91937749486411",
         "-46.63787866960149"
        ],
        [
         "75%",
         "63504.0",
         "-19.97962033957529",
         "-43.7677088028139"
        ],
        [
         "max",
         "99990.0",
         "45.06593318269697",
         "121.10539381057764"
        ]
       ],
       "shape": {
        "columns": 3,
        "rows": 8
       }
      },
      "text/html": [
       "<div>\n",
       "<style scoped>\n",
       "    .dataframe tbody tr th:only-of-type {\n",
       "        vertical-align: middle;\n",
       "    }\n",
       "\n",
       "    .dataframe tbody tr th {\n",
       "        vertical-align: top;\n",
       "    }\n",
       "\n",
       "    .dataframe thead th {\n",
       "        text-align: right;\n",
       "    }\n",
       "</style>\n",
       "<table border=\"1\" class=\"dataframe\">\n",
       "  <thead>\n",
       "    <tr style=\"text-align: right;\">\n",
       "      <th></th>\n",
       "      <th>geolocation_zip_code_prefix</th>\n",
       "      <th>geolocation_lat</th>\n",
       "      <th>geolocation_lng</th>\n",
       "    </tr>\n",
       "  </thead>\n",
       "  <tbody>\n",
       "    <tr>\n",
       "      <th>count</th>\n",
       "      <td>1.000163e+06</td>\n",
       "      <td>1.000163e+06</td>\n",
       "      <td>1.000163e+06</td>\n",
       "    </tr>\n",
       "    <tr>\n",
       "      <th>mean</th>\n",
       "      <td>3.657417e+04</td>\n",
       "      <td>-2.117615e+01</td>\n",
       "      <td>-4.639054e+01</td>\n",
       "    </tr>\n",
       "    <tr>\n",
       "      <th>std</th>\n",
       "      <td>3.054934e+04</td>\n",
       "      <td>5.715866e+00</td>\n",
       "      <td>4.269748e+00</td>\n",
       "    </tr>\n",
       "    <tr>\n",
       "      <th>min</th>\n",
       "      <td>1.001000e+03</td>\n",
       "      <td>-3.660537e+01</td>\n",
       "      <td>-1.014668e+02</td>\n",
       "    </tr>\n",
       "    <tr>\n",
       "      <th>25%</th>\n",
       "      <td>1.107500e+04</td>\n",
       "      <td>-2.360355e+01</td>\n",
       "      <td>-4.857317e+01</td>\n",
       "    </tr>\n",
       "    <tr>\n",
       "      <th>50%</th>\n",
       "      <td>2.653000e+04</td>\n",
       "      <td>-2.291938e+01</td>\n",
       "      <td>-4.663788e+01</td>\n",
       "    </tr>\n",
       "    <tr>\n",
       "      <th>75%</th>\n",
       "      <td>6.350400e+04</td>\n",
       "      <td>-1.997962e+01</td>\n",
       "      <td>-4.376771e+01</td>\n",
       "    </tr>\n",
       "    <tr>\n",
       "      <th>max</th>\n",
       "      <td>9.999000e+04</td>\n",
       "      <td>4.506593e+01</td>\n",
       "      <td>1.211054e+02</td>\n",
       "    </tr>\n",
       "  </tbody>\n",
       "</table>\n",
       "</div>"
      ],
      "text/plain": [
       "       geolocation_zip_code_prefix  geolocation_lat  geolocation_lng\n",
       "count                 1.000163e+06     1.000163e+06     1.000163e+06\n",
       "mean                  3.657417e+04    -2.117615e+01    -4.639054e+01\n",
       "std                   3.054934e+04     5.715866e+00     4.269748e+00\n",
       "min                   1.001000e+03    -3.660537e+01    -1.014668e+02\n",
       "25%                   1.107500e+04    -2.360355e+01    -4.857317e+01\n",
       "50%                   2.653000e+04    -2.291938e+01    -4.663788e+01\n",
       "75%                   6.350400e+04    -1.997962e+01    -4.376771e+01\n",
       "max                   9.999000e+04     4.506593e+01     1.211054e+02"
      ]
     },
     "execution_count": 7,
     "metadata": {},
     "output_type": "execute_result"
    }
   ],
   "source": [
    "df.describe() #seeing statics info"
   ]
  },
  {
   "cell_type": "code",
   "execution_count": 8,
   "id": "3dea1f0c",
   "metadata": {},
   "outputs": [
    {
     "data": {
      "application/vnd.microsoft.datawrangler.viewer.v0+json": {
       "columns": [
        {
         "name": "index",
         "rawType": "object",
         "type": "string"
        },
        {
         "name": "0",
         "rawType": "int64",
         "type": "integer"
        }
       ],
       "ref": "406b24ee-1bb2-4c3b-a92d-4474d1d16e9a",
       "rows": [
        [
         "geolocation_zip_code_prefix",
         "0"
        ],
        [
         "geolocation_lat",
         "0"
        ],
        [
         "geolocation_lng",
         "0"
        ],
        [
         "geolocation_city",
         "0"
        ],
        [
         "geolocation_state",
         "0"
        ]
       ],
       "shape": {
        "columns": 1,
        "rows": 5
       }
      },
      "text/plain": [
       "geolocation_zip_code_prefix    0\n",
       "geolocation_lat                0\n",
       "geolocation_lng                0\n",
       "geolocation_city               0\n",
       "geolocation_state              0\n",
       "dtype: int64"
      ]
     },
     "execution_count": 8,
     "metadata": {},
     "output_type": "execute_result"
    }
   ],
   "source": [
    "df.isna().sum()#checking for null or na value"
   ]
  },
  {
   "cell_type": "code",
   "execution_count": 9,
   "id": "503ee7cb",
   "metadata": {},
   "outputs": [
    {
     "data": {
      "application/vnd.microsoft.datawrangler.viewer.v0+json": {
       "columns": [
        {
         "name": "index",
         "rawType": "int64",
         "type": "integer"
        },
        {
         "name": "0",
         "rawType": "bool",
         "type": "boolean"
        }
       ],
       "ref": "5d7cdaa8-c470-4fa0-957d-ea09fec2c5ab",
       "rows": [
        [
         "0",
         "False"
        ],
        [
         "1",
         "False"
        ],
        [
         "2",
         "False"
        ],
        [
         "3",
         "False"
        ],
        [
         "4",
         "False"
        ],
        [
         "5",
         "False"
        ],
        [
         "6",
         "False"
        ],
        [
         "7",
         "False"
        ],
        [
         "8",
         "False"
        ],
        [
         "9",
         "False"
        ],
        [
         "10",
         "False"
        ],
        [
         "11",
         "False"
        ],
        [
         "12",
         "False"
        ],
        [
         "13",
         "False"
        ],
        [
         "14",
         "False"
        ],
        [
         "15",
         "True"
        ],
        [
         "16",
         "False"
        ],
        [
         "17",
         "False"
        ],
        [
         "18",
         "False"
        ],
        [
         "19",
         "False"
        ],
        [
         "20",
         "False"
        ],
        [
         "21",
         "False"
        ],
        [
         "22",
         "False"
        ],
        [
         "23",
         "False"
        ],
        [
         "24",
         "False"
        ],
        [
         "25",
         "False"
        ],
        [
         "26",
         "False"
        ],
        [
         "27",
         "False"
        ],
        [
         "28",
         "False"
        ],
        [
         "29",
         "False"
        ],
        [
         "30",
         "False"
        ],
        [
         "31",
         "False"
        ],
        [
         "32",
         "False"
        ],
        [
         "33",
         "False"
        ],
        [
         "34",
         "False"
        ],
        [
         "35",
         "False"
        ],
        [
         "36",
         "False"
        ],
        [
         "37",
         "False"
        ],
        [
         "38",
         "False"
        ],
        [
         "39",
         "False"
        ],
        [
         "40",
         "False"
        ],
        [
         "41",
         "False"
        ],
        [
         "42",
         "False"
        ],
        [
         "43",
         "False"
        ],
        [
         "44",
         "True"
        ],
        [
         "45",
         "False"
        ],
        [
         "46",
         "False"
        ],
        [
         "47",
         "False"
        ],
        [
         "48",
         "False"
        ],
        [
         "49",
         "False"
        ]
       ],
       "shape": {
        "columns": 1,
        "rows": 1000163
       }
      },
      "text/plain": [
       "0          False\n",
       "1          False\n",
       "2          False\n",
       "3          False\n",
       "4          False\n",
       "           ...  \n",
       "1000158    False\n",
       "1000159     True\n",
       "1000160     True\n",
       "1000161    False\n",
       "1000162     True\n",
       "Length: 1000163, dtype: bool"
      ]
     },
     "execution_count": 9,
     "metadata": {},
     "output_type": "execute_result"
    }
   ],
   "source": [
    "df.duplicated()"
   ]
  },
  {
   "cell_type": "code",
   "execution_count": 10,
   "id": "da5186be",
   "metadata": {},
   "outputs": [
    {
     "data": {
      "text/plain": [
       "np.int64(261831)"
      ]
     },
     "execution_count": 10,
     "metadata": {},
     "output_type": "execute_result"
    }
   ],
   "source": [
    "df.duplicated().sum() #check for duplicates"
   ]
  },
  {
   "cell_type": "code",
   "execution_count": 11,
   "id": "cf1b2749",
   "metadata": {},
   "outputs": [],
   "source": [
    "df.drop_duplicates(inplace=True)"
   ]
  },
  {
   "cell_type": "code",
   "execution_count": 12,
   "id": "d2998ba8",
   "metadata": {},
   "outputs": [
    {
     "data": {
      "text/plain": [
       "np.int64(0)"
      ]
     },
     "execution_count": 12,
     "metadata": {},
     "output_type": "execute_result"
    }
   ],
   "source": [
    "df.duplicated().sum()"
   ]
  },
  {
   "cell_type": "code",
   "execution_count": 13,
   "id": "d2ca6c43",
   "metadata": {},
   "outputs": [
    {
     "data": {
      "application/vnd.microsoft.datawrangler.viewer.v0+json": {
       "columns": [
        {
         "name": "index",
         "rawType": "int64",
         "type": "integer"
        },
        {
         "name": "geolocation_zip_code_prefix",
         "rawType": "int64",
         "type": "integer"
        },
        {
         "name": "geolocation_lat",
         "rawType": "float64",
         "type": "float"
        },
        {
         "name": "geolocation_lng",
         "rawType": "float64",
         "type": "float"
        },
        {
         "name": "geolocation_city",
         "rawType": "object",
         "type": "string"
        },
        {
         "name": "geolocation_state",
         "rawType": "object",
         "type": "string"
        }
       ],
       "ref": "120524d7-7dec-4f1d-8058-c0b3584e9685",
       "rows": [
        [
         "0",
         "1037",
         "-23.54562128115268",
         "-46.63929204800168",
         "sao paulo",
         "SP"
        ],
        [
         "1",
         "1046",
         "-23.54608112703553",
         "-46.64482029837157",
         "sao paulo",
         "SP"
        ],
        [
         "2",
         "1046",
         "-23.54612896641469",
         "-46.64295148361138",
         "sao paulo",
         "SP"
        ],
        [
         "3",
         "1041",
         "-23.5443921648681",
         "-46.63949930627844",
         "sao paulo",
         "SP"
        ],
        [
         "4",
         "1035",
         "-23.541577961711493",
         "-46.64160722329613",
         "sao paulo",
         "SP"
        ]
       ],
       "shape": {
        "columns": 5,
        "rows": 5
       }
      },
      "text/html": [
       "<div>\n",
       "<style scoped>\n",
       "    .dataframe tbody tr th:only-of-type {\n",
       "        vertical-align: middle;\n",
       "    }\n",
       "\n",
       "    .dataframe tbody tr th {\n",
       "        vertical-align: top;\n",
       "    }\n",
       "\n",
       "    .dataframe thead th {\n",
       "        text-align: right;\n",
       "    }\n",
       "</style>\n",
       "<table border=\"1\" class=\"dataframe\">\n",
       "  <thead>\n",
       "    <tr style=\"text-align: right;\">\n",
       "      <th></th>\n",
       "      <th>geolocation_zip_code_prefix</th>\n",
       "      <th>geolocation_lat</th>\n",
       "      <th>geolocation_lng</th>\n",
       "      <th>geolocation_city</th>\n",
       "      <th>geolocation_state</th>\n",
       "    </tr>\n",
       "  </thead>\n",
       "  <tbody>\n",
       "    <tr>\n",
       "      <th>0</th>\n",
       "      <td>1037</td>\n",
       "      <td>-23.545621</td>\n",
       "      <td>-46.639292</td>\n",
       "      <td>sao paulo</td>\n",
       "      <td>SP</td>\n",
       "    </tr>\n",
       "    <tr>\n",
       "      <th>1</th>\n",
       "      <td>1046</td>\n",
       "      <td>-23.546081</td>\n",
       "      <td>-46.644820</td>\n",
       "      <td>sao paulo</td>\n",
       "      <td>SP</td>\n",
       "    </tr>\n",
       "    <tr>\n",
       "      <th>2</th>\n",
       "      <td>1046</td>\n",
       "      <td>-23.546129</td>\n",
       "      <td>-46.642951</td>\n",
       "      <td>sao paulo</td>\n",
       "      <td>SP</td>\n",
       "    </tr>\n",
       "    <tr>\n",
       "      <th>3</th>\n",
       "      <td>1041</td>\n",
       "      <td>-23.544392</td>\n",
       "      <td>-46.639499</td>\n",
       "      <td>sao paulo</td>\n",
       "      <td>SP</td>\n",
       "    </tr>\n",
       "    <tr>\n",
       "      <th>4</th>\n",
       "      <td>1035</td>\n",
       "      <td>-23.541578</td>\n",
       "      <td>-46.641607</td>\n",
       "      <td>sao paulo</td>\n",
       "      <td>SP</td>\n",
       "    </tr>\n",
       "  </tbody>\n",
       "</table>\n",
       "</div>"
      ],
      "text/plain": [
       "   geolocation_zip_code_prefix  geolocation_lat  geolocation_lng  \\\n",
       "0                         1037       -23.545621       -46.639292   \n",
       "1                         1046       -23.546081       -46.644820   \n",
       "2                         1046       -23.546129       -46.642951   \n",
       "3                         1041       -23.544392       -46.639499   \n",
       "4                         1035       -23.541578       -46.641607   \n",
       "\n",
       "  geolocation_city geolocation_state  \n",
       "0        sao paulo                SP  \n",
       "1        sao paulo                SP  \n",
       "2        sao paulo                SP  \n",
       "3        sao paulo                SP  \n",
       "4        sao paulo                SP  "
      ]
     },
     "execution_count": 13,
     "metadata": {},
     "output_type": "execute_result"
    }
   ],
   "source": [
    "df.head()"
   ]
  },
  {
   "cell_type": "code",
   "execution_count": 14,
   "id": "1aa6e970",
   "metadata": {},
   "outputs": [
    {
     "data": {
      "application/vnd.microsoft.datawrangler.viewer.v0+json": {
       "columns": [
        {
         "name": "index",
         "rawType": "object",
         "type": "string"
        },
        {
         "name": "0",
         "rawType": "int64",
         "type": "integer"
        }
       ],
       "ref": "f69220d9-0dff-4e02-9922-2d284eb4ffd1",
       "rows": [
        [
         "geolocation_zip_code_prefix",
         "0"
        ],
        [
         "geolocation_lat",
         "0"
        ],
        [
         "geolocation_lng",
         "0"
        ],
        [
         "geolocation_city",
         "0"
        ],
        [
         "geolocation_state",
         "0"
        ]
       ],
       "shape": {
        "columns": 1,
        "rows": 5
       }
      },
      "text/plain": [
       "geolocation_zip_code_prefix    0\n",
       "geolocation_lat                0\n",
       "geolocation_lng                0\n",
       "geolocation_city               0\n",
       "geolocation_state              0\n",
       "dtype: int64"
      ]
     },
     "execution_count": 14,
     "metadata": {},
     "output_type": "execute_result"
    }
   ],
   "source": [
    "df.isna().sum()"
   ]
  },
  {
   "cell_type": "code",
   "execution_count": 15,
   "id": "7a13d878",
   "metadata": {},
   "outputs": [],
   "source": [
    "#standard zip code format \n",
    "df['geolocation_zip_code_prefix'] = df['geolocation_zip_code_prefix'].astype(str).str.zfill(5)"
   ]
  },
  {
   "cell_type": "code",
   "execution_count": 16,
   "id": "0a3d0540",
   "metadata": {},
   "outputs": [
    {
     "data": {
      "application/vnd.microsoft.datawrangler.viewer.v0+json": {
       "columns": [
        {
         "name": "index",
         "rawType": "int64",
         "type": "integer"
        },
        {
         "name": "geolocation_zip_code_prefix",
         "rawType": "object",
         "type": "string"
        },
        {
         "name": "geolocation_lat",
         "rawType": "float64",
         "type": "float"
        },
        {
         "name": "geolocation_lng",
         "rawType": "float64",
         "type": "float"
        },
        {
         "name": "geolocation_city",
         "rawType": "object",
         "type": "string"
        },
        {
         "name": "geolocation_state",
         "rawType": "object",
         "type": "string"
        }
       ],
       "ref": "a4d029ad-98bb-4373-8bbd-6ca18f2992ea",
       "rows": [
        [
         "0",
         "01037",
         "-23.54562128115268",
         "-46.63929204800168",
         "sao paulo",
         "SP"
        ],
        [
         "1",
         "01046",
         "-23.54608112703553",
         "-46.64482029837157",
         "sao paulo",
         "SP"
        ],
        [
         "2",
         "01046",
         "-23.54612896641469",
         "-46.64295148361138",
         "sao paulo",
         "SP"
        ],
        [
         "3",
         "01041",
         "-23.5443921648681",
         "-46.63949930627844",
         "sao paulo",
         "SP"
        ],
        [
         "4",
         "01035",
         "-23.541577961711493",
         "-46.64160722329613",
         "sao paulo",
         "SP"
        ],
        [
         "5",
         "01012",
         "-23.547762303364262",
         "-46.63536053788448",
         "são paulo",
         "SP"
        ],
        [
         "6",
         "01047",
         "-23.54627311241268",
         "-46.64122516971552",
         "sao paulo",
         "SP"
        ],
        [
         "7",
         "01013",
         "-23.546923208436723",
         "-46.6342636964915",
         "sao paulo",
         "SP"
        ],
        [
         "8",
         "01029",
         "-23.543769055769133",
         "-46.63427784085132",
         "sao paulo",
         "SP"
        ],
        [
         "9",
         "01011",
         "-23.547639550320632",
         "-46.63603162315495",
         "sao paulo",
         "SP"
        ],
        [
         "10",
         "01013",
         "-23.547325128224376",
         "-46.63418378613892",
         "sao paulo",
         "SP"
        ],
        [
         "11",
         "01032",
         "-23.53841810407414",
         "-46.634778375266734",
         "sao paulo",
         "SP"
        ],
        [
         "12",
         "01014",
         "-23.546435343326205",
         "-46.63383023397196",
         "sao paulo",
         "SP"
        ],
        [
         "13",
         "01012",
         "-23.548945985189437",
         "-46.63467113292871",
         "sao paulo",
         "SP"
        ],
        [
         "14",
         "01037",
         "-23.54518734081604",
         "-46.63785524104107",
         "são paulo",
         "SP"
        ],
        [
         "16",
         "01039",
         "-23.54188300998332",
         "-46.63991946670314",
         "sao paulo",
         "SP"
        ],
        [
         "17",
         "01024",
         "-23.541389521053937",
         "-46.62989908781218",
         "são paulo",
         "SP"
        ],
        [
         "18",
         "01009",
         "-23.54693540437998",
         "-46.63658792659698",
         "sao paulo",
         "SP"
        ],
        [
         "19",
         "01046",
         "-23.54588427921401",
         "-46.64316319124004",
         "sao paulo",
         "SP"
        ],
        [
         "20",
         "01046",
         "-23.545165891770928",
         "-46.643785796266464",
         "sao paulo",
         "SP"
        ],
        [
         "21",
         "01020",
         "-23.55223547100232",
         "-46.6284406588955",
         "são paulo",
         "SP"
        ],
        [
         "22",
         "01011",
         "-23.546690486964888",
         "-46.6354469588072",
         "são paulo",
         "SP"
        ],
        [
         "23",
         "01043",
         "-23.546656718016017",
         "-46.64078762115524",
         "são paulo",
         "SP"
        ],
        [
         "24",
         "01050",
         "-23.549773516504185",
         "-46.64559900666509",
         "sao paulo",
         "SP"
        ],
        [
         "25",
         "01045",
         "-23.541593762969622",
         "-46.64189378810082",
         "sao paulo",
         "SP"
        ],
        [
         "26",
         "01009",
         "-23.545429533441077",
         "-46.63571531432852",
         "sao paulo",
         "SP"
        ],
        [
         "27",
         "01007",
         "-23.550392524842728",
         "-46.63730164071784",
         "sao paulo",
         "SP"
        ],
        [
         "28",
         "01032",
         "-23.5398418758395",
         "-46.63514797691531",
         "são paulo",
         "SP"
        ],
        [
         "29",
         "01041",
         "-23.543539449073783",
         "-46.64057731057763",
         "sao paulo",
         "SP"
        ],
        [
         "30",
         "01005",
         "-23.549819091869107",
         "-46.63560588995324",
         "sao paulo",
         "SP"
        ],
        [
         "31",
         "01037",
         "-23.54670459977496",
         "-46.64033633250615",
         "são paulo",
         "SP"
        ],
        [
         "32",
         "01017",
         "-23.55001091199737",
         "-46.63116636914989",
         "são paulo",
         "SP"
        ],
        [
         "33",
         "01046",
         "-23.54532011933758",
         "-46.64406863434122",
         "sao paulo",
         "SP"
        ],
        [
         "34",
         "01019",
         "-23.552151883432384",
         "-46.63080224715792",
         "sao paulo",
         "SP"
        ],
        [
         "35",
         "01032",
         "-23.540774688874112",
         "-46.63551484303775",
         "sao paulo",
         "SP"
        ],
        [
         "36",
         "01017",
         "-23.5492954052167",
         "-46.63207469510652",
         "sao paulo",
         "SP"
        ],
        [
         "37",
         "01050",
         "-23.549009406053425",
         "-46.64281228183975",
         "sao paulo",
         "SP"
        ],
        [
         "38",
         "01050",
         "-23.548755593946588",
         "-46.642789203733535",
         "sao paulo",
         "SP"
        ],
        [
         "39",
         "01027",
         "-23.538301166801343",
         "-46.63076391104508",
         "sao paulo",
         "SP"
        ],
        [
         "40",
         "01050",
         "-23.54985418067981",
         "-46.643139396906825",
         "sao paulo",
         "SP"
        ],
        [
         "41",
         "01013",
         "-23.5471192492354",
         "-46.634232699405686",
         "sao paulo",
         "SP"
        ],
        [
         "42",
         "01033",
         "-23.54032130474925",
         "-46.636394815973325",
         "sao paulo",
         "SP"
        ],
        [
         "43",
         "01009",
         "-23.54569153926945",
         "-46.635866061486446",
         "sao paulo",
         "SP"
        ],
        [
         "45",
         "01050",
         "-23.54874766250217",
         "-46.64239136704376",
         "sao paulo",
         "SP"
        ],
        [
         "46",
         "01032",
         "-23.54119147654225",
         "-46.63499346058632",
         "sao paulo",
         "SP"
        ],
        [
         "47",
         "01020",
         "-23.552549496537548",
         "-46.63163152553523",
         "sao paulo",
         "SP"
        ],
        [
         "48",
         "01006",
         "-23.55052430835593",
         "-46.63669363835193",
         "sao paulo",
         "SP"
        ],
        [
         "49",
         "01034",
         "-23.54239162719593",
         "-46.63770927785183",
         "sao paulo",
         "SP"
        ],
        [
         "50",
         "01020",
         "-23.552482452132203",
         "-46.62938955675458",
         "sao paulo",
         "SP"
        ],
        [
         "51",
         "01047",
         "-23.54660531805078",
         "-46.641982174447385",
         "sao paulo",
         "SP"
        ]
       ],
       "shape": {
        "columns": 5,
        "rows": 738332
       }
      },
      "text/html": [
       "<div>\n",
       "<style scoped>\n",
       "    .dataframe tbody tr th:only-of-type {\n",
       "        vertical-align: middle;\n",
       "    }\n",
       "\n",
       "    .dataframe tbody tr th {\n",
       "        vertical-align: top;\n",
       "    }\n",
       "\n",
       "    .dataframe thead th {\n",
       "        text-align: right;\n",
       "    }\n",
       "</style>\n",
       "<table border=\"1\" class=\"dataframe\">\n",
       "  <thead>\n",
       "    <tr style=\"text-align: right;\">\n",
       "      <th></th>\n",
       "      <th>geolocation_zip_code_prefix</th>\n",
       "      <th>geolocation_lat</th>\n",
       "      <th>geolocation_lng</th>\n",
       "      <th>geolocation_city</th>\n",
       "      <th>geolocation_state</th>\n",
       "    </tr>\n",
       "  </thead>\n",
       "  <tbody>\n",
       "    <tr>\n",
       "      <th>0</th>\n",
       "      <td>01037</td>\n",
       "      <td>-23.545621</td>\n",
       "      <td>-46.639292</td>\n",
       "      <td>sao paulo</td>\n",
       "      <td>SP</td>\n",
       "    </tr>\n",
       "    <tr>\n",
       "      <th>1</th>\n",
       "      <td>01046</td>\n",
       "      <td>-23.546081</td>\n",
       "      <td>-46.644820</td>\n",
       "      <td>sao paulo</td>\n",
       "      <td>SP</td>\n",
       "    </tr>\n",
       "    <tr>\n",
       "      <th>2</th>\n",
       "      <td>01046</td>\n",
       "      <td>-23.546129</td>\n",
       "      <td>-46.642951</td>\n",
       "      <td>sao paulo</td>\n",
       "      <td>SP</td>\n",
       "    </tr>\n",
       "    <tr>\n",
       "      <th>3</th>\n",
       "      <td>01041</td>\n",
       "      <td>-23.544392</td>\n",
       "      <td>-46.639499</td>\n",
       "      <td>sao paulo</td>\n",
       "      <td>SP</td>\n",
       "    </tr>\n",
       "    <tr>\n",
       "      <th>4</th>\n",
       "      <td>01035</td>\n",
       "      <td>-23.541578</td>\n",
       "      <td>-46.641607</td>\n",
       "      <td>sao paulo</td>\n",
       "      <td>SP</td>\n",
       "    </tr>\n",
       "    <tr>\n",
       "      <th>...</th>\n",
       "      <td>...</td>\n",
       "      <td>...</td>\n",
       "      <td>...</td>\n",
       "      <td>...</td>\n",
       "      <td>...</td>\n",
       "    </tr>\n",
       "    <tr>\n",
       "      <th>1000155</th>\n",
       "      <td>99965</td>\n",
       "      <td>-28.180655</td>\n",
       "      <td>-52.034367</td>\n",
       "      <td>agua santa</td>\n",
       "      <td>RS</td>\n",
       "    </tr>\n",
       "    <tr>\n",
       "      <th>1000156</th>\n",
       "      <td>99950</td>\n",
       "      <td>-28.072188</td>\n",
       "      <td>-52.011272</td>\n",
       "      <td>tapejara</td>\n",
       "      <td>RS</td>\n",
       "    </tr>\n",
       "    <tr>\n",
       "      <th>1000157</th>\n",
       "      <td>99950</td>\n",
       "      <td>-28.068864</td>\n",
       "      <td>-52.012964</td>\n",
       "      <td>tapejara</td>\n",
       "      <td>RS</td>\n",
       "    </tr>\n",
       "    <tr>\n",
       "      <th>1000158</th>\n",
       "      <td>99950</td>\n",
       "      <td>-28.068639</td>\n",
       "      <td>-52.010705</td>\n",
       "      <td>tapejara</td>\n",
       "      <td>RS</td>\n",
       "    </tr>\n",
       "    <tr>\n",
       "      <th>1000161</th>\n",
       "      <td>99980</td>\n",
       "      <td>-28.388932</td>\n",
       "      <td>-51.846871</td>\n",
       "      <td>david canabarro</td>\n",
       "      <td>RS</td>\n",
       "    </tr>\n",
       "  </tbody>\n",
       "</table>\n",
       "<p>738332 rows × 5 columns</p>\n",
       "</div>"
      ],
      "text/plain": [
       "        geolocation_zip_code_prefix  geolocation_lat  geolocation_lng  \\\n",
       "0                             01037       -23.545621       -46.639292   \n",
       "1                             01046       -23.546081       -46.644820   \n",
       "2                             01046       -23.546129       -46.642951   \n",
       "3                             01041       -23.544392       -46.639499   \n",
       "4                             01035       -23.541578       -46.641607   \n",
       "...                             ...              ...              ...   \n",
       "1000155                       99965       -28.180655       -52.034367   \n",
       "1000156                       99950       -28.072188       -52.011272   \n",
       "1000157                       99950       -28.068864       -52.012964   \n",
       "1000158                       99950       -28.068639       -52.010705   \n",
       "1000161                       99980       -28.388932       -51.846871   \n",
       "\n",
       "        geolocation_city geolocation_state  \n",
       "0              sao paulo                SP  \n",
       "1              sao paulo                SP  \n",
       "2              sao paulo                SP  \n",
       "3              sao paulo                SP  \n",
       "4              sao paulo                SP  \n",
       "...                  ...               ...  \n",
       "1000155       agua santa                RS  \n",
       "1000156         tapejara                RS  \n",
       "1000157         tapejara                RS  \n",
       "1000158         tapejara                RS  \n",
       "1000161  david canabarro                RS  \n",
       "\n",
       "[738332 rows x 5 columns]"
      ]
     },
     "execution_count": 16,
     "metadata": {},
     "output_type": "execute_result"
    }
   ],
   "source": [
    "df"
   ]
  },
  {
   "cell_type": "code",
   "execution_count": 17,
   "id": "01fe66bf",
   "metadata": {},
   "outputs": [],
   "source": [
    "#renaming the columns\n",
    "df.rename(columns={\n",
    "    'geolocation_zip_code_prefix': 'zip_code',\n",
    "    'geolocation_lat': 'latitude',\n",
    "    'geolocation_lng': 'longitude'\n",
    "}, inplace=True)"
   ]
  },
  {
   "cell_type": "code",
   "execution_count": 18,
   "id": "ec679636",
   "metadata": {},
   "outputs": [
    {
     "data": {
      "application/vnd.microsoft.datawrangler.viewer.v0+json": {
       "columns": [
        {
         "name": "index",
         "rawType": "int64",
         "type": "integer"
        },
        {
         "name": "zip_code",
         "rawType": "object",
         "type": "string"
        },
        {
         "name": "latitude",
         "rawType": "float64",
         "type": "float"
        },
        {
         "name": "longitude",
         "rawType": "float64",
         "type": "float"
        },
        {
         "name": "geolocation_city",
         "rawType": "object",
         "type": "string"
        },
        {
         "name": "geolocation_state",
         "rawType": "object",
         "type": "string"
        }
       ],
       "ref": "79e9c74b-df78-4b8c-b939-7205491fb197",
       "rows": [
        [
         "0",
         "01037",
         "-23.54562128115268",
         "-46.63929204800168",
         "sao paulo",
         "SP"
        ],
        [
         "1",
         "01046",
         "-23.54608112703553",
         "-46.64482029837157",
         "sao paulo",
         "SP"
        ],
        [
         "2",
         "01046",
         "-23.54612896641469",
         "-46.64295148361138",
         "sao paulo",
         "SP"
        ],
        [
         "3",
         "01041",
         "-23.5443921648681",
         "-46.63949930627844",
         "sao paulo",
         "SP"
        ],
        [
         "4",
         "01035",
         "-23.541577961711493",
         "-46.64160722329613",
         "sao paulo",
         "SP"
        ]
       ],
       "shape": {
        "columns": 5,
        "rows": 5
       }
      },
      "text/html": [
       "<div>\n",
       "<style scoped>\n",
       "    .dataframe tbody tr th:only-of-type {\n",
       "        vertical-align: middle;\n",
       "    }\n",
       "\n",
       "    .dataframe tbody tr th {\n",
       "        vertical-align: top;\n",
       "    }\n",
       "\n",
       "    .dataframe thead th {\n",
       "        text-align: right;\n",
       "    }\n",
       "</style>\n",
       "<table border=\"1\" class=\"dataframe\">\n",
       "  <thead>\n",
       "    <tr style=\"text-align: right;\">\n",
       "      <th></th>\n",
       "      <th>zip_code</th>\n",
       "      <th>latitude</th>\n",
       "      <th>longitude</th>\n",
       "      <th>geolocation_city</th>\n",
       "      <th>geolocation_state</th>\n",
       "    </tr>\n",
       "  </thead>\n",
       "  <tbody>\n",
       "    <tr>\n",
       "      <th>0</th>\n",
       "      <td>01037</td>\n",
       "      <td>-23.545621</td>\n",
       "      <td>-46.639292</td>\n",
       "      <td>sao paulo</td>\n",
       "      <td>SP</td>\n",
       "    </tr>\n",
       "    <tr>\n",
       "      <th>1</th>\n",
       "      <td>01046</td>\n",
       "      <td>-23.546081</td>\n",
       "      <td>-46.644820</td>\n",
       "      <td>sao paulo</td>\n",
       "      <td>SP</td>\n",
       "    </tr>\n",
       "    <tr>\n",
       "      <th>2</th>\n",
       "      <td>01046</td>\n",
       "      <td>-23.546129</td>\n",
       "      <td>-46.642951</td>\n",
       "      <td>sao paulo</td>\n",
       "      <td>SP</td>\n",
       "    </tr>\n",
       "    <tr>\n",
       "      <th>3</th>\n",
       "      <td>01041</td>\n",
       "      <td>-23.544392</td>\n",
       "      <td>-46.639499</td>\n",
       "      <td>sao paulo</td>\n",
       "      <td>SP</td>\n",
       "    </tr>\n",
       "    <tr>\n",
       "      <th>4</th>\n",
       "      <td>01035</td>\n",
       "      <td>-23.541578</td>\n",
       "      <td>-46.641607</td>\n",
       "      <td>sao paulo</td>\n",
       "      <td>SP</td>\n",
       "    </tr>\n",
       "  </tbody>\n",
       "</table>\n",
       "</div>"
      ],
      "text/plain": [
       "  zip_code   latitude  longitude geolocation_city geolocation_state\n",
       "0    01037 -23.545621 -46.639292        sao paulo                SP\n",
       "1    01046 -23.546081 -46.644820        sao paulo                SP\n",
       "2    01046 -23.546129 -46.642951        sao paulo                SP\n",
       "3    01041 -23.544392 -46.639499        sao paulo                SP\n",
       "4    01035 -23.541578 -46.641607        sao paulo                SP"
      ]
     },
     "execution_count": 18,
     "metadata": {},
     "output_type": "execute_result"
    }
   ],
   "source": [
    "df.head()"
   ]
  },
  {
   "cell_type": "code",
   "execution_count": 19,
   "id": "050aa569",
   "metadata": {},
   "outputs": [],
   "source": [
    "df['latitude'] = df['latitude'].astype(str).str.replace('#', '', regex=False) # removing # from col"
   ]
  },
  {
   "cell_type": "code",
   "execution_count": 20,
   "id": "69a93d50",
   "metadata": {},
   "outputs": [
    {
     "data": {
      "application/vnd.microsoft.datawrangler.viewer.v0+json": {
       "columns": [
        {
         "name": "index",
         "rawType": "int64",
         "type": "integer"
        },
        {
         "name": "zip_code",
         "rawType": "object",
         "type": "string"
        },
        {
         "name": "latitude",
         "rawType": "object",
         "type": "string"
        },
        {
         "name": "longitude",
         "rawType": "float64",
         "type": "float"
        },
        {
         "name": "geolocation_city",
         "rawType": "object",
         "type": "string"
        },
        {
         "name": "geolocation_state",
         "rawType": "object",
         "type": "string"
        }
       ],
       "ref": "f0c8b801-74c6-4dd7-bb59-8d137ef28641",
       "rows": [
        [
         "0",
         "01037",
         "-23.54562128115268",
         "-46.63929204800168",
         "sao paulo",
         "SP"
        ],
        [
         "1",
         "01046",
         "-23.54608112703553",
         "-46.64482029837157",
         "sao paulo",
         "SP"
        ],
        [
         "2",
         "01046",
         "-23.54612896641469",
         "-46.64295148361138",
         "sao paulo",
         "SP"
        ],
        [
         "3",
         "01041",
         "-23.5443921648681",
         "-46.63949930627844",
         "sao paulo",
         "SP"
        ],
        [
         "4",
         "01035",
         "-23.541577961711493",
         "-46.64160722329613",
         "sao paulo",
         "SP"
        ],
        [
         "5",
         "01012",
         "-23.547762303364262",
         "-46.63536053788448",
         "são paulo",
         "SP"
        ],
        [
         "6",
         "01047",
         "-23.54627311241268",
         "-46.64122516971552",
         "sao paulo",
         "SP"
        ],
        [
         "7",
         "01013",
         "-23.546923208436723",
         "-46.6342636964915",
         "sao paulo",
         "SP"
        ],
        [
         "8",
         "01029",
         "-23.543769055769133",
         "-46.63427784085132",
         "sao paulo",
         "SP"
        ],
        [
         "9",
         "01011",
         "-23.547639550320632",
         "-46.63603162315495",
         "sao paulo",
         "SP"
        ],
        [
         "10",
         "01013",
         "-23.547325128224376",
         "-46.63418378613892",
         "sao paulo",
         "SP"
        ],
        [
         "11",
         "01032",
         "-23.53841810407414",
         "-46.634778375266734",
         "sao paulo",
         "SP"
        ],
        [
         "12",
         "01014",
         "-23.546435343326205",
         "-46.63383023397196",
         "sao paulo",
         "SP"
        ],
        [
         "13",
         "01012",
         "-23.548945985189437",
         "-46.63467113292871",
         "sao paulo",
         "SP"
        ],
        [
         "14",
         "01037",
         "-23.54518734081604",
         "-46.63785524104107",
         "são paulo",
         "SP"
        ],
        [
         "16",
         "01039",
         "-23.54188300998332",
         "-46.63991946670314",
         "sao paulo",
         "SP"
        ],
        [
         "17",
         "01024",
         "-23.541389521053937",
         "-46.62989908781218",
         "são paulo",
         "SP"
        ],
        [
         "18",
         "01009",
         "-23.54693540437998",
         "-46.63658792659698",
         "sao paulo",
         "SP"
        ],
        [
         "19",
         "01046",
         "-23.54588427921401",
         "-46.64316319124004",
         "sao paulo",
         "SP"
        ],
        [
         "20",
         "01046",
         "-23.545165891770928",
         "-46.643785796266464",
         "sao paulo",
         "SP"
        ],
        [
         "21",
         "01020",
         "-23.55223547100232",
         "-46.6284406588955",
         "são paulo",
         "SP"
        ],
        [
         "22",
         "01011",
         "-23.546690486964888",
         "-46.6354469588072",
         "são paulo",
         "SP"
        ],
        [
         "23",
         "01043",
         "-23.546656718016017",
         "-46.64078762115524",
         "são paulo",
         "SP"
        ],
        [
         "24",
         "01050",
         "-23.549773516504185",
         "-46.64559900666509",
         "sao paulo",
         "SP"
        ],
        [
         "25",
         "01045",
         "-23.541593762969622",
         "-46.64189378810082",
         "sao paulo",
         "SP"
        ],
        [
         "26",
         "01009",
         "-23.545429533441077",
         "-46.63571531432852",
         "sao paulo",
         "SP"
        ],
        [
         "27",
         "01007",
         "-23.550392524842728",
         "-46.63730164071784",
         "sao paulo",
         "SP"
        ],
        [
         "28",
         "01032",
         "-23.5398418758395",
         "-46.63514797691531",
         "são paulo",
         "SP"
        ],
        [
         "29",
         "01041",
         "-23.543539449073783",
         "-46.64057731057763",
         "sao paulo",
         "SP"
        ],
        [
         "30",
         "01005",
         "-23.549819091869107",
         "-46.63560588995324",
         "sao paulo",
         "SP"
        ],
        [
         "31",
         "01037",
         "-23.54670459977496",
         "-46.64033633250615",
         "são paulo",
         "SP"
        ],
        [
         "32",
         "01017",
         "-23.55001091199737",
         "-46.63116636914989",
         "são paulo",
         "SP"
        ],
        [
         "33",
         "01046",
         "-23.54532011933758",
         "-46.64406863434122",
         "sao paulo",
         "SP"
        ],
        [
         "34",
         "01019",
         "-23.552151883432384",
         "-46.63080224715792",
         "sao paulo",
         "SP"
        ],
        [
         "35",
         "01032",
         "-23.540774688874112",
         "-46.63551484303775",
         "sao paulo",
         "SP"
        ],
        [
         "36",
         "01017",
         "-23.5492954052167",
         "-46.63207469510652",
         "sao paulo",
         "SP"
        ],
        [
         "37",
         "01050",
         "-23.549009406053425",
         "-46.64281228183975",
         "sao paulo",
         "SP"
        ],
        [
         "38",
         "01050",
         "-23.548755593946588",
         "-46.642789203733535",
         "sao paulo",
         "SP"
        ],
        [
         "39",
         "01027",
         "-23.538301166801343",
         "-46.63076391104508",
         "sao paulo",
         "SP"
        ],
        [
         "40",
         "01050",
         "-23.54985418067981",
         "-46.643139396906825",
         "sao paulo",
         "SP"
        ],
        [
         "41",
         "01013",
         "-23.5471192492354",
         "-46.634232699405686",
         "sao paulo",
         "SP"
        ],
        [
         "42",
         "01033",
         "-23.54032130474925",
         "-46.636394815973325",
         "sao paulo",
         "SP"
        ],
        [
         "43",
         "01009",
         "-23.54569153926945",
         "-46.635866061486446",
         "sao paulo",
         "SP"
        ],
        [
         "45",
         "01050",
         "-23.54874766250217",
         "-46.64239136704376",
         "sao paulo",
         "SP"
        ],
        [
         "46",
         "01032",
         "-23.54119147654225",
         "-46.63499346058632",
         "sao paulo",
         "SP"
        ],
        [
         "47",
         "01020",
         "-23.552549496537548",
         "-46.63163152553523",
         "sao paulo",
         "SP"
        ],
        [
         "48",
         "01006",
         "-23.55052430835593",
         "-46.63669363835193",
         "sao paulo",
         "SP"
        ],
        [
         "49",
         "01034",
         "-23.54239162719593",
         "-46.63770927785183",
         "sao paulo",
         "SP"
        ],
        [
         "50",
         "01020",
         "-23.552482452132203",
         "-46.62938955675458",
         "sao paulo",
         "SP"
        ],
        [
         "51",
         "01047",
         "-23.54660531805078",
         "-46.641982174447385",
         "sao paulo",
         "SP"
        ]
       ],
       "shape": {
        "columns": 5,
        "rows": 738332
       }
      },
      "text/html": [
       "<div>\n",
       "<style scoped>\n",
       "    .dataframe tbody tr th:only-of-type {\n",
       "        vertical-align: middle;\n",
       "    }\n",
       "\n",
       "    .dataframe tbody tr th {\n",
       "        vertical-align: top;\n",
       "    }\n",
       "\n",
       "    .dataframe thead th {\n",
       "        text-align: right;\n",
       "    }\n",
       "</style>\n",
       "<table border=\"1\" class=\"dataframe\">\n",
       "  <thead>\n",
       "    <tr style=\"text-align: right;\">\n",
       "      <th></th>\n",
       "      <th>zip_code</th>\n",
       "      <th>latitude</th>\n",
       "      <th>longitude</th>\n",
       "      <th>geolocation_city</th>\n",
       "      <th>geolocation_state</th>\n",
       "    </tr>\n",
       "  </thead>\n",
       "  <tbody>\n",
       "    <tr>\n",
       "      <th>0</th>\n",
       "      <td>01037</td>\n",
       "      <td>-23.54562128115268</td>\n",
       "      <td>-46.639292</td>\n",
       "      <td>sao paulo</td>\n",
       "      <td>SP</td>\n",
       "    </tr>\n",
       "    <tr>\n",
       "      <th>1</th>\n",
       "      <td>01046</td>\n",
       "      <td>-23.54608112703553</td>\n",
       "      <td>-46.644820</td>\n",
       "      <td>sao paulo</td>\n",
       "      <td>SP</td>\n",
       "    </tr>\n",
       "    <tr>\n",
       "      <th>2</th>\n",
       "      <td>01046</td>\n",
       "      <td>-23.54612896641469</td>\n",
       "      <td>-46.642951</td>\n",
       "      <td>sao paulo</td>\n",
       "      <td>SP</td>\n",
       "    </tr>\n",
       "    <tr>\n",
       "      <th>3</th>\n",
       "      <td>01041</td>\n",
       "      <td>-23.5443921648681</td>\n",
       "      <td>-46.639499</td>\n",
       "      <td>sao paulo</td>\n",
       "      <td>SP</td>\n",
       "    </tr>\n",
       "    <tr>\n",
       "      <th>4</th>\n",
       "      <td>01035</td>\n",
       "      <td>-23.541577961711493</td>\n",
       "      <td>-46.641607</td>\n",
       "      <td>sao paulo</td>\n",
       "      <td>SP</td>\n",
       "    </tr>\n",
       "    <tr>\n",
       "      <th>...</th>\n",
       "      <td>...</td>\n",
       "      <td>...</td>\n",
       "      <td>...</td>\n",
       "      <td>...</td>\n",
       "      <td>...</td>\n",
       "    </tr>\n",
       "    <tr>\n",
       "      <th>1000155</th>\n",
       "      <td>99965</td>\n",
       "      <td>-28.180655165648112</td>\n",
       "      <td>-52.034367</td>\n",
       "      <td>agua santa</td>\n",
       "      <td>RS</td>\n",
       "    </tr>\n",
       "    <tr>\n",
       "      <th>1000156</th>\n",
       "      <td>99950</td>\n",
       "      <td>-28.072187652217004</td>\n",
       "      <td>-52.011272</td>\n",
       "      <td>tapejara</td>\n",
       "      <td>RS</td>\n",
       "    </tr>\n",
       "    <tr>\n",
       "      <th>1000157</th>\n",
       "      <td>99950</td>\n",
       "      <td>-28.068863628939333</td>\n",
       "      <td>-52.012964</td>\n",
       "      <td>tapejara</td>\n",
       "      <td>RS</td>\n",
       "    </tr>\n",
       "    <tr>\n",
       "      <th>1000158</th>\n",
       "      <td>99950</td>\n",
       "      <td>-28.06863887662893</td>\n",
       "      <td>-52.010705</td>\n",
       "      <td>tapejara</td>\n",
       "      <td>RS</td>\n",
       "    </tr>\n",
       "    <tr>\n",
       "      <th>1000161</th>\n",
       "      <td>99980</td>\n",
       "      <td>-28.38893187660049</td>\n",
       "      <td>-51.846871</td>\n",
       "      <td>david canabarro</td>\n",
       "      <td>RS</td>\n",
       "    </tr>\n",
       "  </tbody>\n",
       "</table>\n",
       "<p>738332 rows × 5 columns</p>\n",
       "</div>"
      ],
      "text/plain": [
       "        zip_code             latitude  longitude geolocation_city  \\\n",
       "0          01037   -23.54562128115268 -46.639292        sao paulo   \n",
       "1          01046   -23.54608112703553 -46.644820        sao paulo   \n",
       "2          01046   -23.54612896641469 -46.642951        sao paulo   \n",
       "3          01041    -23.5443921648681 -46.639499        sao paulo   \n",
       "4          01035  -23.541577961711493 -46.641607        sao paulo   \n",
       "...          ...                  ...        ...              ...   \n",
       "1000155    99965  -28.180655165648112 -52.034367       agua santa   \n",
       "1000156    99950  -28.072187652217004 -52.011272         tapejara   \n",
       "1000157    99950  -28.068863628939333 -52.012964         tapejara   \n",
       "1000158    99950   -28.06863887662893 -52.010705         tapejara   \n",
       "1000161    99980   -28.38893187660049 -51.846871  david canabarro   \n",
       "\n",
       "        geolocation_state  \n",
       "0                      SP  \n",
       "1                      SP  \n",
       "2                      SP  \n",
       "3                      SP  \n",
       "4                      SP  \n",
       "...                   ...  \n",
       "1000155                RS  \n",
       "1000156                RS  \n",
       "1000157                RS  \n",
       "1000158                RS  \n",
       "1000161                RS  \n",
       "\n",
       "[738332 rows x 5 columns]"
      ]
     },
     "execution_count": 20,
     "metadata": {},
     "output_type": "execute_result"
    }
   ],
   "source": [
    "df"
   ]
  },
  {
   "cell_type": "code",
   "execution_count": 21,
   "id": "22d0269d",
   "metadata": {},
   "outputs": [],
   "source": [
    "df['longitude'] = df['longitude'].astype(str).str.replace('#', '', regex=False)"
   ]
  },
  {
   "cell_type": "code",
   "execution_count": 22,
   "id": "99d8cf49",
   "metadata": {},
   "outputs": [
    {
     "data": {
      "application/vnd.microsoft.datawrangler.viewer.v0+json": {
       "columns": [
        {
         "name": "index",
         "rawType": "int64",
         "type": "integer"
        },
        {
         "name": "zip_code",
         "rawType": "object",
         "type": "string"
        },
        {
         "name": "latitude",
         "rawType": "object",
         "type": "string"
        },
        {
         "name": "longitude",
         "rawType": "object",
         "type": "string"
        },
        {
         "name": "geolocation_city",
         "rawType": "object",
         "type": "string"
        },
        {
         "name": "geolocation_state",
         "rawType": "object",
         "type": "string"
        }
       ],
       "ref": "da101376-71dc-4d8a-958d-4e9e2da90a5e",
       "rows": [
        [
         "0",
         "01037",
         "-23.54562128115268",
         "-46.63929204800168",
         "sao paulo",
         "SP"
        ],
        [
         "1",
         "01046",
         "-23.54608112703553",
         "-46.64482029837157",
         "sao paulo",
         "SP"
        ],
        [
         "2",
         "01046",
         "-23.54612896641469",
         "-46.64295148361138",
         "sao paulo",
         "SP"
        ],
        [
         "3",
         "01041",
         "-23.5443921648681",
         "-46.63949930627844",
         "sao paulo",
         "SP"
        ],
        [
         "4",
         "01035",
         "-23.541577961711493",
         "-46.64160722329613",
         "sao paulo",
         "SP"
        ]
       ],
       "shape": {
        "columns": 5,
        "rows": 5
       }
      },
      "text/html": [
       "<div>\n",
       "<style scoped>\n",
       "    .dataframe tbody tr th:only-of-type {\n",
       "        vertical-align: middle;\n",
       "    }\n",
       "\n",
       "    .dataframe tbody tr th {\n",
       "        vertical-align: top;\n",
       "    }\n",
       "\n",
       "    .dataframe thead th {\n",
       "        text-align: right;\n",
       "    }\n",
       "</style>\n",
       "<table border=\"1\" class=\"dataframe\">\n",
       "  <thead>\n",
       "    <tr style=\"text-align: right;\">\n",
       "      <th></th>\n",
       "      <th>zip_code</th>\n",
       "      <th>latitude</th>\n",
       "      <th>longitude</th>\n",
       "      <th>geolocation_city</th>\n",
       "      <th>geolocation_state</th>\n",
       "    </tr>\n",
       "  </thead>\n",
       "  <tbody>\n",
       "    <tr>\n",
       "      <th>0</th>\n",
       "      <td>01037</td>\n",
       "      <td>-23.54562128115268</td>\n",
       "      <td>-46.63929204800168</td>\n",
       "      <td>sao paulo</td>\n",
       "      <td>SP</td>\n",
       "    </tr>\n",
       "    <tr>\n",
       "      <th>1</th>\n",
       "      <td>01046</td>\n",
       "      <td>-23.54608112703553</td>\n",
       "      <td>-46.64482029837157</td>\n",
       "      <td>sao paulo</td>\n",
       "      <td>SP</td>\n",
       "    </tr>\n",
       "    <tr>\n",
       "      <th>2</th>\n",
       "      <td>01046</td>\n",
       "      <td>-23.54612896641469</td>\n",
       "      <td>-46.64295148361138</td>\n",
       "      <td>sao paulo</td>\n",
       "      <td>SP</td>\n",
       "    </tr>\n",
       "    <tr>\n",
       "      <th>3</th>\n",
       "      <td>01041</td>\n",
       "      <td>-23.5443921648681</td>\n",
       "      <td>-46.63949930627844</td>\n",
       "      <td>sao paulo</td>\n",
       "      <td>SP</td>\n",
       "    </tr>\n",
       "    <tr>\n",
       "      <th>4</th>\n",
       "      <td>01035</td>\n",
       "      <td>-23.541577961711493</td>\n",
       "      <td>-46.64160722329613</td>\n",
       "      <td>sao paulo</td>\n",
       "      <td>SP</td>\n",
       "    </tr>\n",
       "  </tbody>\n",
       "</table>\n",
       "</div>"
      ],
      "text/plain": [
       "  zip_code             latitude           longitude geolocation_city  \\\n",
       "0    01037   -23.54562128115268  -46.63929204800168        sao paulo   \n",
       "1    01046   -23.54608112703553  -46.64482029837157        sao paulo   \n",
       "2    01046   -23.54612896641469  -46.64295148361138        sao paulo   \n",
       "3    01041    -23.5443921648681  -46.63949930627844        sao paulo   \n",
       "4    01035  -23.541577961711493  -46.64160722329613        sao paulo   \n",
       "\n",
       "  geolocation_state  \n",
       "0                SP  \n",
       "1                SP  \n",
       "2                SP  \n",
       "3                SP  \n",
       "4                SP  "
      ]
     },
     "execution_count": 22,
     "metadata": {},
     "output_type": "execute_result"
    }
   ],
   "source": [
    "df.head()"
   ]
  },
  {
   "cell_type": "code",
   "execution_count": 23,
   "id": "d5300e09",
   "metadata": {},
   "outputs": [],
   "source": [
    "df['geolocation_city'] = df['geolocation_city'].str.title().str.strip()"
   ]
  },
  {
   "cell_type": "code",
   "execution_count": 24,
   "id": "b7183a5f",
   "metadata": {},
   "outputs": [
    {
     "data": {
      "application/vnd.microsoft.datawrangler.viewer.v0+json": {
       "columns": [
        {
         "name": "index",
         "rawType": "int64",
         "type": "integer"
        },
        {
         "name": "zip_code",
         "rawType": "object",
         "type": "string"
        },
        {
         "name": "latitude",
         "rawType": "object",
         "type": "string"
        },
        {
         "name": "longitude",
         "rawType": "object",
         "type": "string"
        },
        {
         "name": "geolocation_city",
         "rawType": "object",
         "type": "string"
        },
        {
         "name": "geolocation_state",
         "rawType": "object",
         "type": "string"
        }
       ],
       "ref": "24a76e7b-5835-4a87-88e1-efd191fa2319",
       "rows": [
        [
         "0",
         "01037",
         "-23.54562128115268",
         "-46.63929204800168",
         "Sao Paulo",
         "SP"
        ],
        [
         "1",
         "01046",
         "-23.54608112703553",
         "-46.64482029837157",
         "Sao Paulo",
         "SP"
        ],
        [
         "2",
         "01046",
         "-23.54612896641469",
         "-46.64295148361138",
         "Sao Paulo",
         "SP"
        ],
        [
         "3",
         "01041",
         "-23.5443921648681",
         "-46.63949930627844",
         "Sao Paulo",
         "SP"
        ],
        [
         "4",
         "01035",
         "-23.541577961711493",
         "-46.64160722329613",
         "Sao Paulo",
         "SP"
        ],
        [
         "5",
         "01012",
         "-23.547762303364262",
         "-46.63536053788448",
         "São Paulo",
         "SP"
        ],
        [
         "6",
         "01047",
         "-23.54627311241268",
         "-46.64122516971552",
         "Sao Paulo",
         "SP"
        ],
        [
         "7",
         "01013",
         "-23.546923208436723",
         "-46.6342636964915",
         "Sao Paulo",
         "SP"
        ],
        [
         "8",
         "01029",
         "-23.543769055769133",
         "-46.63427784085132",
         "Sao Paulo",
         "SP"
        ],
        [
         "9",
         "01011",
         "-23.547639550320632",
         "-46.63603162315495",
         "Sao Paulo",
         "SP"
        ],
        [
         "10",
         "01013",
         "-23.547325128224376",
         "-46.63418378613892",
         "Sao Paulo",
         "SP"
        ],
        [
         "11",
         "01032",
         "-23.53841810407414",
         "-46.634778375266734",
         "Sao Paulo",
         "SP"
        ],
        [
         "12",
         "01014",
         "-23.546435343326205",
         "-46.63383023397196",
         "Sao Paulo",
         "SP"
        ],
        [
         "13",
         "01012",
         "-23.548945985189437",
         "-46.63467113292871",
         "Sao Paulo",
         "SP"
        ],
        [
         "14",
         "01037",
         "-23.54518734081604",
         "-46.63785524104107",
         "São Paulo",
         "SP"
        ],
        [
         "16",
         "01039",
         "-23.54188300998332",
         "-46.63991946670314",
         "Sao Paulo",
         "SP"
        ],
        [
         "17",
         "01024",
         "-23.541389521053937",
         "-46.62989908781218",
         "São Paulo",
         "SP"
        ],
        [
         "18",
         "01009",
         "-23.54693540437998",
         "-46.63658792659698",
         "Sao Paulo",
         "SP"
        ],
        [
         "19",
         "01046",
         "-23.54588427921401",
         "-46.64316319124004",
         "Sao Paulo",
         "SP"
        ],
        [
         "20",
         "01046",
         "-23.545165891770928",
         "-46.643785796266464",
         "Sao Paulo",
         "SP"
        ],
        [
         "21",
         "01020",
         "-23.55223547100232",
         "-46.6284406588955",
         "São Paulo",
         "SP"
        ],
        [
         "22",
         "01011",
         "-23.546690486964888",
         "-46.6354469588072",
         "São Paulo",
         "SP"
        ],
        [
         "23",
         "01043",
         "-23.546656718016017",
         "-46.64078762115524",
         "São Paulo",
         "SP"
        ],
        [
         "24",
         "01050",
         "-23.549773516504185",
         "-46.64559900666509",
         "Sao Paulo",
         "SP"
        ],
        [
         "25",
         "01045",
         "-23.541593762969622",
         "-46.64189378810082",
         "Sao Paulo",
         "SP"
        ],
        [
         "26",
         "01009",
         "-23.545429533441077",
         "-46.63571531432852",
         "Sao Paulo",
         "SP"
        ],
        [
         "27",
         "01007",
         "-23.550392524842728",
         "-46.63730164071784",
         "Sao Paulo",
         "SP"
        ],
        [
         "28",
         "01032",
         "-23.5398418758395",
         "-46.63514797691531",
         "São Paulo",
         "SP"
        ],
        [
         "29",
         "01041",
         "-23.543539449073783",
         "-46.64057731057763",
         "Sao Paulo",
         "SP"
        ],
        [
         "30",
         "01005",
         "-23.549819091869107",
         "-46.63560588995324",
         "Sao Paulo",
         "SP"
        ],
        [
         "31",
         "01037",
         "-23.54670459977496",
         "-46.64033633250615",
         "São Paulo",
         "SP"
        ],
        [
         "32",
         "01017",
         "-23.55001091199737",
         "-46.63116636914989",
         "São Paulo",
         "SP"
        ],
        [
         "33",
         "01046",
         "-23.54532011933758",
         "-46.64406863434122",
         "Sao Paulo",
         "SP"
        ],
        [
         "34",
         "01019",
         "-23.552151883432384",
         "-46.63080224715792",
         "Sao Paulo",
         "SP"
        ],
        [
         "35",
         "01032",
         "-23.540774688874112",
         "-46.63551484303775",
         "Sao Paulo",
         "SP"
        ],
        [
         "36",
         "01017",
         "-23.5492954052167",
         "-46.63207469510652",
         "Sao Paulo",
         "SP"
        ],
        [
         "37",
         "01050",
         "-23.549009406053425",
         "-46.64281228183975",
         "Sao Paulo",
         "SP"
        ],
        [
         "38",
         "01050",
         "-23.548755593946588",
         "-46.642789203733535",
         "Sao Paulo",
         "SP"
        ],
        [
         "39",
         "01027",
         "-23.538301166801343",
         "-46.63076391104508",
         "Sao Paulo",
         "SP"
        ],
        [
         "40",
         "01050",
         "-23.54985418067981",
         "-46.643139396906825",
         "Sao Paulo",
         "SP"
        ],
        [
         "41",
         "01013",
         "-23.5471192492354",
         "-46.634232699405686",
         "Sao Paulo",
         "SP"
        ],
        [
         "42",
         "01033",
         "-23.54032130474925",
         "-46.636394815973325",
         "Sao Paulo",
         "SP"
        ],
        [
         "43",
         "01009",
         "-23.54569153926945",
         "-46.635866061486446",
         "Sao Paulo",
         "SP"
        ],
        [
         "45",
         "01050",
         "-23.54874766250217",
         "-46.64239136704376",
         "Sao Paulo",
         "SP"
        ],
        [
         "46",
         "01032",
         "-23.54119147654225",
         "-46.63499346058632",
         "Sao Paulo",
         "SP"
        ],
        [
         "47",
         "01020",
         "-23.552549496537548",
         "-46.63163152553523",
         "Sao Paulo",
         "SP"
        ],
        [
         "48",
         "01006",
         "-23.55052430835593",
         "-46.63669363835193",
         "Sao Paulo",
         "SP"
        ],
        [
         "49",
         "01034",
         "-23.54239162719593",
         "-46.63770927785183",
         "Sao Paulo",
         "SP"
        ],
        [
         "50",
         "01020",
         "-23.552482452132203",
         "-46.62938955675458",
         "Sao Paulo",
         "SP"
        ],
        [
         "51",
         "01047",
         "-23.54660531805078",
         "-46.641982174447385",
         "Sao Paulo",
         "SP"
        ]
       ],
       "shape": {
        "columns": 5,
        "rows": 738332
       }
      },
      "text/html": [
       "<div>\n",
       "<style scoped>\n",
       "    .dataframe tbody tr th:only-of-type {\n",
       "        vertical-align: middle;\n",
       "    }\n",
       "\n",
       "    .dataframe tbody tr th {\n",
       "        vertical-align: top;\n",
       "    }\n",
       "\n",
       "    .dataframe thead th {\n",
       "        text-align: right;\n",
       "    }\n",
       "</style>\n",
       "<table border=\"1\" class=\"dataframe\">\n",
       "  <thead>\n",
       "    <tr style=\"text-align: right;\">\n",
       "      <th></th>\n",
       "      <th>zip_code</th>\n",
       "      <th>latitude</th>\n",
       "      <th>longitude</th>\n",
       "      <th>geolocation_city</th>\n",
       "      <th>geolocation_state</th>\n",
       "    </tr>\n",
       "  </thead>\n",
       "  <tbody>\n",
       "    <tr>\n",
       "      <th>0</th>\n",
       "      <td>01037</td>\n",
       "      <td>-23.54562128115268</td>\n",
       "      <td>-46.63929204800168</td>\n",
       "      <td>Sao Paulo</td>\n",
       "      <td>SP</td>\n",
       "    </tr>\n",
       "    <tr>\n",
       "      <th>1</th>\n",
       "      <td>01046</td>\n",
       "      <td>-23.54608112703553</td>\n",
       "      <td>-46.64482029837157</td>\n",
       "      <td>Sao Paulo</td>\n",
       "      <td>SP</td>\n",
       "    </tr>\n",
       "    <tr>\n",
       "      <th>2</th>\n",
       "      <td>01046</td>\n",
       "      <td>-23.54612896641469</td>\n",
       "      <td>-46.64295148361138</td>\n",
       "      <td>Sao Paulo</td>\n",
       "      <td>SP</td>\n",
       "    </tr>\n",
       "    <tr>\n",
       "      <th>3</th>\n",
       "      <td>01041</td>\n",
       "      <td>-23.5443921648681</td>\n",
       "      <td>-46.63949930627844</td>\n",
       "      <td>Sao Paulo</td>\n",
       "      <td>SP</td>\n",
       "    </tr>\n",
       "    <tr>\n",
       "      <th>4</th>\n",
       "      <td>01035</td>\n",
       "      <td>-23.541577961711493</td>\n",
       "      <td>-46.64160722329613</td>\n",
       "      <td>Sao Paulo</td>\n",
       "      <td>SP</td>\n",
       "    </tr>\n",
       "    <tr>\n",
       "      <th>...</th>\n",
       "      <td>...</td>\n",
       "      <td>...</td>\n",
       "      <td>...</td>\n",
       "      <td>...</td>\n",
       "      <td>...</td>\n",
       "    </tr>\n",
       "    <tr>\n",
       "      <th>1000155</th>\n",
       "      <td>99965</td>\n",
       "      <td>-28.180655165648112</td>\n",
       "      <td>-52.034366727397455</td>\n",
       "      <td>Agua Santa</td>\n",
       "      <td>RS</td>\n",
       "    </tr>\n",
       "    <tr>\n",
       "      <th>1000156</th>\n",
       "      <td>99950</td>\n",
       "      <td>-28.072187652217004</td>\n",
       "      <td>-52.01127167058397</td>\n",
       "      <td>Tapejara</td>\n",
       "      <td>RS</td>\n",
       "    </tr>\n",
       "    <tr>\n",
       "      <th>1000157</th>\n",
       "      <td>99950</td>\n",
       "      <td>-28.068863628939333</td>\n",
       "      <td>-52.01296438020919</td>\n",
       "      <td>Tapejara</td>\n",
       "      <td>RS</td>\n",
       "    </tr>\n",
       "    <tr>\n",
       "      <th>1000158</th>\n",
       "      <td>99950</td>\n",
       "      <td>-28.06863887662893</td>\n",
       "      <td>-52.01070524698279</td>\n",
       "      <td>Tapejara</td>\n",
       "      <td>RS</td>\n",
       "    </tr>\n",
       "    <tr>\n",
       "      <th>1000161</th>\n",
       "      <td>99980</td>\n",
       "      <td>-28.38893187660049</td>\n",
       "      <td>-51.84687132274168</td>\n",
       "      <td>David Canabarro</td>\n",
       "      <td>RS</td>\n",
       "    </tr>\n",
       "  </tbody>\n",
       "</table>\n",
       "<p>738332 rows × 5 columns</p>\n",
       "</div>"
      ],
      "text/plain": [
       "        zip_code             latitude            longitude geolocation_city  \\\n",
       "0          01037   -23.54562128115268   -46.63929204800168        Sao Paulo   \n",
       "1          01046   -23.54608112703553   -46.64482029837157        Sao Paulo   \n",
       "2          01046   -23.54612896641469   -46.64295148361138        Sao Paulo   \n",
       "3          01041    -23.5443921648681   -46.63949930627844        Sao Paulo   \n",
       "4          01035  -23.541577961711493   -46.64160722329613        Sao Paulo   \n",
       "...          ...                  ...                  ...              ...   \n",
       "1000155    99965  -28.180655165648112  -52.034366727397455       Agua Santa   \n",
       "1000156    99950  -28.072187652217004   -52.01127167058397         Tapejara   \n",
       "1000157    99950  -28.068863628939333   -52.01296438020919         Tapejara   \n",
       "1000158    99950   -28.06863887662893   -52.01070524698279         Tapejara   \n",
       "1000161    99980   -28.38893187660049   -51.84687132274168  David Canabarro   \n",
       "\n",
       "        geolocation_state  \n",
       "0                      SP  \n",
       "1                      SP  \n",
       "2                      SP  \n",
       "3                      SP  \n",
       "4                      SP  \n",
       "...                   ...  \n",
       "1000155                RS  \n",
       "1000156                RS  \n",
       "1000157                RS  \n",
       "1000158                RS  \n",
       "1000161                RS  \n",
       "\n",
       "[738332 rows x 5 columns]"
      ]
     },
     "execution_count": 24,
     "metadata": {},
     "output_type": "execute_result"
    }
   ],
   "source": [
    "df"
   ]
  },
  {
   "cell_type": "code",
   "execution_count": 25,
   "id": "511858aa",
   "metadata": {},
   "outputs": [
    {
     "data": {
      "application/vnd.microsoft.datawrangler.viewer.v0+json": {
       "columns": [
        {
         "name": "index",
         "rawType": "int64",
         "type": "integer"
        },
        {
         "name": "zip_code",
         "rawType": "object",
         "type": "string"
        },
        {
         "name": "latitude",
         "rawType": "object",
         "type": "string"
        },
        {
         "name": "longitude",
         "rawType": "object",
         "type": "string"
        },
        {
         "name": "geolocation_city",
         "rawType": "object",
         "type": "string"
        },
        {
         "name": "geolocation_state",
         "rawType": "object",
         "type": "string"
        }
       ],
       "ref": "a5ad821b-2290-43e4-a511-6747867dc5ed",
       "rows": [
        [
         "0",
         "01037",
         "-23.54562128115268",
         "-46.63929204800168",
         "Sao Paulo",
         "SP"
        ],
        [
         "1",
         "01046",
         "-23.54608112703553",
         "-46.64482029837157",
         "Sao Paulo",
         "SP"
        ],
        [
         "2",
         "01046",
         "-23.54612896641469",
         "-46.64295148361138",
         "Sao Paulo",
         "SP"
        ],
        [
         "3",
         "01041",
         "-23.5443921648681",
         "-46.63949930627844",
         "Sao Paulo",
         "SP"
        ],
        [
         "4",
         "01035",
         "-23.541577961711493",
         "-46.64160722329613",
         "Sao Paulo",
         "SP"
        ]
       ],
       "shape": {
        "columns": 5,
        "rows": 5
       }
      },
      "text/html": [
       "<div>\n",
       "<style scoped>\n",
       "    .dataframe tbody tr th:only-of-type {\n",
       "        vertical-align: middle;\n",
       "    }\n",
       "\n",
       "    .dataframe tbody tr th {\n",
       "        vertical-align: top;\n",
       "    }\n",
       "\n",
       "    .dataframe thead th {\n",
       "        text-align: right;\n",
       "    }\n",
       "</style>\n",
       "<table border=\"1\" class=\"dataframe\">\n",
       "  <thead>\n",
       "    <tr style=\"text-align: right;\">\n",
       "      <th></th>\n",
       "      <th>zip_code</th>\n",
       "      <th>latitude</th>\n",
       "      <th>longitude</th>\n",
       "      <th>geolocation_city</th>\n",
       "      <th>geolocation_state</th>\n",
       "    </tr>\n",
       "  </thead>\n",
       "  <tbody>\n",
       "    <tr>\n",
       "      <th>0</th>\n",
       "      <td>01037</td>\n",
       "      <td>-23.54562128115268</td>\n",
       "      <td>-46.63929204800168</td>\n",
       "      <td>Sao Paulo</td>\n",
       "      <td>SP</td>\n",
       "    </tr>\n",
       "    <tr>\n",
       "      <th>1</th>\n",
       "      <td>01046</td>\n",
       "      <td>-23.54608112703553</td>\n",
       "      <td>-46.64482029837157</td>\n",
       "      <td>Sao Paulo</td>\n",
       "      <td>SP</td>\n",
       "    </tr>\n",
       "    <tr>\n",
       "      <th>2</th>\n",
       "      <td>01046</td>\n",
       "      <td>-23.54612896641469</td>\n",
       "      <td>-46.64295148361138</td>\n",
       "      <td>Sao Paulo</td>\n",
       "      <td>SP</td>\n",
       "    </tr>\n",
       "    <tr>\n",
       "      <th>3</th>\n",
       "      <td>01041</td>\n",
       "      <td>-23.5443921648681</td>\n",
       "      <td>-46.63949930627844</td>\n",
       "      <td>Sao Paulo</td>\n",
       "      <td>SP</td>\n",
       "    </tr>\n",
       "    <tr>\n",
       "      <th>4</th>\n",
       "      <td>01035</td>\n",
       "      <td>-23.541577961711493</td>\n",
       "      <td>-46.64160722329613</td>\n",
       "      <td>Sao Paulo</td>\n",
       "      <td>SP</td>\n",
       "    </tr>\n",
       "  </tbody>\n",
       "</table>\n",
       "</div>"
      ],
      "text/plain": [
       "  zip_code             latitude           longitude geolocation_city  \\\n",
       "0    01037   -23.54562128115268  -46.63929204800168        Sao Paulo   \n",
       "1    01046   -23.54608112703553  -46.64482029837157        Sao Paulo   \n",
       "2    01046   -23.54612896641469  -46.64295148361138        Sao Paulo   \n",
       "3    01041    -23.5443921648681  -46.63949930627844        Sao Paulo   \n",
       "4    01035  -23.541577961711493  -46.64160722329613        Sao Paulo   \n",
       "\n",
       "  geolocation_state  \n",
       "0                SP  \n",
       "1                SP  \n",
       "2                SP  \n",
       "3                SP  \n",
       "4                SP  "
      ]
     },
     "execution_count": 25,
     "metadata": {},
     "output_type": "execute_result"
    }
   ],
   "source": [
    "df.head()"
   ]
  },
  {
   "cell_type": "code",
   "execution_count": 26,
   "id": "1902bd2a",
   "metadata": {},
   "outputs": [],
   "source": [
    "df.to_csv(r\"C:\\DE\\csv files data\\Brazilian E-Commerce\\Cleanedolist_geolocation_dataset.csv\",index=False)"
   ]
  },
  {
   "cell_type": "code",
   "execution_count": 27,
   "id": "05b8ab41",
   "metadata": {},
   "outputs": [],
   "source": [
    "df2=pd.read_csv(r\"C:\\DE\\csv files data\\Brazilian E-Commerce\\Cleanedolist_geolocation_dataset.csv\")"
   ]
  },
  {
   "cell_type": "code",
   "execution_count": 28,
   "id": "78ea7fa0",
   "metadata": {},
   "outputs": [
    {
     "data": {
      "application/vnd.microsoft.datawrangler.viewer.v0+json": {
       "columns": [
        {
         "name": "index",
         "rawType": "int64",
         "type": "integer"
        },
        {
         "name": "zip_code",
         "rawType": "int64",
         "type": "integer"
        },
        {
         "name": "latitude",
         "rawType": "float64",
         "type": "float"
        },
        {
         "name": "longitude",
         "rawType": "float64",
         "type": "float"
        },
        {
         "name": "geolocation_city",
         "rawType": "object",
         "type": "string"
        },
        {
         "name": "geolocation_state",
         "rawType": "object",
         "type": "string"
        }
       ],
       "ref": "28beca90-5ebf-4db7-af0a-5e9806a7e65d",
       "rows": [
        [
         "0",
         "1037",
         "-23.54562128115268",
         "-46.63929204800168",
         "Sao Paulo",
         "SP"
        ],
        [
         "1",
         "1046",
         "-23.54608112703553",
         "-46.64482029837157",
         "Sao Paulo",
         "SP"
        ],
        [
         "2",
         "1046",
         "-23.54612896641469",
         "-46.64295148361138",
         "Sao Paulo",
         "SP"
        ],
        [
         "3",
         "1041",
         "-23.5443921648681",
         "-46.63949930627844",
         "Sao Paulo",
         "SP"
        ],
        [
         "4",
         "1035",
         "-23.541577961711493",
         "-46.64160722329613",
         "Sao Paulo",
         "SP"
        ],
        [
         "5",
         "1012",
         "-23.547762303364262",
         "-46.63536053788448",
         "São Paulo",
         "SP"
        ],
        [
         "6",
         "1047",
         "-23.54627311241268",
         "-46.64122516971552",
         "Sao Paulo",
         "SP"
        ],
        [
         "7",
         "1013",
         "-23.546923208436723",
         "-46.6342636964915",
         "Sao Paulo",
         "SP"
        ],
        [
         "8",
         "1029",
         "-23.543769055769133",
         "-46.63427784085132",
         "Sao Paulo",
         "SP"
        ],
        [
         "9",
         "1011",
         "-23.547639550320632",
         "-46.63603162315495",
         "Sao Paulo",
         "SP"
        ],
        [
         "10",
         "1013",
         "-23.547325128224376",
         "-46.63418378613892",
         "Sao Paulo",
         "SP"
        ],
        [
         "11",
         "1032",
         "-23.53841810407414",
         "-46.634778375266734",
         "Sao Paulo",
         "SP"
        ],
        [
         "12",
         "1014",
         "-23.546435343326205",
         "-46.63383023397196",
         "Sao Paulo",
         "SP"
        ],
        [
         "13",
         "1012",
         "-23.54894598518944",
         "-46.63467113292871",
         "Sao Paulo",
         "SP"
        ],
        [
         "14",
         "1037",
         "-23.54518734081604",
         "-46.63785524104107",
         "São Paulo",
         "SP"
        ],
        [
         "15",
         "1039",
         "-23.54188300998332",
         "-46.63991946670314",
         "Sao Paulo",
         "SP"
        ],
        [
         "16",
         "1024",
         "-23.541389521053937",
         "-46.62989908781218",
         "São Paulo",
         "SP"
        ],
        [
         "17",
         "1009",
         "-23.54693540437998",
         "-46.63658792659698",
         "Sao Paulo",
         "SP"
        ],
        [
         "18",
         "1046",
         "-23.54588427921401",
         "-46.64316319124004",
         "Sao Paulo",
         "SP"
        ],
        [
         "19",
         "1046",
         "-23.545165891770928",
         "-46.643785796266464",
         "Sao Paulo",
         "SP"
        ],
        [
         "20",
         "1020",
         "-23.55223547100232",
         "-46.6284406588955",
         "São Paulo",
         "SP"
        ],
        [
         "21",
         "1011",
         "-23.546690486964888",
         "-46.6354469588072",
         "São Paulo",
         "SP"
        ],
        [
         "22",
         "1043",
         "-23.546656718016017",
         "-46.64078762115524",
         "São Paulo",
         "SP"
        ],
        [
         "23",
         "1050",
         "-23.549773516504185",
         "-46.64559900666509",
         "Sao Paulo",
         "SP"
        ],
        [
         "24",
         "1045",
         "-23.541593762969622",
         "-46.64189378810082",
         "Sao Paulo",
         "SP"
        ],
        [
         "25",
         "1009",
         "-23.54542953344108",
         "-46.63571531432852",
         "Sao Paulo",
         "SP"
        ],
        [
         "26",
         "1007",
         "-23.550392524842728",
         "-46.63730164071784",
         "Sao Paulo",
         "SP"
        ],
        [
         "27",
         "1032",
         "-23.5398418758395",
         "-46.63514797691531",
         "São Paulo",
         "SP"
        ],
        [
         "28",
         "1041",
         "-23.543539449073783",
         "-46.64057731057763",
         "Sao Paulo",
         "SP"
        ],
        [
         "29",
         "1005",
         "-23.549819091869107",
         "-46.63560588995324",
         "Sao Paulo",
         "SP"
        ],
        [
         "30",
         "1037",
         "-23.54670459977496",
         "-46.64033633250615",
         "São Paulo",
         "SP"
        ],
        [
         "31",
         "1017",
         "-23.55001091199737",
         "-46.63116636914989",
         "São Paulo",
         "SP"
        ],
        [
         "32",
         "1046",
         "-23.54532011933758",
         "-46.64406863434122",
         "Sao Paulo",
         "SP"
        ],
        [
         "33",
         "1019",
         "-23.552151883432384",
         "-46.63080224715792",
         "Sao Paulo",
         "SP"
        ],
        [
         "34",
         "1032",
         "-23.540774688874112",
         "-46.63551484303775",
         "Sao Paulo",
         "SP"
        ],
        [
         "35",
         "1017",
         "-23.5492954052167",
         "-46.63207469510652",
         "Sao Paulo",
         "SP"
        ],
        [
         "36",
         "1050",
         "-23.549009406053425",
         "-46.64281228183975",
         "Sao Paulo",
         "SP"
        ],
        [
         "37",
         "1050",
         "-23.548755593946588",
         "-46.642789203733535",
         "Sao Paulo",
         "SP"
        ],
        [
         "38",
         "1027",
         "-23.538301166801343",
         "-46.63076391104508",
         "Sao Paulo",
         "SP"
        ],
        [
         "39",
         "1050",
         "-23.54985418067981",
         "-46.643139396906825",
         "Sao Paulo",
         "SP"
        ],
        [
         "40",
         "1013",
         "-23.5471192492354",
         "-46.634232699405686",
         "Sao Paulo",
         "SP"
        ],
        [
         "41",
         "1033",
         "-23.54032130474925",
         "-46.636394815973325",
         "Sao Paulo",
         "SP"
        ],
        [
         "42",
         "1009",
         "-23.54569153926945",
         "-46.635866061486446",
         "Sao Paulo",
         "SP"
        ],
        [
         "43",
         "1050",
         "-23.54874766250217",
         "-46.64239136704376",
         "Sao Paulo",
         "SP"
        ],
        [
         "44",
         "1032",
         "-23.54119147654225",
         "-46.63499346058632",
         "Sao Paulo",
         "SP"
        ],
        [
         "45",
         "1020",
         "-23.552549496537548",
         "-46.63163152553523",
         "Sao Paulo",
         "SP"
        ],
        [
         "46",
         "1006",
         "-23.55052430835593",
         "-46.63669363835193",
         "Sao Paulo",
         "SP"
        ],
        [
         "47",
         "1034",
         "-23.54239162719593",
         "-46.63770927785183",
         "Sao Paulo",
         "SP"
        ],
        [
         "48",
         "1020",
         "-23.552482452132203",
         "-46.62938955675458",
         "Sao Paulo",
         "SP"
        ],
        [
         "49",
         "1047",
         "-23.54660531805078",
         "-46.641982174447385",
         "Sao Paulo",
         "SP"
        ]
       ],
       "shape": {
        "columns": 5,
        "rows": 738332
       }
      },
      "text/html": [
       "<div>\n",
       "<style scoped>\n",
       "    .dataframe tbody tr th:only-of-type {\n",
       "        vertical-align: middle;\n",
       "    }\n",
       "\n",
       "    .dataframe tbody tr th {\n",
       "        vertical-align: top;\n",
       "    }\n",
       "\n",
       "    .dataframe thead th {\n",
       "        text-align: right;\n",
       "    }\n",
       "</style>\n",
       "<table border=\"1\" class=\"dataframe\">\n",
       "  <thead>\n",
       "    <tr style=\"text-align: right;\">\n",
       "      <th></th>\n",
       "      <th>zip_code</th>\n",
       "      <th>latitude</th>\n",
       "      <th>longitude</th>\n",
       "      <th>geolocation_city</th>\n",
       "      <th>geolocation_state</th>\n",
       "    </tr>\n",
       "  </thead>\n",
       "  <tbody>\n",
       "    <tr>\n",
       "      <th>0</th>\n",
       "      <td>1037</td>\n",
       "      <td>-23.545621</td>\n",
       "      <td>-46.639292</td>\n",
       "      <td>Sao Paulo</td>\n",
       "      <td>SP</td>\n",
       "    </tr>\n",
       "    <tr>\n",
       "      <th>1</th>\n",
       "      <td>1046</td>\n",
       "      <td>-23.546081</td>\n",
       "      <td>-46.644820</td>\n",
       "      <td>Sao Paulo</td>\n",
       "      <td>SP</td>\n",
       "    </tr>\n",
       "    <tr>\n",
       "      <th>2</th>\n",
       "      <td>1046</td>\n",
       "      <td>-23.546129</td>\n",
       "      <td>-46.642951</td>\n",
       "      <td>Sao Paulo</td>\n",
       "      <td>SP</td>\n",
       "    </tr>\n",
       "    <tr>\n",
       "      <th>3</th>\n",
       "      <td>1041</td>\n",
       "      <td>-23.544392</td>\n",
       "      <td>-46.639499</td>\n",
       "      <td>Sao Paulo</td>\n",
       "      <td>SP</td>\n",
       "    </tr>\n",
       "    <tr>\n",
       "      <th>4</th>\n",
       "      <td>1035</td>\n",
       "      <td>-23.541578</td>\n",
       "      <td>-46.641607</td>\n",
       "      <td>Sao Paulo</td>\n",
       "      <td>SP</td>\n",
       "    </tr>\n",
       "    <tr>\n",
       "      <th>...</th>\n",
       "      <td>...</td>\n",
       "      <td>...</td>\n",
       "      <td>...</td>\n",
       "      <td>...</td>\n",
       "      <td>...</td>\n",
       "    </tr>\n",
       "    <tr>\n",
       "      <th>738327</th>\n",
       "      <td>99965</td>\n",
       "      <td>-28.180655</td>\n",
       "      <td>-52.034367</td>\n",
       "      <td>Agua Santa</td>\n",
       "      <td>RS</td>\n",
       "    </tr>\n",
       "    <tr>\n",
       "      <th>738328</th>\n",
       "      <td>99950</td>\n",
       "      <td>-28.072188</td>\n",
       "      <td>-52.011272</td>\n",
       "      <td>Tapejara</td>\n",
       "      <td>RS</td>\n",
       "    </tr>\n",
       "    <tr>\n",
       "      <th>738329</th>\n",
       "      <td>99950</td>\n",
       "      <td>-28.068864</td>\n",
       "      <td>-52.012964</td>\n",
       "      <td>Tapejara</td>\n",
       "      <td>RS</td>\n",
       "    </tr>\n",
       "    <tr>\n",
       "      <th>738330</th>\n",
       "      <td>99950</td>\n",
       "      <td>-28.068639</td>\n",
       "      <td>-52.010705</td>\n",
       "      <td>Tapejara</td>\n",
       "      <td>RS</td>\n",
       "    </tr>\n",
       "    <tr>\n",
       "      <th>738331</th>\n",
       "      <td>99980</td>\n",
       "      <td>-28.388932</td>\n",
       "      <td>-51.846871</td>\n",
       "      <td>David Canabarro</td>\n",
       "      <td>RS</td>\n",
       "    </tr>\n",
       "  </tbody>\n",
       "</table>\n",
       "<p>738332 rows × 5 columns</p>\n",
       "</div>"
      ],
      "text/plain": [
       "        zip_code   latitude  longitude geolocation_city geolocation_state\n",
       "0           1037 -23.545621 -46.639292        Sao Paulo                SP\n",
       "1           1046 -23.546081 -46.644820        Sao Paulo                SP\n",
       "2           1046 -23.546129 -46.642951        Sao Paulo                SP\n",
       "3           1041 -23.544392 -46.639499        Sao Paulo                SP\n",
       "4           1035 -23.541578 -46.641607        Sao Paulo                SP\n",
       "...          ...        ...        ...              ...               ...\n",
       "738327     99965 -28.180655 -52.034367       Agua Santa                RS\n",
       "738328     99950 -28.072188 -52.011272         Tapejara                RS\n",
       "738329     99950 -28.068864 -52.012964         Tapejara                RS\n",
       "738330     99950 -28.068639 -52.010705         Tapejara                RS\n",
       "738331     99980 -28.388932 -51.846871  David Canabarro                RS\n",
       "\n",
       "[738332 rows x 5 columns]"
      ]
     },
     "execution_count": 28,
     "metadata": {},
     "output_type": "execute_result"
    }
   ],
   "source": [
    "df2"
   ]
  }
 ],
 "metadata": {
  "kernelspec": {
   "display_name": "base",
   "language": "python",
   "name": "python3"
  },
  "language_info": {
   "codemirror_mode": {
    "name": "ipython",
    "version": 3
   },
   "file_extension": ".py",
   "mimetype": "text/x-python",
   "name": "python",
   "nbconvert_exporter": "python",
   "pygments_lexer": "ipython3",
   "version": "3.13.5"
  }
 },
 "nbformat": 4,
 "nbformat_minor": 5
}
