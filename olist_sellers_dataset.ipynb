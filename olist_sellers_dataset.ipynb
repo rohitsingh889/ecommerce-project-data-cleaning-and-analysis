{
 "cells": [
  {
   "cell_type": "code",
   "execution_count": 1,
   "id": "49ca37b9",
   "metadata": {},
   "outputs": [],
   "source": [
    "import pandas as pd\n",
    "import numpy as np"
   ]
  },
  {
   "cell_type": "code",
   "execution_count": 2,
   "id": "7cf64f31",
   "metadata": {},
   "outputs": [],
   "source": [
    "df=pd.read_csv(r'C:\\DE\\csv files data\\Brazilian E-Commerce\\olist_sellers_dataset.csv', encoding='latin1')   "
   ]
  },
  {
   "cell_type": "markdown",
   "id": "192b27ff",
   "metadata": {},
   "source": [
    "Doing initial checks to the datasets....."
   ]
  },
  {
   "cell_type": "code",
   "execution_count": 3,
   "id": "07091dc4",
   "metadata": {},
   "outputs": [
    {
     "data": {
      "application/vnd.microsoft.datawrangler.viewer.v0+json": {
       "columns": [
        {
         "name": "index",
         "rawType": "int64",
         "type": "integer"
        },
        {
         "name": "seller_id",
         "rawType": "object",
         "type": "string"
        },
        {
         "name": "seller_zip_code_prefix",
         "rawType": "int64",
         "type": "integer"
        },
        {
         "name": "seller_city",
         "rawType": "object",
         "type": "string"
        },
        {
         "name": "seller_state",
         "rawType": "object",
         "type": "string"
        }
       ],
       "ref": "7827db26-fc22-4178-9f8e-705aef35c1ab",
       "rows": [
        [
         "0",
         "3442f8959a84dea7ee197c632cb2df15",
         "13023",
         "campinas",
         "SP"
        ],
        [
         "1",
         "d1b65fc7debc3361ea86b5f14c68d2e2",
         "13844",
         "mogi guacu",
         "SP"
        ],
        [
         "2",
         "ce3ad9de960102d0677a81f5d0bb7b2d",
         "20031",
         "rio de janeiro",
         "RJ"
        ],
        [
         "3",
         "c0f3eea2e14555b6faeea3dd58c1b1c3",
         "4195",
         "sao paulo",
         "SP"
        ],
        [
         "4",
         "51a04a8a6bdcb23deccc82b0b80742cf",
         "12914",
         "braganca paulista",
         "SP"
        ],
        [
         "5",
         "c240c4061717ac1806ae6ee72be3533b",
         "20920",
         "rio de janeiro",
         "RJ"
        ],
        [
         "6",
         "e49c26c3edfa46d227d5121a6b6e4d37",
         "55325",
         "brejao",
         "PE"
        ],
        [
         "7",
         "1b938a7ec6ac5061a66a3766e0e75f90",
         "16304",
         "penapolis",
         "SP"
        ],
        [
         "8",
         "768a86e36ad6aae3d03ee3c6433d61df",
         "1529",
         "sao paulo",
         "SP"
        ],
        [
         "9",
         "ccc4bbb5f32a6ab2b7066a4130f114e3",
         "80310",
         "curitiba",
         "PR"
        ],
        [
         "10",
         "8cb7c5ddf41f4d506eba76e9a4702a25",
         "75110",
         "anapolis",
         "GO"
        ],
        [
         "11",
         "a7a9b880c49781da66651ccf4ba9ac38",
         "13530",
         "itirapina",
         "SP"
        ],
        [
         "12",
         "8bd0f31cf0a614c658f6763bd02dea69",
         "1222",
         "sao paulo",
         "SP"
        ],
        [
         "13",
         "05a48cc8859962767935ab9087417fbb",
         "5372",
         "sao paulo",
         "SP"
        ],
        [
         "14",
         "7b8e8ec35bad4b0ef7e3963650b0a87b",
         "88705",
         "tubarao",
         "SC"
        ],
        [
         "15",
         "1444c08e64d55fb3c25f0f09c07ffcf2",
         "42738",
         "lauro de freitas",
         "BA"
        ],
        [
         "16",
         "166e8f1381e09651983c38b1f6f91c11",
         "88780",
         "imbituba",
         "SC"
        ],
        [
         "17",
         "e38db885400cd35c71dfd162f2c1dbcf",
         "70740",
         "brasilia",
         "DF"
        ],
        [
         "18",
         "d2e753bb80b7d4faa77483ed00edc8ca",
         "45810",
         "porto seguro",
         "BA"
        ],
        [
         "19",
         "f9ec7093df3a7b346b7bcf7864069ca3",
         "5138",
         "sao paulo",
         "SP"
        ],
        [
         "20",
         "4e6015589b781adaa5ce7f1892d06bb1",
         "11440",
         "guaruja",
         "SP"
        ],
        [
         "21",
         "4cf490a58259286ada5ba8525ba9e84a",
         "14910",
         "tabatinga",
         "SP"
        ],
        [
         "22",
         "f7496d659ca9fdaf323c0aae84176632",
         "4156",
         "sao paulo",
         "SP"
        ],
        [
         "23",
         "2ff97219cb8622eaf3cd89b7d9c09824",
         "13320",
         "salto",
         "SP"
        ],
        [
         "24",
         "8bd0e3abda539b9479c4b44a691be1ec",
         "98910",
         "tres de maio",
         "RS"
        ],
        [
         "25",
         "2a1348e9addc1af5aaa619b1a3679d6b",
         "30494",
         "belo horizonte",
         "MG"
        ],
        [
         "26",
         "2078fe5066350e7d220c0ad3a3bbc6c1",
         "86707",
         "arapongas",
         "PR"
        ],
        [
         "27",
         "116ccb1a1604bc88e4d234a8c23f33de",
         "9850",
         "sao bernardo do campo",
         "SP"
        ],
        [
         "28",
         "430315b7bb4b6e4b3c978f9dfa9b0558",
         "4857",
         "sao paulo",
         "SP"
        ],
        [
         "29",
         "406822777a0b9eb5c50e442dd4cd3ec5",
         "18500",
         "tatui",
         "SP"
        ],
        [
         "30",
         "4dbd95a08b31ede5c82d3f861cb1ce1a",
         "80210",
         "curitiba",
         "PR"
        ],
        [
         "31",
         "e9e446d01bd10a97a8ffcfc4a3a20cb2",
         "2261",
         "sao paulo",
         "SP"
        ],
        [
         "32",
         "d52cbce9845184537284a23c3bc3da0e",
         "88495",
         "garopaba",
         "SC"
        ],
        [
         "33",
         "d9a84e1403de8da0c3aa531d6d108ba6",
         "3562",
         "sao paulo",
         "SP"
        ],
        [
         "34",
         "9c690ceacd5c66731bf443ea810195cb",
         "37650",
         "camanducaia",
         "MG"
        ],
        [
         "35",
         "1f9ab4708f3056ede07124aad39a2554",
         "17602",
         "tupa",
         "SP"
        ],
        [
         "36",
         "1961c3e1272bfeceb05d0b78b5bbfdaf",
         "7241",
         "guarulhos",
         "SP"
        ],
        [
         "37",
         "d3e7d37c0df9aef383f3f2a15b0dddfb",
         "83050",
         "sao jose dos pinhais",
         "PR"
        ],
        [
         "38",
         "ec2e006556300a79a5a91e4876ab3a56",
         "3445",
         "sao paulo",
         "SP"
        ],
        [
         "39",
         "b2a6d334e2833acea353624840e25a0e",
         "4133",
         "sao paulo",
         "SP"
        ],
        [
         "40",
         "d3674f271c91f824f82d24d92011f669",
         "72233",
         "brasilia",
         "DF"
        ],
        [
         "41",
         "768de2a4fc06aacecb9a586ccc30746a",
         "70645",
         "brasilia",
         "DF"
        ],
        [
         "42",
         "a81466620e46a6970b22ef40379fdfc9",
         "88730",
         "sao ludgero",
         "SC"
        ],
        [
         "43",
         "5c030029b5916fed0986310385ec9009",
         "88075",
         "sao jose",
         "SC"
        ],
        [
         "44",
         "c0f783394e37cd9c9d7f5f81141450fa",
         "13416",
         "piracicaba",
         "SP"
        ],
        [
         "45",
         "c353f8fc0ce8344999f17d578eb69a5e",
         "90850",
         "porto alegre",
         "RS"
        ],
        [
         "46",
         "8444e55c1f13cd5c179851e5ca5ebd00",
         "37584",
         "congonhal",
         "MG"
        ],
        [
         "47",
         "28a26ebce31d5918b181ede016fd693b",
         "31950",
         "belo horizonte",
         "MG"
        ],
        [
         "48",
         "41ab63a91b8b264e8c8780368bf1dd5b",
         "31555",
         "belo horizonte",
         "MG"
        ],
        [
         "49",
         "8759e7aedd644f487315e5860962f162",
         "9251",
         "santo andre",
         "SP"
        ]
       ],
       "shape": {
        "columns": 4,
        "rows": 3095
       }
      },
      "text/html": [
       "<div>\n",
       "<style scoped>\n",
       "    .dataframe tbody tr th:only-of-type {\n",
       "        vertical-align: middle;\n",
       "    }\n",
       "\n",
       "    .dataframe tbody tr th {\n",
       "        vertical-align: top;\n",
       "    }\n",
       "\n",
       "    .dataframe thead th {\n",
       "        text-align: right;\n",
       "    }\n",
       "</style>\n",
       "<table border=\"1\" class=\"dataframe\">\n",
       "  <thead>\n",
       "    <tr style=\"text-align: right;\">\n",
       "      <th></th>\n",
       "      <th>seller_id</th>\n",
       "      <th>seller_zip_code_prefix</th>\n",
       "      <th>seller_city</th>\n",
       "      <th>seller_state</th>\n",
       "    </tr>\n",
       "  </thead>\n",
       "  <tbody>\n",
       "    <tr>\n",
       "      <th>0</th>\n",
       "      <td>3442f8959a84dea7ee197c632cb2df15</td>\n",
       "      <td>13023</td>\n",
       "      <td>campinas</td>\n",
       "      <td>SP</td>\n",
       "    </tr>\n",
       "    <tr>\n",
       "      <th>1</th>\n",
       "      <td>d1b65fc7debc3361ea86b5f14c68d2e2</td>\n",
       "      <td>13844</td>\n",
       "      <td>mogi guacu</td>\n",
       "      <td>SP</td>\n",
       "    </tr>\n",
       "    <tr>\n",
       "      <th>2</th>\n",
       "      <td>ce3ad9de960102d0677a81f5d0bb7b2d</td>\n",
       "      <td>20031</td>\n",
       "      <td>rio de janeiro</td>\n",
       "      <td>RJ</td>\n",
       "    </tr>\n",
       "    <tr>\n",
       "      <th>3</th>\n",
       "      <td>c0f3eea2e14555b6faeea3dd58c1b1c3</td>\n",
       "      <td>4195</td>\n",
       "      <td>sao paulo</td>\n",
       "      <td>SP</td>\n",
       "    </tr>\n",
       "    <tr>\n",
       "      <th>4</th>\n",
       "      <td>51a04a8a6bdcb23deccc82b0b80742cf</td>\n",
       "      <td>12914</td>\n",
       "      <td>braganca paulista</td>\n",
       "      <td>SP</td>\n",
       "    </tr>\n",
       "    <tr>\n",
       "      <th>...</th>\n",
       "      <td>...</td>\n",
       "      <td>...</td>\n",
       "      <td>...</td>\n",
       "      <td>...</td>\n",
       "    </tr>\n",
       "    <tr>\n",
       "      <th>3090</th>\n",
       "      <td>98dddbc4601dd4443ca174359b237166</td>\n",
       "      <td>87111</td>\n",
       "      <td>sarandi</td>\n",
       "      <td>PR</td>\n",
       "    </tr>\n",
       "    <tr>\n",
       "      <th>3091</th>\n",
       "      <td>f8201cab383e484733266d1906e2fdfa</td>\n",
       "      <td>88137</td>\n",
       "      <td>palhoca</td>\n",
       "      <td>SC</td>\n",
       "    </tr>\n",
       "    <tr>\n",
       "      <th>3092</th>\n",
       "      <td>74871d19219c7d518d0090283e03c137</td>\n",
       "      <td>4650</td>\n",
       "      <td>sao paulo</td>\n",
       "      <td>SP</td>\n",
       "    </tr>\n",
       "    <tr>\n",
       "      <th>3093</th>\n",
       "      <td>e603cf3fec55f8697c9059638d6c8eb5</td>\n",
       "      <td>96080</td>\n",
       "      <td>pelotas</td>\n",
       "      <td>RS</td>\n",
       "    </tr>\n",
       "    <tr>\n",
       "      <th>3094</th>\n",
       "      <td>9e25199f6ef7e7c347120ff175652c3b</td>\n",
       "      <td>12051</td>\n",
       "      <td>taubate</td>\n",
       "      <td>SP</td>\n",
       "    </tr>\n",
       "  </tbody>\n",
       "</table>\n",
       "<p>3095 rows × 4 columns</p>\n",
       "</div>"
      ],
      "text/plain": [
       "                             seller_id  seller_zip_code_prefix  \\\n",
       "0     3442f8959a84dea7ee197c632cb2df15                   13023   \n",
       "1     d1b65fc7debc3361ea86b5f14c68d2e2                   13844   \n",
       "2     ce3ad9de960102d0677a81f5d0bb7b2d                   20031   \n",
       "3     c0f3eea2e14555b6faeea3dd58c1b1c3                    4195   \n",
       "4     51a04a8a6bdcb23deccc82b0b80742cf                   12914   \n",
       "...                                ...                     ...   \n",
       "3090  98dddbc4601dd4443ca174359b237166                   87111   \n",
       "3091  f8201cab383e484733266d1906e2fdfa                   88137   \n",
       "3092  74871d19219c7d518d0090283e03c137                    4650   \n",
       "3093  e603cf3fec55f8697c9059638d6c8eb5                   96080   \n",
       "3094  9e25199f6ef7e7c347120ff175652c3b                   12051   \n",
       "\n",
       "            seller_city seller_state  \n",
       "0              campinas           SP  \n",
       "1            mogi guacu           SP  \n",
       "2        rio de janeiro           RJ  \n",
       "3             sao paulo           SP  \n",
       "4     braganca paulista           SP  \n",
       "...                 ...          ...  \n",
       "3090            sarandi           PR  \n",
       "3091            palhoca           SC  \n",
       "3092          sao paulo           SP  \n",
       "3093            pelotas           RS  \n",
       "3094            taubate           SP  \n",
       "\n",
       "[3095 rows x 4 columns]"
      ]
     },
     "execution_count": 3,
     "metadata": {},
     "output_type": "execute_result"
    }
   ],
   "source": [
    "df"
   ]
  },
  {
   "cell_type": "code",
   "execution_count": 4,
   "id": "a03e065e",
   "metadata": {},
   "outputs": [
    {
     "data": {
      "application/vnd.microsoft.datawrangler.viewer.v0+json": {
       "columns": [
        {
         "name": "index",
         "rawType": "int64",
         "type": "integer"
        },
        {
         "name": "seller_id",
         "rawType": "object",
         "type": "string"
        },
        {
         "name": "seller_zip_code_prefix",
         "rawType": "int64",
         "type": "integer"
        },
        {
         "name": "seller_city",
         "rawType": "object",
         "type": "string"
        },
        {
         "name": "seller_state",
         "rawType": "object",
         "type": "string"
        }
       ],
       "ref": "888d6a07-bbd4-4f98-ade4-3339bbb4d23b",
       "rows": [
        [
         "0",
         "3442f8959a84dea7ee197c632cb2df15",
         "13023",
         "campinas",
         "SP"
        ],
        [
         "1",
         "d1b65fc7debc3361ea86b5f14c68d2e2",
         "13844",
         "mogi guacu",
         "SP"
        ],
        [
         "2",
         "ce3ad9de960102d0677a81f5d0bb7b2d",
         "20031",
         "rio de janeiro",
         "RJ"
        ],
        [
         "3",
         "c0f3eea2e14555b6faeea3dd58c1b1c3",
         "4195",
         "sao paulo",
         "SP"
        ],
        [
         "4",
         "51a04a8a6bdcb23deccc82b0b80742cf",
         "12914",
         "braganca paulista",
         "SP"
        ]
       ],
       "shape": {
        "columns": 4,
        "rows": 5
       }
      },
      "text/html": [
       "<div>\n",
       "<style scoped>\n",
       "    .dataframe tbody tr th:only-of-type {\n",
       "        vertical-align: middle;\n",
       "    }\n",
       "\n",
       "    .dataframe tbody tr th {\n",
       "        vertical-align: top;\n",
       "    }\n",
       "\n",
       "    .dataframe thead th {\n",
       "        text-align: right;\n",
       "    }\n",
       "</style>\n",
       "<table border=\"1\" class=\"dataframe\">\n",
       "  <thead>\n",
       "    <tr style=\"text-align: right;\">\n",
       "      <th></th>\n",
       "      <th>seller_id</th>\n",
       "      <th>seller_zip_code_prefix</th>\n",
       "      <th>seller_city</th>\n",
       "      <th>seller_state</th>\n",
       "    </tr>\n",
       "  </thead>\n",
       "  <tbody>\n",
       "    <tr>\n",
       "      <th>0</th>\n",
       "      <td>3442f8959a84dea7ee197c632cb2df15</td>\n",
       "      <td>13023</td>\n",
       "      <td>campinas</td>\n",
       "      <td>SP</td>\n",
       "    </tr>\n",
       "    <tr>\n",
       "      <th>1</th>\n",
       "      <td>d1b65fc7debc3361ea86b5f14c68d2e2</td>\n",
       "      <td>13844</td>\n",
       "      <td>mogi guacu</td>\n",
       "      <td>SP</td>\n",
       "    </tr>\n",
       "    <tr>\n",
       "      <th>2</th>\n",
       "      <td>ce3ad9de960102d0677a81f5d0bb7b2d</td>\n",
       "      <td>20031</td>\n",
       "      <td>rio de janeiro</td>\n",
       "      <td>RJ</td>\n",
       "    </tr>\n",
       "    <tr>\n",
       "      <th>3</th>\n",
       "      <td>c0f3eea2e14555b6faeea3dd58c1b1c3</td>\n",
       "      <td>4195</td>\n",
       "      <td>sao paulo</td>\n",
       "      <td>SP</td>\n",
       "    </tr>\n",
       "    <tr>\n",
       "      <th>4</th>\n",
       "      <td>51a04a8a6bdcb23deccc82b0b80742cf</td>\n",
       "      <td>12914</td>\n",
       "      <td>braganca paulista</td>\n",
       "      <td>SP</td>\n",
       "    </tr>\n",
       "  </tbody>\n",
       "</table>\n",
       "</div>"
      ],
      "text/plain": [
       "                          seller_id  seller_zip_code_prefix  \\\n",
       "0  3442f8959a84dea7ee197c632cb2df15                   13023   \n",
       "1  d1b65fc7debc3361ea86b5f14c68d2e2                   13844   \n",
       "2  ce3ad9de960102d0677a81f5d0bb7b2d                   20031   \n",
       "3  c0f3eea2e14555b6faeea3dd58c1b1c3                    4195   \n",
       "4  51a04a8a6bdcb23deccc82b0b80742cf                   12914   \n",
       "\n",
       "         seller_city seller_state  \n",
       "0           campinas           SP  \n",
       "1         mogi guacu           SP  \n",
       "2     rio de janeiro           RJ  \n",
       "3          sao paulo           SP  \n",
       "4  braganca paulista           SP  "
      ]
     },
     "execution_count": 4,
     "metadata": {},
     "output_type": "execute_result"
    }
   ],
   "source": [
    "df.head()"
   ]
  },
  {
   "cell_type": "code",
   "execution_count": 5,
   "id": "10f5e412",
   "metadata": {},
   "outputs": [
    {
     "data": {
      "application/vnd.microsoft.datawrangler.viewer.v0+json": {
       "columns": [
        {
         "name": "index",
         "rawType": "int64",
         "type": "integer"
        },
        {
         "name": "seller_id",
         "rawType": "object",
         "type": "string"
        },
        {
         "name": "seller_zip_code_prefix",
         "rawType": "int64",
         "type": "integer"
        },
        {
         "name": "seller_city",
         "rawType": "object",
         "type": "string"
        },
        {
         "name": "seller_state",
         "rawType": "object",
         "type": "string"
        }
       ],
       "ref": "8d60c2d2-be4f-4763-b425-11bae7899245",
       "rows": [
        [
         "3090",
         "98dddbc4601dd4443ca174359b237166",
         "87111",
         "sarandi",
         "PR"
        ],
        [
         "3091",
         "f8201cab383e484733266d1906e2fdfa",
         "88137",
         "palhoca",
         "SC"
        ],
        [
         "3092",
         "74871d19219c7d518d0090283e03c137",
         "4650",
         "sao paulo",
         "SP"
        ],
        [
         "3093",
         "e603cf3fec55f8697c9059638d6c8eb5",
         "96080",
         "pelotas",
         "RS"
        ],
        [
         "3094",
         "9e25199f6ef7e7c347120ff175652c3b",
         "12051",
         "taubate",
         "SP"
        ]
       ],
       "shape": {
        "columns": 4,
        "rows": 5
       }
      },
      "text/html": [
       "<div>\n",
       "<style scoped>\n",
       "    .dataframe tbody tr th:only-of-type {\n",
       "        vertical-align: middle;\n",
       "    }\n",
       "\n",
       "    .dataframe tbody tr th {\n",
       "        vertical-align: top;\n",
       "    }\n",
       "\n",
       "    .dataframe thead th {\n",
       "        text-align: right;\n",
       "    }\n",
       "</style>\n",
       "<table border=\"1\" class=\"dataframe\">\n",
       "  <thead>\n",
       "    <tr style=\"text-align: right;\">\n",
       "      <th></th>\n",
       "      <th>seller_id</th>\n",
       "      <th>seller_zip_code_prefix</th>\n",
       "      <th>seller_city</th>\n",
       "      <th>seller_state</th>\n",
       "    </tr>\n",
       "  </thead>\n",
       "  <tbody>\n",
       "    <tr>\n",
       "      <th>3090</th>\n",
       "      <td>98dddbc4601dd4443ca174359b237166</td>\n",
       "      <td>87111</td>\n",
       "      <td>sarandi</td>\n",
       "      <td>PR</td>\n",
       "    </tr>\n",
       "    <tr>\n",
       "      <th>3091</th>\n",
       "      <td>f8201cab383e484733266d1906e2fdfa</td>\n",
       "      <td>88137</td>\n",
       "      <td>palhoca</td>\n",
       "      <td>SC</td>\n",
       "    </tr>\n",
       "    <tr>\n",
       "      <th>3092</th>\n",
       "      <td>74871d19219c7d518d0090283e03c137</td>\n",
       "      <td>4650</td>\n",
       "      <td>sao paulo</td>\n",
       "      <td>SP</td>\n",
       "    </tr>\n",
       "    <tr>\n",
       "      <th>3093</th>\n",
       "      <td>e603cf3fec55f8697c9059638d6c8eb5</td>\n",
       "      <td>96080</td>\n",
       "      <td>pelotas</td>\n",
       "      <td>RS</td>\n",
       "    </tr>\n",
       "    <tr>\n",
       "      <th>3094</th>\n",
       "      <td>9e25199f6ef7e7c347120ff175652c3b</td>\n",
       "      <td>12051</td>\n",
       "      <td>taubate</td>\n",
       "      <td>SP</td>\n",
       "    </tr>\n",
       "  </tbody>\n",
       "</table>\n",
       "</div>"
      ],
      "text/plain": [
       "                             seller_id  seller_zip_code_prefix seller_city  \\\n",
       "3090  98dddbc4601dd4443ca174359b237166                   87111     sarandi   \n",
       "3091  f8201cab383e484733266d1906e2fdfa                   88137     palhoca   \n",
       "3092  74871d19219c7d518d0090283e03c137                    4650   sao paulo   \n",
       "3093  e603cf3fec55f8697c9059638d6c8eb5                   96080     pelotas   \n",
       "3094  9e25199f6ef7e7c347120ff175652c3b                   12051     taubate   \n",
       "\n",
       "     seller_state  \n",
       "3090           PR  \n",
       "3091           SC  \n",
       "3092           SP  \n",
       "3093           RS  \n",
       "3094           SP  "
      ]
     },
     "execution_count": 5,
     "metadata": {},
     "output_type": "execute_result"
    }
   ],
   "source": [
    "df.tail()"
   ]
  },
  {
   "cell_type": "code",
   "execution_count": 6,
   "id": "ae7ca5bb",
   "metadata": {},
   "outputs": [
    {
     "data": {
      "application/vnd.microsoft.datawrangler.viewer.v0+json": {
       "columns": [
        {
         "name": "index",
         "rawType": "object",
         "type": "string"
        },
        {
         "name": "seller_zip_code_prefix",
         "rawType": "float64",
         "type": "float"
        }
       ],
       "ref": "97f8efea-8a0d-4d6a-aa5c-5078e4d937e7",
       "rows": [
        [
         "count",
         "3095.0"
        ],
        [
         "mean",
         "32291.059450726978"
        ],
        [
         "std",
         "32713.45382950907"
        ],
        [
         "min",
         "1001.0"
        ],
        [
         "25%",
         "7093.5"
        ],
        [
         "50%",
         "14940.0"
        ],
        [
         "75%",
         "64552.5"
        ],
        [
         "max",
         "99730.0"
        ]
       ],
       "shape": {
        "columns": 1,
        "rows": 8
       }
      },
      "text/html": [
       "<div>\n",
       "<style scoped>\n",
       "    .dataframe tbody tr th:only-of-type {\n",
       "        vertical-align: middle;\n",
       "    }\n",
       "\n",
       "    .dataframe tbody tr th {\n",
       "        vertical-align: top;\n",
       "    }\n",
       "\n",
       "    .dataframe thead th {\n",
       "        text-align: right;\n",
       "    }\n",
       "</style>\n",
       "<table border=\"1\" class=\"dataframe\">\n",
       "  <thead>\n",
       "    <tr style=\"text-align: right;\">\n",
       "      <th></th>\n",
       "      <th>seller_zip_code_prefix</th>\n",
       "    </tr>\n",
       "  </thead>\n",
       "  <tbody>\n",
       "    <tr>\n",
       "      <th>count</th>\n",
       "      <td>3095.000000</td>\n",
       "    </tr>\n",
       "    <tr>\n",
       "      <th>mean</th>\n",
       "      <td>32291.059451</td>\n",
       "    </tr>\n",
       "    <tr>\n",
       "      <th>std</th>\n",
       "      <td>32713.453830</td>\n",
       "    </tr>\n",
       "    <tr>\n",
       "      <th>min</th>\n",
       "      <td>1001.000000</td>\n",
       "    </tr>\n",
       "    <tr>\n",
       "      <th>25%</th>\n",
       "      <td>7093.500000</td>\n",
       "    </tr>\n",
       "    <tr>\n",
       "      <th>50%</th>\n",
       "      <td>14940.000000</td>\n",
       "    </tr>\n",
       "    <tr>\n",
       "      <th>75%</th>\n",
       "      <td>64552.500000</td>\n",
       "    </tr>\n",
       "    <tr>\n",
       "      <th>max</th>\n",
       "      <td>99730.000000</td>\n",
       "    </tr>\n",
       "  </tbody>\n",
       "</table>\n",
       "</div>"
      ],
      "text/plain": [
       "       seller_zip_code_prefix\n",
       "count             3095.000000\n",
       "mean             32291.059451\n",
       "std              32713.453830\n",
       "min               1001.000000\n",
       "25%               7093.500000\n",
       "50%              14940.000000\n",
       "75%              64552.500000\n",
       "max              99730.000000"
      ]
     },
     "execution_count": 6,
     "metadata": {},
     "output_type": "execute_result"
    }
   ],
   "source": [
    "df.describe()"
   ]
  },
  {
   "cell_type": "code",
   "execution_count": 7,
   "id": "f6f59600",
   "metadata": {},
   "outputs": [
    {
     "name": "stdout",
     "output_type": "stream",
     "text": [
      "<class 'pandas.core.frame.DataFrame'>\n",
      "RangeIndex: 3095 entries, 0 to 3094\n",
      "Data columns (total 4 columns):\n",
      " #   Column                  Non-Null Count  Dtype \n",
      "---  ------                  --------------  ----- \n",
      " 0   seller_id               3095 non-null   object\n",
      " 1   seller_zip_code_prefix  3095 non-null   int64 \n",
      " 2   seller_city             3095 non-null   object\n",
      " 3   seller_state            3095 non-null   object\n",
      "dtypes: int64(1), object(3)\n",
      "memory usage: 96.8+ KB\n"
     ]
    }
   ],
   "source": [
    "df.info()"
   ]
  },
  {
   "cell_type": "code",
   "execution_count": 8,
   "id": "9c9d77f0",
   "metadata": {},
   "outputs": [
    {
     "data": {
      "text/plain": [
       "Index(['seller_id', 'seller_zip_code_prefix', 'seller_city', 'seller_state'], dtype='object')"
      ]
     },
     "execution_count": 8,
     "metadata": {},
     "output_type": "execute_result"
    }
   ],
   "source": [
    "df.columns"
   ]
  },
  {
   "cell_type": "code",
   "execution_count": 9,
   "id": "bab5a5e3",
   "metadata": {},
   "outputs": [
    {
     "data": {
      "text/plain": [
       "(3095, 4)"
      ]
     },
     "execution_count": 9,
     "metadata": {},
     "output_type": "execute_result"
    }
   ],
   "source": [
    "df.shape"
   ]
  },
  {
   "cell_type": "markdown",
   "id": "4268e82d",
   "metadata": {},
   "source": [
    "checking for null/missing values"
   ]
  },
  {
   "cell_type": "code",
   "execution_count": 10,
   "id": "fcab03cc",
   "metadata": {},
   "outputs": [
    {
     "data": {
      "text/plain": [
       "<bound method DataFrame.isnull of                              seller_id  seller_zip_code_prefix  \\\n",
       "0     3442f8959a84dea7ee197c632cb2df15                   13023   \n",
       "1     d1b65fc7debc3361ea86b5f14c68d2e2                   13844   \n",
       "2     ce3ad9de960102d0677a81f5d0bb7b2d                   20031   \n",
       "3     c0f3eea2e14555b6faeea3dd58c1b1c3                    4195   \n",
       "4     51a04a8a6bdcb23deccc82b0b80742cf                   12914   \n",
       "...                                ...                     ...   \n",
       "3090  98dddbc4601dd4443ca174359b237166                   87111   \n",
       "3091  f8201cab383e484733266d1906e2fdfa                   88137   \n",
       "3092  74871d19219c7d518d0090283e03c137                    4650   \n",
       "3093  e603cf3fec55f8697c9059638d6c8eb5                   96080   \n",
       "3094  9e25199f6ef7e7c347120ff175652c3b                   12051   \n",
       "\n",
       "            seller_city seller_state  \n",
       "0              campinas           SP  \n",
       "1            mogi guacu           SP  \n",
       "2        rio de janeiro           RJ  \n",
       "3             sao paulo           SP  \n",
       "4     braganca paulista           SP  \n",
       "...                 ...          ...  \n",
       "3090            sarandi           PR  \n",
       "3091            palhoca           SC  \n",
       "3092          sao paulo           SP  \n",
       "3093            pelotas           RS  \n",
       "3094            taubate           SP  \n",
       "\n",
       "[3095 rows x 4 columns]>"
      ]
     },
     "execution_count": 10,
     "metadata": {},
     "output_type": "execute_result"
    }
   ],
   "source": [
    "df.isnull"
   ]
  },
  {
   "cell_type": "code",
   "execution_count": 11,
   "id": "8e39f380",
   "metadata": {},
   "outputs": [
    {
     "data": {
      "application/vnd.microsoft.datawrangler.viewer.v0+json": {
       "columns": [
        {
         "name": "index",
         "rawType": "object",
         "type": "string"
        },
        {
         "name": "0",
         "rawType": "int64",
         "type": "integer"
        }
       ],
       "ref": "773d3349-ac8d-41b5-92dd-e46fdfcee0ff",
       "rows": [
        [
         "seller_id",
         "0"
        ],
        [
         "seller_zip_code_prefix",
         "0"
        ],
        [
         "seller_city",
         "0"
        ],
        [
         "seller_state",
         "0"
        ]
       ],
       "shape": {
        "columns": 1,
        "rows": 4
       }
      },
      "text/plain": [
       "seller_id                 0\n",
       "seller_zip_code_prefix    0\n",
       "seller_city               0\n",
       "seller_state              0\n",
       "dtype: int64"
      ]
     },
     "execution_count": 11,
     "metadata": {},
     "output_type": "execute_result"
    }
   ],
   "source": [
    "df.isna().sum()"
   ]
  },
  {
   "cell_type": "markdown",
   "id": "843789d7",
   "metadata": {},
   "source": [
    "check for duplicates"
   ]
  },
  {
   "cell_type": "code",
   "execution_count": 12,
   "id": "ffc7fb2e",
   "metadata": {},
   "outputs": [
    {
     "data": {
      "text/plain": [
       "np.int64(0)"
      ]
     },
     "execution_count": 12,
     "metadata": {},
     "output_type": "execute_result"
    }
   ],
   "source": [
    "df.duplicated().sum()"
   ]
  },
  {
   "cell_type": "markdown",
   "id": "015e779f",
   "metadata": {},
   "source": [
    "looking fine.....lets do somthing....- Standardizing city/state names\n"
   ]
  },
  {
   "cell_type": "code",
   "execution_count": 13,
   "id": "48c82e62",
   "metadata": {},
   "outputs": [],
   "source": [
    "df['seller_city'] = df['seller_city'].str.lower().str.strip()\n",
    "df['seller_state'] = df['seller_state'].str.upper().str.strip()"
   ]
  },
  {
   "cell_type": "code",
   "execution_count": 14,
   "id": "fdab2623",
   "metadata": {},
   "outputs": [
    {
     "data": {
      "application/vnd.microsoft.datawrangler.viewer.v0+json": {
       "columns": [
        {
         "name": "index",
         "rawType": "int64",
         "type": "integer"
        },
        {
         "name": "seller_city",
         "rawType": "object",
         "type": "string"
        }
       ],
       "ref": "7ee927a5-87eb-475d-a728-1dd26f9f5cf9",
       "rows": [
        [
         "0",
         "campinas"
        ],
        [
         "1",
         "mogi guacu"
        ],
        [
         "2",
         "rio de janeiro"
        ],
        [
         "3",
         "sao paulo"
        ],
        [
         "4",
         "braganca paulista"
        ],
        [
         "5",
         "rio de janeiro"
        ],
        [
         "6",
         "brejao"
        ],
        [
         "7",
         "penapolis"
        ],
        [
         "8",
         "sao paulo"
        ],
        [
         "9",
         "curitiba"
        ],
        [
         "10",
         "anapolis"
        ],
        [
         "11",
         "itirapina"
        ],
        [
         "12",
         "sao paulo"
        ],
        [
         "13",
         "sao paulo"
        ],
        [
         "14",
         "tubarao"
        ],
        [
         "15",
         "lauro de freitas"
        ],
        [
         "16",
         "imbituba"
        ],
        [
         "17",
         "brasilia"
        ],
        [
         "18",
         "porto seguro"
        ],
        [
         "19",
         "sao paulo"
        ],
        [
         "20",
         "guaruja"
        ],
        [
         "21",
         "tabatinga"
        ],
        [
         "22",
         "sao paulo"
        ],
        [
         "23",
         "salto"
        ],
        [
         "24",
         "tres de maio"
        ],
        [
         "25",
         "belo horizonte"
        ],
        [
         "26",
         "arapongas"
        ],
        [
         "27",
         "sao bernardo do campo"
        ],
        [
         "28",
         "sao paulo"
        ],
        [
         "29",
         "tatui"
        ],
        [
         "30",
         "curitiba"
        ],
        [
         "31",
         "sao paulo"
        ],
        [
         "32",
         "garopaba"
        ],
        [
         "33",
         "sao paulo"
        ],
        [
         "34",
         "camanducaia"
        ],
        [
         "35",
         "tupa"
        ],
        [
         "36",
         "guarulhos"
        ],
        [
         "37",
         "sao jose dos pinhais"
        ],
        [
         "38",
         "sao paulo"
        ],
        [
         "39",
         "sao paulo"
        ],
        [
         "40",
         "brasilia"
        ],
        [
         "41",
         "brasilia"
        ],
        [
         "42",
         "sao ludgero"
        ],
        [
         "43",
         "sao jose"
        ],
        [
         "44",
         "piracicaba"
        ],
        [
         "45",
         "porto alegre"
        ],
        [
         "46",
         "congonhal"
        ],
        [
         "47",
         "belo horizonte"
        ],
        [
         "48",
         "belo horizonte"
        ],
        [
         "49",
         "santo andre"
        ]
       ],
       "shape": {
        "columns": 1,
        "rows": 3095
       }
      },
      "text/plain": [
       "0                campinas\n",
       "1              mogi guacu\n",
       "2          rio de janeiro\n",
       "3               sao paulo\n",
       "4       braganca paulista\n",
       "              ...        \n",
       "3090              sarandi\n",
       "3091              palhoca\n",
       "3092            sao paulo\n",
       "3093              pelotas\n",
       "3094              taubate\n",
       "Name: seller_city, Length: 3095, dtype: object"
      ]
     },
     "execution_count": 14,
     "metadata": {},
     "output_type": "execute_result"
    }
   ],
   "source": [
    "df['seller_city']"
   ]
  },
  {
   "cell_type": "markdown",
   "id": "92702fba",
   "metadata": {},
   "source": [
    "looking everything fine then saving....>"
   ]
  },
  {
   "cell_type": "code",
   "execution_count": 15,
   "id": "5e1bfe91",
   "metadata": {},
   "outputs": [],
   "source": [
    "df.to_csv(r'C:\\DE\\csv files data\\Brazilian E-Commerce\\Cleaned_olist_sellers_dataset.csv', index=False)"
   ]
  }
 ],
 "metadata": {
  "kernelspec": {
   "display_name": "base",
   "language": "python",
   "name": "python3"
  },
  "language_info": {
   "codemirror_mode": {
    "name": "ipython",
    "version": 3
   },
   "file_extension": ".py",
   "mimetype": "text/x-python",
   "name": "python",
   "nbconvert_exporter": "python",
   "pygments_lexer": "ipython3",
   "version": "3.13.5"
  }
 },
 "nbformat": 4,
 "nbformat_minor": 5
}
