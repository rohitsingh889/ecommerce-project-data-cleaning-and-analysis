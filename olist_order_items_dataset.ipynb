{
 "cells": [
  {
   "cell_type": "code",
   "execution_count": 1,
   "id": "a2a68b1d",
   "metadata": {},
   "outputs": [],
   "source": [
    "import pandas as pd"
   ]
  },
  {
   "cell_type": "code",
   "execution_count": 2,
   "id": "44e2ff37",
   "metadata": {},
   "outputs": [],
   "source": [
    "df=pd.read_csv(r'C:\\DE\\csv files data\\Brazilian E-Commerce\\olist_order_items_dataset.csv')#read the csv files"
   ]
  },
  {
   "cell_type": "code",
   "execution_count": 3,
   "id": "7b97a015",
   "metadata": {},
   "outputs": [
    {
     "data": {
      "application/vnd.microsoft.datawrangler.viewer.v0+json": {
       "columns": [
        {
         "name": "index",
         "rawType": "int64",
         "type": "integer"
        },
        {
         "name": "order_id",
         "rawType": "object",
         "type": "string"
        },
        {
         "name": "order_item_id",
         "rawType": "int64",
         "type": "integer"
        },
        {
         "name": "product_id",
         "rawType": "object",
         "type": "string"
        },
        {
         "name": "seller_id",
         "rawType": "object",
         "type": "string"
        },
        {
         "name": "shipping_limit_date",
         "rawType": "object",
         "type": "string"
        },
        {
         "name": "price",
         "rawType": "float64",
         "type": "float"
        },
        {
         "name": "freight_value",
         "rawType": "float64",
         "type": "float"
        }
       ],
       "ref": "84263d5d-6e2a-4848-b7e2-995b8fa2b1fe",
       "rows": [
        [
         "0",
         "00010242fe8c5a6d1ba2dd792cb16214",
         "1",
         "4244733e06e7ecb4970a6e2683c13e61",
         "48436dade18ac8b2bce089ec2a041202",
         "2017-09-19 09:45:35",
         "58.9",
         "13.29"
        ],
        [
         "1",
         "00018f77f2f0320c557190d7a144bdd3",
         "1",
         "e5f2d52b802189ee658865ca93d83a8f",
         "dd7ddc04e1b6c2c614352b383efe2d36",
         "2017-05-03 11:05:13",
         "239.9",
         "19.93"
        ],
        [
         "2",
         "000229ec398224ef6ca0657da4fc703e",
         "1",
         "c777355d18b72b67abbeef9df44fd0fd",
         "5b51032eddd242adc84c38acab88f23d",
         "2018-01-18 14:48:30",
         "199.0",
         "17.87"
        ],
        [
         "3",
         "00024acbcdf0a6daa1e931b038114c75",
         "1",
         "7634da152a4610f1595efa32f14722fc",
         "9d7a1d34a5052409006425275ba1c2b4",
         "2018-08-15 10:10:18",
         "12.99",
         "12.79"
        ],
        [
         "4",
         "00042b26cf59d7ce69dfabb4e55b4fd9",
         "1",
         "ac6c3623068f30de03045865e4e10089",
         "df560393f3a51e74553ab94004ba5c87",
         "2017-02-13 13:57:51",
         "199.9",
         "18.14"
        ],
        [
         "5",
         "00048cc3ae777c65dbb7d2a0634bc1ea",
         "1",
         "ef92defde845ab8450f9d70c526ef70f",
         "6426d21aca402a131fc0a5d0960a3c90",
         "2017-05-23 03:55:27",
         "21.9",
         "12.69"
        ],
        [
         "6",
         "00054e8431b9d7675808bcb819fb4a32",
         "1",
         "8d4f2bb7e93e6710a28f34fa83ee7d28",
         "7040e82f899a04d1b434b795a43b4617",
         "2017-12-14 12:10:31",
         "19.9",
         "11.85"
        ],
        [
         "7",
         "000576fe39319847cbb9d288c5617fa6",
         "1",
         "557d850972a7d6f792fd18ae1400d9b6",
         "5996cddab893a4652a15592fb58ab8db",
         "2018-07-10 12:30:45",
         "810.0",
         "70.75"
        ],
        [
         "8",
         "0005a1a1728c9d785b8e2b08b904576c",
         "1",
         "310ae3c140ff94b03219ad0adc3c778f",
         "a416b6a846a11724393025641d4edd5e",
         "2018-03-26 18:31:29",
         "145.95",
         "11.65"
        ],
        [
         "9",
         "0005f50442cb953dcd1d21e1fb923495",
         "1",
         "4535b0e1091c278dfd193e5a1d63b39f",
         "ba143b05f0110f0dc71ad71b4466ce92",
         "2018-07-06 14:10:56",
         "53.99",
         "11.4"
        ],
        [
         "10",
         "00061f2a7bc09da83e415a52dc8a4af1",
         "1",
         "d63c1011f49d98b976c352955b1c4bea",
         "cc419e0650a3c5ba77189a1882b7556a",
         "2018-03-29 22:28:09",
         "59.99",
         "8.88"
        ],
        [
         "11",
         "00063b381e2406b52ad429470734ebd5",
         "1",
         "f177554ea93259a5b282f24e33f65ab6",
         "8602a61d680a10a82cceeeda0d99ea3d",
         "2018-07-31 17:30:39",
         "45.0",
         "12.98"
        ],
        [
         "12",
         "0006ec9db01a64e59a68b2c340bf65a7",
         "1",
         "99a4788cb24856965c36a24e339b6058",
         "4a3ca9315b744ce9f8e9374361493884",
         "2018-07-26 17:24:20",
         "74.0",
         "23.32"
        ],
        [
         "13",
         "0008288aa423d2a3f00fcb17cd7d8719",
         "1",
         "368c6c730842d78016ad823897a372db",
         "1f50f920176fa81dab994f9023523100",
         "2018-02-21 02:55:52",
         "49.9",
         "13.37"
        ],
        [
         "14",
         "0008288aa423d2a3f00fcb17cd7d8719",
         "2",
         "368c6c730842d78016ad823897a372db",
         "1f50f920176fa81dab994f9023523100",
         "2018-02-21 02:55:52",
         "49.9",
         "13.37"
        ],
        [
         "15",
         "0009792311464db532ff765bf7b182ae",
         "1",
         "8cab8abac59158715e0d70a36c807415",
         "530ec6109d11eaaf87999465c6afee01",
         "2018-08-17 12:15:10",
         "99.9",
         "27.65"
        ],
        [
         "16",
         "0009c9a17f916a706d71784483a5d643",
         "1",
         "3f27ac8e699df3d300ec4a5d8c5cf0b2",
         "fcb5ace8bcc92f75707dc0f01a27d269",
         "2018-05-02 09:31:53",
         "639.0",
         "11.34"
        ],
        [
         "17",
         "000aed2e25dbad2f9ddb70584c5a2ded",
         "1",
         "4fa33915031a8cde03dd0d3e8fb27f01",
         "fe2032dab1a61af8794248c8196565c9",
         "2018-05-16 20:57:03",
         "144.0",
         "8.77"
        ],
        [
         "18",
         "000c3e6612759851cc3cbb4b83257986",
         "1",
         "b50c950aba0dcead2c48032a690ce817",
         "218d46b86c1881d022bce9c68a7d4b15",
         "2017-08-21 03:33:13",
         "99.0",
         "13.71"
        ],
        [
         "19",
         "000e562887b1f2006d75e0be9558292e",
         "1",
         "5ed9eaf534f6936b51d0b6c5e4d5c2e9",
         "8cbac7e12637ed9cffa18c7875207478",
         "2018-02-28 12:08:37",
         "25.0",
         "16.11"
        ],
        [
         "20",
         "000e63d38ae8c00bbcb5a30573b99628",
         "1",
         "553e0e7590d3116a072507a3635d2877",
         "1c129092bf23f28a5930387c980c0dfc",
         "2018-03-29 20:07:49",
         "47.9",
         "8.88"
        ],
        [
         "21",
         "000e906b789b55f64edcb1f84030f90d",
         "1",
         "57d79905de06d8897872c551bfd09358",
         "ea8482cd71df3c1969d7b9473ff13abc",
         "2017-11-27 19:09:02",
         "21.99",
         "11.85"
        ],
        [
         "22",
         "000f25f4d72195062c040b12dce9a18a",
         "1",
         "1c05e0964302b6cf68ca0d15f326c6ba",
         "7c67e1448b00f6e969d365cea6b010ab",
         "2018-03-21 11:10:11",
         "119.99",
         "44.4"
        ],
        [
         "23",
         "001021efaa8636c29475e7734483457d",
         "1",
         "5d7c23067ed3fc8c6e699b9373d5890b",
         "6560211a19b47992c3666cc44a7e94c0",
         "2018-03-05 09:35:41",
         "49.0",
         "15.1"
        ],
        [
         "24",
         "0010b2e5201cc5f1ae7e9c6cc8f5bd00",
         "1",
         "5a419dbf24a8c9718fe522b81c69f61a",
         "3504c0cb71d7fa48d967e0e4c94d59d9",
         "2017-09-15 18:04:37",
         "48.9",
         "16.6"
        ],
        [
         "25",
         "00119ff934e539cf26f92b9ef0cdfed8",
         "1",
         "21b1c2f67a9aafb5af0eb06c13b9dbda",
         "c864036feaab8c1659f65ea4faebe1da",
         "2017-08-11 00:35:12",
         "219.9",
         "16.98"
        ],
        [
         "26",
         "0011d82c4b53e22e84023405fb467e57",
         "1",
         "c389f712c4b4510bc997cee93e8b1a28",
         "bfd27a966d91cfaafdb25d076585f0da",
         "2018-01-29 21:51:25",
         "289.0",
         "26.33"
        ],
        [
         "27",
         "00125cb692d04887809806618a2a145f",
         "1",
         "1c0c0093a48f13ba70d0c6b0a9157cb7",
         "41b39e28db005d9731d9d485a83b4c38",
         "2017-03-29 13:05:42",
         "109.9",
         "25.51"
        ],
        [
         "28",
         "00130c0eee84a3d909e75bc08c5c3ca1",
         "1",
         "89321f94e35fc6d7903d36f74e351d40",
         "16090f2ca825584b5a147ab24aa30c86",
         "2018-06-14 05:16:24",
         "27.9",
         "7.94"
        ],
        [
         "29",
         "0013503b13da1eac686219390b7d641b",
         "1",
         "38afdf723b95d455b418a0f57d623c6b",
         "1554a68530182680ad5c8b042c3ab563",
         "2017-12-13 03:16:36",
         "119.9",
         "17.32"
        ],
        [
         "30",
         "00137e170939bba5a3134e2386413108",
         "1",
         "672e757f331900b9deea127a2a7b79fd",
         "e59aa562b9f8076dd550fcddf0e73491",
         "2017-11-30 06:30:55",
         "397.0",
         "24.65"
        ],
        [
         "31",
         "001427c0ec99cf8af737bd88e92fd444",
         "1",
         "28b4eced95a52d9c437a4caf9d311b95",
         "77530e9772f57a62c906e1c21538ab82",
         "2018-04-12 19:08:28",
         "59.9",
         "23.35"
        ],
        [
         "32",
         "00143d0f86d6fbd9f9b38ab440ac16f5",
         "1",
         "e95ee6822b66ac6058e2e4aff656071a",
         "a17f621c590ea0fab3d5d883e1630ec6",
         "2017-10-20 16:07:52",
         "21.33",
         "15.1"
        ],
        [
         "33",
         "00143d0f86d6fbd9f9b38ab440ac16f5",
         "2",
         "e95ee6822b66ac6058e2e4aff656071a",
         "a17f621c590ea0fab3d5d883e1630ec6",
         "2017-10-20 16:07:52",
         "21.33",
         "15.1"
        ],
        [
         "34",
         "00143d0f86d6fbd9f9b38ab440ac16f5",
         "3",
         "e95ee6822b66ac6058e2e4aff656071a",
         "a17f621c590ea0fab3d5d883e1630ec6",
         "2017-10-20 16:07:52",
         "21.33",
         "15.1"
        ],
        [
         "35",
         "0014ae671de39511f7575066200733b7",
         "1",
         "23365beed316535b4105bd800c46670e",
         "92eb0f42c21942b6552362b9b114707d",
         "2017-05-29 03:15:24",
         "16.5",
         "14.1"
        ],
        [
         "36",
         "0015ebb40fb17286bea51d4607c4733c",
         "1",
         "50fd2b788dc166edd20512370dac54df",
         "8b321bb669392f5163d04c59e235e066",
         "2018-01-18 09:11:24",
         "21.9",
         "15.1"
        ],
        [
         "37",
         "00169e31ef4b29deaae414f9a5e95929",
         "1",
         "b10eba910a974df70b8a12d0665cdb9e",
         "a3e9a2c700480d9bb01fba070ba80a0e",
         "2018-01-23 03:35:47",
         "39.0",
         "16.11"
        ],
        [
         "38",
         "0016dfedd97fc2950e388d2971d718c7",
         "1",
         "4089861a1bd4685da70bddd6b4f974f1",
         "a35124e2d763d7ca3fbe3b97d143200f",
         "2017-05-05 10:05:12",
         "49.75",
         "20.8"
        ],
        [
         "39",
         "0017afd5076e074a48f1f1a4c7bac9c5",
         "1",
         "fe59a1e006df3ac42bf0ceb876d70969",
         "25c5c91f63607446a97b143d2d535d31",
         "2017-04-24 22:25:19",
         "809.1",
         "44.29"
        ],
        [
         "40",
         "001862358bf858722e1e2ae000cfed8b",
         "1",
         "c6dd917a0be2a704582055949915ab32",
         "7a67c85e85bb2ce8582c35f2203ad736",
         "2018-02-13 19:10:37",
         "99.99",
         "13.72"
        ],
        [
         "41",
         "0019c29108428acffd089c36103c9440",
         "1",
         "28b4eced95a52d9c437a4caf9d311b95",
         "77530e9772f57a62c906e1c21538ab82",
         "2018-03-12 06:50:26",
         "59.9",
         "19.95"
        ],
        [
         "42",
         "001ab0a7578dd66cd4b0a71f5b6e1e41",
         "1",
         "0b0172eb0fd18479d29c3bc122c058c2",
         "5656537e588803a555b8eb41f07a944b",
         "2018-01-04 02:33:42",
         "24.89",
         "17.63"
        ],
        [
         "43",
         "001ab0a7578dd66cd4b0a71f5b6e1e41",
         "2",
         "0b0172eb0fd18479d29c3bc122c058c2",
         "5656537e588803a555b8eb41f07a944b",
         "2018-01-04 02:33:42",
         "24.89",
         "17.63"
        ],
        [
         "44",
         "001ab0a7578dd66cd4b0a71f5b6e1e41",
         "3",
         "0b0172eb0fd18479d29c3bc122c058c2",
         "5656537e588803a555b8eb41f07a944b",
         "2018-01-04 02:33:42",
         "24.89",
         "17.63"
        ],
        [
         "45",
         "001ac194d4a326a6fa99b581e9a3d963",
         "1",
         "dbaee28f4ee64465838a229582d77520",
         "ffc470761de7d0232558ba5e786e57b7",
         "2018-07-10 02:51:10",
         "54.0",
         "8.54"
        ],
        [
         "46",
         "001b76dd48a5b1eee3e87778daa40df8",
         "1",
         "dbb67791e405873b259e4656bf971246",
         "9c0e69c7bf2619675bbadf47b43f655a",
         "2018-04-02 17:50:17",
         "81.99",
         "13.01"
        ],
        [
         "47",
         "001c85b5f68d2be0cb0797afc9e8ce9a",
         "1",
         "84f456958365164420cfc80fbe4c7fab",
         "4a3ca9315b744ce9f8e9374361493884",
         "2017-11-29 22:38:47",
         "99.0",
         "13.71"
        ],
        [
         "48",
         "001d8f0e34a38c37f7dba2a37d4eba8b",
         "1",
         "e67307ff0f15ade43fcb6e670be7a74c",
         "f4aba7c0bca51484c30ab7bdc34bcdd1",
         "2017-05-18 17:35:11",
         "18.99",
         "7.78"
        ],
        [
         "49",
         "001d8f0e34a38c37f7dba2a37d4eba8b",
         "2",
         "e67307ff0f15ade43fcb6e670be7a74c",
         "f4aba7c0bca51484c30ab7bdc34bcdd1",
         "2017-05-18 17:35:11",
         "18.99",
         "7.78"
        ]
       ],
       "shape": {
        "columns": 7,
        "rows": 112650
       }
      },
      "text/html": [
       "<div>\n",
       "<style scoped>\n",
       "    .dataframe tbody tr th:only-of-type {\n",
       "        vertical-align: middle;\n",
       "    }\n",
       "\n",
       "    .dataframe tbody tr th {\n",
       "        vertical-align: top;\n",
       "    }\n",
       "\n",
       "    .dataframe thead th {\n",
       "        text-align: right;\n",
       "    }\n",
       "</style>\n",
       "<table border=\"1\" class=\"dataframe\">\n",
       "  <thead>\n",
       "    <tr style=\"text-align: right;\">\n",
       "      <th></th>\n",
       "      <th>order_id</th>\n",
       "      <th>order_item_id</th>\n",
       "      <th>product_id</th>\n",
       "      <th>seller_id</th>\n",
       "      <th>shipping_limit_date</th>\n",
       "      <th>price</th>\n",
       "      <th>freight_value</th>\n",
       "    </tr>\n",
       "  </thead>\n",
       "  <tbody>\n",
       "    <tr>\n",
       "      <th>0</th>\n",
       "      <td>00010242fe8c5a6d1ba2dd792cb16214</td>\n",
       "      <td>1</td>\n",
       "      <td>4244733e06e7ecb4970a6e2683c13e61</td>\n",
       "      <td>48436dade18ac8b2bce089ec2a041202</td>\n",
       "      <td>2017-09-19 09:45:35</td>\n",
       "      <td>58.90</td>\n",
       "      <td>13.29</td>\n",
       "    </tr>\n",
       "    <tr>\n",
       "      <th>1</th>\n",
       "      <td>00018f77f2f0320c557190d7a144bdd3</td>\n",
       "      <td>1</td>\n",
       "      <td>e5f2d52b802189ee658865ca93d83a8f</td>\n",
       "      <td>dd7ddc04e1b6c2c614352b383efe2d36</td>\n",
       "      <td>2017-05-03 11:05:13</td>\n",
       "      <td>239.90</td>\n",
       "      <td>19.93</td>\n",
       "    </tr>\n",
       "    <tr>\n",
       "      <th>2</th>\n",
       "      <td>000229ec398224ef6ca0657da4fc703e</td>\n",
       "      <td>1</td>\n",
       "      <td>c777355d18b72b67abbeef9df44fd0fd</td>\n",
       "      <td>5b51032eddd242adc84c38acab88f23d</td>\n",
       "      <td>2018-01-18 14:48:30</td>\n",
       "      <td>199.00</td>\n",
       "      <td>17.87</td>\n",
       "    </tr>\n",
       "    <tr>\n",
       "      <th>3</th>\n",
       "      <td>00024acbcdf0a6daa1e931b038114c75</td>\n",
       "      <td>1</td>\n",
       "      <td>7634da152a4610f1595efa32f14722fc</td>\n",
       "      <td>9d7a1d34a5052409006425275ba1c2b4</td>\n",
       "      <td>2018-08-15 10:10:18</td>\n",
       "      <td>12.99</td>\n",
       "      <td>12.79</td>\n",
       "    </tr>\n",
       "    <tr>\n",
       "      <th>4</th>\n",
       "      <td>00042b26cf59d7ce69dfabb4e55b4fd9</td>\n",
       "      <td>1</td>\n",
       "      <td>ac6c3623068f30de03045865e4e10089</td>\n",
       "      <td>df560393f3a51e74553ab94004ba5c87</td>\n",
       "      <td>2017-02-13 13:57:51</td>\n",
       "      <td>199.90</td>\n",
       "      <td>18.14</td>\n",
       "    </tr>\n",
       "    <tr>\n",
       "      <th>...</th>\n",
       "      <td>...</td>\n",
       "      <td>...</td>\n",
       "      <td>...</td>\n",
       "      <td>...</td>\n",
       "      <td>...</td>\n",
       "      <td>...</td>\n",
       "      <td>...</td>\n",
       "    </tr>\n",
       "    <tr>\n",
       "      <th>112645</th>\n",
       "      <td>fffc94f6ce00a00581880bf54a75a037</td>\n",
       "      <td>1</td>\n",
       "      <td>4aa6014eceb682077f9dc4bffebc05b0</td>\n",
       "      <td>b8bc237ba3788b23da09c0f1f3a3288c</td>\n",
       "      <td>2018-05-02 04:11:01</td>\n",
       "      <td>299.99</td>\n",
       "      <td>43.41</td>\n",
       "    </tr>\n",
       "    <tr>\n",
       "      <th>112646</th>\n",
       "      <td>fffcd46ef2263f404302a634eb57f7eb</td>\n",
       "      <td>1</td>\n",
       "      <td>32e07fd915822b0765e448c4dd74c828</td>\n",
       "      <td>f3c38ab652836d21de61fb8314b69182</td>\n",
       "      <td>2018-07-20 04:31:48</td>\n",
       "      <td>350.00</td>\n",
       "      <td>36.53</td>\n",
       "    </tr>\n",
       "    <tr>\n",
       "      <th>112647</th>\n",
       "      <td>fffce4705a9662cd70adb13d4a31832d</td>\n",
       "      <td>1</td>\n",
       "      <td>72a30483855e2eafc67aee5dc2560482</td>\n",
       "      <td>c3cfdc648177fdbbbb35635a37472c53</td>\n",
       "      <td>2017-10-30 17:14:25</td>\n",
       "      <td>99.90</td>\n",
       "      <td>16.95</td>\n",
       "    </tr>\n",
       "    <tr>\n",
       "      <th>112648</th>\n",
       "      <td>fffe18544ffabc95dfada21779c9644f</td>\n",
       "      <td>1</td>\n",
       "      <td>9c422a519119dcad7575db5af1ba540e</td>\n",
       "      <td>2b3e4a2a3ea8e01938cabda2a3e5cc79</td>\n",
       "      <td>2017-08-21 00:04:32</td>\n",
       "      <td>55.99</td>\n",
       "      <td>8.72</td>\n",
       "    </tr>\n",
       "    <tr>\n",
       "      <th>112649</th>\n",
       "      <td>fffe41c64501cc87c801fd61db3f6244</td>\n",
       "      <td>1</td>\n",
       "      <td>350688d9dc1e75ff97be326363655e01</td>\n",
       "      <td>f7ccf836d21b2fb1de37564105216cc1</td>\n",
       "      <td>2018-06-12 17:10:13</td>\n",
       "      <td>43.00</td>\n",
       "      <td>12.79</td>\n",
       "    </tr>\n",
       "  </tbody>\n",
       "</table>\n",
       "<p>112650 rows × 7 columns</p>\n",
       "</div>"
      ],
      "text/plain": [
       "                                order_id  order_item_id  \\\n",
       "0       00010242fe8c5a6d1ba2dd792cb16214              1   \n",
       "1       00018f77f2f0320c557190d7a144bdd3              1   \n",
       "2       000229ec398224ef6ca0657da4fc703e              1   \n",
       "3       00024acbcdf0a6daa1e931b038114c75              1   \n",
       "4       00042b26cf59d7ce69dfabb4e55b4fd9              1   \n",
       "...                                  ...            ...   \n",
       "112645  fffc94f6ce00a00581880bf54a75a037              1   \n",
       "112646  fffcd46ef2263f404302a634eb57f7eb              1   \n",
       "112647  fffce4705a9662cd70adb13d4a31832d              1   \n",
       "112648  fffe18544ffabc95dfada21779c9644f              1   \n",
       "112649  fffe41c64501cc87c801fd61db3f6244              1   \n",
       "\n",
       "                              product_id                         seller_id  \\\n",
       "0       4244733e06e7ecb4970a6e2683c13e61  48436dade18ac8b2bce089ec2a041202   \n",
       "1       e5f2d52b802189ee658865ca93d83a8f  dd7ddc04e1b6c2c614352b383efe2d36   \n",
       "2       c777355d18b72b67abbeef9df44fd0fd  5b51032eddd242adc84c38acab88f23d   \n",
       "3       7634da152a4610f1595efa32f14722fc  9d7a1d34a5052409006425275ba1c2b4   \n",
       "4       ac6c3623068f30de03045865e4e10089  df560393f3a51e74553ab94004ba5c87   \n",
       "...                                  ...                               ...   \n",
       "112645  4aa6014eceb682077f9dc4bffebc05b0  b8bc237ba3788b23da09c0f1f3a3288c   \n",
       "112646  32e07fd915822b0765e448c4dd74c828  f3c38ab652836d21de61fb8314b69182   \n",
       "112647  72a30483855e2eafc67aee5dc2560482  c3cfdc648177fdbbbb35635a37472c53   \n",
       "112648  9c422a519119dcad7575db5af1ba540e  2b3e4a2a3ea8e01938cabda2a3e5cc79   \n",
       "112649  350688d9dc1e75ff97be326363655e01  f7ccf836d21b2fb1de37564105216cc1   \n",
       "\n",
       "        shipping_limit_date   price  freight_value  \n",
       "0       2017-09-19 09:45:35   58.90          13.29  \n",
       "1       2017-05-03 11:05:13  239.90          19.93  \n",
       "2       2018-01-18 14:48:30  199.00          17.87  \n",
       "3       2018-08-15 10:10:18   12.99          12.79  \n",
       "4       2017-02-13 13:57:51  199.90          18.14  \n",
       "...                     ...     ...            ...  \n",
       "112645  2018-05-02 04:11:01  299.99          43.41  \n",
       "112646  2018-07-20 04:31:48  350.00          36.53  \n",
       "112647  2017-10-30 17:14:25   99.90          16.95  \n",
       "112648  2017-08-21 00:04:32   55.99           8.72  \n",
       "112649  2018-06-12 17:10:13   43.00          12.79  \n",
       "\n",
       "[112650 rows x 7 columns]"
      ]
     },
     "execution_count": 3,
     "metadata": {},
     "output_type": "execute_result"
    }
   ],
   "source": [
    "df"
   ]
  },
  {
   "cell_type": "code",
   "execution_count": 4,
   "id": "0f6035c4",
   "metadata": {},
   "outputs": [
    {
     "data": {
      "application/vnd.microsoft.datawrangler.viewer.v0+json": {
       "columns": [
        {
         "name": "index",
         "rawType": "int64",
         "type": "integer"
        },
        {
         "name": "order_id",
         "rawType": "object",
         "type": "string"
        },
        {
         "name": "order_item_id",
         "rawType": "int64",
         "type": "integer"
        },
        {
         "name": "product_id",
         "rawType": "object",
         "type": "string"
        },
        {
         "name": "seller_id",
         "rawType": "object",
         "type": "string"
        },
        {
         "name": "shipping_limit_date",
         "rawType": "object",
         "type": "string"
        },
        {
         "name": "price",
         "rawType": "float64",
         "type": "float"
        },
        {
         "name": "freight_value",
         "rawType": "float64",
         "type": "float"
        }
       ],
       "ref": "6c525ffd-ec8e-40e9-a79f-c2552209da13",
       "rows": [
        [
         "0",
         "00010242fe8c5a6d1ba2dd792cb16214",
         "1",
         "4244733e06e7ecb4970a6e2683c13e61",
         "48436dade18ac8b2bce089ec2a041202",
         "2017-09-19 09:45:35",
         "58.9",
         "13.29"
        ],
        [
         "1",
         "00018f77f2f0320c557190d7a144bdd3",
         "1",
         "e5f2d52b802189ee658865ca93d83a8f",
         "dd7ddc04e1b6c2c614352b383efe2d36",
         "2017-05-03 11:05:13",
         "239.9",
         "19.93"
        ],
        [
         "2",
         "000229ec398224ef6ca0657da4fc703e",
         "1",
         "c777355d18b72b67abbeef9df44fd0fd",
         "5b51032eddd242adc84c38acab88f23d",
         "2018-01-18 14:48:30",
         "199.0",
         "17.87"
        ],
        [
         "3",
         "00024acbcdf0a6daa1e931b038114c75",
         "1",
         "7634da152a4610f1595efa32f14722fc",
         "9d7a1d34a5052409006425275ba1c2b4",
         "2018-08-15 10:10:18",
         "12.99",
         "12.79"
        ],
        [
         "4",
         "00042b26cf59d7ce69dfabb4e55b4fd9",
         "1",
         "ac6c3623068f30de03045865e4e10089",
         "df560393f3a51e74553ab94004ba5c87",
         "2017-02-13 13:57:51",
         "199.9",
         "18.14"
        ]
       ],
       "shape": {
        "columns": 7,
        "rows": 5
       }
      },
      "text/html": [
       "<div>\n",
       "<style scoped>\n",
       "    .dataframe tbody tr th:only-of-type {\n",
       "        vertical-align: middle;\n",
       "    }\n",
       "\n",
       "    .dataframe tbody tr th {\n",
       "        vertical-align: top;\n",
       "    }\n",
       "\n",
       "    .dataframe thead th {\n",
       "        text-align: right;\n",
       "    }\n",
       "</style>\n",
       "<table border=\"1\" class=\"dataframe\">\n",
       "  <thead>\n",
       "    <tr style=\"text-align: right;\">\n",
       "      <th></th>\n",
       "      <th>order_id</th>\n",
       "      <th>order_item_id</th>\n",
       "      <th>product_id</th>\n",
       "      <th>seller_id</th>\n",
       "      <th>shipping_limit_date</th>\n",
       "      <th>price</th>\n",
       "      <th>freight_value</th>\n",
       "    </tr>\n",
       "  </thead>\n",
       "  <tbody>\n",
       "    <tr>\n",
       "      <th>0</th>\n",
       "      <td>00010242fe8c5a6d1ba2dd792cb16214</td>\n",
       "      <td>1</td>\n",
       "      <td>4244733e06e7ecb4970a6e2683c13e61</td>\n",
       "      <td>48436dade18ac8b2bce089ec2a041202</td>\n",
       "      <td>2017-09-19 09:45:35</td>\n",
       "      <td>58.90</td>\n",
       "      <td>13.29</td>\n",
       "    </tr>\n",
       "    <tr>\n",
       "      <th>1</th>\n",
       "      <td>00018f77f2f0320c557190d7a144bdd3</td>\n",
       "      <td>1</td>\n",
       "      <td>e5f2d52b802189ee658865ca93d83a8f</td>\n",
       "      <td>dd7ddc04e1b6c2c614352b383efe2d36</td>\n",
       "      <td>2017-05-03 11:05:13</td>\n",
       "      <td>239.90</td>\n",
       "      <td>19.93</td>\n",
       "    </tr>\n",
       "    <tr>\n",
       "      <th>2</th>\n",
       "      <td>000229ec398224ef6ca0657da4fc703e</td>\n",
       "      <td>1</td>\n",
       "      <td>c777355d18b72b67abbeef9df44fd0fd</td>\n",
       "      <td>5b51032eddd242adc84c38acab88f23d</td>\n",
       "      <td>2018-01-18 14:48:30</td>\n",
       "      <td>199.00</td>\n",
       "      <td>17.87</td>\n",
       "    </tr>\n",
       "    <tr>\n",
       "      <th>3</th>\n",
       "      <td>00024acbcdf0a6daa1e931b038114c75</td>\n",
       "      <td>1</td>\n",
       "      <td>7634da152a4610f1595efa32f14722fc</td>\n",
       "      <td>9d7a1d34a5052409006425275ba1c2b4</td>\n",
       "      <td>2018-08-15 10:10:18</td>\n",
       "      <td>12.99</td>\n",
       "      <td>12.79</td>\n",
       "    </tr>\n",
       "    <tr>\n",
       "      <th>4</th>\n",
       "      <td>00042b26cf59d7ce69dfabb4e55b4fd9</td>\n",
       "      <td>1</td>\n",
       "      <td>ac6c3623068f30de03045865e4e10089</td>\n",
       "      <td>df560393f3a51e74553ab94004ba5c87</td>\n",
       "      <td>2017-02-13 13:57:51</td>\n",
       "      <td>199.90</td>\n",
       "      <td>18.14</td>\n",
       "    </tr>\n",
       "  </tbody>\n",
       "</table>\n",
       "</div>"
      ],
      "text/plain": [
       "                           order_id  order_item_id  \\\n",
       "0  00010242fe8c5a6d1ba2dd792cb16214              1   \n",
       "1  00018f77f2f0320c557190d7a144bdd3              1   \n",
       "2  000229ec398224ef6ca0657da4fc703e              1   \n",
       "3  00024acbcdf0a6daa1e931b038114c75              1   \n",
       "4  00042b26cf59d7ce69dfabb4e55b4fd9              1   \n",
       "\n",
       "                         product_id                         seller_id  \\\n",
       "0  4244733e06e7ecb4970a6e2683c13e61  48436dade18ac8b2bce089ec2a041202   \n",
       "1  e5f2d52b802189ee658865ca93d83a8f  dd7ddc04e1b6c2c614352b383efe2d36   \n",
       "2  c777355d18b72b67abbeef9df44fd0fd  5b51032eddd242adc84c38acab88f23d   \n",
       "3  7634da152a4610f1595efa32f14722fc  9d7a1d34a5052409006425275ba1c2b4   \n",
       "4  ac6c3623068f30de03045865e4e10089  df560393f3a51e74553ab94004ba5c87   \n",
       "\n",
       "   shipping_limit_date   price  freight_value  \n",
       "0  2017-09-19 09:45:35   58.90          13.29  \n",
       "1  2017-05-03 11:05:13  239.90          19.93  \n",
       "2  2018-01-18 14:48:30  199.00          17.87  \n",
       "3  2018-08-15 10:10:18   12.99          12.79  \n",
       "4  2017-02-13 13:57:51  199.90          18.14  "
      ]
     },
     "execution_count": 4,
     "metadata": {},
     "output_type": "execute_result"
    }
   ],
   "source": [
    "df.head()"
   ]
  },
  {
   "cell_type": "code",
   "execution_count": 5,
   "id": "5e4f521c",
   "metadata": {},
   "outputs": [
    {
     "data": {
      "application/vnd.microsoft.datawrangler.viewer.v0+json": {
       "columns": [
        {
         "name": "index",
         "rawType": "int64",
         "type": "integer"
        },
        {
         "name": "order_id",
         "rawType": "object",
         "type": "string"
        },
        {
         "name": "order_item_id",
         "rawType": "int64",
         "type": "integer"
        },
        {
         "name": "product_id",
         "rawType": "object",
         "type": "string"
        },
        {
         "name": "seller_id",
         "rawType": "object",
         "type": "string"
        },
        {
         "name": "shipping_limit_date",
         "rawType": "object",
         "type": "string"
        },
        {
         "name": "price",
         "rawType": "float64",
         "type": "float"
        },
        {
         "name": "freight_value",
         "rawType": "float64",
         "type": "float"
        }
       ],
       "ref": "0ca5eb11-6c43-45a2-9d90-5d08bf9b7d44",
       "rows": [
        [
         "112645",
         "fffc94f6ce00a00581880bf54a75a037",
         "1",
         "4aa6014eceb682077f9dc4bffebc05b0",
         "b8bc237ba3788b23da09c0f1f3a3288c",
         "2018-05-02 04:11:01",
         "299.99",
         "43.41"
        ],
        [
         "112646",
         "fffcd46ef2263f404302a634eb57f7eb",
         "1",
         "32e07fd915822b0765e448c4dd74c828",
         "f3c38ab652836d21de61fb8314b69182",
         "2018-07-20 04:31:48",
         "350.0",
         "36.53"
        ],
        [
         "112647",
         "fffce4705a9662cd70adb13d4a31832d",
         "1",
         "72a30483855e2eafc67aee5dc2560482",
         "c3cfdc648177fdbbbb35635a37472c53",
         "2017-10-30 17:14:25",
         "99.9",
         "16.95"
        ],
        [
         "112648",
         "fffe18544ffabc95dfada21779c9644f",
         "1",
         "9c422a519119dcad7575db5af1ba540e",
         "2b3e4a2a3ea8e01938cabda2a3e5cc79",
         "2017-08-21 00:04:32",
         "55.99",
         "8.72"
        ],
        [
         "112649",
         "fffe41c64501cc87c801fd61db3f6244",
         "1",
         "350688d9dc1e75ff97be326363655e01",
         "f7ccf836d21b2fb1de37564105216cc1",
         "2018-06-12 17:10:13",
         "43.0",
         "12.79"
        ]
       ],
       "shape": {
        "columns": 7,
        "rows": 5
       }
      },
      "text/html": [
       "<div>\n",
       "<style scoped>\n",
       "    .dataframe tbody tr th:only-of-type {\n",
       "        vertical-align: middle;\n",
       "    }\n",
       "\n",
       "    .dataframe tbody tr th {\n",
       "        vertical-align: top;\n",
       "    }\n",
       "\n",
       "    .dataframe thead th {\n",
       "        text-align: right;\n",
       "    }\n",
       "</style>\n",
       "<table border=\"1\" class=\"dataframe\">\n",
       "  <thead>\n",
       "    <tr style=\"text-align: right;\">\n",
       "      <th></th>\n",
       "      <th>order_id</th>\n",
       "      <th>order_item_id</th>\n",
       "      <th>product_id</th>\n",
       "      <th>seller_id</th>\n",
       "      <th>shipping_limit_date</th>\n",
       "      <th>price</th>\n",
       "      <th>freight_value</th>\n",
       "    </tr>\n",
       "  </thead>\n",
       "  <tbody>\n",
       "    <tr>\n",
       "      <th>112645</th>\n",
       "      <td>fffc94f6ce00a00581880bf54a75a037</td>\n",
       "      <td>1</td>\n",
       "      <td>4aa6014eceb682077f9dc4bffebc05b0</td>\n",
       "      <td>b8bc237ba3788b23da09c0f1f3a3288c</td>\n",
       "      <td>2018-05-02 04:11:01</td>\n",
       "      <td>299.99</td>\n",
       "      <td>43.41</td>\n",
       "    </tr>\n",
       "    <tr>\n",
       "      <th>112646</th>\n",
       "      <td>fffcd46ef2263f404302a634eb57f7eb</td>\n",
       "      <td>1</td>\n",
       "      <td>32e07fd915822b0765e448c4dd74c828</td>\n",
       "      <td>f3c38ab652836d21de61fb8314b69182</td>\n",
       "      <td>2018-07-20 04:31:48</td>\n",
       "      <td>350.00</td>\n",
       "      <td>36.53</td>\n",
       "    </tr>\n",
       "    <tr>\n",
       "      <th>112647</th>\n",
       "      <td>fffce4705a9662cd70adb13d4a31832d</td>\n",
       "      <td>1</td>\n",
       "      <td>72a30483855e2eafc67aee5dc2560482</td>\n",
       "      <td>c3cfdc648177fdbbbb35635a37472c53</td>\n",
       "      <td>2017-10-30 17:14:25</td>\n",
       "      <td>99.90</td>\n",
       "      <td>16.95</td>\n",
       "    </tr>\n",
       "    <tr>\n",
       "      <th>112648</th>\n",
       "      <td>fffe18544ffabc95dfada21779c9644f</td>\n",
       "      <td>1</td>\n",
       "      <td>9c422a519119dcad7575db5af1ba540e</td>\n",
       "      <td>2b3e4a2a3ea8e01938cabda2a3e5cc79</td>\n",
       "      <td>2017-08-21 00:04:32</td>\n",
       "      <td>55.99</td>\n",
       "      <td>8.72</td>\n",
       "    </tr>\n",
       "    <tr>\n",
       "      <th>112649</th>\n",
       "      <td>fffe41c64501cc87c801fd61db3f6244</td>\n",
       "      <td>1</td>\n",
       "      <td>350688d9dc1e75ff97be326363655e01</td>\n",
       "      <td>f7ccf836d21b2fb1de37564105216cc1</td>\n",
       "      <td>2018-06-12 17:10:13</td>\n",
       "      <td>43.00</td>\n",
       "      <td>12.79</td>\n",
       "    </tr>\n",
       "  </tbody>\n",
       "</table>\n",
       "</div>"
      ],
      "text/plain": [
       "                                order_id  order_item_id  \\\n",
       "112645  fffc94f6ce00a00581880bf54a75a037              1   \n",
       "112646  fffcd46ef2263f404302a634eb57f7eb              1   \n",
       "112647  fffce4705a9662cd70adb13d4a31832d              1   \n",
       "112648  fffe18544ffabc95dfada21779c9644f              1   \n",
       "112649  fffe41c64501cc87c801fd61db3f6244              1   \n",
       "\n",
       "                              product_id                         seller_id  \\\n",
       "112645  4aa6014eceb682077f9dc4bffebc05b0  b8bc237ba3788b23da09c0f1f3a3288c   \n",
       "112646  32e07fd915822b0765e448c4dd74c828  f3c38ab652836d21de61fb8314b69182   \n",
       "112647  72a30483855e2eafc67aee5dc2560482  c3cfdc648177fdbbbb35635a37472c53   \n",
       "112648  9c422a519119dcad7575db5af1ba540e  2b3e4a2a3ea8e01938cabda2a3e5cc79   \n",
       "112649  350688d9dc1e75ff97be326363655e01  f7ccf836d21b2fb1de37564105216cc1   \n",
       "\n",
       "        shipping_limit_date   price  freight_value  \n",
       "112645  2018-05-02 04:11:01  299.99          43.41  \n",
       "112646  2018-07-20 04:31:48  350.00          36.53  \n",
       "112647  2017-10-30 17:14:25   99.90          16.95  \n",
       "112648  2017-08-21 00:04:32   55.99           8.72  \n",
       "112649  2018-06-12 17:10:13   43.00          12.79  "
      ]
     },
     "execution_count": 5,
     "metadata": {},
     "output_type": "execute_result"
    }
   ],
   "source": [
    "df.tail()"
   ]
  },
  {
   "cell_type": "code",
   "execution_count": 6,
   "id": "3201187d",
   "metadata": {},
   "outputs": [
    {
     "data": {
      "text/plain": [
       "Index(['order_id', 'order_item_id', 'product_id', 'seller_id',\n",
       "       'shipping_limit_date', 'price', 'freight_value'],\n",
       "      dtype='object')"
      ]
     },
     "execution_count": 6,
     "metadata": {},
     "output_type": "execute_result"
    }
   ],
   "source": [
    "df.columns"
   ]
  },
  {
   "cell_type": "code",
   "execution_count": 7,
   "id": "51ae94d4",
   "metadata": {},
   "outputs": [
    {
     "name": "stdout",
     "output_type": "stream",
     "text": [
      "<class 'pandas.core.frame.DataFrame'>\n",
      "RangeIndex: 112650 entries, 0 to 112649\n",
      "Data columns (total 7 columns):\n",
      " #   Column               Non-Null Count   Dtype  \n",
      "---  ------               --------------   -----  \n",
      " 0   order_id             112650 non-null  object \n",
      " 1   order_item_id        112650 non-null  int64  \n",
      " 2   product_id           112650 non-null  object \n",
      " 3   seller_id            112650 non-null  object \n",
      " 4   shipping_limit_date  112650 non-null  object \n",
      " 5   price                112650 non-null  float64\n",
      " 6   freight_value        112650 non-null  float64\n",
      "dtypes: float64(2), int64(1), object(4)\n",
      "memory usage: 6.0+ MB\n"
     ]
    }
   ],
   "source": [
    "df.info()"
   ]
  },
  {
   "cell_type": "code",
   "execution_count": 8,
   "id": "996da7f8",
   "metadata": {},
   "outputs": [
    {
     "data": {
      "application/vnd.microsoft.datawrangler.viewer.v0+json": {
       "columns": [
        {
         "name": "index",
         "rawType": "object",
         "type": "string"
        },
        {
         "name": "order_item_id",
         "rawType": "float64",
         "type": "float"
        },
        {
         "name": "price",
         "rawType": "float64",
         "type": "float"
        },
        {
         "name": "freight_value",
         "rawType": "float64",
         "type": "float"
        }
       ],
       "ref": "f4212594-0dfd-41af-9fc0-a3abda8750a7",
       "rows": [
        [
         "count",
         "112650.0",
         "112650.0",
         "112650.0"
        ],
        [
         "mean",
         "1.1978339991122948",
         "120.65373901464716",
         "19.990319928983578"
        ],
        [
         "std",
         "0.7051240313956294",
         "183.63392805025404",
         "15.806405412296854"
        ],
        [
         "min",
         "1.0",
         "0.85",
         "0.0"
        ],
        [
         "25%",
         "1.0",
         "39.9",
         "13.08"
        ],
        [
         "50%",
         "1.0",
         "74.99",
         "16.26"
        ],
        [
         "75%",
         "1.0",
         "134.9",
         "21.15"
        ],
        [
         "max",
         "21.0",
         "6735.0",
         "409.68"
        ]
       ],
       "shape": {
        "columns": 3,
        "rows": 8
       }
      },
      "text/html": [
       "<div>\n",
       "<style scoped>\n",
       "    .dataframe tbody tr th:only-of-type {\n",
       "        vertical-align: middle;\n",
       "    }\n",
       "\n",
       "    .dataframe tbody tr th {\n",
       "        vertical-align: top;\n",
       "    }\n",
       "\n",
       "    .dataframe thead th {\n",
       "        text-align: right;\n",
       "    }\n",
       "</style>\n",
       "<table border=\"1\" class=\"dataframe\">\n",
       "  <thead>\n",
       "    <tr style=\"text-align: right;\">\n",
       "      <th></th>\n",
       "      <th>order_item_id</th>\n",
       "      <th>price</th>\n",
       "      <th>freight_value</th>\n",
       "    </tr>\n",
       "  </thead>\n",
       "  <tbody>\n",
       "    <tr>\n",
       "      <th>count</th>\n",
       "      <td>112650.000000</td>\n",
       "      <td>112650.000000</td>\n",
       "      <td>112650.000000</td>\n",
       "    </tr>\n",
       "    <tr>\n",
       "      <th>mean</th>\n",
       "      <td>1.197834</td>\n",
       "      <td>120.653739</td>\n",
       "      <td>19.990320</td>\n",
       "    </tr>\n",
       "    <tr>\n",
       "      <th>std</th>\n",
       "      <td>0.705124</td>\n",
       "      <td>183.633928</td>\n",
       "      <td>15.806405</td>\n",
       "    </tr>\n",
       "    <tr>\n",
       "      <th>min</th>\n",
       "      <td>1.000000</td>\n",
       "      <td>0.850000</td>\n",
       "      <td>0.000000</td>\n",
       "    </tr>\n",
       "    <tr>\n",
       "      <th>25%</th>\n",
       "      <td>1.000000</td>\n",
       "      <td>39.900000</td>\n",
       "      <td>13.080000</td>\n",
       "    </tr>\n",
       "    <tr>\n",
       "      <th>50%</th>\n",
       "      <td>1.000000</td>\n",
       "      <td>74.990000</td>\n",
       "      <td>16.260000</td>\n",
       "    </tr>\n",
       "    <tr>\n",
       "      <th>75%</th>\n",
       "      <td>1.000000</td>\n",
       "      <td>134.900000</td>\n",
       "      <td>21.150000</td>\n",
       "    </tr>\n",
       "    <tr>\n",
       "      <th>max</th>\n",
       "      <td>21.000000</td>\n",
       "      <td>6735.000000</td>\n",
       "      <td>409.680000</td>\n",
       "    </tr>\n",
       "  </tbody>\n",
       "</table>\n",
       "</div>"
      ],
      "text/plain": [
       "       order_item_id          price  freight_value\n",
       "count  112650.000000  112650.000000  112650.000000\n",
       "mean        1.197834     120.653739      19.990320\n",
       "std         0.705124     183.633928      15.806405\n",
       "min         1.000000       0.850000       0.000000\n",
       "25%         1.000000      39.900000      13.080000\n",
       "50%         1.000000      74.990000      16.260000\n",
       "75%         1.000000     134.900000      21.150000\n",
       "max        21.000000    6735.000000     409.680000"
      ]
     },
     "execution_count": 8,
     "metadata": {},
     "output_type": "execute_result"
    }
   ],
   "source": [
    "df.describe()"
   ]
  },
  {
   "cell_type": "code",
   "execution_count": 9,
   "id": "6a0b1f74",
   "metadata": {},
   "outputs": [],
   "source": [
    "#checking duplicate values"
   ]
  },
  {
   "cell_type": "code",
   "execution_count": 10,
   "id": "6ac07a93",
   "metadata": {},
   "outputs": [
    {
     "data": {
      "application/vnd.microsoft.datawrangler.viewer.v0+json": {
       "columns": [
        {
         "name": "index",
         "rawType": "int64",
         "type": "integer"
        },
        {
         "name": "0",
         "rawType": "bool",
         "type": "boolean"
        }
       ],
       "ref": "ccf0e09d-7b5c-499f-bb7f-4a8d420106d8",
       "rows": [
        [
         "0",
         "False"
        ],
        [
         "1",
         "False"
        ],
        [
         "2",
         "False"
        ],
        [
         "3",
         "False"
        ],
        [
         "4",
         "False"
        ],
        [
         "5",
         "False"
        ],
        [
         "6",
         "False"
        ],
        [
         "7",
         "False"
        ],
        [
         "8",
         "False"
        ],
        [
         "9",
         "False"
        ],
        [
         "10",
         "False"
        ],
        [
         "11",
         "False"
        ],
        [
         "12",
         "False"
        ],
        [
         "13",
         "False"
        ],
        [
         "14",
         "False"
        ],
        [
         "15",
         "False"
        ],
        [
         "16",
         "False"
        ],
        [
         "17",
         "False"
        ],
        [
         "18",
         "False"
        ],
        [
         "19",
         "False"
        ],
        [
         "20",
         "False"
        ],
        [
         "21",
         "False"
        ],
        [
         "22",
         "False"
        ],
        [
         "23",
         "False"
        ],
        [
         "24",
         "False"
        ],
        [
         "25",
         "False"
        ],
        [
         "26",
         "False"
        ],
        [
         "27",
         "False"
        ],
        [
         "28",
         "False"
        ],
        [
         "29",
         "False"
        ],
        [
         "30",
         "False"
        ],
        [
         "31",
         "False"
        ],
        [
         "32",
         "False"
        ],
        [
         "33",
         "False"
        ],
        [
         "34",
         "False"
        ],
        [
         "35",
         "False"
        ],
        [
         "36",
         "False"
        ],
        [
         "37",
         "False"
        ],
        [
         "38",
         "False"
        ],
        [
         "39",
         "False"
        ],
        [
         "40",
         "False"
        ],
        [
         "41",
         "False"
        ],
        [
         "42",
         "False"
        ],
        [
         "43",
         "False"
        ],
        [
         "44",
         "False"
        ],
        [
         "45",
         "False"
        ],
        [
         "46",
         "False"
        ],
        [
         "47",
         "False"
        ],
        [
         "48",
         "False"
        ],
        [
         "49",
         "False"
        ]
       ],
       "shape": {
        "columns": 1,
        "rows": 112650
       }
      },
      "text/plain": [
       "0         False\n",
       "1         False\n",
       "2         False\n",
       "3         False\n",
       "4         False\n",
       "          ...  \n",
       "112645    False\n",
       "112646    False\n",
       "112647    False\n",
       "112648    False\n",
       "112649    False\n",
       "Length: 112650, dtype: bool"
      ]
     },
     "execution_count": 10,
     "metadata": {},
     "output_type": "execute_result"
    }
   ],
   "source": [
    "df.duplicated()"
   ]
  },
  {
   "cell_type": "code",
   "execution_count": 11,
   "id": "dfa887da",
   "metadata": {},
   "outputs": [
    {
     "data": {
      "text/plain": [
       "np.int64(0)"
      ]
     },
     "execution_count": 11,
     "metadata": {},
     "output_type": "execute_result"
    }
   ],
   "source": [
    "df.duplicated().sum()"
   ]
  },
  {
   "cell_type": "code",
   "execution_count": 12,
   "id": "00c73895",
   "metadata": {},
   "outputs": [
    {
     "data": {
      "application/vnd.microsoft.datawrangler.viewer.v0+json": {
       "columns": [
        {
         "name": "index",
         "rawType": "object",
         "type": "string"
        },
        {
         "name": "0",
         "rawType": "int64",
         "type": "integer"
        }
       ],
       "ref": "55c3c976-456e-46b7-8518-01ad88a75770",
       "rows": [
        [
         "order_id",
         "0"
        ],
        [
         "order_item_id",
         "0"
        ],
        [
         "product_id",
         "0"
        ],
        [
         "seller_id",
         "0"
        ],
        [
         "shipping_limit_date",
         "0"
        ],
        [
         "price",
         "0"
        ],
        [
         "freight_value",
         "0"
        ]
       ],
       "shape": {
        "columns": 1,
        "rows": 7
       }
      },
      "text/plain": [
       "order_id               0\n",
       "order_item_id          0\n",
       "product_id             0\n",
       "seller_id              0\n",
       "shipping_limit_date    0\n",
       "price                  0\n",
       "freight_value          0\n",
       "dtype: int64"
      ]
     },
     "execution_count": 12,
     "metadata": {},
     "output_type": "execute_result"
    }
   ],
   "source": [
    "df.isna().sum() # checking na value"
   ]
  },
  {
   "cell_type": "code",
   "execution_count": 13,
   "id": "73a6aab9",
   "metadata": {},
   "outputs": [
    {
     "data": {
      "application/vnd.microsoft.datawrangler.viewer.v0+json": {
       "columns": [
        {
         "name": "index",
         "rawType": "int64",
         "type": "integer"
        },
        {
         "name": "order_id",
         "rawType": "object",
         "type": "string"
        },
        {
         "name": "order_item_id",
         "rawType": "int64",
         "type": "integer"
        },
        {
         "name": "product_id",
         "rawType": "object",
         "type": "string"
        },
        {
         "name": "seller_id",
         "rawType": "object",
         "type": "string"
        },
        {
         "name": "shipping_limit_date",
         "rawType": "object",
         "type": "string"
        },
        {
         "name": "price",
         "rawType": "float64",
         "type": "float"
        },
        {
         "name": "freight_value",
         "rawType": "float64",
         "type": "float"
        }
       ],
       "ref": "9d9f6b06-d7a5-4842-9a2b-2d6b2ad77f48",
       "rows": [
        [
         "0",
         "00010242fe8c5a6d1ba2dd792cb16214",
         "1",
         "4244733e06e7ecb4970a6e2683c13e61",
         "48436dade18ac8b2bce089ec2a041202",
         "2017-09-19 09:45:35",
         "58.9",
         "13.29"
        ],
        [
         "1",
         "00018f77f2f0320c557190d7a144bdd3",
         "1",
         "e5f2d52b802189ee658865ca93d83a8f",
         "dd7ddc04e1b6c2c614352b383efe2d36",
         "2017-05-03 11:05:13",
         "239.9",
         "19.93"
        ],
        [
         "2",
         "000229ec398224ef6ca0657da4fc703e",
         "1",
         "c777355d18b72b67abbeef9df44fd0fd",
         "5b51032eddd242adc84c38acab88f23d",
         "2018-01-18 14:48:30",
         "199.0",
         "17.87"
        ],
        [
         "3",
         "00024acbcdf0a6daa1e931b038114c75",
         "1",
         "7634da152a4610f1595efa32f14722fc",
         "9d7a1d34a5052409006425275ba1c2b4",
         "2018-08-15 10:10:18",
         "12.99",
         "12.79"
        ],
        [
         "4",
         "00042b26cf59d7ce69dfabb4e55b4fd9",
         "1",
         "ac6c3623068f30de03045865e4e10089",
         "df560393f3a51e74553ab94004ba5c87",
         "2017-02-13 13:57:51",
         "199.9",
         "18.14"
        ]
       ],
       "shape": {
        "columns": 7,
        "rows": 5
       }
      },
      "text/html": [
       "<div>\n",
       "<style scoped>\n",
       "    .dataframe tbody tr th:only-of-type {\n",
       "        vertical-align: middle;\n",
       "    }\n",
       "\n",
       "    .dataframe tbody tr th {\n",
       "        vertical-align: top;\n",
       "    }\n",
       "\n",
       "    .dataframe thead th {\n",
       "        text-align: right;\n",
       "    }\n",
       "</style>\n",
       "<table border=\"1\" class=\"dataframe\">\n",
       "  <thead>\n",
       "    <tr style=\"text-align: right;\">\n",
       "      <th></th>\n",
       "      <th>order_id</th>\n",
       "      <th>order_item_id</th>\n",
       "      <th>product_id</th>\n",
       "      <th>seller_id</th>\n",
       "      <th>shipping_limit_date</th>\n",
       "      <th>price</th>\n",
       "      <th>freight_value</th>\n",
       "    </tr>\n",
       "  </thead>\n",
       "  <tbody>\n",
       "    <tr>\n",
       "      <th>0</th>\n",
       "      <td>00010242fe8c5a6d1ba2dd792cb16214</td>\n",
       "      <td>1</td>\n",
       "      <td>4244733e06e7ecb4970a6e2683c13e61</td>\n",
       "      <td>48436dade18ac8b2bce089ec2a041202</td>\n",
       "      <td>2017-09-19 09:45:35</td>\n",
       "      <td>58.90</td>\n",
       "      <td>13.29</td>\n",
       "    </tr>\n",
       "    <tr>\n",
       "      <th>1</th>\n",
       "      <td>00018f77f2f0320c557190d7a144bdd3</td>\n",
       "      <td>1</td>\n",
       "      <td>e5f2d52b802189ee658865ca93d83a8f</td>\n",
       "      <td>dd7ddc04e1b6c2c614352b383efe2d36</td>\n",
       "      <td>2017-05-03 11:05:13</td>\n",
       "      <td>239.90</td>\n",
       "      <td>19.93</td>\n",
       "    </tr>\n",
       "    <tr>\n",
       "      <th>2</th>\n",
       "      <td>000229ec398224ef6ca0657da4fc703e</td>\n",
       "      <td>1</td>\n",
       "      <td>c777355d18b72b67abbeef9df44fd0fd</td>\n",
       "      <td>5b51032eddd242adc84c38acab88f23d</td>\n",
       "      <td>2018-01-18 14:48:30</td>\n",
       "      <td>199.00</td>\n",
       "      <td>17.87</td>\n",
       "    </tr>\n",
       "    <tr>\n",
       "      <th>3</th>\n",
       "      <td>00024acbcdf0a6daa1e931b038114c75</td>\n",
       "      <td>1</td>\n",
       "      <td>7634da152a4610f1595efa32f14722fc</td>\n",
       "      <td>9d7a1d34a5052409006425275ba1c2b4</td>\n",
       "      <td>2018-08-15 10:10:18</td>\n",
       "      <td>12.99</td>\n",
       "      <td>12.79</td>\n",
       "    </tr>\n",
       "    <tr>\n",
       "      <th>4</th>\n",
       "      <td>00042b26cf59d7ce69dfabb4e55b4fd9</td>\n",
       "      <td>1</td>\n",
       "      <td>ac6c3623068f30de03045865e4e10089</td>\n",
       "      <td>df560393f3a51e74553ab94004ba5c87</td>\n",
       "      <td>2017-02-13 13:57:51</td>\n",
       "      <td>199.90</td>\n",
       "      <td>18.14</td>\n",
       "    </tr>\n",
       "  </tbody>\n",
       "</table>\n",
       "</div>"
      ],
      "text/plain": [
       "                           order_id  order_item_id  \\\n",
       "0  00010242fe8c5a6d1ba2dd792cb16214              1   \n",
       "1  00018f77f2f0320c557190d7a144bdd3              1   \n",
       "2  000229ec398224ef6ca0657da4fc703e              1   \n",
       "3  00024acbcdf0a6daa1e931b038114c75              1   \n",
       "4  00042b26cf59d7ce69dfabb4e55b4fd9              1   \n",
       "\n",
       "                         product_id                         seller_id  \\\n",
       "0  4244733e06e7ecb4970a6e2683c13e61  48436dade18ac8b2bce089ec2a041202   \n",
       "1  e5f2d52b802189ee658865ca93d83a8f  dd7ddc04e1b6c2c614352b383efe2d36   \n",
       "2  c777355d18b72b67abbeef9df44fd0fd  5b51032eddd242adc84c38acab88f23d   \n",
       "3  7634da152a4610f1595efa32f14722fc  9d7a1d34a5052409006425275ba1c2b4   \n",
       "4  ac6c3623068f30de03045865e4e10089  df560393f3a51e74553ab94004ba5c87   \n",
       "\n",
       "   shipping_limit_date   price  freight_value  \n",
       "0  2017-09-19 09:45:35   58.90          13.29  \n",
       "1  2017-05-03 11:05:13  239.90          19.93  \n",
       "2  2018-01-18 14:48:30  199.00          17.87  \n",
       "3  2018-08-15 10:10:18   12.99          12.79  \n",
       "4  2017-02-13 13:57:51  199.90          18.14  "
      ]
     },
     "execution_count": 13,
     "metadata": {},
     "output_type": "execute_result"
    }
   ],
   "source": [
    "df.head()"
   ]
  },
  {
   "cell_type": "code",
   "execution_count": 14,
   "id": "eeda7b7d",
   "metadata": {},
   "outputs": [],
   "source": [
    "df.dropna(subset=['order_item_id', 'product_id', 'seller_id', 'price'], inplace=True)"
   ]
  },
  {
   "cell_type": "code",
   "execution_count": 15,
   "id": "2b716631",
   "metadata": {},
   "outputs": [
    {
     "data": {
      "application/vnd.microsoft.datawrangler.viewer.v0+json": {
       "columns": [
        {
         "name": "index",
         "rawType": "int64",
         "type": "integer"
        },
        {
         "name": "order_id",
         "rawType": "object",
         "type": "string"
        },
        {
         "name": "order_item_id",
         "rawType": "int64",
         "type": "integer"
        },
        {
         "name": "product_id",
         "rawType": "object",
         "type": "string"
        },
        {
         "name": "seller_id",
         "rawType": "object",
         "type": "string"
        },
        {
         "name": "shipping_limit_date",
         "rawType": "object",
         "type": "string"
        },
        {
         "name": "price",
         "rawType": "float64",
         "type": "float"
        },
        {
         "name": "freight_value",
         "rawType": "float64",
         "type": "float"
        }
       ],
       "ref": "c688e54b-ccbe-48cb-9e70-887a7bdc3a2a",
       "rows": [
        [
         "0",
         "00010242fe8c5a6d1ba2dd792cb16214",
         "1",
         "4244733e06e7ecb4970a6e2683c13e61",
         "48436dade18ac8b2bce089ec2a041202",
         "2017-09-19 09:45:35",
         "58.9",
         "13.29"
        ],
        [
         "1",
         "00018f77f2f0320c557190d7a144bdd3",
         "1",
         "e5f2d52b802189ee658865ca93d83a8f",
         "dd7ddc04e1b6c2c614352b383efe2d36",
         "2017-05-03 11:05:13",
         "239.9",
         "19.93"
        ],
        [
         "2",
         "000229ec398224ef6ca0657da4fc703e",
         "1",
         "c777355d18b72b67abbeef9df44fd0fd",
         "5b51032eddd242adc84c38acab88f23d",
         "2018-01-18 14:48:30",
         "199.0",
         "17.87"
        ],
        [
         "3",
         "00024acbcdf0a6daa1e931b038114c75",
         "1",
         "7634da152a4610f1595efa32f14722fc",
         "9d7a1d34a5052409006425275ba1c2b4",
         "2018-08-15 10:10:18",
         "12.99",
         "12.79"
        ],
        [
         "4",
         "00042b26cf59d7ce69dfabb4e55b4fd9",
         "1",
         "ac6c3623068f30de03045865e4e10089",
         "df560393f3a51e74553ab94004ba5c87",
         "2017-02-13 13:57:51",
         "199.9",
         "18.14"
        ],
        [
         "5",
         "00048cc3ae777c65dbb7d2a0634bc1ea",
         "1",
         "ef92defde845ab8450f9d70c526ef70f",
         "6426d21aca402a131fc0a5d0960a3c90",
         "2017-05-23 03:55:27",
         "21.9",
         "12.69"
        ],
        [
         "6",
         "00054e8431b9d7675808bcb819fb4a32",
         "1",
         "8d4f2bb7e93e6710a28f34fa83ee7d28",
         "7040e82f899a04d1b434b795a43b4617",
         "2017-12-14 12:10:31",
         "19.9",
         "11.85"
        ],
        [
         "7",
         "000576fe39319847cbb9d288c5617fa6",
         "1",
         "557d850972a7d6f792fd18ae1400d9b6",
         "5996cddab893a4652a15592fb58ab8db",
         "2018-07-10 12:30:45",
         "810.0",
         "70.75"
        ],
        [
         "8",
         "0005a1a1728c9d785b8e2b08b904576c",
         "1",
         "310ae3c140ff94b03219ad0adc3c778f",
         "a416b6a846a11724393025641d4edd5e",
         "2018-03-26 18:31:29",
         "145.95",
         "11.65"
        ],
        [
         "9",
         "0005f50442cb953dcd1d21e1fb923495",
         "1",
         "4535b0e1091c278dfd193e5a1d63b39f",
         "ba143b05f0110f0dc71ad71b4466ce92",
         "2018-07-06 14:10:56",
         "53.99",
         "11.4"
        ],
        [
         "10",
         "00061f2a7bc09da83e415a52dc8a4af1",
         "1",
         "d63c1011f49d98b976c352955b1c4bea",
         "cc419e0650a3c5ba77189a1882b7556a",
         "2018-03-29 22:28:09",
         "59.99",
         "8.88"
        ],
        [
         "11",
         "00063b381e2406b52ad429470734ebd5",
         "1",
         "f177554ea93259a5b282f24e33f65ab6",
         "8602a61d680a10a82cceeeda0d99ea3d",
         "2018-07-31 17:30:39",
         "45.0",
         "12.98"
        ],
        [
         "12",
         "0006ec9db01a64e59a68b2c340bf65a7",
         "1",
         "99a4788cb24856965c36a24e339b6058",
         "4a3ca9315b744ce9f8e9374361493884",
         "2018-07-26 17:24:20",
         "74.0",
         "23.32"
        ],
        [
         "13",
         "0008288aa423d2a3f00fcb17cd7d8719",
         "1",
         "368c6c730842d78016ad823897a372db",
         "1f50f920176fa81dab994f9023523100",
         "2018-02-21 02:55:52",
         "49.9",
         "13.37"
        ],
        [
         "14",
         "0008288aa423d2a3f00fcb17cd7d8719",
         "2",
         "368c6c730842d78016ad823897a372db",
         "1f50f920176fa81dab994f9023523100",
         "2018-02-21 02:55:52",
         "49.9",
         "13.37"
        ],
        [
         "15",
         "0009792311464db532ff765bf7b182ae",
         "1",
         "8cab8abac59158715e0d70a36c807415",
         "530ec6109d11eaaf87999465c6afee01",
         "2018-08-17 12:15:10",
         "99.9",
         "27.65"
        ],
        [
         "16",
         "0009c9a17f916a706d71784483a5d643",
         "1",
         "3f27ac8e699df3d300ec4a5d8c5cf0b2",
         "fcb5ace8bcc92f75707dc0f01a27d269",
         "2018-05-02 09:31:53",
         "639.0",
         "11.34"
        ],
        [
         "17",
         "000aed2e25dbad2f9ddb70584c5a2ded",
         "1",
         "4fa33915031a8cde03dd0d3e8fb27f01",
         "fe2032dab1a61af8794248c8196565c9",
         "2018-05-16 20:57:03",
         "144.0",
         "8.77"
        ],
        [
         "18",
         "000c3e6612759851cc3cbb4b83257986",
         "1",
         "b50c950aba0dcead2c48032a690ce817",
         "218d46b86c1881d022bce9c68a7d4b15",
         "2017-08-21 03:33:13",
         "99.0",
         "13.71"
        ],
        [
         "19",
         "000e562887b1f2006d75e0be9558292e",
         "1",
         "5ed9eaf534f6936b51d0b6c5e4d5c2e9",
         "8cbac7e12637ed9cffa18c7875207478",
         "2018-02-28 12:08:37",
         "25.0",
         "16.11"
        ],
        [
         "20",
         "000e63d38ae8c00bbcb5a30573b99628",
         "1",
         "553e0e7590d3116a072507a3635d2877",
         "1c129092bf23f28a5930387c980c0dfc",
         "2018-03-29 20:07:49",
         "47.9",
         "8.88"
        ],
        [
         "21",
         "000e906b789b55f64edcb1f84030f90d",
         "1",
         "57d79905de06d8897872c551bfd09358",
         "ea8482cd71df3c1969d7b9473ff13abc",
         "2017-11-27 19:09:02",
         "21.99",
         "11.85"
        ],
        [
         "22",
         "000f25f4d72195062c040b12dce9a18a",
         "1",
         "1c05e0964302b6cf68ca0d15f326c6ba",
         "7c67e1448b00f6e969d365cea6b010ab",
         "2018-03-21 11:10:11",
         "119.99",
         "44.4"
        ],
        [
         "23",
         "001021efaa8636c29475e7734483457d",
         "1",
         "5d7c23067ed3fc8c6e699b9373d5890b",
         "6560211a19b47992c3666cc44a7e94c0",
         "2018-03-05 09:35:41",
         "49.0",
         "15.1"
        ],
        [
         "24",
         "0010b2e5201cc5f1ae7e9c6cc8f5bd00",
         "1",
         "5a419dbf24a8c9718fe522b81c69f61a",
         "3504c0cb71d7fa48d967e0e4c94d59d9",
         "2017-09-15 18:04:37",
         "48.9",
         "16.6"
        ],
        [
         "25",
         "00119ff934e539cf26f92b9ef0cdfed8",
         "1",
         "21b1c2f67a9aafb5af0eb06c13b9dbda",
         "c864036feaab8c1659f65ea4faebe1da",
         "2017-08-11 00:35:12",
         "219.9",
         "16.98"
        ],
        [
         "26",
         "0011d82c4b53e22e84023405fb467e57",
         "1",
         "c389f712c4b4510bc997cee93e8b1a28",
         "bfd27a966d91cfaafdb25d076585f0da",
         "2018-01-29 21:51:25",
         "289.0",
         "26.33"
        ],
        [
         "27",
         "00125cb692d04887809806618a2a145f",
         "1",
         "1c0c0093a48f13ba70d0c6b0a9157cb7",
         "41b39e28db005d9731d9d485a83b4c38",
         "2017-03-29 13:05:42",
         "109.9",
         "25.51"
        ],
        [
         "28",
         "00130c0eee84a3d909e75bc08c5c3ca1",
         "1",
         "89321f94e35fc6d7903d36f74e351d40",
         "16090f2ca825584b5a147ab24aa30c86",
         "2018-06-14 05:16:24",
         "27.9",
         "7.94"
        ],
        [
         "29",
         "0013503b13da1eac686219390b7d641b",
         "1",
         "38afdf723b95d455b418a0f57d623c6b",
         "1554a68530182680ad5c8b042c3ab563",
         "2017-12-13 03:16:36",
         "119.9",
         "17.32"
        ],
        [
         "30",
         "00137e170939bba5a3134e2386413108",
         "1",
         "672e757f331900b9deea127a2a7b79fd",
         "e59aa562b9f8076dd550fcddf0e73491",
         "2017-11-30 06:30:55",
         "397.0",
         "24.65"
        ],
        [
         "31",
         "001427c0ec99cf8af737bd88e92fd444",
         "1",
         "28b4eced95a52d9c437a4caf9d311b95",
         "77530e9772f57a62c906e1c21538ab82",
         "2018-04-12 19:08:28",
         "59.9",
         "23.35"
        ],
        [
         "32",
         "00143d0f86d6fbd9f9b38ab440ac16f5",
         "1",
         "e95ee6822b66ac6058e2e4aff656071a",
         "a17f621c590ea0fab3d5d883e1630ec6",
         "2017-10-20 16:07:52",
         "21.33",
         "15.1"
        ],
        [
         "33",
         "00143d0f86d6fbd9f9b38ab440ac16f5",
         "2",
         "e95ee6822b66ac6058e2e4aff656071a",
         "a17f621c590ea0fab3d5d883e1630ec6",
         "2017-10-20 16:07:52",
         "21.33",
         "15.1"
        ],
        [
         "34",
         "00143d0f86d6fbd9f9b38ab440ac16f5",
         "3",
         "e95ee6822b66ac6058e2e4aff656071a",
         "a17f621c590ea0fab3d5d883e1630ec6",
         "2017-10-20 16:07:52",
         "21.33",
         "15.1"
        ],
        [
         "35",
         "0014ae671de39511f7575066200733b7",
         "1",
         "23365beed316535b4105bd800c46670e",
         "92eb0f42c21942b6552362b9b114707d",
         "2017-05-29 03:15:24",
         "16.5",
         "14.1"
        ],
        [
         "36",
         "0015ebb40fb17286bea51d4607c4733c",
         "1",
         "50fd2b788dc166edd20512370dac54df",
         "8b321bb669392f5163d04c59e235e066",
         "2018-01-18 09:11:24",
         "21.9",
         "15.1"
        ],
        [
         "37",
         "00169e31ef4b29deaae414f9a5e95929",
         "1",
         "b10eba910a974df70b8a12d0665cdb9e",
         "a3e9a2c700480d9bb01fba070ba80a0e",
         "2018-01-23 03:35:47",
         "39.0",
         "16.11"
        ],
        [
         "38",
         "0016dfedd97fc2950e388d2971d718c7",
         "1",
         "4089861a1bd4685da70bddd6b4f974f1",
         "a35124e2d763d7ca3fbe3b97d143200f",
         "2017-05-05 10:05:12",
         "49.75",
         "20.8"
        ],
        [
         "39",
         "0017afd5076e074a48f1f1a4c7bac9c5",
         "1",
         "fe59a1e006df3ac42bf0ceb876d70969",
         "25c5c91f63607446a97b143d2d535d31",
         "2017-04-24 22:25:19",
         "809.1",
         "44.29"
        ],
        [
         "40",
         "001862358bf858722e1e2ae000cfed8b",
         "1",
         "c6dd917a0be2a704582055949915ab32",
         "7a67c85e85bb2ce8582c35f2203ad736",
         "2018-02-13 19:10:37",
         "99.99",
         "13.72"
        ],
        [
         "41",
         "0019c29108428acffd089c36103c9440",
         "1",
         "28b4eced95a52d9c437a4caf9d311b95",
         "77530e9772f57a62c906e1c21538ab82",
         "2018-03-12 06:50:26",
         "59.9",
         "19.95"
        ],
        [
         "42",
         "001ab0a7578dd66cd4b0a71f5b6e1e41",
         "1",
         "0b0172eb0fd18479d29c3bc122c058c2",
         "5656537e588803a555b8eb41f07a944b",
         "2018-01-04 02:33:42",
         "24.89",
         "17.63"
        ],
        [
         "43",
         "001ab0a7578dd66cd4b0a71f5b6e1e41",
         "2",
         "0b0172eb0fd18479d29c3bc122c058c2",
         "5656537e588803a555b8eb41f07a944b",
         "2018-01-04 02:33:42",
         "24.89",
         "17.63"
        ],
        [
         "44",
         "001ab0a7578dd66cd4b0a71f5b6e1e41",
         "3",
         "0b0172eb0fd18479d29c3bc122c058c2",
         "5656537e588803a555b8eb41f07a944b",
         "2018-01-04 02:33:42",
         "24.89",
         "17.63"
        ],
        [
         "45",
         "001ac194d4a326a6fa99b581e9a3d963",
         "1",
         "dbaee28f4ee64465838a229582d77520",
         "ffc470761de7d0232558ba5e786e57b7",
         "2018-07-10 02:51:10",
         "54.0",
         "8.54"
        ],
        [
         "46",
         "001b76dd48a5b1eee3e87778daa40df8",
         "1",
         "dbb67791e405873b259e4656bf971246",
         "9c0e69c7bf2619675bbadf47b43f655a",
         "2018-04-02 17:50:17",
         "81.99",
         "13.01"
        ],
        [
         "47",
         "001c85b5f68d2be0cb0797afc9e8ce9a",
         "1",
         "84f456958365164420cfc80fbe4c7fab",
         "4a3ca9315b744ce9f8e9374361493884",
         "2017-11-29 22:38:47",
         "99.0",
         "13.71"
        ],
        [
         "48",
         "001d8f0e34a38c37f7dba2a37d4eba8b",
         "1",
         "e67307ff0f15ade43fcb6e670be7a74c",
         "f4aba7c0bca51484c30ab7bdc34bcdd1",
         "2017-05-18 17:35:11",
         "18.99",
         "7.78"
        ],
        [
         "49",
         "001d8f0e34a38c37f7dba2a37d4eba8b",
         "2",
         "e67307ff0f15ade43fcb6e670be7a74c",
         "f4aba7c0bca51484c30ab7bdc34bcdd1",
         "2017-05-18 17:35:11",
         "18.99",
         "7.78"
        ]
       ],
       "shape": {
        "columns": 7,
        "rows": 112650
       }
      },
      "text/html": [
       "<div>\n",
       "<style scoped>\n",
       "    .dataframe tbody tr th:only-of-type {\n",
       "        vertical-align: middle;\n",
       "    }\n",
       "\n",
       "    .dataframe tbody tr th {\n",
       "        vertical-align: top;\n",
       "    }\n",
       "\n",
       "    .dataframe thead th {\n",
       "        text-align: right;\n",
       "    }\n",
       "</style>\n",
       "<table border=\"1\" class=\"dataframe\">\n",
       "  <thead>\n",
       "    <tr style=\"text-align: right;\">\n",
       "      <th></th>\n",
       "      <th>order_id</th>\n",
       "      <th>order_item_id</th>\n",
       "      <th>product_id</th>\n",
       "      <th>seller_id</th>\n",
       "      <th>shipping_limit_date</th>\n",
       "      <th>price</th>\n",
       "      <th>freight_value</th>\n",
       "    </tr>\n",
       "  </thead>\n",
       "  <tbody>\n",
       "    <tr>\n",
       "      <th>0</th>\n",
       "      <td>00010242fe8c5a6d1ba2dd792cb16214</td>\n",
       "      <td>1</td>\n",
       "      <td>4244733e06e7ecb4970a6e2683c13e61</td>\n",
       "      <td>48436dade18ac8b2bce089ec2a041202</td>\n",
       "      <td>2017-09-19 09:45:35</td>\n",
       "      <td>58.90</td>\n",
       "      <td>13.29</td>\n",
       "    </tr>\n",
       "    <tr>\n",
       "      <th>1</th>\n",
       "      <td>00018f77f2f0320c557190d7a144bdd3</td>\n",
       "      <td>1</td>\n",
       "      <td>e5f2d52b802189ee658865ca93d83a8f</td>\n",
       "      <td>dd7ddc04e1b6c2c614352b383efe2d36</td>\n",
       "      <td>2017-05-03 11:05:13</td>\n",
       "      <td>239.90</td>\n",
       "      <td>19.93</td>\n",
       "    </tr>\n",
       "    <tr>\n",
       "      <th>2</th>\n",
       "      <td>000229ec398224ef6ca0657da4fc703e</td>\n",
       "      <td>1</td>\n",
       "      <td>c777355d18b72b67abbeef9df44fd0fd</td>\n",
       "      <td>5b51032eddd242adc84c38acab88f23d</td>\n",
       "      <td>2018-01-18 14:48:30</td>\n",
       "      <td>199.00</td>\n",
       "      <td>17.87</td>\n",
       "    </tr>\n",
       "    <tr>\n",
       "      <th>3</th>\n",
       "      <td>00024acbcdf0a6daa1e931b038114c75</td>\n",
       "      <td>1</td>\n",
       "      <td>7634da152a4610f1595efa32f14722fc</td>\n",
       "      <td>9d7a1d34a5052409006425275ba1c2b4</td>\n",
       "      <td>2018-08-15 10:10:18</td>\n",
       "      <td>12.99</td>\n",
       "      <td>12.79</td>\n",
       "    </tr>\n",
       "    <tr>\n",
       "      <th>4</th>\n",
       "      <td>00042b26cf59d7ce69dfabb4e55b4fd9</td>\n",
       "      <td>1</td>\n",
       "      <td>ac6c3623068f30de03045865e4e10089</td>\n",
       "      <td>df560393f3a51e74553ab94004ba5c87</td>\n",
       "      <td>2017-02-13 13:57:51</td>\n",
       "      <td>199.90</td>\n",
       "      <td>18.14</td>\n",
       "    </tr>\n",
       "    <tr>\n",
       "      <th>...</th>\n",
       "      <td>...</td>\n",
       "      <td>...</td>\n",
       "      <td>...</td>\n",
       "      <td>...</td>\n",
       "      <td>...</td>\n",
       "      <td>...</td>\n",
       "      <td>...</td>\n",
       "    </tr>\n",
       "    <tr>\n",
       "      <th>112645</th>\n",
       "      <td>fffc94f6ce00a00581880bf54a75a037</td>\n",
       "      <td>1</td>\n",
       "      <td>4aa6014eceb682077f9dc4bffebc05b0</td>\n",
       "      <td>b8bc237ba3788b23da09c0f1f3a3288c</td>\n",
       "      <td>2018-05-02 04:11:01</td>\n",
       "      <td>299.99</td>\n",
       "      <td>43.41</td>\n",
       "    </tr>\n",
       "    <tr>\n",
       "      <th>112646</th>\n",
       "      <td>fffcd46ef2263f404302a634eb57f7eb</td>\n",
       "      <td>1</td>\n",
       "      <td>32e07fd915822b0765e448c4dd74c828</td>\n",
       "      <td>f3c38ab652836d21de61fb8314b69182</td>\n",
       "      <td>2018-07-20 04:31:48</td>\n",
       "      <td>350.00</td>\n",
       "      <td>36.53</td>\n",
       "    </tr>\n",
       "    <tr>\n",
       "      <th>112647</th>\n",
       "      <td>fffce4705a9662cd70adb13d4a31832d</td>\n",
       "      <td>1</td>\n",
       "      <td>72a30483855e2eafc67aee5dc2560482</td>\n",
       "      <td>c3cfdc648177fdbbbb35635a37472c53</td>\n",
       "      <td>2017-10-30 17:14:25</td>\n",
       "      <td>99.90</td>\n",
       "      <td>16.95</td>\n",
       "    </tr>\n",
       "    <tr>\n",
       "      <th>112648</th>\n",
       "      <td>fffe18544ffabc95dfada21779c9644f</td>\n",
       "      <td>1</td>\n",
       "      <td>9c422a519119dcad7575db5af1ba540e</td>\n",
       "      <td>2b3e4a2a3ea8e01938cabda2a3e5cc79</td>\n",
       "      <td>2017-08-21 00:04:32</td>\n",
       "      <td>55.99</td>\n",
       "      <td>8.72</td>\n",
       "    </tr>\n",
       "    <tr>\n",
       "      <th>112649</th>\n",
       "      <td>fffe41c64501cc87c801fd61db3f6244</td>\n",
       "      <td>1</td>\n",
       "      <td>350688d9dc1e75ff97be326363655e01</td>\n",
       "      <td>f7ccf836d21b2fb1de37564105216cc1</td>\n",
       "      <td>2018-06-12 17:10:13</td>\n",
       "      <td>43.00</td>\n",
       "      <td>12.79</td>\n",
       "    </tr>\n",
       "  </tbody>\n",
       "</table>\n",
       "<p>112650 rows × 7 columns</p>\n",
       "</div>"
      ],
      "text/plain": [
       "                                order_id  order_item_id  \\\n",
       "0       00010242fe8c5a6d1ba2dd792cb16214              1   \n",
       "1       00018f77f2f0320c557190d7a144bdd3              1   \n",
       "2       000229ec398224ef6ca0657da4fc703e              1   \n",
       "3       00024acbcdf0a6daa1e931b038114c75              1   \n",
       "4       00042b26cf59d7ce69dfabb4e55b4fd9              1   \n",
       "...                                  ...            ...   \n",
       "112645  fffc94f6ce00a00581880bf54a75a037              1   \n",
       "112646  fffcd46ef2263f404302a634eb57f7eb              1   \n",
       "112647  fffce4705a9662cd70adb13d4a31832d              1   \n",
       "112648  fffe18544ffabc95dfada21779c9644f              1   \n",
       "112649  fffe41c64501cc87c801fd61db3f6244              1   \n",
       "\n",
       "                              product_id                         seller_id  \\\n",
       "0       4244733e06e7ecb4970a6e2683c13e61  48436dade18ac8b2bce089ec2a041202   \n",
       "1       e5f2d52b802189ee658865ca93d83a8f  dd7ddc04e1b6c2c614352b383efe2d36   \n",
       "2       c777355d18b72b67abbeef9df44fd0fd  5b51032eddd242adc84c38acab88f23d   \n",
       "3       7634da152a4610f1595efa32f14722fc  9d7a1d34a5052409006425275ba1c2b4   \n",
       "4       ac6c3623068f30de03045865e4e10089  df560393f3a51e74553ab94004ba5c87   \n",
       "...                                  ...                               ...   \n",
       "112645  4aa6014eceb682077f9dc4bffebc05b0  b8bc237ba3788b23da09c0f1f3a3288c   \n",
       "112646  32e07fd915822b0765e448c4dd74c828  f3c38ab652836d21de61fb8314b69182   \n",
       "112647  72a30483855e2eafc67aee5dc2560482  c3cfdc648177fdbbbb35635a37472c53   \n",
       "112648  9c422a519119dcad7575db5af1ba540e  2b3e4a2a3ea8e01938cabda2a3e5cc79   \n",
       "112649  350688d9dc1e75ff97be326363655e01  f7ccf836d21b2fb1de37564105216cc1   \n",
       "\n",
       "        shipping_limit_date   price  freight_value  \n",
       "0       2017-09-19 09:45:35   58.90          13.29  \n",
       "1       2017-05-03 11:05:13  239.90          19.93  \n",
       "2       2018-01-18 14:48:30  199.00          17.87  \n",
       "3       2018-08-15 10:10:18   12.99          12.79  \n",
       "4       2017-02-13 13:57:51  199.90          18.14  \n",
       "...                     ...     ...            ...  \n",
       "112645  2018-05-02 04:11:01  299.99          43.41  \n",
       "112646  2018-07-20 04:31:48  350.00          36.53  \n",
       "112647  2017-10-30 17:14:25   99.90          16.95  \n",
       "112648  2017-08-21 00:04:32   55.99           8.72  \n",
       "112649  2018-06-12 17:10:13   43.00          12.79  \n",
       "\n",
       "[112650 rows x 7 columns]"
      ]
     },
     "execution_count": 15,
     "metadata": {},
     "output_type": "execute_result"
    }
   ],
   "source": [
    "df"
   ]
  },
  {
   "cell_type": "code",
   "execution_count": 16,
   "id": "c67ea2c4",
   "metadata": {},
   "outputs": [
    {
     "data": {
      "text/plain": [
       "pandas.core.series.Series"
      ]
     },
     "execution_count": 16,
     "metadata": {},
     "output_type": "execute_result"
    }
   ],
   "source": [
    "type(df['price'])"
   ]
  },
  {
   "cell_type": "code",
   "execution_count": 17,
   "id": "c6f5b571",
   "metadata": {},
   "outputs": [],
   "source": [
    "df['price'] = df['price'].astype(float)\n"
   ]
  },
  {
   "cell_type": "code",
   "execution_count": 18,
   "id": "51e299b8",
   "metadata": {},
   "outputs": [],
   "source": [
    "\n",
    "df['freight_value'] = df['freight_value'].astype(float)"
   ]
  },
  {
   "cell_type": "code",
   "execution_count": 19,
   "id": "88557a77",
   "metadata": {},
   "outputs": [
    {
     "data": {
      "text/plain": [
       "numpy.float64"
      ]
     },
     "execution_count": 19,
     "metadata": {},
     "output_type": "execute_result"
    }
   ],
   "source": [
    "type(df['price'][2])"
   ]
  },
  {
   "cell_type": "code",
   "execution_count": 20,
   "id": "1a13f6ce",
   "metadata": {},
   "outputs": [
    {
     "data": {
      "text/plain": [
       "numpy.float64"
      ]
     },
     "execution_count": 20,
     "metadata": {},
     "output_type": "execute_result"
    }
   ],
   "source": [
    "type(df['freight_value'][2]) #already in float"
   ]
  },
  {
   "cell_type": "code",
   "execution_count": 21,
   "id": "541a1d4f",
   "metadata": {},
   "outputs": [
    {
     "data": {
      "application/vnd.microsoft.datawrangler.viewer.v0+json": {
       "columns": [
        {
         "name": "index",
         "rawType": "int64",
         "type": "integer"
        },
        {
         "name": "order_id",
         "rawType": "object",
         "type": "string"
        },
        {
         "name": "order_item_id",
         "rawType": "int64",
         "type": "integer"
        },
        {
         "name": "product_id",
         "rawType": "object",
         "type": "string"
        },
        {
         "name": "seller_id",
         "rawType": "object",
         "type": "string"
        },
        {
         "name": "shipping_limit_date",
         "rawType": "object",
         "type": "string"
        },
        {
         "name": "price",
         "rawType": "float64",
         "type": "float"
        },
        {
         "name": "freight_value",
         "rawType": "float64",
         "type": "float"
        }
       ],
       "ref": "59d20ca2-0513-4ed7-b668-1cbce1c95260",
       "rows": [
        [
         "0",
         "00010242fe8c5a6d1ba2dd792cb16214",
         "1",
         "4244733e06e7ecb4970a6e2683c13e61",
         "48436dade18ac8b2bce089ec2a041202",
         "2017-09-19 09:45:35",
         "58.9",
         "13.29"
        ],
        [
         "1",
         "00018f77f2f0320c557190d7a144bdd3",
         "1",
         "e5f2d52b802189ee658865ca93d83a8f",
         "dd7ddc04e1b6c2c614352b383efe2d36",
         "2017-05-03 11:05:13",
         "239.9",
         "19.93"
        ],
        [
         "2",
         "000229ec398224ef6ca0657da4fc703e",
         "1",
         "c777355d18b72b67abbeef9df44fd0fd",
         "5b51032eddd242adc84c38acab88f23d",
         "2018-01-18 14:48:30",
         "199.0",
         "17.87"
        ],
        [
         "3",
         "00024acbcdf0a6daa1e931b038114c75",
         "1",
         "7634da152a4610f1595efa32f14722fc",
         "9d7a1d34a5052409006425275ba1c2b4",
         "2018-08-15 10:10:18",
         "12.99",
         "12.79"
        ],
        [
         "4",
         "00042b26cf59d7ce69dfabb4e55b4fd9",
         "1",
         "ac6c3623068f30de03045865e4e10089",
         "df560393f3a51e74553ab94004ba5c87",
         "2017-02-13 13:57:51",
         "199.9",
         "18.14"
        ]
       ],
       "shape": {
        "columns": 7,
        "rows": 5
       }
      },
      "text/html": [
       "<div>\n",
       "<style scoped>\n",
       "    .dataframe tbody tr th:only-of-type {\n",
       "        vertical-align: middle;\n",
       "    }\n",
       "\n",
       "    .dataframe tbody tr th {\n",
       "        vertical-align: top;\n",
       "    }\n",
       "\n",
       "    .dataframe thead th {\n",
       "        text-align: right;\n",
       "    }\n",
       "</style>\n",
       "<table border=\"1\" class=\"dataframe\">\n",
       "  <thead>\n",
       "    <tr style=\"text-align: right;\">\n",
       "      <th></th>\n",
       "      <th>order_id</th>\n",
       "      <th>order_item_id</th>\n",
       "      <th>product_id</th>\n",
       "      <th>seller_id</th>\n",
       "      <th>shipping_limit_date</th>\n",
       "      <th>price</th>\n",
       "      <th>freight_value</th>\n",
       "    </tr>\n",
       "  </thead>\n",
       "  <tbody>\n",
       "    <tr>\n",
       "      <th>0</th>\n",
       "      <td>00010242fe8c5a6d1ba2dd792cb16214</td>\n",
       "      <td>1</td>\n",
       "      <td>4244733e06e7ecb4970a6e2683c13e61</td>\n",
       "      <td>48436dade18ac8b2bce089ec2a041202</td>\n",
       "      <td>2017-09-19 09:45:35</td>\n",
       "      <td>58.90</td>\n",
       "      <td>13.29</td>\n",
       "    </tr>\n",
       "    <tr>\n",
       "      <th>1</th>\n",
       "      <td>00018f77f2f0320c557190d7a144bdd3</td>\n",
       "      <td>1</td>\n",
       "      <td>e5f2d52b802189ee658865ca93d83a8f</td>\n",
       "      <td>dd7ddc04e1b6c2c614352b383efe2d36</td>\n",
       "      <td>2017-05-03 11:05:13</td>\n",
       "      <td>239.90</td>\n",
       "      <td>19.93</td>\n",
       "    </tr>\n",
       "    <tr>\n",
       "      <th>2</th>\n",
       "      <td>000229ec398224ef6ca0657da4fc703e</td>\n",
       "      <td>1</td>\n",
       "      <td>c777355d18b72b67abbeef9df44fd0fd</td>\n",
       "      <td>5b51032eddd242adc84c38acab88f23d</td>\n",
       "      <td>2018-01-18 14:48:30</td>\n",
       "      <td>199.00</td>\n",
       "      <td>17.87</td>\n",
       "    </tr>\n",
       "    <tr>\n",
       "      <th>3</th>\n",
       "      <td>00024acbcdf0a6daa1e931b038114c75</td>\n",
       "      <td>1</td>\n",
       "      <td>7634da152a4610f1595efa32f14722fc</td>\n",
       "      <td>9d7a1d34a5052409006425275ba1c2b4</td>\n",
       "      <td>2018-08-15 10:10:18</td>\n",
       "      <td>12.99</td>\n",
       "      <td>12.79</td>\n",
       "    </tr>\n",
       "    <tr>\n",
       "      <th>4</th>\n",
       "      <td>00042b26cf59d7ce69dfabb4e55b4fd9</td>\n",
       "      <td>1</td>\n",
       "      <td>ac6c3623068f30de03045865e4e10089</td>\n",
       "      <td>df560393f3a51e74553ab94004ba5c87</td>\n",
       "      <td>2017-02-13 13:57:51</td>\n",
       "      <td>199.90</td>\n",
       "      <td>18.14</td>\n",
       "    </tr>\n",
       "  </tbody>\n",
       "</table>\n",
       "</div>"
      ],
      "text/plain": [
       "                           order_id  order_item_id  \\\n",
       "0  00010242fe8c5a6d1ba2dd792cb16214              1   \n",
       "1  00018f77f2f0320c557190d7a144bdd3              1   \n",
       "2  000229ec398224ef6ca0657da4fc703e              1   \n",
       "3  00024acbcdf0a6daa1e931b038114c75              1   \n",
       "4  00042b26cf59d7ce69dfabb4e55b4fd9              1   \n",
       "\n",
       "                         product_id                         seller_id  \\\n",
       "0  4244733e06e7ecb4970a6e2683c13e61  48436dade18ac8b2bce089ec2a041202   \n",
       "1  e5f2d52b802189ee658865ca93d83a8f  dd7ddc04e1b6c2c614352b383efe2d36   \n",
       "2  c777355d18b72b67abbeef9df44fd0fd  5b51032eddd242adc84c38acab88f23d   \n",
       "3  7634da152a4610f1595efa32f14722fc  9d7a1d34a5052409006425275ba1c2b4   \n",
       "4  ac6c3623068f30de03045865e4e10089  df560393f3a51e74553ab94004ba5c87   \n",
       "\n",
       "   shipping_limit_date   price  freight_value  \n",
       "0  2017-09-19 09:45:35   58.90          13.29  \n",
       "1  2017-05-03 11:05:13  239.90          19.93  \n",
       "2  2018-01-18 14:48:30  199.00          17.87  \n",
       "3  2018-08-15 10:10:18   12.99          12.79  \n",
       "4  2017-02-13 13:57:51  199.90          18.14  "
      ]
     },
     "execution_count": 21,
     "metadata": {},
     "output_type": "execute_result"
    }
   ],
   "source": [
    "df.head()"
   ]
  },
  {
   "cell_type": "code",
   "execution_count": 22,
   "id": "85580302",
   "metadata": {},
   "outputs": [
    {
     "data": {
      "application/vnd.microsoft.datawrangler.viewer.v0+json": {
       "columns": [
        {
         "name": "index",
         "rawType": "object",
         "type": "string"
        },
        {
         "name": "0",
         "rawType": "int64",
         "type": "integer"
        }
       ],
       "ref": "f0e8277b-25fe-40e3-8728-60572ceb873e",
       "rows": [
        [
         "order_id",
         "0"
        ],
        [
         "order_item_id",
         "0"
        ],
        [
         "product_id",
         "0"
        ],
        [
         "seller_id",
         "0"
        ],
        [
         "shipping_limit_date",
         "0"
        ],
        [
         "price",
         "0"
        ],
        [
         "freight_value",
         "0"
        ]
       ],
       "shape": {
        "columns": 1,
        "rows": 7
       }
      },
      "text/plain": [
       "order_id               0\n",
       "order_item_id          0\n",
       "product_id             0\n",
       "seller_id              0\n",
       "shipping_limit_date    0\n",
       "price                  0\n",
       "freight_value          0\n",
       "dtype: int64"
      ]
     },
     "execution_count": 22,
     "metadata": {},
     "output_type": "execute_result"
    }
   ],
   "source": [
    "df.isna().sum()"
   ]
  },
  {
   "cell_type": "code",
   "execution_count": 23,
   "id": "55ac8f4f",
   "metadata": {},
   "outputs": [
    {
     "data": {
      "application/vnd.microsoft.datawrangler.viewer.v0+json": {
       "columns": [
        {
         "name": "index",
         "rawType": "object",
         "type": "string"
        },
        {
         "name": "0",
         "rawType": "int64",
         "type": "integer"
        }
       ],
       "ref": "d31f4e03-2a30-4034-a1af-3a4c709b597e",
       "rows": [
        [
         "order_id",
         "0"
        ],
        [
         "order_item_id",
         "0"
        ],
        [
         "product_id",
         "0"
        ],
        [
         "seller_id",
         "0"
        ],
        [
         "shipping_limit_date",
         "0"
        ],
        [
         "price",
         "0"
        ],
        [
         "freight_value",
         "0"
        ]
       ],
       "shape": {
        "columns": 1,
        "rows": 7
       }
      },
      "text/plain": [
       "order_id               0\n",
       "order_item_id          0\n",
       "product_id             0\n",
       "seller_id              0\n",
       "shipping_limit_date    0\n",
       "price                  0\n",
       "freight_value          0\n",
       "dtype: int64"
      ]
     },
     "execution_count": 23,
     "metadata": {},
     "output_type": "execute_result"
    }
   ],
   "source": [
    "df.isnull().sum()"
   ]
  },
  {
   "cell_type": "code",
   "execution_count": 24,
   "id": "a52b2b56",
   "metadata": {},
   "outputs": [
    {
     "data": {
      "application/vnd.microsoft.datawrangler.viewer.v0+json": {
       "columns": [
        {
         "name": "index",
         "rawType": "int64",
         "type": "integer"
        },
        {
         "name": "order_id",
         "rawType": "object",
         "type": "string"
        },
        {
         "name": "order_item_id",
         "rawType": "int64",
         "type": "integer"
        },
        {
         "name": "product_id",
         "rawType": "object",
         "type": "string"
        },
        {
         "name": "seller_id",
         "rawType": "object",
         "type": "string"
        },
        {
         "name": "shipping_limit_date",
         "rawType": "object",
         "type": "string"
        },
        {
         "name": "price",
         "rawType": "float64",
         "type": "float"
        },
        {
         "name": "freight_value",
         "rawType": "float64",
         "type": "float"
        }
       ],
       "ref": "0a8adf70-d88b-4830-909d-06fe8066dbc0",
       "rows": [
        [
         "0",
         "00010242fe8c5a6d1ba2dd792cb16214",
         "1",
         "4244733e06e7ecb4970a6e2683c13e61",
         "48436dade18ac8b2bce089ec2a041202",
         "2017-09-19 09:45:35",
         "58.9",
         "13.29"
        ],
        [
         "1",
         "00018f77f2f0320c557190d7a144bdd3",
         "1",
         "e5f2d52b802189ee658865ca93d83a8f",
         "dd7ddc04e1b6c2c614352b383efe2d36",
         "2017-05-03 11:05:13",
         "239.9",
         "19.93"
        ],
        [
         "2",
         "000229ec398224ef6ca0657da4fc703e",
         "1",
         "c777355d18b72b67abbeef9df44fd0fd",
         "5b51032eddd242adc84c38acab88f23d",
         "2018-01-18 14:48:30",
         "199.0",
         "17.87"
        ],
        [
         "3",
         "00024acbcdf0a6daa1e931b038114c75",
         "1",
         "7634da152a4610f1595efa32f14722fc",
         "9d7a1d34a5052409006425275ba1c2b4",
         "2018-08-15 10:10:18",
         "12.99",
         "12.79"
        ],
        [
         "4",
         "00042b26cf59d7ce69dfabb4e55b4fd9",
         "1",
         "ac6c3623068f30de03045865e4e10089",
         "df560393f3a51e74553ab94004ba5c87",
         "2017-02-13 13:57:51",
         "199.9",
         "18.14"
        ],
        [
         "5",
         "00048cc3ae777c65dbb7d2a0634bc1ea",
         "1",
         "ef92defde845ab8450f9d70c526ef70f",
         "6426d21aca402a131fc0a5d0960a3c90",
         "2017-05-23 03:55:27",
         "21.9",
         "12.69"
        ],
        [
         "6",
         "00054e8431b9d7675808bcb819fb4a32",
         "1",
         "8d4f2bb7e93e6710a28f34fa83ee7d28",
         "7040e82f899a04d1b434b795a43b4617",
         "2017-12-14 12:10:31",
         "19.9",
         "11.85"
        ],
        [
         "7",
         "000576fe39319847cbb9d288c5617fa6",
         "1",
         "557d850972a7d6f792fd18ae1400d9b6",
         "5996cddab893a4652a15592fb58ab8db",
         "2018-07-10 12:30:45",
         "810.0",
         "70.75"
        ],
        [
         "8",
         "0005a1a1728c9d785b8e2b08b904576c",
         "1",
         "310ae3c140ff94b03219ad0adc3c778f",
         "a416b6a846a11724393025641d4edd5e",
         "2018-03-26 18:31:29",
         "145.95",
         "11.65"
        ],
        [
         "9",
         "0005f50442cb953dcd1d21e1fb923495",
         "1",
         "4535b0e1091c278dfd193e5a1d63b39f",
         "ba143b05f0110f0dc71ad71b4466ce92",
         "2018-07-06 14:10:56",
         "53.99",
         "11.4"
        ],
        [
         "10",
         "00061f2a7bc09da83e415a52dc8a4af1",
         "1",
         "d63c1011f49d98b976c352955b1c4bea",
         "cc419e0650a3c5ba77189a1882b7556a",
         "2018-03-29 22:28:09",
         "59.99",
         "8.88"
        ],
        [
         "11",
         "00063b381e2406b52ad429470734ebd5",
         "1",
         "f177554ea93259a5b282f24e33f65ab6",
         "8602a61d680a10a82cceeeda0d99ea3d",
         "2018-07-31 17:30:39",
         "45.0",
         "12.98"
        ],
        [
         "12",
         "0006ec9db01a64e59a68b2c340bf65a7",
         "1",
         "99a4788cb24856965c36a24e339b6058",
         "4a3ca9315b744ce9f8e9374361493884",
         "2018-07-26 17:24:20",
         "74.0",
         "23.32"
        ],
        [
         "13",
         "0008288aa423d2a3f00fcb17cd7d8719",
         "1",
         "368c6c730842d78016ad823897a372db",
         "1f50f920176fa81dab994f9023523100",
         "2018-02-21 02:55:52",
         "49.9",
         "13.37"
        ],
        [
         "14",
         "0008288aa423d2a3f00fcb17cd7d8719",
         "2",
         "368c6c730842d78016ad823897a372db",
         "1f50f920176fa81dab994f9023523100",
         "2018-02-21 02:55:52",
         "49.9",
         "13.37"
        ],
        [
         "15",
         "0009792311464db532ff765bf7b182ae",
         "1",
         "8cab8abac59158715e0d70a36c807415",
         "530ec6109d11eaaf87999465c6afee01",
         "2018-08-17 12:15:10",
         "99.9",
         "27.65"
        ],
        [
         "16",
         "0009c9a17f916a706d71784483a5d643",
         "1",
         "3f27ac8e699df3d300ec4a5d8c5cf0b2",
         "fcb5ace8bcc92f75707dc0f01a27d269",
         "2018-05-02 09:31:53",
         "639.0",
         "11.34"
        ],
        [
         "17",
         "000aed2e25dbad2f9ddb70584c5a2ded",
         "1",
         "4fa33915031a8cde03dd0d3e8fb27f01",
         "fe2032dab1a61af8794248c8196565c9",
         "2018-05-16 20:57:03",
         "144.0",
         "8.77"
        ],
        [
         "18",
         "000c3e6612759851cc3cbb4b83257986",
         "1",
         "b50c950aba0dcead2c48032a690ce817",
         "218d46b86c1881d022bce9c68a7d4b15",
         "2017-08-21 03:33:13",
         "99.0",
         "13.71"
        ],
        [
         "19",
         "000e562887b1f2006d75e0be9558292e",
         "1",
         "5ed9eaf534f6936b51d0b6c5e4d5c2e9",
         "8cbac7e12637ed9cffa18c7875207478",
         "2018-02-28 12:08:37",
         "25.0",
         "16.11"
        ],
        [
         "20",
         "000e63d38ae8c00bbcb5a30573b99628",
         "1",
         "553e0e7590d3116a072507a3635d2877",
         "1c129092bf23f28a5930387c980c0dfc",
         "2018-03-29 20:07:49",
         "47.9",
         "8.88"
        ],
        [
         "21",
         "000e906b789b55f64edcb1f84030f90d",
         "1",
         "57d79905de06d8897872c551bfd09358",
         "ea8482cd71df3c1969d7b9473ff13abc",
         "2017-11-27 19:09:02",
         "21.99",
         "11.85"
        ],
        [
         "22",
         "000f25f4d72195062c040b12dce9a18a",
         "1",
         "1c05e0964302b6cf68ca0d15f326c6ba",
         "7c67e1448b00f6e969d365cea6b010ab",
         "2018-03-21 11:10:11",
         "119.99",
         "44.4"
        ],
        [
         "23",
         "001021efaa8636c29475e7734483457d",
         "1",
         "5d7c23067ed3fc8c6e699b9373d5890b",
         "6560211a19b47992c3666cc44a7e94c0",
         "2018-03-05 09:35:41",
         "49.0",
         "15.1"
        ],
        [
         "24",
         "0010b2e5201cc5f1ae7e9c6cc8f5bd00",
         "1",
         "5a419dbf24a8c9718fe522b81c69f61a",
         "3504c0cb71d7fa48d967e0e4c94d59d9",
         "2017-09-15 18:04:37",
         "48.9",
         "16.6"
        ],
        [
         "25",
         "00119ff934e539cf26f92b9ef0cdfed8",
         "1",
         "21b1c2f67a9aafb5af0eb06c13b9dbda",
         "c864036feaab8c1659f65ea4faebe1da",
         "2017-08-11 00:35:12",
         "219.9",
         "16.98"
        ],
        [
         "26",
         "0011d82c4b53e22e84023405fb467e57",
         "1",
         "c389f712c4b4510bc997cee93e8b1a28",
         "bfd27a966d91cfaafdb25d076585f0da",
         "2018-01-29 21:51:25",
         "289.0",
         "26.33"
        ],
        [
         "27",
         "00125cb692d04887809806618a2a145f",
         "1",
         "1c0c0093a48f13ba70d0c6b0a9157cb7",
         "41b39e28db005d9731d9d485a83b4c38",
         "2017-03-29 13:05:42",
         "109.9",
         "25.51"
        ],
        [
         "28",
         "00130c0eee84a3d909e75bc08c5c3ca1",
         "1",
         "89321f94e35fc6d7903d36f74e351d40",
         "16090f2ca825584b5a147ab24aa30c86",
         "2018-06-14 05:16:24",
         "27.9",
         "7.94"
        ],
        [
         "29",
         "0013503b13da1eac686219390b7d641b",
         "1",
         "38afdf723b95d455b418a0f57d623c6b",
         "1554a68530182680ad5c8b042c3ab563",
         "2017-12-13 03:16:36",
         "119.9",
         "17.32"
        ],
        [
         "30",
         "00137e170939bba5a3134e2386413108",
         "1",
         "672e757f331900b9deea127a2a7b79fd",
         "e59aa562b9f8076dd550fcddf0e73491",
         "2017-11-30 06:30:55",
         "397.0",
         "24.65"
        ],
        [
         "31",
         "001427c0ec99cf8af737bd88e92fd444",
         "1",
         "28b4eced95a52d9c437a4caf9d311b95",
         "77530e9772f57a62c906e1c21538ab82",
         "2018-04-12 19:08:28",
         "59.9",
         "23.35"
        ],
        [
         "32",
         "00143d0f86d6fbd9f9b38ab440ac16f5",
         "1",
         "e95ee6822b66ac6058e2e4aff656071a",
         "a17f621c590ea0fab3d5d883e1630ec6",
         "2017-10-20 16:07:52",
         "21.33",
         "15.1"
        ],
        [
         "33",
         "00143d0f86d6fbd9f9b38ab440ac16f5",
         "2",
         "e95ee6822b66ac6058e2e4aff656071a",
         "a17f621c590ea0fab3d5d883e1630ec6",
         "2017-10-20 16:07:52",
         "21.33",
         "15.1"
        ],
        [
         "34",
         "00143d0f86d6fbd9f9b38ab440ac16f5",
         "3",
         "e95ee6822b66ac6058e2e4aff656071a",
         "a17f621c590ea0fab3d5d883e1630ec6",
         "2017-10-20 16:07:52",
         "21.33",
         "15.1"
        ],
        [
         "35",
         "0014ae671de39511f7575066200733b7",
         "1",
         "23365beed316535b4105bd800c46670e",
         "92eb0f42c21942b6552362b9b114707d",
         "2017-05-29 03:15:24",
         "16.5",
         "14.1"
        ],
        [
         "36",
         "0015ebb40fb17286bea51d4607c4733c",
         "1",
         "50fd2b788dc166edd20512370dac54df",
         "8b321bb669392f5163d04c59e235e066",
         "2018-01-18 09:11:24",
         "21.9",
         "15.1"
        ],
        [
         "37",
         "00169e31ef4b29deaae414f9a5e95929",
         "1",
         "b10eba910a974df70b8a12d0665cdb9e",
         "a3e9a2c700480d9bb01fba070ba80a0e",
         "2018-01-23 03:35:47",
         "39.0",
         "16.11"
        ],
        [
         "38",
         "0016dfedd97fc2950e388d2971d718c7",
         "1",
         "4089861a1bd4685da70bddd6b4f974f1",
         "a35124e2d763d7ca3fbe3b97d143200f",
         "2017-05-05 10:05:12",
         "49.75",
         "20.8"
        ],
        [
         "39",
         "0017afd5076e074a48f1f1a4c7bac9c5",
         "1",
         "fe59a1e006df3ac42bf0ceb876d70969",
         "25c5c91f63607446a97b143d2d535d31",
         "2017-04-24 22:25:19",
         "809.1",
         "44.29"
        ],
        [
         "40",
         "001862358bf858722e1e2ae000cfed8b",
         "1",
         "c6dd917a0be2a704582055949915ab32",
         "7a67c85e85bb2ce8582c35f2203ad736",
         "2018-02-13 19:10:37",
         "99.99",
         "13.72"
        ],
        [
         "41",
         "0019c29108428acffd089c36103c9440",
         "1",
         "28b4eced95a52d9c437a4caf9d311b95",
         "77530e9772f57a62c906e1c21538ab82",
         "2018-03-12 06:50:26",
         "59.9",
         "19.95"
        ],
        [
         "42",
         "001ab0a7578dd66cd4b0a71f5b6e1e41",
         "1",
         "0b0172eb0fd18479d29c3bc122c058c2",
         "5656537e588803a555b8eb41f07a944b",
         "2018-01-04 02:33:42",
         "24.89",
         "17.63"
        ],
        [
         "43",
         "001ab0a7578dd66cd4b0a71f5b6e1e41",
         "2",
         "0b0172eb0fd18479d29c3bc122c058c2",
         "5656537e588803a555b8eb41f07a944b",
         "2018-01-04 02:33:42",
         "24.89",
         "17.63"
        ],
        [
         "44",
         "001ab0a7578dd66cd4b0a71f5b6e1e41",
         "3",
         "0b0172eb0fd18479d29c3bc122c058c2",
         "5656537e588803a555b8eb41f07a944b",
         "2018-01-04 02:33:42",
         "24.89",
         "17.63"
        ],
        [
         "45",
         "001ac194d4a326a6fa99b581e9a3d963",
         "1",
         "dbaee28f4ee64465838a229582d77520",
         "ffc470761de7d0232558ba5e786e57b7",
         "2018-07-10 02:51:10",
         "54.0",
         "8.54"
        ],
        [
         "46",
         "001b76dd48a5b1eee3e87778daa40df8",
         "1",
         "dbb67791e405873b259e4656bf971246",
         "9c0e69c7bf2619675bbadf47b43f655a",
         "2018-04-02 17:50:17",
         "81.99",
         "13.01"
        ],
        [
         "47",
         "001c85b5f68d2be0cb0797afc9e8ce9a",
         "1",
         "84f456958365164420cfc80fbe4c7fab",
         "4a3ca9315b744ce9f8e9374361493884",
         "2017-11-29 22:38:47",
         "99.0",
         "13.71"
        ],
        [
         "48",
         "001d8f0e34a38c37f7dba2a37d4eba8b",
         "1",
         "e67307ff0f15ade43fcb6e670be7a74c",
         "f4aba7c0bca51484c30ab7bdc34bcdd1",
         "2017-05-18 17:35:11",
         "18.99",
         "7.78"
        ],
        [
         "49",
         "001d8f0e34a38c37f7dba2a37d4eba8b",
         "2",
         "e67307ff0f15ade43fcb6e670be7a74c",
         "f4aba7c0bca51484c30ab7bdc34bcdd1",
         "2017-05-18 17:35:11",
         "18.99",
         "7.78"
        ]
       ],
       "shape": {
        "columns": 7,
        "rows": 112650
       }
      },
      "text/html": [
       "<div>\n",
       "<style scoped>\n",
       "    .dataframe tbody tr th:only-of-type {\n",
       "        vertical-align: middle;\n",
       "    }\n",
       "\n",
       "    .dataframe tbody tr th {\n",
       "        vertical-align: top;\n",
       "    }\n",
       "\n",
       "    .dataframe thead th {\n",
       "        text-align: right;\n",
       "    }\n",
       "</style>\n",
       "<table border=\"1\" class=\"dataframe\">\n",
       "  <thead>\n",
       "    <tr style=\"text-align: right;\">\n",
       "      <th></th>\n",
       "      <th>order_id</th>\n",
       "      <th>order_item_id</th>\n",
       "      <th>product_id</th>\n",
       "      <th>seller_id</th>\n",
       "      <th>shipping_limit_date</th>\n",
       "      <th>price</th>\n",
       "      <th>freight_value</th>\n",
       "    </tr>\n",
       "  </thead>\n",
       "  <tbody>\n",
       "    <tr>\n",
       "      <th>0</th>\n",
       "      <td>00010242fe8c5a6d1ba2dd792cb16214</td>\n",
       "      <td>1</td>\n",
       "      <td>4244733e06e7ecb4970a6e2683c13e61</td>\n",
       "      <td>48436dade18ac8b2bce089ec2a041202</td>\n",
       "      <td>2017-09-19 09:45:35</td>\n",
       "      <td>58.90</td>\n",
       "      <td>13.29</td>\n",
       "    </tr>\n",
       "    <tr>\n",
       "      <th>1</th>\n",
       "      <td>00018f77f2f0320c557190d7a144bdd3</td>\n",
       "      <td>1</td>\n",
       "      <td>e5f2d52b802189ee658865ca93d83a8f</td>\n",
       "      <td>dd7ddc04e1b6c2c614352b383efe2d36</td>\n",
       "      <td>2017-05-03 11:05:13</td>\n",
       "      <td>239.90</td>\n",
       "      <td>19.93</td>\n",
       "    </tr>\n",
       "    <tr>\n",
       "      <th>2</th>\n",
       "      <td>000229ec398224ef6ca0657da4fc703e</td>\n",
       "      <td>1</td>\n",
       "      <td>c777355d18b72b67abbeef9df44fd0fd</td>\n",
       "      <td>5b51032eddd242adc84c38acab88f23d</td>\n",
       "      <td>2018-01-18 14:48:30</td>\n",
       "      <td>199.00</td>\n",
       "      <td>17.87</td>\n",
       "    </tr>\n",
       "    <tr>\n",
       "      <th>3</th>\n",
       "      <td>00024acbcdf0a6daa1e931b038114c75</td>\n",
       "      <td>1</td>\n",
       "      <td>7634da152a4610f1595efa32f14722fc</td>\n",
       "      <td>9d7a1d34a5052409006425275ba1c2b4</td>\n",
       "      <td>2018-08-15 10:10:18</td>\n",
       "      <td>12.99</td>\n",
       "      <td>12.79</td>\n",
       "    </tr>\n",
       "    <tr>\n",
       "      <th>4</th>\n",
       "      <td>00042b26cf59d7ce69dfabb4e55b4fd9</td>\n",
       "      <td>1</td>\n",
       "      <td>ac6c3623068f30de03045865e4e10089</td>\n",
       "      <td>df560393f3a51e74553ab94004ba5c87</td>\n",
       "      <td>2017-02-13 13:57:51</td>\n",
       "      <td>199.90</td>\n",
       "      <td>18.14</td>\n",
       "    </tr>\n",
       "    <tr>\n",
       "      <th>...</th>\n",
       "      <td>...</td>\n",
       "      <td>...</td>\n",
       "      <td>...</td>\n",
       "      <td>...</td>\n",
       "      <td>...</td>\n",
       "      <td>...</td>\n",
       "      <td>...</td>\n",
       "    </tr>\n",
       "    <tr>\n",
       "      <th>112645</th>\n",
       "      <td>fffc94f6ce00a00581880bf54a75a037</td>\n",
       "      <td>1</td>\n",
       "      <td>4aa6014eceb682077f9dc4bffebc05b0</td>\n",
       "      <td>b8bc237ba3788b23da09c0f1f3a3288c</td>\n",
       "      <td>2018-05-02 04:11:01</td>\n",
       "      <td>299.99</td>\n",
       "      <td>43.41</td>\n",
       "    </tr>\n",
       "    <tr>\n",
       "      <th>112646</th>\n",
       "      <td>fffcd46ef2263f404302a634eb57f7eb</td>\n",
       "      <td>1</td>\n",
       "      <td>32e07fd915822b0765e448c4dd74c828</td>\n",
       "      <td>f3c38ab652836d21de61fb8314b69182</td>\n",
       "      <td>2018-07-20 04:31:48</td>\n",
       "      <td>350.00</td>\n",
       "      <td>36.53</td>\n",
       "    </tr>\n",
       "    <tr>\n",
       "      <th>112647</th>\n",
       "      <td>fffce4705a9662cd70adb13d4a31832d</td>\n",
       "      <td>1</td>\n",
       "      <td>72a30483855e2eafc67aee5dc2560482</td>\n",
       "      <td>c3cfdc648177fdbbbb35635a37472c53</td>\n",
       "      <td>2017-10-30 17:14:25</td>\n",
       "      <td>99.90</td>\n",
       "      <td>16.95</td>\n",
       "    </tr>\n",
       "    <tr>\n",
       "      <th>112648</th>\n",
       "      <td>fffe18544ffabc95dfada21779c9644f</td>\n",
       "      <td>1</td>\n",
       "      <td>9c422a519119dcad7575db5af1ba540e</td>\n",
       "      <td>2b3e4a2a3ea8e01938cabda2a3e5cc79</td>\n",
       "      <td>2017-08-21 00:04:32</td>\n",
       "      <td>55.99</td>\n",
       "      <td>8.72</td>\n",
       "    </tr>\n",
       "    <tr>\n",
       "      <th>112649</th>\n",
       "      <td>fffe41c64501cc87c801fd61db3f6244</td>\n",
       "      <td>1</td>\n",
       "      <td>350688d9dc1e75ff97be326363655e01</td>\n",
       "      <td>f7ccf836d21b2fb1de37564105216cc1</td>\n",
       "      <td>2018-06-12 17:10:13</td>\n",
       "      <td>43.00</td>\n",
       "      <td>12.79</td>\n",
       "    </tr>\n",
       "  </tbody>\n",
       "</table>\n",
       "<p>112650 rows × 7 columns</p>\n",
       "</div>"
      ],
      "text/plain": [
       "                                order_id  order_item_id  \\\n",
       "0       00010242fe8c5a6d1ba2dd792cb16214              1   \n",
       "1       00018f77f2f0320c557190d7a144bdd3              1   \n",
       "2       000229ec398224ef6ca0657da4fc703e              1   \n",
       "3       00024acbcdf0a6daa1e931b038114c75              1   \n",
       "4       00042b26cf59d7ce69dfabb4e55b4fd9              1   \n",
       "...                                  ...            ...   \n",
       "112645  fffc94f6ce00a00581880bf54a75a037              1   \n",
       "112646  fffcd46ef2263f404302a634eb57f7eb              1   \n",
       "112647  fffce4705a9662cd70adb13d4a31832d              1   \n",
       "112648  fffe18544ffabc95dfada21779c9644f              1   \n",
       "112649  fffe41c64501cc87c801fd61db3f6244              1   \n",
       "\n",
       "                              product_id                         seller_id  \\\n",
       "0       4244733e06e7ecb4970a6e2683c13e61  48436dade18ac8b2bce089ec2a041202   \n",
       "1       e5f2d52b802189ee658865ca93d83a8f  dd7ddc04e1b6c2c614352b383efe2d36   \n",
       "2       c777355d18b72b67abbeef9df44fd0fd  5b51032eddd242adc84c38acab88f23d   \n",
       "3       7634da152a4610f1595efa32f14722fc  9d7a1d34a5052409006425275ba1c2b4   \n",
       "4       ac6c3623068f30de03045865e4e10089  df560393f3a51e74553ab94004ba5c87   \n",
       "...                                  ...                               ...   \n",
       "112645  4aa6014eceb682077f9dc4bffebc05b0  b8bc237ba3788b23da09c0f1f3a3288c   \n",
       "112646  32e07fd915822b0765e448c4dd74c828  f3c38ab652836d21de61fb8314b69182   \n",
       "112647  72a30483855e2eafc67aee5dc2560482  c3cfdc648177fdbbbb35635a37472c53   \n",
       "112648  9c422a519119dcad7575db5af1ba540e  2b3e4a2a3ea8e01938cabda2a3e5cc79   \n",
       "112649  350688d9dc1e75ff97be326363655e01  f7ccf836d21b2fb1de37564105216cc1   \n",
       "\n",
       "        shipping_limit_date   price  freight_value  \n",
       "0       2017-09-19 09:45:35   58.90          13.29  \n",
       "1       2017-05-03 11:05:13  239.90          19.93  \n",
       "2       2018-01-18 14:48:30  199.00          17.87  \n",
       "3       2018-08-15 10:10:18   12.99          12.79  \n",
       "4       2017-02-13 13:57:51  199.90          18.14  \n",
       "...                     ...     ...            ...  \n",
       "112645  2018-05-02 04:11:01  299.99          43.41  \n",
       "112646  2018-07-20 04:31:48  350.00          36.53  \n",
       "112647  2017-10-30 17:14:25   99.90          16.95  \n",
       "112648  2017-08-21 00:04:32   55.99           8.72  \n",
       "112649  2018-06-12 17:10:13   43.00          12.79  \n",
       "\n",
       "[112650 rows x 7 columns]"
      ]
     },
     "execution_count": 24,
     "metadata": {},
     "output_type": "execute_result"
    }
   ],
   "source": [
    "df"
   ]
  },
  {
   "cell_type": "code",
   "execution_count": 25,
   "id": "fdfb15bb",
   "metadata": {},
   "outputs": [],
   "source": [
    "#feature engg, adding total #item val for future sql quries\n",
    "df['total_item_value'] = df['price'] + df['freight_value']"
   ]
  },
  {
   "cell_type": "code",
   "execution_count": 26,
   "id": "cc6db4c3",
   "metadata": {},
   "outputs": [],
   "source": [
    "df.columns = df.columns.str.replace('#', '').str.strip()#try to avoid #"
   ]
  },
  {
   "cell_type": "code",
   "execution_count": 27,
   "id": "fe885ebb",
   "metadata": {},
   "outputs": [
    {
     "data": {
      "application/vnd.microsoft.datawrangler.viewer.v0+json": {
       "columns": [
        {
         "name": "index",
         "rawType": "int64",
         "type": "integer"
        },
        {
         "name": "order_id",
         "rawType": "object",
         "type": "string"
        },
        {
         "name": "order_item_id",
         "rawType": "int64",
         "type": "integer"
        },
        {
         "name": "product_id",
         "rawType": "object",
         "type": "string"
        },
        {
         "name": "seller_id",
         "rawType": "object",
         "type": "string"
        },
        {
         "name": "shipping_limit_date",
         "rawType": "object",
         "type": "string"
        },
        {
         "name": "price",
         "rawType": "float64",
         "type": "float"
        },
        {
         "name": "freight_value",
         "rawType": "float64",
         "type": "float"
        },
        {
         "name": "total_item_value",
         "rawType": "float64",
         "type": "float"
        }
       ],
       "ref": "ba8b7184-2e95-4f01-99c2-1bc6c9a7d3df",
       "rows": [
        [
         "0",
         "00010242fe8c5a6d1ba2dd792cb16214",
         "1",
         "4244733e06e7ecb4970a6e2683c13e61",
         "48436dade18ac8b2bce089ec2a041202",
         "2017-09-19 09:45:35",
         "58.9",
         "13.29",
         "72.19"
        ],
        [
         "1",
         "00018f77f2f0320c557190d7a144bdd3",
         "1",
         "e5f2d52b802189ee658865ca93d83a8f",
         "dd7ddc04e1b6c2c614352b383efe2d36",
         "2017-05-03 11:05:13",
         "239.9",
         "19.93",
         "259.83"
        ],
        [
         "2",
         "000229ec398224ef6ca0657da4fc703e",
         "1",
         "c777355d18b72b67abbeef9df44fd0fd",
         "5b51032eddd242adc84c38acab88f23d",
         "2018-01-18 14:48:30",
         "199.0",
         "17.87",
         "216.87"
        ],
        [
         "3",
         "00024acbcdf0a6daa1e931b038114c75",
         "1",
         "7634da152a4610f1595efa32f14722fc",
         "9d7a1d34a5052409006425275ba1c2b4",
         "2018-08-15 10:10:18",
         "12.99",
         "12.79",
         "25.78"
        ],
        [
         "4",
         "00042b26cf59d7ce69dfabb4e55b4fd9",
         "1",
         "ac6c3623068f30de03045865e4e10089",
         "df560393f3a51e74553ab94004ba5c87",
         "2017-02-13 13:57:51",
         "199.9",
         "18.14",
         "218.04000000000002"
        ],
        [
         "5",
         "00048cc3ae777c65dbb7d2a0634bc1ea",
         "1",
         "ef92defde845ab8450f9d70c526ef70f",
         "6426d21aca402a131fc0a5d0960a3c90",
         "2017-05-23 03:55:27",
         "21.9",
         "12.69",
         "34.589999999999996"
        ],
        [
         "6",
         "00054e8431b9d7675808bcb819fb4a32",
         "1",
         "8d4f2bb7e93e6710a28f34fa83ee7d28",
         "7040e82f899a04d1b434b795a43b4617",
         "2017-12-14 12:10:31",
         "19.9",
         "11.85",
         "31.75"
        ],
        [
         "7",
         "000576fe39319847cbb9d288c5617fa6",
         "1",
         "557d850972a7d6f792fd18ae1400d9b6",
         "5996cddab893a4652a15592fb58ab8db",
         "2018-07-10 12:30:45",
         "810.0",
         "70.75",
         "880.75"
        ],
        [
         "8",
         "0005a1a1728c9d785b8e2b08b904576c",
         "1",
         "310ae3c140ff94b03219ad0adc3c778f",
         "a416b6a846a11724393025641d4edd5e",
         "2018-03-26 18:31:29",
         "145.95",
         "11.65",
         "157.6"
        ],
        [
         "9",
         "0005f50442cb953dcd1d21e1fb923495",
         "1",
         "4535b0e1091c278dfd193e5a1d63b39f",
         "ba143b05f0110f0dc71ad71b4466ce92",
         "2018-07-06 14:10:56",
         "53.99",
         "11.4",
         "65.39"
        ],
        [
         "10",
         "00061f2a7bc09da83e415a52dc8a4af1",
         "1",
         "d63c1011f49d98b976c352955b1c4bea",
         "cc419e0650a3c5ba77189a1882b7556a",
         "2018-03-29 22:28:09",
         "59.99",
         "8.88",
         "68.87"
        ],
        [
         "11",
         "00063b381e2406b52ad429470734ebd5",
         "1",
         "f177554ea93259a5b282f24e33f65ab6",
         "8602a61d680a10a82cceeeda0d99ea3d",
         "2018-07-31 17:30:39",
         "45.0",
         "12.98",
         "57.980000000000004"
        ],
        [
         "12",
         "0006ec9db01a64e59a68b2c340bf65a7",
         "1",
         "99a4788cb24856965c36a24e339b6058",
         "4a3ca9315b744ce9f8e9374361493884",
         "2018-07-26 17:24:20",
         "74.0",
         "23.32",
         "97.32"
        ],
        [
         "13",
         "0008288aa423d2a3f00fcb17cd7d8719",
         "1",
         "368c6c730842d78016ad823897a372db",
         "1f50f920176fa81dab994f9023523100",
         "2018-02-21 02:55:52",
         "49.9",
         "13.37",
         "63.269999999999996"
        ],
        [
         "14",
         "0008288aa423d2a3f00fcb17cd7d8719",
         "2",
         "368c6c730842d78016ad823897a372db",
         "1f50f920176fa81dab994f9023523100",
         "2018-02-21 02:55:52",
         "49.9",
         "13.37",
         "63.269999999999996"
        ],
        [
         "15",
         "0009792311464db532ff765bf7b182ae",
         "1",
         "8cab8abac59158715e0d70a36c807415",
         "530ec6109d11eaaf87999465c6afee01",
         "2018-08-17 12:15:10",
         "99.9",
         "27.65",
         "127.55000000000001"
        ],
        [
         "16",
         "0009c9a17f916a706d71784483a5d643",
         "1",
         "3f27ac8e699df3d300ec4a5d8c5cf0b2",
         "fcb5ace8bcc92f75707dc0f01a27d269",
         "2018-05-02 09:31:53",
         "639.0",
         "11.34",
         "650.34"
        ],
        [
         "17",
         "000aed2e25dbad2f9ddb70584c5a2ded",
         "1",
         "4fa33915031a8cde03dd0d3e8fb27f01",
         "fe2032dab1a61af8794248c8196565c9",
         "2018-05-16 20:57:03",
         "144.0",
         "8.77",
         "152.77"
        ],
        [
         "18",
         "000c3e6612759851cc3cbb4b83257986",
         "1",
         "b50c950aba0dcead2c48032a690ce817",
         "218d46b86c1881d022bce9c68a7d4b15",
         "2017-08-21 03:33:13",
         "99.0",
         "13.71",
         "112.71000000000001"
        ],
        [
         "19",
         "000e562887b1f2006d75e0be9558292e",
         "1",
         "5ed9eaf534f6936b51d0b6c5e4d5c2e9",
         "8cbac7e12637ed9cffa18c7875207478",
         "2018-02-28 12:08:37",
         "25.0",
         "16.11",
         "41.11"
        ],
        [
         "20",
         "000e63d38ae8c00bbcb5a30573b99628",
         "1",
         "553e0e7590d3116a072507a3635d2877",
         "1c129092bf23f28a5930387c980c0dfc",
         "2018-03-29 20:07:49",
         "47.9",
         "8.88",
         "56.78"
        ],
        [
         "21",
         "000e906b789b55f64edcb1f84030f90d",
         "1",
         "57d79905de06d8897872c551bfd09358",
         "ea8482cd71df3c1969d7b9473ff13abc",
         "2017-11-27 19:09:02",
         "21.99",
         "11.85",
         "33.839999999999996"
        ],
        [
         "22",
         "000f25f4d72195062c040b12dce9a18a",
         "1",
         "1c05e0964302b6cf68ca0d15f326c6ba",
         "7c67e1448b00f6e969d365cea6b010ab",
         "2018-03-21 11:10:11",
         "119.99",
         "44.4",
         "164.39"
        ],
        [
         "23",
         "001021efaa8636c29475e7734483457d",
         "1",
         "5d7c23067ed3fc8c6e699b9373d5890b",
         "6560211a19b47992c3666cc44a7e94c0",
         "2018-03-05 09:35:41",
         "49.0",
         "15.1",
         "64.1"
        ],
        [
         "24",
         "0010b2e5201cc5f1ae7e9c6cc8f5bd00",
         "1",
         "5a419dbf24a8c9718fe522b81c69f61a",
         "3504c0cb71d7fa48d967e0e4c94d59d9",
         "2017-09-15 18:04:37",
         "48.9",
         "16.6",
         "65.5"
        ],
        [
         "25",
         "00119ff934e539cf26f92b9ef0cdfed8",
         "1",
         "21b1c2f67a9aafb5af0eb06c13b9dbda",
         "c864036feaab8c1659f65ea4faebe1da",
         "2017-08-11 00:35:12",
         "219.9",
         "16.98",
         "236.88"
        ],
        [
         "26",
         "0011d82c4b53e22e84023405fb467e57",
         "1",
         "c389f712c4b4510bc997cee93e8b1a28",
         "bfd27a966d91cfaafdb25d076585f0da",
         "2018-01-29 21:51:25",
         "289.0",
         "26.33",
         "315.33"
        ],
        [
         "27",
         "00125cb692d04887809806618a2a145f",
         "1",
         "1c0c0093a48f13ba70d0c6b0a9157cb7",
         "41b39e28db005d9731d9d485a83b4c38",
         "2017-03-29 13:05:42",
         "109.9",
         "25.51",
         "135.41"
        ],
        [
         "28",
         "00130c0eee84a3d909e75bc08c5c3ca1",
         "1",
         "89321f94e35fc6d7903d36f74e351d40",
         "16090f2ca825584b5a147ab24aa30c86",
         "2018-06-14 05:16:24",
         "27.9",
         "7.94",
         "35.839999999999996"
        ],
        [
         "29",
         "0013503b13da1eac686219390b7d641b",
         "1",
         "38afdf723b95d455b418a0f57d623c6b",
         "1554a68530182680ad5c8b042c3ab563",
         "2017-12-13 03:16:36",
         "119.9",
         "17.32",
         "137.22"
        ],
        [
         "30",
         "00137e170939bba5a3134e2386413108",
         "1",
         "672e757f331900b9deea127a2a7b79fd",
         "e59aa562b9f8076dd550fcddf0e73491",
         "2017-11-30 06:30:55",
         "397.0",
         "24.65",
         "421.65"
        ],
        [
         "31",
         "001427c0ec99cf8af737bd88e92fd444",
         "1",
         "28b4eced95a52d9c437a4caf9d311b95",
         "77530e9772f57a62c906e1c21538ab82",
         "2018-04-12 19:08:28",
         "59.9",
         "23.35",
         "83.25"
        ],
        [
         "32",
         "00143d0f86d6fbd9f9b38ab440ac16f5",
         "1",
         "e95ee6822b66ac6058e2e4aff656071a",
         "a17f621c590ea0fab3d5d883e1630ec6",
         "2017-10-20 16:07:52",
         "21.33",
         "15.1",
         "36.43"
        ],
        [
         "33",
         "00143d0f86d6fbd9f9b38ab440ac16f5",
         "2",
         "e95ee6822b66ac6058e2e4aff656071a",
         "a17f621c590ea0fab3d5d883e1630ec6",
         "2017-10-20 16:07:52",
         "21.33",
         "15.1",
         "36.43"
        ],
        [
         "34",
         "00143d0f86d6fbd9f9b38ab440ac16f5",
         "3",
         "e95ee6822b66ac6058e2e4aff656071a",
         "a17f621c590ea0fab3d5d883e1630ec6",
         "2017-10-20 16:07:52",
         "21.33",
         "15.1",
         "36.43"
        ],
        [
         "35",
         "0014ae671de39511f7575066200733b7",
         "1",
         "23365beed316535b4105bd800c46670e",
         "92eb0f42c21942b6552362b9b114707d",
         "2017-05-29 03:15:24",
         "16.5",
         "14.1",
         "30.6"
        ],
        [
         "36",
         "0015ebb40fb17286bea51d4607c4733c",
         "1",
         "50fd2b788dc166edd20512370dac54df",
         "8b321bb669392f5163d04c59e235e066",
         "2018-01-18 09:11:24",
         "21.9",
         "15.1",
         "37.0"
        ],
        [
         "37",
         "00169e31ef4b29deaae414f9a5e95929",
         "1",
         "b10eba910a974df70b8a12d0665cdb9e",
         "a3e9a2c700480d9bb01fba070ba80a0e",
         "2018-01-23 03:35:47",
         "39.0",
         "16.11",
         "55.11"
        ],
        [
         "38",
         "0016dfedd97fc2950e388d2971d718c7",
         "1",
         "4089861a1bd4685da70bddd6b4f974f1",
         "a35124e2d763d7ca3fbe3b97d143200f",
         "2017-05-05 10:05:12",
         "49.75",
         "20.8",
         "70.55"
        ],
        [
         "39",
         "0017afd5076e074a48f1f1a4c7bac9c5",
         "1",
         "fe59a1e006df3ac42bf0ceb876d70969",
         "25c5c91f63607446a97b143d2d535d31",
         "2017-04-24 22:25:19",
         "809.1",
         "44.29",
         "853.39"
        ],
        [
         "40",
         "001862358bf858722e1e2ae000cfed8b",
         "1",
         "c6dd917a0be2a704582055949915ab32",
         "7a67c85e85bb2ce8582c35f2203ad736",
         "2018-02-13 19:10:37",
         "99.99",
         "13.72",
         "113.71"
        ],
        [
         "41",
         "0019c29108428acffd089c36103c9440",
         "1",
         "28b4eced95a52d9c437a4caf9d311b95",
         "77530e9772f57a62c906e1c21538ab82",
         "2018-03-12 06:50:26",
         "59.9",
         "19.95",
         "79.85"
        ],
        [
         "42",
         "001ab0a7578dd66cd4b0a71f5b6e1e41",
         "1",
         "0b0172eb0fd18479d29c3bc122c058c2",
         "5656537e588803a555b8eb41f07a944b",
         "2018-01-04 02:33:42",
         "24.89",
         "17.63",
         "42.519999999999996"
        ],
        [
         "43",
         "001ab0a7578dd66cd4b0a71f5b6e1e41",
         "2",
         "0b0172eb0fd18479d29c3bc122c058c2",
         "5656537e588803a555b8eb41f07a944b",
         "2018-01-04 02:33:42",
         "24.89",
         "17.63",
         "42.519999999999996"
        ],
        [
         "44",
         "001ab0a7578dd66cd4b0a71f5b6e1e41",
         "3",
         "0b0172eb0fd18479d29c3bc122c058c2",
         "5656537e588803a555b8eb41f07a944b",
         "2018-01-04 02:33:42",
         "24.89",
         "17.63",
         "42.519999999999996"
        ],
        [
         "45",
         "001ac194d4a326a6fa99b581e9a3d963",
         "1",
         "dbaee28f4ee64465838a229582d77520",
         "ffc470761de7d0232558ba5e786e57b7",
         "2018-07-10 02:51:10",
         "54.0",
         "8.54",
         "62.54"
        ],
        [
         "46",
         "001b76dd48a5b1eee3e87778daa40df8",
         "1",
         "dbb67791e405873b259e4656bf971246",
         "9c0e69c7bf2619675bbadf47b43f655a",
         "2018-04-02 17:50:17",
         "81.99",
         "13.01",
         "95.0"
        ],
        [
         "47",
         "001c85b5f68d2be0cb0797afc9e8ce9a",
         "1",
         "84f456958365164420cfc80fbe4c7fab",
         "4a3ca9315b744ce9f8e9374361493884",
         "2017-11-29 22:38:47",
         "99.0",
         "13.71",
         "112.71000000000001"
        ],
        [
         "48",
         "001d8f0e34a38c37f7dba2a37d4eba8b",
         "1",
         "e67307ff0f15ade43fcb6e670be7a74c",
         "f4aba7c0bca51484c30ab7bdc34bcdd1",
         "2017-05-18 17:35:11",
         "18.99",
         "7.78",
         "26.77"
        ],
        [
         "49",
         "001d8f0e34a38c37f7dba2a37d4eba8b",
         "2",
         "e67307ff0f15ade43fcb6e670be7a74c",
         "f4aba7c0bca51484c30ab7bdc34bcdd1",
         "2017-05-18 17:35:11",
         "18.99",
         "7.78",
         "26.77"
        ]
       ],
       "shape": {
        "columns": 8,
        "rows": 112650
       }
      },
      "text/html": [
       "<div>\n",
       "<style scoped>\n",
       "    .dataframe tbody tr th:only-of-type {\n",
       "        vertical-align: middle;\n",
       "    }\n",
       "\n",
       "    .dataframe tbody tr th {\n",
       "        vertical-align: top;\n",
       "    }\n",
       "\n",
       "    .dataframe thead th {\n",
       "        text-align: right;\n",
       "    }\n",
       "</style>\n",
       "<table border=\"1\" class=\"dataframe\">\n",
       "  <thead>\n",
       "    <tr style=\"text-align: right;\">\n",
       "      <th></th>\n",
       "      <th>order_id</th>\n",
       "      <th>order_item_id</th>\n",
       "      <th>product_id</th>\n",
       "      <th>seller_id</th>\n",
       "      <th>shipping_limit_date</th>\n",
       "      <th>price</th>\n",
       "      <th>freight_value</th>\n",
       "      <th>total_item_value</th>\n",
       "    </tr>\n",
       "  </thead>\n",
       "  <tbody>\n",
       "    <tr>\n",
       "      <th>0</th>\n",
       "      <td>00010242fe8c5a6d1ba2dd792cb16214</td>\n",
       "      <td>1</td>\n",
       "      <td>4244733e06e7ecb4970a6e2683c13e61</td>\n",
       "      <td>48436dade18ac8b2bce089ec2a041202</td>\n",
       "      <td>2017-09-19 09:45:35</td>\n",
       "      <td>58.90</td>\n",
       "      <td>13.29</td>\n",
       "      <td>72.19</td>\n",
       "    </tr>\n",
       "    <tr>\n",
       "      <th>1</th>\n",
       "      <td>00018f77f2f0320c557190d7a144bdd3</td>\n",
       "      <td>1</td>\n",
       "      <td>e5f2d52b802189ee658865ca93d83a8f</td>\n",
       "      <td>dd7ddc04e1b6c2c614352b383efe2d36</td>\n",
       "      <td>2017-05-03 11:05:13</td>\n",
       "      <td>239.90</td>\n",
       "      <td>19.93</td>\n",
       "      <td>259.83</td>\n",
       "    </tr>\n",
       "    <tr>\n",
       "      <th>2</th>\n",
       "      <td>000229ec398224ef6ca0657da4fc703e</td>\n",
       "      <td>1</td>\n",
       "      <td>c777355d18b72b67abbeef9df44fd0fd</td>\n",
       "      <td>5b51032eddd242adc84c38acab88f23d</td>\n",
       "      <td>2018-01-18 14:48:30</td>\n",
       "      <td>199.00</td>\n",
       "      <td>17.87</td>\n",
       "      <td>216.87</td>\n",
       "    </tr>\n",
       "    <tr>\n",
       "      <th>3</th>\n",
       "      <td>00024acbcdf0a6daa1e931b038114c75</td>\n",
       "      <td>1</td>\n",
       "      <td>7634da152a4610f1595efa32f14722fc</td>\n",
       "      <td>9d7a1d34a5052409006425275ba1c2b4</td>\n",
       "      <td>2018-08-15 10:10:18</td>\n",
       "      <td>12.99</td>\n",
       "      <td>12.79</td>\n",
       "      <td>25.78</td>\n",
       "    </tr>\n",
       "    <tr>\n",
       "      <th>4</th>\n",
       "      <td>00042b26cf59d7ce69dfabb4e55b4fd9</td>\n",
       "      <td>1</td>\n",
       "      <td>ac6c3623068f30de03045865e4e10089</td>\n",
       "      <td>df560393f3a51e74553ab94004ba5c87</td>\n",
       "      <td>2017-02-13 13:57:51</td>\n",
       "      <td>199.90</td>\n",
       "      <td>18.14</td>\n",
       "      <td>218.04</td>\n",
       "    </tr>\n",
       "    <tr>\n",
       "      <th>...</th>\n",
       "      <td>...</td>\n",
       "      <td>...</td>\n",
       "      <td>...</td>\n",
       "      <td>...</td>\n",
       "      <td>...</td>\n",
       "      <td>...</td>\n",
       "      <td>...</td>\n",
       "      <td>...</td>\n",
       "    </tr>\n",
       "    <tr>\n",
       "      <th>112645</th>\n",
       "      <td>fffc94f6ce00a00581880bf54a75a037</td>\n",
       "      <td>1</td>\n",
       "      <td>4aa6014eceb682077f9dc4bffebc05b0</td>\n",
       "      <td>b8bc237ba3788b23da09c0f1f3a3288c</td>\n",
       "      <td>2018-05-02 04:11:01</td>\n",
       "      <td>299.99</td>\n",
       "      <td>43.41</td>\n",
       "      <td>343.40</td>\n",
       "    </tr>\n",
       "    <tr>\n",
       "      <th>112646</th>\n",
       "      <td>fffcd46ef2263f404302a634eb57f7eb</td>\n",
       "      <td>1</td>\n",
       "      <td>32e07fd915822b0765e448c4dd74c828</td>\n",
       "      <td>f3c38ab652836d21de61fb8314b69182</td>\n",
       "      <td>2018-07-20 04:31:48</td>\n",
       "      <td>350.00</td>\n",
       "      <td>36.53</td>\n",
       "      <td>386.53</td>\n",
       "    </tr>\n",
       "    <tr>\n",
       "      <th>112647</th>\n",
       "      <td>fffce4705a9662cd70adb13d4a31832d</td>\n",
       "      <td>1</td>\n",
       "      <td>72a30483855e2eafc67aee5dc2560482</td>\n",
       "      <td>c3cfdc648177fdbbbb35635a37472c53</td>\n",
       "      <td>2017-10-30 17:14:25</td>\n",
       "      <td>99.90</td>\n",
       "      <td>16.95</td>\n",
       "      <td>116.85</td>\n",
       "    </tr>\n",
       "    <tr>\n",
       "      <th>112648</th>\n",
       "      <td>fffe18544ffabc95dfada21779c9644f</td>\n",
       "      <td>1</td>\n",
       "      <td>9c422a519119dcad7575db5af1ba540e</td>\n",
       "      <td>2b3e4a2a3ea8e01938cabda2a3e5cc79</td>\n",
       "      <td>2017-08-21 00:04:32</td>\n",
       "      <td>55.99</td>\n",
       "      <td>8.72</td>\n",
       "      <td>64.71</td>\n",
       "    </tr>\n",
       "    <tr>\n",
       "      <th>112649</th>\n",
       "      <td>fffe41c64501cc87c801fd61db3f6244</td>\n",
       "      <td>1</td>\n",
       "      <td>350688d9dc1e75ff97be326363655e01</td>\n",
       "      <td>f7ccf836d21b2fb1de37564105216cc1</td>\n",
       "      <td>2018-06-12 17:10:13</td>\n",
       "      <td>43.00</td>\n",
       "      <td>12.79</td>\n",
       "      <td>55.79</td>\n",
       "    </tr>\n",
       "  </tbody>\n",
       "</table>\n",
       "<p>112650 rows × 8 columns</p>\n",
       "</div>"
      ],
      "text/plain": [
       "                                order_id  order_item_id  \\\n",
       "0       00010242fe8c5a6d1ba2dd792cb16214              1   \n",
       "1       00018f77f2f0320c557190d7a144bdd3              1   \n",
       "2       000229ec398224ef6ca0657da4fc703e              1   \n",
       "3       00024acbcdf0a6daa1e931b038114c75              1   \n",
       "4       00042b26cf59d7ce69dfabb4e55b4fd9              1   \n",
       "...                                  ...            ...   \n",
       "112645  fffc94f6ce00a00581880bf54a75a037              1   \n",
       "112646  fffcd46ef2263f404302a634eb57f7eb              1   \n",
       "112647  fffce4705a9662cd70adb13d4a31832d              1   \n",
       "112648  fffe18544ffabc95dfada21779c9644f              1   \n",
       "112649  fffe41c64501cc87c801fd61db3f6244              1   \n",
       "\n",
       "                              product_id                         seller_id  \\\n",
       "0       4244733e06e7ecb4970a6e2683c13e61  48436dade18ac8b2bce089ec2a041202   \n",
       "1       e5f2d52b802189ee658865ca93d83a8f  dd7ddc04e1b6c2c614352b383efe2d36   \n",
       "2       c777355d18b72b67abbeef9df44fd0fd  5b51032eddd242adc84c38acab88f23d   \n",
       "3       7634da152a4610f1595efa32f14722fc  9d7a1d34a5052409006425275ba1c2b4   \n",
       "4       ac6c3623068f30de03045865e4e10089  df560393f3a51e74553ab94004ba5c87   \n",
       "...                                  ...                               ...   \n",
       "112645  4aa6014eceb682077f9dc4bffebc05b0  b8bc237ba3788b23da09c0f1f3a3288c   \n",
       "112646  32e07fd915822b0765e448c4dd74c828  f3c38ab652836d21de61fb8314b69182   \n",
       "112647  72a30483855e2eafc67aee5dc2560482  c3cfdc648177fdbbbb35635a37472c53   \n",
       "112648  9c422a519119dcad7575db5af1ba540e  2b3e4a2a3ea8e01938cabda2a3e5cc79   \n",
       "112649  350688d9dc1e75ff97be326363655e01  f7ccf836d21b2fb1de37564105216cc1   \n",
       "\n",
       "        shipping_limit_date   price  freight_value  total_item_value  \n",
       "0       2017-09-19 09:45:35   58.90          13.29             72.19  \n",
       "1       2017-05-03 11:05:13  239.90          19.93            259.83  \n",
       "2       2018-01-18 14:48:30  199.00          17.87            216.87  \n",
       "3       2018-08-15 10:10:18   12.99          12.79             25.78  \n",
       "4       2017-02-13 13:57:51  199.90          18.14            218.04  \n",
       "...                     ...     ...            ...               ...  \n",
       "112645  2018-05-02 04:11:01  299.99          43.41            343.40  \n",
       "112646  2018-07-20 04:31:48  350.00          36.53            386.53  \n",
       "112647  2017-10-30 17:14:25   99.90          16.95            116.85  \n",
       "112648  2017-08-21 00:04:32   55.99           8.72             64.71  \n",
       "112649  2018-06-12 17:10:13   43.00          12.79             55.79  \n",
       "\n",
       "[112650 rows x 8 columns]"
      ]
     },
     "execution_count": 27,
     "metadata": {},
     "output_type": "execute_result"
    }
   ],
   "source": [
    "df"
   ]
  },
  {
   "cell_type": "code",
   "execution_count": 28,
   "id": "6894b5de",
   "metadata": {},
   "outputs": [],
   "source": [
    "#saving the cleaned version\n",
    "df.to_csv(r'C:\\DE\\csv files data\\Brazilian E-Commerce\\Cleanedolist_order_items_dataset.csv', index=False)"
   ]
  },
  {
   "cell_type": "code",
   "execution_count": 29,
   "id": "660eede3",
   "metadata": {},
   "outputs": [],
   "source": [
    "df2=pd.read_csv(r'C:\\DE\\csv files data\\Brazilian E-Commerce\\Cleanedolist_order_items_dataset.csv')"
   ]
  },
  {
   "cell_type": "code",
   "execution_count": 30,
   "id": "cdf55870",
   "metadata": {},
   "outputs": [
    {
     "data": {
      "application/vnd.microsoft.datawrangler.viewer.v0+json": {
       "columns": [
        {
         "name": "index",
         "rawType": "int64",
         "type": "integer"
        },
        {
         "name": "order_id",
         "rawType": "object",
         "type": "string"
        },
        {
         "name": "order_item_id",
         "rawType": "int64",
         "type": "integer"
        },
        {
         "name": "product_id",
         "rawType": "object",
         "type": "string"
        },
        {
         "name": "seller_id",
         "rawType": "object",
         "type": "string"
        },
        {
         "name": "shipping_limit_date",
         "rawType": "object",
         "type": "string"
        },
        {
         "name": "price",
         "rawType": "float64",
         "type": "float"
        },
        {
         "name": "freight_value",
         "rawType": "float64",
         "type": "float"
        },
        {
         "name": "total_item_value",
         "rawType": "float64",
         "type": "float"
        }
       ],
       "ref": "b3f3e166-d368-4f20-bc28-11a045fce436",
       "rows": [
        [
         "0",
         "00010242fe8c5a6d1ba2dd792cb16214",
         "1",
         "4244733e06e7ecb4970a6e2683c13e61",
         "48436dade18ac8b2bce089ec2a041202",
         "2017-09-19 09:45:35",
         "58.9",
         "13.29",
         "72.19"
        ],
        [
         "1",
         "00018f77f2f0320c557190d7a144bdd3",
         "1",
         "e5f2d52b802189ee658865ca93d83a8f",
         "dd7ddc04e1b6c2c614352b383efe2d36",
         "2017-05-03 11:05:13",
         "239.9",
         "19.93",
         "259.83"
        ],
        [
         "2",
         "000229ec398224ef6ca0657da4fc703e",
         "1",
         "c777355d18b72b67abbeef9df44fd0fd",
         "5b51032eddd242adc84c38acab88f23d",
         "2018-01-18 14:48:30",
         "199.0",
         "17.87",
         "216.87"
        ],
        [
         "3",
         "00024acbcdf0a6daa1e931b038114c75",
         "1",
         "7634da152a4610f1595efa32f14722fc",
         "9d7a1d34a5052409006425275ba1c2b4",
         "2018-08-15 10:10:18",
         "12.99",
         "12.79",
         "25.78"
        ],
        [
         "4",
         "00042b26cf59d7ce69dfabb4e55b4fd9",
         "1",
         "ac6c3623068f30de03045865e4e10089",
         "df560393f3a51e74553ab94004ba5c87",
         "2017-02-13 13:57:51",
         "199.9",
         "18.14",
         "218.04"
        ],
        [
         "5",
         "00048cc3ae777c65dbb7d2a0634bc1ea",
         "1",
         "ef92defde845ab8450f9d70c526ef70f",
         "6426d21aca402a131fc0a5d0960a3c90",
         "2017-05-23 03:55:27",
         "21.9",
         "12.69",
         "34.59"
        ],
        [
         "6",
         "00054e8431b9d7675808bcb819fb4a32",
         "1",
         "8d4f2bb7e93e6710a28f34fa83ee7d28",
         "7040e82f899a04d1b434b795a43b4617",
         "2017-12-14 12:10:31",
         "19.9",
         "11.85",
         "31.75"
        ],
        [
         "7",
         "000576fe39319847cbb9d288c5617fa6",
         "1",
         "557d850972a7d6f792fd18ae1400d9b6",
         "5996cddab893a4652a15592fb58ab8db",
         "2018-07-10 12:30:45",
         "810.0",
         "70.75",
         "880.75"
        ],
        [
         "8",
         "0005a1a1728c9d785b8e2b08b904576c",
         "1",
         "310ae3c140ff94b03219ad0adc3c778f",
         "a416b6a846a11724393025641d4edd5e",
         "2018-03-26 18:31:29",
         "145.95",
         "11.65",
         "157.6"
        ],
        [
         "9",
         "0005f50442cb953dcd1d21e1fb923495",
         "1",
         "4535b0e1091c278dfd193e5a1d63b39f",
         "ba143b05f0110f0dc71ad71b4466ce92",
         "2018-07-06 14:10:56",
         "53.99",
         "11.4",
         "65.39"
        ],
        [
         "10",
         "00061f2a7bc09da83e415a52dc8a4af1",
         "1",
         "d63c1011f49d98b976c352955b1c4bea",
         "cc419e0650a3c5ba77189a1882b7556a",
         "2018-03-29 22:28:09",
         "59.99",
         "8.88",
         "68.87"
        ],
        [
         "11",
         "00063b381e2406b52ad429470734ebd5",
         "1",
         "f177554ea93259a5b282f24e33f65ab6",
         "8602a61d680a10a82cceeeda0d99ea3d",
         "2018-07-31 17:30:39",
         "45.0",
         "12.98",
         "57.98"
        ],
        [
         "12",
         "0006ec9db01a64e59a68b2c340bf65a7",
         "1",
         "99a4788cb24856965c36a24e339b6058",
         "4a3ca9315b744ce9f8e9374361493884",
         "2018-07-26 17:24:20",
         "74.0",
         "23.32",
         "97.32"
        ],
        [
         "13",
         "0008288aa423d2a3f00fcb17cd7d8719",
         "1",
         "368c6c730842d78016ad823897a372db",
         "1f50f920176fa81dab994f9023523100",
         "2018-02-21 02:55:52",
         "49.9",
         "13.37",
         "63.27"
        ],
        [
         "14",
         "0008288aa423d2a3f00fcb17cd7d8719",
         "2",
         "368c6c730842d78016ad823897a372db",
         "1f50f920176fa81dab994f9023523100",
         "2018-02-21 02:55:52",
         "49.9",
         "13.37",
         "63.27"
        ],
        [
         "15",
         "0009792311464db532ff765bf7b182ae",
         "1",
         "8cab8abac59158715e0d70a36c807415",
         "530ec6109d11eaaf87999465c6afee01",
         "2018-08-17 12:15:10",
         "99.9",
         "27.65",
         "127.55"
        ],
        [
         "16",
         "0009c9a17f916a706d71784483a5d643",
         "1",
         "3f27ac8e699df3d300ec4a5d8c5cf0b2",
         "fcb5ace8bcc92f75707dc0f01a27d269",
         "2018-05-02 09:31:53",
         "639.0",
         "11.34",
         "650.34"
        ],
        [
         "17",
         "000aed2e25dbad2f9ddb70584c5a2ded",
         "1",
         "4fa33915031a8cde03dd0d3e8fb27f01",
         "fe2032dab1a61af8794248c8196565c9",
         "2018-05-16 20:57:03",
         "144.0",
         "8.77",
         "152.77"
        ],
        [
         "18",
         "000c3e6612759851cc3cbb4b83257986",
         "1",
         "b50c950aba0dcead2c48032a690ce817",
         "218d46b86c1881d022bce9c68a7d4b15",
         "2017-08-21 03:33:13",
         "99.0",
         "13.71",
         "112.71"
        ],
        [
         "19",
         "000e562887b1f2006d75e0be9558292e",
         "1",
         "5ed9eaf534f6936b51d0b6c5e4d5c2e9",
         "8cbac7e12637ed9cffa18c7875207478",
         "2018-02-28 12:08:37",
         "25.0",
         "16.11",
         "41.11"
        ],
        [
         "20",
         "000e63d38ae8c00bbcb5a30573b99628",
         "1",
         "553e0e7590d3116a072507a3635d2877",
         "1c129092bf23f28a5930387c980c0dfc",
         "2018-03-29 20:07:49",
         "47.9",
         "8.88",
         "56.78"
        ],
        [
         "21",
         "000e906b789b55f64edcb1f84030f90d",
         "1",
         "57d79905de06d8897872c551bfd09358",
         "ea8482cd71df3c1969d7b9473ff13abc",
         "2017-11-27 19:09:02",
         "21.99",
         "11.85",
         "33.84"
        ],
        [
         "22",
         "000f25f4d72195062c040b12dce9a18a",
         "1",
         "1c05e0964302b6cf68ca0d15f326c6ba",
         "7c67e1448b00f6e969d365cea6b010ab",
         "2018-03-21 11:10:11",
         "119.99",
         "44.4",
         "164.39"
        ],
        [
         "23",
         "001021efaa8636c29475e7734483457d",
         "1",
         "5d7c23067ed3fc8c6e699b9373d5890b",
         "6560211a19b47992c3666cc44a7e94c0",
         "2018-03-05 09:35:41",
         "49.0",
         "15.1",
         "64.1"
        ],
        [
         "24",
         "0010b2e5201cc5f1ae7e9c6cc8f5bd00",
         "1",
         "5a419dbf24a8c9718fe522b81c69f61a",
         "3504c0cb71d7fa48d967e0e4c94d59d9",
         "2017-09-15 18:04:37",
         "48.9",
         "16.6",
         "65.5"
        ],
        [
         "25",
         "00119ff934e539cf26f92b9ef0cdfed8",
         "1",
         "21b1c2f67a9aafb5af0eb06c13b9dbda",
         "c864036feaab8c1659f65ea4faebe1da",
         "2017-08-11 00:35:12",
         "219.9",
         "16.98",
         "236.88"
        ],
        [
         "26",
         "0011d82c4b53e22e84023405fb467e57",
         "1",
         "c389f712c4b4510bc997cee93e8b1a28",
         "bfd27a966d91cfaafdb25d076585f0da",
         "2018-01-29 21:51:25",
         "289.0",
         "26.33",
         "315.33"
        ],
        [
         "27",
         "00125cb692d04887809806618a2a145f",
         "1",
         "1c0c0093a48f13ba70d0c6b0a9157cb7",
         "41b39e28db005d9731d9d485a83b4c38",
         "2017-03-29 13:05:42",
         "109.9",
         "25.51",
         "135.41"
        ],
        [
         "28",
         "00130c0eee84a3d909e75bc08c5c3ca1",
         "1",
         "89321f94e35fc6d7903d36f74e351d40",
         "16090f2ca825584b5a147ab24aa30c86",
         "2018-06-14 05:16:24",
         "27.9",
         "7.94",
         "35.84"
        ],
        [
         "29",
         "0013503b13da1eac686219390b7d641b",
         "1",
         "38afdf723b95d455b418a0f57d623c6b",
         "1554a68530182680ad5c8b042c3ab563",
         "2017-12-13 03:16:36",
         "119.9",
         "17.32",
         "137.22"
        ],
        [
         "30",
         "00137e170939bba5a3134e2386413108",
         "1",
         "672e757f331900b9deea127a2a7b79fd",
         "e59aa562b9f8076dd550fcddf0e73491",
         "2017-11-30 06:30:55",
         "397.0",
         "24.65",
         "421.65"
        ],
        [
         "31",
         "001427c0ec99cf8af737bd88e92fd444",
         "1",
         "28b4eced95a52d9c437a4caf9d311b95",
         "77530e9772f57a62c906e1c21538ab82",
         "2018-04-12 19:08:28",
         "59.9",
         "23.35",
         "83.25"
        ],
        [
         "32",
         "00143d0f86d6fbd9f9b38ab440ac16f5",
         "1",
         "e95ee6822b66ac6058e2e4aff656071a",
         "a17f621c590ea0fab3d5d883e1630ec6",
         "2017-10-20 16:07:52",
         "21.33",
         "15.1",
         "36.43"
        ],
        [
         "33",
         "00143d0f86d6fbd9f9b38ab440ac16f5",
         "2",
         "e95ee6822b66ac6058e2e4aff656071a",
         "a17f621c590ea0fab3d5d883e1630ec6",
         "2017-10-20 16:07:52",
         "21.33",
         "15.1",
         "36.43"
        ],
        [
         "34",
         "00143d0f86d6fbd9f9b38ab440ac16f5",
         "3",
         "e95ee6822b66ac6058e2e4aff656071a",
         "a17f621c590ea0fab3d5d883e1630ec6",
         "2017-10-20 16:07:52",
         "21.33",
         "15.1",
         "36.43"
        ],
        [
         "35",
         "0014ae671de39511f7575066200733b7",
         "1",
         "23365beed316535b4105bd800c46670e",
         "92eb0f42c21942b6552362b9b114707d",
         "2017-05-29 03:15:24",
         "16.5",
         "14.1",
         "30.6"
        ],
        [
         "36",
         "0015ebb40fb17286bea51d4607c4733c",
         "1",
         "50fd2b788dc166edd20512370dac54df",
         "8b321bb669392f5163d04c59e235e066",
         "2018-01-18 09:11:24",
         "21.9",
         "15.1",
         "37.0"
        ],
        [
         "37",
         "00169e31ef4b29deaae414f9a5e95929",
         "1",
         "b10eba910a974df70b8a12d0665cdb9e",
         "a3e9a2c700480d9bb01fba070ba80a0e",
         "2018-01-23 03:35:47",
         "39.0",
         "16.11",
         "55.11"
        ],
        [
         "38",
         "0016dfedd97fc2950e388d2971d718c7",
         "1",
         "4089861a1bd4685da70bddd6b4f974f1",
         "a35124e2d763d7ca3fbe3b97d143200f",
         "2017-05-05 10:05:12",
         "49.75",
         "20.8",
         "70.55"
        ],
        [
         "39",
         "0017afd5076e074a48f1f1a4c7bac9c5",
         "1",
         "fe59a1e006df3ac42bf0ceb876d70969",
         "25c5c91f63607446a97b143d2d535d31",
         "2017-04-24 22:25:19",
         "809.1",
         "44.29",
         "853.39"
        ],
        [
         "40",
         "001862358bf858722e1e2ae000cfed8b",
         "1",
         "c6dd917a0be2a704582055949915ab32",
         "7a67c85e85bb2ce8582c35f2203ad736",
         "2018-02-13 19:10:37",
         "99.99",
         "13.72",
         "113.71"
        ],
        [
         "41",
         "0019c29108428acffd089c36103c9440",
         "1",
         "28b4eced95a52d9c437a4caf9d311b95",
         "77530e9772f57a62c906e1c21538ab82",
         "2018-03-12 06:50:26",
         "59.9",
         "19.95",
         "79.85"
        ],
        [
         "42",
         "001ab0a7578dd66cd4b0a71f5b6e1e41",
         "1",
         "0b0172eb0fd18479d29c3bc122c058c2",
         "5656537e588803a555b8eb41f07a944b",
         "2018-01-04 02:33:42",
         "24.89",
         "17.63",
         "42.52"
        ],
        [
         "43",
         "001ab0a7578dd66cd4b0a71f5b6e1e41",
         "2",
         "0b0172eb0fd18479d29c3bc122c058c2",
         "5656537e588803a555b8eb41f07a944b",
         "2018-01-04 02:33:42",
         "24.89",
         "17.63",
         "42.52"
        ],
        [
         "44",
         "001ab0a7578dd66cd4b0a71f5b6e1e41",
         "3",
         "0b0172eb0fd18479d29c3bc122c058c2",
         "5656537e588803a555b8eb41f07a944b",
         "2018-01-04 02:33:42",
         "24.89",
         "17.63",
         "42.52"
        ],
        [
         "45",
         "001ac194d4a326a6fa99b581e9a3d963",
         "1",
         "dbaee28f4ee64465838a229582d77520",
         "ffc470761de7d0232558ba5e786e57b7",
         "2018-07-10 02:51:10",
         "54.0",
         "8.54",
         "62.54"
        ],
        [
         "46",
         "001b76dd48a5b1eee3e87778daa40df8",
         "1",
         "dbb67791e405873b259e4656bf971246",
         "9c0e69c7bf2619675bbadf47b43f655a",
         "2018-04-02 17:50:17",
         "81.99",
         "13.01",
         "95.0"
        ],
        [
         "47",
         "001c85b5f68d2be0cb0797afc9e8ce9a",
         "1",
         "84f456958365164420cfc80fbe4c7fab",
         "4a3ca9315b744ce9f8e9374361493884",
         "2017-11-29 22:38:47",
         "99.0",
         "13.71",
         "112.71"
        ],
        [
         "48",
         "001d8f0e34a38c37f7dba2a37d4eba8b",
         "1",
         "e67307ff0f15ade43fcb6e670be7a74c",
         "f4aba7c0bca51484c30ab7bdc34bcdd1",
         "2017-05-18 17:35:11",
         "18.99",
         "7.78",
         "26.77"
        ],
        [
         "49",
         "001d8f0e34a38c37f7dba2a37d4eba8b",
         "2",
         "e67307ff0f15ade43fcb6e670be7a74c",
         "f4aba7c0bca51484c30ab7bdc34bcdd1",
         "2017-05-18 17:35:11",
         "18.99",
         "7.78",
         "26.77"
        ]
       ],
       "shape": {
        "columns": 8,
        "rows": 112650
       }
      },
      "text/html": [
       "<div>\n",
       "<style scoped>\n",
       "    .dataframe tbody tr th:only-of-type {\n",
       "        vertical-align: middle;\n",
       "    }\n",
       "\n",
       "    .dataframe tbody tr th {\n",
       "        vertical-align: top;\n",
       "    }\n",
       "\n",
       "    .dataframe thead th {\n",
       "        text-align: right;\n",
       "    }\n",
       "</style>\n",
       "<table border=\"1\" class=\"dataframe\">\n",
       "  <thead>\n",
       "    <tr style=\"text-align: right;\">\n",
       "      <th></th>\n",
       "      <th>order_id</th>\n",
       "      <th>order_item_id</th>\n",
       "      <th>product_id</th>\n",
       "      <th>seller_id</th>\n",
       "      <th>shipping_limit_date</th>\n",
       "      <th>price</th>\n",
       "      <th>freight_value</th>\n",
       "      <th>total_item_value</th>\n",
       "    </tr>\n",
       "  </thead>\n",
       "  <tbody>\n",
       "    <tr>\n",
       "      <th>0</th>\n",
       "      <td>00010242fe8c5a6d1ba2dd792cb16214</td>\n",
       "      <td>1</td>\n",
       "      <td>4244733e06e7ecb4970a6e2683c13e61</td>\n",
       "      <td>48436dade18ac8b2bce089ec2a041202</td>\n",
       "      <td>2017-09-19 09:45:35</td>\n",
       "      <td>58.90</td>\n",
       "      <td>13.29</td>\n",
       "      <td>72.19</td>\n",
       "    </tr>\n",
       "    <tr>\n",
       "      <th>1</th>\n",
       "      <td>00018f77f2f0320c557190d7a144bdd3</td>\n",
       "      <td>1</td>\n",
       "      <td>e5f2d52b802189ee658865ca93d83a8f</td>\n",
       "      <td>dd7ddc04e1b6c2c614352b383efe2d36</td>\n",
       "      <td>2017-05-03 11:05:13</td>\n",
       "      <td>239.90</td>\n",
       "      <td>19.93</td>\n",
       "      <td>259.83</td>\n",
       "    </tr>\n",
       "    <tr>\n",
       "      <th>2</th>\n",
       "      <td>000229ec398224ef6ca0657da4fc703e</td>\n",
       "      <td>1</td>\n",
       "      <td>c777355d18b72b67abbeef9df44fd0fd</td>\n",
       "      <td>5b51032eddd242adc84c38acab88f23d</td>\n",
       "      <td>2018-01-18 14:48:30</td>\n",
       "      <td>199.00</td>\n",
       "      <td>17.87</td>\n",
       "      <td>216.87</td>\n",
       "    </tr>\n",
       "    <tr>\n",
       "      <th>3</th>\n",
       "      <td>00024acbcdf0a6daa1e931b038114c75</td>\n",
       "      <td>1</td>\n",
       "      <td>7634da152a4610f1595efa32f14722fc</td>\n",
       "      <td>9d7a1d34a5052409006425275ba1c2b4</td>\n",
       "      <td>2018-08-15 10:10:18</td>\n",
       "      <td>12.99</td>\n",
       "      <td>12.79</td>\n",
       "      <td>25.78</td>\n",
       "    </tr>\n",
       "    <tr>\n",
       "      <th>4</th>\n",
       "      <td>00042b26cf59d7ce69dfabb4e55b4fd9</td>\n",
       "      <td>1</td>\n",
       "      <td>ac6c3623068f30de03045865e4e10089</td>\n",
       "      <td>df560393f3a51e74553ab94004ba5c87</td>\n",
       "      <td>2017-02-13 13:57:51</td>\n",
       "      <td>199.90</td>\n",
       "      <td>18.14</td>\n",
       "      <td>218.04</td>\n",
       "    </tr>\n",
       "    <tr>\n",
       "      <th>...</th>\n",
       "      <td>...</td>\n",
       "      <td>...</td>\n",
       "      <td>...</td>\n",
       "      <td>...</td>\n",
       "      <td>...</td>\n",
       "      <td>...</td>\n",
       "      <td>...</td>\n",
       "      <td>...</td>\n",
       "    </tr>\n",
       "    <tr>\n",
       "      <th>112645</th>\n",
       "      <td>fffc94f6ce00a00581880bf54a75a037</td>\n",
       "      <td>1</td>\n",
       "      <td>4aa6014eceb682077f9dc4bffebc05b0</td>\n",
       "      <td>b8bc237ba3788b23da09c0f1f3a3288c</td>\n",
       "      <td>2018-05-02 04:11:01</td>\n",
       "      <td>299.99</td>\n",
       "      <td>43.41</td>\n",
       "      <td>343.40</td>\n",
       "    </tr>\n",
       "    <tr>\n",
       "      <th>112646</th>\n",
       "      <td>fffcd46ef2263f404302a634eb57f7eb</td>\n",
       "      <td>1</td>\n",
       "      <td>32e07fd915822b0765e448c4dd74c828</td>\n",
       "      <td>f3c38ab652836d21de61fb8314b69182</td>\n",
       "      <td>2018-07-20 04:31:48</td>\n",
       "      <td>350.00</td>\n",
       "      <td>36.53</td>\n",
       "      <td>386.53</td>\n",
       "    </tr>\n",
       "    <tr>\n",
       "      <th>112647</th>\n",
       "      <td>fffce4705a9662cd70adb13d4a31832d</td>\n",
       "      <td>1</td>\n",
       "      <td>72a30483855e2eafc67aee5dc2560482</td>\n",
       "      <td>c3cfdc648177fdbbbb35635a37472c53</td>\n",
       "      <td>2017-10-30 17:14:25</td>\n",
       "      <td>99.90</td>\n",
       "      <td>16.95</td>\n",
       "      <td>116.85</td>\n",
       "    </tr>\n",
       "    <tr>\n",
       "      <th>112648</th>\n",
       "      <td>fffe18544ffabc95dfada21779c9644f</td>\n",
       "      <td>1</td>\n",
       "      <td>9c422a519119dcad7575db5af1ba540e</td>\n",
       "      <td>2b3e4a2a3ea8e01938cabda2a3e5cc79</td>\n",
       "      <td>2017-08-21 00:04:32</td>\n",
       "      <td>55.99</td>\n",
       "      <td>8.72</td>\n",
       "      <td>64.71</td>\n",
       "    </tr>\n",
       "    <tr>\n",
       "      <th>112649</th>\n",
       "      <td>fffe41c64501cc87c801fd61db3f6244</td>\n",
       "      <td>1</td>\n",
       "      <td>350688d9dc1e75ff97be326363655e01</td>\n",
       "      <td>f7ccf836d21b2fb1de37564105216cc1</td>\n",
       "      <td>2018-06-12 17:10:13</td>\n",
       "      <td>43.00</td>\n",
       "      <td>12.79</td>\n",
       "      <td>55.79</td>\n",
       "    </tr>\n",
       "  </tbody>\n",
       "</table>\n",
       "<p>112650 rows × 8 columns</p>\n",
       "</div>"
      ],
      "text/plain": [
       "                                order_id  order_item_id  \\\n",
       "0       00010242fe8c5a6d1ba2dd792cb16214              1   \n",
       "1       00018f77f2f0320c557190d7a144bdd3              1   \n",
       "2       000229ec398224ef6ca0657da4fc703e              1   \n",
       "3       00024acbcdf0a6daa1e931b038114c75              1   \n",
       "4       00042b26cf59d7ce69dfabb4e55b4fd9              1   \n",
       "...                                  ...            ...   \n",
       "112645  fffc94f6ce00a00581880bf54a75a037              1   \n",
       "112646  fffcd46ef2263f404302a634eb57f7eb              1   \n",
       "112647  fffce4705a9662cd70adb13d4a31832d              1   \n",
       "112648  fffe18544ffabc95dfada21779c9644f              1   \n",
       "112649  fffe41c64501cc87c801fd61db3f6244              1   \n",
       "\n",
       "                              product_id                         seller_id  \\\n",
       "0       4244733e06e7ecb4970a6e2683c13e61  48436dade18ac8b2bce089ec2a041202   \n",
       "1       e5f2d52b802189ee658865ca93d83a8f  dd7ddc04e1b6c2c614352b383efe2d36   \n",
       "2       c777355d18b72b67abbeef9df44fd0fd  5b51032eddd242adc84c38acab88f23d   \n",
       "3       7634da152a4610f1595efa32f14722fc  9d7a1d34a5052409006425275ba1c2b4   \n",
       "4       ac6c3623068f30de03045865e4e10089  df560393f3a51e74553ab94004ba5c87   \n",
       "...                                  ...                               ...   \n",
       "112645  4aa6014eceb682077f9dc4bffebc05b0  b8bc237ba3788b23da09c0f1f3a3288c   \n",
       "112646  32e07fd915822b0765e448c4dd74c828  f3c38ab652836d21de61fb8314b69182   \n",
       "112647  72a30483855e2eafc67aee5dc2560482  c3cfdc648177fdbbbb35635a37472c53   \n",
       "112648  9c422a519119dcad7575db5af1ba540e  2b3e4a2a3ea8e01938cabda2a3e5cc79   \n",
       "112649  350688d9dc1e75ff97be326363655e01  f7ccf836d21b2fb1de37564105216cc1   \n",
       "\n",
       "        shipping_limit_date   price  freight_value  total_item_value  \n",
       "0       2017-09-19 09:45:35   58.90          13.29             72.19  \n",
       "1       2017-05-03 11:05:13  239.90          19.93            259.83  \n",
       "2       2018-01-18 14:48:30  199.00          17.87            216.87  \n",
       "3       2018-08-15 10:10:18   12.99          12.79             25.78  \n",
       "4       2017-02-13 13:57:51  199.90          18.14            218.04  \n",
       "...                     ...     ...            ...               ...  \n",
       "112645  2018-05-02 04:11:01  299.99          43.41            343.40  \n",
       "112646  2018-07-20 04:31:48  350.00          36.53            386.53  \n",
       "112647  2017-10-30 17:14:25   99.90          16.95            116.85  \n",
       "112648  2017-08-21 00:04:32   55.99           8.72             64.71  \n",
       "112649  2018-06-12 17:10:13   43.00          12.79             55.79  \n",
       "\n",
       "[112650 rows x 8 columns]"
      ]
     },
     "execution_count": 30,
     "metadata": {},
     "output_type": "execute_result"
    }
   ],
   "source": [
    "df2"
   ]
  }
 ],
 "metadata": {
  "kernelspec": {
   "display_name": "base",
   "language": "python",
   "name": "python3"
  },
  "language_info": {
   "codemirror_mode": {
    "name": "ipython",
    "version": 3
   },
   "file_extension": ".py",
   "mimetype": "text/x-python",
   "name": "python",
   "nbconvert_exporter": "python",
   "pygments_lexer": "ipython3",
   "version": "3.13.5"
  }
 },
 "nbformat": 4,
 "nbformat_minor": 5
}
