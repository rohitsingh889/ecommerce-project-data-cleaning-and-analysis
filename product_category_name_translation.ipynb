{
 "cells": [
  {
   "cell_type": "code",
   "execution_count": 19,
   "id": "03599786",
   "metadata": {},
   "outputs": [],
   "source": [
    "import pandas as pd\n",
    "import numpy as np"
   ]
  },
  {
   "cell_type": "code",
   "execution_count": 20,
   "id": "d546c7aa",
   "metadata": {},
   "outputs": [],
   "source": [
    "df=pd.read_csv(r'C:\\DE\\csv files data\\Brazilian E-Commerce\\product_category_name_translation.csv', encoding='latin1')"
   ]
  },
  {
   "cell_type": "code",
   "execution_count": 21,
   "id": "77782435",
   "metadata": {},
   "outputs": [
    {
     "data": {
      "application/vnd.microsoft.datawrangler.viewer.v0+json": {
       "columns": [
        {
         "name": "index",
         "rawType": "int64",
         "type": "integer"
        },
        {
         "name": "ï»¿product_category_name",
         "rawType": "object",
         "type": "string"
        },
        {
         "name": "product_category_name_english",
         "rawType": "object",
         "type": "string"
        }
       ],
       "ref": "fe25756d-94d3-4ee8-8d59-20797442cbcf",
       "rows": [
        [
         "0",
         "beleza_saude",
         "health_beauty"
        ],
        [
         "1",
         "informatica_acessorios",
         "computers_accessories"
        ],
        [
         "2",
         "automotivo",
         "auto"
        ],
        [
         "3",
         "cama_mesa_banho",
         "bed_bath_table"
        ],
        [
         "4",
         "moveis_decoracao",
         "furniture_decor"
        ]
       ],
       "shape": {
        "columns": 2,
        "rows": 5
       }
      },
      "text/html": [
       "<div>\n",
       "<style scoped>\n",
       "    .dataframe tbody tr th:only-of-type {\n",
       "        vertical-align: middle;\n",
       "    }\n",
       "\n",
       "    .dataframe tbody tr th {\n",
       "        vertical-align: top;\n",
       "    }\n",
       "\n",
       "    .dataframe thead th {\n",
       "        text-align: right;\n",
       "    }\n",
       "</style>\n",
       "<table border=\"1\" class=\"dataframe\">\n",
       "  <thead>\n",
       "    <tr style=\"text-align: right;\">\n",
       "      <th></th>\n",
       "      <th>ï»¿product_category_name</th>\n",
       "      <th>product_category_name_english</th>\n",
       "    </tr>\n",
       "  </thead>\n",
       "  <tbody>\n",
       "    <tr>\n",
       "      <th>0</th>\n",
       "      <td>beleza_saude</td>\n",
       "      <td>health_beauty</td>\n",
       "    </tr>\n",
       "    <tr>\n",
       "      <th>1</th>\n",
       "      <td>informatica_acessorios</td>\n",
       "      <td>computers_accessories</td>\n",
       "    </tr>\n",
       "    <tr>\n",
       "      <th>2</th>\n",
       "      <td>automotivo</td>\n",
       "      <td>auto</td>\n",
       "    </tr>\n",
       "    <tr>\n",
       "      <th>3</th>\n",
       "      <td>cama_mesa_banho</td>\n",
       "      <td>bed_bath_table</td>\n",
       "    </tr>\n",
       "    <tr>\n",
       "      <th>4</th>\n",
       "      <td>moveis_decoracao</td>\n",
       "      <td>furniture_decor</td>\n",
       "    </tr>\n",
       "  </tbody>\n",
       "</table>\n",
       "</div>"
      ],
      "text/plain": [
       "  ï»¿product_category_name product_category_name_english\n",
       "0             beleza_saude                 health_beauty\n",
       "1   informatica_acessorios         computers_accessories\n",
       "2               automotivo                          auto\n",
       "3          cama_mesa_banho                bed_bath_table\n",
       "4         moveis_decoracao               furniture_decor"
      ]
     },
     "execution_count": 21,
     "metadata": {},
     "output_type": "execute_result"
    }
   ],
   "source": [
    "df.head()"
   ]
  },
  {
   "cell_type": "code",
   "execution_count": 22,
   "id": "12aafd82",
   "metadata": {},
   "outputs": [
    {
     "data": {
      "application/vnd.microsoft.datawrangler.viewer.v0+json": {
       "columns": [
        {
         "name": "index",
         "rawType": "int64",
         "type": "integer"
        },
        {
         "name": "ï»¿product_category_name",
         "rawType": "object",
         "type": "string"
        },
        {
         "name": "product_category_name_english",
         "rawType": "object",
         "type": "string"
        }
       ],
       "ref": "43869558-5b48-422f-8ab7-931312a936ee",
       "rows": [
        [
         "66",
         "flores",
         "flowers"
        ],
        [
         "67",
         "artes_e_artesanato",
         "arts_and_craftmanship"
        ],
        [
         "68",
         "fraldas_higiene",
         "diapers_and_hygiene"
        ],
        [
         "69",
         "fashion_roupa_infanto_juvenil",
         "fashion_childrens_clothes"
        ],
        [
         "70",
         "seguros_e_servicos",
         "security_and_services"
        ]
       ],
       "shape": {
        "columns": 2,
        "rows": 5
       }
      },
      "text/html": [
       "<div>\n",
       "<style scoped>\n",
       "    .dataframe tbody tr th:only-of-type {\n",
       "        vertical-align: middle;\n",
       "    }\n",
       "\n",
       "    .dataframe tbody tr th {\n",
       "        vertical-align: top;\n",
       "    }\n",
       "\n",
       "    .dataframe thead th {\n",
       "        text-align: right;\n",
       "    }\n",
       "</style>\n",
       "<table border=\"1\" class=\"dataframe\">\n",
       "  <thead>\n",
       "    <tr style=\"text-align: right;\">\n",
       "      <th></th>\n",
       "      <th>ï»¿product_category_name</th>\n",
       "      <th>product_category_name_english</th>\n",
       "    </tr>\n",
       "  </thead>\n",
       "  <tbody>\n",
       "    <tr>\n",
       "      <th>66</th>\n",
       "      <td>flores</td>\n",
       "      <td>flowers</td>\n",
       "    </tr>\n",
       "    <tr>\n",
       "      <th>67</th>\n",
       "      <td>artes_e_artesanato</td>\n",
       "      <td>arts_and_craftmanship</td>\n",
       "    </tr>\n",
       "    <tr>\n",
       "      <th>68</th>\n",
       "      <td>fraldas_higiene</td>\n",
       "      <td>diapers_and_hygiene</td>\n",
       "    </tr>\n",
       "    <tr>\n",
       "      <th>69</th>\n",
       "      <td>fashion_roupa_infanto_juvenil</td>\n",
       "      <td>fashion_childrens_clothes</td>\n",
       "    </tr>\n",
       "    <tr>\n",
       "      <th>70</th>\n",
       "      <td>seguros_e_servicos</td>\n",
       "      <td>security_and_services</td>\n",
       "    </tr>\n",
       "  </tbody>\n",
       "</table>\n",
       "</div>"
      ],
      "text/plain": [
       "         ï»¿product_category_name product_category_name_english\n",
       "66                         flores                       flowers\n",
       "67             artes_e_artesanato         arts_and_craftmanship\n",
       "68                fraldas_higiene           diapers_and_hygiene\n",
       "69  fashion_roupa_infanto_juvenil     fashion_childrens_clothes\n",
       "70             seguros_e_servicos         security_and_services"
      ]
     },
     "execution_count": 22,
     "metadata": {},
     "output_type": "execute_result"
    }
   ],
   "source": [
    "df.tail()"
   ]
  },
  {
   "cell_type": "code",
   "execution_count": 23,
   "id": "40854758",
   "metadata": {},
   "outputs": [
    {
     "name": "stdout",
     "output_type": "stream",
     "text": [
      "<class 'pandas.core.frame.DataFrame'>\n",
      "RangeIndex: 71 entries, 0 to 70\n",
      "Data columns (total 2 columns):\n",
      " #   Column                         Non-Null Count  Dtype \n",
      "---  ------                         --------------  ----- \n",
      " 0   ï»¿product_category_name       71 non-null     object\n",
      " 1   product_category_name_english  71 non-null     object\n",
      "dtypes: object(2)\n",
      "memory usage: 1.2+ KB\n"
     ]
    }
   ],
   "source": [
    "df.info()"
   ]
  },
  {
   "cell_type": "code",
   "execution_count": 24,
   "id": "ae0b7f03",
   "metadata": {},
   "outputs": [
    {
     "data": {
      "application/vnd.microsoft.datawrangler.viewer.v0+json": {
       "columns": [
        {
         "name": "index",
         "rawType": "object",
         "type": "string"
        },
        {
         "name": "ï»¿product_category_name",
         "rawType": "object",
         "type": "unknown"
        },
        {
         "name": "product_category_name_english",
         "rawType": "object",
         "type": "unknown"
        }
       ],
       "ref": "15b77d47-6c46-4446-9bd0-e34a33749b19",
       "rows": [
        [
         "count",
         "71",
         "71"
        ],
        [
         "unique",
         "71",
         "71"
        ],
        [
         "top",
         "beleza_saude",
         "health_beauty"
        ],
        [
         "freq",
         "1",
         "1"
        ]
       ],
       "shape": {
        "columns": 2,
        "rows": 4
       }
      },
      "text/html": [
       "<div>\n",
       "<style scoped>\n",
       "    .dataframe tbody tr th:only-of-type {\n",
       "        vertical-align: middle;\n",
       "    }\n",
       "\n",
       "    .dataframe tbody tr th {\n",
       "        vertical-align: top;\n",
       "    }\n",
       "\n",
       "    .dataframe thead th {\n",
       "        text-align: right;\n",
       "    }\n",
       "</style>\n",
       "<table border=\"1\" class=\"dataframe\">\n",
       "  <thead>\n",
       "    <tr style=\"text-align: right;\">\n",
       "      <th></th>\n",
       "      <th>ï»¿product_category_name</th>\n",
       "      <th>product_category_name_english</th>\n",
       "    </tr>\n",
       "  </thead>\n",
       "  <tbody>\n",
       "    <tr>\n",
       "      <th>count</th>\n",
       "      <td>71</td>\n",
       "      <td>71</td>\n",
       "    </tr>\n",
       "    <tr>\n",
       "      <th>unique</th>\n",
       "      <td>71</td>\n",
       "      <td>71</td>\n",
       "    </tr>\n",
       "    <tr>\n",
       "      <th>top</th>\n",
       "      <td>beleza_saude</td>\n",
       "      <td>health_beauty</td>\n",
       "    </tr>\n",
       "    <tr>\n",
       "      <th>freq</th>\n",
       "      <td>1</td>\n",
       "      <td>1</td>\n",
       "    </tr>\n",
       "  </tbody>\n",
       "</table>\n",
       "</div>"
      ],
      "text/plain": [
       "       ï»¿product_category_name product_category_name_english\n",
       "count                        71                            71\n",
       "unique                       71                            71\n",
       "top                beleza_saude                 health_beauty\n",
       "freq                          1                             1"
      ]
     },
     "execution_count": 24,
     "metadata": {},
     "output_type": "execute_result"
    }
   ],
   "source": [
    "df.describe()"
   ]
  },
  {
   "cell_type": "code",
   "execution_count": 25,
   "id": "a7798ad1",
   "metadata": {},
   "outputs": [
    {
     "data": {
      "text/plain": [
       "Index(['ï»¿product_category_name', 'product_category_name_english'], dtype='object')"
      ]
     },
     "execution_count": 25,
     "metadata": {},
     "output_type": "execute_result"
    }
   ],
   "source": [
    "df.columns"
   ]
  },
  {
   "cell_type": "code",
   "execution_count": 26,
   "id": "d2a98b97",
   "metadata": {},
   "outputs": [
    {
     "data": {
      "application/vnd.microsoft.datawrangler.viewer.v0+json": {
       "columns": [
        {
         "name": "index",
         "rawType": "int64",
         "type": "integer"
        },
        {
         "name": "ï»¿product_category_name",
         "rawType": "object",
         "type": "string"
        },
        {
         "name": "product_category_name_english",
         "rawType": "object",
         "type": "string"
        }
       ],
       "ref": "0848a0c9-d3b4-44c8-a335-25a7c73679c8",
       "rows": [
        [
         "0",
         "beleza_saude",
         "health_beauty"
        ],
        [
         "1",
         "informatica_acessorios",
         "computers_accessories"
        ],
        [
         "2",
         "automotivo",
         "auto"
        ],
        [
         "3",
         "cama_mesa_banho",
         "bed_bath_table"
        ],
        [
         "4",
         "moveis_decoracao",
         "furniture_decor"
        ],
        [
         "5",
         "esporte_lazer",
         "sports_leisure"
        ],
        [
         "6",
         "perfumaria",
         "perfumery"
        ],
        [
         "7",
         "utilidades_domesticas",
         "housewares"
        ],
        [
         "8",
         "telefonia",
         "telephony"
        ],
        [
         "9",
         "relogios_presentes",
         "watches_gifts"
        ],
        [
         "10",
         "alimentos_bebidas",
         "food_drink"
        ],
        [
         "11",
         "bebes",
         "baby"
        ],
        [
         "12",
         "papelaria",
         "stationery"
        ],
        [
         "13",
         "tablets_impressao_imagem",
         "tablets_printing_image"
        ],
        [
         "14",
         "brinquedos",
         "toys"
        ],
        [
         "15",
         "telefonia_fixa",
         "fixed_telephony"
        ],
        [
         "16",
         "ferramentas_jardim",
         "garden_tools"
        ],
        [
         "17",
         "fashion_bolsas_e_acessorios",
         "fashion_bags_accessories"
        ],
        [
         "18",
         "eletroportateis",
         "small_appliances"
        ],
        [
         "19",
         "consoles_games",
         "consoles_games"
        ],
        [
         "20",
         "audio",
         "audio"
        ],
        [
         "21",
         "fashion_calcados",
         "fashion_shoes"
        ],
        [
         "22",
         "cool_stuff",
         "cool_stuff"
        ],
        [
         "23",
         "malas_acessorios",
         "luggage_accessories"
        ],
        [
         "24",
         "climatizacao",
         "air_conditioning"
        ],
        [
         "25",
         "construcao_ferramentas_construcao",
         "construction_tools_construction"
        ],
        [
         "26",
         "moveis_cozinha_area_de_servico_jantar_e_jardim",
         "kitchen_dining_laundry_garden_furniture"
        ],
        [
         "27",
         "construcao_ferramentas_jardim",
         "costruction_tools_garden"
        ],
        [
         "28",
         "fashion_roupa_masculina",
         "fashion_male_clothing"
        ],
        [
         "29",
         "pet_shop",
         "pet_shop"
        ],
        [
         "30",
         "moveis_escritorio",
         "office_furniture"
        ],
        [
         "31",
         "market_place",
         "market_place"
        ],
        [
         "32",
         "eletronicos",
         "electronics"
        ],
        [
         "33",
         "eletrodomesticos",
         "home_appliances"
        ],
        [
         "34",
         "artigos_de_festas",
         "party_supplies"
        ],
        [
         "35",
         "casa_conforto",
         "home_confort"
        ],
        [
         "36",
         "construcao_ferramentas_ferramentas",
         "costruction_tools_tools"
        ],
        [
         "37",
         "agro_industria_e_comercio",
         "agro_industry_and_commerce"
        ],
        [
         "38",
         "moveis_colchao_e_estofado",
         "furniture_mattress_and_upholstery"
        ],
        [
         "39",
         "livros_tecnicos",
         "books_technical"
        ],
        [
         "40",
         "casa_construcao",
         "home_construction"
        ],
        [
         "41",
         "instrumentos_musicais",
         "musical_instruments"
        ],
        [
         "42",
         "moveis_sala",
         "furniture_living_room"
        ],
        [
         "43",
         "construcao_ferramentas_iluminacao",
         "construction_tools_lights"
        ],
        [
         "44",
         "industria_comercio_e_negocios",
         "industry_commerce_and_business"
        ],
        [
         "45",
         "alimentos",
         "food"
        ],
        [
         "46",
         "artes",
         "art"
        ],
        [
         "47",
         "moveis_quarto",
         "furniture_bedroom"
        ],
        [
         "48",
         "livros_interesse_geral",
         "books_general_interest"
        ],
        [
         "49",
         "construcao_ferramentas_seguranca",
         "construction_tools_safety"
        ]
       ],
       "shape": {
        "columns": 2,
        "rows": 71
       }
      },
      "text/html": [
       "<div>\n",
       "<style scoped>\n",
       "    .dataframe tbody tr th:only-of-type {\n",
       "        vertical-align: middle;\n",
       "    }\n",
       "\n",
       "    .dataframe tbody tr th {\n",
       "        vertical-align: top;\n",
       "    }\n",
       "\n",
       "    .dataframe thead th {\n",
       "        text-align: right;\n",
       "    }\n",
       "</style>\n",
       "<table border=\"1\" class=\"dataframe\">\n",
       "  <thead>\n",
       "    <tr style=\"text-align: right;\">\n",
       "      <th></th>\n",
       "      <th>ï»¿product_category_name</th>\n",
       "      <th>product_category_name_english</th>\n",
       "    </tr>\n",
       "  </thead>\n",
       "  <tbody>\n",
       "    <tr>\n",
       "      <th>0</th>\n",
       "      <td>beleza_saude</td>\n",
       "      <td>health_beauty</td>\n",
       "    </tr>\n",
       "    <tr>\n",
       "      <th>1</th>\n",
       "      <td>informatica_acessorios</td>\n",
       "      <td>computers_accessories</td>\n",
       "    </tr>\n",
       "    <tr>\n",
       "      <th>2</th>\n",
       "      <td>automotivo</td>\n",
       "      <td>auto</td>\n",
       "    </tr>\n",
       "    <tr>\n",
       "      <th>3</th>\n",
       "      <td>cama_mesa_banho</td>\n",
       "      <td>bed_bath_table</td>\n",
       "    </tr>\n",
       "    <tr>\n",
       "      <th>4</th>\n",
       "      <td>moveis_decoracao</td>\n",
       "      <td>furniture_decor</td>\n",
       "    </tr>\n",
       "    <tr>\n",
       "      <th>...</th>\n",
       "      <td>...</td>\n",
       "      <td>...</td>\n",
       "    </tr>\n",
       "    <tr>\n",
       "      <th>66</th>\n",
       "      <td>flores</td>\n",
       "      <td>flowers</td>\n",
       "    </tr>\n",
       "    <tr>\n",
       "      <th>67</th>\n",
       "      <td>artes_e_artesanato</td>\n",
       "      <td>arts_and_craftmanship</td>\n",
       "    </tr>\n",
       "    <tr>\n",
       "      <th>68</th>\n",
       "      <td>fraldas_higiene</td>\n",
       "      <td>diapers_and_hygiene</td>\n",
       "    </tr>\n",
       "    <tr>\n",
       "      <th>69</th>\n",
       "      <td>fashion_roupa_infanto_juvenil</td>\n",
       "      <td>fashion_childrens_clothes</td>\n",
       "    </tr>\n",
       "    <tr>\n",
       "      <th>70</th>\n",
       "      <td>seguros_e_servicos</td>\n",
       "      <td>security_and_services</td>\n",
       "    </tr>\n",
       "  </tbody>\n",
       "</table>\n",
       "<p>71 rows × 2 columns</p>\n",
       "</div>"
      ],
      "text/plain": [
       "         ï»¿product_category_name product_category_name_english\n",
       "0                    beleza_saude                 health_beauty\n",
       "1          informatica_acessorios         computers_accessories\n",
       "2                      automotivo                          auto\n",
       "3                 cama_mesa_banho                bed_bath_table\n",
       "4                moveis_decoracao               furniture_decor\n",
       "..                            ...                           ...\n",
       "66                         flores                       flowers\n",
       "67             artes_e_artesanato         arts_and_craftmanship\n",
       "68                fraldas_higiene           diapers_and_hygiene\n",
       "69  fashion_roupa_infanto_juvenil     fashion_childrens_clothes\n",
       "70             seguros_e_servicos         security_and_services\n",
       "\n",
       "[71 rows x 2 columns]"
      ]
     },
     "execution_count": 26,
     "metadata": {},
     "output_type": "execute_result"
    }
   ],
   "source": [
    "df"
   ]
  },
  {
   "cell_type": "markdown",
   "id": "4fb2aaf7",
   "metadata": {},
   "source": [
    "looks fine then saving....."
   ]
  },
  {
   "cell_type": "code",
   "execution_count": 27,
   "id": "c2a1c436",
   "metadata": {},
   "outputs": [],
   "source": [
    "df.to_csv(r'C:\\DE\\csv files data\\Brazilian E-Commerce\\Cleaned_product_category_name_translation.csv', index=False)"
   ]
  }
 ],
 "metadata": {
  "kernelspec": {
   "display_name": "base",
   "language": "python",
   "name": "python3"
  },
  "language_info": {
   "codemirror_mode": {
    "name": "ipython",
    "version": 3
   },
   "file_extension": ".py",
   "mimetype": "text/x-python",
   "name": "python",
   "nbconvert_exporter": "python",
   "pygments_lexer": "ipython3",
   "version": "3.13.5"
  }
 },
 "nbformat": 4,
 "nbformat_minor": 5
}
