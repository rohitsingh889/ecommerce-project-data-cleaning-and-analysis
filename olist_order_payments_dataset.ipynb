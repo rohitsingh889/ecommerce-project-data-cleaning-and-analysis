{
 "cells": [
  {
   "cell_type": "code",
   "execution_count": 1,
   "id": "38be48fd",
   "metadata": {},
   "outputs": [],
   "source": [
    "import pandas as pd"
   ]
  },
  {
   "cell_type": "code",
   "execution_count": 2,
   "id": "c925c475",
   "metadata": {},
   "outputs": [],
   "source": [
    "df=pd.read_csv(r'C:\\DE\\csv files data\\Brazilian E-Commerce\\olist_order_payments_dataset.csv')"
   ]
  },
  {
   "cell_type": "code",
   "execution_count": 3,
   "id": "98740871",
   "metadata": {},
   "outputs": [
    {
     "data": {
      "application/vnd.microsoft.datawrangler.viewer.v0+json": {
       "columns": [
        {
         "name": "index",
         "rawType": "int64",
         "type": "integer"
        },
        {
         "name": "order_id",
         "rawType": "object",
         "type": "string"
        },
        {
         "name": "payment_sequential",
         "rawType": "int64",
         "type": "integer"
        },
        {
         "name": "payment_type",
         "rawType": "object",
         "type": "string"
        },
        {
         "name": "payment_installments",
         "rawType": "int64",
         "type": "integer"
        },
        {
         "name": "payment_value",
         "rawType": "float64",
         "type": "float"
        }
       ],
       "ref": "1e048643-f079-4612-82ad-807ea6880ffc",
       "rows": [
        [
         "0",
         "b81ef226f3fe1789b1e8b2acac839d17",
         "1",
         "credit_card",
         "8",
         "99.33"
        ],
        [
         "1",
         "a9810da82917af2d9aefd1278f1dcfa0",
         "1",
         "credit_card",
         "1",
         "24.39"
        ],
        [
         "2",
         "25e8ea4e93396b6fa0d3dd708e76c1bd",
         "1",
         "credit_card",
         "1",
         "65.71"
        ],
        [
         "3",
         "ba78997921bbcdc1373bb41e913ab953",
         "1",
         "credit_card",
         "8",
         "107.78"
        ],
        [
         "4",
         "42fdf880ba16b47b59251dd489d4441a",
         "1",
         "credit_card",
         "2",
         "128.45"
        ],
        [
         "5",
         "298fcdf1f73eb413e4d26d01b25bc1cd",
         "1",
         "credit_card",
         "2",
         "96.12"
        ],
        [
         "6",
         "771ee386b001f06208a7419e4fc1bbd7",
         "1",
         "credit_card",
         "1",
         "81.16"
        ],
        [
         "7",
         "3d7239c394a212faae122962df514ac7",
         "1",
         "credit_card",
         "3",
         "51.84"
        ],
        [
         "8",
         "1f78449c87a54faf9e96e88ba1491fa9",
         "1",
         "credit_card",
         "6",
         "341.09"
        ],
        [
         "9",
         "0573b5e23cbd798006520e1d5b4c6714",
         "1",
         "boleto",
         "1",
         "51.95"
        ],
        [
         "10",
         "d88e0d5fa41661ce03cf6cf336527646",
         "1",
         "credit_card",
         "8",
         "188.73"
        ],
        [
         "11",
         "2480f727e869fdeb397244a21b721b67",
         "1",
         "credit_card",
         "1",
         "141.9"
        ],
        [
         "12",
         "616105c9352a9668c38303ad44e056cd",
         "1",
         "credit_card",
         "1",
         "75.78"
        ],
        [
         "13",
         "cf95215a722f3ebf29e6bbab87a29e61",
         "1",
         "credit_card",
         "5",
         "102.66"
        ],
        [
         "14",
         "769214176682788a92801d8907fa1b40",
         "1",
         "credit_card",
         "4",
         "105.28"
        ],
        [
         "15",
         "12e5cfe0e4716b59afb0e0f4a3bd6570",
         "1",
         "credit_card",
         "10",
         "157.45"
        ],
        [
         "16",
         "61059985a6fc0ad64e95d9944caacdad",
         "1",
         "credit_card",
         "1",
         "132.04"
        ],
        [
         "17",
         "79da3f5fe31ad1e454f06f95dc032ad5",
         "1",
         "credit_card",
         "1",
         "98.94"
        ],
        [
         "18",
         "8ac09207f415d55acff302df7d6a895c",
         "1",
         "credit_card",
         "4",
         "244.15"
        ],
        [
         "19",
         "b2349a3f20dfbeef62e7b31baa22f84b",
         "1",
         "credit_card",
         "3",
         "136.71"
        ],
        [
         "20",
         "5a1f6d22f7dfb061ef29216b9af687a1",
         "1",
         "credit_card",
         "4",
         "47.69"
        ],
        [
         "21",
         "4214cda550ece8ee66441f459dc33a8c",
         "1",
         "credit_card",
         "2",
         "170.57"
        ],
        [
         "22",
         "adfbf6c2a620196f9a3ec747491c72b7",
         "1",
         "credit_card",
         "4",
         "67.5"
        ],
        [
         "23",
         "4d680edbaa7d3d9bed69532957368a03",
         "1",
         "credit_card",
         "10",
         "353.09"
        ],
        [
         "24",
         "8cd68144cdb62dc0d60848cf8616d2a4",
         "1",
         "boleto",
         "1",
         "330.66"
        ],
        [
         "25",
         "5cfd514482e22bc992e7693f0e3e8df7",
         "2",
         "voucher",
         "1",
         "45.17"
        ],
        [
         "26",
         "d0a945f85ba1074b60aac97ade7e240e",
         "1",
         "credit_card",
         "2",
         "541.0"
        ],
        [
         "27",
         "c39414c195d0f94c9d9c35e7c6ed4f1a",
         "1",
         "credit_card",
         "2",
         "139.22"
        ],
        [
         "28",
         "5d9c5817e278892b7498d90bfa28ade8",
         "1",
         "credit_card",
         "2",
         "290.16"
        ],
        [
         "29",
         "b69b9260e79a0da00e15f48de1bd2524",
         "1",
         "boleto",
         "1",
         "283.34"
        ],
        [
         "30",
         "f45074ae38f2e01d9b854ec8d40362ff",
         "1",
         "credit_card",
         "1",
         "13.78"
        ],
        [
         "31",
         "81cedc4d2132eb6f512354166e51b187",
         "1",
         "credit_card",
         "1",
         "30.28"
        ],
        [
         "32",
         "595f598849d89203c28d05d0fbf3f92e",
         "1",
         "credit_card",
         "1",
         "26.58"
        ],
        [
         "33",
         "f9d0ec2fa088ac583e1ccd15b6686073",
         "1",
         "credit_card",
         "1",
         "89.68"
        ],
        [
         "34",
         "e647bf617de735448a4ba54f8910393c",
         "1",
         "credit_card",
         "1",
         "65.09"
        ],
        [
         "35",
         "b2bb080b6bc860118a246fd9b6fad6da",
         "1",
         "credit_card",
         "1",
         "173.84"
        ],
        [
         "36",
         "23f10f509600c30cf2852f9dbdf28fc3",
         "1",
         "credit_card",
         "1",
         "103.49"
        ],
        [
         "37",
         "f86f6472fa9f395d8d9a6751ca118afb",
         "1",
         "credit_card",
         "1",
         "64.03"
        ],
        [
         "38",
         "1dcf0c8cd36ffaf57784fbdc90079310",
         "1",
         "credit_card",
         "3",
         "157.15"
        ],
        [
         "39",
         "00d8d65b666158b633f96054d31af43b",
         "1",
         "boleto",
         "1",
         "130.88"
        ],
        [
         "40",
         "cf30fe76d1505192acee1c6dccb15545",
         "1",
         "credit_card",
         "2",
         "47.72"
        ],
        [
         "41",
         "d3e774a185c0b1b2286ffd6c70abe2e6",
         "1",
         "credit_card",
         "8",
         "117.74"
        ],
        [
         "42",
         "32b1d8f3789a57f1f752e20ac7404b4c",
         "1",
         "boleto",
         "1",
         "56.6"
        ],
        [
         "43",
         "c10d412026c4077b8e83acf0fea04eee",
         "1",
         "credit_card",
         "1",
         "266.16"
        ],
        [
         "44",
         "56c3277583e16009c925fdf116df420f",
         "1",
         "boleto",
         "1",
         "31.38"
        ],
        [
         "45",
         "0e0441786430b7cfcd0d91f822ea4c99",
         "1",
         "credit_card",
         "1",
         "121.49"
        ],
        [
         "46",
         "6ffb3f1686bceae3466facf7e02ce3fb",
         "1",
         "credit_card",
         "1",
         "32.0"
        ],
        [
         "47",
         "afef48d3c8a0b1b7c9b7f8f922fb5674",
         "1",
         "credit_card",
         "5",
         "153.41"
        ],
        [
         "48",
         "c0db7d31ace61fc360a3eaa34dd3457c",
         "1",
         "credit_card",
         "5",
         "65.71"
        ],
        [
         "49",
         "d574338f566ca28dd67820f48ec1f1d8",
         "1",
         "credit_card",
         "4",
         "278.22"
        ]
       ],
       "shape": {
        "columns": 5,
        "rows": 103886
       }
      },
      "text/html": [
       "<div>\n",
       "<style scoped>\n",
       "    .dataframe tbody tr th:only-of-type {\n",
       "        vertical-align: middle;\n",
       "    }\n",
       "\n",
       "    .dataframe tbody tr th {\n",
       "        vertical-align: top;\n",
       "    }\n",
       "\n",
       "    .dataframe thead th {\n",
       "        text-align: right;\n",
       "    }\n",
       "</style>\n",
       "<table border=\"1\" class=\"dataframe\">\n",
       "  <thead>\n",
       "    <tr style=\"text-align: right;\">\n",
       "      <th></th>\n",
       "      <th>order_id</th>\n",
       "      <th>payment_sequential</th>\n",
       "      <th>payment_type</th>\n",
       "      <th>payment_installments</th>\n",
       "      <th>payment_value</th>\n",
       "    </tr>\n",
       "  </thead>\n",
       "  <tbody>\n",
       "    <tr>\n",
       "      <th>0</th>\n",
       "      <td>b81ef226f3fe1789b1e8b2acac839d17</td>\n",
       "      <td>1</td>\n",
       "      <td>credit_card</td>\n",
       "      <td>8</td>\n",
       "      <td>99.33</td>\n",
       "    </tr>\n",
       "    <tr>\n",
       "      <th>1</th>\n",
       "      <td>a9810da82917af2d9aefd1278f1dcfa0</td>\n",
       "      <td>1</td>\n",
       "      <td>credit_card</td>\n",
       "      <td>1</td>\n",
       "      <td>24.39</td>\n",
       "    </tr>\n",
       "    <tr>\n",
       "      <th>2</th>\n",
       "      <td>25e8ea4e93396b6fa0d3dd708e76c1bd</td>\n",
       "      <td>1</td>\n",
       "      <td>credit_card</td>\n",
       "      <td>1</td>\n",
       "      <td>65.71</td>\n",
       "    </tr>\n",
       "    <tr>\n",
       "      <th>3</th>\n",
       "      <td>ba78997921bbcdc1373bb41e913ab953</td>\n",
       "      <td>1</td>\n",
       "      <td>credit_card</td>\n",
       "      <td>8</td>\n",
       "      <td>107.78</td>\n",
       "    </tr>\n",
       "    <tr>\n",
       "      <th>4</th>\n",
       "      <td>42fdf880ba16b47b59251dd489d4441a</td>\n",
       "      <td>1</td>\n",
       "      <td>credit_card</td>\n",
       "      <td>2</td>\n",
       "      <td>128.45</td>\n",
       "    </tr>\n",
       "    <tr>\n",
       "      <th>...</th>\n",
       "      <td>...</td>\n",
       "      <td>...</td>\n",
       "      <td>...</td>\n",
       "      <td>...</td>\n",
       "      <td>...</td>\n",
       "    </tr>\n",
       "    <tr>\n",
       "      <th>103881</th>\n",
       "      <td>0406037ad97740d563a178ecc7a2075c</td>\n",
       "      <td>1</td>\n",
       "      <td>boleto</td>\n",
       "      <td>1</td>\n",
       "      <td>363.31</td>\n",
       "    </tr>\n",
       "    <tr>\n",
       "      <th>103882</th>\n",
       "      <td>7b905861d7c825891d6347454ea7863f</td>\n",
       "      <td>1</td>\n",
       "      <td>credit_card</td>\n",
       "      <td>2</td>\n",
       "      <td>96.80</td>\n",
       "    </tr>\n",
       "    <tr>\n",
       "      <th>103883</th>\n",
       "      <td>32609bbb3dd69b3c066a6860554a77bf</td>\n",
       "      <td>1</td>\n",
       "      <td>credit_card</td>\n",
       "      <td>1</td>\n",
       "      <td>47.77</td>\n",
       "    </tr>\n",
       "    <tr>\n",
       "      <th>103884</th>\n",
       "      <td>b8b61059626efa996a60be9bb9320e10</td>\n",
       "      <td>1</td>\n",
       "      <td>credit_card</td>\n",
       "      <td>5</td>\n",
       "      <td>369.54</td>\n",
       "    </tr>\n",
       "    <tr>\n",
       "      <th>103885</th>\n",
       "      <td>28bbae6599b09d39ca406b747b6632b1</td>\n",
       "      <td>1</td>\n",
       "      <td>boleto</td>\n",
       "      <td>1</td>\n",
       "      <td>191.58</td>\n",
       "    </tr>\n",
       "  </tbody>\n",
       "</table>\n",
       "<p>103886 rows × 5 columns</p>\n",
       "</div>"
      ],
      "text/plain": [
       "                                order_id  payment_sequential payment_type  \\\n",
       "0       b81ef226f3fe1789b1e8b2acac839d17                   1  credit_card   \n",
       "1       a9810da82917af2d9aefd1278f1dcfa0                   1  credit_card   \n",
       "2       25e8ea4e93396b6fa0d3dd708e76c1bd                   1  credit_card   \n",
       "3       ba78997921bbcdc1373bb41e913ab953                   1  credit_card   \n",
       "4       42fdf880ba16b47b59251dd489d4441a                   1  credit_card   \n",
       "...                                  ...                 ...          ...   \n",
       "103881  0406037ad97740d563a178ecc7a2075c                   1       boleto   \n",
       "103882  7b905861d7c825891d6347454ea7863f                   1  credit_card   \n",
       "103883  32609bbb3dd69b3c066a6860554a77bf                   1  credit_card   \n",
       "103884  b8b61059626efa996a60be9bb9320e10                   1  credit_card   \n",
       "103885  28bbae6599b09d39ca406b747b6632b1                   1       boleto   \n",
       "\n",
       "        payment_installments  payment_value  \n",
       "0                          8          99.33  \n",
       "1                          1          24.39  \n",
       "2                          1          65.71  \n",
       "3                          8         107.78  \n",
       "4                          2         128.45  \n",
       "...                      ...            ...  \n",
       "103881                     1         363.31  \n",
       "103882                     2          96.80  \n",
       "103883                     1          47.77  \n",
       "103884                     5         369.54  \n",
       "103885                     1         191.58  \n",
       "\n",
       "[103886 rows x 5 columns]"
      ]
     },
     "execution_count": 3,
     "metadata": {},
     "output_type": "execute_result"
    }
   ],
   "source": [
    "df"
   ]
  },
  {
   "cell_type": "code",
   "execution_count": 4,
   "id": "e9d1f96f",
   "metadata": {},
   "outputs": [
    {
     "data": {
      "application/vnd.microsoft.datawrangler.viewer.v0+json": {
       "columns": [
        {
         "name": "index",
         "rawType": "int64",
         "type": "integer"
        },
        {
         "name": "order_id",
         "rawType": "object",
         "type": "string"
        },
        {
         "name": "payment_sequential",
         "rawType": "int64",
         "type": "integer"
        },
        {
         "name": "payment_type",
         "rawType": "object",
         "type": "string"
        },
        {
         "name": "payment_installments",
         "rawType": "int64",
         "type": "integer"
        },
        {
         "name": "payment_value",
         "rawType": "float64",
         "type": "float"
        }
       ],
       "ref": "28999627-8590-434c-bd8b-67ff8a53224a",
       "rows": [
        [
         "0",
         "b81ef226f3fe1789b1e8b2acac839d17",
         "1",
         "credit_card",
         "8",
         "99.33"
        ],
        [
         "1",
         "a9810da82917af2d9aefd1278f1dcfa0",
         "1",
         "credit_card",
         "1",
         "24.39"
        ],
        [
         "2",
         "25e8ea4e93396b6fa0d3dd708e76c1bd",
         "1",
         "credit_card",
         "1",
         "65.71"
        ],
        [
         "3",
         "ba78997921bbcdc1373bb41e913ab953",
         "1",
         "credit_card",
         "8",
         "107.78"
        ],
        [
         "4",
         "42fdf880ba16b47b59251dd489d4441a",
         "1",
         "credit_card",
         "2",
         "128.45"
        ]
       ],
       "shape": {
        "columns": 5,
        "rows": 5
       }
      },
      "text/html": [
       "<div>\n",
       "<style scoped>\n",
       "    .dataframe tbody tr th:only-of-type {\n",
       "        vertical-align: middle;\n",
       "    }\n",
       "\n",
       "    .dataframe tbody tr th {\n",
       "        vertical-align: top;\n",
       "    }\n",
       "\n",
       "    .dataframe thead th {\n",
       "        text-align: right;\n",
       "    }\n",
       "</style>\n",
       "<table border=\"1\" class=\"dataframe\">\n",
       "  <thead>\n",
       "    <tr style=\"text-align: right;\">\n",
       "      <th></th>\n",
       "      <th>order_id</th>\n",
       "      <th>payment_sequential</th>\n",
       "      <th>payment_type</th>\n",
       "      <th>payment_installments</th>\n",
       "      <th>payment_value</th>\n",
       "    </tr>\n",
       "  </thead>\n",
       "  <tbody>\n",
       "    <tr>\n",
       "      <th>0</th>\n",
       "      <td>b81ef226f3fe1789b1e8b2acac839d17</td>\n",
       "      <td>1</td>\n",
       "      <td>credit_card</td>\n",
       "      <td>8</td>\n",
       "      <td>99.33</td>\n",
       "    </tr>\n",
       "    <tr>\n",
       "      <th>1</th>\n",
       "      <td>a9810da82917af2d9aefd1278f1dcfa0</td>\n",
       "      <td>1</td>\n",
       "      <td>credit_card</td>\n",
       "      <td>1</td>\n",
       "      <td>24.39</td>\n",
       "    </tr>\n",
       "    <tr>\n",
       "      <th>2</th>\n",
       "      <td>25e8ea4e93396b6fa0d3dd708e76c1bd</td>\n",
       "      <td>1</td>\n",
       "      <td>credit_card</td>\n",
       "      <td>1</td>\n",
       "      <td>65.71</td>\n",
       "    </tr>\n",
       "    <tr>\n",
       "      <th>3</th>\n",
       "      <td>ba78997921bbcdc1373bb41e913ab953</td>\n",
       "      <td>1</td>\n",
       "      <td>credit_card</td>\n",
       "      <td>8</td>\n",
       "      <td>107.78</td>\n",
       "    </tr>\n",
       "    <tr>\n",
       "      <th>4</th>\n",
       "      <td>42fdf880ba16b47b59251dd489d4441a</td>\n",
       "      <td>1</td>\n",
       "      <td>credit_card</td>\n",
       "      <td>2</td>\n",
       "      <td>128.45</td>\n",
       "    </tr>\n",
       "  </tbody>\n",
       "</table>\n",
       "</div>"
      ],
      "text/plain": [
       "                           order_id  payment_sequential payment_type  \\\n",
       "0  b81ef226f3fe1789b1e8b2acac839d17                   1  credit_card   \n",
       "1  a9810da82917af2d9aefd1278f1dcfa0                   1  credit_card   \n",
       "2  25e8ea4e93396b6fa0d3dd708e76c1bd                   1  credit_card   \n",
       "3  ba78997921bbcdc1373bb41e913ab953                   1  credit_card   \n",
       "4  42fdf880ba16b47b59251dd489d4441a                   1  credit_card   \n",
       "\n",
       "   payment_installments  payment_value  \n",
       "0                     8          99.33  \n",
       "1                     1          24.39  \n",
       "2                     1          65.71  \n",
       "3                     8         107.78  \n",
       "4                     2         128.45  "
      ]
     },
     "execution_count": 4,
     "metadata": {},
     "output_type": "execute_result"
    }
   ],
   "source": [
    "df.head()"
   ]
  },
  {
   "cell_type": "code",
   "execution_count": 5,
   "id": "e8f3ed00",
   "metadata": {},
   "outputs": [
    {
     "data": {
      "application/vnd.microsoft.datawrangler.viewer.v0+json": {
       "columns": [
        {
         "name": "index",
         "rawType": "int64",
         "type": "integer"
        },
        {
         "name": "order_id",
         "rawType": "object",
         "type": "string"
        },
        {
         "name": "payment_sequential",
         "rawType": "int64",
         "type": "integer"
        },
        {
         "name": "payment_type",
         "rawType": "object",
         "type": "string"
        },
        {
         "name": "payment_installments",
         "rawType": "int64",
         "type": "integer"
        },
        {
         "name": "payment_value",
         "rawType": "float64",
         "type": "float"
        }
       ],
       "ref": "79d5bf5e-acc3-4f10-b0ef-1ccf8855a8d5",
       "rows": [
        [
         "103881",
         "0406037ad97740d563a178ecc7a2075c",
         "1",
         "boleto",
         "1",
         "363.31"
        ],
        [
         "103882",
         "7b905861d7c825891d6347454ea7863f",
         "1",
         "credit_card",
         "2",
         "96.8"
        ],
        [
         "103883",
         "32609bbb3dd69b3c066a6860554a77bf",
         "1",
         "credit_card",
         "1",
         "47.77"
        ],
        [
         "103884",
         "b8b61059626efa996a60be9bb9320e10",
         "1",
         "credit_card",
         "5",
         "369.54"
        ],
        [
         "103885",
         "28bbae6599b09d39ca406b747b6632b1",
         "1",
         "boleto",
         "1",
         "191.58"
        ]
       ],
       "shape": {
        "columns": 5,
        "rows": 5
       }
      },
      "text/html": [
       "<div>\n",
       "<style scoped>\n",
       "    .dataframe tbody tr th:only-of-type {\n",
       "        vertical-align: middle;\n",
       "    }\n",
       "\n",
       "    .dataframe tbody tr th {\n",
       "        vertical-align: top;\n",
       "    }\n",
       "\n",
       "    .dataframe thead th {\n",
       "        text-align: right;\n",
       "    }\n",
       "</style>\n",
       "<table border=\"1\" class=\"dataframe\">\n",
       "  <thead>\n",
       "    <tr style=\"text-align: right;\">\n",
       "      <th></th>\n",
       "      <th>order_id</th>\n",
       "      <th>payment_sequential</th>\n",
       "      <th>payment_type</th>\n",
       "      <th>payment_installments</th>\n",
       "      <th>payment_value</th>\n",
       "    </tr>\n",
       "  </thead>\n",
       "  <tbody>\n",
       "    <tr>\n",
       "      <th>103881</th>\n",
       "      <td>0406037ad97740d563a178ecc7a2075c</td>\n",
       "      <td>1</td>\n",
       "      <td>boleto</td>\n",
       "      <td>1</td>\n",
       "      <td>363.31</td>\n",
       "    </tr>\n",
       "    <tr>\n",
       "      <th>103882</th>\n",
       "      <td>7b905861d7c825891d6347454ea7863f</td>\n",
       "      <td>1</td>\n",
       "      <td>credit_card</td>\n",
       "      <td>2</td>\n",
       "      <td>96.80</td>\n",
       "    </tr>\n",
       "    <tr>\n",
       "      <th>103883</th>\n",
       "      <td>32609bbb3dd69b3c066a6860554a77bf</td>\n",
       "      <td>1</td>\n",
       "      <td>credit_card</td>\n",
       "      <td>1</td>\n",
       "      <td>47.77</td>\n",
       "    </tr>\n",
       "    <tr>\n",
       "      <th>103884</th>\n",
       "      <td>b8b61059626efa996a60be9bb9320e10</td>\n",
       "      <td>1</td>\n",
       "      <td>credit_card</td>\n",
       "      <td>5</td>\n",
       "      <td>369.54</td>\n",
       "    </tr>\n",
       "    <tr>\n",
       "      <th>103885</th>\n",
       "      <td>28bbae6599b09d39ca406b747b6632b1</td>\n",
       "      <td>1</td>\n",
       "      <td>boleto</td>\n",
       "      <td>1</td>\n",
       "      <td>191.58</td>\n",
       "    </tr>\n",
       "  </tbody>\n",
       "</table>\n",
       "</div>"
      ],
      "text/plain": [
       "                                order_id  payment_sequential payment_type  \\\n",
       "103881  0406037ad97740d563a178ecc7a2075c                   1       boleto   \n",
       "103882  7b905861d7c825891d6347454ea7863f                   1  credit_card   \n",
       "103883  32609bbb3dd69b3c066a6860554a77bf                   1  credit_card   \n",
       "103884  b8b61059626efa996a60be9bb9320e10                   1  credit_card   \n",
       "103885  28bbae6599b09d39ca406b747b6632b1                   1       boleto   \n",
       "\n",
       "        payment_installments  payment_value  \n",
       "103881                     1         363.31  \n",
       "103882                     2          96.80  \n",
       "103883                     1          47.77  \n",
       "103884                     5         369.54  \n",
       "103885                     1         191.58  "
      ]
     },
     "execution_count": 5,
     "metadata": {},
     "output_type": "execute_result"
    }
   ],
   "source": [
    "df.tail()"
   ]
  },
  {
   "cell_type": "code",
   "execution_count": 6,
   "id": "638bf2c2",
   "metadata": {},
   "outputs": [
    {
     "data": {
      "text/plain": [
       "Index(['order_id', 'payment_sequential', 'payment_type',\n",
       "       'payment_installments', 'payment_value'],\n",
       "      dtype='object')"
      ]
     },
     "execution_count": 6,
     "metadata": {},
     "output_type": "execute_result"
    }
   ],
   "source": [
    "df.columns"
   ]
  },
  {
   "cell_type": "code",
   "execution_count": 7,
   "id": "64f9bc7b",
   "metadata": {},
   "outputs": [
    {
     "name": "stdout",
     "output_type": "stream",
     "text": [
      "<class 'pandas.core.frame.DataFrame'>\n",
      "RangeIndex: 103886 entries, 0 to 103885\n",
      "Data columns (total 5 columns):\n",
      " #   Column                Non-Null Count   Dtype  \n",
      "---  ------                --------------   -----  \n",
      " 0   order_id              103886 non-null  object \n",
      " 1   payment_sequential    103886 non-null  int64  \n",
      " 2   payment_type          103886 non-null  object \n",
      " 3   payment_installments  103886 non-null  int64  \n",
      " 4   payment_value         103886 non-null  float64\n",
      "dtypes: float64(1), int64(2), object(2)\n",
      "memory usage: 4.0+ MB\n"
     ]
    }
   ],
   "source": [
    "df.info()"
   ]
  },
  {
   "cell_type": "code",
   "execution_count": 8,
   "id": "8f500e3c",
   "metadata": {},
   "outputs": [
    {
     "data": {
      "application/vnd.microsoft.datawrangler.viewer.v0+json": {
       "columns": [
        {
         "name": "index",
         "rawType": "object",
         "type": "string"
        },
        {
         "name": "payment_sequential",
         "rawType": "float64",
         "type": "float"
        },
        {
         "name": "payment_installments",
         "rawType": "float64",
         "type": "float"
        },
        {
         "name": "payment_value",
         "rawType": "float64",
         "type": "float"
        }
       ],
       "ref": "96f00532-f0a4-4d9c-b2d4-dcf5be085e7c",
       "rows": [
        [
         "count",
         "103886.0",
         "103886.0",
         "103886.0"
        ],
        [
         "mean",
         "1.0926785129853878",
         "2.853348863176944",
         "154.10038041699553"
        ],
        [
         "std",
         "0.7065837791945014",
         "2.6870506738557367",
         "217.49406386472577"
        ],
        [
         "min",
         "1.0",
         "0.0",
         "0.0"
        ],
        [
         "25%",
         "1.0",
         "1.0",
         "56.79"
        ],
        [
         "50%",
         "1.0",
         "1.0",
         "100.0"
        ],
        [
         "75%",
         "1.0",
         "4.0",
         "171.8375"
        ],
        [
         "max",
         "29.0",
         "24.0",
         "13664.08"
        ]
       ],
       "shape": {
        "columns": 3,
        "rows": 8
       }
      },
      "text/html": [
       "<div>\n",
       "<style scoped>\n",
       "    .dataframe tbody tr th:only-of-type {\n",
       "        vertical-align: middle;\n",
       "    }\n",
       "\n",
       "    .dataframe tbody tr th {\n",
       "        vertical-align: top;\n",
       "    }\n",
       "\n",
       "    .dataframe thead th {\n",
       "        text-align: right;\n",
       "    }\n",
       "</style>\n",
       "<table border=\"1\" class=\"dataframe\">\n",
       "  <thead>\n",
       "    <tr style=\"text-align: right;\">\n",
       "      <th></th>\n",
       "      <th>payment_sequential</th>\n",
       "      <th>payment_installments</th>\n",
       "      <th>payment_value</th>\n",
       "    </tr>\n",
       "  </thead>\n",
       "  <tbody>\n",
       "    <tr>\n",
       "      <th>count</th>\n",
       "      <td>103886.000000</td>\n",
       "      <td>103886.000000</td>\n",
       "      <td>103886.000000</td>\n",
       "    </tr>\n",
       "    <tr>\n",
       "      <th>mean</th>\n",
       "      <td>1.092679</td>\n",
       "      <td>2.853349</td>\n",
       "      <td>154.100380</td>\n",
       "    </tr>\n",
       "    <tr>\n",
       "      <th>std</th>\n",
       "      <td>0.706584</td>\n",
       "      <td>2.687051</td>\n",
       "      <td>217.494064</td>\n",
       "    </tr>\n",
       "    <tr>\n",
       "      <th>min</th>\n",
       "      <td>1.000000</td>\n",
       "      <td>0.000000</td>\n",
       "      <td>0.000000</td>\n",
       "    </tr>\n",
       "    <tr>\n",
       "      <th>25%</th>\n",
       "      <td>1.000000</td>\n",
       "      <td>1.000000</td>\n",
       "      <td>56.790000</td>\n",
       "    </tr>\n",
       "    <tr>\n",
       "      <th>50%</th>\n",
       "      <td>1.000000</td>\n",
       "      <td>1.000000</td>\n",
       "      <td>100.000000</td>\n",
       "    </tr>\n",
       "    <tr>\n",
       "      <th>75%</th>\n",
       "      <td>1.000000</td>\n",
       "      <td>4.000000</td>\n",
       "      <td>171.837500</td>\n",
       "    </tr>\n",
       "    <tr>\n",
       "      <th>max</th>\n",
       "      <td>29.000000</td>\n",
       "      <td>24.000000</td>\n",
       "      <td>13664.080000</td>\n",
       "    </tr>\n",
       "  </tbody>\n",
       "</table>\n",
       "</div>"
      ],
      "text/plain": [
       "       payment_sequential  payment_installments  payment_value\n",
       "count       103886.000000         103886.000000  103886.000000\n",
       "mean             1.092679              2.853349     154.100380\n",
       "std              0.706584              2.687051     217.494064\n",
       "min              1.000000              0.000000       0.000000\n",
       "25%              1.000000              1.000000      56.790000\n",
       "50%              1.000000              1.000000     100.000000\n",
       "75%              1.000000              4.000000     171.837500\n",
       "max             29.000000             24.000000   13664.080000"
      ]
     },
     "execution_count": 8,
     "metadata": {},
     "output_type": "execute_result"
    }
   ],
   "source": [
    "df.describe()"
   ]
  },
  {
   "cell_type": "code",
   "execution_count": 9,
   "id": "75b58321",
   "metadata": {},
   "outputs": [
    {
     "data": {
      "text/plain": [
       "numpy.float64"
      ]
     },
     "execution_count": 9,
     "metadata": {},
     "output_type": "execute_result"
    }
   ],
   "source": [
    "type(df[\"payment_value\"][1])#checking the datatype of the columns\n"
   ]
  },
  {
   "cell_type": "code",
   "execution_count": 10,
   "id": "0fd83174",
   "metadata": {},
   "outputs": [
    {
     "data": {
      "text/plain": [
       "np.int64(0)"
      ]
     },
     "execution_count": 10,
     "metadata": {},
     "output_type": "execute_result"
    }
   ],
   "source": [
    "df.duplicated().sum()#checking for duplicate values"
   ]
  },
  {
   "cell_type": "code",
   "execution_count": 11,
   "id": "0db8c26d",
   "metadata": {},
   "outputs": [
    {
     "data": {
      "application/vnd.microsoft.datawrangler.viewer.v0+json": {
       "columns": [
        {
         "name": "index",
         "rawType": "object",
         "type": "string"
        },
        {
         "name": "0",
         "rawType": "int64",
         "type": "integer"
        }
       ],
       "ref": "a0cb6fee-efdb-45a1-b5fc-1d228a3c4de6",
       "rows": [
        [
         "order_id",
         "0"
        ],
        [
         "payment_sequential",
         "0"
        ],
        [
         "payment_type",
         "0"
        ],
        [
         "payment_installments",
         "0"
        ],
        [
         "payment_value",
         "0"
        ]
       ],
       "shape": {
        "columns": 1,
        "rows": 5
       }
      },
      "text/plain": [
       "order_id                0\n",
       "payment_sequential      0\n",
       "payment_type            0\n",
       "payment_installments    0\n",
       "payment_value           0\n",
       "dtype: int64"
      ]
     },
     "execution_count": 11,
     "metadata": {},
     "output_type": "execute_result"
    }
   ],
   "source": [
    "df.isnull().sum()#checking for null values"
   ]
  },
  {
   "cell_type": "code",
   "execution_count": 12,
   "id": "8d0b72bf",
   "metadata": {},
   "outputs": [],
   "source": [
    "df['payment_type'] = df['payment_type'].str.title()"
   ]
  },
  {
   "cell_type": "code",
   "execution_count": 13,
   "id": "97160274",
   "metadata": {},
   "outputs": [
    {
     "data": {
      "application/vnd.microsoft.datawrangler.viewer.v0+json": {
       "columns": [
        {
         "name": "index",
         "rawType": "int64",
         "type": "integer"
        },
        {
         "name": "order_id",
         "rawType": "object",
         "type": "string"
        },
        {
         "name": "payment_sequential",
         "rawType": "int64",
         "type": "integer"
        },
        {
         "name": "payment_type",
         "rawType": "object",
         "type": "string"
        },
        {
         "name": "payment_installments",
         "rawType": "int64",
         "type": "integer"
        },
        {
         "name": "payment_value",
         "rawType": "float64",
         "type": "float"
        }
       ],
       "ref": "e74b0857-1c1c-4200-85f5-bbaefe5ef160",
       "rows": [
        [
         "0",
         "b81ef226f3fe1789b1e8b2acac839d17",
         "1",
         "Credit_Card",
         "8",
         "99.33"
        ],
        [
         "1",
         "a9810da82917af2d9aefd1278f1dcfa0",
         "1",
         "Credit_Card",
         "1",
         "24.39"
        ],
        [
         "2",
         "25e8ea4e93396b6fa0d3dd708e76c1bd",
         "1",
         "Credit_Card",
         "1",
         "65.71"
        ],
        [
         "3",
         "ba78997921bbcdc1373bb41e913ab953",
         "1",
         "Credit_Card",
         "8",
         "107.78"
        ],
        [
         "4",
         "42fdf880ba16b47b59251dd489d4441a",
         "1",
         "Credit_Card",
         "2",
         "128.45"
        ],
        [
         "5",
         "298fcdf1f73eb413e4d26d01b25bc1cd",
         "1",
         "Credit_Card",
         "2",
         "96.12"
        ],
        [
         "6",
         "771ee386b001f06208a7419e4fc1bbd7",
         "1",
         "Credit_Card",
         "1",
         "81.16"
        ],
        [
         "7",
         "3d7239c394a212faae122962df514ac7",
         "1",
         "Credit_Card",
         "3",
         "51.84"
        ],
        [
         "8",
         "1f78449c87a54faf9e96e88ba1491fa9",
         "1",
         "Credit_Card",
         "6",
         "341.09"
        ],
        [
         "9",
         "0573b5e23cbd798006520e1d5b4c6714",
         "1",
         "Boleto",
         "1",
         "51.95"
        ],
        [
         "10",
         "d88e0d5fa41661ce03cf6cf336527646",
         "1",
         "Credit_Card",
         "8",
         "188.73"
        ],
        [
         "11",
         "2480f727e869fdeb397244a21b721b67",
         "1",
         "Credit_Card",
         "1",
         "141.9"
        ],
        [
         "12",
         "616105c9352a9668c38303ad44e056cd",
         "1",
         "Credit_Card",
         "1",
         "75.78"
        ],
        [
         "13",
         "cf95215a722f3ebf29e6bbab87a29e61",
         "1",
         "Credit_Card",
         "5",
         "102.66"
        ],
        [
         "14",
         "769214176682788a92801d8907fa1b40",
         "1",
         "Credit_Card",
         "4",
         "105.28"
        ],
        [
         "15",
         "12e5cfe0e4716b59afb0e0f4a3bd6570",
         "1",
         "Credit_Card",
         "10",
         "157.45"
        ],
        [
         "16",
         "61059985a6fc0ad64e95d9944caacdad",
         "1",
         "Credit_Card",
         "1",
         "132.04"
        ],
        [
         "17",
         "79da3f5fe31ad1e454f06f95dc032ad5",
         "1",
         "Credit_Card",
         "1",
         "98.94"
        ],
        [
         "18",
         "8ac09207f415d55acff302df7d6a895c",
         "1",
         "Credit_Card",
         "4",
         "244.15"
        ],
        [
         "19",
         "b2349a3f20dfbeef62e7b31baa22f84b",
         "1",
         "Credit_Card",
         "3",
         "136.71"
        ],
        [
         "20",
         "5a1f6d22f7dfb061ef29216b9af687a1",
         "1",
         "Credit_Card",
         "4",
         "47.69"
        ],
        [
         "21",
         "4214cda550ece8ee66441f459dc33a8c",
         "1",
         "Credit_Card",
         "2",
         "170.57"
        ],
        [
         "22",
         "adfbf6c2a620196f9a3ec747491c72b7",
         "1",
         "Credit_Card",
         "4",
         "67.5"
        ],
        [
         "23",
         "4d680edbaa7d3d9bed69532957368a03",
         "1",
         "Credit_Card",
         "10",
         "353.09"
        ],
        [
         "24",
         "8cd68144cdb62dc0d60848cf8616d2a4",
         "1",
         "Boleto",
         "1",
         "330.66"
        ],
        [
         "25",
         "5cfd514482e22bc992e7693f0e3e8df7",
         "2",
         "Voucher",
         "1",
         "45.17"
        ],
        [
         "26",
         "d0a945f85ba1074b60aac97ade7e240e",
         "1",
         "Credit_Card",
         "2",
         "541.0"
        ],
        [
         "27",
         "c39414c195d0f94c9d9c35e7c6ed4f1a",
         "1",
         "Credit_Card",
         "2",
         "139.22"
        ],
        [
         "28",
         "5d9c5817e278892b7498d90bfa28ade8",
         "1",
         "Credit_Card",
         "2",
         "290.16"
        ],
        [
         "29",
         "b69b9260e79a0da00e15f48de1bd2524",
         "1",
         "Boleto",
         "1",
         "283.34"
        ],
        [
         "30",
         "f45074ae38f2e01d9b854ec8d40362ff",
         "1",
         "Credit_Card",
         "1",
         "13.78"
        ],
        [
         "31",
         "81cedc4d2132eb6f512354166e51b187",
         "1",
         "Credit_Card",
         "1",
         "30.28"
        ],
        [
         "32",
         "595f598849d89203c28d05d0fbf3f92e",
         "1",
         "Credit_Card",
         "1",
         "26.58"
        ],
        [
         "33",
         "f9d0ec2fa088ac583e1ccd15b6686073",
         "1",
         "Credit_Card",
         "1",
         "89.68"
        ],
        [
         "34",
         "e647bf617de735448a4ba54f8910393c",
         "1",
         "Credit_Card",
         "1",
         "65.09"
        ],
        [
         "35",
         "b2bb080b6bc860118a246fd9b6fad6da",
         "1",
         "Credit_Card",
         "1",
         "173.84"
        ],
        [
         "36",
         "23f10f509600c30cf2852f9dbdf28fc3",
         "1",
         "Credit_Card",
         "1",
         "103.49"
        ],
        [
         "37",
         "f86f6472fa9f395d8d9a6751ca118afb",
         "1",
         "Credit_Card",
         "1",
         "64.03"
        ],
        [
         "38",
         "1dcf0c8cd36ffaf57784fbdc90079310",
         "1",
         "Credit_Card",
         "3",
         "157.15"
        ],
        [
         "39",
         "00d8d65b666158b633f96054d31af43b",
         "1",
         "Boleto",
         "1",
         "130.88"
        ],
        [
         "40",
         "cf30fe76d1505192acee1c6dccb15545",
         "1",
         "Credit_Card",
         "2",
         "47.72"
        ],
        [
         "41",
         "d3e774a185c0b1b2286ffd6c70abe2e6",
         "1",
         "Credit_Card",
         "8",
         "117.74"
        ],
        [
         "42",
         "32b1d8f3789a57f1f752e20ac7404b4c",
         "1",
         "Boleto",
         "1",
         "56.6"
        ],
        [
         "43",
         "c10d412026c4077b8e83acf0fea04eee",
         "1",
         "Credit_Card",
         "1",
         "266.16"
        ],
        [
         "44",
         "56c3277583e16009c925fdf116df420f",
         "1",
         "Boleto",
         "1",
         "31.38"
        ],
        [
         "45",
         "0e0441786430b7cfcd0d91f822ea4c99",
         "1",
         "Credit_Card",
         "1",
         "121.49"
        ],
        [
         "46",
         "6ffb3f1686bceae3466facf7e02ce3fb",
         "1",
         "Credit_Card",
         "1",
         "32.0"
        ],
        [
         "47",
         "afef48d3c8a0b1b7c9b7f8f922fb5674",
         "1",
         "Credit_Card",
         "5",
         "153.41"
        ],
        [
         "48",
         "c0db7d31ace61fc360a3eaa34dd3457c",
         "1",
         "Credit_Card",
         "5",
         "65.71"
        ],
        [
         "49",
         "d574338f566ca28dd67820f48ec1f1d8",
         "1",
         "Credit_Card",
         "4",
         "278.22"
        ]
       ],
       "shape": {
        "columns": 5,
        "rows": 103886
       }
      },
      "text/html": [
       "<div>\n",
       "<style scoped>\n",
       "    .dataframe tbody tr th:only-of-type {\n",
       "        vertical-align: middle;\n",
       "    }\n",
       "\n",
       "    .dataframe tbody tr th {\n",
       "        vertical-align: top;\n",
       "    }\n",
       "\n",
       "    .dataframe thead th {\n",
       "        text-align: right;\n",
       "    }\n",
       "</style>\n",
       "<table border=\"1\" class=\"dataframe\">\n",
       "  <thead>\n",
       "    <tr style=\"text-align: right;\">\n",
       "      <th></th>\n",
       "      <th>order_id</th>\n",
       "      <th>payment_sequential</th>\n",
       "      <th>payment_type</th>\n",
       "      <th>payment_installments</th>\n",
       "      <th>payment_value</th>\n",
       "    </tr>\n",
       "  </thead>\n",
       "  <tbody>\n",
       "    <tr>\n",
       "      <th>0</th>\n",
       "      <td>b81ef226f3fe1789b1e8b2acac839d17</td>\n",
       "      <td>1</td>\n",
       "      <td>Credit_Card</td>\n",
       "      <td>8</td>\n",
       "      <td>99.33</td>\n",
       "    </tr>\n",
       "    <tr>\n",
       "      <th>1</th>\n",
       "      <td>a9810da82917af2d9aefd1278f1dcfa0</td>\n",
       "      <td>1</td>\n",
       "      <td>Credit_Card</td>\n",
       "      <td>1</td>\n",
       "      <td>24.39</td>\n",
       "    </tr>\n",
       "    <tr>\n",
       "      <th>2</th>\n",
       "      <td>25e8ea4e93396b6fa0d3dd708e76c1bd</td>\n",
       "      <td>1</td>\n",
       "      <td>Credit_Card</td>\n",
       "      <td>1</td>\n",
       "      <td>65.71</td>\n",
       "    </tr>\n",
       "    <tr>\n",
       "      <th>3</th>\n",
       "      <td>ba78997921bbcdc1373bb41e913ab953</td>\n",
       "      <td>1</td>\n",
       "      <td>Credit_Card</td>\n",
       "      <td>8</td>\n",
       "      <td>107.78</td>\n",
       "    </tr>\n",
       "    <tr>\n",
       "      <th>4</th>\n",
       "      <td>42fdf880ba16b47b59251dd489d4441a</td>\n",
       "      <td>1</td>\n",
       "      <td>Credit_Card</td>\n",
       "      <td>2</td>\n",
       "      <td>128.45</td>\n",
       "    </tr>\n",
       "    <tr>\n",
       "      <th>...</th>\n",
       "      <td>...</td>\n",
       "      <td>...</td>\n",
       "      <td>...</td>\n",
       "      <td>...</td>\n",
       "      <td>...</td>\n",
       "    </tr>\n",
       "    <tr>\n",
       "      <th>103881</th>\n",
       "      <td>0406037ad97740d563a178ecc7a2075c</td>\n",
       "      <td>1</td>\n",
       "      <td>Boleto</td>\n",
       "      <td>1</td>\n",
       "      <td>363.31</td>\n",
       "    </tr>\n",
       "    <tr>\n",
       "      <th>103882</th>\n",
       "      <td>7b905861d7c825891d6347454ea7863f</td>\n",
       "      <td>1</td>\n",
       "      <td>Credit_Card</td>\n",
       "      <td>2</td>\n",
       "      <td>96.80</td>\n",
       "    </tr>\n",
       "    <tr>\n",
       "      <th>103883</th>\n",
       "      <td>32609bbb3dd69b3c066a6860554a77bf</td>\n",
       "      <td>1</td>\n",
       "      <td>Credit_Card</td>\n",
       "      <td>1</td>\n",
       "      <td>47.77</td>\n",
       "    </tr>\n",
       "    <tr>\n",
       "      <th>103884</th>\n",
       "      <td>b8b61059626efa996a60be9bb9320e10</td>\n",
       "      <td>1</td>\n",
       "      <td>Credit_Card</td>\n",
       "      <td>5</td>\n",
       "      <td>369.54</td>\n",
       "    </tr>\n",
       "    <tr>\n",
       "      <th>103885</th>\n",
       "      <td>28bbae6599b09d39ca406b747b6632b1</td>\n",
       "      <td>1</td>\n",
       "      <td>Boleto</td>\n",
       "      <td>1</td>\n",
       "      <td>191.58</td>\n",
       "    </tr>\n",
       "  </tbody>\n",
       "</table>\n",
       "<p>103886 rows × 5 columns</p>\n",
       "</div>"
      ],
      "text/plain": [
       "                                order_id  payment_sequential payment_type  \\\n",
       "0       b81ef226f3fe1789b1e8b2acac839d17                   1  Credit_Card   \n",
       "1       a9810da82917af2d9aefd1278f1dcfa0                   1  Credit_Card   \n",
       "2       25e8ea4e93396b6fa0d3dd708e76c1bd                   1  Credit_Card   \n",
       "3       ba78997921bbcdc1373bb41e913ab953                   1  Credit_Card   \n",
       "4       42fdf880ba16b47b59251dd489d4441a                   1  Credit_Card   \n",
       "...                                  ...                 ...          ...   \n",
       "103881  0406037ad97740d563a178ecc7a2075c                   1       Boleto   \n",
       "103882  7b905861d7c825891d6347454ea7863f                   1  Credit_Card   \n",
       "103883  32609bbb3dd69b3c066a6860554a77bf                   1  Credit_Card   \n",
       "103884  b8b61059626efa996a60be9bb9320e10                   1  Credit_Card   \n",
       "103885  28bbae6599b09d39ca406b747b6632b1                   1       Boleto   \n",
       "\n",
       "        payment_installments  payment_value  \n",
       "0                          8          99.33  \n",
       "1                          1          24.39  \n",
       "2                          1          65.71  \n",
       "3                          8         107.78  \n",
       "4                          2         128.45  \n",
       "...                      ...            ...  \n",
       "103881                     1         363.31  \n",
       "103882                     2          96.80  \n",
       "103883                     1          47.77  \n",
       "103884                     5         369.54  \n",
       "103885                     1         191.58  \n",
       "\n",
       "[103886 rows x 5 columns]"
      ]
     },
     "execution_count": 13,
     "metadata": {},
     "output_type": "execute_result"
    }
   ],
   "source": [
    "df"
   ]
  },
  {
   "cell_type": "code",
   "execution_count": 14,
   "id": "7612b108",
   "metadata": {},
   "outputs": [],
   "source": [
    "df.to_csv(r'C:\\DE\\csv files data\\Brazilian E-Commerce\\Cleanedolist_order_payments_dataset.csv',index=False)"
   ]
  },
  {
   "cell_type": "code",
   "execution_count": 15,
   "id": "2ff8a3bf",
   "metadata": {},
   "outputs": [],
   "source": [
    "df2=pd.read_csv(r'C:\\DE\\csv files data\\Brazilian E-Commerce\\Cleanedolist_order_payments_dataset.csv')"
   ]
  },
  {
   "cell_type": "code",
   "execution_count": 16,
   "id": "db2182aa",
   "metadata": {},
   "outputs": [
    {
     "data": {
      "application/vnd.microsoft.datawrangler.viewer.v0+json": {
       "columns": [
        {
         "name": "index",
         "rawType": "int64",
         "type": "integer"
        },
        {
         "name": "order_id",
         "rawType": "object",
         "type": "string"
        },
        {
         "name": "payment_sequential",
         "rawType": "int64",
         "type": "integer"
        },
        {
         "name": "payment_type",
         "rawType": "object",
         "type": "string"
        },
        {
         "name": "payment_installments",
         "rawType": "int64",
         "type": "integer"
        },
        {
         "name": "payment_value",
         "rawType": "float64",
         "type": "float"
        }
       ],
       "ref": "df0fb3d8-88d6-4b0e-81e4-c9d211591857",
       "rows": [
        [
         "0",
         "b81ef226f3fe1789b1e8b2acac839d17",
         "1",
         "Credit_Card",
         "8",
         "99.33"
        ],
        [
         "1",
         "a9810da82917af2d9aefd1278f1dcfa0",
         "1",
         "Credit_Card",
         "1",
         "24.39"
        ],
        [
         "2",
         "25e8ea4e93396b6fa0d3dd708e76c1bd",
         "1",
         "Credit_Card",
         "1",
         "65.71"
        ],
        [
         "3",
         "ba78997921bbcdc1373bb41e913ab953",
         "1",
         "Credit_Card",
         "8",
         "107.78"
        ],
        [
         "4",
         "42fdf880ba16b47b59251dd489d4441a",
         "1",
         "Credit_Card",
         "2",
         "128.45"
        ],
        [
         "5",
         "298fcdf1f73eb413e4d26d01b25bc1cd",
         "1",
         "Credit_Card",
         "2",
         "96.12"
        ],
        [
         "6",
         "771ee386b001f06208a7419e4fc1bbd7",
         "1",
         "Credit_Card",
         "1",
         "81.16"
        ],
        [
         "7",
         "3d7239c394a212faae122962df514ac7",
         "1",
         "Credit_Card",
         "3",
         "51.84"
        ],
        [
         "8",
         "1f78449c87a54faf9e96e88ba1491fa9",
         "1",
         "Credit_Card",
         "6",
         "341.09"
        ],
        [
         "9",
         "0573b5e23cbd798006520e1d5b4c6714",
         "1",
         "Boleto",
         "1",
         "51.95"
        ],
        [
         "10",
         "d88e0d5fa41661ce03cf6cf336527646",
         "1",
         "Credit_Card",
         "8",
         "188.73"
        ],
        [
         "11",
         "2480f727e869fdeb397244a21b721b67",
         "1",
         "Credit_Card",
         "1",
         "141.9"
        ],
        [
         "12",
         "616105c9352a9668c38303ad44e056cd",
         "1",
         "Credit_Card",
         "1",
         "75.78"
        ],
        [
         "13",
         "cf95215a722f3ebf29e6bbab87a29e61",
         "1",
         "Credit_Card",
         "5",
         "102.66"
        ],
        [
         "14",
         "769214176682788a92801d8907fa1b40",
         "1",
         "Credit_Card",
         "4",
         "105.28"
        ],
        [
         "15",
         "12e5cfe0e4716b59afb0e0f4a3bd6570",
         "1",
         "Credit_Card",
         "10",
         "157.45"
        ],
        [
         "16",
         "61059985a6fc0ad64e95d9944caacdad",
         "1",
         "Credit_Card",
         "1",
         "132.04"
        ],
        [
         "17",
         "79da3f5fe31ad1e454f06f95dc032ad5",
         "1",
         "Credit_Card",
         "1",
         "98.94"
        ],
        [
         "18",
         "8ac09207f415d55acff302df7d6a895c",
         "1",
         "Credit_Card",
         "4",
         "244.15"
        ],
        [
         "19",
         "b2349a3f20dfbeef62e7b31baa22f84b",
         "1",
         "Credit_Card",
         "3",
         "136.71"
        ],
        [
         "20",
         "5a1f6d22f7dfb061ef29216b9af687a1",
         "1",
         "Credit_Card",
         "4",
         "47.69"
        ],
        [
         "21",
         "4214cda550ece8ee66441f459dc33a8c",
         "1",
         "Credit_Card",
         "2",
         "170.57"
        ],
        [
         "22",
         "adfbf6c2a620196f9a3ec747491c72b7",
         "1",
         "Credit_Card",
         "4",
         "67.5"
        ],
        [
         "23",
         "4d680edbaa7d3d9bed69532957368a03",
         "1",
         "Credit_Card",
         "10",
         "353.09"
        ],
        [
         "24",
         "8cd68144cdb62dc0d60848cf8616d2a4",
         "1",
         "Boleto",
         "1",
         "330.66"
        ],
        [
         "25",
         "5cfd514482e22bc992e7693f0e3e8df7",
         "2",
         "Voucher",
         "1",
         "45.17"
        ],
        [
         "26",
         "d0a945f85ba1074b60aac97ade7e240e",
         "1",
         "Credit_Card",
         "2",
         "541.0"
        ],
        [
         "27",
         "c39414c195d0f94c9d9c35e7c6ed4f1a",
         "1",
         "Credit_Card",
         "2",
         "139.22"
        ],
        [
         "28",
         "5d9c5817e278892b7498d90bfa28ade8",
         "1",
         "Credit_Card",
         "2",
         "290.16"
        ],
        [
         "29",
         "b69b9260e79a0da00e15f48de1bd2524",
         "1",
         "Boleto",
         "1",
         "283.34"
        ],
        [
         "30",
         "f45074ae38f2e01d9b854ec8d40362ff",
         "1",
         "Credit_Card",
         "1",
         "13.78"
        ],
        [
         "31",
         "81cedc4d2132eb6f512354166e51b187",
         "1",
         "Credit_Card",
         "1",
         "30.28"
        ],
        [
         "32",
         "595f598849d89203c28d05d0fbf3f92e",
         "1",
         "Credit_Card",
         "1",
         "26.58"
        ],
        [
         "33",
         "f9d0ec2fa088ac583e1ccd15b6686073",
         "1",
         "Credit_Card",
         "1",
         "89.68"
        ],
        [
         "34",
         "e647bf617de735448a4ba54f8910393c",
         "1",
         "Credit_Card",
         "1",
         "65.09"
        ],
        [
         "35",
         "b2bb080b6bc860118a246fd9b6fad6da",
         "1",
         "Credit_Card",
         "1",
         "173.84"
        ],
        [
         "36",
         "23f10f509600c30cf2852f9dbdf28fc3",
         "1",
         "Credit_Card",
         "1",
         "103.49"
        ],
        [
         "37",
         "f86f6472fa9f395d8d9a6751ca118afb",
         "1",
         "Credit_Card",
         "1",
         "64.03"
        ],
        [
         "38",
         "1dcf0c8cd36ffaf57784fbdc90079310",
         "1",
         "Credit_Card",
         "3",
         "157.15"
        ],
        [
         "39",
         "00d8d65b666158b633f96054d31af43b",
         "1",
         "Boleto",
         "1",
         "130.88"
        ],
        [
         "40",
         "cf30fe76d1505192acee1c6dccb15545",
         "1",
         "Credit_Card",
         "2",
         "47.72"
        ],
        [
         "41",
         "d3e774a185c0b1b2286ffd6c70abe2e6",
         "1",
         "Credit_Card",
         "8",
         "117.74"
        ],
        [
         "42",
         "32b1d8f3789a57f1f752e20ac7404b4c",
         "1",
         "Boleto",
         "1",
         "56.6"
        ],
        [
         "43",
         "c10d412026c4077b8e83acf0fea04eee",
         "1",
         "Credit_Card",
         "1",
         "266.16"
        ],
        [
         "44",
         "56c3277583e16009c925fdf116df420f",
         "1",
         "Boleto",
         "1",
         "31.38"
        ],
        [
         "45",
         "0e0441786430b7cfcd0d91f822ea4c99",
         "1",
         "Credit_Card",
         "1",
         "121.49"
        ],
        [
         "46",
         "6ffb3f1686bceae3466facf7e02ce3fb",
         "1",
         "Credit_Card",
         "1",
         "32.0"
        ],
        [
         "47",
         "afef48d3c8a0b1b7c9b7f8f922fb5674",
         "1",
         "Credit_Card",
         "5",
         "153.41"
        ],
        [
         "48",
         "c0db7d31ace61fc360a3eaa34dd3457c",
         "1",
         "Credit_Card",
         "5",
         "65.71"
        ],
        [
         "49",
         "d574338f566ca28dd67820f48ec1f1d8",
         "1",
         "Credit_Card",
         "4",
         "278.22"
        ]
       ],
       "shape": {
        "columns": 5,
        "rows": 103886
       }
      },
      "text/html": [
       "<div>\n",
       "<style scoped>\n",
       "    .dataframe tbody tr th:only-of-type {\n",
       "        vertical-align: middle;\n",
       "    }\n",
       "\n",
       "    .dataframe tbody tr th {\n",
       "        vertical-align: top;\n",
       "    }\n",
       "\n",
       "    .dataframe thead th {\n",
       "        text-align: right;\n",
       "    }\n",
       "</style>\n",
       "<table border=\"1\" class=\"dataframe\">\n",
       "  <thead>\n",
       "    <tr style=\"text-align: right;\">\n",
       "      <th></th>\n",
       "      <th>order_id</th>\n",
       "      <th>payment_sequential</th>\n",
       "      <th>payment_type</th>\n",
       "      <th>payment_installments</th>\n",
       "      <th>payment_value</th>\n",
       "    </tr>\n",
       "  </thead>\n",
       "  <tbody>\n",
       "    <tr>\n",
       "      <th>0</th>\n",
       "      <td>b81ef226f3fe1789b1e8b2acac839d17</td>\n",
       "      <td>1</td>\n",
       "      <td>Credit_Card</td>\n",
       "      <td>8</td>\n",
       "      <td>99.33</td>\n",
       "    </tr>\n",
       "    <tr>\n",
       "      <th>1</th>\n",
       "      <td>a9810da82917af2d9aefd1278f1dcfa0</td>\n",
       "      <td>1</td>\n",
       "      <td>Credit_Card</td>\n",
       "      <td>1</td>\n",
       "      <td>24.39</td>\n",
       "    </tr>\n",
       "    <tr>\n",
       "      <th>2</th>\n",
       "      <td>25e8ea4e93396b6fa0d3dd708e76c1bd</td>\n",
       "      <td>1</td>\n",
       "      <td>Credit_Card</td>\n",
       "      <td>1</td>\n",
       "      <td>65.71</td>\n",
       "    </tr>\n",
       "    <tr>\n",
       "      <th>3</th>\n",
       "      <td>ba78997921bbcdc1373bb41e913ab953</td>\n",
       "      <td>1</td>\n",
       "      <td>Credit_Card</td>\n",
       "      <td>8</td>\n",
       "      <td>107.78</td>\n",
       "    </tr>\n",
       "    <tr>\n",
       "      <th>4</th>\n",
       "      <td>42fdf880ba16b47b59251dd489d4441a</td>\n",
       "      <td>1</td>\n",
       "      <td>Credit_Card</td>\n",
       "      <td>2</td>\n",
       "      <td>128.45</td>\n",
       "    </tr>\n",
       "    <tr>\n",
       "      <th>...</th>\n",
       "      <td>...</td>\n",
       "      <td>...</td>\n",
       "      <td>...</td>\n",
       "      <td>...</td>\n",
       "      <td>...</td>\n",
       "    </tr>\n",
       "    <tr>\n",
       "      <th>103881</th>\n",
       "      <td>0406037ad97740d563a178ecc7a2075c</td>\n",
       "      <td>1</td>\n",
       "      <td>Boleto</td>\n",
       "      <td>1</td>\n",
       "      <td>363.31</td>\n",
       "    </tr>\n",
       "    <tr>\n",
       "      <th>103882</th>\n",
       "      <td>7b905861d7c825891d6347454ea7863f</td>\n",
       "      <td>1</td>\n",
       "      <td>Credit_Card</td>\n",
       "      <td>2</td>\n",
       "      <td>96.80</td>\n",
       "    </tr>\n",
       "    <tr>\n",
       "      <th>103883</th>\n",
       "      <td>32609bbb3dd69b3c066a6860554a77bf</td>\n",
       "      <td>1</td>\n",
       "      <td>Credit_Card</td>\n",
       "      <td>1</td>\n",
       "      <td>47.77</td>\n",
       "    </tr>\n",
       "    <tr>\n",
       "      <th>103884</th>\n",
       "      <td>b8b61059626efa996a60be9bb9320e10</td>\n",
       "      <td>1</td>\n",
       "      <td>Credit_Card</td>\n",
       "      <td>5</td>\n",
       "      <td>369.54</td>\n",
       "    </tr>\n",
       "    <tr>\n",
       "      <th>103885</th>\n",
       "      <td>28bbae6599b09d39ca406b747b6632b1</td>\n",
       "      <td>1</td>\n",
       "      <td>Boleto</td>\n",
       "      <td>1</td>\n",
       "      <td>191.58</td>\n",
       "    </tr>\n",
       "  </tbody>\n",
       "</table>\n",
       "<p>103886 rows × 5 columns</p>\n",
       "</div>"
      ],
      "text/plain": [
       "                                order_id  payment_sequential payment_type  \\\n",
       "0       b81ef226f3fe1789b1e8b2acac839d17                   1  Credit_Card   \n",
       "1       a9810da82917af2d9aefd1278f1dcfa0                   1  Credit_Card   \n",
       "2       25e8ea4e93396b6fa0d3dd708e76c1bd                   1  Credit_Card   \n",
       "3       ba78997921bbcdc1373bb41e913ab953                   1  Credit_Card   \n",
       "4       42fdf880ba16b47b59251dd489d4441a                   1  Credit_Card   \n",
       "...                                  ...                 ...          ...   \n",
       "103881  0406037ad97740d563a178ecc7a2075c                   1       Boleto   \n",
       "103882  7b905861d7c825891d6347454ea7863f                   1  Credit_Card   \n",
       "103883  32609bbb3dd69b3c066a6860554a77bf                   1  Credit_Card   \n",
       "103884  b8b61059626efa996a60be9bb9320e10                   1  Credit_Card   \n",
       "103885  28bbae6599b09d39ca406b747b6632b1                   1       Boleto   \n",
       "\n",
       "        payment_installments  payment_value  \n",
       "0                          8          99.33  \n",
       "1                          1          24.39  \n",
       "2                          1          65.71  \n",
       "3                          8         107.78  \n",
       "4                          2         128.45  \n",
       "...                      ...            ...  \n",
       "103881                     1         363.31  \n",
       "103882                     2          96.80  \n",
       "103883                     1          47.77  \n",
       "103884                     5         369.54  \n",
       "103885                     1         191.58  \n",
       "\n",
       "[103886 rows x 5 columns]"
      ]
     },
     "execution_count": 16,
     "metadata": {},
     "output_type": "execute_result"
    }
   ],
   "source": [
    "df2"
   ]
  }
 ],
 "metadata": {
  "kernelspec": {
   "display_name": "base",
   "language": "python",
   "name": "python3"
  },
  "language_info": {
   "codemirror_mode": {
    "name": "ipython",
    "version": 3
   },
   "file_extension": ".py",
   "mimetype": "text/x-python",
   "name": "python",
   "nbconvert_exporter": "python",
   "pygments_lexer": "ipython3",
   "version": "3.13.5"
  }
 },
 "nbformat": 4,
 "nbformat_minor": 5
}
